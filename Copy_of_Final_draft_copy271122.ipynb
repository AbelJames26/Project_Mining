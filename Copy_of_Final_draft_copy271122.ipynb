{
  "nbformat": 4,
  "nbformat_minor": 0,
  "metadata": {
    "colab": {
      "provenance": [],
      "include_colab_link": true
    },
    "kernelspec": {
      "name": "python3",
      "display_name": "Python 3"
    },
    "language_info": {
      "name": "python"
    }
  },
  "cells": [
    {
      "cell_type": "markdown",
      "metadata": {
        "id": "view-in-github",
        "colab_type": "text"
      },
      "source": [
        "<a href=\"https://colab.research.google.com/github/AbelJames26/Project_Mining/blob/main/Copy_of_Final_draft_copy271122.ipynb\" target=\"_parent\"><img src=\"https://colab.research.google.com/assets/colab-badge.svg\" alt=\"Open In Colab\"/></a>"
      ]
    },
    {
      "cell_type": "markdown",
      "source": [
        "**Import Libraries**"
      ],
      "metadata": {
        "id": "Ghl5pyYuTYct"
      }
    },
    {
      "cell_type": "code",
      "execution_count": null,
      "metadata": {
        "id": "PKPJWzO803eL",
        "outputId": "8ca408dc-d0bf-475f-dc31-53cae0e767bc",
        "colab": {
          "base_uri": "https://localhost:8080/"
        }
      },
      "outputs": [
        {
          "output_type": "stream",
          "name": "stdout",
          "text": [
            "2.9.2\n"
          ]
        }
      ],
      "source": [
        "import numpy as np\n",
        "import pandas as pd\n",
        "import scipy as sp\n",
        "import tensorflow as tf\n",
        "from tensorflow import keras\n",
        "from tensorflow.keras import layers\n",
        "\n",
        "\n",
        "from sklearn.model_selection import train_test_split\n",
        "from sklearn.preprocessing import StandardScaler\n",
        "import matplotlib.pyplot as plt\n",
        "\n",
        "#Tensor flow packages\n",
        "from tensorflow.keras.models import Sequential\n",
        "from tensorflow.keras.layers import * \n",
        "from tensorflow.keras.callbacks import ModelCheckpoint\n",
        "from tensorflow.keras.metrics import RootMeanSquaredError\n",
        "from tensorflow.keras.optimizers import Adam\n",
        "\n",
        "print(tf.__version__)"
      ]
    },
    {
      "cell_type": "markdown",
      "source": [
        "Keras Tuner libaries"
      ],
      "metadata": {
        "id": "68ID2u07gmm_"
      }
    },
    {
      "cell_type": "code",
      "source": [
        "!pip install keras-tuner -q\n",
        "import keras_tuner\n"
      ],
      "metadata": {
        "id": "gbaUDyWqgmRg",
        "outputId": "8c958235-9dea-4a46-e590-4ded4014dc63",
        "colab": {
          "base_uri": "https://localhost:8080/"
        }
      },
      "execution_count": null,
      "outputs": [
        {
          "output_type": "stream",
          "name": "stdout",
          "text": [
            "\u001b[K     |████████████████████████████████| 135 kB 4.0 MB/s \n",
            "\u001b[K     |████████████████████████████████| 1.6 MB 38.7 MB/s \n",
            "\u001b[?25h"
          ]
        }
      ]
    },
    {
      "cell_type": "markdown",
      "source": [
        "**Import Data Set**"
      ],
      "metadata": {
        "id": "1aF7-1FeTVVJ"
      }
    },
    {
      "cell_type": "code",
      "source": [
        "Path = \"/content/Data.csv\"\n",
        "df = pd.read_csv(Path)\n",
        "df.shape"
      ],
      "metadata": {
        "colab": {
          "base_uri": "https://localhost:8080/"
        },
        "id": "BtZKnAlqn_v3",
        "outputId": "d963a379-669e-43f5-a1b2-db383e4c50e9"
      },
      "execution_count": null,
      "outputs": [
        {
          "output_type": "execute_result",
          "data": {
            "text/plain": [
              "(904, 14)"
            ]
          },
          "metadata": {},
          "execution_count": 3
        }
      ]
    },
    {
      "cell_type": "markdown",
      "source": [
        "Visualize dataset"
      ],
      "metadata": {
        "id": "qRttaf5odS7W"
      }
    },
    {
      "cell_type": "code",
      "source": [
        "#Displaying the data\n",
        "df.head()"
      ],
      "metadata": {
        "colab": {
          "base_uri": "https://localhost:8080/",
          "height": 357
        },
        "id": "y6jWt2b_N9o4",
        "outputId": "619b44aa-e11e-4d87-fe4e-eafdcedcd368"
      },
      "execution_count": null,
      "outputs": [
        {
          "output_type": "execute_result",
          "data": {
            "text/plain": [
              "  COMMODITY   LATITUDE   LONGITUDE            SITE  RES_QTY_MILLION_TONNES  \\\n",
              "0      Gold -20.771948  122.201825  Anketell Shelf                   108.1   \n",
              "1      Gold -21.727803  122.640676  Anketell Shelf                    92.0   \n",
              "2      Gold -21.727803  122.640676  Anketell Shelf                    92.0   \n",
              "3      Gold -20.771948  122.201825  Anketell Shelf                   108.1   \n",
              "4      Gold -20.771948  122.201825  Anketell Shelf                   108.1   \n",
              "\n",
              "   RES_QTY_GRAM_TONNE  RES_CON_KILOGRAM  RV_QTY_million_tonnes  \\\n",
              "0            0.711064          76866.00                   23.0   \n",
              "1            0.235652            216.80                   25.0   \n",
              "2            1.857609         170900.00                   25.0   \n",
              "3            0.147234            159.16                   21.0   \n",
              "4            0.538936          58259.00                   25.0   \n",
              "\n",
              "   RV_QTY_G_GRAM_TONNE  POINT_SIZE_KILOGRAM        DATE  PRICE_USD  \\\n",
              "0                 0.44             76866.00   1/10/2022     1662.4   \n",
              "1                 0.44               326.80   8/10/2022     1700.5   \n",
              "2                 3.00            245900.00   8/10/2022     1700.5   \n",
              "3                 0.44               159.16   9/10/2022     1700.5   \n",
              "4                 3.00             58259.00  22/10/2022     1651.0   \n",
              "\n",
              "   MINERAL_LAND_VALUE_USD  COMM_CODE  \n",
              "0                 38235.2          1  \n",
              "1                 42512.5          1  \n",
              "2                 42512.5          1  \n",
              "3                 35710.5          1  \n",
              "4                 41275.0          1  "
            ],
            "text/html": [
              "\n",
              "  <div id=\"df-d2e0f2ef-a9e0-4d71-bfa0-7fa85c4e4f60\">\n",
              "    <div class=\"colab-df-container\">\n",
              "      <div>\n",
              "<style scoped>\n",
              "    .dataframe tbody tr th:only-of-type {\n",
              "        vertical-align: middle;\n",
              "    }\n",
              "\n",
              "    .dataframe tbody tr th {\n",
              "        vertical-align: top;\n",
              "    }\n",
              "\n",
              "    .dataframe thead th {\n",
              "        text-align: right;\n",
              "    }\n",
              "</style>\n",
              "<table border=\"1\" class=\"dataframe\">\n",
              "  <thead>\n",
              "    <tr style=\"text-align: right;\">\n",
              "      <th></th>\n",
              "      <th>COMMODITY</th>\n",
              "      <th>LATITUDE</th>\n",
              "      <th>LONGITUDE</th>\n",
              "      <th>SITE</th>\n",
              "      <th>RES_QTY_MILLION_TONNES</th>\n",
              "      <th>RES_QTY_GRAM_TONNE</th>\n",
              "      <th>RES_CON_KILOGRAM</th>\n",
              "      <th>RV_QTY_million_tonnes</th>\n",
              "      <th>RV_QTY_G_GRAM_TONNE</th>\n",
              "      <th>POINT_SIZE_KILOGRAM</th>\n",
              "      <th>DATE</th>\n",
              "      <th>PRICE_USD</th>\n",
              "      <th>MINERAL_LAND_VALUE_USD</th>\n",
              "      <th>COMM_CODE</th>\n",
              "    </tr>\n",
              "  </thead>\n",
              "  <tbody>\n",
              "    <tr>\n",
              "      <th>0</th>\n",
              "      <td>Gold</td>\n",
              "      <td>-20.771948</td>\n",
              "      <td>122.201825</td>\n",
              "      <td>Anketell Shelf</td>\n",
              "      <td>108.1</td>\n",
              "      <td>0.711064</td>\n",
              "      <td>76866.00</td>\n",
              "      <td>23.0</td>\n",
              "      <td>0.44</td>\n",
              "      <td>76866.00</td>\n",
              "      <td>1/10/2022</td>\n",
              "      <td>1662.4</td>\n",
              "      <td>38235.2</td>\n",
              "      <td>1</td>\n",
              "    </tr>\n",
              "    <tr>\n",
              "      <th>1</th>\n",
              "      <td>Gold</td>\n",
              "      <td>-21.727803</td>\n",
              "      <td>122.640676</td>\n",
              "      <td>Anketell Shelf</td>\n",
              "      <td>92.0</td>\n",
              "      <td>0.235652</td>\n",
              "      <td>216.80</td>\n",
              "      <td>25.0</td>\n",
              "      <td>0.44</td>\n",
              "      <td>326.80</td>\n",
              "      <td>8/10/2022</td>\n",
              "      <td>1700.5</td>\n",
              "      <td>42512.5</td>\n",
              "      <td>1</td>\n",
              "    </tr>\n",
              "    <tr>\n",
              "      <th>2</th>\n",
              "      <td>Gold</td>\n",
              "      <td>-21.727803</td>\n",
              "      <td>122.640676</td>\n",
              "      <td>Anketell Shelf</td>\n",
              "      <td>92.0</td>\n",
              "      <td>1.857609</td>\n",
              "      <td>170900.00</td>\n",
              "      <td>25.0</td>\n",
              "      <td>3.00</td>\n",
              "      <td>245900.00</td>\n",
              "      <td>8/10/2022</td>\n",
              "      <td>1700.5</td>\n",
              "      <td>42512.5</td>\n",
              "      <td>1</td>\n",
              "    </tr>\n",
              "    <tr>\n",
              "      <th>3</th>\n",
              "      <td>Gold</td>\n",
              "      <td>-20.771948</td>\n",
              "      <td>122.201825</td>\n",
              "      <td>Anketell Shelf</td>\n",
              "      <td>108.1</td>\n",
              "      <td>0.147234</td>\n",
              "      <td>159.16</td>\n",
              "      <td>21.0</td>\n",
              "      <td>0.44</td>\n",
              "      <td>159.16</td>\n",
              "      <td>9/10/2022</td>\n",
              "      <td>1700.5</td>\n",
              "      <td>35710.5</td>\n",
              "      <td>1</td>\n",
              "    </tr>\n",
              "    <tr>\n",
              "      <th>4</th>\n",
              "      <td>Gold</td>\n",
              "      <td>-20.771948</td>\n",
              "      <td>122.201825</td>\n",
              "      <td>Anketell Shelf</td>\n",
              "      <td>108.1</td>\n",
              "      <td>0.538936</td>\n",
              "      <td>58259.00</td>\n",
              "      <td>25.0</td>\n",
              "      <td>3.00</td>\n",
              "      <td>58259.00</td>\n",
              "      <td>22/10/2022</td>\n",
              "      <td>1651.0</td>\n",
              "      <td>41275.0</td>\n",
              "      <td>1</td>\n",
              "    </tr>\n",
              "  </tbody>\n",
              "</table>\n",
              "</div>\n",
              "      <button class=\"colab-df-convert\" onclick=\"convertToInteractive('df-d2e0f2ef-a9e0-4d71-bfa0-7fa85c4e4f60')\"\n",
              "              title=\"Convert this dataframe to an interactive table.\"\n",
              "              style=\"display:none;\">\n",
              "        \n",
              "  <svg xmlns=\"http://www.w3.org/2000/svg\" height=\"24px\"viewBox=\"0 0 24 24\"\n",
              "       width=\"24px\">\n",
              "    <path d=\"M0 0h24v24H0V0z\" fill=\"none\"/>\n",
              "    <path d=\"M18.56 5.44l.94 2.06.94-2.06 2.06-.94-2.06-.94-.94-2.06-.94 2.06-2.06.94zm-11 1L8.5 8.5l.94-2.06 2.06-.94-2.06-.94L8.5 2.5l-.94 2.06-2.06.94zm10 10l.94 2.06.94-2.06 2.06-.94-2.06-.94-.94-2.06-.94 2.06-2.06.94z\"/><path d=\"M17.41 7.96l-1.37-1.37c-.4-.4-.92-.59-1.43-.59-.52 0-1.04.2-1.43.59L10.3 9.45l-7.72 7.72c-.78.78-.78 2.05 0 2.83L4 21.41c.39.39.9.59 1.41.59.51 0 1.02-.2 1.41-.59l7.78-7.78 2.81-2.81c.8-.78.8-2.07 0-2.86zM5.41 20L4 18.59l7.72-7.72 1.47 1.35L5.41 20z\"/>\n",
              "  </svg>\n",
              "      </button>\n",
              "      \n",
              "  <style>\n",
              "    .colab-df-container {\n",
              "      display:flex;\n",
              "      flex-wrap:wrap;\n",
              "      gap: 12px;\n",
              "    }\n",
              "\n",
              "    .colab-df-convert {\n",
              "      background-color: #E8F0FE;\n",
              "      border: none;\n",
              "      border-radius: 50%;\n",
              "      cursor: pointer;\n",
              "      display: none;\n",
              "      fill: #1967D2;\n",
              "      height: 32px;\n",
              "      padding: 0 0 0 0;\n",
              "      width: 32px;\n",
              "    }\n",
              "\n",
              "    .colab-df-convert:hover {\n",
              "      background-color: #E2EBFA;\n",
              "      box-shadow: 0px 1px 2px rgba(60, 64, 67, 0.3), 0px 1px 3px 1px rgba(60, 64, 67, 0.15);\n",
              "      fill: #174EA6;\n",
              "    }\n",
              "\n",
              "    [theme=dark] .colab-df-convert {\n",
              "      background-color: #3B4455;\n",
              "      fill: #D2E3FC;\n",
              "    }\n",
              "\n",
              "    [theme=dark] .colab-df-convert:hover {\n",
              "      background-color: #434B5C;\n",
              "      box-shadow: 0px 1px 3px 1px rgba(0, 0, 0, 0.15);\n",
              "      filter: drop-shadow(0px 1px 2px rgba(0, 0, 0, 0.3));\n",
              "      fill: #FFFFFF;\n",
              "    }\n",
              "  </style>\n",
              "\n",
              "      <script>\n",
              "        const buttonEl =\n",
              "          document.querySelector('#df-d2e0f2ef-a9e0-4d71-bfa0-7fa85c4e4f60 button.colab-df-convert');\n",
              "        buttonEl.style.display =\n",
              "          google.colab.kernel.accessAllowed ? 'block' : 'none';\n",
              "\n",
              "        async function convertToInteractive(key) {\n",
              "          const element = document.querySelector('#df-d2e0f2ef-a9e0-4d71-bfa0-7fa85c4e4f60');\n",
              "          const dataTable =\n",
              "            await google.colab.kernel.invokeFunction('convertToInteractive',\n",
              "                                                     [key], {});\n",
              "          if (!dataTable) return;\n",
              "\n",
              "          const docLinkHtml = 'Like what you see? Visit the ' +\n",
              "            '<a target=\"_blank\" href=https://colab.research.google.com/notebooks/data_table.ipynb>data table notebook</a>'\n",
              "            + ' to learn more about interactive tables.';\n",
              "          element.innerHTML = '';\n",
              "          dataTable['output_type'] = 'display_data';\n",
              "          await google.colab.output.renderOutput(dataTable, element);\n",
              "          const docLink = document.createElement('div');\n",
              "          docLink.innerHTML = docLinkHtml;\n",
              "          element.appendChild(docLink);\n",
              "        }\n",
              "      </script>\n",
              "    </div>\n",
              "  </div>\n",
              "  "
            ]
          },
          "metadata": {},
          "execution_count": 4
        }
      ]
    },
    {
      "cell_type": "markdown",
      "source": [
        "Data Summary \n"
      ],
      "metadata": {
        "id": "AzJfYp6wVzOY"
      }
    },
    {
      "cell_type": "code",
      "source": [
        "df.describe()"
      ],
      "metadata": {
        "id": "KSjCF-DUV1_y",
        "outputId": "967189af-2611-4178-bf53-018977848da0",
        "colab": {
          "base_uri": "https://localhost:8080/",
          "height": 364
        }
      },
      "execution_count": null,
      "outputs": [
        {
          "output_type": "execute_result",
          "data": {
            "text/plain": [
              "         LATITUDE   LONGITUDE  RES_QTY_MILLION_TONNES  RES_QTY_GRAM_TONNE  \\\n",
              "count  904.000000  904.000000              904.000000          904.000000   \n",
              "mean   -26.266883  119.895145              623.410080            9.772049   \n",
              "std      4.154685    2.397979             2894.526204           17.492069   \n",
              "min    -34.542796  115.517246                0.004000            0.000374   \n",
              "25%    -30.044223  117.871707                2.772900            0.688897   \n",
              "50%    -26.866885  119.878010               20.625500            2.095051   \n",
              "75%    -22.590917  121.576609              193.000000            7.116070   \n",
              "max    -16.094355  128.939310            28720.000000           69.900000   \n",
              "\n",
              "       RES_CON_KILOGRAM  RV_QTY_million_tonnes  RV_QTY_G_GRAM_TONNE  \\\n",
              "count      9.040000e+02             904.000000           904.000000   \n",
              "mean       3.440268e+04             136.540969             9.024343   \n",
              "std        2.141300e+05             425.121977            17.415920   \n",
              "min        2.126000e-03               0.014000             0.004000   \n",
              "25%        1.650150e+01               3.000000             1.135632   \n",
              "50%        3.481505e+02              10.233600             1.946958   \n",
              "75%        3.841250e+03             109.574250             5.927500   \n",
              "max        4.987181e+06            4380.000000            68.000000   \n",
              "\n",
              "       POINT_SIZE_KILOGRAM    PRICE_USD  MINERAL_LAND_VALUE_USD   COMM_CODE  \n",
              "count         9.040000e+02   904.000000            9.040000e+02  904.000000  \n",
              "mean          3.953207e+04  1670.095907            2.292743e+05    1.855088  \n",
              "std           2.234259e+05    51.218238            7.159566e+05    0.690079  \n",
              "min           2.126000e-03  1369.800000            2.298380e+01    1.000000  \n",
              "25%           1.765513e+01  1651.000000            5.134200e+03    1.000000  \n",
              "50%           3.656695e+02  1670.000000            1.683587e+04    2.000000  \n",
              "75%           4.275548e+03  1700.500000            1.863310e+05    2.000000  \n",
              "max           4.987181e+06  1721.100000            7.538418e+06    3.000000  "
            ],
            "text/html": [
              "\n",
              "  <div id=\"df-a6f3122e-2dd3-462e-bdbf-8760aec099ad\">\n",
              "    <div class=\"colab-df-container\">\n",
              "      <div>\n",
              "<style scoped>\n",
              "    .dataframe tbody tr th:only-of-type {\n",
              "        vertical-align: middle;\n",
              "    }\n",
              "\n",
              "    .dataframe tbody tr th {\n",
              "        vertical-align: top;\n",
              "    }\n",
              "\n",
              "    .dataframe thead th {\n",
              "        text-align: right;\n",
              "    }\n",
              "</style>\n",
              "<table border=\"1\" class=\"dataframe\">\n",
              "  <thead>\n",
              "    <tr style=\"text-align: right;\">\n",
              "      <th></th>\n",
              "      <th>LATITUDE</th>\n",
              "      <th>LONGITUDE</th>\n",
              "      <th>RES_QTY_MILLION_TONNES</th>\n",
              "      <th>RES_QTY_GRAM_TONNE</th>\n",
              "      <th>RES_CON_KILOGRAM</th>\n",
              "      <th>RV_QTY_million_tonnes</th>\n",
              "      <th>RV_QTY_G_GRAM_TONNE</th>\n",
              "      <th>POINT_SIZE_KILOGRAM</th>\n",
              "      <th>PRICE_USD</th>\n",
              "      <th>MINERAL_LAND_VALUE_USD</th>\n",
              "      <th>COMM_CODE</th>\n",
              "    </tr>\n",
              "  </thead>\n",
              "  <tbody>\n",
              "    <tr>\n",
              "      <th>count</th>\n",
              "      <td>904.000000</td>\n",
              "      <td>904.000000</td>\n",
              "      <td>904.000000</td>\n",
              "      <td>904.000000</td>\n",
              "      <td>9.040000e+02</td>\n",
              "      <td>904.000000</td>\n",
              "      <td>904.000000</td>\n",
              "      <td>9.040000e+02</td>\n",
              "      <td>904.000000</td>\n",
              "      <td>9.040000e+02</td>\n",
              "      <td>904.000000</td>\n",
              "    </tr>\n",
              "    <tr>\n",
              "      <th>mean</th>\n",
              "      <td>-26.266883</td>\n",
              "      <td>119.895145</td>\n",
              "      <td>623.410080</td>\n",
              "      <td>9.772049</td>\n",
              "      <td>3.440268e+04</td>\n",
              "      <td>136.540969</td>\n",
              "      <td>9.024343</td>\n",
              "      <td>3.953207e+04</td>\n",
              "      <td>1670.095907</td>\n",
              "      <td>2.292743e+05</td>\n",
              "      <td>1.855088</td>\n",
              "    </tr>\n",
              "    <tr>\n",
              "      <th>std</th>\n",
              "      <td>4.154685</td>\n",
              "      <td>2.397979</td>\n",
              "      <td>2894.526204</td>\n",
              "      <td>17.492069</td>\n",
              "      <td>2.141300e+05</td>\n",
              "      <td>425.121977</td>\n",
              "      <td>17.415920</td>\n",
              "      <td>2.234259e+05</td>\n",
              "      <td>51.218238</td>\n",
              "      <td>7.159566e+05</td>\n",
              "      <td>0.690079</td>\n",
              "    </tr>\n",
              "    <tr>\n",
              "      <th>min</th>\n",
              "      <td>-34.542796</td>\n",
              "      <td>115.517246</td>\n",
              "      <td>0.004000</td>\n",
              "      <td>0.000374</td>\n",
              "      <td>2.126000e-03</td>\n",
              "      <td>0.014000</td>\n",
              "      <td>0.004000</td>\n",
              "      <td>2.126000e-03</td>\n",
              "      <td>1369.800000</td>\n",
              "      <td>2.298380e+01</td>\n",
              "      <td>1.000000</td>\n",
              "    </tr>\n",
              "    <tr>\n",
              "      <th>25%</th>\n",
              "      <td>-30.044223</td>\n",
              "      <td>117.871707</td>\n",
              "      <td>2.772900</td>\n",
              "      <td>0.688897</td>\n",
              "      <td>1.650150e+01</td>\n",
              "      <td>3.000000</td>\n",
              "      <td>1.135632</td>\n",
              "      <td>1.765513e+01</td>\n",
              "      <td>1651.000000</td>\n",
              "      <td>5.134200e+03</td>\n",
              "      <td>1.000000</td>\n",
              "    </tr>\n",
              "    <tr>\n",
              "      <th>50%</th>\n",
              "      <td>-26.866885</td>\n",
              "      <td>119.878010</td>\n",
              "      <td>20.625500</td>\n",
              "      <td>2.095051</td>\n",
              "      <td>3.481505e+02</td>\n",
              "      <td>10.233600</td>\n",
              "      <td>1.946958</td>\n",
              "      <td>3.656695e+02</td>\n",
              "      <td>1670.000000</td>\n",
              "      <td>1.683587e+04</td>\n",
              "      <td>2.000000</td>\n",
              "    </tr>\n",
              "    <tr>\n",
              "      <th>75%</th>\n",
              "      <td>-22.590917</td>\n",
              "      <td>121.576609</td>\n",
              "      <td>193.000000</td>\n",
              "      <td>7.116070</td>\n",
              "      <td>3.841250e+03</td>\n",
              "      <td>109.574250</td>\n",
              "      <td>5.927500</td>\n",
              "      <td>4.275548e+03</td>\n",
              "      <td>1700.500000</td>\n",
              "      <td>1.863310e+05</td>\n",
              "      <td>2.000000</td>\n",
              "    </tr>\n",
              "    <tr>\n",
              "      <th>max</th>\n",
              "      <td>-16.094355</td>\n",
              "      <td>128.939310</td>\n",
              "      <td>28720.000000</td>\n",
              "      <td>69.900000</td>\n",
              "      <td>4.987181e+06</td>\n",
              "      <td>4380.000000</td>\n",
              "      <td>68.000000</td>\n",
              "      <td>4.987181e+06</td>\n",
              "      <td>1721.100000</td>\n",
              "      <td>7.538418e+06</td>\n",
              "      <td>3.000000</td>\n",
              "    </tr>\n",
              "  </tbody>\n",
              "</table>\n",
              "</div>\n",
              "      <button class=\"colab-df-convert\" onclick=\"convertToInteractive('df-a6f3122e-2dd3-462e-bdbf-8760aec099ad')\"\n",
              "              title=\"Convert this dataframe to an interactive table.\"\n",
              "              style=\"display:none;\">\n",
              "        \n",
              "  <svg xmlns=\"http://www.w3.org/2000/svg\" height=\"24px\"viewBox=\"0 0 24 24\"\n",
              "       width=\"24px\">\n",
              "    <path d=\"M0 0h24v24H0V0z\" fill=\"none\"/>\n",
              "    <path d=\"M18.56 5.44l.94 2.06.94-2.06 2.06-.94-2.06-.94-.94-2.06-.94 2.06-2.06.94zm-11 1L8.5 8.5l.94-2.06 2.06-.94-2.06-.94L8.5 2.5l-.94 2.06-2.06.94zm10 10l.94 2.06.94-2.06 2.06-.94-2.06-.94-.94-2.06-.94 2.06-2.06.94z\"/><path d=\"M17.41 7.96l-1.37-1.37c-.4-.4-.92-.59-1.43-.59-.52 0-1.04.2-1.43.59L10.3 9.45l-7.72 7.72c-.78.78-.78 2.05 0 2.83L4 21.41c.39.39.9.59 1.41.59.51 0 1.02-.2 1.41-.59l7.78-7.78 2.81-2.81c.8-.78.8-2.07 0-2.86zM5.41 20L4 18.59l7.72-7.72 1.47 1.35L5.41 20z\"/>\n",
              "  </svg>\n",
              "      </button>\n",
              "      \n",
              "  <style>\n",
              "    .colab-df-container {\n",
              "      display:flex;\n",
              "      flex-wrap:wrap;\n",
              "      gap: 12px;\n",
              "    }\n",
              "\n",
              "    .colab-df-convert {\n",
              "      background-color: #E8F0FE;\n",
              "      border: none;\n",
              "      border-radius: 50%;\n",
              "      cursor: pointer;\n",
              "      display: none;\n",
              "      fill: #1967D2;\n",
              "      height: 32px;\n",
              "      padding: 0 0 0 0;\n",
              "      width: 32px;\n",
              "    }\n",
              "\n",
              "    .colab-df-convert:hover {\n",
              "      background-color: #E2EBFA;\n",
              "      box-shadow: 0px 1px 2px rgba(60, 64, 67, 0.3), 0px 1px 3px 1px rgba(60, 64, 67, 0.15);\n",
              "      fill: #174EA6;\n",
              "    }\n",
              "\n",
              "    [theme=dark] .colab-df-convert {\n",
              "      background-color: #3B4455;\n",
              "      fill: #D2E3FC;\n",
              "    }\n",
              "\n",
              "    [theme=dark] .colab-df-convert:hover {\n",
              "      background-color: #434B5C;\n",
              "      box-shadow: 0px 1px 3px 1px rgba(0, 0, 0, 0.15);\n",
              "      filter: drop-shadow(0px 1px 2px rgba(0, 0, 0, 0.3));\n",
              "      fill: #FFFFFF;\n",
              "    }\n",
              "  </style>\n",
              "\n",
              "      <script>\n",
              "        const buttonEl =\n",
              "          document.querySelector('#df-a6f3122e-2dd3-462e-bdbf-8760aec099ad button.colab-df-convert');\n",
              "        buttonEl.style.display =\n",
              "          google.colab.kernel.accessAllowed ? 'block' : 'none';\n",
              "\n",
              "        async function convertToInteractive(key) {\n",
              "          const element = document.querySelector('#df-a6f3122e-2dd3-462e-bdbf-8760aec099ad');\n",
              "          const dataTable =\n",
              "            await google.colab.kernel.invokeFunction('convertToInteractive',\n",
              "                                                     [key], {});\n",
              "          if (!dataTable) return;\n",
              "\n",
              "          const docLinkHtml = 'Like what you see? Visit the ' +\n",
              "            '<a target=\"_blank\" href=https://colab.research.google.com/notebooks/data_table.ipynb>data table notebook</a>'\n",
              "            + ' to learn more about interactive tables.';\n",
              "          element.innerHTML = '';\n",
              "          dataTable['output_type'] = 'display_data';\n",
              "          await google.colab.output.renderOutput(dataTable, element);\n",
              "          const docLink = document.createElement('div');\n",
              "          docLink.innerHTML = docLinkHtml;\n",
              "          element.appendChild(docLink);\n",
              "        }\n",
              "      </script>\n",
              "    </div>\n",
              "  </div>\n",
              "  "
            ]
          },
          "metadata": {},
          "execution_count": 5
        }
      ]
    },
    {
      "cell_type": "markdown",
      "source": [
        "Visualize Ore reserve locations "
      ],
      "metadata": {
        "id": "C4qknnFfdZi9"
      }
    },
    {
      "cell_type": "code",
      "source": [
        "df.plot(kind=\"scatter\", x=\"LONGITUDE\", y=\"LATITUDE\")"
      ],
      "metadata": {
        "id": "2eSz9x1RNA8U",
        "outputId": "ce20bff8-45e9-42f8-fb3d-5b94b01de596",
        "colab": {
          "base_uri": "https://localhost:8080/",
          "height": 296
        }
      },
      "execution_count": null,
      "outputs": [
        {
          "output_type": "execute_result",
          "data": {
            "text/plain": [
              "<matplotlib.axes._subplots.AxesSubplot at 0x7f04f6705f90>"
            ]
          },
          "metadata": {},
          "execution_count": 6
        },
        {
          "output_type": "display_data",
          "data": {
            "text/plain": [
              "<Figure size 432x288 with 1 Axes>"
            ],
            "image/png": "[encoded data removed]"
          },
          "metadata": {
            "needs_background": "light"
          }
        }
      ]
    },
    {
      "cell_type": "markdown",
      "source": [
        "**Check for Missing Data**"
      ],
      "metadata": {
        "id": "HtmDto3kPZJm"
      }
    },
    {
      "cell_type": "code",
      "source": [
        "# Checking the null values\n",
        "\n",
        "df.isna().any()"
      ],
      "metadata": {
        "id": "UNxsAJeXPhLb",
        "outputId": "cd663471-b287-41e3-efca-0ee2363f42e4",
        "colab": {
          "base_uri": "https://localhost:8080/"
        }
      },
      "execution_count": null,
      "outputs": [
        {
          "output_type": "execute_result",
          "data": {
            "text/plain": [
              "COMMODITY                 False\n",
              "LATITUDE                  False\n",
              "LONGITUDE                 False\n",
              "SITE                      False\n",
              "RES_QTY_MILLION_TONNES    False\n",
              "RES_QTY_GRAM_TONNE        False\n",
              "RES_CON_KILOGRAM          False\n",
              "RV_QTY_million_tonnes     False\n",
              "RV_QTY_G_GRAM_TONNE       False\n",
              "POINT_SIZE_KILOGRAM       False\n",
              "DATE                      False\n",
              "PRICE_USD                 False\n",
              "MINERAL_LAND_VALUE_USD    False\n",
              "COMM_CODE                 False\n",
              "dtype: bool"
            ]
          },
          "metadata": {},
          "execution_count": 7
        }
      ]
    },
    {
      "cell_type": "markdown",
      "source": [
        "Count the number of Null Values in Each Column"
      ],
      "metadata": {
        "id": "6jIvBdXiPrIE"
      }
    },
    {
      "cell_type": "code",
      "source": [
        "# Count number of null values in each columns\n",
        "\n",
        "df.isna().sum()"
      ],
      "metadata": {
        "id": "LTF1IjtGPx-Y",
        "outputId": "2c230068-11f3-4510-f719-d3e7bbe3c0c7",
        "colab": {
          "base_uri": "https://localhost:8080/"
        }
      },
      "execution_count": null,
      "outputs": [
        {
          "output_type": "execute_result",
          "data": {
            "text/plain": [
              "COMMODITY                 0\n",
              "LATITUDE                  0\n",
              "LONGITUDE                 0\n",
              "SITE                      0\n",
              "RES_QTY_MILLION_TONNES    0\n",
              "RES_QTY_GRAM_TONNE        0\n",
              "RES_CON_KILOGRAM          0\n",
              "RV_QTY_million_tonnes     0\n",
              "RV_QTY_G_GRAM_TONNE       0\n",
              "POINT_SIZE_KILOGRAM       0\n",
              "DATE                      0\n",
              "PRICE_USD                 0\n",
              "MINERAL_LAND_VALUE_USD    0\n",
              "COMM_CODE                 0\n",
              "dtype: int64"
            ]
          },
          "metadata": {},
          "execution_count": 8
        }
      ]
    },
    {
      "cell_type": "markdown",
      "source": [
        "Drop NA Values if count is less than 5%"
      ],
      "metadata": {
        "id": "QlwLDoQdQEZS"
      }
    },
    {
      "cell_type": "code",
      "source": [
        "# We can drop the null value as their count is less than 5%\n",
        "\n",
        "df.dropna(inplace=True)"
      ],
      "metadata": {
        "id": "I_kiLVqPQKBt"
      },
      "execution_count": null,
      "outputs": []
    },
    {
      "cell_type": "markdown",
      "source": [
        "**Shuffle data**"
      ],
      "metadata": {
        "id": "vOuZ_XVFec4S"
      }
    },
    {
      "cell_type": "code",
      "source": [
        "df = df.sample(n=len(df),random_state =1)\n",
        "df"
      ],
      "metadata": {
        "colab": {
          "base_uri": "https://localhost:8080/",
          "height": 765
        },
        "id": "mgFqteq2ej6y",
        "outputId": "f5f801e3-ef45-4d69-fcf3-352d54befa83"
      },
      "execution_count": null,
      "outputs": [
        {
          "output_type": "execute_result",
          "data": {
            "text/plain": [
              "    COMMODITY   LATITUDE   LONGITUDE                              SITE  \\\n",
              "874    Nickel -26.107107  127.696907                 Musgrave Province   \n",
              "884    Nickel -26.039626  128.939310  Warakurna Large Igneous Province   \n",
              "878    Nickel -26.107107  127.696907                 Musgrave Province   \n",
              "784    Nickel -29.173211  122.253947   Eastern Goldfields Superterrane   \n",
              "525      Iron -21.766987  116.777930                   Hamersley Basin   \n",
              "..        ...        ...         ...                               ...   \n",
              "715      Iron -30.044223  120.007463                   Youanmi Terrane   \n",
              "767    Nickel -29.053396  122.151539   Eastern Goldfields Superterrane   \n",
              "72       Gold -29.153011  121.675721   Eastern Goldfields Superterrane   \n",
              "235      Gold -30.566178  121.112010                    Yilgarn Craton   \n",
              "37       Gold -27.514745  120.940913   Eastern Goldfields Superterrane   \n",
              "\n",
              "     RES_QTY_MILLION_TONNES  RES_QTY_GRAM_TONNE  RES_CON_KILOGRAM  \\\n",
              "874              389.100000            0.011643      45304.000000   \n",
              "884              215.837898           44.284417      95582.555410   \n",
              "878              545.100000            0.066735      36377.000000   \n",
              "784                4.650000           18.500000          0.860250   \n",
              "525               84.300000           57.188250         48.209695   \n",
              "..                      ...                 ...               ...   \n",
              "715             1445.760000           29.301637        423.631350   \n",
              "767               10.500000            0.988000        103.740000   \n",
              "72                76.230000            0.597740      45565.700000   \n",
              "235                0.330000            1.054545        348.000000   \n",
              "37                 2.225000            1.922652       4277.900000   \n",
              "\n",
              "     RV_QTY_million_tonnes  RV_QTY_G_GRAM_TONNE  POINT_SIZE_KILOGRAM  \\\n",
              "874             253.000000             0.012391         76654.000000   \n",
              "884             168.422406            45.640000        172450.541500   \n",
              "878             253.000000             0.100000         61677.000000   \n",
              "784               7.490000             1.881497             0.860250   \n",
              "525            1294.000000             2.988779            48.209695   \n",
              "..                     ...                  ...                  ...   \n",
              "715             236.600000            28.193153           490.336350   \n",
              "767               6.900000             1.537423           103.740000   \n",
              "72               30.000000             1.798119         45565.700000   \n",
              "235              30.700000             6.133579           348.000000   \n",
              "37                1.900000             0.020000          4277.900000   \n",
              "\n",
              "           DATE  PRICE_USD  MINERAL_LAND_VALUE_USD  COMM_CODE  \n",
              "874  30/10/2022     1641.8            4.153754e+05          3  \n",
              "884  30/10/2022     1641.8            2.765159e+05          3  \n",
              "878  30/10/2022     1641.8            4.153754e+05          3  \n",
              "784  18/10/2022     1649.0            1.235101e+04          3  \n",
              "525   9/10/2022     1700.5            2.200447e+06          2  \n",
              "..          ...        ...                     ...        ...  \n",
              "715  13/10/2022     1670.0            3.951220e+05          2  \n",
              "767   9/10/2022     1700.5            1.173345e+04          3  \n",
              "72    8/10/2022     1700.5            5.101500e+04          1  \n",
              "235   8/10/2022     1700.5            5.220535e+04          1  \n",
              "37    1/10/2022     1662.4            3.158560e+03          1  \n",
              "\n",
              "[904 rows x 14 columns]"
            ],
            "text/html": [
              "\n",
              "  <div id=\"df-0437c7ce-745f-4266-b89b-bb61f0ea5834\">\n",
              "    <div class=\"colab-df-container\">\n",
              "      <div>\n",
              "<style scoped>\n",
              "    .dataframe tbody tr th:only-of-type {\n",
              "        vertical-align: middle;\n",
              "    }\n",
              "\n",
              "    .dataframe tbody tr th {\n",
              "        vertical-align: top;\n",
              "    }\n",
              "\n",
              "    .dataframe thead th {\n",
              "        text-align: right;\n",
              "    }\n",
              "</style>\n",
              "<table border=\"1\" class=\"dataframe\">\n",
              "  <thead>\n",
              "    <tr style=\"text-align: right;\">\n",
              "      <th></th>\n",
              "      <th>COMMODITY</th>\n",
              "      <th>LATITUDE</th>\n",
              "      <th>LONGITUDE</th>\n",
              "      <th>SITE</th>\n",
              "      <th>RES_QTY_MILLION_TONNES</th>\n",
              "      <th>RES_QTY_GRAM_TONNE</th>\n",
              "      <th>RES_CON_KILOGRAM</th>\n",
              "      <th>RV_QTY_million_tonnes</th>\n",
              "      <th>RV_QTY_G_GRAM_TONNE</th>\n",
              "      <th>POINT_SIZE_KILOGRAM</th>\n",
              "      <th>DATE</th>\n",
              "      <th>PRICE_USD</th>\n",
              "      <th>MINERAL_LAND_VALUE_USD</th>\n",
              "      <th>COMM_CODE</th>\n",
              "    </tr>\n",
              "  </thead>\n",
              "  <tbody>\n",
              "    <tr>\n",
              "      <th>874</th>\n",
              "      <td>Nickel</td>\n",
              "      <td>-26.107107</td>\n",
              "      <td>127.696907</td>\n",
              "      <td>Musgrave Province</td>\n",
              "      <td>389.100000</td>\n",
              "      <td>0.011643</td>\n",
              "      <td>45304.000000</td>\n",
              "      <td>253.000000</td>\n",
              "      <td>0.012391</td>\n",
              "      <td>76654.000000</td>\n",
              "      <td>30/10/2022</td>\n",
              "      <td>1641.8</td>\n",
              "      <td>4.153754e+05</td>\n",
              "      <td>3</td>\n",
              "    </tr>\n",
              "    <tr>\n",
              "      <th>884</th>\n",
              "      <td>Nickel</td>\n",
              "      <td>-26.039626</td>\n",
              "      <td>128.939310</td>\n",
              "      <td>Warakurna Large Igneous Province</td>\n",
              "      <td>215.837898</td>\n",
              "      <td>44.284417</td>\n",
              "      <td>95582.555410</td>\n",
              "      <td>168.422406</td>\n",
              "      <td>45.640000</td>\n",
              "      <td>172450.541500</td>\n",
              "      <td>30/10/2022</td>\n",
              "      <td>1641.8</td>\n",
              "      <td>2.765159e+05</td>\n",
              "      <td>3</td>\n",
              "    </tr>\n",
              "    <tr>\n",
              "      <th>878</th>\n",
              "      <td>Nickel</td>\n",
              "      <td>-26.107107</td>\n",
              "      <td>127.696907</td>\n",
              "      <td>Musgrave Province</td>\n",
              "      <td>545.100000</td>\n",
              "      <td>0.066735</td>\n",
              "      <td>36377.000000</td>\n",
              "      <td>253.000000</td>\n",
              "      <td>0.100000</td>\n",
              "      <td>61677.000000</td>\n",
              "      <td>30/10/2022</td>\n",
              "      <td>1641.8</td>\n",
              "      <td>4.153754e+05</td>\n",
              "      <td>3</td>\n",
              "    </tr>\n",
              "    <tr>\n",
              "      <th>784</th>\n",
              "      <td>Nickel</td>\n",
              "      <td>-29.173211</td>\n",
              "      <td>122.253947</td>\n",
              "      <td>Eastern Goldfields Superterrane</td>\n",
              "      <td>4.650000</td>\n",
              "      <td>18.500000</td>\n",
              "      <td>0.860250</td>\n",
              "      <td>7.490000</td>\n",
              "      <td>1.881497</td>\n",
              "      <td>0.860250</td>\n",
              "      <td>18/10/2022</td>\n",
              "      <td>1649.0</td>\n",
              "      <td>1.235101e+04</td>\n",
              "      <td>3</td>\n",
              "    </tr>\n",
              "    <tr>\n",
              "      <th>525</th>\n",
              "      <td>Iron</td>\n",
              "      <td>-21.766987</td>\n",
              "      <td>116.777930</td>\n",
              "      <td>Hamersley Basin</td>\n",
              "      <td>84.300000</td>\n",
              "      <td>57.188250</td>\n",
              "      <td>48.209695</td>\n",
              "      <td>1294.000000</td>\n",
              "      <td>2.988779</td>\n",
              "      <td>48.209695</td>\n",
              "      <td>9/10/2022</td>\n",
              "      <td>1700.5</td>\n",
              "      <td>2.200447e+06</td>\n",
              "      <td>2</td>\n",
              "    </tr>\n",
              "    <tr>\n",
              "      <th>...</th>\n",
              "      <td>...</td>\n",
              "      <td>...</td>\n",
              "      <td>...</td>\n",
              "      <td>...</td>\n",
              "      <td>...</td>\n",
              "      <td>...</td>\n",
              "      <td>...</td>\n",
              "      <td>...</td>\n",
              "      <td>...</td>\n",
              "      <td>...</td>\n",
              "      <td>...</td>\n",
              "      <td>...</td>\n",
              "      <td>...</td>\n",
              "      <td>...</td>\n",
              "    </tr>\n",
              "    <tr>\n",
              "      <th>715</th>\n",
              "      <td>Iron</td>\n",
              "      <td>-30.044223</td>\n",
              "      <td>120.007463</td>\n",
              "      <td>Youanmi Terrane</td>\n",
              "      <td>1445.760000</td>\n",
              "      <td>29.301637</td>\n",
              "      <td>423.631350</td>\n",
              "      <td>236.600000</td>\n",
              "      <td>28.193153</td>\n",
              "      <td>490.336350</td>\n",
              "      <td>13/10/2022</td>\n",
              "      <td>1670.0</td>\n",
              "      <td>3.951220e+05</td>\n",
              "      <td>2</td>\n",
              "    </tr>\n",
              "    <tr>\n",
              "      <th>767</th>\n",
              "      <td>Nickel</td>\n",
              "      <td>-29.053396</td>\n",
              "      <td>122.151539</td>\n",
              "      <td>Eastern Goldfields Superterrane</td>\n",
              "      <td>10.500000</td>\n",
              "      <td>0.988000</td>\n",
              "      <td>103.740000</td>\n",
              "      <td>6.900000</td>\n",
              "      <td>1.537423</td>\n",
              "      <td>103.740000</td>\n",
              "      <td>9/10/2022</td>\n",
              "      <td>1700.5</td>\n",
              "      <td>1.173345e+04</td>\n",
              "      <td>3</td>\n",
              "    </tr>\n",
              "    <tr>\n",
              "      <th>72</th>\n",
              "      <td>Gold</td>\n",
              "      <td>-29.153011</td>\n",
              "      <td>121.675721</td>\n",
              "      <td>Eastern Goldfields Superterrane</td>\n",
              "      <td>76.230000</td>\n",
              "      <td>0.597740</td>\n",
              "      <td>45565.700000</td>\n",
              "      <td>30.000000</td>\n",
              "      <td>1.798119</td>\n",
              "      <td>45565.700000</td>\n",
              "      <td>8/10/2022</td>\n",
              "      <td>1700.5</td>\n",
              "      <td>5.101500e+04</td>\n",
              "      <td>1</td>\n",
              "    </tr>\n",
              "    <tr>\n",
              "      <th>235</th>\n",
              "      <td>Gold</td>\n",
              "      <td>-30.566178</td>\n",
              "      <td>121.112010</td>\n",
              "      <td>Yilgarn Craton</td>\n",
              "      <td>0.330000</td>\n",
              "      <td>1.054545</td>\n",
              "      <td>348.000000</td>\n",
              "      <td>30.700000</td>\n",
              "      <td>6.133579</td>\n",
              "      <td>348.000000</td>\n",
              "      <td>8/10/2022</td>\n",
              "      <td>1700.5</td>\n",
              "      <td>5.220535e+04</td>\n",
              "      <td>1</td>\n",
              "    </tr>\n",
              "    <tr>\n",
              "      <th>37</th>\n",
              "      <td>Gold</td>\n",
              "      <td>-27.514745</td>\n",
              "      <td>120.940913</td>\n",
              "      <td>Eastern Goldfields Superterrane</td>\n",
              "      <td>2.225000</td>\n",
              "      <td>1.922652</td>\n",
              "      <td>4277.900000</td>\n",
              "      <td>1.900000</td>\n",
              "      <td>0.020000</td>\n",
              "      <td>4277.900000</td>\n",
              "      <td>1/10/2022</td>\n",
              "      <td>1662.4</td>\n",
              "      <td>3.158560e+03</td>\n",
              "      <td>1</td>\n",
              "    </tr>\n",
              "  </tbody>\n",
              "</table>\n",
              "<p>904 rows × 14 columns</p>\n",
              "</div>\n",
              "      <button class=\"colab-df-convert\" onclick=\"convertToInteractive('df-0437c7ce-745f-4266-b89b-bb61f0ea5834')\"\n",
              "              title=\"Convert this dataframe to an interactive table.\"\n",
              "              style=\"display:none;\">\n",
              "        \n",
              "  <svg xmlns=\"http://www.w3.org/2000/svg\" height=\"24px\"viewBox=\"0 0 24 24\"\n",
              "       width=\"24px\">\n",
              "    <path d=\"M0 0h24v24H0V0z\" fill=\"none\"/>\n",
              "    <path d=\"M18.56 5.44l.94 2.06.94-2.06 2.06-.94-2.06-.94-.94-2.06-.94 2.06-2.06.94zm-11 1L8.5 8.5l.94-2.06 2.06-.94-2.06-.94L8.5 2.5l-.94 2.06-2.06.94zm10 10l.94 2.06.94-2.06 2.06-.94-2.06-.94-.94-2.06-.94 2.06-2.06.94z\"/><path d=\"M17.41 7.96l-1.37-1.37c-.4-.4-.92-.59-1.43-.59-.52 0-1.04.2-1.43.59L10.3 9.45l-7.72 7.72c-.78.78-.78 2.05 0 2.83L4 21.41c.39.39.9.59 1.41.59.51 0 1.02-.2 1.41-.59l7.78-7.78 2.81-2.81c.8-.78.8-2.07 0-2.86zM5.41 20L4 18.59l7.72-7.72 1.47 1.35L5.41 20z\"/>\n",
              "  </svg>\n",
              "      </button>\n",
              "      \n",
              "  <style>\n",
              "    .colab-df-container {\n",
              "      display:flex;\n",
              "      flex-wrap:wrap;\n",
              "      gap: 12px;\n",
              "    }\n",
              "\n",
              "    .colab-df-convert {\n",
              "      background-color: #E8F0FE;\n",
              "      border: none;\n",
              "      border-radius: 50%;\n",
              "      cursor: pointer;\n",
              "      display: none;\n",
              "      fill: #1967D2;\n",
              "      height: 32px;\n",
              "      padding: 0 0 0 0;\n",
              "      width: 32px;\n",
              "    }\n",
              "\n",
              "    .colab-df-convert:hover {\n",
              "      background-color: #E2EBFA;\n",
              "      box-shadow: 0px 1px 2px rgba(60, 64, 67, 0.3), 0px 1px 3px 1px rgba(60, 64, 67, 0.15);\n",
              "      fill: #174EA6;\n",
              "    }\n",
              "\n",
              "    [theme=dark] .colab-df-convert {\n",
              "      background-color: #3B4455;\n",
              "      fill: #D2E3FC;\n",
              "    }\n",
              "\n",
              "    [theme=dark] .colab-df-convert:hover {\n",
              "      background-color: #434B5C;\n",
              "      box-shadow: 0px 1px 3px 1px rgba(0, 0, 0, 0.15);\n",
              "      filter: drop-shadow(0px 1px 2px rgba(0, 0, 0, 0.3));\n",
              "      fill: #FFFFFF;\n",
              "    }\n",
              "  </style>\n",
              "\n",
              "      <script>\n",
              "        const buttonEl =\n",
              "          document.querySelector('#df-0437c7ce-745f-4266-b89b-bb61f0ea5834 button.colab-df-convert');\n",
              "        buttonEl.style.display =\n",
              "          google.colab.kernel.accessAllowed ? 'block' : 'none';\n",
              "\n",
              "        async function convertToInteractive(key) {\n",
              "          const element = document.querySelector('#df-0437c7ce-745f-4266-b89b-bb61f0ea5834');\n",
              "          const dataTable =\n",
              "            await google.colab.kernel.invokeFunction('convertToInteractive',\n",
              "                                                     [key], {});\n",
              "          if (!dataTable) return;\n",
              "\n",
              "          const docLinkHtml = 'Like what you see? Visit the ' +\n",
              "            '<a target=\"_blank\" href=https://colab.research.google.com/notebooks/data_table.ipynb>data table notebook</a>'\n",
              "            + ' to learn more about interactive tables.';\n",
              "          element.innerHTML = '';\n",
              "          dataTable['output_type'] = 'display_data';\n",
              "          await google.colab.output.renderOutput(dataTable, element);\n",
              "          const docLink = document.createElement('div');\n",
              "          docLink.innerHTML = docLinkHtml;\n",
              "          element.appendChild(docLink);\n",
              "        }\n",
              "      </script>\n",
              "    </div>\n",
              "  </div>\n",
              "  "
            ]
          },
          "metadata": {},
          "execution_count": 10
        }
      ]
    },
    {
      "cell_type": "markdown",
      "source": [
        "**Convert Categorical variable to numeric. For Gold, Iron Nickel. Into three columns. 1 if it is that commodity or 0 if it isn't**"
      ],
      "metadata": {
        "id": "I22gNIs6eA6Q"
      }
    },
    {
      "cell_type": "code",
      "source": [
        "df1 = pd.get_dummies(df['COMMODITY'])\n",
        " \n",
        "# using pd.concat to concatenate the dataframes\n",
        "# df and df1 and storing the concatenated\n",
        "# dataFrame in df.\n",
        "df = pd.concat([df, df1], axis=1).reindex(df.index)\n",
        " \n",
        "# removing the column 'Purchased' from df\n",
        "# as it is of no use now.\n",
        "df.drop('COMMODITY', axis=1, inplace=True)\n",
        " \n",
        "# printing df\n",
        "df"
      ],
      "metadata": {
        "colab": {
          "base_uri": "https://localhost:8080/",
          "height": 765
        },
        "id": "ulQWwtkWeIhv",
        "outputId": "196de371-ce12-42d4-ba36-b0183de1db92"
      },
      "execution_count": null,
      "outputs": [
        {
          "output_type": "execute_result",
          "data": {
            "text/plain": [
              "      LATITUDE   LONGITUDE                              SITE  \\\n",
              "874 -26.107107  127.696907                 Musgrave Province   \n",
              "884 -26.039626  128.939310  Warakurna Large Igneous Province   \n",
              "878 -26.107107  127.696907                 Musgrave Province   \n",
              "784 -29.173211  122.253947   Eastern Goldfields Superterrane   \n",
              "525 -21.766987  116.777930                   Hamersley Basin   \n",
              "..         ...         ...                               ...   \n",
              "715 -30.044223  120.007463                   Youanmi Terrane   \n",
              "767 -29.053396  122.151539   Eastern Goldfields Superterrane   \n",
              "72  -29.153011  121.675721   Eastern Goldfields Superterrane   \n",
              "235 -30.566178  121.112010                    Yilgarn Craton   \n",
              "37  -27.514745  120.940913   Eastern Goldfields Superterrane   \n",
              "\n",
              "     RES_QTY_MILLION_TONNES  RES_QTY_GRAM_TONNE  RES_CON_KILOGRAM  \\\n",
              "874              389.100000            0.011643      45304.000000   \n",
              "884              215.837898           44.284417      95582.555410   \n",
              "878              545.100000            0.066735      36377.000000   \n",
              "784                4.650000           18.500000          0.860250   \n",
              "525               84.300000           57.188250         48.209695   \n",
              "..                      ...                 ...               ...   \n",
              "715             1445.760000           29.301637        423.631350   \n",
              "767               10.500000            0.988000        103.740000   \n",
              "72                76.230000            0.597740      45565.700000   \n",
              "235                0.330000            1.054545        348.000000   \n",
              "37                 2.225000            1.922652       4277.900000   \n",
              "\n",
              "     RV_QTY_million_tonnes  RV_QTY_G_GRAM_TONNE  POINT_SIZE_KILOGRAM  \\\n",
              "874             253.000000             0.012391         76654.000000   \n",
              "884             168.422406            45.640000        172450.541500   \n",
              "878             253.000000             0.100000         61677.000000   \n",
              "784               7.490000             1.881497             0.860250   \n",
              "525            1294.000000             2.988779            48.209695   \n",
              "..                     ...                  ...                  ...   \n",
              "715             236.600000            28.193153           490.336350   \n",
              "767               6.900000             1.537423           103.740000   \n",
              "72               30.000000             1.798119         45565.700000   \n",
              "235              30.700000             6.133579           348.000000   \n",
              "37                1.900000             0.020000          4277.900000   \n",
              "\n",
              "           DATE  PRICE_USD  MINERAL_LAND_VALUE_USD  COMM_CODE  Gold  Iron  \\\n",
              "874  30/10/2022     1641.8            4.153754e+05          3     0     0   \n",
              "884  30/10/2022     1641.8            2.765159e+05          3     0     0   \n",
              "878  30/10/2022     1641.8            4.153754e+05          3     0     0   \n",
              "784  18/10/2022     1649.0            1.235101e+04          3     0     0   \n",
              "525   9/10/2022     1700.5            2.200447e+06          2     0     1   \n",
              "..          ...        ...                     ...        ...   ...   ...   \n",
              "715  13/10/2022     1670.0            3.951220e+05          2     0     1   \n",
              "767   9/10/2022     1700.5            1.173345e+04          3     0     0   \n",
              "72    8/10/2022     1700.5            5.101500e+04          1     1     0   \n",
              "235   8/10/2022     1700.5            5.220535e+04          1     1     0   \n",
              "37    1/10/2022     1662.4            3.158560e+03          1     1     0   \n",
              "\n",
              "     Nickel  \n",
              "874       1  \n",
              "884       1  \n",
              "878       1  \n",
              "784       1  \n",
              "525       0  \n",
              "..      ...  \n",
              "715       0  \n",
              "767       1  \n",
              "72        0  \n",
              "235       0  \n",
              "37        0  \n",
              "\n",
              "[904 rows x 16 columns]"
            ],
            "text/html": [
              "\n",
              "  <div id=\"df-6c6229d8-bfa6-4806-9c0a-cb7ec7390801\">\n",
              "    <div class=\"colab-df-container\">\n",
              "      <div>\n",
              "<style scoped>\n",
              "    .dataframe tbody tr th:only-of-type {\n",
              "        vertical-align: middle;\n",
              "    }\n",
              "\n",
              "    .dataframe tbody tr th {\n",
              "        vertical-align: top;\n",
              "    }\n",
              "\n",
              "    .dataframe thead th {\n",
              "        text-align: right;\n",
              "    }\n",
              "</style>\n",
              "<table border=\"1\" class=\"dataframe\">\n",
              "  <thead>\n",
              "    <tr style=\"text-align: right;\">\n",
              "      <th></th>\n",
              "      <th>LATITUDE</th>\n",
              "      <th>LONGITUDE</th>\n",
              "      <th>SITE</th>\n",
              "      <th>RES_QTY_MILLION_TONNES</th>\n",
              "      <th>RES_QTY_GRAM_TONNE</th>\n",
              "      <th>RES_CON_KILOGRAM</th>\n",
              "      <th>RV_QTY_million_tonnes</th>\n",
              "      <th>RV_QTY_G_GRAM_TONNE</th>\n",
              "      <th>POINT_SIZE_KILOGRAM</th>\n",
              "      <th>DATE</th>\n",
              "      <th>PRICE_USD</th>\n",
              "      <th>MINERAL_LAND_VALUE_USD</th>\n",
              "      <th>COMM_CODE</th>\n",
              "      <th>Gold</th>\n",
              "      <th>Iron</th>\n",
              "      <th>Nickel</th>\n",
              "    </tr>\n",
              "  </thead>\n",
              "  <tbody>\n",
              "    <tr>\n",
              "      <th>874</th>\n",
              "      <td>-26.107107</td>\n",
              "      <td>127.696907</td>\n",
              "      <td>Musgrave Province</td>\n",
              "      <td>389.100000</td>\n",
              "      <td>0.011643</td>\n",
              "      <td>45304.000000</td>\n",
              "      <td>253.000000</td>\n",
              "      <td>0.012391</td>\n",
              "      <td>76654.000000</td>\n",
              "      <td>30/10/2022</td>\n",
              "      <td>1641.8</td>\n",
              "      <td>4.153754e+05</td>\n",
              "      <td>3</td>\n",
              "      <td>0</td>\n",
              "      <td>0</td>\n",
              "      <td>1</td>\n",
              "    </tr>\n",
              "    <tr>\n",
              "      <th>884</th>\n",
              "      <td>-26.039626</td>\n",
              "      <td>128.939310</td>\n",
              "      <td>Warakurna Large Igneous Province</td>\n",
              "      <td>215.837898</td>\n",
              "      <td>44.284417</td>\n",
              "      <td>95582.555410</td>\n",
              "      <td>168.422406</td>\n",
              "      <td>45.640000</td>\n",
              "      <td>172450.541500</td>\n",
              "      <td>30/10/2022</td>\n",
              "      <td>1641.8</td>\n",
              "      <td>2.765159e+05</td>\n",
              "      <td>3</td>\n",
              "      <td>0</td>\n",
              "      <td>0</td>\n",
              "      <td>1</td>\n",
              "    </tr>\n",
              "    <tr>\n",
              "      <th>878</th>\n",
              "      <td>-26.107107</td>\n",
              "      <td>127.696907</td>\n",
              "      <td>Musgrave Province</td>\n",
              "      <td>545.100000</td>\n",
              "      <td>0.066735</td>\n",
              "      <td>36377.000000</td>\n",
              "      <td>253.000000</td>\n",
              "      <td>0.100000</td>\n",
              "      <td>61677.000000</td>\n",
              "      <td>30/10/2022</td>\n",
              "      <td>1641.8</td>\n",
              "      <td>4.153754e+05</td>\n",
              "      <td>3</td>\n",
              "      <td>0</td>\n",
              "      <td>0</td>\n",
              "      <td>1</td>\n",
              "    </tr>\n",
              "    <tr>\n",
              "      <th>784</th>\n",
              "      <td>-29.173211</td>\n",
              "      <td>122.253947</td>\n",
              "      <td>Eastern Goldfields Superterrane</td>\n",
              "      <td>4.650000</td>\n",
              "      <td>18.500000</td>\n",
              "      <td>0.860250</td>\n",
              "      <td>7.490000</td>\n",
              "      <td>1.881497</td>\n",
              "      <td>0.860250</td>\n",
              "      <td>18/10/2022</td>\n",
              "      <td>1649.0</td>\n",
              "      <td>1.235101e+04</td>\n",
              "      <td>3</td>\n",
              "      <td>0</td>\n",
              "      <td>0</td>\n",
              "      <td>1</td>\n",
              "    </tr>\n",
              "    <tr>\n",
              "      <th>525</th>\n",
              "      <td>-21.766987</td>\n",
              "      <td>116.777930</td>\n",
              "      <td>Hamersley Basin</td>\n",
              "      <td>84.300000</td>\n",
              "      <td>57.188250</td>\n",
              "      <td>48.209695</td>\n",
              "      <td>1294.000000</td>\n",
              "      <td>2.988779</td>\n",
              "      <td>48.209695</td>\n",
              "      <td>9/10/2022</td>\n",
              "      <td>1700.5</td>\n",
              "      <td>2.200447e+06</td>\n",
              "      <td>2</td>\n",
              "      <td>0</td>\n",
              "      <td>1</td>\n",
              "      <td>0</td>\n",
              "    </tr>\n",
              "    <tr>\n",
              "      <th>...</th>\n",
              "      <td>...</td>\n",
              "      <td>...</td>\n",
              "      <td>...</td>\n",
              "      <td>...</td>\n",
              "      <td>...</td>\n",
              "      <td>...</td>\n",
              "      <td>...</td>\n",
              "      <td>...</td>\n",
              "      <td>...</td>\n",
              "      <td>...</td>\n",
              "      <td>...</td>\n",
              "      <td>...</td>\n",
              "      <td>...</td>\n",
              "      <td>...</td>\n",
              "      <td>...</td>\n",
              "      <td>...</td>\n",
              "    </tr>\n",
              "    <tr>\n",
              "      <th>715</th>\n",
              "      <td>-30.044223</td>\n",
              "      <td>120.007463</td>\n",
              "      <td>Youanmi Terrane</td>\n",
              "      <td>1445.760000</td>\n",
              "      <td>29.301637</td>\n",
              "      <td>423.631350</td>\n",
              "      <td>236.600000</td>\n",
              "      <td>28.193153</td>\n",
              "      <td>490.336350</td>\n",
              "      <td>13/10/2022</td>\n",
              "      <td>1670.0</td>\n",
              "      <td>3.951220e+05</td>\n",
              "      <td>2</td>\n",
              "      <td>0</td>\n",
              "      <td>1</td>\n",
              "      <td>0</td>\n",
              "    </tr>\n",
              "    <tr>\n",
              "      <th>767</th>\n",
              "      <td>-29.053396</td>\n",
              "      <td>122.151539</td>\n",
              "      <td>Eastern Goldfields Superterrane</td>\n",
              "      <td>10.500000</td>\n",
              "      <td>0.988000</td>\n",
              "      <td>103.740000</td>\n",
              "      <td>6.900000</td>\n",
              "      <td>1.537423</td>\n",
              "      <td>103.740000</td>\n",
              "      <td>9/10/2022</td>\n",
              "      <td>1700.5</td>\n",
              "      <td>1.173345e+04</td>\n",
              "      <td>3</td>\n",
              "      <td>0</td>\n",
              "      <td>0</td>\n",
              "      <td>1</td>\n",
              "    </tr>\n",
              "    <tr>\n",
              "      <th>72</th>\n",
              "      <td>-29.153011</td>\n",
              "      <td>121.675721</td>\n",
              "      <td>Eastern Goldfields Superterrane</td>\n",
              "      <td>76.230000</td>\n",
              "      <td>0.597740</td>\n",
              "      <td>45565.700000</td>\n",
              "      <td>30.000000</td>\n",
              "      <td>1.798119</td>\n",
              "      <td>45565.700000</td>\n",
              "      <td>8/10/2022</td>\n",
              "      <td>1700.5</td>\n",
              "      <td>5.101500e+04</td>\n",
              "      <td>1</td>\n",
              "      <td>1</td>\n",
              "      <td>0</td>\n",
              "      <td>0</td>\n",
              "    </tr>\n",
              "    <tr>\n",
              "      <th>235</th>\n",
              "      <td>-30.566178</td>\n",
              "      <td>121.112010</td>\n",
              "      <td>Yilgarn Craton</td>\n",
              "      <td>0.330000</td>\n",
              "      <td>1.054545</td>\n",
              "      <td>348.000000</td>\n",
              "      <td>30.700000</td>\n",
              "      <td>6.133579</td>\n",
              "      <td>348.000000</td>\n",
              "      <td>8/10/2022</td>\n",
              "      <td>1700.5</td>\n",
              "      <td>5.220535e+04</td>\n",
              "      <td>1</td>\n",
              "      <td>1</td>\n",
              "      <td>0</td>\n",
              "      <td>0</td>\n",
              "    </tr>\n",
              "    <tr>\n",
              "      <th>37</th>\n",
              "      <td>-27.514745</td>\n",
              "      <td>120.940913</td>\n",
              "      <td>Eastern Goldfields Superterrane</td>\n",
              "      <td>2.225000</td>\n",
              "      <td>1.922652</td>\n",
              "      <td>4277.900000</td>\n",
              "      <td>1.900000</td>\n",
              "      <td>0.020000</td>\n",
              "      <td>4277.900000</td>\n",
              "      <td>1/10/2022</td>\n",
              "      <td>1662.4</td>\n",
              "      <td>3.158560e+03</td>\n",
              "      <td>1</td>\n",
              "      <td>1</td>\n",
              "      <td>0</td>\n",
              "      <td>0</td>\n",
              "    </tr>\n",
              "  </tbody>\n",
              "</table>\n",
              "<p>904 rows × 16 columns</p>\n",
              "</div>\n",
              "      <button class=\"colab-df-convert\" onclick=\"convertToInteractive('df-6c6229d8-bfa6-4806-9c0a-cb7ec7390801')\"\n",
              "              title=\"Convert this dataframe to an interactive table.\"\n",
              "              style=\"display:none;\">\n",
              "        \n",
              "  <svg xmlns=\"http://www.w3.org/2000/svg\" height=\"24px\"viewBox=\"0 0 24 24\"\n",
              "       width=\"24px\">\n",
              "    <path d=\"M0 0h24v24H0V0z\" fill=\"none\"/>\n",
              "    <path d=\"M18.56 5.44l.94 2.06.94-2.06 2.06-.94-2.06-.94-.94-2.06-.94 2.06-2.06.94zm-11 1L8.5 8.5l.94-2.06 2.06-.94-2.06-.94L8.5 2.5l-.94 2.06-2.06.94zm10 10l.94 2.06.94-2.06 2.06-.94-2.06-.94-.94-2.06-.94 2.06-2.06.94z\"/><path d=\"M17.41 7.96l-1.37-1.37c-.4-.4-.92-.59-1.43-.59-.52 0-1.04.2-1.43.59L10.3 9.45l-7.72 7.72c-.78.78-.78 2.05 0 2.83L4 21.41c.39.39.9.59 1.41.59.51 0 1.02-.2 1.41-.59l7.78-7.78 2.81-2.81c.8-.78.8-2.07 0-2.86zM5.41 20L4 18.59l7.72-7.72 1.47 1.35L5.41 20z\"/>\n",
              "  </svg>\n",
              "      </button>\n",
              "      \n",
              "  <style>\n",
              "    .colab-df-container {\n",
              "      display:flex;\n",
              "      flex-wrap:wrap;\n",
              "      gap: 12px;\n",
              "    }\n",
              "\n",
              "    .colab-df-convert {\n",
              "      background-color: #E8F0FE;\n",
              "      border: none;\n",
              "      border-radius: 50%;\n",
              "      cursor: pointer;\n",
              "      display: none;\n",
              "      fill: #1967D2;\n",
              "      height: 32px;\n",
              "      padding: 0 0 0 0;\n",
              "      width: 32px;\n",
              "    }\n",
              "\n",
              "    .colab-df-convert:hover {\n",
              "      background-color: #E2EBFA;\n",
              "      box-shadow: 0px 1px 2px rgba(60, 64, 67, 0.3), 0px 1px 3px 1px rgba(60, 64, 67, 0.15);\n",
              "      fill: #174EA6;\n",
              "    }\n",
              "\n",
              "    [theme=dark] .colab-df-convert {\n",
              "      background-color: #3B4455;\n",
              "      fill: #D2E3FC;\n",
              "    }\n",
              "\n",
              "    [theme=dark] .colab-df-convert:hover {\n",
              "      background-color: #434B5C;\n",
              "      box-shadow: 0px 1px 3px 1px rgba(0, 0, 0, 0.15);\n",
              "      filter: drop-shadow(0px 1px 2px rgba(0, 0, 0, 0.3));\n",
              "      fill: #FFFFFF;\n",
              "    }\n",
              "  </style>\n",
              "\n",
              "      <script>\n",
              "        const buttonEl =\n",
              "          document.querySelector('#df-6c6229d8-bfa6-4806-9c0a-cb7ec7390801 button.colab-df-convert');\n",
              "        buttonEl.style.display =\n",
              "          google.colab.kernel.accessAllowed ? 'block' : 'none';\n",
              "\n",
              "        async function convertToInteractive(key) {\n",
              "          const element = document.querySelector('#df-6c6229d8-bfa6-4806-9c0a-cb7ec7390801');\n",
              "          const dataTable =\n",
              "            await google.colab.kernel.invokeFunction('convertToInteractive',\n",
              "                                                     [key], {});\n",
              "          if (!dataTable) return;\n",
              "\n",
              "          const docLinkHtml = 'Like what you see? Visit the ' +\n",
              "            '<a target=\"_blank\" href=https://colab.research.google.com/notebooks/data_table.ipynb>data table notebook</a>'\n",
              "            + ' to learn more about interactive tables.';\n",
              "          element.innerHTML = '';\n",
              "          dataTable['output_type'] = 'display_data';\n",
              "          await google.colab.output.renderOutput(dataTable, element);\n",
              "          const docLink = document.createElement('div');\n",
              "          docLink.innerHTML = docLinkHtml;\n",
              "          element.appendChild(docLink);\n",
              "        }\n",
              "      </script>\n",
              "    </div>\n",
              "  </div>\n",
              "  "
            ]
          },
          "metadata": {},
          "execution_count": 11
        }
      ]
    },
    {
      "cell_type": "markdown",
      "source": [
        "**Remove variables not used for prediction**"
      ],
      "metadata": {
        "id": "UnhyxbyAtWP9"
      }
    },
    {
      "cell_type": "code",
      "source": [
        "df.drop('SITE', axis=1, inplace=True) \n",
        "df.drop('DATE', axis=1, inplace=True) \n",
        "df.drop('COMM_CODE', axis=1, inplace=True) "
      ],
      "metadata": {
        "id": "K8XuCcCapRKb"
      },
      "execution_count": null,
      "outputs": []
    },
    {
      "cell_type": "code",
      "source": [
        "df"
      ],
      "metadata": {
        "id": "kNILhM8Rsq9L",
        "outputId": "f16c0007-13db-4af5-e6f5-554cc842ac30",
        "colab": {
          "base_uri": "https://localhost:8080/",
          "height": 488
        }
      },
      "execution_count": null,
      "outputs": [
        {
          "output_type": "execute_result",
          "data": {
            "text/plain": [
              "      LATITUDE   LONGITUDE  RES_QTY_MILLION_TONNES  RES_QTY_GRAM_TONNE  \\\n",
              "874 -26.107107  127.696907              389.100000            0.011643   \n",
              "884 -26.039626  128.939310              215.837898           44.284417   \n",
              "878 -26.107107  127.696907              545.100000            0.066735   \n",
              "784 -29.173211  122.253947                4.650000           18.500000   \n",
              "525 -21.766987  116.777930               84.300000           57.188250   \n",
              "..         ...         ...                     ...                 ...   \n",
              "715 -30.044223  120.007463             1445.760000           29.301637   \n",
              "767 -29.053396  122.151539               10.500000            0.988000   \n",
              "72  -29.153011  121.675721               76.230000            0.597740   \n",
              "235 -30.566178  121.112010                0.330000            1.054545   \n",
              "37  -27.514745  120.940913                2.225000            1.922652   \n",
              "\n",
              "     RES_CON_KILOGRAM  RV_QTY_million_tonnes  RV_QTY_G_GRAM_TONNE  \\\n",
              "874      45304.000000             253.000000             0.012391   \n",
              "884      95582.555410             168.422406            45.640000   \n",
              "878      36377.000000             253.000000             0.100000   \n",
              "784          0.860250               7.490000             1.881497   \n",
              "525         48.209695            1294.000000             2.988779   \n",
              "..                ...                    ...                  ...   \n",
              "715        423.631350             236.600000            28.193153   \n",
              "767        103.740000               6.900000             1.537423   \n",
              "72       45565.700000              30.000000             1.798119   \n",
              "235        348.000000              30.700000             6.133579   \n",
              "37        4277.900000               1.900000             0.020000   \n",
              "\n",
              "     POINT_SIZE_KILOGRAM  PRICE_USD  MINERAL_LAND_VALUE_USD  Gold  Iron  \\\n",
              "874         76654.000000     1641.8            4.153754e+05     0     0   \n",
              "884        172450.541500     1641.8            2.765159e+05     0     0   \n",
              "878         61677.000000     1641.8            4.153754e+05     0     0   \n",
              "784             0.860250     1649.0            1.235101e+04     0     0   \n",
              "525            48.209695     1700.5            2.200447e+06     0     1   \n",
              "..                   ...        ...                     ...   ...   ...   \n",
              "715           490.336350     1670.0            3.951220e+05     0     1   \n",
              "767           103.740000     1700.5            1.173345e+04     0     0   \n",
              "72          45565.700000     1700.5            5.101500e+04     1     0   \n",
              "235           348.000000     1700.5            5.220535e+04     1     0   \n",
              "37           4277.900000     1662.4            3.158560e+03     1     0   \n",
              "\n",
              "     Nickel  \n",
              "874       1  \n",
              "884       1  \n",
              "878       1  \n",
              "784       1  \n",
              "525       0  \n",
              "..      ...  \n",
              "715       0  \n",
              "767       1  \n",
              "72        0  \n",
              "235       0  \n",
              "37        0  \n",
              "\n",
              "[904 rows x 13 columns]"
            ],
            "text/html": [
              "\n",
              "  <div id=\"df-d7109d0d-ae70-4bf8-985c-19d3a318b3fa\">\n",
              "    <div class=\"colab-df-container\">\n",
              "      <div>\n",
              "<style scoped>\n",
              "    .dataframe tbody tr th:only-of-type {\n",
              "        vertical-align: middle;\n",
              "    }\n",
              "\n",
              "    .dataframe tbody tr th {\n",
              "        vertical-align: top;\n",
              "    }\n",
              "\n",
              "    .dataframe thead th {\n",
              "        text-align: right;\n",
              "    }\n",
              "</style>\n",
              "<table border=\"1\" class=\"dataframe\">\n",
              "  <thead>\n",
              "    <tr style=\"text-align: right;\">\n",
              "      <th></th>\n",
              "      <th>LATITUDE</th>\n",
              "      <th>LONGITUDE</th>\n",
              "      <th>RES_QTY_MILLION_TONNES</th>\n",
              "      <th>RES_QTY_GRAM_TONNE</th>\n",
              "      <th>RES_CON_KILOGRAM</th>\n",
              "      <th>RV_QTY_million_tonnes</th>\n",
              "      <th>RV_QTY_G_GRAM_TONNE</th>\n",
              "      <th>POINT_SIZE_KILOGRAM</th>\n",
              "      <th>PRICE_USD</th>\n",
              "      <th>MINERAL_LAND_VALUE_USD</th>\n",
              "      <th>Gold</th>\n",
              "      <th>Iron</th>\n",
              "      <th>Nickel</th>\n",
              "    </tr>\n",
              "  </thead>\n",
              "  <tbody>\n",
              "    <tr>\n",
              "      <th>874</th>\n",
              "      <td>-26.107107</td>\n",
              "      <td>127.696907</td>\n",
              "      <td>389.100000</td>\n",
              "      <td>0.011643</td>\n",
              "      <td>45304.000000</td>\n",
              "      <td>253.000000</td>\n",
              "      <td>0.012391</td>\n",
              "      <td>76654.000000</td>\n",
              "      <td>1641.8</td>\n",
              "      <td>4.153754e+05</td>\n",
              "      <td>0</td>\n",
              "      <td>0</td>\n",
              "      <td>1</td>\n",
              "    </tr>\n",
              "    <tr>\n",
              "      <th>884</th>\n",
              "      <td>-26.039626</td>\n",
              "      <td>128.939310</td>\n",
              "      <td>215.837898</td>\n",
              "      <td>44.284417</td>\n",
              "      <td>95582.555410</td>\n",
              "      <td>168.422406</td>\n",
              "      <td>45.640000</td>\n",
              "      <td>172450.541500</td>\n",
              "      <td>1641.8</td>\n",
              "      <td>2.765159e+05</td>\n",
              "      <td>0</td>\n",
              "      <td>0</td>\n",
              "      <td>1</td>\n",
              "    </tr>\n",
              "    <tr>\n",
              "      <th>878</th>\n",
              "      <td>-26.107107</td>\n",
              "      <td>127.696907</td>\n",
              "      <td>545.100000</td>\n",
              "      <td>0.066735</td>\n",
              "      <td>36377.000000</td>\n",
              "      <td>253.000000</td>\n",
              "      <td>0.100000</td>\n",
              "      <td>61677.000000</td>\n",
              "      <td>1641.8</td>\n",
              "      <td>4.153754e+05</td>\n",
              "      <td>0</td>\n",
              "      <td>0</td>\n",
              "      <td>1</td>\n",
              "    </tr>\n",
              "    <tr>\n",
              "      <th>784</th>\n",
              "      <td>-29.173211</td>\n",
              "      <td>122.253947</td>\n",
              "      <td>4.650000</td>\n",
              "      <td>18.500000</td>\n",
              "      <td>0.860250</td>\n",
              "      <td>7.490000</td>\n",
              "      <td>1.881497</td>\n",
              "      <td>0.860250</td>\n",
              "      <td>1649.0</td>\n",
              "      <td>1.235101e+04</td>\n",
              "      <td>0</td>\n",
              "      <td>0</td>\n",
              "      <td>1</td>\n",
              "    </tr>\n",
              "    <tr>\n",
              "      <th>525</th>\n",
              "      <td>-21.766987</td>\n",
              "      <td>116.777930</td>\n",
              "      <td>84.300000</td>\n",
              "      <td>57.188250</td>\n",
              "      <td>48.209695</td>\n",
              "      <td>1294.000000</td>\n",
              "      <td>2.988779</td>\n",
              "      <td>48.209695</td>\n",
              "      <td>1700.5</td>\n",
              "      <td>2.200447e+06</td>\n",
              "      <td>0</td>\n",
              "      <td>1</td>\n",
              "      <td>0</td>\n",
              "    </tr>\n",
              "    <tr>\n",
              "      <th>...</th>\n",
              "      <td>...</td>\n",
              "      <td>...</td>\n",
              "      <td>...</td>\n",
              "      <td>...</td>\n",
              "      <td>...</td>\n",
              "      <td>...</td>\n",
              "      <td>...</td>\n",
              "      <td>...</td>\n",
              "      <td>...</td>\n",
              "      <td>...</td>\n",
              "      <td>...</td>\n",
              "      <td>...</td>\n",
              "      <td>...</td>\n",
              "    </tr>\n",
              "    <tr>\n",
              "      <th>715</th>\n",
              "      <td>-30.044223</td>\n",
              "      <td>120.007463</td>\n",
              "      <td>1445.760000</td>\n",
              "      <td>29.301637</td>\n",
              "      <td>423.631350</td>\n",
              "      <td>236.600000</td>\n",
              "      <td>28.193153</td>\n",
              "      <td>490.336350</td>\n",
              "      <td>1670.0</td>\n",
              "      <td>3.951220e+05</td>\n",
              "      <td>0</td>\n",
              "      <td>1</td>\n",
              "      <td>0</td>\n",
              "    </tr>\n",
              "    <tr>\n",
              "      <th>767</th>\n",
              "      <td>-29.053396</td>\n",
              "      <td>122.151539</td>\n",
              "      <td>10.500000</td>\n",
              "      <td>0.988000</td>\n",
              "      <td>103.740000</td>\n",
              "      <td>6.900000</td>\n",
              "      <td>1.537423</td>\n",
              "      <td>103.740000</td>\n",
              "      <td>1700.5</td>\n",
              "      <td>1.173345e+04</td>\n",
              "      <td>0</td>\n",
              "      <td>0</td>\n",
              "      <td>1</td>\n",
              "    </tr>\n",
              "    <tr>\n",
              "      <th>72</th>\n",
              "      <td>-29.153011</td>\n",
              "      <td>121.675721</td>\n",
              "      <td>76.230000</td>\n",
              "      <td>0.597740</td>\n",
              "      <td>45565.700000</td>\n",
              "      <td>30.000000</td>\n",
              "      <td>1.798119</td>\n",
              "      <td>45565.700000</td>\n",
              "      <td>1700.5</td>\n",
              "      <td>5.101500e+04</td>\n",
              "      <td>1</td>\n",
              "      <td>0</td>\n",
              "      <td>0</td>\n",
              "    </tr>\n",
              "    <tr>\n",
              "      <th>235</th>\n",
              "      <td>-30.566178</td>\n",
              "      <td>121.112010</td>\n",
              "      <td>0.330000</td>\n",
              "      <td>1.054545</td>\n",
              "      <td>348.000000</td>\n",
              "      <td>30.700000</td>\n",
              "      <td>6.133579</td>\n",
              "      <td>348.000000</td>\n",
              "      <td>1700.5</td>\n",
              "      <td>5.220535e+04</td>\n",
              "      <td>1</td>\n",
              "      <td>0</td>\n",
              "      <td>0</td>\n",
              "    </tr>\n",
              "    <tr>\n",
              "      <th>37</th>\n",
              "      <td>-27.514745</td>\n",
              "      <td>120.940913</td>\n",
              "      <td>2.225000</td>\n",
              "      <td>1.922652</td>\n",
              "      <td>4277.900000</td>\n",
              "      <td>1.900000</td>\n",
              "      <td>0.020000</td>\n",
              "      <td>4277.900000</td>\n",
              "      <td>1662.4</td>\n",
              "      <td>3.158560e+03</td>\n",
              "      <td>1</td>\n",
              "      <td>0</td>\n",
              "      <td>0</td>\n",
              "    </tr>\n",
              "  </tbody>\n",
              "</table>\n",
              "<p>904 rows × 13 columns</p>\n",
              "</div>\n",
              "      <button class=\"colab-df-convert\" onclick=\"convertToInteractive('df-d7109d0d-ae70-4bf8-985c-19d3a318b3fa')\"\n",
              "              title=\"Convert this dataframe to an interactive table.\"\n",
              "              style=\"display:none;\">\n",
              "        \n",
              "  <svg xmlns=\"http://www.w3.org/2000/svg\" height=\"24px\"viewBox=\"0 0 24 24\"\n",
              "       width=\"24px\">\n",
              "    <path d=\"M0 0h24v24H0V0z\" fill=\"none\"/>\n",
              "    <path d=\"M18.56 5.44l.94 2.06.94-2.06 2.06-.94-2.06-.94-.94-2.06-.94 2.06-2.06.94zm-11 1L8.5 8.5l.94-2.06 2.06-.94-2.06-.94L8.5 2.5l-.94 2.06-2.06.94zm10 10l.94 2.06.94-2.06 2.06-.94-2.06-.94-.94-2.06-.94 2.06-2.06.94z\"/><path d=\"M17.41 7.96l-1.37-1.37c-.4-.4-.92-.59-1.43-.59-.52 0-1.04.2-1.43.59L10.3 9.45l-7.72 7.72c-.78.78-.78 2.05 0 2.83L4 21.41c.39.39.9.59 1.41.59.51 0 1.02-.2 1.41-.59l7.78-7.78 2.81-2.81c.8-.78.8-2.07 0-2.86zM5.41 20L4 18.59l7.72-7.72 1.47 1.35L5.41 20z\"/>\n",
              "  </svg>\n",
              "      </button>\n",
              "      \n",
              "  <style>\n",
              "    .colab-df-container {\n",
              "      display:flex;\n",
              "      flex-wrap:wrap;\n",
              "      gap: 12px;\n",
              "    }\n",
              "\n",
              "    .colab-df-convert {\n",
              "      background-color: #E8F0FE;\n",
              "      border: none;\n",
              "      border-radius: 50%;\n",
              "      cursor: pointer;\n",
              "      display: none;\n",
              "      fill: #1967D2;\n",
              "      height: 32px;\n",
              "      padding: 0 0 0 0;\n",
              "      width: 32px;\n",
              "    }\n",
              "\n",
              "    .colab-df-convert:hover {\n",
              "      background-color: #E2EBFA;\n",
              "      box-shadow: 0px 1px 2px rgba(60, 64, 67, 0.3), 0px 1px 3px 1px rgba(60, 64, 67, 0.15);\n",
              "      fill: #174EA6;\n",
              "    }\n",
              "\n",
              "    [theme=dark] .colab-df-convert {\n",
              "      background-color: #3B4455;\n",
              "      fill: #D2E3FC;\n",
              "    }\n",
              "\n",
              "    [theme=dark] .colab-df-convert:hover {\n",
              "      background-color: #434B5C;\n",
              "      box-shadow: 0px 1px 3px 1px rgba(0, 0, 0, 0.15);\n",
              "      filter: drop-shadow(0px 1px 2px rgba(0, 0, 0, 0.3));\n",
              "      fill: #FFFFFF;\n",
              "    }\n",
              "  </style>\n",
              "\n",
              "      <script>\n",
              "        const buttonEl =\n",
              "          document.querySelector('#df-d7109d0d-ae70-4bf8-985c-19d3a318b3fa button.colab-df-convert');\n",
              "        buttonEl.style.display =\n",
              "          google.colab.kernel.accessAllowed ? 'block' : 'none';\n",
              "\n",
              "        async function convertToInteractive(key) {\n",
              "          const element = document.querySelector('#df-d7109d0d-ae70-4bf8-985c-19d3a318b3fa');\n",
              "          const dataTable =\n",
              "            await google.colab.kernel.invokeFunction('convertToInteractive',\n",
              "                                                     [key], {});\n",
              "          if (!dataTable) return;\n",
              "\n",
              "          const docLinkHtml = 'Like what you see? Visit the ' +\n",
              "            '<a target=\"_blank\" href=https://colab.research.google.com/notebooks/data_table.ipynb>data table notebook</a>'\n",
              "            + ' to learn more about interactive tables.';\n",
              "          element.innerHTML = '';\n",
              "          dataTable['output_type'] = 'display_data';\n",
              "          await google.colab.output.renderOutput(dataTable, element);\n",
              "          const docLink = document.createElement('div');\n",
              "          docLink.innerHTML = docLinkHtml;\n",
              "          element.appendChild(docLink);\n",
              "        }\n",
              "      </script>\n",
              "    </div>\n",
              "  </div>\n",
              "  "
            ]
          },
          "metadata": {},
          "execution_count": 13
        }
      ]
    },
    {
      "cell_type": "code",
      "source": [
        "df = df[['LATITUDE',\t'LONGITUDE',\t'RES_QTY_MILLION_TONNES',\t'RES_QTY_GRAM_TONNE',\t'RES_CON_KILOGRAM',\n",
        "         'RV_QTY_million_tonnes',\t'RV_QTY_G_GRAM_TONNE',\t'POINT_SIZE_KILOGRAM',\n",
        "         'PRICE_USD','Gold','Iron','Nickel','MINERAL_LAND_VALUE_USD']]\n",
        "\n",
        "df"
      ],
      "metadata": {
        "colab": {
          "base_uri": "https://localhost:8080/",
          "height": 488
        },
        "id": "FCQlKHN0o379",
        "outputId": "051bfe3a-cced-40c3-8276-be4bcce64bd0"
      },
      "execution_count": null,
      "outputs": [
        {
          "output_type": "execute_result",
          "data": {
            "text/plain": [
              "      LATITUDE   LONGITUDE  RES_QTY_MILLION_TONNES  RES_QTY_GRAM_TONNE  \\\n",
              "874 -26.107107  127.696907              389.100000            0.011643   \n",
              "884 -26.039626  128.939310              215.837898           44.284417   \n",
              "878 -26.107107  127.696907              545.100000            0.066735   \n",
              "784 -29.173211  122.253947                4.650000           18.500000   \n",
              "525 -21.766987  116.777930               84.300000           57.188250   \n",
              "..         ...         ...                     ...                 ...   \n",
              "715 -30.044223  120.007463             1445.760000           29.301637   \n",
              "767 -29.053396  122.151539               10.500000            0.988000   \n",
              "72  -29.153011  121.675721               76.230000            0.597740   \n",
              "235 -30.566178  121.112010                0.330000            1.054545   \n",
              "37  -27.514745  120.940913                2.225000            1.922652   \n",
              "\n",
              "     RES_CON_KILOGRAM  RV_QTY_million_tonnes  RV_QTY_G_GRAM_TONNE  \\\n",
              "874      45304.000000             253.000000             0.012391   \n",
              "884      95582.555410             168.422406            45.640000   \n",
              "878      36377.000000             253.000000             0.100000   \n",
              "784          0.860250               7.490000             1.881497   \n",
              "525         48.209695            1294.000000             2.988779   \n",
              "..                ...                    ...                  ...   \n",
              "715        423.631350             236.600000            28.193153   \n",
              "767        103.740000               6.900000             1.537423   \n",
              "72       45565.700000              30.000000             1.798119   \n",
              "235        348.000000              30.700000             6.133579   \n",
              "37        4277.900000               1.900000             0.020000   \n",
              "\n",
              "     POINT_SIZE_KILOGRAM  PRICE_USD  Gold  Iron  Nickel  \\\n",
              "874         76654.000000     1641.8     0     0       1   \n",
              "884        172450.541500     1641.8     0     0       1   \n",
              "878         61677.000000     1641.8     0     0       1   \n",
              "784             0.860250     1649.0     0     0       1   \n",
              "525            48.209695     1700.5     0     1       0   \n",
              "..                   ...        ...   ...   ...     ...   \n",
              "715           490.336350     1670.0     0     1       0   \n",
              "767           103.740000     1700.5     0     0       1   \n",
              "72          45565.700000     1700.5     1     0       0   \n",
              "235           348.000000     1700.5     1     0       0   \n",
              "37           4277.900000     1662.4     1     0       0   \n",
              "\n",
              "     MINERAL_LAND_VALUE_USD  \n",
              "874            4.153754e+05  \n",
              "884            2.765159e+05  \n",
              "878            4.153754e+05  \n",
              "784            1.235101e+04  \n",
              "525            2.200447e+06  \n",
              "..                      ...  \n",
              "715            3.951220e+05  \n",
              "767            1.173345e+04  \n",
              "72             5.101500e+04  \n",
              "235            5.220535e+04  \n",
              "37             3.158560e+03  \n",
              "\n",
              "[904 rows x 13 columns]"
            ],
            "text/html": [
              "\n",
              "  <div id=\"df-e8d9b65d-88c5-4807-ab7d-dbf6e860055f\">\n",
              "    <div class=\"colab-df-container\">\n",
              "      <div>\n",
              "<style scoped>\n",
              "    .dataframe tbody tr th:only-of-type {\n",
              "        vertical-align: middle;\n",
              "    }\n",
              "\n",
              "    .dataframe tbody tr th {\n",
              "        vertical-align: top;\n",
              "    }\n",
              "\n",
              "    .dataframe thead th {\n",
              "        text-align: right;\n",
              "    }\n",
              "</style>\n",
              "<table border=\"1\" class=\"dataframe\">\n",
              "  <thead>\n",
              "    <tr style=\"text-align: right;\">\n",
              "      <th></th>\n",
              "      <th>LATITUDE</th>\n",
              "      <th>LONGITUDE</th>\n",
              "      <th>RES_QTY_MILLION_TONNES</th>\n",
              "      <th>RES_QTY_GRAM_TONNE</th>\n",
              "      <th>RES_CON_KILOGRAM</th>\n",
              "      <th>RV_QTY_million_tonnes</th>\n",
              "      <th>RV_QTY_G_GRAM_TONNE</th>\n",
              "      <th>POINT_SIZE_KILOGRAM</th>\n",
              "      <th>PRICE_USD</th>\n",
              "      <th>Gold</th>\n",
              "      <th>Iron</th>\n",
              "      <th>Nickel</th>\n",
              "      <th>MINERAL_LAND_VALUE_USD</th>\n",
              "    </tr>\n",
              "  </thead>\n",
              "  <tbody>\n",
              "    <tr>\n",
              "      <th>874</th>\n",
              "      <td>-26.107107</td>\n",
              "      <td>127.696907</td>\n",
              "      <td>389.100000</td>\n",
              "      <td>0.011643</td>\n",
              "      <td>45304.000000</td>\n",
              "      <td>253.000000</td>\n",
              "      <td>0.012391</td>\n",
              "      <td>76654.000000</td>\n",
              "      <td>1641.8</td>\n",
              "      <td>0</td>\n",
              "      <td>0</td>\n",
              "      <td>1</td>\n",
              "      <td>4.153754e+05</td>\n",
              "    </tr>\n",
              "    <tr>\n",
              "      <th>884</th>\n",
              "      <td>-26.039626</td>\n",
              "      <td>128.939310</td>\n",
              "      <td>215.837898</td>\n",
              "      <td>44.284417</td>\n",
              "      <td>95582.555410</td>\n",
              "      <td>168.422406</td>\n",
              "      <td>45.640000</td>\n",
              "      <td>172450.541500</td>\n",
              "      <td>1641.8</td>\n",
              "      <td>0</td>\n",
              "      <td>0</td>\n",
              "      <td>1</td>\n",
              "      <td>2.765159e+05</td>\n",
              "    </tr>\n",
              "    <tr>\n",
              "      <th>878</th>\n",
              "      <td>-26.107107</td>\n",
              "      <td>127.696907</td>\n",
              "      <td>545.100000</td>\n",
              "      <td>0.066735</td>\n",
              "      <td>36377.000000</td>\n",
              "      <td>253.000000</td>\n",
              "      <td>0.100000</td>\n",
              "      <td>61677.000000</td>\n",
              "      <td>1641.8</td>\n",
              "      <td>0</td>\n",
              "      <td>0</td>\n",
              "      <td>1</td>\n",
              "      <td>4.153754e+05</td>\n",
              "    </tr>\n",
              "    <tr>\n",
              "      <th>784</th>\n",
              "      <td>-29.173211</td>\n",
              "      <td>122.253947</td>\n",
              "      <td>4.650000</td>\n",
              "      <td>18.500000</td>\n",
              "      <td>0.860250</td>\n",
              "      <td>7.490000</td>\n",
              "      <td>1.881497</td>\n",
              "      <td>0.860250</td>\n",
              "      <td>1649.0</td>\n",
              "      <td>0</td>\n",
              "      <td>0</td>\n",
              "      <td>1</td>\n",
              "      <td>1.235101e+04</td>\n",
              "    </tr>\n",
              "    <tr>\n",
              "      <th>525</th>\n",
              "      <td>-21.766987</td>\n",
              "      <td>116.777930</td>\n",
              "      <td>84.300000</td>\n",
              "      <td>57.188250</td>\n",
              "      <td>48.209695</td>\n",
              "      <td>1294.000000</td>\n",
              "      <td>2.988779</td>\n",
              "      <td>48.209695</td>\n",
              "      <td>1700.5</td>\n",
              "      <td>0</td>\n",
              "      <td>1</td>\n",
              "      <td>0</td>\n",
              "      <td>2.200447e+06</td>\n",
              "    </tr>\n",
              "    <tr>\n",
              "      <th>...</th>\n",
              "      <td>...</td>\n",
              "      <td>...</td>\n",
              "      <td>...</td>\n",
              "      <td>...</td>\n",
              "      <td>...</td>\n",
              "      <td>...</td>\n",
              "      <td>...</td>\n",
              "      <td>...</td>\n",
              "      <td>...</td>\n",
              "      <td>...</td>\n",
              "      <td>...</td>\n",
              "      <td>...</td>\n",
              "      <td>...</td>\n",
              "    </tr>\n",
              "    <tr>\n",
              "      <th>715</th>\n",
              "      <td>-30.044223</td>\n",
              "      <td>120.007463</td>\n",
              "      <td>1445.760000</td>\n",
              "      <td>29.301637</td>\n",
              "      <td>423.631350</td>\n",
              "      <td>236.600000</td>\n",
              "      <td>28.193153</td>\n",
              "      <td>490.336350</td>\n",
              "      <td>1670.0</td>\n",
              "      <td>0</td>\n",
              "      <td>1</td>\n",
              "      <td>0</td>\n",
              "      <td>3.951220e+05</td>\n",
              "    </tr>\n",
              "    <tr>\n",
              "      <th>767</th>\n",
              "      <td>-29.053396</td>\n",
              "      <td>122.151539</td>\n",
              "      <td>10.500000</td>\n",
              "      <td>0.988000</td>\n",
              "      <td>103.740000</td>\n",
              "      <td>6.900000</td>\n",
              "      <td>1.537423</td>\n",
              "      <td>103.740000</td>\n",
              "      <td>1700.5</td>\n",
              "      <td>0</td>\n",
              "      <td>0</td>\n",
              "      <td>1</td>\n",
              "      <td>1.173345e+04</td>\n",
              "    </tr>\n",
              "    <tr>\n",
              "      <th>72</th>\n",
              "      <td>-29.153011</td>\n",
              "      <td>121.675721</td>\n",
              "      <td>76.230000</td>\n",
              "      <td>0.597740</td>\n",
              "      <td>45565.700000</td>\n",
              "      <td>30.000000</td>\n",
              "      <td>1.798119</td>\n",
              "      <td>45565.700000</td>\n",
              "      <td>1700.5</td>\n",
              "      <td>1</td>\n",
              "      <td>0</td>\n",
              "      <td>0</td>\n",
              "      <td>5.101500e+04</td>\n",
              "    </tr>\n",
              "    <tr>\n",
              "      <th>235</th>\n",
              "      <td>-30.566178</td>\n",
              "      <td>121.112010</td>\n",
              "      <td>0.330000</td>\n",
              "      <td>1.054545</td>\n",
              "      <td>348.000000</td>\n",
              "      <td>30.700000</td>\n",
              "      <td>6.133579</td>\n",
              "      <td>348.000000</td>\n",
              "      <td>1700.5</td>\n",
              "      <td>1</td>\n",
              "      <td>0</td>\n",
              "      <td>0</td>\n",
              "      <td>5.220535e+04</td>\n",
              "    </tr>\n",
              "    <tr>\n",
              "      <th>37</th>\n",
              "      <td>-27.514745</td>\n",
              "      <td>120.940913</td>\n",
              "      <td>2.225000</td>\n",
              "      <td>1.922652</td>\n",
              "      <td>4277.900000</td>\n",
              "      <td>1.900000</td>\n",
              "      <td>0.020000</td>\n",
              "      <td>4277.900000</td>\n",
              "      <td>1662.4</td>\n",
              "      <td>1</td>\n",
              "      <td>0</td>\n",
              "      <td>0</td>\n",
              "      <td>3.158560e+03</td>\n",
              "    </tr>\n",
              "  </tbody>\n",
              "</table>\n",
              "<p>904 rows × 13 columns</p>\n",
              "</div>\n",
              "      <button class=\"colab-df-convert\" onclick=\"convertToInteractive('df-e8d9b65d-88c5-4807-ab7d-dbf6e860055f')\"\n",
              "              title=\"Convert this dataframe to an interactive table.\"\n",
              "              style=\"display:none;\">\n",
              "        \n",
              "  <svg xmlns=\"http://www.w3.org/2000/svg\" height=\"24px\"viewBox=\"0 0 24 24\"\n",
              "       width=\"24px\">\n",
              "    <path d=\"M0 0h24v24H0V0z\" fill=\"none\"/>\n",
              "    <path d=\"M18.56 5.44l.94 2.06.94-2.06 2.06-.94-2.06-.94-.94-2.06-.94 2.06-2.06.94zm-11 1L8.5 8.5l.94-2.06 2.06-.94-2.06-.94L8.5 2.5l-.94 2.06-2.06.94zm10 10l.94 2.06.94-2.06 2.06-.94-2.06-.94-.94-2.06-.94 2.06-2.06.94z\"/><path d=\"M17.41 7.96l-1.37-1.37c-.4-.4-.92-.59-1.43-.59-.52 0-1.04.2-1.43.59L10.3 9.45l-7.72 7.72c-.78.78-.78 2.05 0 2.83L4 21.41c.39.39.9.59 1.41.59.51 0 1.02-.2 1.41-.59l7.78-7.78 2.81-2.81c.8-.78.8-2.07 0-2.86zM5.41 20L4 18.59l7.72-7.72 1.47 1.35L5.41 20z\"/>\n",
              "  </svg>\n",
              "      </button>\n",
              "      \n",
              "  <style>\n",
              "    .colab-df-container {\n",
              "      display:flex;\n",
              "      flex-wrap:wrap;\n",
              "      gap: 12px;\n",
              "    }\n",
              "\n",
              "    .colab-df-convert {\n",
              "      background-color: #E8F0FE;\n",
              "      border: none;\n",
              "      border-radius: 50%;\n",
              "      cursor: pointer;\n",
              "      display: none;\n",
              "      fill: #1967D2;\n",
              "      height: 32px;\n",
              "      padding: 0 0 0 0;\n",
              "      width: 32px;\n",
              "    }\n",
              "\n",
              "    .colab-df-convert:hover {\n",
              "      background-color: #E2EBFA;\n",
              "      box-shadow: 0px 1px 2px rgba(60, 64, 67, 0.3), 0px 1px 3px 1px rgba(60, 64, 67, 0.15);\n",
              "      fill: #174EA6;\n",
              "    }\n",
              "\n",
              "    [theme=dark] .colab-df-convert {\n",
              "      background-color: #3B4455;\n",
              "      fill: #D2E3FC;\n",
              "    }\n",
              "\n",
              "    [theme=dark] .colab-df-convert:hover {\n",
              "      background-color: #434B5C;\n",
              "      box-shadow: 0px 1px 3px 1px rgba(0, 0, 0, 0.15);\n",
              "      filter: drop-shadow(0px 1px 2px rgba(0, 0, 0, 0.3));\n",
              "      fill: #FFFFFF;\n",
              "    }\n",
              "  </style>\n",
              "\n",
              "      <script>\n",
              "        const buttonEl =\n",
              "          document.querySelector('#df-e8d9b65d-88c5-4807-ab7d-dbf6e860055f button.colab-df-convert');\n",
              "        buttonEl.style.display =\n",
              "          google.colab.kernel.accessAllowed ? 'block' : 'none';\n",
              "\n",
              "        async function convertToInteractive(key) {\n",
              "          const element = document.querySelector('#df-e8d9b65d-88c5-4807-ab7d-dbf6e860055f');\n",
              "          const dataTable =\n",
              "            await google.colab.kernel.invokeFunction('convertToInteractive',\n",
              "                                                     [key], {});\n",
              "          if (!dataTable) return;\n",
              "\n",
              "          const docLinkHtml = 'Like what you see? Visit the ' +\n",
              "            '<a target=\"_blank\" href=https://colab.research.google.com/notebooks/data_table.ipynb>data table notebook</a>'\n",
              "            + ' to learn more about interactive tables.';\n",
              "          element.innerHTML = '';\n",
              "          dataTable['output_type'] = 'display_data';\n",
              "          await google.colab.output.renderOutput(dataTable, element);\n",
              "          const docLink = document.createElement('div');\n",
              "          docLink.innerHTML = docLinkHtml;\n",
              "          element.appendChild(docLink);\n",
              "        }\n",
              "      </script>\n",
              "    </div>\n",
              "  </div>\n",
              "  "
            ]
          },
          "metadata": {},
          "execution_count": 14
        }
      ]
    },
    {
      "cell_type": "markdown",
      "source": [
        "Create Train, Test and Validation sets"
      ],
      "metadata": {
        "id": "Hp9nFyLGx5U2"
      }
    },
    {
      "cell_type": "code",
      "source": [
        "X = df.drop(columns='MINERAL_LAND_VALUE_USD')\n",
        "X.head() # Creating Features for input"
      ],
      "metadata": {
        "colab": {
          "base_uri": "https://localhost:8080/",
          "height": 206
        },
        "id": "CJVselKhyCNO",
        "outputId": "37effe17-d2eb-4312-a61d-3f5f4832aeee"
      },
      "execution_count": null,
      "outputs": [
        {
          "output_type": "execute_result",
          "data": {
            "text/plain": [
              "      LATITUDE   LONGITUDE  RES_QTY_MILLION_TONNES  RES_QTY_GRAM_TONNE  \\\n",
              "874 -26.107107  127.696907              389.100000            0.011643   \n",
              "884 -26.039626  128.939310              215.837898           44.284417   \n",
              "878 -26.107107  127.696907              545.100000            0.066735   \n",
              "784 -29.173211  122.253947                4.650000           18.500000   \n",
              "525 -21.766987  116.777930               84.300000           57.188250   \n",
              "\n",
              "     RES_CON_KILOGRAM  RV_QTY_million_tonnes  RV_QTY_G_GRAM_TONNE  \\\n",
              "874      45304.000000             253.000000             0.012391   \n",
              "884      95582.555410             168.422406            45.640000   \n",
              "878      36377.000000             253.000000             0.100000   \n",
              "784          0.860250               7.490000             1.881497   \n",
              "525         48.209695            1294.000000             2.988779   \n",
              "\n",
              "     POINT_SIZE_KILOGRAM  PRICE_USD  Gold  Iron  Nickel  \n",
              "874         76654.000000     1641.8     0     0       1  \n",
              "884        172450.541500     1641.8     0     0       1  \n",
              "878         61677.000000     1641.8     0     0       1  \n",
              "784             0.860250     1649.0     0     0       1  \n",
              "525            48.209695     1700.5     0     1       0  "
            ],
            "text/html": [
              "\n",
              "  <div id=\"df-5207900b-c50d-4f47-b19c-bb171bebb57d\">\n",
              "    <div class=\"colab-df-container\">\n",
              "      <div>\n",
              "<style scoped>\n",
              "    .dataframe tbody tr th:only-of-type {\n",
              "        vertical-align: middle;\n",
              "    }\n",
              "\n",
              "    .dataframe tbody tr th {\n",
              "        vertical-align: top;\n",
              "    }\n",
              "\n",
              "    .dataframe thead th {\n",
              "        text-align: right;\n",
              "    }\n",
              "</style>\n",
              "<table border=\"1\" class=\"dataframe\">\n",
              "  <thead>\n",
              "    <tr style=\"text-align: right;\">\n",
              "      <th></th>\n",
              "      <th>LATITUDE</th>\n",
              "      <th>LONGITUDE</th>\n",
              "      <th>RES_QTY_MILLION_TONNES</th>\n",
              "      <th>RES_QTY_GRAM_TONNE</th>\n",
              "      <th>RES_CON_KILOGRAM</th>\n",
              "      <th>RV_QTY_million_tonnes</th>\n",
              "      <th>RV_QTY_G_GRAM_TONNE</th>\n",
              "      <th>POINT_SIZE_KILOGRAM</th>\n",
              "      <th>PRICE_USD</th>\n",
              "      <th>Gold</th>\n",
              "      <th>Iron</th>\n",
              "      <th>Nickel</th>\n",
              "    </tr>\n",
              "  </thead>\n",
              "  <tbody>\n",
              "    <tr>\n",
              "      <th>874</th>\n",
              "      <td>-26.107107</td>\n",
              "      <td>127.696907</td>\n",
              "      <td>389.100000</td>\n",
              "      <td>0.011643</td>\n",
              "      <td>45304.000000</td>\n",
              "      <td>253.000000</td>\n",
              "      <td>0.012391</td>\n",
              "      <td>76654.000000</td>\n",
              "      <td>1641.8</td>\n",
              "      <td>0</td>\n",
              "      <td>0</td>\n",
              "      <td>1</td>\n",
              "    </tr>\n",
              "    <tr>\n",
              "      <th>884</th>\n",
              "      <td>-26.039626</td>\n",
              "      <td>128.939310</td>\n",
              "      <td>215.837898</td>\n",
              "      <td>44.284417</td>\n",
              "      <td>95582.555410</td>\n",
              "      <td>168.422406</td>\n",
              "      <td>45.640000</td>\n",
              "      <td>172450.541500</td>\n",
              "      <td>1641.8</td>\n",
              "      <td>0</td>\n",
              "      <td>0</td>\n",
              "      <td>1</td>\n",
              "    </tr>\n",
              "    <tr>\n",
              "      <th>878</th>\n",
              "      <td>-26.107107</td>\n",
              "      <td>127.696907</td>\n",
              "      <td>545.100000</td>\n",
              "      <td>0.066735</td>\n",
              "      <td>36377.000000</td>\n",
              "      <td>253.000000</td>\n",
              "      <td>0.100000</td>\n",
              "      <td>61677.000000</td>\n",
              "      <td>1641.8</td>\n",
              "      <td>0</td>\n",
              "      <td>0</td>\n",
              "      <td>1</td>\n",
              "    </tr>\n",
              "    <tr>\n",
              "      <th>784</th>\n",
              "      <td>-29.173211</td>\n",
              "      <td>122.253947</td>\n",
              "      <td>4.650000</td>\n",
              "      <td>18.500000</td>\n",
              "      <td>0.860250</td>\n",
              "      <td>7.490000</td>\n",
              "      <td>1.881497</td>\n",
              "      <td>0.860250</td>\n",
              "      <td>1649.0</td>\n",
              "      <td>0</td>\n",
              "      <td>0</td>\n",
              "      <td>1</td>\n",
              "    </tr>\n",
              "    <tr>\n",
              "      <th>525</th>\n",
              "      <td>-21.766987</td>\n",
              "      <td>116.777930</td>\n",
              "      <td>84.300000</td>\n",
              "      <td>57.188250</td>\n",
              "      <td>48.209695</td>\n",
              "      <td>1294.000000</td>\n",
              "      <td>2.988779</td>\n",
              "      <td>48.209695</td>\n",
              "      <td>1700.5</td>\n",
              "      <td>0</td>\n",
              "      <td>1</td>\n",
              "      <td>0</td>\n",
              "    </tr>\n",
              "  </tbody>\n",
              "</table>\n",
              "</div>\n",
              "      <button class=\"colab-df-convert\" onclick=\"convertToInteractive('df-5207900b-c50d-4f47-b19c-bb171bebb57d')\"\n",
              "              title=\"Convert this dataframe to an interactive table.\"\n",
              "              style=\"display:none;\">\n",
              "        \n",
              "  <svg xmlns=\"http://www.w3.org/2000/svg\" height=\"24px\"viewBox=\"0 0 24 24\"\n",
              "       width=\"24px\">\n",
              "    <path d=\"M0 0h24v24H0V0z\" fill=\"none\"/>\n",
              "    <path d=\"M18.56 5.44l.94 2.06.94-2.06 2.06-.94-2.06-.94-.94-2.06-.94 2.06-2.06.94zm-11 1L8.5 8.5l.94-2.06 2.06-.94-2.06-.94L8.5 2.5l-.94 2.06-2.06.94zm10 10l.94 2.06.94-2.06 2.06-.94-2.06-.94-.94-2.06-.94 2.06-2.06.94z\"/><path d=\"M17.41 7.96l-1.37-1.37c-.4-.4-.92-.59-1.43-.59-.52 0-1.04.2-1.43.59L10.3 9.45l-7.72 7.72c-.78.78-.78 2.05 0 2.83L4 21.41c.39.39.9.59 1.41.59.51 0 1.02-.2 1.41-.59l7.78-7.78 2.81-2.81c.8-.78.8-2.07 0-2.86zM5.41 20L4 18.59l7.72-7.72 1.47 1.35L5.41 20z\"/>\n",
              "  </svg>\n",
              "      </button>\n",
              "      \n",
              "  <style>\n",
              "    .colab-df-container {\n",
              "      display:flex;\n",
              "      flex-wrap:wrap;\n",
              "      gap: 12px;\n",
              "    }\n",
              "\n",
              "    .colab-df-convert {\n",
              "      background-color: #E8F0FE;\n",
              "      border: none;\n",
              "      border-radius: 50%;\n",
              "      cursor: pointer;\n",
              "      display: none;\n",
              "      fill: #1967D2;\n",
              "      height: 32px;\n",
              "      padding: 0 0 0 0;\n",
              "      width: 32px;\n",
              "    }\n",
              "\n",
              "    .colab-df-convert:hover {\n",
              "      background-color: #E2EBFA;\n",
              "      box-shadow: 0px 1px 2px rgba(60, 64, 67, 0.3), 0px 1px 3px 1px rgba(60, 64, 67, 0.15);\n",
              "      fill: #174EA6;\n",
              "    }\n",
              "\n",
              "    [theme=dark] .colab-df-convert {\n",
              "      background-color: #3B4455;\n",
              "      fill: #D2E3FC;\n",
              "    }\n",
              "\n",
              "    [theme=dark] .colab-df-convert:hover {\n",
              "      background-color: #434B5C;\n",
              "      box-shadow: 0px 1px 3px 1px rgba(0, 0, 0, 0.15);\n",
              "      filter: drop-shadow(0px 1px 2px rgba(0, 0, 0, 0.3));\n",
              "      fill: #FFFFFF;\n",
              "    }\n",
              "  </style>\n",
              "\n",
              "      <script>\n",
              "        const buttonEl =\n",
              "          document.querySelector('#df-5207900b-c50d-4f47-b19c-bb171bebb57d button.colab-df-convert');\n",
              "        buttonEl.style.display =\n",
              "          google.colab.kernel.accessAllowed ? 'block' : 'none';\n",
              "\n",
              "        async function convertToInteractive(key) {\n",
              "          const element = document.querySelector('#df-5207900b-c50d-4f47-b19c-bb171bebb57d');\n",
              "          const dataTable =\n",
              "            await google.colab.kernel.invokeFunction('convertToInteractive',\n",
              "                                                     [key], {});\n",
              "          if (!dataTable) return;\n",
              "\n",
              "          const docLinkHtml = 'Like what you see? Visit the ' +\n",
              "            '<a target=\"_blank\" href=https://colab.research.google.com/notebooks/data_table.ipynb>data table notebook</a>'\n",
              "            + ' to learn more about interactive tables.';\n",
              "          element.innerHTML = '';\n",
              "          dataTable['output_type'] = 'display_data';\n",
              "          await google.colab.output.renderOutput(dataTable, element);\n",
              "          const docLink = document.createElement('div');\n",
              "          docLink.innerHTML = docLinkHtml;\n",
              "          element.appendChild(docLink);\n",
              "        }\n",
              "      </script>\n",
              "    </div>\n",
              "  </div>\n",
              "  "
            ]
          },
          "metadata": {},
          "execution_count": 15
        }
      ]
    },
    {
      "cell_type": "code",
      "source": [
        "Y = df[['MINERAL_LAND_VALUE_USD']] # This is our predicting feature \n",
        "Y.head()"
      ],
      "metadata": {
        "colab": {
          "base_uri": "https://localhost:8080/",
          "height": 206
        },
        "id": "IKBN9cTQyGlX",
        "outputId": "1137a72b-5c87-4440-cf81-9a44e30c7205"
      },
      "execution_count": null,
      "outputs": [
        {
          "output_type": "execute_result",
          "data": {
            "text/plain": [
              "     MINERAL_LAND_VALUE_USD\n",
              "874            4.153754e+05\n",
              "884            2.765159e+05\n",
              "878            4.153754e+05\n",
              "784            1.235101e+04\n",
              "525            2.200447e+06"
            ],
            "text/html": [
              "\n",
              "  <div id=\"df-10ef8417-895b-4a26-a7f4-d7b97c18426c\">\n",
              "    <div class=\"colab-df-container\">\n",
              "      <div>\n",
              "<style scoped>\n",
              "    .dataframe tbody tr th:only-of-type {\n",
              "        vertical-align: middle;\n",
              "    }\n",
              "\n",
              "    .dataframe tbody tr th {\n",
              "        vertical-align: top;\n",
              "    }\n",
              "\n",
              "    .dataframe thead th {\n",
              "        text-align: right;\n",
              "    }\n",
              "</style>\n",
              "<table border=\"1\" class=\"dataframe\">\n",
              "  <thead>\n",
              "    <tr style=\"text-align: right;\">\n",
              "      <th></th>\n",
              "      <th>MINERAL_LAND_VALUE_USD</th>\n",
              "    </tr>\n",
              "  </thead>\n",
              "  <tbody>\n",
              "    <tr>\n",
              "      <th>874</th>\n",
              "      <td>4.153754e+05</td>\n",
              "    </tr>\n",
              "    <tr>\n",
              "      <th>884</th>\n",
              "      <td>2.765159e+05</td>\n",
              "    </tr>\n",
              "    <tr>\n",
              "      <th>878</th>\n",
              "      <td>4.153754e+05</td>\n",
              "    </tr>\n",
              "    <tr>\n",
              "      <th>784</th>\n",
              "      <td>1.235101e+04</td>\n",
              "    </tr>\n",
              "    <tr>\n",
              "      <th>525</th>\n",
              "      <td>2.200447e+06</td>\n",
              "    </tr>\n",
              "  </tbody>\n",
              "</table>\n",
              "</div>\n",
              "      <button class=\"colab-df-convert\" onclick=\"convertToInteractive('df-10ef8417-895b-4a26-a7f4-d7b97c18426c')\"\n",
              "              title=\"Convert this dataframe to an interactive table.\"\n",
              "              style=\"display:none;\">\n",
              "        \n",
              "  <svg xmlns=\"http://www.w3.org/2000/svg\" height=\"24px\"viewBox=\"0 0 24 24\"\n",
              "       width=\"24px\">\n",
              "    <path d=\"M0 0h24v24H0V0z\" fill=\"none\"/>\n",
              "    <path d=\"M18.56 5.44l.94 2.06.94-2.06 2.06-.94-2.06-.94-.94-2.06-.94 2.06-2.06.94zm-11 1L8.5 8.5l.94-2.06 2.06-.94-2.06-.94L8.5 2.5l-.94 2.06-2.06.94zm10 10l.94 2.06.94-2.06 2.06-.94-2.06-.94-.94-2.06-.94 2.06-2.06.94z\"/><path d=\"M17.41 7.96l-1.37-1.37c-.4-.4-.92-.59-1.43-.59-.52 0-1.04.2-1.43.59L10.3 9.45l-7.72 7.72c-.78.78-.78 2.05 0 2.83L4 21.41c.39.39.9.59 1.41.59.51 0 1.02-.2 1.41-.59l7.78-7.78 2.81-2.81c.8-.78.8-2.07 0-2.86zM5.41 20L4 18.59l7.72-7.72 1.47 1.35L5.41 20z\"/>\n",
              "  </svg>\n",
              "      </button>\n",
              "      \n",
              "  <style>\n",
              "    .colab-df-container {\n",
              "      display:flex;\n",
              "      flex-wrap:wrap;\n",
              "      gap: 12px;\n",
              "    }\n",
              "\n",
              "    .colab-df-convert {\n",
              "      background-color: #E8F0FE;\n",
              "      border: none;\n",
              "      border-radius: 50%;\n",
              "      cursor: pointer;\n",
              "      display: none;\n",
              "      fill: #1967D2;\n",
              "      height: 32px;\n",
              "      padding: 0 0 0 0;\n",
              "      width: 32px;\n",
              "    }\n",
              "\n",
              "    .colab-df-convert:hover {\n",
              "      background-color: #E2EBFA;\n",
              "      box-shadow: 0px 1px 2px rgba(60, 64, 67, 0.3), 0px 1px 3px 1px rgba(60, 64, 67, 0.15);\n",
              "      fill: #174EA6;\n",
              "    }\n",
              "\n",
              "    [theme=dark] .colab-df-convert {\n",
              "      background-color: #3B4455;\n",
              "      fill: #D2E3FC;\n",
              "    }\n",
              "\n",
              "    [theme=dark] .colab-df-convert:hover {\n",
              "      background-color: #434B5C;\n",
              "      box-shadow: 0px 1px 3px 1px rgba(0, 0, 0, 0.15);\n",
              "      filter: drop-shadow(0px 1px 2px rgba(0, 0, 0, 0.3));\n",
              "      fill: #FFFFFF;\n",
              "    }\n",
              "  </style>\n",
              "\n",
              "      <script>\n",
              "        const buttonEl =\n",
              "          document.querySelector('#df-10ef8417-895b-4a26-a7f4-d7b97c18426c button.colab-df-convert');\n",
              "        buttonEl.style.display =\n",
              "          google.colab.kernel.accessAllowed ? 'block' : 'none';\n",
              "\n",
              "        async function convertToInteractive(key) {\n",
              "          const element = document.querySelector('#df-10ef8417-895b-4a26-a7f4-d7b97c18426c');\n",
              "          const dataTable =\n",
              "            await google.colab.kernel.invokeFunction('convertToInteractive',\n",
              "                                                     [key], {});\n",
              "          if (!dataTable) return;\n",
              "\n",
              "          const docLinkHtml = 'Like what you see? Visit the ' +\n",
              "            '<a target=\"_blank\" href=https://colab.research.google.com/notebooks/data_table.ipynb>data table notebook</a>'\n",
              "            + ' to learn more about interactive tables.';\n",
              "          element.innerHTML = '';\n",
              "          dataTable['output_type'] = 'display_data';\n",
              "          await google.colab.output.renderOutput(dataTable, element);\n",
              "          const docLink = document.createElement('div');\n",
              "          docLink.innerHTML = docLinkHtml;\n",
              "          element.appendChild(docLink);\n",
              "        }\n",
              "      </script>\n",
              "    </div>\n",
              "  </div>\n",
              "  "
            ]
          },
          "metadata": {},
          "execution_count": 16
        }
      ]
    },
    {
      "cell_type": "code",
      "source": [
        "# set aside 20% of train and test data for evaluation\n",
        "X_train, X_test, y_train, y_test = train_test_split(X, Y,\n",
        "    test_size=0.2, shuffle = True, random_state = 8)\n",
        "\n",
        "# Use the same function above for the validation set\n",
        "X_train, X_val, y_train, y_val = train_test_split(X_train, y_train, \n",
        "    test_size=0.25, random_state= 8)\n",
        "\n",
        "print(\"X_train shape: {}\".format(X_train.shape))\n",
        "print(\"y_train shape: {}\".format(y_train.shape))\n",
        "print(\"X_test shape: {}\".format(X_test.shape))\n",
        "print(\"y_test shape: {}\".format(y_test.shape))\n",
        "print(\"X_val shape: {}\".format(X_val.shape))\n",
        "print(\"y val shape: {}\".format(y_val.shape))\n"
      ],
      "metadata": {
        "colab": {
          "base_uri": "https://localhost:8080/"
        },
        "id": "JzzEBUPQx9Fv",
        "outputId": "22c4b0b2-a710-407d-8783-c63b7170e6b2"
      },
      "execution_count": null,
      "outputs": [
        {
          "output_type": "stream",
          "name": "stdout",
          "text": [
            "X_train shape: (542, 12)\n",
            "y_train shape: (542, 1)\n",
            "X_test shape: (181, 12)\n",
            "y_test shape: (181, 1)\n",
            "X_val shape: (181, 12)\n",
            "y val shape: (181, 1)\n"
          ]
        }
      ]
    },
    {
      "cell_type": "markdown",
      "source": [
        "**Data Standardization by using StandardScaler function**"
      ],
      "metadata": {
        "id": "eJf92-tEC82T"
      }
    },
    {
      "cell_type": "code",
      "source": [
        "from sklearn.preprocessing import StandardScaler\n",
        "\n",
        "scaler = StandardScaler().fit(df.iloc[:, :9])\n",
        "\n",
        "def preprocessor(X):\n",
        "  A = np.copy(X)\n",
        "  A[:, :9] = scaler.transform(A[:, :9])\n",
        "  return A\n",
        "\n",
        "\n",
        "X_train, X_val,X_test = preprocessor(X_train), preprocessor(X_val),preprocessor(X_test)\n",
        "\n",
        "\n",
        "\n",
        "\n"
      ],
      "metadata": {
        "colab": {
          "base_uri": "https://localhost:8080/"
        },
        "id": "8kfMAjUzrDCj",
        "outputId": "d36604d5-5981-4581-be60-7479adacd6e3"
      },
      "execution_count": null,
      "outputs": [
        {
          "output_type": "stream",
          "name": "stderr",
          "text": [
            "/usr/local/lib/python3.7/dist-packages/sklearn/base.py:451: UserWarning: X does not have valid feature names, but StandardScaler was fitted with feature names\n",
            "  \"X does not have valid feature names, but\"\n",
            "/usr/local/lib/python3.7/dist-packages/sklearn/base.py:451: UserWarning: X does not have valid feature names, but StandardScaler was fitted with feature names\n",
            "  \"X does not have valid feature names, but\"\n",
            "/usr/local/lib/python3.7/dist-packages/sklearn/base.py:451: UserWarning: X does not have valid feature names, but StandardScaler was fitted with feature names\n",
            "  \"X does not have valid feature names, but\"\n"
          ]
        }
      ]
    },
    {
      "cell_type": "code",
      "source": [
        "X_train.shape,X_test.shape,X_val.shape"
      ],
      "metadata": {
        "colab": {
          "base_uri": "https://localhost:8080/"
        },
        "id": "v24QgH9w2wCD",
        "outputId": "91b33143-bdca-413b-98cd-789e8cdee919"
      },
      "execution_count": null,
      "outputs": [
        {
          "output_type": "execute_result",
          "data": {
            "text/plain": [
              "((542, 12), (181, 12), (181, 12))"
            ]
          },
          "metadata": {},
          "execution_count": 19
        }
      ]
    },
    {
      "cell_type": "code",
      "source": [
        "pd.DataFrame(X_train).hist()\n",
        "pd.DataFrame(X_test).hist()\n",
        "pd.DataFrame(X_val).hist()"
      ],
      "metadata": {
        "colab": {
          "base_uri": "https://localhost:8080/",
          "height": 1035
        },
        "id": "OW1Yes8st6_T",
        "outputId": "fe05f273-eca3-48ae-a0be-e91bb06f383d"
      },
      "execution_count": null,
      "outputs": [
        {
          "output_type": "execute_result",
          "data": {
            "text/plain": [
              "array([[<matplotlib.axes._subplots.AxesSubplot object at 0x7f04f5a7fc50>,\n",
              "        <matplotlib.axes._subplots.AxesSubplot object at 0x7f04f58ad1d0>,\n",
              "        <matplotlib.axes._subplots.AxesSubplot object at 0x7f04f58637d0>],\n",
              "       [<matplotlib.axes._subplots.AxesSubplot object at 0x7f04f581add0>,\n",
              "        <matplotlib.axes._subplots.AxesSubplot object at 0x7f04f57df410>,\n",
              "        <matplotlib.axes._subplots.AxesSubplot object at 0x7f04f5796a10>],\n",
              "       [<matplotlib.axes._subplots.AxesSubplot object at 0x7f04f574cfd0>,\n",
              "        <matplotlib.axes._subplots.AxesSubplot object at 0x7f04f5710610>,\n",
              "        <matplotlib.axes._subplots.AxesSubplot object at 0x7f04f5710650>],\n",
              "       [<matplotlib.axes._subplots.AxesSubplot object at 0x7f04f56c8d50>,\n",
              "        <matplotlib.axes._subplots.AxesSubplot object at 0x7f04f56c2890>,\n",
              "        <matplotlib.axes._subplots.AxesSubplot object at 0x7f04f5679e90>]],\n",
              "      dtype=object)"
            ]
          },
          "metadata": {},
          "execution_count": 20
        },
        {
          "output_type": "display_data",
          "data": {
            "text/plain": [
              "<Figure size 432x288 with 12 Axes>"
            ],
            "image/png": "[encoded data removed]"
          },
          "metadata": {
            "needs_background": "light"
          }
        },
        {
          "output_type": "display_data",
          "data": {
            "text/plain": [
              "<Figure size 432x288 with 12 Axes>"
            ],
            "image/png": "[encoded data removed]"
          },
          "metadata": {
            "needs_background": "light"
          }
        },
        {
          "output_type": "display_data",
          "data": {
            "text/plain": [
              "<Figure size 432x288 with 12 Axes>"
            ],
            "image/png": "[encoded data removed]"
          },
          "metadata": {
            "needs_background": "light"
          }
        }
      ]
    },
    {
      "cell_type": "markdown",
      "source": [
        "**Multi Linear Regresssion** \n"
      ],
      "metadata": {
        "id": "ikExiNcE5JXD"
      }
    },
    {
      "cell_type": "code",
      "source": [
        "from sklearn.metrics import mean_squared_error as mse \n",
        "from sklearn.metrics import mean_absolute_error as mae\n",
        "from sklearn.metrics import r2_score as r2 \n",
        "from termcolor import colored as cl\n",
        "from sklearn.linear_model import LinearRegression\n",
        "lm = LinearRegression().fit(X_train, y_train)                                                   # Trying to observe the training and validation error for linear regresssion  \n",
        "\n",
        "#RMSE\n",
        "Train_RMSE_MLR=   np.sqrt(mse(lm.predict(X_train), (y_train), squared = False))\n",
        "print(Train_RMSE_MLR)\n",
        "\n",
        "Val_RMSE_MLR = np.sqrt(mse(lm.predict(X_val), (y_val), squared = False))\n",
        "print(Val_RMSE_MLR)\n",
        "\n",
        "#MAE \n",
        "Train_MAE_MLR=   np.sqrt(mae(lm.predict(X_train), (y_train)))\n",
        "print(Train_MAE_MLR)\n",
        "\n",
        "Val_MAE_MLR = np.sqrt(mae(lm.predict(X_val), (y_val)))\n",
        "print(Val_MAE_MLR)\n",
        "\n",
        "#R2\n",
        "lm_yhat = lm.predict(X_val)\n",
        "#print(cl('R-Squared of lm model is {}'.format(r2(y_val, lm_yhat)), attrs= ['bold']))\n",
        "\n",
        "Train_r2_MLR = r2(y_val, lm_yhat)\n",
        "Train_r2_MLR\n",
        "\n",
        "\n",
        "\n",
        " # By observing the results, there is chances we are slightly underfitting as the training loss is lower than validation loss"
      ],
      "metadata": {
        "colab": {
          "base_uri": "https://localhost:8080/"
        },
        "id": "Rwj4ao5u5PLi",
        "outputId": "be3a83b0-23d4-4f4d-fd2f-f26b99678943"
      },
      "execution_count": null,
      "outputs": [
        {
          "output_type": "stream",
          "name": "stdout",
          "text": [
            "100.9672783719362\n",
            "78.28559217672988\n",
            "67.60024516812142\n",
            "56.47356805054947\n"
          ]
        },
        {
          "output_type": "execute_result",
          "data": {
            "text/plain": [
              "0.9995403324307511"
            ]
          },
          "metadata": {},
          "execution_count": 203
        }
      ]
    },
    {
      "cell_type": "markdown",
      "source": [
        "**Support Vector Regressor (SVM)**"
      ],
      "metadata": {
        "id": "fSqVa2ui7_2R"
      }
    },
    {
      "cell_type": "code",
      "source": [
        "from sklearn import svm\n",
        "h1 = svm.SVR()\n",
        "h1.fit(X_train,y_train)"
      ],
      "metadata": {
        "id": "qwst4B5i8DsL",
        "outputId": "2cdc30bd-d92f-43b6-8da8-9c15cc6c14f9",
        "colab": {
          "base_uri": "https://localhost:8080/"
        }
      },
      "execution_count": null,
      "outputs": [
        {
          "output_type": "stream",
          "name": "stderr",
          "text": [
            "/usr/local/lib/python3.7/dist-packages/sklearn/utils/validation.py:993: DataConversionWarning: A column-vector y was passed when a 1d array was expected. Please change the shape of y to (n_samples, ), for example using ravel().\n",
            "  y = column_or_1d(y, warn=True)\n"
          ]
        },
        {
          "output_type": "execute_result",
          "data": {
            "text/plain": [
              "SVR()"
            ]
          },
          "metadata": {},
          "execution_count": 202
        }
      ]
    },
    {
      "cell_type": "code",
      "source": [
        "y_pred_svm = h1.predict(X_val)\n",
        "\n",
        "#RMSE\n",
        "Train_RMSE_SVM = np.sqrt(mse(h1.predict(X_train), (y_train), squared = False))# Train_Score_SVM\n",
        "print(Train_RMSE_SVM) \n",
        "\n",
        "Val_RMSE_SVM = np.sqrt(mse(h1.predict(X_val), (y_val), squared = False))\n",
        "print(Val_RMSE_SVM) \n",
        "\n",
        "#MAE\n",
        "Train_MAE_SVM = np.sqrt(mae(h1.predict(X_train), (y_train)))# Train_Score_SVM\n",
        "print(Train_MAE_SVM)  \n",
        "\n",
        "Val_MAE_SVM = np.sqrt(mae(h1.predict(X_val), (y_val)))\n",
        "print(Val_MAE_SVM) \n",
        "\n",
        "#R2\n",
        "svm_yhat = h1.predict(X_val)\n",
        "\n",
        "Train_r2_SVM = r2(y_val, svm_yhat)\n",
        "Train_r2_SVM\n",
        "\n",
        "\n",
        "\n",
        "#Validation_score_SVM = mse(lm.predict(X_val), (y_val), squared = False)"
      ],
      "metadata": {
        "id": "p5UEd9Tn8yKS",
        "outputId": "0e0d7d06-f139-4109-cf41-91b6d5d3ebc5",
        "colab": {
          "base_uri": "https://localhost:8080/"
        }
      },
      "execution_count": null,
      "outputs": [
        {
          "output_type": "stream",
          "name": "stdout",
          "text": [
            "909.9414795275231\n",
            "552.047349756485\n",
            "506.1398468262826\n",
            "339.2720170691113\n"
          ]
        },
        {
          "output_type": "execute_result",
          "data": {
            "text/plain": [
              "-0.13663707307114614"
            ]
          },
          "metadata": {},
          "execution_count": 201
        }
      ]
    },
    {
      "cell_type": "markdown",
      "source": [
        "**Gradient boosting model Regressor tree**"
      ],
      "metadata": {
        "id": "G-ynah-o-3El"
      }
    },
    {
      "cell_type": "code",
      "source": [
        "from sklearn.ensemble import GradientBoostingRegressor\n",
        "\n",
        "gbr = GradientBoostingRegressor(max_depth =3,n_estimators= 75).fit(X_train, y_train)  # Noted that arond 50 is when train and val loss are similar and low. So less signs of over/underfitting. Leave at 52. Best so far\n",
        "\n",
        "#RMSE\n",
        "Train_RMSE_GBM=np.sqrt(mse(gbr.predict(X_train), (y_train), squared = False))\n",
        "Train_RMSE_GBM\n",
        "\n",
        "Val_RMSE_GBM=np.sqrt(mse(gbr.predict(X_val), (y_val), squared = False))\n",
        "Val_RMSE_GBM\n",
        "\n",
        "#MAE \n",
        "\n",
        "Train_MAE_GBM=np.sqrt(mae(gbr.predict(X_train), (y_train)))\n",
        "Train_MAE_GBM\n",
        "\n",
        "Val_MAE_GBM=np.sqrt(mae(gbr.predict(X_val), (y_val)))\n",
        "Val_MAE_GBM\n",
        "\n",
        "\n",
        "#R2 \n",
        "\n",
        "\n",
        "GBM_yhat = gbr.predict(X_val)\n",
        "\n",
        "Train_r2_GBM = r2(y_val, GBM_yhat)\n",
        "Train_r2_GBM\n",
        "\n",
        "\n",
        "\n",
        "#print(Train_RMSE_GBM)\n",
        "#mse(gbr.predict(X_val), (y_val), squared = False)"
      ],
      "metadata": {
        "id": "SXWqSN_w-99d",
        "outputId": "1b9962ae-02d0-4e44-d9fe-2b920e1625e7",
        "colab": {
          "base_uri": "https://localhost:8080/"
        }
      },
      "execution_count": null,
      "outputs": [
        {
          "output_type": "stream",
          "name": "stderr",
          "text": [
            "/usr/local/lib/python3.7/dist-packages/sklearn/ensemble/_gb.py:494: DataConversionWarning: A column-vector y was passed when a 1d array was expected. Please change the shape of y to (n_samples, ), for example using ravel().\n",
            "  y = column_or_1d(y, warn=True)\n"
          ]
        },
        {
          "output_type": "execute_result",
          "data": {
            "text/plain": [
              "0.9996683353902537"
            ]
          },
          "metadata": {},
          "execution_count": 200
        }
      ]
    },
    {
      "cell_type": "markdown",
      "source": [
        "DNN libraries"
      ],
      "metadata": {
        "id": "vHzfJkWzAkeq"
      }
    },
    {
      "cell_type": "code",
      "source": [
        "from tensorflow.keras.models import Sequential\n",
        "from tensorflow.keras.layers import * \n",
        "from tensorflow.keras.callbacks import ModelCheckpoint\n",
        "from tensorflow.keras.metrics import RootMeanSquaredError\n",
        "from tensorflow.keras.optimizers import Adam"
      ],
      "metadata": {
        "id": "71qVSJLYAnVp"
      },
      "execution_count": null,
      "outputs": []
    },
    {
      "cell_type": "markdown",
      "source": [
        "Simple Neural Network"
      ],
      "metadata": {
        "id": "n1vguUWqBahb"
      }
    },
    {
      "cell_type": "code",
      "source": [
        "from sklearn.utils import optimize\n",
        "simple_nn = Sequential()\n",
        "simple_nn.add(InputLayer((12,)))\n",
        "simple_nn.add(Dense(2, 'relu'))\n",
        "simple_nn.add(Dense(1, 'linear'))\n",
        "\n",
        "opt = Adam(learning_rate = 0.10)\n",
        "cp = ModelCheckpoint('models/simple_nn', save_best_only=True)\n",
        "simple_nn.compile(optimizer = opt, loss = 'mse', metrics = [RootMeanSquaredError()])\n",
        "\n",
        "simple_nn.fit(x = X_train, y=y_train, validation_data = (X_val, y_val), callbacks=[cp], epochs = 100)"
      ],
      "metadata": {
        "id": "MmTjZYZLBfED",
        "outputId": "9c3dd8d5-6d65-4b3e-cca9-5c6aed6a255f",
        "colab": {
          "base_uri": "https://localhost:8080/"
        }
      },
      "execution_count": null,
      "outputs": [
        {
          "output_type": "execute_result",
          "data": {
            "text/plain": [
              "<keras.callbacks.History at 0x7f04ea9ff890>"
            ]
          },
          "metadata": {},
          "execution_count": 127
        }
      ]
    },
    {
      "cell_type": "markdown",
      "source": [
        "Evaluate Simple model"
      ],
      "metadata": {
        "id": "ecsFXjooFTKb"
      }
    },
    {
      "cell_type": "code",
      "source": [
        "from tensorflow.keras.models import load_model\n",
        "simple_nn = load_model('models/simple_nn')\n",
        "\n",
        "#RMSE\n",
        "Train_RMSE_DNN = np.sqrt(mse(simple_nn.predict(X_train), y_train, squared = False))\n",
        "Train_RMSE_DNN\n",
        "\n",
        "Val_RMSE_DNN = np.sqrt(mse(simple_nn.predict(X_val), y_val, squared = False))\n",
        "Val_RMSE_DNN \n",
        "\n",
        "\n",
        "#MAE \n",
        "Train_MAE_DNN = np.sqrt(mae(simple_nn.predict(X_train), y_train))\n",
        "Train_MAE_DNN \n",
        "\n",
        "\n",
        "Val_MAE_DNN = np.sqrt(mae(simple_nn.predict(X_val), y_val))\n",
        "Val_MAE_DNN \n",
        "\n",
        "\n",
        "DNN_yhat = simple_nn.predict(X_val)\n",
        "\n",
        "Train_r2_DNN = r2(y_val, DNN_yhat)\n",
        "Train_r2_DNN\n",
        "\n",
        "\n",
        "\n",
        "#mse(simple_nn.predict(X_val),y_val,squared = False)"
      ],
      "metadata": {
        "id": "wxuzeh-fFSrx",
        "outputId": "94efbefc-54a8-42ae-e3aa-43aafe3db915",
        "colab": {
          "base_uri": "https://localhost:8080/"
        }
      },
      "execution_count": null,
      "outputs": [
        {
          "output_type": "stream",
          "name": "stdout",
          "text": [
            "17/17 [==============================] - 0s 2ms/step\n",
            "6/6 [==============================] - 0s 2ms/step\n",
            "17/17 [==============================] - 0s 1ms/step\n",
            "6/6 [==============================] - 0s 2ms/step\n",
            "6/6 [==============================] - 0s 2ms/step\n"
          ]
        },
        {
          "output_type": "execute_result",
          "data": {
            "text/plain": [
              "0.19012536028571292"
            ]
          },
          "metadata": {},
          "execution_count": 199
        }
      ]
    },
    {
      "cell_type": "markdown",
      "source": [
        "**Training Model Comparison based on RMSE score**"
      ],
      "metadata": {
        "id": "HkQpaWwyC4Ki"
      }
    },
    {
      "cell_type": "code",
      "source": [
        "model_comparison = pd.DataFrame({'model': [ 'Support Vector Machine',\n",
        "                                           'MultiLinear Regression', 'Gradient Boosted',\n",
        "                                             'DNN Model'],\n",
        "                                 'RMSE': [Train_RMSE_SVM, Train_RMSE_MLR, \n",
        "                                         Train_RMSE_GBM, Train_RMSE_DNN]})\n",
        "\n",
        "model_comparison.sort_values('RMSE', ascending = False).plot(x = 'model',\n",
        "                                                             y = 'RMSE', kind = 'barh', color = 'red',\n",
        "                                                             edgecolor = 'black', figsize = (10,4))\n",
        "plt.xlabel('Root Mean Squared Error')\n",
        "plt.title('Model Comparison on Train RMSE')\n",
        "plt.show()"
      ],
      "metadata": {
        "id": "4NvgH6jGC9Dp",
        "outputId": "c1d08d27-9f1e-4eaf-eeee-dadfda7cea6f",
        "colab": {
          "base_uri": "https://localhost:8080/",
          "height": 295
        }
      },
      "execution_count": null,
      "outputs": [
        {
          "output_type": "display_data",
          "data": {
            "text/plain": [
              "<Figure size 720x288 with 1 Axes>"
            ],
            "image/png": "[encoded data removed]"
          },
          "metadata": {
            "needs_background": "light"
          }
        }
      ]
    },
    {
      "cell_type": "markdown",
      "source": [
        "**Training Model Comparison based on MAE Score**"
      ],
      "metadata": {
        "id": "XQ2yNHhaMjXB"
      }
    },
    {
      "cell_type": "code",
      "source": [
        "model_comparison = pd.DataFrame({'model': [ 'Support Vector Machine',\n",
        "                                           'MultiLinear Regression', 'Gradient Boosted',\n",
        "                                             'DNN Model'],\n",
        "                                 'MAE': [Train_MAE_SVM, Train_MAE_MLR, \n",
        "                                         Train_MAE_GBM, Train_MAE_DNN]})\n",
        "\n",
        "model_comparison.sort_values('MAE', ascending = False).plot(x = 'model',\n",
        "                                                             y = 'MAE', kind = 'barh', color = 'red',\n",
        "                                                             edgecolor = 'black', figsize = (10,4))\n",
        "plt.xlabel('Absolute Mean  Error')\n",
        "plt.title('Model Comparison on Train MAE')\n",
        "plt.show()"
      ],
      "metadata": {
        "id": "tKEKEwSAMmzp",
        "outputId": "3e5fdf34-411b-448a-f73b-c48b1b4e95e2",
        "colab": {
          "base_uri": "https://localhost:8080/",
          "height": 295
        }
      },
      "execution_count": null,
      "outputs": [
        {
          "output_type": "display_data",
          "data": {
            "text/plain": [
              "<Figure size 720x288 with 1 Axes>"
            ],
            "image/png": "[encoded data removed]"
          },
          "metadata": {
            "needs_background": "light"
          }
        }
      ]
    },
    {
      "cell_type": "markdown",
      "source": [
        "Training Model Comparison based on R2 score"
      ],
      "metadata": {
        "id": "N1wdaqRDUA49"
      }
    },
    {
      "cell_type": "code",
      "source": [
        "model_comparison = pd.DataFrame({'model': [ 'Support Vector Machine',\n",
        "                                           'MultiLinear Regression', 'Gradient Boosted',\n",
        "                                             'DNN Model'],\n",
        "                                 'R2': [Train_r2_SVM, Train_r2_MLR, \n",
        "                                         Train_r2_GBM, Train_r2_DNN]})\n",
        "\n",
        "model_comparison.sort_values('R2', ascending = False).plot(x = 'model',\n",
        "                                                             y = 'R2', kind = 'barh', color = 'red',\n",
        "                                                             edgecolor = 'black', figsize = (10,4))\n",
        "plt.xlabel('R2')\n",
        "plt.title('Model Comparison on Train R2')\n",
        "plt.show()"
      ],
      "metadata": {
        "id": "2c0jQgxUUGpl",
        "outputId": "7a5c77ab-eb2e-4d42-b098-059967eb036f",
        "colab": {
          "base_uri": "https://localhost:8080/",
          "height": 295
        }
      },
      "execution_count": null,
      "outputs": [
        {
          "output_type": "display_data",
          "data": {
            "text/plain": [
              "<Figure size 720x288 with 1 Axes>"
            ],
            "image/png": "[encoded data removed]"
          },
          "metadata": {
            "needs_background": "light"
          }
        }
      ]
    },
    {
      "cell_type": "markdown",
      "source": [
        "**Validation Model Comparison based on MAE Score**"
      ],
      "metadata": {
        "id": "UDPbB-bjOK3w"
      }
    },
    {
      "cell_type": "code",
      "source": [
        "model_comparison = pd.DataFrame({'model': [ 'Support Vector Machine',\n",
        "                                           'MultiLinear Regression', 'Gradient Boosted',\n",
        "                                             'DNN Model'],\n",
        "                                 'MAE': [Val_MAE_SVM, Val_MAE_MLR, \n",
        "                                         Val_MAE_GBM, Val_MAE_DNN]})\n",
        "\n",
        "model_comparison.sort_values('MAE', ascending = False).plot(x = 'model',\n",
        "                                                             y = 'MAE', kind = 'barh', color = 'red',\n",
        "                                                             edgecolor = 'black', figsize = (10,4))\n",
        "plt.xlabel('Absolute Mean Error')\n",
        "plt.title('Model Comparison on Validation MAE')\n",
        "plt.show()"
      ],
      "metadata": {
        "id": "QFcbJSe6OQZZ",
        "outputId": "379288b1-3ec9-4ee3-f9d6-e8514e36cb08",
        "colab": {
          "base_uri": "https://localhost:8080/",
          "height": 295
        }
      },
      "execution_count": null,
      "outputs": [
        {
          "output_type": "display_data",
          "data": {
            "text/plain": [
              "<Figure size 720x288 with 1 Axes>"
            ],
            "image/png": "[encoded data removed]"
          },
          "metadata": {
            "needs_background": "light"
          }
        }
      ]
    },
    {
      "cell_type": "markdown",
      "source": [
        "**Validation Model Comparison based on RMSE Score**"
      ],
      "metadata": {
        "id": "1s2aOpjhJ3mR"
      }
    },
    {
      "cell_type": "code",
      "source": [
        "model_comparison = pd.DataFrame({'model': [ 'Support Vector Machine',\n",
        "                                           'MultiLinear Regression', 'Gradient Boosted',\n",
        "                                             'DNN Model'],\n",
        "                                 'RMSE': [Val_RMSE_SVM, Val_RMSE_MLR, \n",
        "                                         Val_RMSE_GBM, Val_RMSE_DNN]})\n",
        "\n",
        "model_comparison.sort_values('RMSE', ascending = False).plot(x = 'model',\n",
        "                                                             y = 'RMSE', kind = 'barh', color = 'red',\n",
        "                                                             edgecolor = 'black', figsize = (10,4))\n",
        "plt.xlabel('Root Mean Squared Error')\n",
        "plt.title('Model Comparison on Validation RMSE')\n",
        "plt.show()"
      ],
      "metadata": {
        "id": "71aDlpcKJ8sY",
        "outputId": "132dfff5-b882-453e-e14a-992e1635cda3",
        "colab": {
          "base_uri": "https://localhost:8080/",
          "height": 295
        }
      },
      "execution_count": null,
      "outputs": [
        {
          "output_type": "display_data",
          "data": {
            "text/plain": [
              "<Figure size 720x288 with 1 Axes>"
            ],
            "image/png": "[encoded data removed]"
          },
          "metadata": {
            "needs_background": "light"
          }
        }
      ]
    },
    {
      "cell_type": "markdown",
      "source": [
        "Large Neural Network"
      ],
      "metadata": {
        "id": "N9vj8ia7I4Sp"
      }
    },
    {
      "cell_type": "code",
      "source": [
        "from sklearn.utils import optimize\n",
        "large_nn = Sequential()\n",
        "large_nn.add(InputLayer((12,)))\n",
        "large_nn.add(Dense(256, 'relu'))\n",
        "large_nn.add(Dense(128, 'relu'))\n",
        "large_nn.add(Dense(64, 'relu'))\n",
        "large_nn.add(Dense(32, 'relu'))\n",
        "large_nn.add(Dense(1, 'linear'))\n",
        "\n",
        "opt = Adam(learning_rate = 0.10)\n",
        "cp = ModelCheckpoint('models/large_nn', save_best_only=True)\n",
        "large_nn.compile(optimizer = opt, loss = 'mse', metrics = [RootMeanSquaredError()])\n",
        "\n",
        "large_nn.fit(x = X_train, y=y_train, validation_data = (X_val, y_val), callbacks=[cp], epochs = 100)\n",
        "\n",
        "\n",
        "\n"
      ],
      "metadata": {
        "id": "ifxU6NL1I7No"
      },
      "execution_count": null,
      "outputs": []
    },
    {
      "cell_type": "markdown",
      "source": [
        "Large DNN evaluation "
      ],
      "metadata": {
        "id": "Ysg9zbvBJY3i"
      }
    },
    {
      "cell_type": "code",
      "source": [
        "from tensorflow.keras.models import load_model\n",
        "large_nn = load_model('models/large_nn')\n",
        "mse(large_nn.predict(X_train), y_train, squared = False), mse(large_nn.predict(X_val),y_val,squared = False)"
      ],
      "metadata": {
        "id": "mGniJy05JbzM",
        "outputId": "70630843-f617-4b3b-fa32-04cf494d2691",
        "colab": {
          "base_uri": "https://localhost:8080/"
        }
      },
      "execution_count": null,
      "outputs": [
        {
          "output_type": "stream",
          "name": "stdout",
          "text": [
            "17/17 [==============================] - 0s 2ms/step\n",
            "6/6 [==============================] - 0s 2ms/step\n"
          ]
        },
        {
          "output_type": "execute_result",
          "data": {
            "text/plain": [
              "(11661.15953997555, 12519.59035240058)"
            ]
          },
          "metadata": {},
          "execution_count": 50
        }
      ]
    },
    {
      "cell_type": "markdown",
      "source": [
        "**Tune DNN model to give best result**"
      ],
      "metadata": {
        "id": "g65cErDNKQim"
      }
    },
    {
      "cell_type": "markdown",
      "source": [
        "The hyperamters are the following: \n",
        "\n",
        "1. How many number of hidden layers should we have? \n",
        "2. How many number of neurons we should have in each hidden layer? \n",
        "3. What should the learning rate be from optimizer Adam"
      ],
      "metadata": {
        "id": "Q-N3C4cOPD48"
      }
    },
    {
      "cell_type": "code",
      "source": [
        "# Import tuning function\n",
        "\n",
        "from kerastuner.tuners import RandomSearch "
      ],
      "metadata": {
        "id": "EOeN9YElKTi1",
        "colab": {
          "base_uri": "https://localhost:8080/"
        },
        "outputId": "4880012e-80ab-4923-e054-04171f5300e8"
      },
      "execution_count": null,
      "outputs": [
        {
          "output_type": "stream",
          "name": "stderr",
          "text": [
            "/usr/local/lib/python3.7/dist-packages/ipykernel_launcher.py:3: DeprecationWarning: `import kerastuner` is deprecated, please use `import keras_tuner`.\n",
            "  This is separate from the ipykernel package so we can avoid doing imports until\n"
          ]
        }
      ]
    },
    {
      "cell_type": "code",
      "source": [
        "opt = tf.keras.optimizers.RMSprop()"
      ],
      "metadata": {
        "id": "2cj-zsmpSFzK"
      },
      "execution_count": null,
      "outputs": []
    },
    {
      "cell_type": "markdown",
      "source": [
        "**Initial Tuned Model** \n",
        "\n"
      ],
      "metadata": {
        "id": "dkwxCPiXLNbs"
      }
    },
    {
      "cell_type": "code",
      "source": [
        "def build_model(hp):\n",
        "    model = keras.Sequential()\n",
        "    model.add(layers.Flatten())\n",
        "    # Tune the number of layers.\n",
        "    for i in range(hp.Int(\"num_layers\", 3, 14)):\n",
        "        model.add(\n",
        "            layers.Dense(\n",
        "                # Tune number of units separately.\n",
        "                units=hp.Int(f\"units_{i}\", min_value=32, max_value=512, step=32),\n",
        "                activation=\"relu\"))\n",
        "            \n",
        "        \n",
        "    \n",
        "    model.add(layers.Dense(1, activation=\"linear\"))\n",
        "    model.compile(optimizer = keras.optimizers.Adam(hp.Choice('learning_rate', [1e-3,1e-2,1e-1])),\n",
        "                  loss = 'mean_absolute_error', metrics = ['mean_absolute_error'])\n",
        "    return model\n",
        "build_model(keras_tuner.HyperParameters())"
      ],
      "metadata": {
        "id": "V3EJ5Zd-LRoL",
        "outputId": "029a9d24-39cb-4cac-bc0f-bcb10bc44726",
        "colab": {
          "base_uri": "https://localhost:8080/"
        }
      },
      "execution_count": null,
      "outputs": [
        {
          "output_type": "execute_result",
          "data": {
            "text/plain": [
              "<keras.engine.sequential.Sequential at 0x7fe555067590>"
            ]
          },
          "metadata": {},
          "execution_count": 21
        }
      ]
    },
    {
      "cell_type": "code",
      "source": [
        "def build_model(hp):\n",
        "    model = keras.Sequential()\n",
        "    model.add(layers.Flatten())\n",
        "    # Tune the number of layers.\n",
        "    for i in range(hp.Int(\"num_layers\", 3, 5)):\n",
        "        model.add(\n",
        "            layers.Dense(\n",
        "                # Tune number of units separately.\n",
        "                units=hp.Int(f\"units_{i}\", min_value=32, max_value=448, step=32),\n",
        "                activation=\"relu\"))\n",
        "            \n",
        "        \n",
        "    \n",
        "    model.add(layers.Dense(1, activation=\"linear\"))\n",
        "    model.compile(optimizer = keras.optimizers.Adam(hp.Choice('learning_rate', [15e-2,1e-1,075e-3])),\n",
        "                  loss = 'mean_absolute_error', metrics = ['mean_absolute_error'])\n",
        "    return model\n",
        "build_model(keras_tuner.HyperParameters())\n",
        "\n"
      ],
      "metadata": {
        "colab": {
          "base_uri": "https://localhost:8080/"
        },
        "id": "VA4C7cfxjaM4",
        "outputId": "72552448-bf6f-4d69-c3b4-66132b6550b2"
      },
      "execution_count": null,
      "outputs": [
        {
          "output_type": "execute_result",
          "data": {
            "text/plain": [
              "<keras.engine.sequential.Sequential at 0x7fdfe94e2f90>"
            ]
          },
          "metadata": {},
          "execution_count": 37
        }
      ]
    },
    {
      "cell_type": "code",
      "source": [
        "tuner = keras_tuner.RandomSearch(\n",
        "    hypermodel=build_model,\n",
        "    objective='val_mean_absolute_error',\n",
        "    max_trials=3,\n",
        "    executions_per_trial=2,\n",
        "    overwrite=True,\n",
        "    directory=\"Test14\",\n",
        "    project_name=\"Test15\",\n",
        ")"
      ],
      "metadata": {
        "id": "PW8PHbmEkKka"
      },
      "execution_count": null,
      "outputs": []
    },
    {
      "cell_type": "code",
      "source": [
        "tuner.search(X_train, y_train, epochs=50, validation_data=(X_test, y_test))"
      ],
      "metadata": {
        "colab": {
          "base_uri": "https://localhost:8080/"
        },
        "id": "tXqhVMhfCcvt",
        "outputId": "fb06c313-41c0-4ceb-ed8e-62a21c51193e"
      },
      "execution_count": null,
      "outputs": [
        {
          "output_type": "stream",
          "name": "stdout",
          "text": [
            "Trial 3 Complete [00h 00m 35s]\n",
            "val_mean_absolute_error: 10217.212890625\n",
            "\n",
            "Best val_mean_absolute_error So Far: 10217.212890625\n",
            "Total elapsed time: 00h 01m 35s\n"
          ]
        }
      ]
    },
    {
      "cell_type": "markdown",
      "source": [
        "**The best score so far is 5154 for error rate. Compared to all other models. Tuned model is the best**"
      ],
      "metadata": {
        "id": "5mW_Tcb0OOsg"
      }
    },
    {
      "cell_type": "code",
      "source": [
        "# Get the top 2 models.\n",
        "models = tuner.get_best_models(num_models=2)\n",
        "best_model = models[0]\n",
        "# Build the model.\n",
        "# Needed for `Sequential` without specified `input_shape`.\n",
        "best_model.build(input_shape=(1,12))\n",
        "best_model.summary()"
      ],
      "metadata": {
        "colab": {
          "base_uri": "https://localhost:8080/"
        },
        "id": "cQK1OKn2kkwM",
        "outputId": "921fa2ad-9616-48bb-b278-b9df7be6e343"
      },
      "execution_count": null,
      "outputs": [
        {
          "output_type": "stream",
          "name": "stdout",
          "text": [
            "Model: \"sequential\"\n",
            "_________________________________________________________________\n",
            " Layer (type)                Output Shape              Param #   \n",
            "=================================================================\n",
            " flatten (Flatten)           (1, 12)                   0         \n",
            "                                                                 \n",
            " dense (Dense)               (1, 384)                  4992      \n",
            "                                                                 \n",
            " dense_1 (Dense)             (1, 192)                  73920     \n",
            "                                                                 \n",
            " dense_2 (Dense)             (1, 352)                  67936     \n",
            "                                                                 \n",
            " dense_3 (Dense)             (1, 1)                    353       \n",
            "                                                                 \n",
            "=================================================================\n",
            "Total params: 147,201\n",
            "Trainable params: 147,201\n",
            "Non-trainable params: 0\n",
            "_________________________________________________________________\n"
          ]
        },
        {
          "output_type": "stream",
          "name": "stderr",
          "text": [
            "WARNING:tensorflow:Detecting that an object or model or tf.train.Checkpoint is being deleted with unrestored values. See the following logs for the specific values in question. To silence these warnings, use `status.expect_partial()`. See https://www.tensorflow.org/api_docs/python/tf/train/Checkpoint#restorefor details about the status object returned by the restore function.\n",
            "WARNING:tensorflow:Value in checkpoint could not be found in the restored object: (root).layer_with_weights-0.kernel\n",
            "WARNING:tensorflow:Value in checkpoint could not be found in the restored object: (root).layer_with_weights-0.bias\n",
            "WARNING:tensorflow:Value in checkpoint could not be found in the restored object: (root).layer_with_weights-1.kernel\n",
            "WARNING:tensorflow:Value in checkpoint could not be found in the restored object: (root).layer_with_weights-1.bias\n",
            "WARNING:tensorflow:Value in checkpoint could not be found in the restored object: (root).layer_with_weights-2.kernel\n",
            "WARNING:tensorflow:Value in checkpoint could not be found in the restored object: (root).layer_with_weights-2.bias\n",
            "WARNING:tensorflow:Value in checkpoint could not be found in the restored object: (root).layer_with_weights-3.kernel\n",
            "WARNING:tensorflow:Value in checkpoint could not be found in the restored object: (root).layer_with_weights-3.bias\n",
            "WARNING:tensorflow:Value in checkpoint could not be found in the restored object: (root).layer_with_weights-4.kernel\n",
            "WARNING:tensorflow:Value in checkpoint could not be found in the restored object: (root).layer_with_weights-4.bias\n",
            "WARNING:tensorflow:Value in checkpoint could not be found in the restored object: (root).optimizer.iter\n",
            "WARNING:tensorflow:Value in checkpoint could not be found in the restored object: (root).optimizer.beta_1\n",
            "WARNING:tensorflow:Value in checkpoint could not be found in the restored object: (root).optimizer.beta_2\n",
            "WARNING:tensorflow:Value in checkpoint could not be found in the restored object: (root).optimizer.decay\n",
            "WARNING:tensorflow:Value in checkpoint could not be found in the restored object: (root).optimizer.learning_rate\n",
            "WARNING:tensorflow:Value in checkpoint could not be found in the restored object: (root).optimizer's state 'm' for (root).layer_with_weights-0.kernel\n",
            "WARNING:tensorflow:Value in checkpoint could not be found in the restored object: (root).optimizer's state 'm' for (root).layer_with_weights-0.bias\n",
            "WARNING:tensorflow:Value in checkpoint could not be found in the restored object: (root).optimizer's state 'm' for (root).layer_with_weights-1.kernel\n",
            "WARNING:tensorflow:Value in checkpoint could not be found in the restored object: (root).optimizer's state 'm' for (root).layer_with_weights-1.bias\n",
            "WARNING:tensorflow:Value in checkpoint could not be found in the restored object: (root).optimizer's state 'm' for (root).layer_with_weights-2.kernel\n",
            "WARNING:tensorflow:Value in checkpoint could not be found in the restored object: (root).optimizer's state 'm' for (root).layer_with_weights-2.bias\n",
            "WARNING:tensorflow:Value in checkpoint could not be found in the restored object: (root).optimizer's state 'm' for (root).layer_with_weights-3.kernel\n",
            "WARNING:tensorflow:Value in checkpoint could not be found in the restored object: (root).optimizer's state 'm' for (root).layer_with_weights-3.bias\n",
            "WARNING:tensorflow:Value in checkpoint could not be found in the restored object: (root).optimizer's state 'm' for (root).layer_with_weights-4.kernel\n",
            "WARNING:tensorflow:Value in checkpoint could not be found in the restored object: (root).optimizer's state 'm' for (root).layer_with_weights-4.bias\n",
            "WARNING:tensorflow:Value in checkpoint could not be found in the restored object: (root).optimizer's state 'v' for (root).layer_with_weights-0.kernel\n",
            "WARNING:tensorflow:Value in checkpoint could not be found in the restored object: (root).optimizer's state 'v' for (root).layer_with_weights-0.bias\n",
            "WARNING:tensorflow:Value in checkpoint could not be found in the restored object: (root).optimizer's state 'v' for (root).layer_with_weights-1.kernel\n",
            "WARNING:tensorflow:Value in checkpoint could not be found in the restored object: (root).optimizer's state 'v' for (root).layer_with_weights-1.bias\n",
            "WARNING:tensorflow:Value in checkpoint could not be found in the restored object: (root).optimizer's state 'v' for (root).layer_with_weights-2.kernel\n",
            "WARNING:tensorflow:Value in checkpoint could not be found in the restored object: (root).optimizer's state 'v' for (root).layer_with_weights-2.bias\n",
            "WARNING:tensorflow:Value in checkpoint could not be found in the restored object: (root).optimizer's state 'v' for (root).layer_with_weights-3.kernel\n",
            "WARNING:tensorflow:Value in checkpoint could not be found in the restored object: (root).optimizer's state 'v' for (root).layer_with_weights-3.bias\n",
            "WARNING:tensorflow:Value in checkpoint could not be found in the restored object: (root).optimizer's state 'v' for (root).layer_with_weights-4.kernel\n",
            "WARNING:tensorflow:Value in checkpoint could not be found in the restored object: (root).optimizer's state 'v' for (root).layer_with_weights-4.bias\n",
            "WARNING:tensorflow:Detecting that an object or model or tf.train.Checkpoint is being deleted with unrestored values. See the following logs for the specific values in question. To silence these warnings, use `status.expect_partial()`. See https://www.tensorflow.org/api_docs/python/tf/train/Checkpoint#restorefor details about the status object returned by the restore function.\n",
            "WARNING:tensorflow:Value in checkpoint could not be found in the restored object: (root).optimizer.iter\n",
            "WARNING:tensorflow:Value in checkpoint could not be found in the restored object: (root).optimizer.beta_1\n",
            "WARNING:tensorflow:Value in checkpoint could not be found in the restored object: (root).optimizer.beta_2\n",
            "WARNING:tensorflow:Value in checkpoint could not be found in the restored object: (root).optimizer.decay\n",
            "WARNING:tensorflow:Value in checkpoint could not be found in the restored object: (root).optimizer.learning_rate\n"
          ]
        }
      ]
    },
    {
      "cell_type": "code",
      "source": [
        "tuner.results_summary()"
      ],
      "metadata": {
        "colab": {
          "base_uri": "https://localhost:8080/"
        },
        "id": "BDDUJVkEocHP",
        "outputId": "506d47f6-cedc-4c1a-e748-f887b23e4dca"
      },
      "execution_count": null,
      "outputs": [
        {
          "output_type": "stream",
          "name": "stdout",
          "text": [
            "Results summary\n",
            "Results in Test5/Test5\n",
            "Showing 10 best trials\n",
            "<keras_tuner.engine.objective.Objective object at 0x7fdfea0be450>\n",
            "Trial summary\n",
            "Hyperparameters:\n",
            "num_layers: 3\n",
            "units_0: 384\n",
            "units_1: 192\n",
            "units_2: 352\n",
            "learning_rate: 0.15\n",
            "units_3: 256\n",
            "Score: 5154.421875\n",
            "Trial summary\n",
            "Hyperparameters:\n",
            "num_layers: 4\n",
            "units_0: 352\n",
            "units_1: 416\n",
            "units_2: 352\n",
            "learning_rate: 0.15\n",
            "units_3: 32\n",
            "Score: 5566.263427734375\n",
            "Trial summary\n",
            "Hyperparameters:\n",
            "num_layers: 4\n",
            "units_0: 416\n",
            "units_1: 256\n",
            "units_2: 352\n",
            "learning_rate: 0.15\n",
            "units_3: 96\n",
            "Score: 5853.88525390625\n"
          ]
        }
      ]
    },
    {
      "cell_type": "markdown",
      "source": [
        "**Tuned Model**"
      ],
      "metadata": {
        "id": "z_kEit4CGd7K"
      }
    },
    {
      "cell_type": "code",
      "source": [
        "from sklearn.utils import optimize\n",
        "tuned_nn = Sequential()\n",
        "tuned_nn.add(InputLayer((12,)))\n",
        "tuned_nn.add(Dense(384, 'relu'))\n",
        "tuned_nn.add(Dense(192, 'relu'))\n",
        "tuned_nn.add(Dense(352, 'relu'))\n",
        "tuned_nn.add(Dense(1, 'linear'))\n",
        "\n",
        "opt = Adam(learning_rate = 0.15)\n",
        "cp = ModelCheckpoint('models/tuned_nn', save_best_only=True)\n",
        "tuned_nn.compile(optimizer = opt, loss = 'mse', metrics = [RootMeanSquaredError()])\n",
        "\n",
        "tuned_nn.fit(x = X_train, y=y_train, validation_data = (X_val, y_val), callbacks=[cp], epochs = 100)\n"
      ],
      "metadata": {
        "colab": {
          "base_uri": "https://localhost:8080/"
        },
        "id": "ofTplT-mGfNS",
        "outputId": "cee86124-661d-49e3-df1d-21ebc00193f6"
      },
      "execution_count": null,
      "outputs": [
        {
          "output_type": "stream",
          "name": "stdout",
          "text": [
            "Epoch 1/100\n",
            "17/17 [==============================] - 2s 70ms/step - loss: 578800648192.0000 - root_mean_squared_error: 760789.5000 - val_loss: 91157946368.0000 - val_root_mean_squared_error: 301923.7500\n",
            "Epoch 2/100\n",
            "17/17 [==============================] - 1s 50ms/step - loss: 626076024832.0000 - root_mean_squared_error: 791249.6875 - val_loss: 73209397248.0000 - val_root_mean_squared_error: 270572.3438\n",
            "Epoch 3/100\n",
            "17/17 [==============================] - 1s 51ms/step - loss: 253984047104.0000 - root_mean_squared_error: 503968.3125 - val_loss: 35713703936.0000 - val_root_mean_squared_error: 188980.7031\n",
            "Epoch 4/100\n",
            "17/17 [==============================] - 1s 53ms/step - loss: 41154465792.0000 - root_mean_squared_error: 202865.6406 - val_loss: 13387974656.0000 - val_root_mean_squared_error: 115706.4141\n",
            "Epoch 5/100\n",
            "17/17 [==============================] - 1s 52ms/step - loss: 14989840384.0000 - root_mean_squared_error: 122433.0000 - val_loss: 5926626304.0000 - val_root_mean_squared_error: 76984.5859\n",
            "Epoch 6/100\n",
            "17/17 [==============================] - 1s 52ms/step - loss: 6290627584.0000 - root_mean_squared_error: 79313.4766 - val_loss: 3106014208.0000 - val_root_mean_squared_error: 55731.6250\n",
            "Epoch 7/100\n",
            "17/17 [==============================] - 0s 7ms/step - loss: 4440431104.0000 - root_mean_squared_error: 66636.5625 - val_loss: 4462747648.0000 - val_root_mean_squared_error: 66803.7969\n",
            "Epoch 8/100\n",
            "17/17 [==============================] - 0s 6ms/step - loss: 17385897984.0000 - root_mean_squared_error: 131855.5938 - val_loss: 17675274240.0000 - val_root_mean_squared_error: 132948.3906\n",
            "Epoch 9/100\n",
            "17/17 [==============================] - 0s 7ms/step - loss: 22406926336.0000 - root_mean_squared_error: 149689.4375 - val_loss: 6997477376.0000 - val_root_mean_squared_error: 83650.9219\n",
            "Epoch 10/100\n",
            "17/17 [==============================] - 0s 6ms/step - loss: 11278325760.0000 - root_mean_squared_error: 106199.4688 - val_loss: 3528300032.0000 - val_root_mean_squared_error: 59399.4961\n",
            "Epoch 11/100\n",
            "17/17 [==============================] - 0s 7ms/step - loss: 8595556352.0000 - root_mean_squared_error: 92712.2266 - val_loss: 3955506432.0000 - val_root_mean_squared_error: 62892.8164\n",
            "Epoch 12/100\n",
            "17/17 [==============================] - 1s 52ms/step - loss: 9869926400.0000 - root_mean_squared_error: 99347.5000 - val_loss: 1955600000.0000 - val_root_mean_squared_error: 44222.1680\n",
            "Epoch 13/100\n",
            "17/17 [==============================] - 1s 52ms/step - loss: 2162952704.0000 - root_mean_squared_error: 46507.5547 - val_loss: 936428672.0000 - val_root_mean_squared_error: 30601.1230\n",
            "Epoch 14/100\n",
            "17/17 [==============================] - 1s 51ms/step - loss: 1672849024.0000 - root_mean_squared_error: 40900.4766 - val_loss: 882434112.0000 - val_root_mean_squared_error: 29705.7930\n",
            "Epoch 15/100\n",
            "17/17 [==============================] - 0s 7ms/step - loss: 11104427008.0000 - root_mean_squared_error: 105377.5469 - val_loss: 5259916288.0000 - val_root_mean_squared_error: 72525.2812\n",
            "Epoch 16/100\n",
            "17/17 [==============================] - 0s 7ms/step - loss: 15945966592.0000 - root_mean_squared_error: 126277.3438 - val_loss: 3781159936.0000 - val_root_mean_squared_error: 61491.1367\n",
            "Epoch 17/100\n",
            "17/17 [==============================] - 0s 7ms/step - loss: 9267844096.0000 - root_mean_squared_error: 96269.6406 - val_loss: 1706377984.0000 - val_root_mean_squared_error: 41308.3281\n",
            "Epoch 18/100\n",
            "17/17 [==============================] - 0s 7ms/step - loss: 1771111808.0000 - root_mean_squared_error: 42084.5781 - val_loss: 1149447040.0000 - val_root_mean_squared_error: 33903.4961\n",
            "Epoch 19/100\n",
            "17/17 [==============================] - 1s 52ms/step - loss: 1085450368.0000 - root_mean_squared_error: 32946.1719 - val_loss: 743858688.0000 - val_root_mean_squared_error: 27273.7734\n",
            "Epoch 20/100\n",
            "17/17 [==============================] - 1s 76ms/step - loss: 618855488.0000 - root_mean_squared_error: 24876.8066 - val_loss: 572175744.0000 - val_root_mean_squared_error: 23920.1953\n",
            "Epoch 21/100\n",
            "17/17 [==============================] - 0s 7ms/step - loss: 1150275072.0000 - root_mean_squared_error: 33915.7070 - val_loss: 1029125952.0000 - val_root_mean_squared_error: 32079.9922\n",
            "Epoch 22/100\n",
            "17/17 [==============================] - 0s 7ms/step - loss: 7509711360.0000 - root_mean_squared_error: 86658.5938 - val_loss: 3731578624.0000 - val_root_mean_squared_error: 61086.6484\n",
            "Epoch 23/100\n",
            "17/17 [==============================] - 0s 7ms/step - loss: 28064974848.0000 - root_mean_squared_error: 167526.0469 - val_loss: 16156802048.0000 - val_root_mean_squared_error: 127109.4062\n",
            "Epoch 24/100\n",
            "17/17 [==============================] - 0s 7ms/step - loss: 46485733376.0000 - root_mean_squared_error: 215605.5000 - val_loss: 28251697152.0000 - val_root_mean_squared_error: 168082.4062\n",
            "Epoch 25/100\n",
            "17/17 [==============================] - 0s 7ms/step - loss: 13748526080.0000 - root_mean_squared_error: 117254.1094 - val_loss: 4875343872.0000 - val_root_mean_squared_error: 69823.6641\n",
            "Epoch 26/100\n",
            "17/17 [==============================] - 0s 7ms/step - loss: 3840480000.0000 - root_mean_squared_error: 61971.6055 - val_loss: 1698266368.0000 - val_root_mean_squared_error: 41210.0273\n",
            "Epoch 27/100\n",
            "17/17 [==============================] - 0s 7ms/step - loss: 3670376960.0000 - root_mean_squared_error: 60583.6367 - val_loss: 1499619840.0000 - val_root_mean_squared_error: 38724.9258\n",
            "Epoch 28/100\n",
            "17/17 [==============================] - 0s 7ms/step - loss: 36693204992.0000 - root_mean_squared_error: 191554.7031 - val_loss: 5881310208.0000 - val_root_mean_squared_error: 76689.7031\n",
            "Epoch 29/100\n",
            "17/17 [==============================] - 0s 7ms/step - loss: 123675836416.0000 - root_mean_squared_error: 351675.7500 - val_loss: 34210904064.0000 - val_root_mean_squared_error: 184961.9062\n",
            "Epoch 30/100\n",
            "17/17 [==============================] - 0s 6ms/step - loss: 90324279296.0000 - root_mean_squared_error: 300539.9688 - val_loss: 8798525440.0000 - val_root_mean_squared_error: 93800.4531\n",
            "Epoch 31/100\n",
            "17/17 [==============================] - 0s 7ms/step - loss: 6155659264.0000 - root_mean_squared_error: 78458.0078 - val_loss: 3441177600.0000 - val_root_mean_squared_error: 58661.5508\n",
            "Epoch 32/100\n",
            "17/17 [==============================] - 0s 7ms/step - loss: 2413724672.0000 - root_mean_squared_error: 49129.6719 - val_loss: 1469645312.0000 - val_root_mean_squared_error: 38335.9531\n",
            "Epoch 33/100\n",
            "17/17 [==============================] - 0s 6ms/step - loss: 2131418624.0000 - root_mean_squared_error: 46167.2891 - val_loss: 1797171328.0000 - val_root_mean_squared_error: 42393.0586\n",
            "Epoch 34/100\n",
            "17/17 [==============================] - 0s 6ms/step - loss: 4811581440.0000 - root_mean_squared_error: 69365.5625 - val_loss: 1577815040.0000 - val_root_mean_squared_error: 39721.7188\n",
            "Epoch 35/100\n",
            "17/17 [==============================] - 1s 52ms/step - loss: 2966257408.0000 - root_mean_squared_error: 54463.3594 - val_loss: 499808128.0000 - val_root_mean_squared_error: 22356.3887\n",
            "Epoch 36/100\n",
            "17/17 [==============================] - 0s 6ms/step - loss: 5778184704.0000 - root_mean_squared_error: 76014.3750 - val_loss: 2262487552.0000 - val_root_mean_squared_error: 47565.6133\n",
            "Epoch 37/100\n",
            "17/17 [==============================] - 0s 7ms/step - loss: 6235320832.0000 - root_mean_squared_error: 78964.0469 - val_loss: 1488803200.0000 - val_root_mean_squared_error: 38585.0117\n",
            "Epoch 38/100\n",
            "17/17 [==============================] - 0s 7ms/step - loss: 4998804480.0000 - root_mean_squared_error: 70702.2266 - val_loss: 2458177024.0000 - val_root_mean_squared_error: 49580.0078\n",
            "Epoch 39/100\n",
            "17/17 [==============================] - 0s 7ms/step - loss: 3616302080.0000 - root_mean_squared_error: 60135.6953 - val_loss: 740219584.0000 - val_root_mean_squared_error: 27206.9766\n",
            "Epoch 40/100\n",
            "17/17 [==============================] - 0s 7ms/step - loss: 1482943104.0000 - root_mean_squared_error: 38509.0000 - val_loss: 846103808.0000 - val_root_mean_squared_error: 29087.8633\n",
            "Epoch 41/100\n",
            "17/17 [==============================] - 1s 52ms/step - loss: 992835200.0000 - root_mean_squared_error: 31509.2871 - val_loss: 394625792.0000 - val_root_mean_squared_error: 19865.1914\n",
            "Epoch 42/100\n",
            "17/17 [==============================] - 1s 51ms/step - loss: 1188712832.0000 - root_mean_squared_error: 34477.7148 - val_loss: 315175264.0000 - val_root_mean_squared_error: 17753.1758\n",
            "Epoch 43/100\n",
            "17/17 [==============================] - 0s 7ms/step - loss: 1814475392.0000 - root_mean_squared_error: 42596.6602 - val_loss: 349202016.0000 - val_root_mean_squared_error: 18686.9473\n",
            "Epoch 44/100\n",
            "17/17 [==============================] - 1s 51ms/step - loss: 569307520.0000 - root_mean_squared_error: 23860.1660 - val_loss: 264951280.0000 - val_root_mean_squared_error: 16277.3242\n",
            "Epoch 45/100\n",
            "17/17 [==============================] - 1s 55ms/step - loss: 466170048.0000 - root_mean_squared_error: 21590.9707 - val_loss: 231464896.0000 - val_root_mean_squared_error: 15213.9707\n",
            "Epoch 46/100\n",
            "17/17 [==============================] - 1s 52ms/step - loss: 373667808.0000 - root_mean_squared_error: 19330.4883 - val_loss: 214910080.0000 - val_root_mean_squared_error: 14659.8115\n",
            "Epoch 47/100\n",
            "17/17 [==============================] - 0s 7ms/step - loss: 956854464.0000 - root_mean_squared_error: 30933.0645 - val_loss: 564528576.0000 - val_root_mean_squared_error: 23759.8105\n",
            "Epoch 48/100\n",
            "17/17 [==============================] - 0s 6ms/step - loss: 4071341568.0000 - root_mean_squared_error: 63807.0664 - val_loss: 581484928.0000 - val_root_mean_squared_error: 24113.9980\n",
            "Epoch 49/100\n",
            "17/17 [==============================] - 0s 7ms/step - loss: 7749340160.0000 - root_mean_squared_error: 88030.3359 - val_loss: 8457635840.0000 - val_root_mean_squared_error: 91965.4062\n",
            "Epoch 50/100\n",
            "17/17 [==============================] - 0s 7ms/step - loss: 41441341440.0000 - root_mean_squared_error: 203571.4688 - val_loss: 37510672384.0000 - val_root_mean_squared_error: 193676.7188\n",
            "Epoch 51/100\n",
            "17/17 [==============================] - 0s 7ms/step - loss: 133601165312.0000 - root_mean_squared_error: 365514.9375 - val_loss: 5971426816.0000 - val_root_mean_squared_error: 77275.0078\n",
            "Epoch 52/100\n",
            "17/17 [==============================] - 0s 6ms/step - loss: 148112080896.0000 - root_mean_squared_error: 384853.3125 - val_loss: 69588697088.0000 - val_root_mean_squared_error: 263796.6875\n",
            "Epoch 53/100\n",
            "17/17 [==============================] - 0s 7ms/step - loss: 560532946944.0000 - root_mean_squared_error: 748687.5000 - val_loss: 59241861120.0000 - val_root_mean_squared_error: 243396.5156\n",
            "Epoch 54/100\n",
            "17/17 [==============================] - 0s 7ms/step - loss: 54956195840.0000 - root_mean_squared_error: 234427.3750 - val_loss: 20724842496.0000 - val_root_mean_squared_error: 143961.2500\n",
            "Epoch 55/100\n",
            "17/17 [==============================] - 0s 7ms/step - loss: 26288005120.0000 - root_mean_squared_error: 162135.7656 - val_loss: 8907494400.0000 - val_root_mean_squared_error: 94379.5234\n",
            "Epoch 56/100\n",
            "17/17 [==============================] - 0s 7ms/step - loss: 28255801344.0000 - root_mean_squared_error: 168094.6250 - val_loss: 5023635456.0000 - val_root_mean_squared_error: 70877.6094\n",
            "Epoch 57/100\n",
            "17/17 [==============================] - 0s 7ms/step - loss: 45435768832.0000 - root_mean_squared_error: 213156.6719 - val_loss: 16302714880.0000 - val_root_mean_squared_error: 127682.0859\n",
            "Epoch 58/100\n",
            "17/17 [==============================] - 0s 8ms/step - loss: 215621877760.0000 - root_mean_squared_error: 464351.0312 - val_loss: 13156416512.0000 - val_root_mean_squared_error: 114701.4219\n",
            "Epoch 59/100\n",
            "17/17 [==============================] - 0s 7ms/step - loss: 413301014528.0000 - root_mean_squared_error: 642884.9375 - val_loss: 47249608704.0000 - val_root_mean_squared_error: 217369.7500\n",
            "Epoch 60/100\n",
            "17/17 [==============================] - 0s 6ms/step - loss: 106901118976.0000 - root_mean_squared_error: 326957.3750 - val_loss: 12222177280.0000 - val_root_mean_squared_error: 110553.9531\n",
            "Epoch 61/100\n",
            "17/17 [==============================] - 0s 7ms/step - loss: 16471786496.0000 - root_mean_squared_error: 128342.4609 - val_loss: 3525621248.0000 - val_root_mean_squared_error: 59376.9414\n",
            "Epoch 62/100\n",
            "17/17 [==============================] - 0s 7ms/step - loss: 4414568960.0000 - root_mean_squared_error: 66442.2266 - val_loss: 2617064192.0000 - val_root_mean_squared_error: 51157.2500\n",
            "Epoch 63/100\n",
            "17/17 [==============================] - 0s 6ms/step - loss: 4765463040.0000 - root_mean_squared_error: 69032.3359 - val_loss: 2159671296.0000 - val_root_mean_squared_error: 46472.2656\n",
            "Epoch 64/100\n",
            "17/17 [==============================] - 0s 7ms/step - loss: 2849843968.0000 - root_mean_squared_error: 53383.9297 - val_loss: 1562160640.0000 - val_root_mean_squared_error: 39524.1797\n",
            "Epoch 65/100\n",
            "17/17 [==============================] - 0s 7ms/step - loss: 2586127104.0000 - root_mean_squared_error: 50853.9766 - val_loss: 1746774400.0000 - val_root_mean_squared_error: 41794.4297\n",
            "Epoch 66/100\n",
            "17/17 [==============================] - 0s 7ms/step - loss: 2170118656.0000 - root_mean_squared_error: 46584.5312 - val_loss: 1480463360.0000 - val_root_mean_squared_error: 38476.7891\n",
            "Epoch 67/100\n",
            "17/17 [==============================] - 0s 7ms/step - loss: 1837174016.0000 - root_mean_squared_error: 42862.2695 - val_loss: 1869793664.0000 - val_root_mean_squared_error: 43241.1094\n",
            "Epoch 68/100\n",
            "17/17 [==============================] - 0s 7ms/step - loss: 1983099520.0000 - root_mean_squared_error: 44532.0039 - val_loss: 1189306624.0000 - val_root_mean_squared_error: 34486.3242\n",
            "Epoch 69/100\n",
            "17/17 [==============================] - 0s 7ms/step - loss: 1365863552.0000 - root_mean_squared_error: 36957.5898 - val_loss: 1280595840.0000 - val_root_mean_squared_error: 35785.4141\n",
            "Epoch 70/100\n",
            "17/17 [==============================] - 0s 7ms/step - loss: 1226171776.0000 - root_mean_squared_error: 35016.7344 - val_loss: 1157841024.0000 - val_root_mean_squared_error: 34027.0625\n",
            "Epoch 71/100\n",
            "17/17 [==============================] - 0s 7ms/step - loss: 1173333760.0000 - root_mean_squared_error: 34253.9609 - val_loss: 1154079232.0000 - val_root_mean_squared_error: 33971.7422\n",
            "Epoch 72/100\n",
            "17/17 [==============================] - 0s 7ms/step - loss: 1093272832.0000 - root_mean_squared_error: 33064.6758 - val_loss: 1067489984.0000 - val_root_mean_squared_error: 32672.4648\n",
            "Epoch 73/100\n",
            "17/17 [==============================] - 0s 7ms/step - loss: 1080246272.0000 - root_mean_squared_error: 32867.1016 - val_loss: 1062888256.0000 - val_root_mean_squared_error: 32601.9668\n",
            "Epoch 74/100\n",
            "17/17 [==============================] - 0s 8ms/step - loss: 931116288.0000 - root_mean_squared_error: 30514.1973 - val_loss: 1041057664.0000 - val_root_mean_squared_error: 32265.4258\n",
            "Epoch 75/100\n",
            "17/17 [==============================] - 0s 6ms/step - loss: 1182370304.0000 - root_mean_squared_error: 34385.6133 - val_loss: 947903104.0000 - val_root_mean_squared_error: 30788.0352\n",
            "Epoch 76/100\n",
            "17/17 [==============================] - 0s 7ms/step - loss: 988759680.0000 - root_mean_squared_error: 31444.5488 - val_loss: 1173039488.0000 - val_root_mean_squared_error: 34249.6641\n",
            "Epoch 77/100\n",
            "17/17 [==============================] - 0s 7ms/step - loss: 918461824.0000 - root_mean_squared_error: 30306.1348 - val_loss: 946851712.0000 - val_root_mean_squared_error: 30770.9551\n",
            "Epoch 78/100\n",
            "17/17 [==============================] - 0s 7ms/step - loss: 949826944.0000 - root_mean_squared_error: 30819.2617 - val_loss: 781763712.0000 - val_root_mean_squared_error: 27960.0371\n",
            "Epoch 79/100\n",
            "17/17 [==============================] - 0s 7ms/step - loss: 821723392.0000 - root_mean_squared_error: 28665.7188 - val_loss: 837218176.0000 - val_root_mean_squared_error: 28934.7227\n",
            "Epoch 80/100\n",
            "17/17 [==============================] - 0s 7ms/step - loss: 703564416.0000 - root_mean_squared_error: 26524.7891 - val_loss: 811273216.0000 - val_root_mean_squared_error: 28482.8574\n",
            "Epoch 81/100\n",
            "17/17 [==============================] - 0s 7ms/step - loss: 774003456.0000 - root_mean_squared_error: 27820.9180 - val_loss: 983417728.0000 - val_root_mean_squared_error: 31359.4922\n",
            "Epoch 82/100\n",
            "17/17 [==============================] - 0s 8ms/step - loss: 917178496.0000 - root_mean_squared_error: 30284.9551 - val_loss: 815533504.0000 - val_root_mean_squared_error: 28557.5469\n",
            "Epoch 83/100\n",
            "17/17 [==============================] - 0s 7ms/step - loss: 625325120.0000 - root_mean_squared_error: 25006.5020 - val_loss: 910165440.0000 - val_root_mean_squared_error: 30168.9492\n",
            "Epoch 84/100\n",
            "17/17 [==============================] - 0s 6ms/step - loss: 603028480.0000 - root_mean_squared_error: 24556.6387 - val_loss: 863749696.0000 - val_root_mean_squared_error: 29389.6191\n",
            "Epoch 85/100\n",
            "17/17 [==============================] - 0s 7ms/step - loss: 677069760.0000 - root_mean_squared_error: 26020.5645 - val_loss: 761148480.0000 - val_root_mean_squared_error: 27588.9199\n",
            "Epoch 86/100\n",
            "17/17 [==============================] - 0s 7ms/step - loss: 740642560.0000 - root_mean_squared_error: 27214.7480 - val_loss: 835103168.0000 - val_root_mean_squared_error: 28898.1523\n",
            "Epoch 87/100\n",
            "17/17 [==============================] - 0s 7ms/step - loss: 579643648.0000 - root_mean_squared_error: 24075.7891 - val_loss: 940083392.0000 - val_root_mean_squared_error: 30660.7793\n",
            "Epoch 88/100\n",
            "17/17 [==============================] - 0s 7ms/step - loss: 586927168.0000 - root_mean_squared_error: 24226.5801 - val_loss: 786333056.0000 - val_root_mean_squared_error: 28041.6309\n",
            "Epoch 89/100\n",
            "17/17 [==============================] - 0s 7ms/step - loss: 624210816.0000 - root_mean_squared_error: 24984.2109 - val_loss: 698197120.0000 - val_root_mean_squared_error: 26423.4199\n",
            "Epoch 90/100\n",
            "17/17 [==============================] - 0s 7ms/step - loss: 820456576.0000 - root_mean_squared_error: 28643.6133 - val_loss: 916825984.0000 - val_root_mean_squared_error: 30279.1348\n",
            "Epoch 91/100\n",
            "17/17 [==============================] - 0s 7ms/step - loss: 1268603776.0000 - root_mean_squared_error: 35617.4648 - val_loss: 1287412480.0000 - val_root_mean_squared_error: 35880.5312\n",
            "Epoch 92/100\n",
            "17/17 [==============================] - 0s 7ms/step - loss: 1064756352.0000 - root_mean_squared_error: 32630.6055 - val_loss: 819705792.0000 - val_root_mean_squared_error: 28630.5039\n",
            "Epoch 93/100\n",
            "17/17 [==============================] - 0s 6ms/step - loss: 1222213760.0000 - root_mean_squared_error: 34960.1758 - val_loss: 704505920.0000 - val_root_mean_squared_error: 26542.5312\n",
            "Epoch 94/100\n",
            "17/17 [==============================] - 0s 7ms/step - loss: 1261634560.0000 - root_mean_squared_error: 35519.4961 - val_loss: 1023814784.0000 - val_root_mean_squared_error: 31997.1055\n",
            "Epoch 95/100\n",
            "17/17 [==============================] - 0s 7ms/step - loss: 920660544.0000 - root_mean_squared_error: 30342.3887 - val_loss: 1001385536.0000 - val_root_mean_squared_error: 31644.6758\n",
            "Epoch 96/100\n",
            "17/17 [==============================] - 0s 7ms/step - loss: 950059584.0000 - root_mean_squared_error: 30823.0371 - val_loss: 638204608.0000 - val_root_mean_squared_error: 25262.7109\n",
            "Epoch 97/100\n",
            "17/17 [==============================] - 0s 7ms/step - loss: 611320192.0000 - root_mean_squared_error: 24724.8906 - val_loss: 827365120.0000 - val_root_mean_squared_error: 28763.9551\n",
            "Epoch 98/100\n",
            "17/17 [==============================] - 0s 9ms/step - loss: 571531328.0000 - root_mean_squared_error: 23906.7207 - val_loss: 747532928.0000 - val_root_mean_squared_error: 27341.0488\n",
            "Epoch 99/100\n",
            "17/17 [==============================] - 0s 7ms/step - loss: 588804672.0000 - root_mean_squared_error: 24265.2969 - val_loss: 687459968.0000 - val_root_mean_squared_error: 26219.4570\n",
            "Epoch 100/100\n",
            "17/17 [==============================] - 0s 7ms/step - loss: 521760640.0000 - root_mean_squared_error: 22842.0801 - val_loss: 729697984.0000 - val_root_mean_squared_error: 27012.9219\n"
          ]
        },
        {
          "output_type": "execute_result",
          "data": {
            "text/plain": [
              "<keras.callbacks.History at 0x7fe555844d50>"
            ]
          },
          "metadata": {},
          "execution_count": 44
        }
      ]
    },
    {
      "cell_type": "markdown",
      "source": [
        "Evaluate Tuned Model"
      ],
      "metadata": {
        "id": "ALf6CTbmHTy0"
      }
    },
    {
      "cell_type": "code",
      "source": [
        "from tensorflow.keras.models import load_model\n",
        "tuned_nn = load_model('models/tuned_nn')\n",
        "mse(tuned_nn.predict(X_train), y_train, squared = False), mse(tuned_nn.predict(X_val),y_val,squared = False)"
      ],
      "metadata": {
        "colab": {
          "base_uri": "https://localhost:8080/"
        },
        "id": "YytZI8-BHWBf",
        "outputId": "ac0db929-2632-49d3-e614-520cda5a5001"
      },
      "execution_count": null,
      "outputs": [
        {
          "output_type": "stream",
          "name": "stdout",
          "text": [
            "17/17 [==============================] - 1s 4ms/step\n",
            "6/6 [==============================] - 0s 3ms/step\n"
          ]
        },
        {
          "output_type": "execute_result",
          "data": {
            "text/plain": [
              "(18197.40201643848, 14659.810725511725)"
            ]
          },
          "metadata": {},
          "execution_count": 48
        }
      ]
    },
    {
      "cell_type": "markdown",
      "source": [
        "Much better error loss after tuning. Now try on test set "
      ],
      "metadata": {
        "id": "g_dtJCWSJCA2"
      }
    },
    {
      "cell_type": "code",
      "source": [
        "from tensorflow.keras.models import load_model\n",
        "tuned_nn = load_model('models/tuned_nn')\n",
        "mse(tuned_nn.predict(X_test), y_test, squared = False)\n",
        "np.sqrt(mse(tuned_nn.predict(X_test), y_test, squared = False))"
      ],
      "metadata": {
        "colab": {
          "base_uri": "https://localhost:8080/"
        },
        "id": "sTHCCuCOJAHX",
        "outputId": "e451fd1d-0621-485f-b6ef-5f8f18787385"
      },
      "execution_count": null,
      "outputs": [
        {
          "output_type": "stream",
          "name": "stdout",
          "text": [
            "6/6 [==============================] - 0s 5ms/step\n",
            "6/6 [==============================] - 0s 3ms/step\n"
          ]
        },
        {
          "output_type": "execute_result",
          "data": {
            "text/plain": [
              "149.40125793875202"
            ]
          },
          "metadata": {},
          "execution_count": 50
        }
      ]
    },
    {
      "cell_type": "markdown",
      "source": [
        "**Predict DNN tuned model on  test dataset**"
      ],
      "metadata": {
        "id": "5OM8CLyyaP-X"
      }
    },
    {
      "cell_type": "code",
      "source": [
        "model = tuned_nn\n",
        "predict_on_untrained = model.predict(X_test)\n",
        "history = model.fit(X_train,y_train, validation_data=(X_test, y_test), epochs = 100)"
      ],
      "metadata": {
        "id": "ot1_3ewBQAKd",
        "colab": {
          "base_uri": "https://localhost:8080/"
        },
        "outputId": "fe88eadc-2cb6-4f4b-af40-860dfc10723f"
      },
      "execution_count": null,
      "outputs": [
        {
          "output_type": "stream",
          "name": "stdout",
          "text": [
            "6/6 [==============================] - 0s 3ms/step\n",
            "Epoch 1/100\n",
            "17/17 [==============================] - 1s 17ms/step - loss: 23935686656.0000 - root_mean_squared_error: 154711.6250 - val_loss: 47635935232.0000 - val_root_mean_squared_error: 218256.5781\n",
            "Epoch 2/100\n",
            "17/17 [==============================] - 0s 8ms/step - loss: 80671891456.0000 - root_mean_squared_error: 284027.9688 - val_loss: 84419895296.0000 - val_root_mean_squared_error: 290551.0312\n",
            "Epoch 3/100\n",
            "17/17 [==============================] - 0s 7ms/step - loss: 149093875712.0000 - root_mean_squared_error: 386126.7500 - val_loss: 7601919488.0000 - val_root_mean_squared_error: 87188.9844\n",
            "Epoch 4/100\n",
            "17/17 [==============================] - 0s 8ms/step - loss: 43160547328.0000 - root_mean_squared_error: 207751.1719 - val_loss: 58913628160.0000 - val_root_mean_squared_error: 242721.2969\n",
            "Epoch 5/100\n",
            "17/17 [==============================] - 0s 7ms/step - loss: 36161081344.0000 - root_mean_squared_error: 190160.6719 - val_loss: 9699068928.0000 - val_root_mean_squared_error: 98483.8516\n",
            "Epoch 6/100\n",
            "17/17 [==============================] - 0s 7ms/step - loss: 27026085888.0000 - root_mean_squared_error: 164396.1250 - val_loss: 39853682688.0000 - val_root_mean_squared_error: 199633.8750\n",
            "Epoch 7/100\n",
            "17/17 [==============================] - 0s 7ms/step - loss: 10028100608.0000 - root_mean_squared_error: 100140.4062 - val_loss: 10190854144.0000 - val_root_mean_squared_error: 100949.7578\n",
            "Epoch 8/100\n",
            "17/17 [==============================] - 0s 7ms/step - loss: 7476739072.0000 - root_mean_squared_error: 86468.1406 - val_loss: 4645667840.0000 - val_root_mean_squared_error: 68159.1328\n",
            "Epoch 9/100\n",
            "17/17 [==============================] - 0s 8ms/step - loss: 2784221696.0000 - root_mean_squared_error: 52765.7266 - val_loss: 2437029376.0000 - val_root_mean_squared_error: 49366.2773\n",
            "Epoch 10/100\n",
            "17/17 [==============================] - 0s 7ms/step - loss: 1316431360.0000 - root_mean_squared_error: 36282.6602 - val_loss: 1330283264.0000 - val_root_mean_squared_error: 36473.0469\n",
            "Epoch 11/100\n",
            "17/17 [==============================] - 0s 7ms/step - loss: 3411756800.0000 - root_mean_squared_error: 58410.2461 - val_loss: 4068266240.0000 - val_root_mean_squared_error: 63782.9609\n",
            "Epoch 12/100\n",
            "17/17 [==============================] - 0s 8ms/step - loss: 2951780864.0000 - root_mean_squared_error: 54330.2930 - val_loss: 2084317440.0000 - val_root_mean_squared_error: 45654.3242\n",
            "Epoch 13/100\n",
            "17/17 [==============================] - 0s 8ms/step - loss: 5345636352.0000 - root_mean_squared_error: 73113.8594 - val_loss: 7602164224.0000 - val_root_mean_squared_error: 87190.3906\n",
            "Epoch 14/100\n",
            "17/17 [==============================] - 0s 7ms/step - loss: 3483566592.0000 - root_mean_squared_error: 59021.7461 - val_loss: 3207449856.0000 - val_root_mean_squared_error: 56634.3516\n",
            "Epoch 15/100\n",
            "17/17 [==============================] - 0s 7ms/step - loss: 1964987776.0000 - root_mean_squared_error: 44328.1836 - val_loss: 1451891072.0000 - val_root_mean_squared_error: 38103.6875\n",
            "Epoch 16/100\n",
            "17/17 [==============================] - 0s 8ms/step - loss: 1275583872.0000 - root_mean_squared_error: 35715.3164 - val_loss: 3082524160.0000 - val_root_mean_squared_error: 55520.4844\n",
            "Epoch 17/100\n",
            "17/17 [==============================] - 0s 7ms/step - loss: 2102367616.0000 - root_mean_squared_error: 45851.5820 - val_loss: 2377698816.0000 - val_root_mean_squared_error: 48761.6523\n",
            "Epoch 18/100\n",
            "17/17 [==============================] - 0s 8ms/step - loss: 7271207424.0000 - root_mean_squared_error: 85271.3750 - val_loss: 26882852864.0000 - val_root_mean_squared_error: 163959.9062\n",
            "Epoch 19/100\n",
            "17/17 [==============================] - 0s 7ms/step - loss: 49285681152.0000 - root_mean_squared_error: 222003.7812 - val_loss: 38368079872.0000 - val_root_mean_squared_error: 195877.7188\n",
            "Epoch 20/100\n",
            "17/17 [==============================] - 0s 8ms/step - loss: 63006838784.0000 - root_mean_squared_error: 251011.6250 - val_loss: 46222127104.0000 - val_root_mean_squared_error: 214993.3125\n",
            "Epoch 21/100\n",
            "17/17 [==============================] - 0s 6ms/step - loss: 64333565952.0000 - root_mean_squared_error: 253640.6250 - val_loss: 56270610432.0000 - val_root_mean_squared_error: 237214.2656\n",
            "Epoch 22/100\n",
            "17/17 [==============================] - 0s 7ms/step - loss: 18457583616.0000 - root_mean_squared_error: 135858.6875 - val_loss: 12331908096.0000 - val_root_mean_squared_error: 111049.1250\n",
            "Epoch 23/100\n",
            "17/17 [==============================] - 0s 7ms/step - loss: 8001880064.0000 - root_mean_squared_error: 89453.2266 - val_loss: 7602315264.0000 - val_root_mean_squared_error: 87191.2578\n",
            "Epoch 24/100\n",
            "17/17 [==============================] - 0s 6ms/step - loss: 11759447040.0000 - root_mean_squared_error: 108440.9844 - val_loss: 5446632960.0000 - val_root_mean_squared_error: 73801.3047\n",
            "Epoch 25/100\n",
            "17/17 [==============================] - 0s 7ms/step - loss: 2435881728.0000 - root_mean_squared_error: 49354.6523 - val_loss: 2570199808.0000 - val_root_mean_squared_error: 50697.1367\n",
            "Epoch 26/100\n",
            "17/17 [==============================] - 0s 8ms/step - loss: 1830355712.0000 - root_mean_squared_error: 42782.6562 - val_loss: 1760105984.0000 - val_root_mean_squared_error: 41953.6172\n",
            "Epoch 27/100\n",
            "17/17 [==============================] - 0s 8ms/step - loss: 981102080.0000 - root_mean_squared_error: 31322.5488 - val_loss: 1177451392.0000 - val_root_mean_squared_error: 34314.0117\n",
            "Epoch 28/100\n",
            "17/17 [==============================] - 0s 8ms/step - loss: 591158848.0000 - root_mean_squared_error: 24313.7578 - val_loss: 962464512.0000 - val_root_mean_squared_error: 31023.6113\n",
            "Epoch 29/100\n",
            "17/17 [==============================] - 0s 8ms/step - loss: 677966784.0000 - root_mean_squared_error: 26037.7949 - val_loss: 1030405312.0000 - val_root_mean_squared_error: 32099.9277\n",
            "Epoch 30/100\n",
            "17/17 [==============================] - 0s 8ms/step - loss: 577545536.0000 - root_mean_squared_error: 24032.1777 - val_loss: 793938240.0000 - val_root_mean_squared_error: 28176.9102\n",
            "Epoch 31/100\n",
            "17/17 [==============================] - 0s 7ms/step - loss: 701056704.0000 - root_mean_squared_error: 26477.4746 - val_loss: 839197888.0000 - val_root_mean_squared_error: 28968.9121\n",
            "Epoch 32/100\n",
            "17/17 [==============================] - 0s 7ms/step - loss: 766360448.0000 - root_mean_squared_error: 27683.2168 - val_loss: 2492178432.0000 - val_root_mean_squared_error: 49921.7227\n",
            "Epoch 33/100\n",
            "17/17 [==============================] - 0s 8ms/step - loss: 2739327744.0000 - root_mean_squared_error: 52338.5859 - val_loss: 731983232.0000 - val_root_mean_squared_error: 27055.1895\n",
            "Epoch 34/100\n",
            "17/17 [==============================] - 0s 7ms/step - loss: 2337885184.0000 - root_mean_squared_error: 48351.6836 - val_loss: 1554770432.0000 - val_root_mean_squared_error: 39430.5781\n",
            "Epoch 35/100\n",
            "17/17 [==============================] - 0s 9ms/step - loss: 702126720.0000 - root_mean_squared_error: 26497.6738 - val_loss: 957333952.0000 - val_root_mean_squared_error: 30940.8145\n",
            "Epoch 36/100\n",
            "17/17 [==============================] - 0s 7ms/step - loss: 578643008.0000 - root_mean_squared_error: 24055.0000 - val_loss: 741504384.0000 - val_root_mean_squared_error: 27230.5781\n",
            "Epoch 37/100\n",
            "17/17 [==============================] - 0s 7ms/step - loss: 521254912.0000 - root_mean_squared_error: 22831.0078 - val_loss: 919810816.0000 - val_root_mean_squared_error: 30328.3828\n",
            "Epoch 38/100\n",
            "17/17 [==============================] - 0s 8ms/step - loss: 788976640.0000 - root_mean_squared_error: 28088.7285 - val_loss: 1585921280.0000 - val_root_mean_squared_error: 39823.6289\n",
            "Epoch 39/100\n",
            "17/17 [==============================] - 0s 7ms/step - loss: 817585152.0000 - root_mean_squared_error: 28593.4453 - val_loss: 734586304.0000 - val_root_mean_squared_error: 27103.2520\n",
            "Epoch 40/100\n",
            "17/17 [==============================] - 0s 8ms/step - loss: 898923456.0000 - root_mean_squared_error: 29982.0527 - val_loss: 818528512.0000 - val_root_mean_squared_error: 28609.9375\n",
            "Epoch 41/100\n",
            "17/17 [==============================] - 0s 7ms/step - loss: 1455968128.0000 - root_mean_squared_error: 38157.1523 - val_loss: 759388416.0000 - val_root_mean_squared_error: 27557.0039\n",
            "Epoch 42/100\n",
            "17/17 [==============================] - 0s 8ms/step - loss: 3759228416.0000 - root_mean_squared_error: 61312.5469 - val_loss: 8973655040.0000 - val_root_mean_squared_error: 94729.3750\n",
            "Epoch 43/100\n",
            "17/17 [==============================] - 0s 7ms/step - loss: 2835720704.0000 - root_mean_squared_error: 53251.4844 - val_loss: 2127997952.0000 - val_root_mean_squared_error: 46130.2266\n",
            "Epoch 44/100\n",
            "17/17 [==============================] - 0s 7ms/step - loss: 3225320192.0000 - root_mean_squared_error: 56791.9023 - val_loss: 3306840832.0000 - val_root_mean_squared_error: 57505.1367\n",
            "Epoch 45/100\n",
            "17/17 [==============================] - 0s 7ms/step - loss: 6530955264.0000 - root_mean_squared_error: 80814.3281 - val_loss: 8570813952.0000 - val_root_mean_squared_error: 92578.6875\n",
            "Epoch 46/100\n",
            "17/17 [==============================] - 0s 7ms/step - loss: 3669255680.0000 - root_mean_squared_error: 60574.3828 - val_loss: 3741707264.0000 - val_root_mean_squared_error: 61169.4961\n",
            "Epoch 47/100\n",
            "17/17 [==============================] - 0s 7ms/step - loss: 2276100608.0000 - root_mean_squared_error: 47708.4961 - val_loss: 1496589824.0000 - val_root_mean_squared_error: 38685.7852\n",
            "Epoch 48/100\n",
            "17/17 [==============================] - 0s 8ms/step - loss: 1243158528.0000 - root_mean_squared_error: 35258.4531 - val_loss: 634421248.0000 - val_root_mean_squared_error: 25187.7207\n",
            "Epoch 49/100\n",
            "17/17 [==============================] - 0s 8ms/step - loss: 592772608.0000 - root_mean_squared_error: 24346.9219 - val_loss: 708623936.0000 - val_root_mean_squared_error: 26619.9922\n",
            "Epoch 50/100\n",
            "17/17 [==============================] - 0s 7ms/step - loss: 731179648.0000 - root_mean_squared_error: 27040.3340 - val_loss: 504598560.0000 - val_root_mean_squared_error: 22463.2715\n",
            "Epoch 51/100\n",
            "17/17 [==============================] - 0s 7ms/step - loss: 495754048.0000 - root_mean_squared_error: 22265.5352 - val_loss: 365092288.0000 - val_root_mean_squared_error: 19107.3887\n",
            "Epoch 52/100\n",
            "17/17 [==============================] - 0s 7ms/step - loss: 484081408.0000 - root_mean_squared_error: 22001.8496 - val_loss: 1173036416.0000 - val_root_mean_squared_error: 34249.6211\n",
            "Epoch 53/100\n",
            "17/17 [==============================] - 0s 8ms/step - loss: 546154496.0000 - root_mean_squared_error: 23369.9492 - val_loss: 561795456.0000 - val_root_mean_squared_error: 23702.2246\n",
            "Epoch 54/100\n",
            "17/17 [==============================] - 0s 8ms/step - loss: 457691392.0000 - root_mean_squared_error: 21393.7227 - val_loss: 1699409664.0000 - val_root_mean_squared_error: 41223.8984\n",
            "Epoch 55/100\n",
            "17/17 [==============================] - 0s 7ms/step - loss: 2014482688.0000 - root_mean_squared_error: 44882.9883 - val_loss: 798547648.0000 - val_root_mean_squared_error: 28258.5859\n",
            "Epoch 56/100\n",
            "17/17 [==============================] - 0s 7ms/step - loss: 742242112.0000 - root_mean_squared_error: 27244.1211 - val_loss: 492097952.0000 - val_root_mean_squared_error: 22183.2812\n",
            "Epoch 57/100\n",
            "17/17 [==============================] - 0s 7ms/step - loss: 2303236096.0000 - root_mean_squared_error: 47992.0430 - val_loss: 4772688384.0000 - val_root_mean_squared_error: 69084.6484\n",
            "Epoch 58/100\n",
            "17/17 [==============================] - 0s 7ms/step - loss: 1771336704.0000 - root_mean_squared_error: 42087.2500 - val_loss: 3190156032.0000 - val_root_mean_squared_error: 56481.4648\n",
            "Epoch 59/100\n",
            "17/17 [==============================] - 0s 7ms/step - loss: 2277040128.0000 - root_mean_squared_error: 47718.3398 - val_loss: 678747136.0000 - val_root_mean_squared_error: 26052.7754\n",
            "Epoch 60/100\n",
            "17/17 [==============================] - 0s 7ms/step - loss: 8752837632.0000 - root_mean_squared_error: 93556.6016 - val_loss: 3909174528.0000 - val_root_mean_squared_error: 62523.3906\n",
            "Epoch 61/100\n",
            "17/17 [==============================] - 0s 7ms/step - loss: 38770769920.0000 - root_mean_squared_error: 196902.9531 - val_loss: 104606818304.0000 - val_root_mean_squared_error: 323429.7812\n",
            "Epoch 62/100\n",
            "17/17 [==============================] - 0s 7ms/step - loss: 91064066048.0000 - root_mean_squared_error: 301768.2188 - val_loss: 191451201536.0000 - val_root_mean_squared_error: 437551.3750\n",
            "Epoch 63/100\n",
            "17/17 [==============================] - 0s 7ms/step - loss: 91261427712.0000 - root_mean_squared_error: 302095.0625 - val_loss: 48665464832.0000 - val_root_mean_squared_error: 220602.5000\n",
            "Epoch 64/100\n",
            "17/17 [==============================] - 0s 7ms/step - loss: 29120657408.0000 - root_mean_squared_error: 170647.7656 - val_loss: 37045043200.0000 - val_root_mean_squared_error: 192470.8906\n",
            "Epoch 65/100\n",
            "17/17 [==============================] - 0s 7ms/step - loss: 20398630912.0000 - root_mean_squared_error: 142823.7812 - val_loss: 7428669952.0000 - val_root_mean_squared_error: 86189.7344\n",
            "Epoch 66/100\n",
            "17/17 [==============================] - 0s 8ms/step - loss: 35327717376.0000 - root_mean_squared_error: 187956.6875 - val_loss: 46353879040.0000 - val_root_mean_squared_error: 215299.5156\n",
            "Epoch 67/100\n",
            "17/17 [==============================] - 0s 6ms/step - loss: 44695166976.0000 - root_mean_squared_error: 211412.3125 - val_loss: 37626683392.0000 - val_root_mean_squared_error: 193975.9844\n",
            "Epoch 68/100\n",
            "17/17 [==============================] - 0s 7ms/step - loss: 136215764992.0000 - root_mean_squared_error: 369074.1875 - val_loss: 82907398144.0000 - val_root_mean_squared_error: 287936.4375\n",
            "Epoch 69/100\n",
            "17/17 [==============================] - 0s 8ms/step - loss: 154618609664.0000 - root_mean_squared_error: 393215.7188 - val_loss: 10012211200.0000 - val_root_mean_squared_error: 100061.0391\n",
            "Epoch 70/100\n",
            "17/17 [==============================] - 0s 7ms/step - loss: 52601057280.0000 - root_mean_squared_error: 229349.2031 - val_loss: 13051010048.0000 - val_root_mean_squared_error: 114241.0156\n",
            "Epoch 71/100\n",
            "17/17 [==============================] - 0s 7ms/step - loss: 66978594816.0000 - root_mean_squared_error: 258802.2344 - val_loss: 15771124736.0000 - val_root_mean_squared_error: 125583.1406\n",
            "Epoch 72/100\n",
            "17/17 [==============================] - 0s 8ms/step - loss: 22425905152.0000 - root_mean_squared_error: 149752.8125 - val_loss: 8675204096.0000 - val_root_mean_squared_error: 93140.7734\n",
            "Epoch 73/100\n",
            "17/17 [==============================] - 0s 7ms/step - loss: 35296284672.0000 - root_mean_squared_error: 187873.0469 - val_loss: 12657980416.0000 - val_root_mean_squared_error: 112507.6875\n",
            "Epoch 74/100\n",
            "17/17 [==============================] - 0s 7ms/step - loss: 26699122688.0000 - root_mean_squared_error: 163398.6562 - val_loss: 13544085504.0000 - val_root_mean_squared_error: 116379.0625\n",
            "Epoch 75/100\n",
            "17/17 [==============================] - 0s 8ms/step - loss: 48245157888.0000 - root_mean_squared_error: 219647.7969 - val_loss: 33194371072.0000 - val_root_mean_squared_error: 182193.2188\n",
            "Epoch 76/100\n",
            "17/17 [==============================] - 0s 7ms/step - loss: 13972161536.0000 - root_mean_squared_error: 118203.8984 - val_loss: 6860854272.0000 - val_root_mean_squared_error: 82830.2734\n",
            "Epoch 77/100\n",
            "17/17 [==============================] - 0s 6ms/step - loss: 9220704256.0000 - root_mean_squared_error: 96024.5000 - val_loss: 3067283456.0000 - val_root_mean_squared_error: 55383.0625\n",
            "Epoch 78/100\n",
            "17/17 [==============================] - 0s 7ms/step - loss: 9478037504.0000 - root_mean_squared_error: 97355.2109 - val_loss: 4291395840.0000 - val_root_mean_squared_error: 65508.7461\n",
            "Epoch 79/100\n",
            "17/17 [==============================] - 0s 7ms/step - loss: 9299403776.0000 - root_mean_squared_error: 96433.4141 - val_loss: 7376749568.0000 - val_root_mean_squared_error: 85888.0078\n",
            "Epoch 80/100\n",
            "17/17 [==============================] - 0s 7ms/step - loss: 2400181248.0000 - root_mean_squared_error: 48991.6445 - val_loss: 1597152128.0000 - val_root_mean_squared_error: 39964.3867\n",
            "Epoch 81/100\n",
            "17/17 [==============================] - 0s 7ms/step - loss: 1724680320.0000 - root_mean_squared_error: 41529.2695 - val_loss: 2275278848.0000 - val_root_mean_squared_error: 47699.8828\n",
            "Epoch 82/100\n",
            "17/17 [==============================] - 0s 7ms/step - loss: 1378712960.0000 - root_mean_squared_error: 37131.0234 - val_loss: 1339951104.0000 - val_root_mean_squared_error: 36605.3438\n",
            "Epoch 83/100\n",
            "17/17 [==============================] - 0s 7ms/step - loss: 1107452160.0000 - root_mean_squared_error: 33278.4023 - val_loss: 1495246592.0000 - val_root_mean_squared_error: 38668.4180\n",
            "Epoch 84/100\n",
            "17/17 [==============================] - 0s 7ms/step - loss: 1611600256.0000 - root_mean_squared_error: 40144.7422 - val_loss: 1423743104.0000 - val_root_mean_squared_error: 37732.5195\n",
            "Epoch 85/100\n",
            "17/17 [==============================] - 0s 7ms/step - loss: 1609069056.0000 - root_mean_squared_error: 40113.2031 - val_loss: 3595830016.0000 - val_root_mean_squared_error: 59965.2383\n",
            "Epoch 86/100\n",
            "17/17 [==============================] - 0s 7ms/step - loss: 2588787712.0000 - root_mean_squared_error: 50880.1289 - val_loss: 1626227328.0000 - val_root_mean_squared_error: 40326.5078\n",
            "Epoch 87/100\n",
            "17/17 [==============================] - 0s 7ms/step - loss: 3154201856.0000 - root_mean_squared_error: 56162.2812 - val_loss: 3026617600.0000 - val_root_mean_squared_error: 55014.7031\n",
            "Epoch 88/100\n",
            "17/17 [==============================] - 0s 6ms/step - loss: 3365653504.0000 - root_mean_squared_error: 58014.2539 - val_loss: 1474950400.0000 - val_root_mean_squared_error: 38405.0820\n",
            "Epoch 89/100\n",
            "17/17 [==============================] - 0s 7ms/step - loss: 2819051264.0000 - root_mean_squared_error: 53094.7383 - val_loss: 14394404864.0000 - val_root_mean_squared_error: 119976.6875\n",
            "Epoch 90/100\n",
            "17/17 [==============================] - 0s 8ms/step - loss: 3699847680.0000 - root_mean_squared_error: 60826.3750 - val_loss: 3331609088.0000 - val_root_mean_squared_error: 57720.0938\n",
            "Epoch 91/100\n",
            "17/17 [==============================] - 0s 7ms/step - loss: 2926629632.0000 - root_mean_squared_error: 54098.3320 - val_loss: 1851057408.0000 - val_root_mean_squared_error: 43023.9180\n",
            "Epoch 92/100\n",
            "17/17 [==============================] - 0s 7ms/step - loss: 1422710144.0000 - root_mean_squared_error: 37718.8320 - val_loss: 1267581952.0000 - val_root_mean_squared_error: 35603.1172\n",
            "Epoch 93/100\n",
            "17/17 [==============================] - 0s 8ms/step - loss: 938817728.0000 - root_mean_squared_error: 30640.1328 - val_loss: 1164505472.0000 - val_root_mean_squared_error: 34124.8516\n",
            "Epoch 94/100\n",
            "17/17 [==============================] - 0s 7ms/step - loss: 847678592.0000 - root_mean_squared_error: 29114.9199 - val_loss: 1378780416.0000 - val_root_mean_squared_error: 37131.9336\n",
            "Epoch 95/100\n",
            "17/17 [==============================] - 0s 7ms/step - loss: 827959488.0000 - root_mean_squared_error: 28774.2852 - val_loss: 1063557952.0000 - val_root_mean_squared_error: 32612.2363\n",
            "Epoch 96/100\n",
            "17/17 [==============================] - 0s 8ms/step - loss: 806392448.0000 - root_mean_squared_error: 28397.0508 - val_loss: 1789511296.0000 - val_root_mean_squared_error: 42302.6172\n",
            "Epoch 97/100\n",
            "17/17 [==============================] - 0s 7ms/step - loss: 1359272960.0000 - root_mean_squared_error: 36868.3203 - val_loss: 3119826432.0000 - val_root_mean_squared_error: 55855.4062\n",
            "Epoch 98/100\n",
            "17/17 [==============================] - 0s 7ms/step - loss: 4475106304.0000 - root_mean_squared_error: 66896.2344 - val_loss: 2199881728.0000 - val_root_mean_squared_error: 46902.8984\n",
            "Epoch 99/100\n",
            "17/17 [==============================] - 0s 7ms/step - loss: 5110838272.0000 - root_mean_squared_error: 71490.1250 - val_loss: 18450577408.0000 - val_root_mean_squared_error: 135832.9062\n",
            "Epoch 100/100\n",
            "17/17 [==============================] - 0s 7ms/step - loss: 8532060672.0000 - root_mean_squared_error: 92369.1562 - val_loss: 2807078912.0000 - val_root_mean_squared_error: 52981.8750\n"
          ]
        }
      ]
    },
    {
      "cell_type": "markdown",
      "source": [
        "**Predictions**"
      ],
      "metadata": {
        "id": "0uwPV4BsTqwd"
      }
    },
    {
      "cell_type": "code",
      "source": [
        "Preds_on_trained = model.predict(X_test)\n",
        "Preds_on_trained.shape\n",
        "Preds_on_trained\n",
        "   "
      ],
      "metadata": {
        "id": "RSGzNhWig5Ep",
        "colab": {
          "base_uri": "https://localhost:8080/"
        },
        "outputId": "70f3e9a4-6790-46b3-f9bf-7a08deaf7b0c"
      },
      "execution_count": null,
      "outputs": [
        {
          "output_type": "stream",
          "name": "stdout",
          "text": [
            "6/6 [==============================] - 0s 3ms/step\n"
          ]
        },
        {
          "output_type": "execute_result",
          "data": {
            "text/plain": [
              "array([[  23246.037],\n",
              "       [ 156688.3  ],\n",
              "       [  14007.241],\n",
              "       [  77430.47 ],\n",
              "       [  14007.241],\n",
              "       [  14007.241],\n",
              "       [ 167844.69 ],\n",
              "       [  14007.241],\n",
              "       [  14007.241],\n",
              "       [  14007.241],\n",
              "       [ 622479.2  ],\n",
              "       [ 435843.9  ],\n",
              "       [ 424632.9  ],\n",
              "       [ 238003.53 ],\n",
              "       [  17878.783],\n",
              "       [  21093.35 ],\n",
              "       [ 222883.6  ],\n",
              "       [ 611027.3  ],\n",
              "       [  14007.241],\n",
              "       [  14007.241],\n",
              "       [  30439.549],\n",
              "       [  23329.63 ],\n",
              "       [ 303915.53 ],\n",
              "       [ 639312.5  ],\n",
              "       [ 187810.02 ],\n",
              "       [ 243104.64 ],\n",
              "       [ 256614.77 ],\n",
              "       [ 331559.62 ],\n",
              "       [ 101658.22 ],\n",
              "       [  42002.1  ],\n",
              "       [ 135964.03 ],\n",
              "       [ 661569.06 ],\n",
              "       [  46676.78 ],\n",
              "       [  14007.241],\n",
              "       [ 227086.44 ],\n",
              "       [  14007.241],\n",
              "       [  14007.241],\n",
              "       [  14007.241],\n",
              "       [7674761.5  ],\n",
              "       [ 225377.97 ],\n",
              "       [  14007.241],\n",
              "       [  14007.241],\n",
              "       [  14007.241],\n",
              "       [  14007.241],\n",
              "       [  14007.241],\n",
              "       [  43427.44 ],\n",
              "       [2268779.2  ],\n",
              "       [  14007.241],\n",
              "       [ 294755.75 ],\n",
              "       [  14007.241],\n",
              "       [  14007.241],\n",
              "       [  14007.241],\n",
              "       [  14007.241],\n",
              "       [ 359337.12 ],\n",
              "       [  14007.241],\n",
              "       [  19619.92 ],\n",
              "       [  14007.241],\n",
              "       [  14007.241],\n",
              "       [  14007.241],\n",
              "       [  14007.241],\n",
              "       [  14007.241],\n",
              "       [  15943.495],\n",
              "       [  14007.241],\n",
              "       [  17581.857],\n",
              "       [ 412247.16 ],\n",
              "       [ 623975.25 ],\n",
              "       [  14007.241],\n",
              "       [  14007.241],\n",
              "       [  14007.241],\n",
              "       [ 144971.66 ],\n",
              "       [  28949.844],\n",
              "       [  14007.241],\n",
              "       [  14007.241],\n",
              "       [  14007.241],\n",
              "       [  14007.241],\n",
              "       [ 158765.1  ],\n",
              "       [  14007.241],\n",
              "       [  85498.23 ],\n",
              "       [  98751.766],\n",
              "       [  14007.241],\n",
              "       [ 482481.88 ],\n",
              "       [ 603461.7  ],\n",
              "       [  14007.241],\n",
              "       [  14007.241],\n",
              "       [ 308618.88 ],\n",
              "       [  87622.945],\n",
              "       [  39417.973],\n",
              "       [  14707.923],\n",
              "       [ 241416.61 ],\n",
              "       [ 956441.2  ],\n",
              "       [  14007.241],\n",
              "       [1308535.4  ],\n",
              "       [ 124949.01 ],\n",
              "       [  14007.241],\n",
              "       [  39917.35 ],\n",
              "       [  14007.241],\n",
              "       [  46587.586],\n",
              "       [  14007.241],\n",
              "       [  14007.241],\n",
              "       [ 169780.25 ],\n",
              "       [  23367.271],\n",
              "       [  21894.564],\n",
              "       [  29501.639],\n",
              "       [ 719818.6  ],\n",
              "       [  14007.241],\n",
              "       [ 630757.4  ],\n",
              "       [  28919.783],\n",
              "       [  73318.695],\n",
              "       [4592789.5  ],\n",
              "       [ 172030.64 ],\n",
              "       [ 154040.3  ],\n",
              "       [  14007.241],\n",
              "       [  16998.99 ],\n",
              "       [  14007.241],\n",
              "       [ 764853.1  ],\n",
              "       [  89824.49 ],\n",
              "       [  14007.241],\n",
              "       [  14007.241],\n",
              "       [  14007.241],\n",
              "       [  14007.241],\n",
              "       [  14007.241],\n",
              "       [  31764.092],\n",
              "       [  14007.241],\n",
              "       [  14007.241],\n",
              "       [  14007.241],\n",
              "       [  14285.313],\n",
              "       [  14007.241],\n",
              "       [  14007.241],\n",
              "       [  14007.241],\n",
              "       [  14007.241],\n",
              "       [  14007.241],\n",
              "       [  14007.241],\n",
              "       [  14007.241],\n",
              "       [4807657.   ],\n",
              "       [  14007.241],\n",
              "       [  14007.241],\n",
              "       [  77416.89 ],\n",
              "       [  14007.241],\n",
              "       [ 490322.72 ],\n",
              "       [  14007.241],\n",
              "       [ 112067.1  ],\n",
              "       [  14007.241],\n",
              "       [ 361098.84 ],\n",
              "       [ 366369.97 ],\n",
              "       [  14007.241],\n",
              "       [ 107406.36 ],\n",
              "       [  20359.45 ],\n",
              "       [  34103.36 ],\n",
              "       [ 237579.25 ],\n",
              "       [  54477.457],\n",
              "       [  14007.241],\n",
              "       [  14007.241],\n",
              "       [  64497.23 ],\n",
              "       [ 425869.44 ],\n",
              "       [ 247211.52 ],\n",
              "       [  14007.241],\n",
              "       [  14007.241],\n",
              "       [  14007.241],\n",
              "       [  14007.241],\n",
              "       [  14007.241],\n",
              "       [  14007.241],\n",
              "       [  14007.241],\n",
              "       [ 347578.44 ],\n",
              "       [  14007.241],\n",
              "       [2058901.   ],\n",
              "       [  14007.241],\n",
              "       [  14007.241],\n",
              "       [  14007.241],\n",
              "       [ 736803.6  ],\n",
              "       [ 238552.3  ],\n",
              "       [ 221376.97 ],\n",
              "       [  14007.241],\n",
              "       [ 616295.6  ],\n",
              "       [ 142749.88 ],\n",
              "       [ 443930.8  ],\n",
              "       [  14007.241],\n",
              "       [  14007.241],\n",
              "       [ 158069.53 ],\n",
              "       [  14007.241],\n",
              "       [ 220165.5  ],\n",
              "       [  14007.241]], dtype=float32)"
            ]
          },
          "metadata": {},
          "execution_count": 88
        }
      ]
    },
    {
      "cell_type": "markdown",
      "source": [
        "Test on orignal dataset values"
      ],
      "metadata": {
        "id": "Sxy0PeAZzxUp"
      }
    },
    {
      "cell_type": "code",
      "source": [
        "test_data = np.array([-26.107107,\t127.696907,\t389.100000,\t0.011643,\t45304.000000,\t253.000000,\t0.012391,\t76654.000000,\t1641.8,\t0,\t0,\t1]) \n",
        "\n",
        "test_data.reshape(1,12)"
      ],
      "metadata": {
        "id": "UhQRAg0tuyaW",
        "colab": {
          "base_uri": "https://localhost:8080/"
        },
        "outputId": "f124ecd6-c758-4b59-e00c-9d3d49346187"
      },
      "execution_count": null,
      "outputs": [
        {
          "output_type": "execute_result",
          "data": {
            "text/plain": [
              "array([[-2.61071070e+01,  1.27696907e+02,  3.89100000e+02,\n",
              "         1.16430000e-02,  4.53040000e+04,  2.53000000e+02,\n",
              "         1.23910000e-02,  7.66540000e+04,  1.64180000e+03,\n",
              "         0.00000000e+00,  0.00000000e+00,  1.00000000e+00]])"
            ]
          },
          "metadata": {},
          "execution_count": 89
        }
      ]
    },
    {
      "cell_type": "code",
      "source": [
        " x=model.predict(test_data.reshape(1,12),batch_size=1)\n",
        " "
      ],
      "metadata": {
        "id": "tJtI6nXEwYyL",
        "colab": {
          "base_uri": "https://localhost:8080/"
        },
        "outputId": "b142d1ef-032f-431d-ab6a-07e28e9ed84d"
      },
      "execution_count": null,
      "outputs": [
        {
          "output_type": "stream",
          "name": "stdout",
          "text": [
            "1/1 [==============================] - 0s 16ms/step\n"
          ]
        }
      ]
    },
    {
      "cell_type": "code",
      "source": [
        "print('This is the value predicted mineral land value from input parameters',x,\"Million USD dollars\")"
      ],
      "metadata": {
        "id": "CsnmDgOqyhY4",
        "colab": {
          "base_uri": "https://localhost:8080/"
        },
        "outputId": "3e7ed757-9239-4e01-b0e0-9052e7e70561"
      },
      "execution_count": null,
      "outputs": [
        {
          "output_type": "stream",
          "name": "stdout",
          "text": [
            "This is the value predicted mineral land value from input parameters [[14007.24]] Million USD dollars\n"
          ]
        }
      ]
    },
    {
      "cell_type": "markdown",
      "source": [
        "**Creat User Interface**\n",
        "\n",
        "This is when the customer enters in the parameters then they receive a predicted mineral price "
      ],
      "metadata": {
        "id": "tmzq86d7z4m1"
      }
    },
    {
      "cell_type": "code",
      "source": [
        "print(' Welcome to our mineral land prediction software!!!','\\n','If you would like to make a prediction, please enter the following values')\n",
        "print('Input Parameters')\n",
        "a = float(input('LATTITUDE '))\n",
        "b= float(input('LONGTITUDE '))\n",
        "c= float(input('RES_QTY_MILLION_TONNES: '))\n",
        "d = float(input('RES_QTY_GRAM_TONNE: '))\n",
        "e = float(input('RES_CON_KILOGRAM: '))\n",
        "f = float(input('RV_QTY_million_tonnes: '))\n",
        "g = float(input('RV_QTY_AVG_GRAM_TONNE: '))\n",
        "h = float(input('POINT_SIZE_KILOGRAM: '))\n",
        "i = float(input('GOLD_PRICE_USD: '))\n",
        "j = float(input('IF commodity is Gold press 1 else 0 : '))\n",
        "k = float(input('IF commodity is Iron press 1 else 0: '))\n",
        "l = float(input('IF commodity is Nickel press 1 else 0 '))\n",
        "testdata = np.array([a,b,c,d,e,f,g,h,i,j,k,l])\n",
        "\n",
        "y = model.predict(testdata.reshape(1,12),batch_size=1)\n",
        "\n",
        "print('This is the value predicted mineral land value from input parameters',y,\"Million USD dollars\")"
      ],
      "metadata": {
        "id": "MDqBb4-oz68y"
      },
      "execution_count": null,
      "outputs": []
    }
  ]
}