{
  "nbformat": 4,
  "nbformat_minor": 0,
  "metadata": {
    "colab": {
      "provenance": [],
      "collapsed_sections": [],
      "authorship_tag": "ABX9TyM3JexfVu1COhIheJ+EMwek",
      "include_colab_link": true
    },
    "kernelspec": {
      "name": "python3",
      "display_name": "Python 3"
    },
    "language_info": {
      "name": "python"
    }
  },
  "cells": [
    {
      "cell_type": "markdown",
      "metadata": {
        "id": "view-in-github",
        "colab_type": "text"
      },
      "source": [
        "<a href=\"https://colab.research.google.com/github/AbelJames26/Project_Mining/blob/main/Final_draft_copy.ipynb\" target=\"_parent\"><img src=\"https://colab.research.google.com/assets/colab-badge.svg\" alt=\"Open In Colab\"/></a>"
      ]
    },
    {
      "cell_type": "markdown",
      "source": [
        "**Import Libraries**"
      ],
      "metadata": {
        "id": "Ghl5pyYuTYct"
      }
    },
    {
      "cell_type": "code",
      "execution_count": 29,
      "metadata": {
        "id": "PKPJWzO803eL",
        "outputId": "0758d8b4-e39d-4d10-8ad8-4d9f84c2c406",
        "colab": {
          "base_uri": "https://localhost:8080/"
        }
      },
      "outputs": [
        {
          "output_type": "stream",
          "name": "stdout",
          "text": [
            "2.9.2\n"
          ]
        }
      ],
      "source": [
        "import numpy as np\n",
        "import pandas as pd\n",
        "import scipy as sp\n",
        "import tensorflow as tf\n",
        "from tensorflow import keras\n",
        "from tensorflow.keras import layers\n",
        "import sqlite3\n",
        "import seaborn as sns\n",
        "from sklearn.model_selection import train_test_split\n",
        "from sklearn.preprocessing import StandardScaler\n",
        "import matplotlib.pyplot as plt\n",
        "\n",
        "from utils import *\n",
        "\n",
        "\n",
        "print(tf.__version__)"
      ]
    },
    {
      "cell_type": "markdown",
      "source": [
        "**Import Data Set**"
      ],
      "metadata": {
        "id": "1aF7-1FeTVVJ"
      }
    },
    {
      "cell_type": "code",
      "source": [
        "Path = \"/content/Project_Data.csv\"\n",
        "df = pd.read_csv(Path)\n",
        "df.shape"
      ],
      "metadata": {
        "colab": {
          "base_uri": "https://localhost:8080/"
        },
        "id": "BtZKnAlqn_v3",
        "outputId": "7f44404d-5d35-494b-918c-68f38f098a1a"
      },
      "execution_count": 30,
      "outputs": [
        {
          "output_type": "execute_result",
          "data": {
            "text/plain": [
              "(264, 21)"
            ]
          },
          "metadata": {},
          "execution_count": 30
        }
      ]
    },
    {
      "cell_type": "markdown",
      "source": [
        "Visualize dataset"
      ],
      "metadata": {
        "id": "qRttaf5odS7W"
      }
    },
    {
      "cell_type": "code",
      "source": [
        "#Displaying the data\n",
        "df.head()"
      ],
      "metadata": {
        "colab": {
          "base_uri": "https://localhost:8080/",
          "height": 490
        },
        "id": "y6jWt2b_N9o4",
        "outputId": "f3caf8e9-8a72-4622-b1e0-efa45910afa4"
      },
      "execution_count": 31,
      "outputs": [
        {
          "output_type": "execute_result",
          "data": {
            "text/plain": [
              "  PROJECT_CODE              PROJECT_NAME             PROJECT_SHORT  \\\n",
              "0       J05288                8 Mile Dam                8 Mile Dam   \n",
              "1       J02707      Goodenough / Kairiki                Goodenough   \n",
              "2       J04664        Ora Banda / Norton                 Ora Banda   \n",
              "3       J00292  Paddington - Mt Pleasant  Paddington - Mt Pleasant   \n",
              "4       J01022             Abednego West             Abednego West   \n",
              "\n",
              "  PRIMARY COMMODITY SITE_CODE   LATITUDE   LONGITUDE  \\\n",
              "0              Gold  S0236141 -30.645288  121.462217   \n",
              "1              Gold  S0020062 -29.676897  121.077914   \n",
              "2              Gold  S0000642 -30.372109  121.088425   \n",
              "3              Gold  S0000566 -30.556269  121.227040   \n",
              "4              Gold  S0002219 -28.833347  121.773913   \n",
              "\n",
              "                     SITE_LOCATION ESTIMATING COMMODITY EST_COM_AB  ...  \\\n",
              "0  Eastern Goldfields Superterrane                 Gold         Au  ...   \n",
              "1  Eastern Goldfields Superterrane                 Gold         Au  ...   \n",
              "2  Eastern Goldfields Superterrane                 Gold         Au  ...   \n",
              "3  Eastern Goldfields Superterrane                 Gold         Au  ...   \n",
              "4  Eastern Goldfields Superterrane                 Gold         Au  ...   \n",
              "\n",
              "  TOTAL_MINERAL_RESOURCES (Mt)  TOTAL_MINERAL_RESOURCES_AVG_GRADE_(g/t)  \\\n",
              "0                     7.014346                                 1.392000   \n",
              "1                     0.715700                                 1.971598   \n",
              "2                    17.790000                                 1.859798   \n",
              "3                    59.980000                                 2.251367   \n",
              "4                     0.070000                                 2.100000   \n",
              "\n",
              "    RES_CON_(Kg)  RV_QTY_G_(g/t)  RV_CON_(Kg)  POINT_SIZE (Kg)       Date  \\\n",
              "0    9763.969632        2.099000    558.00000      9763.969632  1/10/2022   \n",
              "1    1411.073000        3.365000  20642.21000      1411.073000  1/10/2022   \n",
              "2   33085.800000        2.276660  14718.87760     47804.677600  1/10/2022   \n",
              "3  135037.000000        1.798119  15923.12736    150960.127400  1/10/2022   \n",
              "4     147.000000        1.864000      2.88800       147.000000  2/10/2022   \n",
              "\n",
              "  Gold_Value  RV_QTY_(Mt)  Mineral_Land_Value_USD_Millions  \n",
              "0     1662.4     1.670000                       2776.20800  \n",
              "1     1662.4     1.354000                       2250.88960  \n",
              "2     1662.4    34.057692                      56617.50738  \n",
              "3     1662.4    34.251312                      56939.38188  \n",
              "4     1662.4     2.230000                       3707.15200  \n",
              "\n",
              "[5 rows x 21 columns]"
            ],
            "text/html": [
              "\n",
              "  <div id=\"df-c1dc9eba-c2c3-40ff-b36c-b88a503ad2a7\">\n",
              "    <div class=\"colab-df-container\">\n",
              "      <div>\n",
              "<style scoped>\n",
              "    .dataframe tbody tr th:only-of-type {\n",
              "        vertical-align: middle;\n",
              "    }\n",
              "\n",
              "    .dataframe tbody tr th {\n",
              "        vertical-align: top;\n",
              "    }\n",
              "\n",
              "    .dataframe thead th {\n",
              "        text-align: right;\n",
              "    }\n",
              "</style>\n",
              "<table border=\"1\" class=\"dataframe\">\n",
              "  <thead>\n",
              "    <tr style=\"text-align: right;\">\n",
              "      <th></th>\n",
              "      <th>PROJECT_CODE</th>\n",
              "      <th>PROJECT_NAME</th>\n",
              "      <th>PROJECT_SHORT</th>\n",
              "      <th>PRIMARY COMMODITY</th>\n",
              "      <th>SITE_CODE</th>\n",
              "      <th>LATITUDE</th>\n",
              "      <th>LONGITUDE</th>\n",
              "      <th>SITE_LOCATION</th>\n",
              "      <th>ESTIMATING COMMODITY</th>\n",
              "      <th>EST_COM_AB</th>\n",
              "      <th>...</th>\n",
              "      <th>TOTAL_MINERAL_RESOURCES (Mt)</th>\n",
              "      <th>TOTAL_MINERAL_RESOURCES_AVG_GRADE_(g/t)</th>\n",
              "      <th>RES_CON_(Kg)</th>\n",
              "      <th>RV_QTY_G_(g/t)</th>\n",
              "      <th>RV_CON_(Kg)</th>\n",
              "      <th>POINT_SIZE (Kg)</th>\n",
              "      <th>Date</th>\n",
              "      <th>Gold_Value</th>\n",
              "      <th>RV_QTY_(Mt)</th>\n",
              "      <th>Mineral_Land_Value_USD_Millions</th>\n",
              "    </tr>\n",
              "  </thead>\n",
              "  <tbody>\n",
              "    <tr>\n",
              "      <th>0</th>\n",
              "      <td>J05288</td>\n",
              "      <td>8 Mile Dam</td>\n",
              "      <td>8 Mile Dam</td>\n",
              "      <td>Gold</td>\n",
              "      <td>S0236141</td>\n",
              "      <td>-30.645288</td>\n",
              "      <td>121.462217</td>\n",
              "      <td>Eastern Goldfields Superterrane</td>\n",
              "      <td>Gold</td>\n",
              "      <td>Au</td>\n",
              "      <td>...</td>\n",
              "      <td>7.014346</td>\n",
              "      <td>1.392000</td>\n",
              "      <td>9763.969632</td>\n",
              "      <td>2.099000</td>\n",
              "      <td>558.00000</td>\n",
              "      <td>9763.969632</td>\n",
              "      <td>1/10/2022</td>\n",
              "      <td>1662.4</td>\n",
              "      <td>1.670000</td>\n",
              "      <td>2776.20800</td>\n",
              "    </tr>\n",
              "    <tr>\n",
              "      <th>1</th>\n",
              "      <td>J02707</td>\n",
              "      <td>Goodenough / Kairiki</td>\n",
              "      <td>Goodenough</td>\n",
              "      <td>Gold</td>\n",
              "      <td>S0020062</td>\n",
              "      <td>-29.676897</td>\n",
              "      <td>121.077914</td>\n",
              "      <td>Eastern Goldfields Superterrane</td>\n",
              "      <td>Gold</td>\n",
              "      <td>Au</td>\n",
              "      <td>...</td>\n",
              "      <td>0.715700</td>\n",
              "      <td>1.971598</td>\n",
              "      <td>1411.073000</td>\n",
              "      <td>3.365000</td>\n",
              "      <td>20642.21000</td>\n",
              "      <td>1411.073000</td>\n",
              "      <td>1/10/2022</td>\n",
              "      <td>1662.4</td>\n",
              "      <td>1.354000</td>\n",
              "      <td>2250.88960</td>\n",
              "    </tr>\n",
              "    <tr>\n",
              "      <th>2</th>\n",
              "      <td>J04664</td>\n",
              "      <td>Ora Banda / Norton</td>\n",
              "      <td>Ora Banda</td>\n",
              "      <td>Gold</td>\n",
              "      <td>S0000642</td>\n",
              "      <td>-30.372109</td>\n",
              "      <td>121.088425</td>\n",
              "      <td>Eastern Goldfields Superterrane</td>\n",
              "      <td>Gold</td>\n",
              "      <td>Au</td>\n",
              "      <td>...</td>\n",
              "      <td>17.790000</td>\n",
              "      <td>1.859798</td>\n",
              "      <td>33085.800000</td>\n",
              "      <td>2.276660</td>\n",
              "      <td>14718.87760</td>\n",
              "      <td>47804.677600</td>\n",
              "      <td>1/10/2022</td>\n",
              "      <td>1662.4</td>\n",
              "      <td>34.057692</td>\n",
              "      <td>56617.50738</td>\n",
              "    </tr>\n",
              "    <tr>\n",
              "      <th>3</th>\n",
              "      <td>J00292</td>\n",
              "      <td>Paddington - Mt Pleasant</td>\n",
              "      <td>Paddington - Mt Pleasant</td>\n",
              "      <td>Gold</td>\n",
              "      <td>S0000566</td>\n",
              "      <td>-30.556269</td>\n",
              "      <td>121.227040</td>\n",
              "      <td>Eastern Goldfields Superterrane</td>\n",
              "      <td>Gold</td>\n",
              "      <td>Au</td>\n",
              "      <td>...</td>\n",
              "      <td>59.980000</td>\n",
              "      <td>2.251367</td>\n",
              "      <td>135037.000000</td>\n",
              "      <td>1.798119</td>\n",
              "      <td>15923.12736</td>\n",
              "      <td>150960.127400</td>\n",
              "      <td>1/10/2022</td>\n",
              "      <td>1662.4</td>\n",
              "      <td>34.251312</td>\n",
              "      <td>56939.38188</td>\n",
              "    </tr>\n",
              "    <tr>\n",
              "      <th>4</th>\n",
              "      <td>J01022</td>\n",
              "      <td>Abednego West</td>\n",
              "      <td>Abednego West</td>\n",
              "      <td>Gold</td>\n",
              "      <td>S0002219</td>\n",
              "      <td>-28.833347</td>\n",
              "      <td>121.773913</td>\n",
              "      <td>Eastern Goldfields Superterrane</td>\n",
              "      <td>Gold</td>\n",
              "      <td>Au</td>\n",
              "      <td>...</td>\n",
              "      <td>0.070000</td>\n",
              "      <td>2.100000</td>\n",
              "      <td>147.000000</td>\n",
              "      <td>1.864000</td>\n",
              "      <td>2.88800</td>\n",
              "      <td>147.000000</td>\n",
              "      <td>2/10/2022</td>\n",
              "      <td>1662.4</td>\n",
              "      <td>2.230000</td>\n",
              "      <td>3707.15200</td>\n",
              "    </tr>\n",
              "  </tbody>\n",
              "</table>\n",
              "<p>5 rows × 21 columns</p>\n",
              "</div>\n",
              "      <button class=\"colab-df-convert\" onclick=\"convertToInteractive('df-c1dc9eba-c2c3-40ff-b36c-b88a503ad2a7')\"\n",
              "              title=\"Convert this dataframe to an interactive table.\"\n",
              "              style=\"display:none;\">\n",
              "        \n",
              "  <svg xmlns=\"http://www.w3.org/2000/svg\" height=\"24px\"viewBox=\"0 0 24 24\"\n",
              "       width=\"24px\">\n",
              "    <path d=\"M0 0h24v24H0V0z\" fill=\"none\"/>\n",
              "    <path d=\"M18.56 5.44l.94 2.06.94-2.06 2.06-.94-2.06-.94-.94-2.06-.94 2.06-2.06.94zm-11 1L8.5 8.5l.94-2.06 2.06-.94-2.06-.94L8.5 2.5l-.94 2.06-2.06.94zm10 10l.94 2.06.94-2.06 2.06-.94-2.06-.94-.94-2.06-.94 2.06-2.06.94z\"/><path d=\"M17.41 7.96l-1.37-1.37c-.4-.4-.92-.59-1.43-.59-.52 0-1.04.2-1.43.59L10.3 9.45l-7.72 7.72c-.78.78-.78 2.05 0 2.83L4 21.41c.39.39.9.59 1.41.59.51 0 1.02-.2 1.41-.59l7.78-7.78 2.81-2.81c.8-.78.8-2.07 0-2.86zM5.41 20L4 18.59l7.72-7.72 1.47 1.35L5.41 20z\"/>\n",
              "  </svg>\n",
              "      </button>\n",
              "      \n",
              "  <style>\n",
              "    .colab-df-container {\n",
              "      display:flex;\n",
              "      flex-wrap:wrap;\n",
              "      gap: 12px;\n",
              "    }\n",
              "\n",
              "    .colab-df-convert {\n",
              "      background-color: #E8F0FE;\n",
              "      border: none;\n",
              "      border-radius: 50%;\n",
              "      cursor: pointer;\n",
              "      display: none;\n",
              "      fill: #1967D2;\n",
              "      height: 32px;\n",
              "      padding: 0 0 0 0;\n",
              "      width: 32px;\n",
              "    }\n",
              "\n",
              "    .colab-df-convert:hover {\n",
              "      background-color: #E2EBFA;\n",
              "      box-shadow: 0px 1px 2px rgba(60, 64, 67, 0.3), 0px 1px 3px 1px rgba(60, 64, 67, 0.15);\n",
              "      fill: #174EA6;\n",
              "    }\n",
              "\n",
              "    [theme=dark] .colab-df-convert {\n",
              "      background-color: #3B4455;\n",
              "      fill: #D2E3FC;\n",
              "    }\n",
              "\n",
              "    [theme=dark] .colab-df-convert:hover {\n",
              "      background-color: #434B5C;\n",
              "      box-shadow: 0px 1px 3px 1px rgba(0, 0, 0, 0.15);\n",
              "      filter: drop-shadow(0px 1px 2px rgba(0, 0, 0, 0.3));\n",
              "      fill: #FFFFFF;\n",
              "    }\n",
              "  </style>\n",
              "\n",
              "      <script>\n",
              "        const buttonEl =\n",
              "          document.querySelector('#df-c1dc9eba-c2c3-40ff-b36c-b88a503ad2a7 button.colab-df-convert');\n",
              "        buttonEl.style.display =\n",
              "          google.colab.kernel.accessAllowed ? 'block' : 'none';\n",
              "\n",
              "        async function convertToInteractive(key) {\n",
              "          const element = document.querySelector('#df-c1dc9eba-c2c3-40ff-b36c-b88a503ad2a7');\n",
              "          const dataTable =\n",
              "            await google.colab.kernel.invokeFunction('convertToInteractive',\n",
              "                                                     [key], {});\n",
              "          if (!dataTable) return;\n",
              "\n",
              "          const docLinkHtml = 'Like what you see? Visit the ' +\n",
              "            '<a target=\"_blank\" href=https://colab.research.google.com/notebooks/data_table.ipynb>data table notebook</a>'\n",
              "            + ' to learn more about interactive tables.';\n",
              "          element.innerHTML = '';\n",
              "          dataTable['output_type'] = 'display_data';\n",
              "          await google.colab.output.renderOutput(dataTable, element);\n",
              "          const docLink = document.createElement('div');\n",
              "          docLink.innerHTML = docLinkHtml;\n",
              "          element.appendChild(docLink);\n",
              "        }\n",
              "      </script>\n",
              "    </div>\n",
              "  </div>\n",
              "  "
            ]
          },
          "metadata": {},
          "execution_count": 31
        }
      ]
    },
    {
      "cell_type": "markdown",
      "source": [
        "Visualize Ore reserve locations "
      ],
      "metadata": {
        "id": "C4qknnFfdZi9"
      }
    },
    {
      "cell_type": "code",
      "source": [
        "df.plot(kind=\"scatter\", x=\"LONGITUDE\", y=\"LATITUDE\")"
      ],
      "metadata": {
        "id": "2eSz9x1RNA8U",
        "outputId": "2001166f-4b67-4473-f62c-387edce4806e",
        "colab": {
          "base_uri": "https://localhost:8080/",
          "height": 297
        }
      },
      "execution_count": 32,
      "outputs": [
        {
          "output_type": "execute_result",
          "data": {
            "text/plain": [
              "<matplotlib.axes._subplots.AxesSubplot at 0x7f8045353cd0>"
            ]
          },
          "metadata": {},
          "execution_count": 32
        },
        {
          "output_type": "display_data",
          "data": {
            "text/plain": [
              "<Figure size 432x288 with 1 Axes>"
            ],
            "image/png": "[encoded data removed]"
          },
          "metadata": {
            "needs_background": "light"
          }
        }
      ]
    },
    {
      "cell_type": "markdown",
      "source": [
        "**Check for Missing Data**"
      ],
      "metadata": {
        "id": "HtmDto3kPZJm"
      }
    },
    {
      "cell_type": "code",
      "source": [
        "# Checking the null values\n",
        "\n",
        "df.isna().any()"
      ],
      "metadata": {
        "id": "UNxsAJeXPhLb",
        "outputId": "bd6c3ab4-7608-4320-f26d-0e56cdce1ee4",
        "colab": {
          "base_uri": "https://localhost:8080/"
        }
      },
      "execution_count": 33,
      "outputs": [
        {
          "output_type": "execute_result",
          "data": {
            "text/plain": [
              "PROJECT_CODE                               False\n",
              "PROJECT_NAME                               False\n",
              "PROJECT_SHORT                              False\n",
              "PRIMARY COMMODITY                          False\n",
              "SITE_CODE                                  False\n",
              "LATITUDE                                   False\n",
              "LONGITUDE                                  False\n",
              "SITE_LOCATION                              False\n",
              "ESTIMATING COMMODITY                       False\n",
              "EST_COM_AB                                 False\n",
              "EST_COM_P                                  False\n",
              "TOTAL_MINERAL_RESOURCES (Mt)               False\n",
              "TOTAL_MINERAL_RESOURCES_AVG_GRADE_(g/t)    False\n",
              "RES_CON_(Kg)                               False\n",
              "RV_QTY_G_(g/t)                             False\n",
              "RV_CON_(Kg)                                False\n",
              "POINT_SIZE (Kg)                            False\n",
              "Date                                       False\n",
              "Gold_Value                                 False\n",
              "RV_QTY_(Mt)                                False\n",
              "Mineral_Land_Value_USD_Millions            False\n",
              "dtype: bool"
            ]
          },
          "metadata": {},
          "execution_count": 33
        }
      ]
    },
    {
      "cell_type": "markdown",
      "source": [
        "Count the number of Null Values in Each Column"
      ],
      "metadata": {
        "id": "6jIvBdXiPrIE"
      }
    },
    {
      "cell_type": "code",
      "source": [
        "# Count number of null values in each columns\n",
        "\n",
        "df.isna().sum()"
      ],
      "metadata": {
        "id": "LTF1IjtGPx-Y",
        "outputId": "e5dc3b01-dd05-4d57-9dde-f5fee6cb99b3",
        "colab": {
          "base_uri": "https://localhost:8080/"
        }
      },
      "execution_count": 34,
      "outputs": [
        {
          "output_type": "execute_result",
          "data": {
            "text/plain": [
              "PROJECT_CODE                               0\n",
              "PROJECT_NAME                               0\n",
              "PROJECT_SHORT                              0\n",
              "PRIMARY COMMODITY                          0\n",
              "SITE_CODE                                  0\n",
              "LATITUDE                                   0\n",
              "LONGITUDE                                  0\n",
              "SITE_LOCATION                              0\n",
              "ESTIMATING COMMODITY                       0\n",
              "EST_COM_AB                                 0\n",
              "EST_COM_P                                  0\n",
              "TOTAL_MINERAL_RESOURCES (Mt)               0\n",
              "TOTAL_MINERAL_RESOURCES_AVG_GRADE_(g/t)    0\n",
              "RES_CON_(Kg)                               0\n",
              "RV_QTY_G_(g/t)                             0\n",
              "RV_CON_(Kg)                                0\n",
              "POINT_SIZE (Kg)                            0\n",
              "Date                                       0\n",
              "Gold_Value                                 0\n",
              "RV_QTY_(Mt)                                0\n",
              "Mineral_Land_Value_USD_Millions            0\n",
              "dtype: int64"
            ]
          },
          "metadata": {},
          "execution_count": 34
        }
      ]
    },
    {
      "cell_type": "markdown",
      "source": [
        "Drop NA Values if count is less than 5%"
      ],
      "metadata": {
        "id": "QlwLDoQdQEZS"
      }
    },
    {
      "cell_type": "code",
      "source": [
        "# We can drop the null value as their count is less than 5%\n",
        "\n",
        "df.dropna(inplace=True)"
      ],
      "metadata": {
        "id": "I_kiLVqPQKBt"
      },
      "execution_count": 35,
      "outputs": []
    },
    {
      "cell_type": "markdown",
      "source": [
        "**Remove variables not used for prediction**"
      ],
      "metadata": {
        "id": "UnhyxbyAtWP9"
      }
    },
    {
      "cell_type": "code",
      "source": [
        "df = df.drop([ \"PROJECT_NAME\", \"PROJECT_CODE\",\"PROJECT_SHORT\",\"PRIMARY COMMODITY\",\"SITE_CODE\", \"SITE_LOCATION\", \"ESTIMATING COMMODITY\", \"EST_COM_AB\",\"EST_COM_P\",\"Date\" ,\"LATITUDE\", \"LONGITUDE\"], axis =1)"
      ],
      "metadata": {
        "id": "K8XuCcCapRKb"
      },
      "execution_count": 36,
      "outputs": []
    },
    {
      "cell_type": "code",
      "source": [
        "df"
      ],
      "metadata": {
        "id": "kNILhM8Rsq9L",
        "outputId": "9c0bc0af-9f5f-4092-88a9-8e7c279c1241",
        "colab": {
          "base_uri": "https://localhost:8080/",
          "height": 424
        }
      },
      "execution_count": 37,
      "outputs": [
        {
          "output_type": "execute_result",
          "data": {
            "text/plain": [
              "     TOTAL_MINERAL_RESOURCES (Mt)  TOTAL_MINERAL_RESOURCES_AVG_GRADE_(g/t)  \\\n",
              "0                        7.014346                                 1.392000   \n",
              "1                        0.715700                                 1.971598   \n",
              "2                       17.790000                                 1.859798   \n",
              "3                       59.980000                                 2.251367   \n",
              "4                        0.070000                                 2.100000   \n",
              "..                            ...                                      ...   \n",
              "259                      0.169000                                 2.554438   \n",
              "260                     10.073000                                 1.643145   \n",
              "261                      0.092000                                 1.978043   \n",
              "262                      0.915000                                 4.681311   \n",
              "263                      1.100000                                 2.100000   \n",
              "\n",
              "      RES_CON_(Kg)  RV_QTY_G_(g/t)  RV_CON_(Kg)  POINT_SIZE (Kg)  Gold_Value  \\\n",
              "0      9763.969632        2.099000    558.00000      9763.969632      1662.4   \n",
              "1      1411.073000        3.365000  20642.21000      1411.073000      1662.4   \n",
              "2     33085.800000        2.276660  14718.87760     47804.677600      1662.4   \n",
              "3    135037.000000        1.798119  15923.12736    150960.127400      1662.4   \n",
              "4       147.000000        1.864000      2.88800       147.000000      1662.4   \n",
              "..             ...             ...          ...              ...         ...   \n",
              "259     431.700000        2.648000  46174.44000       431.700000      1639.6   \n",
              "260   16551.400000        2.183200    414.55000     16551.400000      1639.6   \n",
              "261     181.980000        2.470000   3445.55000       181.980000      1639.6   \n",
              "262    4283.400000        4.650000  31855.00000      4283.400000      1635.9   \n",
              "263    2310.000000        1.011100   1644.00000      2310.000000      1635.9   \n",
              "\n",
              "     RV_QTY_(Mt)  Mineral_Land_Value_USD_Millions  \n",
              "0       1.670000                       2776.20800  \n",
              "1       1.354000                       2250.88960  \n",
              "2      34.057692                      56617.50738  \n",
              "3      34.251312                      56939.38188  \n",
              "4       2.230000                       3707.15200  \n",
              "..           ...                              ...  \n",
              "259    32.368000                      53070.57280  \n",
              "260    37.086300                      60806.69748  \n",
              "261    25.288000                      41462.20480  \n",
              "262     4.598000                       7521.86820  \n",
              "263    37.542859                      61416.36256  \n",
              "\n",
              "[264 rows x 9 columns]"
            ],
            "text/html": [
              "\n",
              "  <div id=\"df-3e674bab-897d-46af-93bb-31e3c9b79515\">\n",
              "    <div class=\"colab-df-container\">\n",
              "      <div>\n",
              "<style scoped>\n",
              "    .dataframe tbody tr th:only-of-type {\n",
              "        vertical-align: middle;\n",
              "    }\n",
              "\n",
              "    .dataframe tbody tr th {\n",
              "        vertical-align: top;\n",
              "    }\n",
              "\n",
              "    .dataframe thead th {\n",
              "        text-align: right;\n",
              "    }\n",
              "</style>\n",
              "<table border=\"1\" class=\"dataframe\">\n",
              "  <thead>\n",
              "    <tr style=\"text-align: right;\">\n",
              "      <th></th>\n",
              "      <th>TOTAL_MINERAL_RESOURCES (Mt)</th>\n",
              "      <th>TOTAL_MINERAL_RESOURCES_AVG_GRADE_(g/t)</th>\n",
              "      <th>RES_CON_(Kg)</th>\n",
              "      <th>RV_QTY_G_(g/t)</th>\n",
              "      <th>RV_CON_(Kg)</th>\n",
              "      <th>POINT_SIZE (Kg)</th>\n",
              "      <th>Gold_Value</th>\n",
              "      <th>RV_QTY_(Mt)</th>\n",
              "      <th>Mineral_Land_Value_USD_Millions</th>\n",
              "    </tr>\n",
              "  </thead>\n",
              "  <tbody>\n",
              "    <tr>\n",
              "      <th>0</th>\n",
              "      <td>7.014346</td>\n",
              "      <td>1.392000</td>\n",
              "      <td>9763.969632</td>\n",
              "      <td>2.099000</td>\n",
              "      <td>558.00000</td>\n",
              "      <td>9763.969632</td>\n",
              "      <td>1662.4</td>\n",
              "      <td>1.670000</td>\n",
              "      <td>2776.20800</td>\n",
              "    </tr>\n",
              "    <tr>\n",
              "      <th>1</th>\n",
              "      <td>0.715700</td>\n",
              "      <td>1.971598</td>\n",
              "      <td>1411.073000</td>\n",
              "      <td>3.365000</td>\n",
              "      <td>20642.21000</td>\n",
              "      <td>1411.073000</td>\n",
              "      <td>1662.4</td>\n",
              "      <td>1.354000</td>\n",
              "      <td>2250.88960</td>\n",
              "    </tr>\n",
              "    <tr>\n",
              "      <th>2</th>\n",
              "      <td>17.790000</td>\n",
              "      <td>1.859798</td>\n",
              "      <td>33085.800000</td>\n",
              "      <td>2.276660</td>\n",
              "      <td>14718.87760</td>\n",
              "      <td>47804.677600</td>\n",
              "      <td>1662.4</td>\n",
              "      <td>34.057692</td>\n",
              "      <td>56617.50738</td>\n",
              "    </tr>\n",
              "    <tr>\n",
              "      <th>3</th>\n",
              "      <td>59.980000</td>\n",
              "      <td>2.251367</td>\n",
              "      <td>135037.000000</td>\n",
              "      <td>1.798119</td>\n",
              "      <td>15923.12736</td>\n",
              "      <td>150960.127400</td>\n",
              "      <td>1662.4</td>\n",
              "      <td>34.251312</td>\n",
              "      <td>56939.38188</td>\n",
              "    </tr>\n",
              "    <tr>\n",
              "      <th>4</th>\n",
              "      <td>0.070000</td>\n",
              "      <td>2.100000</td>\n",
              "      <td>147.000000</td>\n",
              "      <td>1.864000</td>\n",
              "      <td>2.88800</td>\n",
              "      <td>147.000000</td>\n",
              "      <td>1662.4</td>\n",
              "      <td>2.230000</td>\n",
              "      <td>3707.15200</td>\n",
              "    </tr>\n",
              "    <tr>\n",
              "      <th>...</th>\n",
              "      <td>...</td>\n",
              "      <td>...</td>\n",
              "      <td>...</td>\n",
              "      <td>...</td>\n",
              "      <td>...</td>\n",
              "      <td>...</td>\n",
              "      <td>...</td>\n",
              "      <td>...</td>\n",
              "      <td>...</td>\n",
              "    </tr>\n",
              "    <tr>\n",
              "      <th>259</th>\n",
              "      <td>0.169000</td>\n",
              "      <td>2.554438</td>\n",
              "      <td>431.700000</td>\n",
              "      <td>2.648000</td>\n",
              "      <td>46174.44000</td>\n",
              "      <td>431.700000</td>\n",
              "      <td>1639.6</td>\n",
              "      <td>32.368000</td>\n",
              "      <td>53070.57280</td>\n",
              "    </tr>\n",
              "    <tr>\n",
              "      <th>260</th>\n",
              "      <td>10.073000</td>\n",
              "      <td>1.643145</td>\n",
              "      <td>16551.400000</td>\n",
              "      <td>2.183200</td>\n",
              "      <td>414.55000</td>\n",
              "      <td>16551.400000</td>\n",
              "      <td>1639.6</td>\n",
              "      <td>37.086300</td>\n",
              "      <td>60806.69748</td>\n",
              "    </tr>\n",
              "    <tr>\n",
              "      <th>261</th>\n",
              "      <td>0.092000</td>\n",
              "      <td>1.978043</td>\n",
              "      <td>181.980000</td>\n",
              "      <td>2.470000</td>\n",
              "      <td>3445.55000</td>\n",
              "      <td>181.980000</td>\n",
              "      <td>1639.6</td>\n",
              "      <td>25.288000</td>\n",
              "      <td>41462.20480</td>\n",
              "    </tr>\n",
              "    <tr>\n",
              "      <th>262</th>\n",
              "      <td>0.915000</td>\n",
              "      <td>4.681311</td>\n",
              "      <td>4283.400000</td>\n",
              "      <td>4.650000</td>\n",
              "      <td>31855.00000</td>\n",
              "      <td>4283.400000</td>\n",
              "      <td>1635.9</td>\n",
              "      <td>4.598000</td>\n",
              "      <td>7521.86820</td>\n",
              "    </tr>\n",
              "    <tr>\n",
              "      <th>263</th>\n",
              "      <td>1.100000</td>\n",
              "      <td>2.100000</td>\n",
              "      <td>2310.000000</td>\n",
              "      <td>1.011100</td>\n",
              "      <td>1644.00000</td>\n",
              "      <td>2310.000000</td>\n",
              "      <td>1635.9</td>\n",
              "      <td>37.542859</td>\n",
              "      <td>61416.36256</td>\n",
              "    </tr>\n",
              "  </tbody>\n",
              "</table>\n",
              "<p>264 rows × 9 columns</p>\n",
              "</div>\n",
              "      <button class=\"colab-df-convert\" onclick=\"convertToInteractive('df-3e674bab-897d-46af-93bb-31e3c9b79515')\"\n",
              "              title=\"Convert this dataframe to an interactive table.\"\n",
              "              style=\"display:none;\">\n",
              "        \n",
              "  <svg xmlns=\"http://www.w3.org/2000/svg\" height=\"24px\"viewBox=\"0 0 24 24\"\n",
              "       width=\"24px\">\n",
              "    <path d=\"M0 0h24v24H0V0z\" fill=\"none\"/>\n",
              "    <path d=\"M18.56 5.44l.94 2.06.94-2.06 2.06-.94-2.06-.94-.94-2.06-.94 2.06-2.06.94zm-11 1L8.5 8.5l.94-2.06 2.06-.94-2.06-.94L8.5 2.5l-.94 2.06-2.06.94zm10 10l.94 2.06.94-2.06 2.06-.94-2.06-.94-.94-2.06-.94 2.06-2.06.94z\"/><path d=\"M17.41 7.96l-1.37-1.37c-.4-.4-.92-.59-1.43-.59-.52 0-1.04.2-1.43.59L10.3 9.45l-7.72 7.72c-.78.78-.78 2.05 0 2.83L4 21.41c.39.39.9.59 1.41.59.51 0 1.02-.2 1.41-.59l7.78-7.78 2.81-2.81c.8-.78.8-2.07 0-2.86zM5.41 20L4 18.59l7.72-7.72 1.47 1.35L5.41 20z\"/>\n",
              "  </svg>\n",
              "      </button>\n",
              "      \n",
              "  <style>\n",
              "    .colab-df-container {\n",
              "      display:flex;\n",
              "      flex-wrap:wrap;\n",
              "      gap: 12px;\n",
              "    }\n",
              "\n",
              "    .colab-df-convert {\n",
              "      background-color: #E8F0FE;\n",
              "      border: none;\n",
              "      border-radius: 50%;\n",
              "      cursor: pointer;\n",
              "      display: none;\n",
              "      fill: #1967D2;\n",
              "      height: 32px;\n",
              "      padding: 0 0 0 0;\n",
              "      width: 32px;\n",
              "    }\n",
              "\n",
              "    .colab-df-convert:hover {\n",
              "      background-color: #E2EBFA;\n",
              "      box-shadow: 0px 1px 2px rgba(60, 64, 67, 0.3), 0px 1px 3px 1px rgba(60, 64, 67, 0.15);\n",
              "      fill: #174EA6;\n",
              "    }\n",
              "\n",
              "    [theme=dark] .colab-df-convert {\n",
              "      background-color: #3B4455;\n",
              "      fill: #D2E3FC;\n",
              "    }\n",
              "\n",
              "    [theme=dark] .colab-df-convert:hover {\n",
              "      background-color: #434B5C;\n",
              "      box-shadow: 0px 1px 3px 1px rgba(0, 0, 0, 0.15);\n",
              "      filter: drop-shadow(0px 1px 2px rgba(0, 0, 0, 0.3));\n",
              "      fill: #FFFFFF;\n",
              "    }\n",
              "  </style>\n",
              "\n",
              "      <script>\n",
              "        const buttonEl =\n",
              "          document.querySelector('#df-3e674bab-897d-46af-93bb-31e3c9b79515 button.colab-df-convert');\n",
              "        buttonEl.style.display =\n",
              "          google.colab.kernel.accessAllowed ? 'block' : 'none';\n",
              "\n",
              "        async function convertToInteractive(key) {\n",
              "          const element = document.querySelector('#df-3e674bab-897d-46af-93bb-31e3c9b79515');\n",
              "          const dataTable =\n",
              "            await google.colab.kernel.invokeFunction('convertToInteractive',\n",
              "                                                     [key], {});\n",
              "          if (!dataTable) return;\n",
              "\n",
              "          const docLinkHtml = 'Like what you see? Visit the ' +\n",
              "            '<a target=\"_blank\" href=https://colab.research.google.com/notebooks/data_table.ipynb>data table notebook</a>'\n",
              "            + ' to learn more about interactive tables.';\n",
              "          element.innerHTML = '';\n",
              "          dataTable['output_type'] = 'display_data';\n",
              "          await google.colab.output.renderOutput(dataTable, element);\n",
              "          const docLink = document.createElement('div');\n",
              "          docLink.innerHTML = docLinkHtml;\n",
              "          element.appendChild(docLink);\n",
              "        }\n",
              "      </script>\n",
              "    </div>\n",
              "  </div>\n",
              "  "
            ]
          },
          "metadata": {},
          "execution_count": 37
        }
      ]
    },
    {
      "cell_type": "markdown",
      "source": [
        "**Data Normalization**"
      ],
      "metadata": {
        "id": "eJf92-tEC82T"
      }
    },
    {
      "cell_type": "code",
      "source": [
        "#df = df.iloc[:,1:]\n",
        "df_norm=(df-df.mean())/df.std()\n",
        "df_norm.head()"
      ],
      "metadata": {
        "colab": {
          "base_uri": "https://localhost:8080/",
          "height": 206
        },
        "id": "ZGkW2OnNDIxh",
        "outputId": "8d4dcd82-a5fb-4d80-e2d3-b39ffa5f0e9d"
      },
      "execution_count": 38,
      "outputs": [
        {
          "output_type": "execute_result",
          "data": {
            "text/plain": [
              "   TOTAL_MINERAL_RESOURCES (Mt)  TOTAL_MINERAL_RESOURCES_AVG_GRADE_(g/t)  \\\n",
              "0                     -0.102712                                -0.477403   \n",
              "1                     -0.269034                                -0.330159   \n",
              "2                      0.181829                                -0.358562   \n",
              "3                      1.295898                                -0.259086   \n",
              "4                     -0.286085                                -0.297540   \n",
              "\n",
              "   RES_CON_(Kg)  RV_QTY_G_(g/t)  RV_CON_(Kg)  POINT_SIZE (Kg)  Gold_Value  \\\n",
              "0     -0.175929       -0.362381    -0.387147        -0.182937   -0.130125   \n",
              "1     -0.307362        0.189010     0.361965        -0.277723   -0.130125   \n",
              "2      0.191040       -0.285004     0.141033         0.248734   -0.130125   \n",
              "3      1.795241       -0.493427     0.185950         1.419303   -0.130125   \n",
              "4     -0.327252       -0.464733    -0.407852        -0.292067   -0.130125   \n",
              "\n",
              "   RV_QTY_(Mt)  Mineral_Land_Value_USD_Millions  \n",
              "0    -0.795782                        -0.800929  \n",
              "1    -0.809883                        -0.815155  \n",
              "2     0.649502                         0.657134  \n",
              "3     0.658143                         0.665850  \n",
              "4    -0.770792                        -0.775718  "
            ],
            "text/html": [
              "\n",
              "  <div id=\"df-7f953520-d51c-495b-ae91-7fc1d657902e\">\n",
              "    <div class=\"colab-df-container\">\n",
              "      <div>\n",
              "<style scoped>\n",
              "    .dataframe tbody tr th:only-of-type {\n",
              "        vertical-align: middle;\n",
              "    }\n",
              "\n",
              "    .dataframe tbody tr th {\n",
              "        vertical-align: top;\n",
              "    }\n",
              "\n",
              "    .dataframe thead th {\n",
              "        text-align: right;\n",
              "    }\n",
              "</style>\n",
              "<table border=\"1\" class=\"dataframe\">\n",
              "  <thead>\n",
              "    <tr style=\"text-align: right;\">\n",
              "      <th></th>\n",
              "      <th>TOTAL_MINERAL_RESOURCES (Mt)</th>\n",
              "      <th>TOTAL_MINERAL_RESOURCES_AVG_GRADE_(g/t)</th>\n",
              "      <th>RES_CON_(Kg)</th>\n",
              "      <th>RV_QTY_G_(g/t)</th>\n",
              "      <th>RV_CON_(Kg)</th>\n",
              "      <th>POINT_SIZE (Kg)</th>\n",
              "      <th>Gold_Value</th>\n",
              "      <th>RV_QTY_(Mt)</th>\n",
              "      <th>Mineral_Land_Value_USD_Millions</th>\n",
              "    </tr>\n",
              "  </thead>\n",
              "  <tbody>\n",
              "    <tr>\n",
              "      <th>0</th>\n",
              "      <td>-0.102712</td>\n",
              "      <td>-0.477403</td>\n",
              "      <td>-0.175929</td>\n",
              "      <td>-0.362381</td>\n",
              "      <td>-0.387147</td>\n",
              "      <td>-0.182937</td>\n",
              "      <td>-0.130125</td>\n",
              "      <td>-0.795782</td>\n",
              "      <td>-0.800929</td>\n",
              "    </tr>\n",
              "    <tr>\n",
              "      <th>1</th>\n",
              "      <td>-0.269034</td>\n",
              "      <td>-0.330159</td>\n",
              "      <td>-0.307362</td>\n",
              "      <td>0.189010</td>\n",
              "      <td>0.361965</td>\n",
              "      <td>-0.277723</td>\n",
              "      <td>-0.130125</td>\n",
              "      <td>-0.809883</td>\n",
              "      <td>-0.815155</td>\n",
              "    </tr>\n",
              "    <tr>\n",
              "      <th>2</th>\n",
              "      <td>0.181829</td>\n",
              "      <td>-0.358562</td>\n",
              "      <td>0.191040</td>\n",
              "      <td>-0.285004</td>\n",
              "      <td>0.141033</td>\n",
              "      <td>0.248734</td>\n",
              "      <td>-0.130125</td>\n",
              "      <td>0.649502</td>\n",
              "      <td>0.657134</td>\n",
              "    </tr>\n",
              "    <tr>\n",
              "      <th>3</th>\n",
              "      <td>1.295898</td>\n",
              "      <td>-0.259086</td>\n",
              "      <td>1.795241</td>\n",
              "      <td>-0.493427</td>\n",
              "      <td>0.185950</td>\n",
              "      <td>1.419303</td>\n",
              "      <td>-0.130125</td>\n",
              "      <td>0.658143</td>\n",
              "      <td>0.665850</td>\n",
              "    </tr>\n",
              "    <tr>\n",
              "      <th>4</th>\n",
              "      <td>-0.286085</td>\n",
              "      <td>-0.297540</td>\n",
              "      <td>-0.327252</td>\n",
              "      <td>-0.464733</td>\n",
              "      <td>-0.407852</td>\n",
              "      <td>-0.292067</td>\n",
              "      <td>-0.130125</td>\n",
              "      <td>-0.770792</td>\n",
              "      <td>-0.775718</td>\n",
              "    </tr>\n",
              "  </tbody>\n",
              "</table>\n",
              "</div>\n",
              "      <button class=\"colab-df-convert\" onclick=\"convertToInteractive('df-7f953520-d51c-495b-ae91-7fc1d657902e')\"\n",
              "              title=\"Convert this dataframe to an interactive table.\"\n",
              "              style=\"display:none;\">\n",
              "        \n",
              "  <svg xmlns=\"http://www.w3.org/2000/svg\" height=\"24px\"viewBox=\"0 0 24 24\"\n",
              "       width=\"24px\">\n",
              "    <path d=\"M0 0h24v24H0V0z\" fill=\"none\"/>\n",
              "    <path d=\"M18.56 5.44l.94 2.06.94-2.06 2.06-.94-2.06-.94-.94-2.06-.94 2.06-2.06.94zm-11 1L8.5 8.5l.94-2.06 2.06-.94-2.06-.94L8.5 2.5l-.94 2.06-2.06.94zm10 10l.94 2.06.94-2.06 2.06-.94-2.06-.94-.94-2.06-.94 2.06-2.06.94z\"/><path d=\"M17.41 7.96l-1.37-1.37c-.4-.4-.92-.59-1.43-.59-.52 0-1.04.2-1.43.59L10.3 9.45l-7.72 7.72c-.78.78-.78 2.05 0 2.83L4 21.41c.39.39.9.59 1.41.59.51 0 1.02-.2 1.41-.59l7.78-7.78 2.81-2.81c.8-.78.8-2.07 0-2.86zM5.41 20L4 18.59l7.72-7.72 1.47 1.35L5.41 20z\"/>\n",
              "  </svg>\n",
              "      </button>\n",
              "      \n",
              "  <style>\n",
              "    .colab-df-container {\n",
              "      display:flex;\n",
              "      flex-wrap:wrap;\n",
              "      gap: 12px;\n",
              "    }\n",
              "\n",
              "    .colab-df-convert {\n",
              "      background-color: #E8F0FE;\n",
              "      border: none;\n",
              "      border-radius: 50%;\n",
              "      cursor: pointer;\n",
              "      display: none;\n",
              "      fill: #1967D2;\n",
              "      height: 32px;\n",
              "      padding: 0 0 0 0;\n",
              "      width: 32px;\n",
              "    }\n",
              "\n",
              "    .colab-df-convert:hover {\n",
              "      background-color: #E2EBFA;\n",
              "      box-shadow: 0px 1px 2px rgba(60, 64, 67, 0.3), 0px 1px 3px 1px rgba(60, 64, 67, 0.15);\n",
              "      fill: #174EA6;\n",
              "    }\n",
              "\n",
              "    [theme=dark] .colab-df-convert {\n",
              "      background-color: #3B4455;\n",
              "      fill: #D2E3FC;\n",
              "    }\n",
              "\n",
              "    [theme=dark] .colab-df-convert:hover {\n",
              "      background-color: #434B5C;\n",
              "      box-shadow: 0px 1px 3px 1px rgba(0, 0, 0, 0.15);\n",
              "      filter: drop-shadow(0px 1px 2px rgba(0, 0, 0, 0.3));\n",
              "      fill: #FFFFFF;\n",
              "    }\n",
              "  </style>\n",
              "\n",
              "      <script>\n",
              "        const buttonEl =\n",
              "          document.querySelector('#df-7f953520-d51c-495b-ae91-7fc1d657902e button.colab-df-convert');\n",
              "        buttonEl.style.display =\n",
              "          google.colab.kernel.accessAllowed ? 'block' : 'none';\n",
              "\n",
              "        async function convertToInteractive(key) {\n",
              "          const element = document.querySelector('#df-7f953520-d51c-495b-ae91-7fc1d657902e');\n",
              "          const dataTable =\n",
              "            await google.colab.kernel.invokeFunction('convertToInteractive',\n",
              "                                                     [key], {});\n",
              "          if (!dataTable) return;\n",
              "\n",
              "          const docLinkHtml = 'Like what you see? Visit the ' +\n",
              "            '<a target=\"_blank\" href=https://colab.research.google.com/notebooks/data_table.ipynb>data table notebook</a>'\n",
              "            + ' to learn more about interactive tables.';\n",
              "          element.innerHTML = '';\n",
              "          dataTable['output_type'] = 'display_data';\n",
              "          await google.colab.output.renderOutput(dataTable, element);\n",
              "          const docLink = document.createElement('div');\n",
              "          docLink.innerHTML = docLinkHtml;\n",
              "          element.appendChild(docLink);\n",
              "        }\n",
              "      </script>\n",
              "    </div>\n",
              "  </div>\n",
              "  "
            ]
          },
          "metadata": {},
          "execution_count": 38
        }
      ]
    },
    {
      "cell_type": "markdown",
      "source": [
        "**Code to convert predictiving value (Mineral_Land_Value_USD_Millions) back into price value from normalization**"
      ],
      "metadata": {
        "id": "WKFY9oHhEYtA"
      }
    },
    {
      "cell_type": "code",
      "source": [
        "y_mean = df['Mineral_Land_Value_USD_Millions'].mean()\n",
        "y_std = df['Mineral_Land_Value_USD_Millions'].std()\n",
        "\n",
        "def convert_label_value(pred): \n",
        "  return int(pred*y_std+y_mean)\n",
        "print(convert_label_value (-0.800929)) # Validating function"
      ],
      "metadata": {
        "colab": {
          "base_uri": "https://localhost:8080/"
        },
        "id": "bSidI8p3EX78",
        "outputId": "65b6156c-8405-47c4-ece4-19f9ca928488"
      },
      "execution_count": 40,
      "outputs": [
        {
          "output_type": "stream",
          "name": "stdout",
          "text": [
            "2776\n"
          ]
        }
      ]
    },
    {
      "cell_type": "markdown",
      "source": [
        "**Select Features**"
      ],
      "metadata": {
        "id": "gDdzRseTF9vB"
      }
    },
    {
      "cell_type": "code",
      "source": [
        "X = df_norm.drop(columns='Mineral_Land_Value_USD_Millions')\n",
        "X.head()"
      ],
      "metadata": {
        "colab": {
          "base_uri": "https://localhost:8080/",
          "height": 206
        },
        "id": "VnYJ65QAF8Gz",
        "outputId": "4f5c6974-59d1-4c1b-ce21-2547f6baa30b"
      },
      "execution_count": 41,
      "outputs": [
        {
          "output_type": "execute_result",
          "data": {
            "text/plain": [
              "   TOTAL_MINERAL_RESOURCES (Mt)  TOTAL_MINERAL_RESOURCES_AVG_GRADE_(g/t)  \\\n",
              "0                     -0.102712                                -0.477403   \n",
              "1                     -0.269034                                -0.330159   \n",
              "2                      0.181829                                -0.358562   \n",
              "3                      1.295898                                -0.259086   \n",
              "4                     -0.286085                                -0.297540   \n",
              "\n",
              "   RES_CON_(Kg)  RV_QTY_G_(g/t)  RV_CON_(Kg)  POINT_SIZE (Kg)  Gold_Value  \\\n",
              "0     -0.175929       -0.362381    -0.387147        -0.182937   -0.130125   \n",
              "1     -0.307362        0.189010     0.361965        -0.277723   -0.130125   \n",
              "2      0.191040       -0.285004     0.141033         0.248734   -0.130125   \n",
              "3      1.795241       -0.493427     0.185950         1.419303   -0.130125   \n",
              "4     -0.327252       -0.464733    -0.407852        -0.292067   -0.130125   \n",
              "\n",
              "   RV_QTY_(Mt)  \n",
              "0    -0.795782  \n",
              "1    -0.809883  \n",
              "2     0.649502  \n",
              "3     0.658143  \n",
              "4    -0.770792  "
            ],
            "text/html": [
              "\n",
              "  <div id=\"df-9f3ae960-6a53-4dba-a5a5-97530a3b4c1e\">\n",
              "    <div class=\"colab-df-container\">\n",
              "      <div>\n",
              "<style scoped>\n",
              "    .dataframe tbody tr th:only-of-type {\n",
              "        vertical-align: middle;\n",
              "    }\n",
              "\n",
              "    .dataframe tbody tr th {\n",
              "        vertical-align: top;\n",
              "    }\n",
              "\n",
              "    .dataframe thead th {\n",
              "        text-align: right;\n",
              "    }\n",
              "</style>\n",
              "<table border=\"1\" class=\"dataframe\">\n",
              "  <thead>\n",
              "    <tr style=\"text-align: right;\">\n",
              "      <th></th>\n",
              "      <th>TOTAL_MINERAL_RESOURCES (Mt)</th>\n",
              "      <th>TOTAL_MINERAL_RESOURCES_AVG_GRADE_(g/t)</th>\n",
              "      <th>RES_CON_(Kg)</th>\n",
              "      <th>RV_QTY_G_(g/t)</th>\n",
              "      <th>RV_CON_(Kg)</th>\n",
              "      <th>POINT_SIZE (Kg)</th>\n",
              "      <th>Gold_Value</th>\n",
              "      <th>RV_QTY_(Mt)</th>\n",
              "    </tr>\n",
              "  </thead>\n",
              "  <tbody>\n",
              "    <tr>\n",
              "      <th>0</th>\n",
              "      <td>-0.102712</td>\n",
              "      <td>-0.477403</td>\n",
              "      <td>-0.175929</td>\n",
              "      <td>-0.362381</td>\n",
              "      <td>-0.387147</td>\n",
              "      <td>-0.182937</td>\n",
              "      <td>-0.130125</td>\n",
              "      <td>-0.795782</td>\n",
              "    </tr>\n",
              "    <tr>\n",
              "      <th>1</th>\n",
              "      <td>-0.269034</td>\n",
              "      <td>-0.330159</td>\n",
              "      <td>-0.307362</td>\n",
              "      <td>0.189010</td>\n",
              "      <td>0.361965</td>\n",
              "      <td>-0.277723</td>\n",
              "      <td>-0.130125</td>\n",
              "      <td>-0.809883</td>\n",
              "    </tr>\n",
              "    <tr>\n",
              "      <th>2</th>\n",
              "      <td>0.181829</td>\n",
              "      <td>-0.358562</td>\n",
              "      <td>0.191040</td>\n",
              "      <td>-0.285004</td>\n",
              "      <td>0.141033</td>\n",
              "      <td>0.248734</td>\n",
              "      <td>-0.130125</td>\n",
              "      <td>0.649502</td>\n",
              "    </tr>\n",
              "    <tr>\n",
              "      <th>3</th>\n",
              "      <td>1.295898</td>\n",
              "      <td>-0.259086</td>\n",
              "      <td>1.795241</td>\n",
              "      <td>-0.493427</td>\n",
              "      <td>0.185950</td>\n",
              "      <td>1.419303</td>\n",
              "      <td>-0.130125</td>\n",
              "      <td>0.658143</td>\n",
              "    </tr>\n",
              "    <tr>\n",
              "      <th>4</th>\n",
              "      <td>-0.286085</td>\n",
              "      <td>-0.297540</td>\n",
              "      <td>-0.327252</td>\n",
              "      <td>-0.464733</td>\n",
              "      <td>-0.407852</td>\n",
              "      <td>-0.292067</td>\n",
              "      <td>-0.130125</td>\n",
              "      <td>-0.770792</td>\n",
              "    </tr>\n",
              "  </tbody>\n",
              "</table>\n",
              "</div>\n",
              "      <button class=\"colab-df-convert\" onclick=\"convertToInteractive('df-9f3ae960-6a53-4dba-a5a5-97530a3b4c1e')\"\n",
              "              title=\"Convert this dataframe to an interactive table.\"\n",
              "              style=\"display:none;\">\n",
              "        \n",
              "  <svg xmlns=\"http://www.w3.org/2000/svg\" height=\"24px\"viewBox=\"0 0 24 24\"\n",
              "       width=\"24px\">\n",
              "    <path d=\"M0 0h24v24H0V0z\" fill=\"none\"/>\n",
              "    <path d=\"M18.56 5.44l.94 2.06.94-2.06 2.06-.94-2.06-.94-.94-2.06-.94 2.06-2.06.94zm-11 1L8.5 8.5l.94-2.06 2.06-.94-2.06-.94L8.5 2.5l-.94 2.06-2.06.94zm10 10l.94 2.06.94-2.06 2.06-.94-2.06-.94-.94-2.06-.94 2.06-2.06.94z\"/><path d=\"M17.41 7.96l-1.37-1.37c-.4-.4-.92-.59-1.43-.59-.52 0-1.04.2-1.43.59L10.3 9.45l-7.72 7.72c-.78.78-.78 2.05 0 2.83L4 21.41c.39.39.9.59 1.41.59.51 0 1.02-.2 1.41-.59l7.78-7.78 2.81-2.81c.8-.78.8-2.07 0-2.86zM5.41 20L4 18.59l7.72-7.72 1.47 1.35L5.41 20z\"/>\n",
              "  </svg>\n",
              "      </button>\n",
              "      \n",
              "  <style>\n",
              "    .colab-df-container {\n",
              "      display:flex;\n",
              "      flex-wrap:wrap;\n",
              "      gap: 12px;\n",
              "    }\n",
              "\n",
              "    .colab-df-convert {\n",
              "      background-color: #E8F0FE;\n",
              "      border: none;\n",
              "      border-radius: 50%;\n",
              "      cursor: pointer;\n",
              "      display: none;\n",
              "      fill: #1967D2;\n",
              "      height: 32px;\n",
              "      padding: 0 0 0 0;\n",
              "      width: 32px;\n",
              "    }\n",
              "\n",
              "    .colab-df-convert:hover {\n",
              "      background-color: #E2EBFA;\n",
              "      box-shadow: 0px 1px 2px rgba(60, 64, 67, 0.3), 0px 1px 3px 1px rgba(60, 64, 67, 0.15);\n",
              "      fill: #174EA6;\n",
              "    }\n",
              "\n",
              "    [theme=dark] .colab-df-convert {\n",
              "      background-color: #3B4455;\n",
              "      fill: #D2E3FC;\n",
              "    }\n",
              "\n",
              "    [theme=dark] .colab-df-convert:hover {\n",
              "      background-color: #434B5C;\n",
              "      box-shadow: 0px 1px 3px 1px rgba(0, 0, 0, 0.15);\n",
              "      filter: drop-shadow(0px 1px 2px rgba(0, 0, 0, 0.3));\n",
              "      fill: #FFFFFF;\n",
              "    }\n",
              "  </style>\n",
              "\n",
              "      <script>\n",
              "        const buttonEl =\n",
              "          document.querySelector('#df-9f3ae960-6a53-4dba-a5a5-97530a3b4c1e button.colab-df-convert');\n",
              "        buttonEl.style.display =\n",
              "          google.colab.kernel.accessAllowed ? 'block' : 'none';\n",
              "\n",
              "        async function convertToInteractive(key) {\n",
              "          const element = document.querySelector('#df-9f3ae960-6a53-4dba-a5a5-97530a3b4c1e');\n",
              "          const dataTable =\n",
              "            await google.colab.kernel.invokeFunction('convertToInteractive',\n",
              "                                                     [key], {});\n",
              "          if (!dataTable) return;\n",
              "\n",
              "          const docLinkHtml = 'Like what you see? Visit the ' +\n",
              "            '<a target=\"_blank\" href=https://colab.research.google.com/notebooks/data_table.ipynb>data table notebook</a>'\n",
              "            + ' to learn more about interactive tables.';\n",
              "          element.innerHTML = '';\n",
              "          dataTable['output_type'] = 'display_data';\n",
              "          await google.colab.output.renderOutput(dataTable, element);\n",
              "          const docLink = document.createElement('div');\n",
              "          docLink.innerHTML = docLinkHtml;\n",
              "          element.appendChild(docLink);\n",
              "        }\n",
              "      </script>\n",
              "    </div>\n",
              "  </div>\n",
              "  "
            ]
          },
          "metadata": {},
          "execution_count": 41
        }
      ]
    },
    {
      "cell_type": "markdown",
      "source": [
        "**Select Labels**"
      ],
      "metadata": {
        "id": "bOcJrTIlGhvF"
      }
    },
    {
      "cell_type": "code",
      "source": [
        "Y = df_norm[['Mineral_Land_Value_USD_Millions']]\n",
        "Y.head()"
      ],
      "metadata": {
        "colab": {
          "base_uri": "https://localhost:8080/",
          "height": 206
        },
        "id": "T3T3cutHGlAn",
        "outputId": "441a9c88-ecf4-4661-d529-2bfc947c7d3d"
      },
      "execution_count": 42,
      "outputs": [
        {
          "output_type": "execute_result",
          "data": {
            "text/plain": [
              "   Mineral_Land_Value_USD_Millions\n",
              "0                        -0.800929\n",
              "1                        -0.815155\n",
              "2                         0.657134\n",
              "3                         0.665850\n",
              "4                        -0.775718"
            ],
            "text/html": [
              "\n",
              "  <div id=\"df-b0dd4e82-299a-42af-b69f-e80d4427b02c\">\n",
              "    <div class=\"colab-df-container\">\n",
              "      <div>\n",
              "<style scoped>\n",
              "    .dataframe tbody tr th:only-of-type {\n",
              "        vertical-align: middle;\n",
              "    }\n",
              "\n",
              "    .dataframe tbody tr th {\n",
              "        vertical-align: top;\n",
              "    }\n",
              "\n",
              "    .dataframe thead th {\n",
              "        text-align: right;\n",
              "    }\n",
              "</style>\n",
              "<table border=\"1\" class=\"dataframe\">\n",
              "  <thead>\n",
              "    <tr style=\"text-align: right;\">\n",
              "      <th></th>\n",
              "      <th>Mineral_Land_Value_USD_Millions</th>\n",
              "    </tr>\n",
              "  </thead>\n",
              "  <tbody>\n",
              "    <tr>\n",
              "      <th>0</th>\n",
              "      <td>-0.800929</td>\n",
              "    </tr>\n",
              "    <tr>\n",
              "      <th>1</th>\n",
              "      <td>-0.815155</td>\n",
              "    </tr>\n",
              "    <tr>\n",
              "      <th>2</th>\n",
              "      <td>0.657134</td>\n",
              "    </tr>\n",
              "    <tr>\n",
              "      <th>3</th>\n",
              "      <td>0.665850</td>\n",
              "    </tr>\n",
              "    <tr>\n",
              "      <th>4</th>\n",
              "      <td>-0.775718</td>\n",
              "    </tr>\n",
              "  </tbody>\n",
              "</table>\n",
              "</div>\n",
              "      <button class=\"colab-df-convert\" onclick=\"convertToInteractive('df-b0dd4e82-299a-42af-b69f-e80d4427b02c')\"\n",
              "              title=\"Convert this dataframe to an interactive table.\"\n",
              "              style=\"display:none;\">\n",
              "        \n",
              "  <svg xmlns=\"http://www.w3.org/2000/svg\" height=\"24px\"viewBox=\"0 0 24 24\"\n",
              "       width=\"24px\">\n",
              "    <path d=\"M0 0h24v24H0V0z\" fill=\"none\"/>\n",
              "    <path d=\"M18.56 5.44l.94 2.06.94-2.06 2.06-.94-2.06-.94-.94-2.06-.94 2.06-2.06.94zm-11 1L8.5 8.5l.94-2.06 2.06-.94-2.06-.94L8.5 2.5l-.94 2.06-2.06.94zm10 10l.94 2.06.94-2.06 2.06-.94-2.06-.94-.94-2.06-.94 2.06-2.06.94z\"/><path d=\"M17.41 7.96l-1.37-1.37c-.4-.4-.92-.59-1.43-.59-.52 0-1.04.2-1.43.59L10.3 9.45l-7.72 7.72c-.78.78-.78 2.05 0 2.83L4 21.41c.39.39.9.59 1.41.59.51 0 1.02-.2 1.41-.59l7.78-7.78 2.81-2.81c.8-.78.8-2.07 0-2.86zM5.41 20L4 18.59l7.72-7.72 1.47 1.35L5.41 20z\"/>\n",
              "  </svg>\n",
              "      </button>\n",
              "      \n",
              "  <style>\n",
              "    .colab-df-container {\n",
              "      display:flex;\n",
              "      flex-wrap:wrap;\n",
              "      gap: 12px;\n",
              "    }\n",
              "\n",
              "    .colab-df-convert {\n",
              "      background-color: #E8F0FE;\n",
              "      border: none;\n",
              "      border-radius: 50%;\n",
              "      cursor: pointer;\n",
              "      display: none;\n",
              "      fill: #1967D2;\n",
              "      height: 32px;\n",
              "      padding: 0 0 0 0;\n",
              "      width: 32px;\n",
              "    }\n",
              "\n",
              "    .colab-df-convert:hover {\n",
              "      background-color: #E2EBFA;\n",
              "      box-shadow: 0px 1px 2px rgba(60, 64, 67, 0.3), 0px 1px 3px 1px rgba(60, 64, 67, 0.15);\n",
              "      fill: #174EA6;\n",
              "    }\n",
              "\n",
              "    [theme=dark] .colab-df-convert {\n",
              "      background-color: #3B4455;\n",
              "      fill: #D2E3FC;\n",
              "    }\n",
              "\n",
              "    [theme=dark] .colab-df-convert:hover {\n",
              "      background-color: #434B5C;\n",
              "      box-shadow: 0px 1px 3px 1px rgba(0, 0, 0, 0.15);\n",
              "      filter: drop-shadow(0px 1px 2px rgba(0, 0, 0, 0.3));\n",
              "      fill: #FFFFFF;\n",
              "    }\n",
              "  </style>\n",
              "\n",
              "      <script>\n",
              "        const buttonEl =\n",
              "          document.querySelector('#df-b0dd4e82-299a-42af-b69f-e80d4427b02c button.colab-df-convert');\n",
              "        buttonEl.style.display =\n",
              "          google.colab.kernel.accessAllowed ? 'block' : 'none';\n",
              "\n",
              "        async function convertToInteractive(key) {\n",
              "          const element = document.querySelector('#df-b0dd4e82-299a-42af-b69f-e80d4427b02c');\n",
              "          const dataTable =\n",
              "            await google.colab.kernel.invokeFunction('convertToInteractive',\n",
              "                                                     [key], {});\n",
              "          if (!dataTable) return;\n",
              "\n",
              "          const docLinkHtml = 'Like what you see? Visit the ' +\n",
              "            '<a target=\"_blank\" href=https://colab.research.google.com/notebooks/data_table.ipynb>data table notebook</a>'\n",
              "            + ' to learn more about interactive tables.';\n",
              "          element.innerHTML = '';\n",
              "          dataTable['output_type'] = 'display_data';\n",
              "          await google.colab.output.renderOutput(dataTable, element);\n",
              "          const docLink = document.createElement('div');\n",
              "          docLink.innerHTML = docLinkHtml;\n",
              "          element.appendChild(docLink);\n",
              "        }\n",
              "      </script>\n",
              "    </div>\n",
              "  </div>\n",
              "  "
            ]
          },
          "metadata": {},
          "execution_count": 42
        }
      ]
    },
    {
      "cell_type": "markdown",
      "source": [
        "**Data Partitioning**\n",
        "\n",
        "Split Data into Training and Test set. 80& and 20% respectively.\n",
        "\n"
      ],
      "metadata": {
        "id": "o41Bp0esTjiO"
      }
    },
    {
      "cell_type": "code",
      "source": [
        "x_train,x_test,y_train,y_test=train_test_split(X,Y, test_size=0.2, random_state=0)\n",
        "print(x_train.shape,y_train.shape)\n",
        "print(x_test.shape,y_test.shape)"
      ],
      "metadata": {
        "id": "IkuDo0V2ouIR",
        "colab": {
          "base_uri": "https://localhost:8080/"
        },
        "outputId": "cdc22baf-1e5d-42f2-d266-90a2a1f7acfd"
      },
      "execution_count": 43,
      "outputs": [
        {
          "output_type": "stream",
          "name": "stdout",
          "text": [
            "(211, 8) (211, 1)\n",
            "(53, 8) (53, 1)\n"
          ]
        }
      ]
    },
    {
      "cell_type": "markdown",
      "source": [
        "**Create DNN Model**"
      ],
      "metadata": {
        "id": "-ljP3_EEKDFq"
      }
    },
    {
      "cell_type": "code",
      "source": [
        "\n",
        "    model = tf.keras.models.Sequential([\n",
        "        tf.keras.layers.Dense(8,input_shape = (8,), activation = 'relu'),\n",
        "        tf.keras.layers.Dense(8,activation = 'relu'),\n",
        "      tf.keras.layers.Dense(5,activation = 'relu'),\n",
        "        tf.keras.layers.Dense(1)])\n",
        "    model.compile(loss = 'mse', optimizer = 'adam')\n",
        "    \n",
        "\n",
        "   \n",
        "\n",
        "    \n"
      ],
      "metadata": {
        "id": "FeLH0IeFKHGm"
      },
      "execution_count": 50,
      "outputs": []
    },
    {
      "cell_type": "code",
      "source": [
        "model.summary()"
      ],
      "metadata": {
        "colab": {
          "base_uri": "https://localhost:8080/"
        },
        "id": "J_vM5HQDLA3K",
        "outputId": "9f325d42-5182-4622-d8c1-1a66786ee31d"
      },
      "execution_count": 51,
      "outputs": [
        {
          "output_type": "stream",
          "name": "stdout",
          "text": [
            "Model: \"sequential_1\"\n",
            "_________________________________________________________________\n",
            " Layer (type)                Output Shape              Param #   \n",
            "=================================================================\n",
            " dense_6 (Dense)             (None, 8)                 72        \n",
            "                                                                 \n",
            " dense_7 (Dense)             (None, 8)                 72        \n",
            "                                                                 \n",
            " dense_8 (Dense)             (None, 5)                 45        \n",
            "                                                                 \n",
            " dense_9 (Dense)             (None, 1)                 6         \n",
            "                                                                 \n",
            "=================================================================\n",
            "Total params: 195\n",
            "Trainable params: 195\n",
            "Non-trainable params: 0\n",
            "_________________________________________________________________\n"
          ]
        }
      ]
    },
    {
      "cell_type": "markdown",
      "source": [
        "**Train DNN Model**\n"
      ],
      "metadata": {
        "id": "vkHOA1DxP8D7"
      }
    },
    {
      "cell_type": "code",
      "source": [
        "cb = tf.keras.callbacks.EarlyStopping(monitor='val_loss', patience = 5)\n",
        "model = model\n",
        "predict_on_untrained = model.predict(x_test)\n",
        "history = model.fit(x_train,y_train, validation_data=(x_test, y_test), epochs = 100, callbacks=[cb])"
      ],
      "metadata": {
        "colab": {
          "base_uri": "https://localhost:8080/"
        },
        "id": "ot1_3ewBQAKd",
        "outputId": "7b7d5021-fd71-4d01-e302-e1097b87e8d1"
      },
      "execution_count": 52,
      "outputs": [
        {
          "output_type": "stream",
          "name": "stdout",
          "text": [
            "2/2 [==============================] - 0s 6ms/step\n",
            "Epoch 1/100\n",
            "7/7 [==============================] - 1s 36ms/step - loss: 1.7987 - val_loss: 0.5028\n",
            "Epoch 2/100\n",
            "7/7 [==============================] - 0s 6ms/step - loss: 1.6898 - val_loss: 0.4800\n",
            "Epoch 3/100\n",
            "7/7 [==============================] - 0s 7ms/step - loss: 1.6063 - val_loss: 0.4613\n",
            "Epoch 4/100\n",
            "7/7 [==============================] - 0s 6ms/step - loss: 1.5356 - val_loss: 0.4449\n",
            "Epoch 5/100\n",
            "7/7 [==============================] - 0s 6ms/step - loss: 1.4550 - val_loss: 0.4308\n",
            "Epoch 6/100\n",
            "7/7 [==============================] - 0s 6ms/step - loss: 1.3909 - val_loss: 0.4175\n",
            "Epoch 7/100\n",
            "7/7 [==============================] - 0s 6ms/step - loss: 1.3495 - val_loss: 0.4051\n",
            "Epoch 8/100\n",
            "7/7 [==============================] - 0s 11ms/step - loss: 1.2892 - val_loss: 0.3916\n",
            "Epoch 9/100\n",
            "7/7 [==============================] - 0s 10ms/step - loss: 1.2539 - val_loss: 0.3798\n",
            "Epoch 10/100\n",
            "7/7 [==============================] - 0s 13ms/step - loss: 1.1993 - val_loss: 0.3665\n",
            "Epoch 11/100\n",
            "7/7 [==============================] - 0s 6ms/step - loss: 1.1646 - val_loss: 0.3524\n",
            "Epoch 12/100\n",
            "7/7 [==============================] - 0s 7ms/step - loss: 1.1267 - val_loss: 0.3381\n",
            "Epoch 13/100\n",
            "7/7 [==============================] - 0s 7ms/step - loss: 1.1011 - val_loss: 0.3274\n",
            "Epoch 14/100\n",
            "7/7 [==============================] - 0s 7ms/step - loss: 1.0654 - val_loss: 0.3148\n",
            "Epoch 15/100\n",
            "7/7 [==============================] - 0s 8ms/step - loss: 1.0310 - val_loss: 0.3012\n",
            "Epoch 16/100\n",
            "7/7 [==============================] - 0s 7ms/step - loss: 1.0028 - val_loss: 0.2889\n",
            "Epoch 17/100\n",
            "7/7 [==============================] - 0s 6ms/step - loss: 0.9834 - val_loss: 0.2772\n",
            "Epoch 18/100\n",
            "7/7 [==============================] - 0s 6ms/step - loss: 0.9527 - val_loss: 0.2657\n",
            "Epoch 19/100\n",
            "7/7 [==============================] - 0s 6ms/step - loss: 0.9224 - val_loss: 0.2532\n",
            "Epoch 20/100\n",
            "7/7 [==============================] - 0s 7ms/step - loss: 0.9055 - val_loss: 0.2431\n",
            "Epoch 21/100\n",
            "7/7 [==============================] - 0s 7ms/step - loss: 0.8748 - val_loss: 0.2324\n",
            "Epoch 22/100\n",
            "7/7 [==============================] - 0s 10ms/step - loss: 0.8494 - val_loss: 0.2204\n",
            "Epoch 23/100\n",
            "7/7 [==============================] - 0s 6ms/step - loss: 0.8309 - val_loss: 0.2103\n",
            "Epoch 24/100\n",
            "7/7 [==============================] - 0s 6ms/step - loss: 0.8110 - val_loss: 0.2008\n",
            "Epoch 25/100\n",
            "7/7 [==============================] - 0s 9ms/step - loss: 0.7853 - val_loss: 0.1898\n",
            "Epoch 26/100\n",
            "7/7 [==============================] - 0s 7ms/step - loss: 0.7618 - val_loss: 0.1778\n",
            "Epoch 27/100\n",
            "7/7 [==============================] - 0s 7ms/step - loss: 0.7450 - val_loss: 0.1680\n",
            "Epoch 28/100\n",
            "7/7 [==============================] - 0s 8ms/step - loss: 0.7241 - val_loss: 0.1587\n",
            "Epoch 29/100\n",
            "7/7 [==============================] - 0s 7ms/step - loss: 0.7049 - val_loss: 0.1497\n",
            "Epoch 30/100\n",
            "7/7 [==============================] - 0s 7ms/step - loss: 0.6806 - val_loss: 0.1424\n",
            "Epoch 31/100\n",
            "7/7 [==============================] - 0s 7ms/step - loss: 0.6660 - val_loss: 0.1358\n",
            "Epoch 32/100\n",
            "7/7 [==============================] - 0s 7ms/step - loss: 0.6380 - val_loss: 0.1286\n",
            "Epoch 33/100\n",
            "7/7 [==============================] - 0s 7ms/step - loss: 0.6176 - val_loss: 0.1209\n",
            "Epoch 34/100\n",
            "7/7 [==============================] - 0s 6ms/step - loss: 0.5940 - val_loss: 0.1135\n",
            "Epoch 35/100\n",
            "7/7 [==============================] - 0s 6ms/step - loss: 0.5792 - val_loss: 0.1090\n",
            "Epoch 36/100\n",
            "7/7 [==============================] - 0s 7ms/step - loss: 0.5502 - val_loss: 0.1032\n",
            "Epoch 37/100\n",
            "7/7 [==============================] - 0s 6ms/step - loss: 0.5305 - val_loss: 0.0979\n",
            "Epoch 38/100\n",
            "7/7 [==============================] - 0s 7ms/step - loss: 0.5167 - val_loss: 0.0942\n",
            "Epoch 39/100\n",
            "7/7 [==============================] - 0s 7ms/step - loss: 0.5036 - val_loss: 0.0914\n",
            "Epoch 40/100\n",
            "7/7 [==============================] - 0s 7ms/step - loss: 0.4846 - val_loss: 0.0882\n",
            "Epoch 41/100\n",
            "7/7 [==============================] - 0s 7ms/step - loss: 0.4705 - val_loss: 0.0854\n",
            "Epoch 42/100\n",
            "7/7 [==============================] - 0s 6ms/step - loss: 0.4521 - val_loss: 0.0821\n",
            "Epoch 43/100\n",
            "7/7 [==============================] - 0s 10ms/step - loss: 0.4376 - val_loss: 0.0800\n",
            "Epoch 44/100\n",
            "7/7 [==============================] - 0s 7ms/step - loss: 0.4285 - val_loss: 0.0790\n",
            "Epoch 45/100\n",
            "7/7 [==============================] - 0s 6ms/step - loss: 0.4083 - val_loss: 0.0773\n",
            "Epoch 46/100\n",
            "7/7 [==============================] - 0s 6ms/step - loss: 0.3941 - val_loss: 0.0762\n",
            "Epoch 47/100\n",
            "7/7 [==============================] - 0s 6ms/step - loss: 0.3840 - val_loss: 0.0752\n",
            "Epoch 48/100\n",
            "7/7 [==============================] - 0s 8ms/step - loss: 0.3708 - val_loss: 0.0748\n",
            "Epoch 49/100\n",
            "7/7 [==============================] - 0s 6ms/step - loss: 0.3511 - val_loss: 0.0723\n",
            "Epoch 50/100\n",
            "7/7 [==============================] - 0s 7ms/step - loss: 0.3313 - val_loss: 0.0693\n",
            "Epoch 51/100\n",
            "7/7 [==============================] - 0s 7ms/step - loss: 0.3220 - val_loss: 0.0671\n",
            "Epoch 52/100\n",
            "7/7 [==============================] - 0s 10ms/step - loss: 0.3054 - val_loss: 0.0633\n",
            "Epoch 53/100\n",
            "7/7 [==============================] - 0s 7ms/step - loss: 0.2877 - val_loss: 0.0588\n",
            "Epoch 54/100\n",
            "7/7 [==============================] - 0s 9ms/step - loss: 0.2728 - val_loss: 0.0544\n",
            "Epoch 55/100\n",
            "7/7 [==============================] - 0s 6ms/step - loss: 0.2577 - val_loss: 0.0504\n",
            "Epoch 56/100\n",
            "7/7 [==============================] - 0s 7ms/step - loss: 0.2391 - val_loss: 0.0463\n",
            "Epoch 57/100\n",
            "7/7 [==============================] - 0s 6ms/step - loss: 0.2227 - val_loss: 0.0433\n",
            "Epoch 58/100\n",
            "7/7 [==============================] - 0s 7ms/step - loss: 0.2059 - val_loss: 0.0402\n",
            "Epoch 59/100\n",
            "7/7 [==============================] - 0s 7ms/step - loss: 0.1919 - val_loss: 0.0374\n",
            "Epoch 60/100\n",
            "7/7 [==============================] - 0s 8ms/step - loss: 0.1764 - val_loss: 0.0352\n",
            "Epoch 61/100\n",
            "7/7 [==============================] - 0s 6ms/step - loss: 0.1709 - val_loss: 0.0341\n",
            "Epoch 62/100\n",
            "7/7 [==============================] - 0s 6ms/step - loss: 0.1550 - val_loss: 0.0325\n",
            "Epoch 63/100\n",
            "7/7 [==============================] - 0s 7ms/step - loss: 0.1392 - val_loss: 0.0314\n",
            "Epoch 64/100\n",
            "7/7 [==============================] - 0s 8ms/step - loss: 0.1307 - val_loss: 0.0299\n",
            "Epoch 65/100\n",
            "7/7 [==============================] - 0s 6ms/step - loss: 0.1172 - val_loss: 0.0283\n",
            "Epoch 66/100\n",
            "7/7 [==============================] - 0s 7ms/step - loss: 0.1096 - val_loss: 0.0276\n",
            "Epoch 67/100\n",
            "7/7 [==============================] - 0s 10ms/step - loss: 0.0964 - val_loss: 0.0257\n",
            "Epoch 68/100\n",
            "7/7 [==============================] - 0s 6ms/step - loss: 0.0877 - val_loss: 0.0251\n",
            "Epoch 69/100\n",
            "7/7 [==============================] - 0s 7ms/step - loss: 0.0832 - val_loss: 0.0256\n",
            "Epoch 70/100\n",
            "7/7 [==============================] - 0s 10ms/step - loss: 0.0718 - val_loss: 0.0255\n",
            "Epoch 71/100\n",
            "7/7 [==============================] - 0s 7ms/step - loss: 0.0688 - val_loss: 0.0255\n",
            "Epoch 72/100\n",
            "7/7 [==============================] - 0s 7ms/step - loss: 0.0620 - val_loss: 0.0252\n",
            "Epoch 73/100\n",
            "7/7 [==============================] - 0s 7ms/step - loss: 0.0553 - val_loss: 0.0248\n",
            "Epoch 74/100\n",
            "7/7 [==============================] - 0s 6ms/step - loss: 0.0515 - val_loss: 0.0244\n",
            "Epoch 75/100\n",
            "7/7 [==============================] - 0s 7ms/step - loss: 0.0493 - val_loss: 0.0243\n",
            "Epoch 76/100\n",
            "7/7 [==============================] - 0s 8ms/step - loss: 0.0467 - val_loss: 0.0248\n",
            "Epoch 77/100\n",
            "7/7 [==============================] - 0s 9ms/step - loss: 0.0432 - val_loss: 0.0247\n",
            "Epoch 78/100\n",
            "7/7 [==============================] - 0s 6ms/step - loss: 0.0400 - val_loss: 0.0246\n",
            "Epoch 79/100\n",
            "7/7 [==============================] - 0s 7ms/step - loss: 0.0385 - val_loss: 0.0246\n",
            "Epoch 80/100\n",
            "7/7 [==============================] - 0s 7ms/step - loss: 0.0362 - val_loss: 0.0248\n"
          ]
        }
      ]
    },
    {
      "cell_type": "markdown",
      "source": [
        "Plot Training and Validation Loss"
      ],
      "metadata": {
        "id": "NVmmOLQGRfCI"
      }
    },
    {
      "cell_type": "code",
      "source": [
        "def plot_loss(history):\n",
        "  plt.plot(history.history['loss'], label='loss')\n",
        "  plt.plot(history.history['val_loss'], label='val_loss')\n",
        "  plt.ylim([0, 10])\n",
        "  plt.xlabel('Epoch')\n",
        "  plt.ylabel('Error [Mineral Land Value]')\n",
        "  plt.legend()\n",
        "  plt.grid(True)\n",
        "plot_loss(history)"
      ],
      "metadata": {
        "colab": {
          "base_uri": "https://localhost:8080/",
          "height": 283
        },
        "id": "uhTGDcSqRjE0",
        "outputId": "5c43c5e2-a29d-4160-fcd8-eda5c1ad2fbe"
      },
      "execution_count": 55,
      "outputs": [
        {
          "output_type": "display_data",
          "data": {
            "text/plain": [
              "<Figure size 432x288 with 1 Axes>"
            ],
            "image/png": "[encoded data removed]"
          },
          "metadata": {
            "needs_background": "light"
          }
        }
      ]
    },
    {
      "cell_type": "markdown",
      "source": [
        "**Predictions**"
      ],
      "metadata": {
        "id": "0uwPV4BsTqwd"
      }
    },
    {
      "cell_type": "code",
      "source": [
        "Preds_on_trained = model.predict(x_test)\n",
        "Preds_on_trained.shape\n",
        "Preds_on_trained\n",
        "   "
      ],
      "metadata": {
        "colab": {
          "base_uri": "https://localhost:8080/"
        },
        "id": "RSGzNhWig5Ep",
        "outputId": "f9da2d04-7d05-4137-930d-d660acfebb34"
      },
      "execution_count": 56,
      "outputs": [
        {
          "output_type": "stream",
          "name": "stdout",
          "text": [
            "2/2 [==============================] - 0s 4ms/step\n"
          ]
        },
        {
          "output_type": "execute_result",
          "data": {
            "text/plain": [
              "array([[ 0.4689279 ],\n",
              "       [-0.70200694],\n",
              "       [ 1.036511  ],\n",
              "       [ 0.78592974],\n",
              "       [-0.6281762 ],\n",
              "       [-0.70993304],\n",
              "       [-0.6565812 ],\n",
              "       [-0.6817401 ],\n",
              "       [ 0.6310831 ],\n",
              "       [ 0.9399866 ],\n",
              "       [ 0.24551764],\n",
              "       [ 0.85909325],\n",
              "       [-0.9123476 ],\n",
              "       [-0.19555631],\n",
              "       [ 0.8569795 ],\n",
              "       [-0.7709049 ],\n",
              "       [-0.56329566],\n",
              "       [ 0.6855245 ],\n",
              "       [-0.9284443 ],\n",
              "       [-0.04649305],\n",
              "       [-0.5748437 ],\n",
              "       [-0.84314436],\n",
              "       [-0.864719  ],\n",
              "       [-0.87206   ],\n",
              "       [-0.8305792 ],\n",
              "       [ 0.7562577 ],\n",
              "       [-0.7828979 ],\n",
              "       [-0.48226088],\n",
              "       [ 0.8827873 ],\n",
              "       [-0.65256506],\n",
              "       [ 1.0132563 ],\n",
              "       [-0.6329733 ],\n",
              "       [ 0.7166396 ],\n",
              "       [-0.5231112 ],\n",
              "       [-0.74345875],\n",
              "       [ 0.78363013],\n",
              "       [ 0.8558702 ],\n",
              "       [ 0.37918487],\n",
              "       [-0.8439232 ],\n",
              "       [ 0.85909384],\n",
              "       [-0.6592256 ],\n",
              "       [ 0.5035322 ],\n",
              "       [-0.82542163],\n",
              "       [-0.49183315],\n",
              "       [-0.79464364],\n",
              "       [-0.69858235],\n",
              "       [ 0.80008596],\n",
              "       [ 0.6825931 ],\n",
              "       [-0.8408545 ],\n",
              "       [ 0.6776064 ],\n",
              "       [-0.7799527 ],\n",
              "       [-0.4544335 ],\n",
              "       [-0.7424236 ]], dtype=float32)"
            ]
          },
          "metadata": {},
          "execution_count": 56
        }
      ]
    },
    {
      "cell_type": "markdown",
      "source": [
        "Test on orignal dataset values"
      ],
      "metadata": {
        "id": "Sxy0PeAZzxUp"
      }
    },
    {
      "cell_type": "code",
      "source": [
        "test_data = np.array([-0.5822, -0.477403,\t-0.175929,\t-0.362381,\t-0.387147,\t-0.182937,\t-0.130125,\t-0.795782])\n",
        "\n",
        "test_data.reshape(1,8)"
      ],
      "metadata": {
        "colab": {
          "base_uri": "https://localhost:8080/"
        },
        "id": "UhQRAg0tuyaW",
        "outputId": "5c812f24-bcdf-4c3c-e3b9-85254e2267a8"
      },
      "execution_count": 61,
      "outputs": [
        {
          "output_type": "execute_result",
          "data": {
            "text/plain": [
              "array([[-0.5822  , -0.477403, -0.175929, -0.362381, -0.387147, -0.182937,\n",
              "        -0.130125, -0.795782]])"
            ]
          },
          "metadata": {},
          "execution_count": 61
        }
      ]
    },
    {
      "cell_type": "code",
      "source": [
        "print(model.predict(test_data.reshape(1,8),batch_size=1))"
      ],
      "metadata": {
        "colab": {
          "base_uri": "https://localhost:8080/"
        },
        "id": "tJtI6nXEwYyL",
        "outputId": "f4470714-ab1d-4b8d-bfb2-6e7b9a1c1285"
      },
      "execution_count": 62,
      "outputs": [
        {
          "output_type": "stream",
          "name": "stdout",
          "text": [
            "1/1 [==============================] - 0s 58ms/step\n",
            "[[-0.81919014]]\n"
          ]
        }
      ]
    },
    {
      "cell_type": "code",
      "source": [
        "print('This is the value predicted mineral land value from input parameters',convert_label_value(-0.7161517),\"Million USD dollars\")"
      ],
      "metadata": {
        "colab": {
          "base_uri": "https://localhost:8080/"
        },
        "id": "CsnmDgOqyhY4",
        "outputId": "f0427b75-4a74-4cde-a566-24db03e423b4"
      },
      "execution_count": 63,
      "outputs": [
        {
          "output_type": "stream",
          "name": "stdout",
          "text": [
            "This is the value predicted mineral land value from input parameters 5906 Million USD dollars\n"
          ]
        }
      ]
    },
    {
      "cell_type": "markdown",
      "source": [
        "**Creat User Interface**\n",
        "\n",
        "This is when the customer enters in the parameters then they receive a predicted mineral price "
      ],
      "metadata": {
        "id": "tmzq86d7z4m1"
      }
    },
    {
      "cell_type": "code",
      "source": [
        "print(' Welcome to our mineral land prediction software!!!','\\n','If you would like to make a prediction, please enter the following values')\n",
        "print('Input Parameters')\n",
        "a= float(input('TOTAL_MINERAL_RESOURCES(Mt)'))\n",
        "b = float(input('TOTAL_MINERAL_RESOURCES_AVG_GRADE_(g/t): '))\n",
        "c = float(input('RES_CON_(Kg): '))\n",
        "d = float(input('RV_QTY_G_(g/t): '))\n",
        "e = float(input('RV_CON_(Kg): '))\n",
        "f = float(input('POINT_SIZE(Kg): '))\n",
        "g = float(input('Gold_Value: '))\n",
        "h = float(input('RV_QTY_(Mt): '))\n",
        "\n",
        "testdata = np.array([a,b,c,d,e,f,g,h])\n",
        "\n",
        "print('Mineral Land Value in USD Millions =>',model.predict(testdata.reshape(1,8),batch_size=1))\n",
        "\n",
        "#print('This is the value predicted mineral land value from input parameters',convert_label_value(-0.7161517),\"Million USD dollars\")"
      ],
      "metadata": {
        "colab": {
          "base_uri": "https://localhost:8080/"
        },
        "id": "MDqBb4-oz68y",
        "outputId": "520b6f95-67b5-4a6f-d13d-e790c3dc70b5"
      },
      "execution_count": 66,
      "outputs": [
        {
          "output_type": "stream",
          "name": "stdout",
          "text": [
            " Welcome to our mineral land prediction software!!! \n",
            " If you would like to make a prediction, please enter the following values\n",
            "Input Parameters\n",
            "TOTAL_MINERAL_RESOURCES(Mt)3641\n",
            "TOTAL_MINERAL_RESOURCES_AVG_GRADE_(g/t): 2.1\n",
            "RES_CON_(Kg): 31.65\n",
            "RV_QTY_G_(g/t): 2.0\n",
            "RV_CON_(Kg): 1.68\n",
            "POINT_SIZE(Kg): 1.483\n",
            "Gold_Value: 1568\n",
            "RV_QTY_(Mt): 1264.124\n",
            "1/1 [==============================] - 0s 17ms/step\n",
            "Mineral Land Value in USD Millions [[2.2189198]]\n"
          ]
        }
      ]
    }
  ]
}