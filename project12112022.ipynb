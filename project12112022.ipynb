{
  "nbformat": 4,
  "nbformat_minor": 0,
  "metadata": {
    "colab": {
      "provenance": [],
      "collapsed_sections": [],
      "authorship_tag": "ABX9TyN5/F14rDa5dggtQv09xA4n",
      "include_colab_link": true
    },
    "kernelspec": {
      "name": "python3",
      "display_name": "Python 3"
    },
    "language_info": {
      "name": "python"
    }
  },
  "cells": [
    {
      "cell_type": "markdown",
      "metadata": {
        "id": "view-in-github",
        "colab_type": "text"
      },
      "source": [
        "<a href=\"https://colab.research.google.com/github/AbelJames26/Project_Mining/blob/main/project12112022.ipynb\" target=\"_parent\"><img src=\"https://colab.research.google.com/assets/colab-badge.svg\" alt=\"Open In Colab\"/></a>"
      ]
    },
    {
      "cell_type": "markdown",
      "source": [
        "Import all Libraries "
      ],
      "metadata": {
        "id": "Ghl5pyYuTYct"
      }
    },
    {
      "cell_type": "code",
      "execution_count": 173,
      "metadata": {
        "id": "PKPJWzO803eL",
        "outputId": "9d14f2e4-57b4-4651-c324-92258f6f2a3d",
        "colab": {
          "base_uri": "https://localhost:8080/"
        }
      },
      "outputs": [
        {
          "output_type": "stream",
          "name": "stdout",
          "text": [
            "2.9.2\n"
          ]
        }
      ],
      "source": [
        "import numpy as np\n",
        "import pandas as pd\n",
        "import scipy as sp\n",
        "import tensorflow as tf\n",
        "from tensorflow import keras\n",
        "from tensorflow.keras import layers\n",
        "import sqlite3\n",
        "import seaborn as sns\n",
        "from sklearn.model_selection import train_test_split\n",
        "from sklearn.preprocessing import StandardScaler\n",
        "print(tf.__version__)"
      ]
    },
    {
      "cell_type": "markdown",
      "source": [
        "Import Data Set"
      ],
      "metadata": {
        "id": "1aF7-1FeTVVJ"
      }
    },
    {
      "cell_type": "code",
      "source": [
        "Path = \"/content/Project_Data.csv\"\n",
        "df = pd.read_csv(Path)\n",
        "df.shape"
      ],
      "metadata": {
        "colab": {
          "base_uri": "https://localhost:8080/"
        },
        "id": "BtZKnAlqn_v3",
        "outputId": "4d5977e8-39c9-4f10-c7d1-1687036e4aa4"
      },
      "execution_count": 146,
      "outputs": [
        {
          "output_type": "execute_result",
          "data": {
            "text/plain": [
              "(264, 20)"
            ]
          },
          "metadata": {},
          "execution_count": 146
        }
      ]
    },
    {
      "cell_type": "markdown",
      "source": [
        "Visualize dataset"
      ],
      "metadata": {
        "id": "qRttaf5odS7W"
      }
    },
    {
      "cell_type": "code",
      "source": [
        "#Displaying the data\n",
        "df.head()"
      ],
      "metadata": {
        "colab": {
          "base_uri": "https://localhost:8080/",
          "height": 461
        },
        "id": "y6jWt2b_N9o4",
        "outputId": "9c42eb1c-245a-4d7e-b305-0089adfb7d5a"
      },
      "execution_count": 147,
      "outputs": [
        {
          "output_type": "execute_result",
          "data": {
            "text/plain": [
              "  PROJECT_CODE              PROJECT_NAME             PROJECT_SHORT  \\\n",
              "0       J05288                8 Mile Dam                8 Mile Dam   \n",
              "1       J02707      Goodenough / Kairiki                Goodenough   \n",
              "2       J04664        Ora Banda / Norton                 Ora Banda   \n",
              "3       J00292  Paddington - Mt Pleasant  Paddington - Mt Pleasant   \n",
              "4       J01022             Abednego West             Abednego West   \n",
              "\n",
              "  PRIMARY COMMODITY SITE_CODE   LATITUDE   LONGITUDE  \\\n",
              "0              Gold  S0236141 -30.645288  121.462217   \n",
              "1              Gold  S0020062 -29.676897  121.077914   \n",
              "2              Gold  S0000642 -30.372109  121.088425   \n",
              "3              Gold  S0000566 -30.556269  121.227040   \n",
              "4              Gold  S0002219 -28.833347  121.773913   \n",
              "\n",
              "                     SITE_LOCATION ESTIMATING COMMODITY EST_COM_AB EST_COM_P  \\\n",
              "0  Eastern Goldfields Superterrane                 Gold         Au       Yes   \n",
              "1  Eastern Goldfields Superterrane                 Gold         Au       Yes   \n",
              "2  Eastern Goldfields Superterrane                 Gold         Au       Yes   \n",
              "3  Eastern Goldfields Superterrane                 Gold         Au       Yes   \n",
              "4  Eastern Goldfields Superterrane                 Gold         Au       Yes   \n",
              "\n",
              "   TOTAL_MINERAL_RESOURCES (Mt)  TOTAL_MINERAL_RESOURCES_AVG_GRADE_(g/t)  \\\n",
              "0                      7.014346                                 1.392000   \n",
              "1                      0.715700                                 1.971598   \n",
              "2                     17.790000                                 1.859798   \n",
              "3                     59.980000                                 2.251367   \n",
              "4                      0.070000                                 2.100000   \n",
              "\n",
              "    RES_CON_(Kg)  RV_QTY_G_(g/t)  RV_CON_(Kg)  POINT_SIZE (Kg)       Date  \\\n",
              "0    9763.969632        2.099000    558.00000      9763.969632  1/10/2022   \n",
              "1    1411.073000        3.365000  20642.21000      1411.073000  1/10/2022   \n",
              "2   33085.800000        2.276660  14718.87760     47804.677600  1/10/2022   \n",
              "3  135037.000000        1.798119  15923.12736    150960.127400  1/10/2022   \n",
              "4     147.000000        1.864000      2.88800       147.000000  2/10/2022   \n",
              "\n",
              "   Gold_Value  RV_QTY_(Mt)  \n",
              "0      1662.4     1.670000  \n",
              "1      1662.4     1.354000  \n",
              "2      1662.4    34.057692  \n",
              "3      1662.4    34.251312  \n",
              "4      1662.4     2.230000  "
            ],
            "text/html": [
              "\n",
              "  <div id=\"df-541323e3-e165-4e29-b1ff-7ef98a320bb8\">\n",
              "    <div class=\"colab-df-container\">\n",
              "      <div>\n",
              "<style scoped>\n",
              "    .dataframe tbody tr th:only-of-type {\n",
              "        vertical-align: middle;\n",
              "    }\n",
              "\n",
              "    .dataframe tbody tr th {\n",
              "        vertical-align: top;\n",
              "    }\n",
              "\n",
              "    .dataframe thead th {\n",
              "        text-align: right;\n",
              "    }\n",
              "</style>\n",
              "<table border=\"1\" class=\"dataframe\">\n",
              "  <thead>\n",
              "    <tr style=\"text-align: right;\">\n",
              "      <th></th>\n",
              "      <th>PROJECT_CODE</th>\n",
              "      <th>PROJECT_NAME</th>\n",
              "      <th>PROJECT_SHORT</th>\n",
              "      <th>PRIMARY COMMODITY</th>\n",
              "      <th>SITE_CODE</th>\n",
              "      <th>LATITUDE</th>\n",
              "      <th>LONGITUDE</th>\n",
              "      <th>SITE_LOCATION</th>\n",
              "      <th>ESTIMATING COMMODITY</th>\n",
              "      <th>EST_COM_AB</th>\n",
              "      <th>EST_COM_P</th>\n",
              "      <th>TOTAL_MINERAL_RESOURCES (Mt)</th>\n",
              "      <th>TOTAL_MINERAL_RESOURCES_AVG_GRADE_(g/t)</th>\n",
              "      <th>RES_CON_(Kg)</th>\n",
              "      <th>RV_QTY_G_(g/t)</th>\n",
              "      <th>RV_CON_(Kg)</th>\n",
              "      <th>POINT_SIZE (Kg)</th>\n",
              "      <th>Date</th>\n",
              "      <th>Gold_Value</th>\n",
              "      <th>RV_QTY_(Mt)</th>\n",
              "    </tr>\n",
              "  </thead>\n",
              "  <tbody>\n",
              "    <tr>\n",
              "      <th>0</th>\n",
              "      <td>J05288</td>\n",
              "      <td>8 Mile Dam</td>\n",
              "      <td>8 Mile Dam</td>\n",
              "      <td>Gold</td>\n",
              "      <td>S0236141</td>\n",
              "      <td>-30.645288</td>\n",
              "      <td>121.462217</td>\n",
              "      <td>Eastern Goldfields Superterrane</td>\n",
              "      <td>Gold</td>\n",
              "      <td>Au</td>\n",
              "      <td>Yes</td>\n",
              "      <td>7.014346</td>\n",
              "      <td>1.392000</td>\n",
              "      <td>9763.969632</td>\n",
              "      <td>2.099000</td>\n",
              "      <td>558.00000</td>\n",
              "      <td>9763.969632</td>\n",
              "      <td>1/10/2022</td>\n",
              "      <td>1662.4</td>\n",
              "      <td>1.670000</td>\n",
              "    </tr>\n",
              "    <tr>\n",
              "      <th>1</th>\n",
              "      <td>J02707</td>\n",
              "      <td>Goodenough / Kairiki</td>\n",
              "      <td>Goodenough</td>\n",
              "      <td>Gold</td>\n",
              "      <td>S0020062</td>\n",
              "      <td>-29.676897</td>\n",
              "      <td>121.077914</td>\n",
              "      <td>Eastern Goldfields Superterrane</td>\n",
              "      <td>Gold</td>\n",
              "      <td>Au</td>\n",
              "      <td>Yes</td>\n",
              "      <td>0.715700</td>\n",
              "      <td>1.971598</td>\n",
              "      <td>1411.073000</td>\n",
              "      <td>3.365000</td>\n",
              "      <td>20642.21000</td>\n",
              "      <td>1411.073000</td>\n",
              "      <td>1/10/2022</td>\n",
              "      <td>1662.4</td>\n",
              "      <td>1.354000</td>\n",
              "    </tr>\n",
              "    <tr>\n",
              "      <th>2</th>\n",
              "      <td>J04664</td>\n",
              "      <td>Ora Banda / Norton</td>\n",
              "      <td>Ora Banda</td>\n",
              "      <td>Gold</td>\n",
              "      <td>S0000642</td>\n",
              "      <td>-30.372109</td>\n",
              "      <td>121.088425</td>\n",
              "      <td>Eastern Goldfields Superterrane</td>\n",
              "      <td>Gold</td>\n",
              "      <td>Au</td>\n",
              "      <td>Yes</td>\n",
              "      <td>17.790000</td>\n",
              "      <td>1.859798</td>\n",
              "      <td>33085.800000</td>\n",
              "      <td>2.276660</td>\n",
              "      <td>14718.87760</td>\n",
              "      <td>47804.677600</td>\n",
              "      <td>1/10/2022</td>\n",
              "      <td>1662.4</td>\n",
              "      <td>34.057692</td>\n",
              "    </tr>\n",
              "    <tr>\n",
              "      <th>3</th>\n",
              "      <td>J00292</td>\n",
              "      <td>Paddington - Mt Pleasant</td>\n",
              "      <td>Paddington - Mt Pleasant</td>\n",
              "      <td>Gold</td>\n",
              "      <td>S0000566</td>\n",
              "      <td>-30.556269</td>\n",
              "      <td>121.227040</td>\n",
              "      <td>Eastern Goldfields Superterrane</td>\n",
              "      <td>Gold</td>\n",
              "      <td>Au</td>\n",
              "      <td>Yes</td>\n",
              "      <td>59.980000</td>\n",
              "      <td>2.251367</td>\n",
              "      <td>135037.000000</td>\n",
              "      <td>1.798119</td>\n",
              "      <td>15923.12736</td>\n",
              "      <td>150960.127400</td>\n",
              "      <td>1/10/2022</td>\n",
              "      <td>1662.4</td>\n",
              "      <td>34.251312</td>\n",
              "    </tr>\n",
              "    <tr>\n",
              "      <th>4</th>\n",
              "      <td>J01022</td>\n",
              "      <td>Abednego West</td>\n",
              "      <td>Abednego West</td>\n",
              "      <td>Gold</td>\n",
              "      <td>S0002219</td>\n",
              "      <td>-28.833347</td>\n",
              "      <td>121.773913</td>\n",
              "      <td>Eastern Goldfields Superterrane</td>\n",
              "      <td>Gold</td>\n",
              "      <td>Au</td>\n",
              "      <td>Yes</td>\n",
              "      <td>0.070000</td>\n",
              "      <td>2.100000</td>\n",
              "      <td>147.000000</td>\n",
              "      <td>1.864000</td>\n",
              "      <td>2.88800</td>\n",
              "      <td>147.000000</td>\n",
              "      <td>2/10/2022</td>\n",
              "      <td>1662.4</td>\n",
              "      <td>2.230000</td>\n",
              "    </tr>\n",
              "  </tbody>\n",
              "</table>\n",
              "</div>\n",
              "      <button class=\"colab-df-convert\" onclick=\"convertToInteractive('df-541323e3-e165-4e29-b1ff-7ef98a320bb8')\"\n",
              "              title=\"Convert this dataframe to an interactive table.\"\n",
              "              style=\"display:none;\">\n",
              "        \n",
              "  <svg xmlns=\"http://www.w3.org/2000/svg\" height=\"24px\"viewBox=\"0 0 24 24\"\n",
              "       width=\"24px\">\n",
              "    <path d=\"M0 0h24v24H0V0z\" fill=\"none\"/>\n",
              "    <path d=\"M18.56 5.44l.94 2.06.94-2.06 2.06-.94-2.06-.94-.94-2.06-.94 2.06-2.06.94zm-11 1L8.5 8.5l.94-2.06 2.06-.94-2.06-.94L8.5 2.5l-.94 2.06-2.06.94zm10 10l.94 2.06.94-2.06 2.06-.94-2.06-.94-.94-2.06-.94 2.06-2.06.94z\"/><path d=\"M17.41 7.96l-1.37-1.37c-.4-.4-.92-.59-1.43-.59-.52 0-1.04.2-1.43.59L10.3 9.45l-7.72 7.72c-.78.78-.78 2.05 0 2.83L4 21.41c.39.39.9.59 1.41.59.51 0 1.02-.2 1.41-.59l7.78-7.78 2.81-2.81c.8-.78.8-2.07 0-2.86zM5.41 20L4 18.59l7.72-7.72 1.47 1.35L5.41 20z\"/>\n",
              "  </svg>\n",
              "      </button>\n",
              "      \n",
              "  <style>\n",
              "    .colab-df-container {\n",
              "      display:flex;\n",
              "      flex-wrap:wrap;\n",
              "      gap: 12px;\n",
              "    }\n",
              "\n",
              "    .colab-df-convert {\n",
              "      background-color: #E8F0FE;\n",
              "      border: none;\n",
              "      border-radius: 50%;\n",
              "      cursor: pointer;\n",
              "      display: none;\n",
              "      fill: #1967D2;\n",
              "      height: 32px;\n",
              "      padding: 0 0 0 0;\n",
              "      width: 32px;\n",
              "    }\n",
              "\n",
              "    .colab-df-convert:hover {\n",
              "      background-color: #E2EBFA;\n",
              "      box-shadow: 0px 1px 2px rgba(60, 64, 67, 0.3), 0px 1px 3px 1px rgba(60, 64, 67, 0.15);\n",
              "      fill: #174EA6;\n",
              "    }\n",
              "\n",
              "    [theme=dark] .colab-df-convert {\n",
              "      background-color: #3B4455;\n",
              "      fill: #D2E3FC;\n",
              "    }\n",
              "\n",
              "    [theme=dark] .colab-df-convert:hover {\n",
              "      background-color: #434B5C;\n",
              "      box-shadow: 0px 1px 3px 1px rgba(0, 0, 0, 0.15);\n",
              "      filter: drop-shadow(0px 1px 2px rgba(0, 0, 0, 0.3));\n",
              "      fill: #FFFFFF;\n",
              "    }\n",
              "  </style>\n",
              "\n",
              "      <script>\n",
              "        const buttonEl =\n",
              "          document.querySelector('#df-541323e3-e165-4e29-b1ff-7ef98a320bb8 button.colab-df-convert');\n",
              "        buttonEl.style.display =\n",
              "          google.colab.kernel.accessAllowed ? 'block' : 'none';\n",
              "\n",
              "        async function convertToInteractive(key) {\n",
              "          const element = document.querySelector('#df-541323e3-e165-4e29-b1ff-7ef98a320bb8');\n",
              "          const dataTable =\n",
              "            await google.colab.kernel.invokeFunction('convertToInteractive',\n",
              "                                                     [key], {});\n",
              "          if (!dataTable) return;\n",
              "\n",
              "          const docLinkHtml = 'Like what you see? Visit the ' +\n",
              "            '<a target=\"_blank\" href=https://colab.research.google.com/notebooks/data_table.ipynb>data table notebook</a>'\n",
              "            + ' to learn more about interactive tables.';\n",
              "          element.innerHTML = '';\n",
              "          dataTable['output_type'] = 'display_data';\n",
              "          await google.colab.output.renderOutput(dataTable, element);\n",
              "          const docLink = document.createElement('div');\n",
              "          docLink.innerHTML = docLinkHtml;\n",
              "          element.appendChild(docLink);\n",
              "        }\n",
              "      </script>\n",
              "    </div>\n",
              "  </div>\n",
              "  "
            ]
          },
          "metadata": {},
          "execution_count": 147
        }
      ]
    },
    {
      "cell_type": "markdown",
      "source": [
        "Visualize Ore reserve locations "
      ],
      "metadata": {
        "id": "C4qknnFfdZi9"
      }
    },
    {
      "cell_type": "code",
      "source": [
        "df.plot(kind=\"scatter\", x=\"LONGITUDE\", y=\"LATITUDE\")"
      ],
      "metadata": {
        "id": "2eSz9x1RNA8U",
        "outputId": "2d5f3efd-9af0-438b-d35b-e3db814f8846",
        "colab": {
          "base_uri": "https://localhost:8080/",
          "height": 296
        }
      },
      "execution_count": 148,
      "outputs": [
        {
          "output_type": "execute_result",
          "data": {
            "text/plain": [
              "<matplotlib.axes._subplots.AxesSubplot at 0x7f71071c6f10>"
            ]
          },
          "metadata": {},
          "execution_count": 148
        },
        {
          "output_type": "display_data",
          "data": {
            "text/plain": [
              "<Figure size 432x288 with 1 Axes>"
            ],
            "image/png": "[encoded data removed]"
          },
          "metadata": {
            "needs_background": "light"
          }
        }
      ]
    },
    {
      "cell_type": "markdown",
      "source": [
        "Check for Null Values"
      ],
      "metadata": {
        "id": "HtmDto3kPZJm"
      }
    },
    {
      "cell_type": "code",
      "source": [
        "# Checking the null values\n",
        "\n",
        "df.isna().any()"
      ],
      "metadata": {
        "id": "UNxsAJeXPhLb",
        "outputId": "a0c56688-9a08-4690-838e-79d8cd14f619",
        "colab": {
          "base_uri": "https://localhost:8080/"
        }
      },
      "execution_count": 149,
      "outputs": [
        {
          "output_type": "execute_result",
          "data": {
            "text/plain": [
              "PROJECT_CODE                               False\n",
              "PROJECT_NAME                               False\n",
              "PROJECT_SHORT                              False\n",
              "PRIMARY COMMODITY                          False\n",
              "SITE_CODE                                  False\n",
              "LATITUDE                                   False\n",
              "LONGITUDE                                  False\n",
              "SITE_LOCATION                              False\n",
              "ESTIMATING COMMODITY                       False\n",
              "EST_COM_AB                                 False\n",
              "EST_COM_P                                  False\n",
              "TOTAL_MINERAL_RESOURCES (Mt)               False\n",
              "TOTAL_MINERAL_RESOURCES_AVG_GRADE_(g/t)    False\n",
              "RES_CON_(Kg)                               False\n",
              "RV_QTY_G_(g/t)                             False\n",
              "RV_CON_(Kg)                                False\n",
              "POINT_SIZE (Kg)                            False\n",
              "Date                                       False\n",
              "Gold_Value                                 False\n",
              "RV_QTY_(Mt)                                False\n",
              "dtype: bool"
            ]
          },
          "metadata": {},
          "execution_count": 149
        }
      ]
    },
    {
      "cell_type": "markdown",
      "source": [
        "Count the number of Null Values in Each Column"
      ],
      "metadata": {
        "id": "6jIvBdXiPrIE"
      }
    },
    {
      "cell_type": "code",
      "source": [
        "# Count number of null values in each columns\n",
        "\n",
        "df.isna().sum()"
      ],
      "metadata": {
        "id": "LTF1IjtGPx-Y",
        "outputId": "5c046a59-e89d-4afb-c630-c1e3c1790ef5",
        "colab": {
          "base_uri": "https://localhost:8080/"
        }
      },
      "execution_count": 150,
      "outputs": [
        {
          "output_type": "execute_result",
          "data": {
            "text/plain": [
              "PROJECT_CODE                               0\n",
              "PROJECT_NAME                               0\n",
              "PROJECT_SHORT                              0\n",
              "PRIMARY COMMODITY                          0\n",
              "SITE_CODE                                  0\n",
              "LATITUDE                                   0\n",
              "LONGITUDE                                  0\n",
              "SITE_LOCATION                              0\n",
              "ESTIMATING COMMODITY                       0\n",
              "EST_COM_AB                                 0\n",
              "EST_COM_P                                  0\n",
              "TOTAL_MINERAL_RESOURCES (Mt)               0\n",
              "TOTAL_MINERAL_RESOURCES_AVG_GRADE_(g/t)    0\n",
              "RES_CON_(Kg)                               0\n",
              "RV_QTY_G_(g/t)                             0\n",
              "RV_CON_(Kg)                                0\n",
              "POINT_SIZE (Kg)                            0\n",
              "Date                                       0\n",
              "Gold_Value                                 0\n",
              "RV_QTY_(Mt)                                0\n",
              "dtype: int64"
            ]
          },
          "metadata": {},
          "execution_count": 150
        }
      ]
    },
    {
      "cell_type": "markdown",
      "source": [
        "Drop NA Values if count is less than 5%"
      ],
      "metadata": {
        "id": "QlwLDoQdQEZS"
      }
    },
    {
      "cell_type": "code",
      "source": [
        "# We can drop the null value as their count is less than 5%\n",
        "\n",
        "df.dropna(inplace=True)"
      ],
      "metadata": {
        "id": "I_kiLVqPQKBt"
      },
      "execution_count": 151,
      "outputs": []
    },
    {
      "cell_type": "markdown",
      "source": [],
      "metadata": {
        "id": "hGGshCb6dhQD"
      }
    },
    {
      "cell_type": "markdown",
      "source": [
        "Visualize variables after creating dependencies"
      ],
      "metadata": {
        "id": "dxdRn4XRQYPU"
      }
    },
    {
      "cell_type": "markdown",
      "source": [
        "This is the variable we will try to predict. Reserve quantity in Mt"
      ],
      "metadata": {
        "id": "QKigIIaLdxMx"
      }
    },
    {
      "cell_type": "code",
      "source": [
        "y.head()"
      ],
      "metadata": {
        "colab": {
          "base_uri": "https://localhost:8080/",
          "height": 206
        },
        "id": "Y2vEScvsRrNd",
        "outputId": "3f2ec306-8909-4fb8-ce1d-2c4295b2c66b"
      },
      "execution_count": 152,
      "outputs": [
        {
          "output_type": "execute_result",
          "data": {
            "text/plain": [
              "   RV_QTY_(Mt)\n",
              "0     1.670000\n",
              "1     1.354000\n",
              "2    34.057692\n",
              "3    34.251312\n",
              "4     2.230000"
            ],
            "text/html": [
              "\n",
              "  <div id=\"df-a6215d82-dc70-4d7c-a9ee-a4f10abee30b\">\n",
              "    <div class=\"colab-df-container\">\n",
              "      <div>\n",
              "<style scoped>\n",
              "    .dataframe tbody tr th:only-of-type {\n",
              "        vertical-align: middle;\n",
              "    }\n",
              "\n",
              "    .dataframe tbody tr th {\n",
              "        vertical-align: top;\n",
              "    }\n",
              "\n",
              "    .dataframe thead th {\n",
              "        text-align: right;\n",
              "    }\n",
              "</style>\n",
              "<table border=\"1\" class=\"dataframe\">\n",
              "  <thead>\n",
              "    <tr style=\"text-align: right;\">\n",
              "      <th></th>\n",
              "      <th>RV_QTY_(Mt)</th>\n",
              "    </tr>\n",
              "  </thead>\n",
              "  <tbody>\n",
              "    <tr>\n",
              "      <th>0</th>\n",
              "      <td>1.670000</td>\n",
              "    </tr>\n",
              "    <tr>\n",
              "      <th>1</th>\n",
              "      <td>1.354000</td>\n",
              "    </tr>\n",
              "    <tr>\n",
              "      <th>2</th>\n",
              "      <td>34.057692</td>\n",
              "    </tr>\n",
              "    <tr>\n",
              "      <th>3</th>\n",
              "      <td>34.251312</td>\n",
              "    </tr>\n",
              "    <tr>\n",
              "      <th>4</th>\n",
              "      <td>2.230000</td>\n",
              "    </tr>\n",
              "  </tbody>\n",
              "</table>\n",
              "</div>\n",
              "      <button class=\"colab-df-convert\" onclick=\"convertToInteractive('df-a6215d82-dc70-4d7c-a9ee-a4f10abee30b')\"\n",
              "              title=\"Convert this dataframe to an interactive table.\"\n",
              "              style=\"display:none;\">\n",
              "        \n",
              "  <svg xmlns=\"http://www.w3.org/2000/svg\" height=\"24px\"viewBox=\"0 0 24 24\"\n",
              "       width=\"24px\">\n",
              "    <path d=\"M0 0h24v24H0V0z\" fill=\"none\"/>\n",
              "    <path d=\"M18.56 5.44l.94 2.06.94-2.06 2.06-.94-2.06-.94-.94-2.06-.94 2.06-2.06.94zm-11 1L8.5 8.5l.94-2.06 2.06-.94-2.06-.94L8.5 2.5l-.94 2.06-2.06.94zm10 10l.94 2.06.94-2.06 2.06-.94-2.06-.94-.94-2.06-.94 2.06-2.06.94z\"/><path d=\"M17.41 7.96l-1.37-1.37c-.4-.4-.92-.59-1.43-.59-.52 0-1.04.2-1.43.59L10.3 9.45l-7.72 7.72c-.78.78-.78 2.05 0 2.83L4 21.41c.39.39.9.59 1.41.59.51 0 1.02-.2 1.41-.59l7.78-7.78 2.81-2.81c.8-.78.8-2.07 0-2.86zM5.41 20L4 18.59l7.72-7.72 1.47 1.35L5.41 20z\"/>\n",
              "  </svg>\n",
              "      </button>\n",
              "      \n",
              "  <style>\n",
              "    .colab-df-container {\n",
              "      display:flex;\n",
              "      flex-wrap:wrap;\n",
              "      gap: 12px;\n",
              "    }\n",
              "\n",
              "    .colab-df-convert {\n",
              "      background-color: #E8F0FE;\n",
              "      border: none;\n",
              "      border-radius: 50%;\n",
              "      cursor: pointer;\n",
              "      display: none;\n",
              "      fill: #1967D2;\n",
              "      height: 32px;\n",
              "      padding: 0 0 0 0;\n",
              "      width: 32px;\n",
              "    }\n",
              "\n",
              "    .colab-df-convert:hover {\n",
              "      background-color: #E2EBFA;\n",
              "      box-shadow: 0px 1px 2px rgba(60, 64, 67, 0.3), 0px 1px 3px 1px rgba(60, 64, 67, 0.15);\n",
              "      fill: #174EA6;\n",
              "    }\n",
              "\n",
              "    [theme=dark] .colab-df-convert {\n",
              "      background-color: #3B4455;\n",
              "      fill: #D2E3FC;\n",
              "    }\n",
              "\n",
              "    [theme=dark] .colab-df-convert:hover {\n",
              "      background-color: #434B5C;\n",
              "      box-shadow: 0px 1px 3px 1px rgba(0, 0, 0, 0.15);\n",
              "      filter: drop-shadow(0px 1px 2px rgba(0, 0, 0, 0.3));\n",
              "      fill: #FFFFFF;\n",
              "    }\n",
              "  </style>\n",
              "\n",
              "      <script>\n",
              "        const buttonEl =\n",
              "          document.querySelector('#df-a6215d82-dc70-4d7c-a9ee-a4f10abee30b button.colab-df-convert');\n",
              "        buttonEl.style.display =\n",
              "          google.colab.kernel.accessAllowed ? 'block' : 'none';\n",
              "\n",
              "        async function convertToInteractive(key) {\n",
              "          const element = document.querySelector('#df-a6215d82-dc70-4d7c-a9ee-a4f10abee30b');\n",
              "          const dataTable =\n",
              "            await google.colab.kernel.invokeFunction('convertToInteractive',\n",
              "                                                     [key], {});\n",
              "          if (!dataTable) return;\n",
              "\n",
              "          const docLinkHtml = 'Like what you see? Visit the ' +\n",
              "            '<a target=\"_blank\" href=https://colab.research.google.com/notebooks/data_table.ipynb>data table notebook</a>'\n",
              "            + ' to learn more about interactive tables.';\n",
              "          element.innerHTML = '';\n",
              "          dataTable['output_type'] = 'display_data';\n",
              "          await google.colab.output.renderOutput(dataTable, element);\n",
              "          const docLink = document.createElement('div');\n",
              "          docLink.innerHTML = docLinkHtml;\n",
              "          element.appendChild(docLink);\n",
              "        }\n",
              "      </script>\n",
              "    </div>\n",
              "  </div>\n",
              "  "
            ]
          },
          "metadata": {},
          "execution_count": 152
        }
      ]
    },
    {
      "cell_type": "markdown",
      "source": [
        "Remove variables not used for prediction"
      ],
      "metadata": {
        "id": "UnhyxbyAtWP9"
      }
    },
    {
      "cell_type": "code",
      "source": [
        "df = df.drop([ \"PROJECT_NAME\", \"PROJECT_CODE\",\"PROJECT_SHORT\",\"PRIMARY COMMODITY\",\"SITE_CODE\", \"SITE_LOCATION\", \"ESTIMATING COMMODITY\", \"EST_COM_AB\",\"EST_COM_P\",\"Date\" ,\"LATITUDE\", \"LONGITUDE\"], axis =1)"
      ],
      "metadata": {
        "id": "K8XuCcCapRKb"
      },
      "execution_count": 153,
      "outputs": []
    },
    {
      "cell_type": "code",
      "source": [
        "df"
      ],
      "metadata": {
        "id": "kNILhM8Rsq9L",
        "outputId": "9bcf846b-0bfa-4d83-ad1e-d214e89fe5ae",
        "colab": {
          "base_uri": "https://localhost:8080/",
          "height": 505
        }
      },
      "execution_count": 154,
      "outputs": [
        {
          "output_type": "execute_result",
          "data": {
            "text/plain": [
              "     TOTAL_MINERAL_RESOURCES (Mt)  TOTAL_MINERAL_RESOURCES_AVG_GRADE_(g/t)  \\\n",
              "0                        7.014346                                 1.392000   \n",
              "1                        0.715700                                 1.971598   \n",
              "2                       17.790000                                 1.859798   \n",
              "3                       59.980000                                 2.251367   \n",
              "4                        0.070000                                 2.100000   \n",
              "..                            ...                                      ...   \n",
              "259                      0.169000                                 2.554438   \n",
              "260                     10.073000                                 1.643145   \n",
              "261                      0.092000                                 1.978043   \n",
              "262                      0.915000                                 4.681311   \n",
              "263                      1.100000                                 2.100000   \n",
              "\n",
              "      RES_CON_(Kg)  RV_QTY_G_(g/t)  RV_CON_(Kg)  POINT_SIZE (Kg)  Gold_Value  \\\n",
              "0      9763.969632        2.099000    558.00000      9763.969632      1662.4   \n",
              "1      1411.073000        3.365000  20642.21000      1411.073000      1662.4   \n",
              "2     33085.800000        2.276660  14718.87760     47804.677600      1662.4   \n",
              "3    135037.000000        1.798119  15923.12736    150960.127400      1662.4   \n",
              "4       147.000000        1.864000      2.88800       147.000000      1662.4   \n",
              "..             ...             ...          ...              ...         ...   \n",
              "259     431.700000        2.648000  46174.44000       431.700000      1639.6   \n",
              "260   16551.400000        2.183200    414.55000     16551.400000      1639.6   \n",
              "261     181.980000        2.470000   3445.55000       181.980000      1639.6   \n",
              "262    4283.400000        4.650000  31855.00000      4283.400000      1635.9   \n",
              "263    2310.000000        1.011100   1644.00000      2310.000000      1635.9   \n",
              "\n",
              "     RV_QTY_(Mt)  \n",
              "0       1.670000  \n",
              "1       1.354000  \n",
              "2      34.057692  \n",
              "3      34.251312  \n",
              "4       2.230000  \n",
              "..           ...  \n",
              "259    32.368000  \n",
              "260    37.086300  \n",
              "261    25.288000  \n",
              "262     4.598000  \n",
              "263    37.542859  \n",
              "\n",
              "[264 rows x 8 columns]"
            ],
            "text/html": [
              "\n",
              "  <div id=\"df-c06c115a-d672-46a6-a8c5-bb64804f5b70\">\n",
              "    <div class=\"colab-df-container\">\n",
              "      <div>\n",
              "<style scoped>\n",
              "    .dataframe tbody tr th:only-of-type {\n",
              "        vertical-align: middle;\n",
              "    }\n",
              "\n",
              "    .dataframe tbody tr th {\n",
              "        vertical-align: top;\n",
              "    }\n",
              "\n",
              "    .dataframe thead th {\n",
              "        text-align: right;\n",
              "    }\n",
              "</style>\n",
              "<table border=\"1\" class=\"dataframe\">\n",
              "  <thead>\n",
              "    <tr style=\"text-align: right;\">\n",
              "      <th></th>\n",
              "      <th>TOTAL_MINERAL_RESOURCES (Mt)</th>\n",
              "      <th>TOTAL_MINERAL_RESOURCES_AVG_GRADE_(g/t)</th>\n",
              "      <th>RES_CON_(Kg)</th>\n",
              "      <th>RV_QTY_G_(g/t)</th>\n",
              "      <th>RV_CON_(Kg)</th>\n",
              "      <th>POINT_SIZE (Kg)</th>\n",
              "      <th>Gold_Value</th>\n",
              "      <th>RV_QTY_(Mt)</th>\n",
              "    </tr>\n",
              "  </thead>\n",
              "  <tbody>\n",
              "    <tr>\n",
              "      <th>0</th>\n",
              "      <td>7.014346</td>\n",
              "      <td>1.392000</td>\n",
              "      <td>9763.969632</td>\n",
              "      <td>2.099000</td>\n",
              "      <td>558.00000</td>\n",
              "      <td>9763.969632</td>\n",
              "      <td>1662.4</td>\n",
              "      <td>1.670000</td>\n",
              "    </tr>\n",
              "    <tr>\n",
              "      <th>1</th>\n",
              "      <td>0.715700</td>\n",
              "      <td>1.971598</td>\n",
              "      <td>1411.073000</td>\n",
              "      <td>3.365000</td>\n",
              "      <td>20642.21000</td>\n",
              "      <td>1411.073000</td>\n",
              "      <td>1662.4</td>\n",
              "      <td>1.354000</td>\n",
              "    </tr>\n",
              "    <tr>\n",
              "      <th>2</th>\n",
              "      <td>17.790000</td>\n",
              "      <td>1.859798</td>\n",
              "      <td>33085.800000</td>\n",
              "      <td>2.276660</td>\n",
              "      <td>14718.87760</td>\n",
              "      <td>47804.677600</td>\n",
              "      <td>1662.4</td>\n",
              "      <td>34.057692</td>\n",
              "    </tr>\n",
              "    <tr>\n",
              "      <th>3</th>\n",
              "      <td>59.980000</td>\n",
              "      <td>2.251367</td>\n",
              "      <td>135037.000000</td>\n",
              "      <td>1.798119</td>\n",
              "      <td>15923.12736</td>\n",
              "      <td>150960.127400</td>\n",
              "      <td>1662.4</td>\n",
              "      <td>34.251312</td>\n",
              "    </tr>\n",
              "    <tr>\n",
              "      <th>4</th>\n",
              "      <td>0.070000</td>\n",
              "      <td>2.100000</td>\n",
              "      <td>147.000000</td>\n",
              "      <td>1.864000</td>\n",
              "      <td>2.88800</td>\n",
              "      <td>147.000000</td>\n",
              "      <td>1662.4</td>\n",
              "      <td>2.230000</td>\n",
              "    </tr>\n",
              "    <tr>\n",
              "      <th>...</th>\n",
              "      <td>...</td>\n",
              "      <td>...</td>\n",
              "      <td>...</td>\n",
              "      <td>...</td>\n",
              "      <td>...</td>\n",
              "      <td>...</td>\n",
              "      <td>...</td>\n",
              "      <td>...</td>\n",
              "    </tr>\n",
              "    <tr>\n",
              "      <th>259</th>\n",
              "      <td>0.169000</td>\n",
              "      <td>2.554438</td>\n",
              "      <td>431.700000</td>\n",
              "      <td>2.648000</td>\n",
              "      <td>46174.44000</td>\n",
              "      <td>431.700000</td>\n",
              "      <td>1639.6</td>\n",
              "      <td>32.368000</td>\n",
              "    </tr>\n",
              "    <tr>\n",
              "      <th>260</th>\n",
              "      <td>10.073000</td>\n",
              "      <td>1.643145</td>\n",
              "      <td>16551.400000</td>\n",
              "      <td>2.183200</td>\n",
              "      <td>414.55000</td>\n",
              "      <td>16551.400000</td>\n",
              "      <td>1639.6</td>\n",
              "      <td>37.086300</td>\n",
              "    </tr>\n",
              "    <tr>\n",
              "      <th>261</th>\n",
              "      <td>0.092000</td>\n",
              "      <td>1.978043</td>\n",
              "      <td>181.980000</td>\n",
              "      <td>2.470000</td>\n",
              "      <td>3445.55000</td>\n",
              "      <td>181.980000</td>\n",
              "      <td>1639.6</td>\n",
              "      <td>25.288000</td>\n",
              "    </tr>\n",
              "    <tr>\n",
              "      <th>262</th>\n",
              "      <td>0.915000</td>\n",
              "      <td>4.681311</td>\n",
              "      <td>4283.400000</td>\n",
              "      <td>4.650000</td>\n",
              "      <td>31855.00000</td>\n",
              "      <td>4283.400000</td>\n",
              "      <td>1635.9</td>\n",
              "      <td>4.598000</td>\n",
              "    </tr>\n",
              "    <tr>\n",
              "      <th>263</th>\n",
              "      <td>1.100000</td>\n",
              "      <td>2.100000</td>\n",
              "      <td>2310.000000</td>\n",
              "      <td>1.011100</td>\n",
              "      <td>1644.00000</td>\n",
              "      <td>2310.000000</td>\n",
              "      <td>1635.9</td>\n",
              "      <td>37.542859</td>\n",
              "    </tr>\n",
              "  </tbody>\n",
              "</table>\n",
              "<p>264 rows × 8 columns</p>\n",
              "</div>\n",
              "      <button class=\"colab-df-convert\" onclick=\"convertToInteractive('df-c06c115a-d672-46a6-a8c5-bb64804f5b70')\"\n",
              "              title=\"Convert this dataframe to an interactive table.\"\n",
              "              style=\"display:none;\">\n",
              "        \n",
              "  <svg xmlns=\"http://www.w3.org/2000/svg\" height=\"24px\"viewBox=\"0 0 24 24\"\n",
              "       width=\"24px\">\n",
              "    <path d=\"M0 0h24v24H0V0z\" fill=\"none\"/>\n",
              "    <path d=\"M18.56 5.44l.94 2.06.94-2.06 2.06-.94-2.06-.94-.94-2.06-.94 2.06-2.06.94zm-11 1L8.5 8.5l.94-2.06 2.06-.94-2.06-.94L8.5 2.5l-.94 2.06-2.06.94zm10 10l.94 2.06.94-2.06 2.06-.94-2.06-.94-.94-2.06-.94 2.06-2.06.94z\"/><path d=\"M17.41 7.96l-1.37-1.37c-.4-.4-.92-.59-1.43-.59-.52 0-1.04.2-1.43.59L10.3 9.45l-7.72 7.72c-.78.78-.78 2.05 0 2.83L4 21.41c.39.39.9.59 1.41.59.51 0 1.02-.2 1.41-.59l7.78-7.78 2.81-2.81c.8-.78.8-2.07 0-2.86zM5.41 20L4 18.59l7.72-7.72 1.47 1.35L5.41 20z\"/>\n",
              "  </svg>\n",
              "      </button>\n",
              "      \n",
              "  <style>\n",
              "    .colab-df-container {\n",
              "      display:flex;\n",
              "      flex-wrap:wrap;\n",
              "      gap: 12px;\n",
              "    }\n",
              "\n",
              "    .colab-df-convert {\n",
              "      background-color: #E8F0FE;\n",
              "      border: none;\n",
              "      border-radius: 50%;\n",
              "      cursor: pointer;\n",
              "      display: none;\n",
              "      fill: #1967D2;\n",
              "      height: 32px;\n",
              "      padding: 0 0 0 0;\n",
              "      width: 32px;\n",
              "    }\n",
              "\n",
              "    .colab-df-convert:hover {\n",
              "      background-color: #E2EBFA;\n",
              "      box-shadow: 0px 1px 2px rgba(60, 64, 67, 0.3), 0px 1px 3px 1px rgba(60, 64, 67, 0.15);\n",
              "      fill: #174EA6;\n",
              "    }\n",
              "\n",
              "    [theme=dark] .colab-df-convert {\n",
              "      background-color: #3B4455;\n",
              "      fill: #D2E3FC;\n",
              "    }\n",
              "\n",
              "    [theme=dark] .colab-df-convert:hover {\n",
              "      background-color: #434B5C;\n",
              "      box-shadow: 0px 1px 3px 1px rgba(0, 0, 0, 0.15);\n",
              "      filter: drop-shadow(0px 1px 2px rgba(0, 0, 0, 0.3));\n",
              "      fill: #FFFFFF;\n",
              "    }\n",
              "  </style>\n",
              "\n",
              "      <script>\n",
              "        const buttonEl =\n",
              "          document.querySelector('#df-c06c115a-d672-46a6-a8c5-bb64804f5b70 button.colab-df-convert');\n",
              "        buttonEl.style.display =\n",
              "          google.colab.kernel.accessAllowed ? 'block' : 'none';\n",
              "\n",
              "        async function convertToInteractive(key) {\n",
              "          const element = document.querySelector('#df-c06c115a-d672-46a6-a8c5-bb64804f5b70');\n",
              "          const dataTable =\n",
              "            await google.colab.kernel.invokeFunction('convertToInteractive',\n",
              "                                                     [key], {});\n",
              "          if (!dataTable) return;\n",
              "\n",
              "          const docLinkHtml = 'Like what you see? Visit the ' +\n",
              "            '<a target=\"_blank\" href=https://colab.research.google.com/notebooks/data_table.ipynb>data table notebook</a>'\n",
              "            + ' to learn more about interactive tables.';\n",
              "          element.innerHTML = '';\n",
              "          dataTable['output_type'] = 'display_data';\n",
              "          await google.colab.output.renderOutput(dataTable, element);\n",
              "          const docLink = document.createElement('div');\n",
              "          docLink.innerHTML = docLinkHtml;\n",
              "          element.appendChild(docLink);\n",
              "        }\n",
              "      </script>\n",
              "    </div>\n",
              "  </div>\n",
              "  "
            ]
          },
          "metadata": {},
          "execution_count": 154
        }
      ]
    },
    {
      "cell_type": "markdown",
      "source": [
        "Split Data into Training and Test set. 80& and 20% respectively.\n",
        "\n"
      ],
      "metadata": {
        "id": "o41Bp0esTjiO"
      }
    },
    {
      "cell_type": "code",
      "source": [
        "train_dataset = df.sample(frac=0.8, random_state=0)\n",
        "test_dataset = df.drop(train_dataset.index)"
      ],
      "metadata": {
        "id": "IkuDo0V2ouIR"
      },
      "execution_count": 155,
      "outputs": []
    },
    {
      "cell_type": "markdown",
      "source": [
        "Inspect the training data"
      ],
      "metadata": {
        "id": "hV66d43BkV5R"
      }
    },
    {
      "cell_type": "code",
      "source": [
        "sns.pairplot(train_dataset[[\"TOTAL_MINERAL_RESOURCES (Mt)\",\"TOTAL_MINERAL_RESOURCES_AVG_GRADE_(g/t)\", \"RES_CON_(Kg)\",\"RV_QTY_G_(g/t)\",\"RV_CON_(Kg)\",\"Gold_Value\", \"POINT_SIZE (Kg)\", \"RV_QTY_(Mt)\"]], diag_kind = \"kde\")"
      ],
      "metadata": {
        "id": "3ZJXYRXCikpC",
        "outputId": "7cc87865-3afb-4ae0-9d9c-814d7a5ace82",
        "colab": {
          "base_uri": "https://localhost:8080/",
          "height": 1000
        }
      },
      "execution_count": 156,
      "outputs": [
        {
          "output_type": "execute_result",
          "data": {
            "text/plain": [
              "<seaborn.axisgrid.PairGrid at 0x7f710713a410>"
            ]
          },
          "metadata": {},
          "execution_count": 156
        },
        {
          "output_type": "display_data",
          "data": {
            "text/plain": [
              "<Figure size 1440x1440 with 72 Axes>"
            ],
            "image/png": "[encoded data removed]"
          },
          "metadata": {
            "needs_background": "light"
          }
        }
      ]
    },
    {
      "cell_type": "markdown",
      "source": [
        "Observe Overall statistics"
      ],
      "metadata": {
        "id": "3larf611klbm"
      }
    },
    {
      "cell_type": "code",
      "source": [
        "train_dataset.describe().transpose()"
      ],
      "metadata": {
        "id": "FuRBhtHpkk55",
        "outputId": "8032900b-b099-46f7-d8b7-5a4d2dde19bd",
        "colab": {
          "base_uri": "https://localhost:8080/",
          "height": 344
        }
      },
      "execution_count": 157,
      "outputs": [
        {
          "output_type": "execute_result",
          "data": {
            "text/plain": [
              "                                         count          mean           std  \\\n",
              "TOTAL_MINERAL_RESOURCES (Mt)             211.0     12.358104     41.887437   \n",
              "TOTAL_MINERAL_RESOURCES_AVG_GRADE_(g/t)  211.0      3.349571      4.162762   \n",
              "RES_CON_(Kg)                             211.0  22992.501282  69090.705401   \n",
              "RV_QTY_G_(g/t)                           211.0      2.886643      2.322072   \n",
              "RV_CON_(Kg)                              211.0  11794.033969  29391.620346   \n",
              "POINT_SIZE (Kg)                          211.0  28733.804828  96249.729385   \n",
              "Gold_Value                               211.0   1665.530332     24.132464   \n",
              "RV_QTY_(Mt)                              211.0     19.847207     23.892235   \n",
              "\n",
              "                                              min          25%        50%  \\\n",
              "TOTAL_MINERAL_RESOURCES (Mt)                0.003     0.228500     1.2960   \n",
              "TOTAL_MINERAL_RESOURCES_AVG_GRADE_(g/t)     0.500     1.526122     2.1000   \n",
              "RES_CON_(Kg)                                5.000   660.966000  2745.0000   \n",
              "RV_QTY_G_(g/t)                              0.110     1.618098     2.4700   \n",
              "RV_CON_(Kg)                                 2.384   343.770000  2857.2200   \n",
              "POINT_SIZE (Kg)                             5.000   614.750000  2636.0800   \n",
              "Gold_Value                               1627.500  1648.700000  1662.4000   \n",
              "RV_QTY_(Mt)                                 0.103     2.732500    14.6281   \n",
              "\n",
              "                                                  75%          max  \n",
              "TOTAL_MINERAL_RESOURCES (Mt)                 7.142573      545.967  \n",
              "TOTAL_MINERAL_RESOURCES_AVG_GRADE_(g/t)      3.270000       40.000  \n",
              "RES_CON_(Kg)                             13934.000000   850453.800  \n",
              "RV_QTY_G_(g/t)                               3.312575       15.000  \n",
              "RV_CON_(Kg)                              12397.500000   359820.700  \n",
              "POINT_SIZE (Kg)                          14316.814000  1210274.500  \n",
              "Gold_Value                                1670.300000     1721.100  \n",
              "RV_QTY_(Mt)                                 34.541743      280.850  "
            ],
            "text/html": [
              "\n",
              "  <div id=\"df-7cf2eae6-58d1-4cdf-a8b6-8ba26ec7d632\">\n",
              "    <div class=\"colab-df-container\">\n",
              "      <div>\n",
              "<style scoped>\n",
              "    .dataframe tbody tr th:only-of-type {\n",
              "        vertical-align: middle;\n",
              "    }\n",
              "\n",
              "    .dataframe tbody tr th {\n",
              "        vertical-align: top;\n",
              "    }\n",
              "\n",
              "    .dataframe thead th {\n",
              "        text-align: right;\n",
              "    }\n",
              "</style>\n",
              "<table border=\"1\" class=\"dataframe\">\n",
              "  <thead>\n",
              "    <tr style=\"text-align: right;\">\n",
              "      <th></th>\n",
              "      <th>count</th>\n",
              "      <th>mean</th>\n",
              "      <th>std</th>\n",
              "      <th>min</th>\n",
              "      <th>25%</th>\n",
              "      <th>50%</th>\n",
              "      <th>75%</th>\n",
              "      <th>max</th>\n",
              "    </tr>\n",
              "  </thead>\n",
              "  <tbody>\n",
              "    <tr>\n",
              "      <th>TOTAL_MINERAL_RESOURCES (Mt)</th>\n",
              "      <td>211.0</td>\n",
              "      <td>12.358104</td>\n",
              "      <td>41.887437</td>\n",
              "      <td>0.003</td>\n",
              "      <td>0.228500</td>\n",
              "      <td>1.2960</td>\n",
              "      <td>7.142573</td>\n",
              "      <td>545.967</td>\n",
              "    </tr>\n",
              "    <tr>\n",
              "      <th>TOTAL_MINERAL_RESOURCES_AVG_GRADE_(g/t)</th>\n",
              "      <td>211.0</td>\n",
              "      <td>3.349571</td>\n",
              "      <td>4.162762</td>\n",
              "      <td>0.500</td>\n",
              "      <td>1.526122</td>\n",
              "      <td>2.1000</td>\n",
              "      <td>3.270000</td>\n",
              "      <td>40.000</td>\n",
              "    </tr>\n",
              "    <tr>\n",
              "      <th>RES_CON_(Kg)</th>\n",
              "      <td>211.0</td>\n",
              "      <td>22992.501282</td>\n",
              "      <td>69090.705401</td>\n",
              "      <td>5.000</td>\n",
              "      <td>660.966000</td>\n",
              "      <td>2745.0000</td>\n",
              "      <td>13934.000000</td>\n",
              "      <td>850453.800</td>\n",
              "    </tr>\n",
              "    <tr>\n",
              "      <th>RV_QTY_G_(g/t)</th>\n",
              "      <td>211.0</td>\n",
              "      <td>2.886643</td>\n",
              "      <td>2.322072</td>\n",
              "      <td>0.110</td>\n",
              "      <td>1.618098</td>\n",
              "      <td>2.4700</td>\n",
              "      <td>3.312575</td>\n",
              "      <td>15.000</td>\n",
              "    </tr>\n",
              "    <tr>\n",
              "      <th>RV_CON_(Kg)</th>\n",
              "      <td>211.0</td>\n",
              "      <td>11794.033969</td>\n",
              "      <td>29391.620346</td>\n",
              "      <td>2.384</td>\n",
              "      <td>343.770000</td>\n",
              "      <td>2857.2200</td>\n",
              "      <td>12397.500000</td>\n",
              "      <td>359820.700</td>\n",
              "    </tr>\n",
              "    <tr>\n",
              "      <th>POINT_SIZE (Kg)</th>\n",
              "      <td>211.0</td>\n",
              "      <td>28733.804828</td>\n",
              "      <td>96249.729385</td>\n",
              "      <td>5.000</td>\n",
              "      <td>614.750000</td>\n",
              "      <td>2636.0800</td>\n",
              "      <td>14316.814000</td>\n",
              "      <td>1210274.500</td>\n",
              "    </tr>\n",
              "    <tr>\n",
              "      <th>Gold_Value</th>\n",
              "      <td>211.0</td>\n",
              "      <td>1665.530332</td>\n",
              "      <td>24.132464</td>\n",
              "      <td>1627.500</td>\n",
              "      <td>1648.700000</td>\n",
              "      <td>1662.4000</td>\n",
              "      <td>1670.300000</td>\n",
              "      <td>1721.100</td>\n",
              "    </tr>\n",
              "    <tr>\n",
              "      <th>RV_QTY_(Mt)</th>\n",
              "      <td>211.0</td>\n",
              "      <td>19.847207</td>\n",
              "      <td>23.892235</td>\n",
              "      <td>0.103</td>\n",
              "      <td>2.732500</td>\n",
              "      <td>14.6281</td>\n",
              "      <td>34.541743</td>\n",
              "      <td>280.850</td>\n",
              "    </tr>\n",
              "  </tbody>\n",
              "</table>\n",
              "</div>\n",
              "      <button class=\"colab-df-convert\" onclick=\"convertToInteractive('df-7cf2eae6-58d1-4cdf-a8b6-8ba26ec7d632')\"\n",
              "              title=\"Convert this dataframe to an interactive table.\"\n",
              "              style=\"display:none;\">\n",
              "        \n",
              "  <svg xmlns=\"http://www.w3.org/2000/svg\" height=\"24px\"viewBox=\"0 0 24 24\"\n",
              "       width=\"24px\">\n",
              "    <path d=\"M0 0h24v24H0V0z\" fill=\"none\"/>\n",
              "    <path d=\"M18.56 5.44l.94 2.06.94-2.06 2.06-.94-2.06-.94-.94-2.06-.94 2.06-2.06.94zm-11 1L8.5 8.5l.94-2.06 2.06-.94-2.06-.94L8.5 2.5l-.94 2.06-2.06.94zm10 10l.94 2.06.94-2.06 2.06-.94-2.06-.94-.94-2.06-.94 2.06-2.06.94z\"/><path d=\"M17.41 7.96l-1.37-1.37c-.4-.4-.92-.59-1.43-.59-.52 0-1.04.2-1.43.59L10.3 9.45l-7.72 7.72c-.78.78-.78 2.05 0 2.83L4 21.41c.39.39.9.59 1.41.59.51 0 1.02-.2 1.41-.59l7.78-7.78 2.81-2.81c.8-.78.8-2.07 0-2.86zM5.41 20L4 18.59l7.72-7.72 1.47 1.35L5.41 20z\"/>\n",
              "  </svg>\n",
              "      </button>\n",
              "      \n",
              "  <style>\n",
              "    .colab-df-container {\n",
              "      display:flex;\n",
              "      flex-wrap:wrap;\n",
              "      gap: 12px;\n",
              "    }\n",
              "\n",
              "    .colab-df-convert {\n",
              "      background-color: #E8F0FE;\n",
              "      border: none;\n",
              "      border-radius: 50%;\n",
              "      cursor: pointer;\n",
              "      display: none;\n",
              "      fill: #1967D2;\n",
              "      height: 32px;\n",
              "      padding: 0 0 0 0;\n",
              "      width: 32px;\n",
              "    }\n",
              "\n",
              "    .colab-df-convert:hover {\n",
              "      background-color: #E2EBFA;\n",
              "      box-shadow: 0px 1px 2px rgba(60, 64, 67, 0.3), 0px 1px 3px 1px rgba(60, 64, 67, 0.15);\n",
              "      fill: #174EA6;\n",
              "    }\n",
              "\n",
              "    [theme=dark] .colab-df-convert {\n",
              "      background-color: #3B4455;\n",
              "      fill: #D2E3FC;\n",
              "    }\n",
              "\n",
              "    [theme=dark] .colab-df-convert:hover {\n",
              "      background-color: #434B5C;\n",
              "      box-shadow: 0px 1px 3px 1px rgba(0, 0, 0, 0.15);\n",
              "      filter: drop-shadow(0px 1px 2px rgba(0, 0, 0, 0.3));\n",
              "      fill: #FFFFFF;\n",
              "    }\n",
              "  </style>\n",
              "\n",
              "      <script>\n",
              "        const buttonEl =\n",
              "          document.querySelector('#df-7cf2eae6-58d1-4cdf-a8b6-8ba26ec7d632 button.colab-df-convert');\n",
              "        buttonEl.style.display =\n",
              "          google.colab.kernel.accessAllowed ? 'block' : 'none';\n",
              "\n",
              "        async function convertToInteractive(key) {\n",
              "          const element = document.querySelector('#df-7cf2eae6-58d1-4cdf-a8b6-8ba26ec7d632');\n",
              "          const dataTable =\n",
              "            await google.colab.kernel.invokeFunction('convertToInteractive',\n",
              "                                                     [key], {});\n",
              "          if (!dataTable) return;\n",
              "\n",
              "          const docLinkHtml = 'Like what you see? Visit the ' +\n",
              "            '<a target=\"_blank\" href=https://colab.research.google.com/notebooks/data_table.ipynb>data table notebook</a>'\n",
              "            + ' to learn more about interactive tables.';\n",
              "          element.innerHTML = '';\n",
              "          dataTable['output_type'] = 'display_data';\n",
              "          await google.colab.output.renderOutput(dataTable, element);\n",
              "          const docLink = document.createElement('div');\n",
              "          docLink.innerHTML = docLinkHtml;\n",
              "          element.appendChild(docLink);\n",
              "        }\n",
              "      </script>\n",
              "    </div>\n",
              "  </div>\n",
              "  "
            ]
          },
          "metadata": {},
          "execution_count": 157
        }
      ]
    },
    {
      "cell_type": "markdown",
      "source": [
        "Split the features from the variable we are going to predict RV_QTY_(Mt)"
      ],
      "metadata": {
        "id": "x-YFcSLzk1Sp"
      }
    },
    {
      "cell_type": "code",
      "source": [
        "train_features = train_dataset.copy()\n",
        "test_features = test_dataset.copy()\n",
        "\n",
        "train_labels = train_features.pop(\"RV_QTY_(Mt)\")\n",
        "test_labels = test_features.pop(\"RV_QTY_(Mt)\")"
      ],
      "metadata": {
        "id": "Hhc9DDgdlCnT"
      },
      "execution_count": 158,
      "outputs": []
    },
    {
      "cell_type": "markdown",
      "source": [
        "By observing the train data statistics it is clear to see that different the varaibles are. Hence we will Normalize the data."
      ],
      "metadata": {
        "id": "Zt5eSY2NlRDu"
      }
    },
    {
      "cell_type": "code",
      "source": [
        "train_dataset.describe().transpose()[['mean', 'std']]"
      ],
      "metadata": {
        "id": "LLnR9Uwtlb98",
        "outputId": "924ba6a3-36d9-4665-b642-22707b58cbde",
        "colab": {
          "base_uri": "https://localhost:8080/",
          "height": 300
        }
      },
      "execution_count": 160,
      "outputs": [
        {
          "output_type": "execute_result",
          "data": {
            "text/plain": [
              "                                                 mean           std\n",
              "TOTAL_MINERAL_RESOURCES (Mt)                12.358104     41.887437\n",
              "TOTAL_MINERAL_RESOURCES_AVG_GRADE_(g/t)      3.349571      4.162762\n",
              "RES_CON_(Kg)                             22992.501282  69090.705401\n",
              "RV_QTY_G_(g/t)                               2.886643      2.322072\n",
              "RV_CON_(Kg)                              11794.033969  29391.620346\n",
              "POINT_SIZE (Kg)                          28733.804828  96249.729385\n",
              "Gold_Value                                1665.530332     24.132464\n",
              "RV_QTY_(Mt)                                 19.847207     23.892235"
            ],
            "text/html": [
              "\n",
              "  <div id=\"df-c5c601ae-9f5d-4625-b56c-a5b843f05591\">\n",
              "    <div class=\"colab-df-container\">\n",
              "      <div>\n",
              "<style scoped>\n",
              "    .dataframe tbody tr th:only-of-type {\n",
              "        vertical-align: middle;\n",
              "    }\n",
              "\n",
              "    .dataframe tbody tr th {\n",
              "        vertical-align: top;\n",
              "    }\n",
              "\n",
              "    .dataframe thead th {\n",
              "        text-align: right;\n",
              "    }\n",
              "</style>\n",
              "<table border=\"1\" class=\"dataframe\">\n",
              "  <thead>\n",
              "    <tr style=\"text-align: right;\">\n",
              "      <th></th>\n",
              "      <th>mean</th>\n",
              "      <th>std</th>\n",
              "    </tr>\n",
              "  </thead>\n",
              "  <tbody>\n",
              "    <tr>\n",
              "      <th>TOTAL_MINERAL_RESOURCES (Mt)</th>\n",
              "      <td>12.358104</td>\n",
              "      <td>41.887437</td>\n",
              "    </tr>\n",
              "    <tr>\n",
              "      <th>TOTAL_MINERAL_RESOURCES_AVG_GRADE_(g/t)</th>\n",
              "      <td>3.349571</td>\n",
              "      <td>4.162762</td>\n",
              "    </tr>\n",
              "    <tr>\n",
              "      <th>RES_CON_(Kg)</th>\n",
              "      <td>22992.501282</td>\n",
              "      <td>69090.705401</td>\n",
              "    </tr>\n",
              "    <tr>\n",
              "      <th>RV_QTY_G_(g/t)</th>\n",
              "      <td>2.886643</td>\n",
              "      <td>2.322072</td>\n",
              "    </tr>\n",
              "    <tr>\n",
              "      <th>RV_CON_(Kg)</th>\n",
              "      <td>11794.033969</td>\n",
              "      <td>29391.620346</td>\n",
              "    </tr>\n",
              "    <tr>\n",
              "      <th>POINT_SIZE (Kg)</th>\n",
              "      <td>28733.804828</td>\n",
              "      <td>96249.729385</td>\n",
              "    </tr>\n",
              "    <tr>\n",
              "      <th>Gold_Value</th>\n",
              "      <td>1665.530332</td>\n",
              "      <td>24.132464</td>\n",
              "    </tr>\n",
              "    <tr>\n",
              "      <th>RV_QTY_(Mt)</th>\n",
              "      <td>19.847207</td>\n",
              "      <td>23.892235</td>\n",
              "    </tr>\n",
              "  </tbody>\n",
              "</table>\n",
              "</div>\n",
              "      <button class=\"colab-df-convert\" onclick=\"convertToInteractive('df-c5c601ae-9f5d-4625-b56c-a5b843f05591')\"\n",
              "              title=\"Convert this dataframe to an interactive table.\"\n",
              "              style=\"display:none;\">\n",
              "        \n",
              "  <svg xmlns=\"http://www.w3.org/2000/svg\" height=\"24px\"viewBox=\"0 0 24 24\"\n",
              "       width=\"24px\">\n",
              "    <path d=\"M0 0h24v24H0V0z\" fill=\"none\"/>\n",
              "    <path d=\"M18.56 5.44l.94 2.06.94-2.06 2.06-.94-2.06-.94-.94-2.06-.94 2.06-2.06.94zm-11 1L8.5 8.5l.94-2.06 2.06-.94-2.06-.94L8.5 2.5l-.94 2.06-2.06.94zm10 10l.94 2.06.94-2.06 2.06-.94-2.06-.94-.94-2.06-.94 2.06-2.06.94z\"/><path d=\"M17.41 7.96l-1.37-1.37c-.4-.4-.92-.59-1.43-.59-.52 0-1.04.2-1.43.59L10.3 9.45l-7.72 7.72c-.78.78-.78 2.05 0 2.83L4 21.41c.39.39.9.59 1.41.59.51 0 1.02-.2 1.41-.59l7.78-7.78 2.81-2.81c.8-.78.8-2.07 0-2.86zM5.41 20L4 18.59l7.72-7.72 1.47 1.35L5.41 20z\"/>\n",
              "  </svg>\n",
              "      </button>\n",
              "      \n",
              "  <style>\n",
              "    .colab-df-container {\n",
              "      display:flex;\n",
              "      flex-wrap:wrap;\n",
              "      gap: 12px;\n",
              "    }\n",
              "\n",
              "    .colab-df-convert {\n",
              "      background-color: #E8F0FE;\n",
              "      border: none;\n",
              "      border-radius: 50%;\n",
              "      cursor: pointer;\n",
              "      display: none;\n",
              "      fill: #1967D2;\n",
              "      height: 32px;\n",
              "      padding: 0 0 0 0;\n",
              "      width: 32px;\n",
              "    }\n",
              "\n",
              "    .colab-df-convert:hover {\n",
              "      background-color: #E2EBFA;\n",
              "      box-shadow: 0px 1px 2px rgba(60, 64, 67, 0.3), 0px 1px 3px 1px rgba(60, 64, 67, 0.15);\n",
              "      fill: #174EA6;\n",
              "    }\n",
              "\n",
              "    [theme=dark] .colab-df-convert {\n",
              "      background-color: #3B4455;\n",
              "      fill: #D2E3FC;\n",
              "    }\n",
              "\n",
              "    [theme=dark] .colab-df-convert:hover {\n",
              "      background-color: #434B5C;\n",
              "      box-shadow: 0px 1px 3px 1px rgba(0, 0, 0, 0.15);\n",
              "      filter: drop-shadow(0px 1px 2px rgba(0, 0, 0, 0.3));\n",
              "      fill: #FFFFFF;\n",
              "    }\n",
              "  </style>\n",
              "\n",
              "      <script>\n",
              "        const buttonEl =\n",
              "          document.querySelector('#df-c5c601ae-9f5d-4625-b56c-a5b843f05591 button.colab-df-convert');\n",
              "        buttonEl.style.display =\n",
              "          google.colab.kernel.accessAllowed ? 'block' : 'none';\n",
              "\n",
              "        async function convertToInteractive(key) {\n",
              "          const element = document.querySelector('#df-c5c601ae-9f5d-4625-b56c-a5b843f05591');\n",
              "          const dataTable =\n",
              "            await google.colab.kernel.invokeFunction('convertToInteractive',\n",
              "                                                     [key], {});\n",
              "          if (!dataTable) return;\n",
              "\n",
              "          const docLinkHtml = 'Like what you see? Visit the ' +\n",
              "            '<a target=\"_blank\" href=https://colab.research.google.com/notebooks/data_table.ipynb>data table notebook</a>'\n",
              "            + ' to learn more about interactive tables.';\n",
              "          element.innerHTML = '';\n",
              "          dataTable['output_type'] = 'display_data';\n",
              "          await google.colab.output.renderOutput(dataTable, element);\n",
              "          const docLink = document.createElement('div');\n",
              "          docLink.innerHTML = docLinkHtml;\n",
              "          element.appendChild(docLink);\n",
              "        }\n",
              "      </script>\n",
              "    </div>\n",
              "  </div>\n",
              "  "
            ]
          },
          "metadata": {},
          "execution_count": 160
        }
      ]
    },
    {
      "cell_type": "markdown",
      "source": [
        "Normalization through the tf.keras.layers.Normalization package simply. Consequently fit layer by calling Normalization.adapt"
      ],
      "metadata": {
        "id": "0eop54cFlng0"
      }
    },
    {
      "cell_type": "code",
      "source": [
        "normalizer = tf.keras.layers.Normalization(axis=-1)\n"
      ],
      "metadata": {
        "id": "_0qk9IHSlyhv"
      },
      "execution_count": 70,
      "outputs": []
    },
    {
      "cell_type": "code",
      "source": [
        "normalizer.adapt(np.array(train_features))"
      ],
      "metadata": {
        "id": "giNCd8h6mFln"
      },
      "execution_count": 161,
      "outputs": []
    },
    {
      "cell_type": "code",
      "source": [
        "print(normalizer.mean.numpy())"
      ],
      "metadata": {
        "id": "LP2eLkm6uJ28",
        "outputId": "b3db753a-926b-4761-88b6-c899d4716f1a",
        "colab": {
          "base_uri": "https://localhost:8080/"
        }
      },
      "execution_count": 162,
      "outputs": [
        {
          "output_type": "stream",
          "name": "stdout",
          "text": [
            "[[1.2358102e+01 3.3495710e+00 2.2992502e+04 2.8866427e+00 1.1794033e+04\n",
            "  2.8733805e+04 1.6655302e+03]]\n"
          ]
        }
      ]
    },
    {
      "cell_type": "code",
      "source": [
        "first = np.array(train_features[:1])\n",
        "\n",
        "with np.printoptions(precision=2, suppress=True):\n",
        "  print('First example:', first)\n",
        "  print()\n",
        "  print('Normalized sample:', normalizer(first).numpy())"
      ],
      "metadata": {
        "id": "Grgw-AsUuN-1",
        "outputId": "c01adadd-30d5-4595-f699-0e8ce039f4f2",
        "colab": {
          "base_uri": "https://localhost:8080/"
        }
      },
      "execution_count": 165,
      "outputs": [
        {
          "output_type": "stream",
          "name": "stdout",
          "text": [
            "First example: [[   15.44     1.05 16170.4      3.28   526.61 16170.4   1641.7 ]]\n",
            "\n",
            "Normalized sample: [[ 0.07 -0.55 -0.1   0.17 -0.38 -0.13 -0.99]]\n"
          ]
        }
      ]
    },
    {
      "cell_type": "markdown",
      "source": [
        "Linear Regression with multiple inputs"
      ],
      "metadata": {
        "id": "I6tTzYFOudTq"
      }
    },
    {
      "cell_type": "code",
      "source": [
        "ML_Model = tf.keras.Sequential([\n",
        "    normalizer,\n",
        "    layers.Dense(units=1)\n",
        "])"
      ],
      "metadata": {
        "id": "IVXUduSguqrA"
      },
      "execution_count": 174,
      "outputs": []
    },
    {
      "cell_type": "code",
      "source": [
        "ML_Model.predict(train_features[:10])"
      ],
      "metadata": {
        "id": "HjctR1NDwojc"
      },
      "execution_count": null,
      "outputs": []
    },
    {
      "cell_type": "code",
      "source": [
        "ML_Model.layers[1].kernel\n"
      ],
      "metadata": {
        "id": "03RnNq_dwwZC",
        "outputId": "48a5d96f-2271-402f-a1e6-c70a583166e4",
        "colab": {
          "base_uri": "https://localhost:8080/"
        }
      },
      "execution_count": 177,
      "outputs": [
        {
          "output_type": "execute_result",
          "data": {
            "text/plain": [
              "<tf.Variable 'dense_8/kernel:0' shape=(7, 1) dtype=float32, numpy=\n",
              "array([[-0.76523924],\n",
              "       [ 0.37859637],\n",
              "       [-0.26431084],\n",
              "       [-0.55180466],\n",
              "       [ 0.705666  ],\n",
              "       [-0.41194734],\n",
              "       [-0.43066567]], dtype=float32)>"
            ]
          },
          "metadata": {},
          "execution_count": 177
        }
      ]
    },
    {
      "cell_type": "code",
      "source": [
        "ML_Model.compile(\n",
        "    optimizer=tf.keras.optimizers.Adam(learning_rate=0.1),\n",
        "    loss='mean_absolute_error')"
      ],
      "metadata": {
        "id": "NKZlfVr8w1le"
      },
      "execution_count": 178,
      "outputs": []
    },
    {
      "cell_type": "code",
      "source": [
        "%%time\n",
        "history = ML_Model.fit(\n",
        "    train_features,\n",
        "    train_labels,\n",
        "    epochs=200,\n",
        "    # Suppress logging.\n",
        "    verbose=0,\n",
        "    # Calculate validation results on 20% of the training data.\n",
        "    validation_split = 0.25)"
      ],
      "metadata": {
        "id": "IqtKOtopw5Qr",
        "outputId": "b5f0188a-0666-4fda-bf67-535a1e071b98",
        "colab": {
          "base_uri": "https://localhost:8080/"
        }
      },
      "execution_count": 180,
      "outputs": [
        {
          "output_type": "stream",
          "name": "stdout",
          "text": [
            "CPU times: user 6.02 s, sys: 266 ms, total: 6.29 s\n",
            "Wall time: 10.3 s\n"
          ]
        }
      ]
    },
    {
      "cell_type": "code",
      "source": [
        "def plot_loss(history):\n",
        "  plt.plot(history.history['loss'], label='loss')\n",
        "  plt.plot(history.history['val_loss'], label='val_loss')\n",
        "  plt.ylim([0, 10])\n",
        "  plt.xlabel('Epoch')\n",
        "  plt.ylabel('Error [RV_QTY_(Mt)]')\n",
        "  plt.legend()\n",
        "  plt.grid(True)\n",
        "\n",
        "  "
      ],
      "metadata": {
        "id": "aalR1o_3xOM_"
      },
      "execution_count": 183,
      "outputs": []
    },
    {
      "cell_type": "code",
      "source": [
        " plot_loss(history)"
      ],
      "metadata": {
        "id": "rWO4NKz9xjou"
      },
      "execution_count": null,
      "outputs": []
    },
    {
      "cell_type": "markdown",
      "source": [
        "Create Correlation plot between the variables "
      ],
      "metadata": {
        "id": "gc2EzWsETqMc"
      }
    },
    {
      "cell_type": "code",
      "source": [
        "sns.pairplot(X_train[[\"TOTAL_MINERAL_RESOURCES (Mt)\",\"TOTAL_MINERAL_RESOURCES_AVG_GRADE_(g/t)\", \"RES_CON_(Kg)\",\"RV_QTY_G_(g/t)\",\"RV_CON_(Kg)\",\"Gold_Value\", \"POINT_SIZE (Kg)\", \"RV_QTY_(Mt)\"]], diag_kind = \"kde\")"
      ],
      "metadata": {
        "colab": {
          "base_uri": "https://localhost:8080/",
          "height": 238
        },
        "id": "PjWH81krr3Ms",
        "outputId": "e9d07520-1236-4d01-c43a-ba923937d551"
      },
      "execution_count": 119,
      "outputs": [
        {
          "output_type": "stream",
          "name": "stderr",
          "text": [
            "/usr/local/lib/python3.7/dist-packages/ipykernel_launcher.py:1: FutureWarning: Using a non-tuple sequence for multidimensional indexing is deprecated; use `arr[tuple(seq)]` instead of `arr[seq]`. In the future this will be interpreted as an array index, `arr[np.array(seq)]`, which will result either in an error or a different result.\n",
            "  \"\"\"Entry point for launching an IPython kernel.\n"
          ]
        },
        {
          "output_type": "error",
          "ename": "IndexError",
          "evalue": "ignored",
          "traceback": [
            "\u001b[0;31m---------------------------------------------------------------------------\u001b[0m",
            "\u001b[0;31mIndexError\u001b[0m                                Traceback (most recent call last)",
            "\u001b[0;32m<ipython-input-119-e40c8f52135d>\u001b[0m in \u001b[0;36m<module>\u001b[0;34m\u001b[0m\n\u001b[0;32m----> 1\u001b[0;31m \u001b[0msns\u001b[0m\u001b[0;34m.\u001b[0m\u001b[0mpairplot\u001b[0m\u001b[0;34m(\u001b[0m\u001b[0mX_train\u001b[0m\u001b[0;34m[\u001b[0m\u001b[0;34m[\u001b[0m\u001b[0;34m\"TOTAL_MINERAL_RESOURCES (Mt)\"\u001b[0m\u001b[0;34m,\u001b[0m\u001b[0;34m\"TOTAL_MINERAL_RESOURCES_AVG_GRADE_(g/t)\"\u001b[0m\u001b[0;34m,\u001b[0m \u001b[0;34m\"RES_CON_(Kg)\"\u001b[0m\u001b[0;34m,\u001b[0m\u001b[0;34m\"RV_QTY_G_(g/t)\"\u001b[0m\u001b[0;34m,\u001b[0m\u001b[0;34m\"RV_CON_(Kg)\"\u001b[0m\u001b[0;34m,\u001b[0m\u001b[0;34m\"Gold_Value\"\u001b[0m\u001b[0;34m,\u001b[0m \u001b[0;34m\"POINT_SIZE (Kg)\"\u001b[0m\u001b[0;34m,\u001b[0m \u001b[0;34m\"RV_QTY_(Mt)\"\u001b[0m\u001b[0;34m]\u001b[0m\u001b[0;34m]\u001b[0m\u001b[0;34m,\u001b[0m \u001b[0mdiag_kind\u001b[0m \u001b[0;34m=\u001b[0m \u001b[0;34m\"kde\"\u001b[0m\u001b[0;34m)\u001b[0m\u001b[0;34m\u001b[0m\u001b[0;34m\u001b[0m\u001b[0m\n\u001b[0m",
            "\u001b[0;31mIndexError\u001b[0m: only integers, slices (`:`), ellipsis (`...`), numpy.newaxis (`None`) and integer or boolean arrays are valid indices"
          ]
        }
      ]
    },
    {
      "cell_type": "markdown",
      "source": [
        "Build Neural Network Model "
      ],
      "metadata": {
        "id": "HxQ7RDBET4ma"
      }
    },
    {
      "cell_type": "code",
      "source": [
        "model = tf.keras.models.Sequential([\n",
        "                                    \n",
        "         tf.keras.layers.Dense(X.shape[1], activation='relu', input_dim = X.shape[1]),\n",
        "         tf.keras.layers.Dense(512,kernel_initializer='normal', activation='relu'),\n",
        "         tf.keras.layers.Dense(512,kernel_initializer='normal', activation='relu'),\n",
        "         tf.keras.layers.Dense(256,kernel_initializer='normal', activation='relu'),\n",
        "         tf.keras.layers.Dense(128,kernel_initializer='normal', activation='relu'),\n",
        "         tf.keras.layers.Dense(64,kernel_initializer='normal', activation='relu'),\n",
        "         tf.keras.layers.Dense(32,kernel_initializer='normal', activation='relu'),\n",
        "         tf.keras.layers.Dense(1,kernel_initializer='normal', activation='relu'),\n",
        "])"
      ],
      "metadata": {
        "id": "nPsC0kA1J-UR"
      },
      "execution_count": 21,
      "outputs": []
    },
    {
      "cell_type": "code",
      "source": [
        "X.shape[1]"
      ],
      "metadata": {
        "colab": {
          "base_uri": "https://localhost:8080/"
        },
        "id": "tmMSv41IS8Ot",
        "outputId": "c2b8da2e-f558-46e0-8028-d6d1f2961a02"
      },
      "execution_count": null,
      "outputs": [
        {
          "output_type": "execute_result",
          "data": {
            "text/plain": [
              "7"
            ]
          },
          "metadata": {},
          "execution_count": 38
        }
      ]
    },
    {
      "cell_type": "code",
      "source": [
        "model.compile(loss='mse', optimizer='adam', metrics=['mse','mae'])\n",
        "\n",
        "model.summary()"
      ],
      "metadata": {
        "colab": {
          "base_uri": "https://localhost:8080/"
        },
        "id": "iwwbllNUTBhs",
        "outputId": "ed60f868-7a86-40e1-c00c-f8ec46b4c62c"
      },
      "execution_count": null,
      "outputs": [
        {
          "output_type": "stream",
          "name": "stdout",
          "text": [
            "Model: \"sequential\"\n",
            "_________________________________________________________________\n",
            " Layer (type)                Output Shape              Param #   \n",
            "=================================================================\n",
            " dense (Dense)               (None, 7)                 56        \n",
            "                                                                 \n",
            " dense_1 (Dense)             (None, 512)               4096      \n",
            "                                                                 \n",
            " dense_2 (Dense)             (None, 512)               262656    \n",
            "                                                                 \n",
            " dense_3 (Dense)             (None, 256)               131328    \n",
            "                                                                 \n",
            " dense_4 (Dense)             (None, 128)               32896     \n",
            "                                                                 \n",
            " dense_5 (Dense)             (None, 64)                8256      \n",
            "                                                                 \n",
            " dense_6 (Dense)             (None, 32)                2080      \n",
            "                                                                 \n",
            " dense_7 (Dense)             (None, 1)                 33        \n",
            "                                                                 \n",
            "=================================================================\n",
            "Total params: 441,401\n",
            "Trainable params: 441,401\n",
            "Non-trainable params: 0\n",
            "_________________________________________________________________\n"
          ]
        }
      ]
    },
    {
      "cell_type": "code",
      "source": [
        "history = model.fit(X_train, y_train.to_numpy(), batch_size = 10, epochs = 40, verbose = 1)"
      ],
      "metadata": {
        "colab": {
          "base_uri": "https://localhost:8080/"
        },
        "id": "wDnPSH6wTIiB",
        "outputId": "61be7835-9795-4dc4-9381-105e969c219f"
      },
      "execution_count": null,
      "outputs": [
        {
          "output_type": "stream",
          "name": "stdout",
          "text": [
            "Epoch 1/40\n",
            "19/19 [==============================] - 0s 8ms/step - loss: 265.8478 - mse: 265.8478 - mae: 13.3576\n",
            "Epoch 2/40\n",
            "19/19 [==============================] - 0s 8ms/step - loss: 246.0865 - mse: 246.0865 - mae: 13.5344\n",
            "Epoch 3/40\n",
            "19/19 [==============================] - 0s 10ms/step - loss: 223.9640 - mse: 223.9640 - mae: 12.9479\n",
            "Epoch 4/40\n",
            "19/19 [==============================] - 0s 11ms/step - loss: 235.4281 - mse: 235.4281 - mae: 13.0601\n",
            "Epoch 5/40\n",
            "19/19 [==============================] - 0s 10ms/step - loss: 312.0942 - mse: 312.0942 - mae: 13.9449\n",
            "Epoch 6/40\n",
            "19/19 [==============================] - 0s 11ms/step - loss: 260.7637 - mse: 260.7637 - mae: 13.4615\n",
            "Epoch 7/40\n",
            "19/19 [==============================] - 0s 9ms/step - loss: 333.0559 - mse: 333.0560 - mae: 14.2062\n",
            "Epoch 8/40\n",
            "19/19 [==============================] - 0s 10ms/step - loss: 547.1686 - mse: 547.1686 - mae: 15.3092\n",
            "Epoch 9/40\n",
            "19/19 [==============================] - 0s 10ms/step - loss: 274.5325 - mse: 274.5325 - mae: 13.0812\n",
            "Epoch 10/40\n",
            "19/19 [==============================] - 0s 9ms/step - loss: 235.5323 - mse: 235.5323 - mae: 12.8732\n",
            "Epoch 11/40\n",
            "19/19 [==============================] - 0s 10ms/step - loss: 211.6468 - mse: 211.6468 - mae: 12.5745\n",
            "Epoch 12/40\n",
            "19/19 [==============================] - 0s 9ms/step - loss: 202.6572 - mse: 202.6572 - mae: 12.1805\n",
            "Epoch 13/40\n",
            "19/19 [==============================] - 0s 10ms/step - loss: 266.6491 - mse: 266.6491 - mae: 13.0115\n",
            "Epoch 14/40\n",
            "19/19 [==============================] - 0s 9ms/step - loss: 201.4187 - mse: 201.4187 - mae: 12.3743\n",
            "Epoch 15/40\n",
            "19/19 [==============================] - 0s 9ms/step - loss: 197.7153 - mse: 197.7153 - mae: 12.2042\n",
            "Epoch 16/40\n",
            "19/19 [==============================] - 0s 10ms/step - loss: 191.4889 - mse: 191.4889 - mae: 11.8189\n",
            "Epoch 17/40\n",
            "19/19 [==============================] - 0s 9ms/step - loss: 197.4795 - mse: 197.4795 - mae: 12.0379\n",
            "Epoch 18/40\n",
            "19/19 [==============================] - 0s 8ms/step - loss: 192.4545 - mse: 192.4545 - mae: 11.8123\n",
            "Epoch 19/40\n",
            "19/19 [==============================] - 0s 8ms/step - loss: 195.3989 - mse: 195.3989 - mae: 11.7108\n",
            "Epoch 20/40\n",
            "19/19 [==============================] - 0s 9ms/step - loss: 188.4619 - mse: 188.4619 - mae: 11.4224\n",
            "Epoch 21/40\n",
            "19/19 [==============================] - 0s 8ms/step - loss: 213.7943 - mse: 213.7943 - mae: 11.7323\n",
            "Epoch 22/40\n",
            "19/19 [==============================] - 0s 9ms/step - loss: 211.8861 - mse: 211.8861 - mae: 12.2119\n",
            "Epoch 23/40\n",
            "19/19 [==============================] - 0s 8ms/step - loss: 197.9076 - mse: 197.9076 - mae: 11.9122\n",
            "Epoch 24/40\n",
            "19/19 [==============================] - 0s 8ms/step - loss: 200.0403 - mse: 200.0403 - mae: 11.7468\n",
            "Epoch 25/40\n",
            "19/19 [==============================] - 0s 9ms/step - loss: 207.6686 - mse: 207.6686 - mae: 11.8796\n",
            "Epoch 26/40\n",
            "19/19 [==============================] - 0s 8ms/step - loss: 291.6245 - mse: 291.6245 - mae: 12.8465\n",
            "Epoch 27/40\n",
            "19/19 [==============================] - 0s 8ms/step - loss: 181.4032 - mse: 181.4032 - mae: 11.3544\n",
            "Epoch 28/40\n",
            "19/19 [==============================] - 0s 8ms/step - loss: 176.0699 - mse: 176.0699 - mae: 11.1416\n",
            "Epoch 29/40\n",
            "19/19 [==============================] - 0s 10ms/step - loss: 207.9350 - mse: 207.9350 - mae: 11.2491\n",
            "Epoch 30/40\n",
            "19/19 [==============================] - 0s 8ms/step - loss: 198.5183 - mse: 198.5183 - mae: 11.5126\n",
            "Epoch 31/40\n",
            "19/19 [==============================] - 0s 9ms/step - loss: 245.3474 - mse: 245.3474 - mae: 12.5094\n",
            "Epoch 32/40\n",
            "19/19 [==============================] - 0s 9ms/step - loss: 188.1503 - mse: 188.1503 - mae: 11.4671\n",
            "Epoch 33/40\n",
            "19/19 [==============================] - 0s 9ms/step - loss: 185.0094 - mse: 185.0094 - mae: 11.1989\n",
            "Epoch 34/40\n",
            "19/19 [==============================] - 0s 10ms/step - loss: 173.9982 - mse: 173.9982 - mae: 11.0465\n",
            "Epoch 35/40\n",
            "19/19 [==============================] - 0s 10ms/step - loss: 178.7109 - mse: 178.7109 - mae: 10.9228\n",
            "Epoch 36/40\n",
            "19/19 [==============================] - 0s 8ms/step - loss: 192.2708 - mse: 192.2708 - mae: 11.5063\n",
            "Epoch 37/40\n",
            "19/19 [==============================] - 0s 8ms/step - loss: 196.6290 - mse: 196.6290 - mae: 11.2862\n",
            "Epoch 38/40\n",
            "19/19 [==============================] - 0s 8ms/step - loss: 191.9413 - mse: 191.9413 - mae: 11.2843\n",
            "Epoch 39/40\n",
            "19/19 [==============================] - 0s 8ms/step - loss: 276.5775 - mse: 276.5775 - mae: 12.6024\n",
            "Epoch 40/40\n",
            "19/19 [==============================] - 0s 8ms/step - loss: 206.4816 - mse: 206.4816 - mae: 11.7523\n"
          ]
        }
      ]
    },
    {
      "cell_type": "code",
      "source": [
        " y_pred = model.predict(X_test)"
      ],
      "metadata": {
        "colab": {
          "base_uri": "https://localhost:8080/"
        },
        "id": "FKXn7qtPTRdJ",
        "outputId": "851c1449-1dda-49b2-c397-1495f2ebf180"
      },
      "execution_count": null,
      "outputs": [
        {
          "output_type": "stream",
          "name": "stdout",
          "text": [
            "3/3 [==============================] - 0s 6ms/step\n"
          ]
        }
      ]
    },
    {
      "cell_type": "code",
      "source": [
        "y_pred.shape"
      ],
      "metadata": {
        "id": "dZfC3dNPZGfo",
        "outputId": "473e386a-37d2-4931-e75d-7e757694be20",
        "colab": {
          "base_uri": "https://localhost:8080/"
        }
      },
      "execution_count": null,
      "outputs": [
        {
          "output_type": "execute_result",
          "data": {
            "text/plain": [
              "(80, 1)"
            ]
          },
          "metadata": {},
          "execution_count": 69
        }
      ]
    },
    {
      "cell_type": "code",
      "source": [
        "y_test.shape"
      ],
      "metadata": {
        "id": "tF7Gs6E6ZVpy",
        "outputId": "10841553-07ca-4e51-ca6e-2e7eecf33010",
        "colab": {
          "base_uri": "https://localhost:8080/"
        }
      },
      "execution_count": null,
      "outputs": [
        {
          "output_type": "execute_result",
          "data": {
            "text/plain": [
              "(80, 1)"
            ]
          },
          "metadata": {},
          "execution_count": 70
        }
      ]
    },
    {
      "cell_type": "code",
      "source": [
        "a = plt.axes(aspect='equal')\n",
        "plt.scatter(y_pred, y_test)\n",
        "plt.xlabel('True values of Mineral Reserve')\n",
        "plt.ylabel('Prediction Values')\n",
        "lims = [0, 50]\n",
        "plt.xlim(lims)\n",
        "plt.ylim(lims)\n",
        "_ = plt.plot(lims, lims)"
      ],
      "metadata": {
        "id": "TzaY_sW5b88C",
        "outputId": "24141407-c217-4368-a58e-0ac5697ca098",
        "colab": {
          "base_uri": "https://localhost:8080/",
          "height": 283
        }
      },
      "execution_count": null,
      "outputs": [
        {
          "output_type": "display_data",
          "data": {
            "text/plain": [
              "<Figure size 432x288 with 1 Axes>"
            ],
            "image/png": "[encoded data removed]"
          },
          "metadata": {
            "needs_background": "light"
          }
        }
      ]
    },
    {
      "cell_type": "code",
      "source": [
        "model.evaluate(X_test)"
      ],
      "metadata": {
        "colab": {
          "base_uri": "https://localhost:8080/"
        },
        "id": "0GTCvNVaTjIn",
        "outputId": "67368957-b7e1-479a-f1b9-b5baf16efb2c"
      },
      "execution_count": null,
      "outputs": [
        {
          "output_type": "stream",
          "name": "stdout",
          "text": [
            "3/3 [==============================] - 0s 4ms/step - loss: 0.0000e+00 - mse: 0.0000e+00 - mae: 0.0000e+00\n"
          ]
        },
        {
          "output_type": "execute_result",
          "data": {
            "text/plain": [
              "[0.0, 0.0, 0.0]"
            ]
          },
          "metadata": {},
          "execution_count": 52
        }
      ]
    },
    {
      "cell_type": "code",
      "source": [
        "model.evaluate(X_test, y_test)"
      ],
      "metadata": {
        "colab": {
          "base_uri": "https://localhost:8080/"
        },
        "id": "NvVdLXb5ToKZ",
        "outputId": "c2a514ff-8ef4-43e0-e85f-649c990b2fc9"
      },
      "execution_count": null,
      "outputs": [
        {
          "output_type": "stream",
          "name": "stdout",
          "text": [
            "3/3 [==============================] - 0s 5ms/step - loss: 314.6677 - mse: 314.6677 - mae: 15.2466\n"
          ]
        },
        {
          "output_type": "execute_result",
          "data": {
            "text/plain": [
              "[314.66766357421875, 314.66766357421875, 15.246602058410645]"
            ]
          },
          "metadata": {},
          "execution_count": 43
        }
      ]
    },
    {
      "cell_type": "code",
      "source": [],
      "metadata": {
        "id": "MBlBrGz7ZBnD"
      },
      "execution_count": null,
      "outputs": []
    },
    {
      "cell_type": "markdown",
      "source": [
        "K - Fold Cross Validation"
      ],
      "metadata": {
        "id": "yEOyqp9HOfDp"
      }
    },
    {
      "cell_type": "code",
      "source": [],
      "metadata": {
        "id": "gCTFK4u1KvCZ"
      },
      "execution_count": null,
      "outputs": []
    }
  ]
}