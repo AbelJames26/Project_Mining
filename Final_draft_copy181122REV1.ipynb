{
  "nbformat": 4,
  "nbformat_minor": 0,
  "metadata": {
    "colab": {
      "provenance": [],
      "include_colab_link": true
    },
    "kernelspec": {
      "name": "python3",
      "display_name": "Python 3"
    },
    "language_info": {
      "name": "python"
    }
  },
  "cells": [
    {
      "cell_type": "markdown",
      "metadata": {
        "id": "view-in-github",
        "colab_type": "text"
      },
      "source": [
        "<a href=\"https://colab.research.google.com/github/AbelJames26/Project_Mining/blob/main/Final_draft_copy181122REV1.ipynb\" target=\"_parent\"><img src=\"https://colab.research.google.com/assets/colab-badge.svg\" alt=\"Open In Colab\"/></a>"
      ]
    },
    {
      "cell_type": "markdown",
      "source": [
        "**Import Libraries**"
      ],
      "metadata": {
        "id": "Ghl5pyYuTYct"
      }
    },
    {
      "cell_type": "code",
      "execution_count": null,
      "metadata": {
        "id": "PKPJWzO803eL",
        "outputId": "9be86c21-9463-4162-cf6c-91e2dcf4363e",
        "colab": {
          "base_uri": "https://localhost:8080/"
        }
      },
      "outputs": [
        {
          "output_type": "stream",
          "name": "stdout",
          "text": [
            "Looking in indexes: https://pypi.org/simple, https://us-python.pkg.dev/colab-wheels/public/simple/\n",
            "Requirement already satisfied: keras-tuner in /usr/local/lib/python3.7/dist-packages (1.1.3)\n",
            "Requirement already satisfied: requests in /usr/local/lib/python3.7/dist-packages (from keras-tuner) (2.23.0)\n",
            "Requirement already satisfied: ipython in /usr/local/lib/python3.7/dist-packages (from keras-tuner) (7.9.0)\n",
            "Requirement already satisfied: numpy in /usr/local/lib/python3.7/dist-packages (from keras-tuner) (1.21.6)\n",
            "Requirement already satisfied: packaging in /usr/local/lib/python3.7/dist-packages (from keras-tuner) (21.3)\n",
            "Requirement already satisfied: tensorboard in /usr/local/lib/python3.7/dist-packages (from keras-tuner) (2.9.1)\n",
            "Requirement already satisfied: kt-legacy in /usr/local/lib/python3.7/dist-packages (from keras-tuner) (1.0.4)\n",
            "Requirement already satisfied: pickleshare in /usr/local/lib/python3.7/dist-packages (from ipython->keras-tuner) (0.7.5)\n",
            "Requirement already satisfied: pexpect in /usr/local/lib/python3.7/dist-packages (from ipython->keras-tuner) (4.8.0)\n",
            "Requirement already satisfied: setuptools>=18.5 in /usr/local/lib/python3.7/dist-packages (from ipython->keras-tuner) (57.4.0)\n",
            "Requirement already satisfied: decorator in /usr/local/lib/python3.7/dist-packages (from ipython->keras-tuner) (4.4.2)\n",
            "Requirement already satisfied: traitlets>=4.2 in /usr/local/lib/python3.7/dist-packages (from ipython->keras-tuner) (5.1.1)\n",
            "Requirement already satisfied: backcall in /usr/local/lib/python3.7/dist-packages (from ipython->keras-tuner) (0.2.0)\n",
            "Requirement already satisfied: prompt-toolkit<2.1.0,>=2.0.0 in /usr/local/lib/python3.7/dist-packages (from ipython->keras-tuner) (2.0.10)\n",
            "Requirement already satisfied: pygments in /usr/local/lib/python3.7/dist-packages (from ipython->keras-tuner) (2.6.1)\n",
            "Requirement already satisfied: jedi>=0.10 in /usr/local/lib/python3.7/dist-packages (from ipython->keras-tuner) (0.18.1)\n",
            "Requirement already satisfied: parso<0.9.0,>=0.8.0 in /usr/local/lib/python3.7/dist-packages (from jedi>=0.10->ipython->keras-tuner) (0.8.3)\n",
            "Requirement already satisfied: six>=1.9.0 in /usr/local/lib/python3.7/dist-packages (from prompt-toolkit<2.1.0,>=2.0.0->ipython->keras-tuner) (1.15.0)\n",
            "Requirement already satisfied: wcwidth in /usr/local/lib/python3.7/dist-packages (from prompt-toolkit<2.1.0,>=2.0.0->ipython->keras-tuner) (0.2.5)\n",
            "Requirement already satisfied: pyparsing!=3.0.5,>=2.0.2 in /usr/local/lib/python3.7/dist-packages (from packaging->keras-tuner) (3.0.9)\n",
            "Requirement already satisfied: ptyprocess>=0.5 in /usr/local/lib/python3.7/dist-packages (from pexpect->ipython->keras-tuner) (0.7.0)\n",
            "Requirement already satisfied: urllib3!=1.25.0,!=1.25.1,<1.26,>=1.21.1 in /usr/local/lib/python3.7/dist-packages (from requests->keras-tuner) (1.24.3)\n",
            "Requirement already satisfied: idna<3,>=2.5 in /usr/local/lib/python3.7/dist-packages (from requests->keras-tuner) (2.10)\n",
            "Requirement already satisfied: chardet<4,>=3.0.2 in /usr/local/lib/python3.7/dist-packages (from requests->keras-tuner) (3.0.4)\n",
            "Requirement already satisfied: certifi>=2017.4.17 in /usr/local/lib/python3.7/dist-packages (from requests->keras-tuner) (2022.9.24)\n",
            "Requirement already satisfied: werkzeug>=1.0.1 in /usr/local/lib/python3.7/dist-packages (from tensorboard->keras-tuner) (1.0.1)\n",
            "Requirement already satisfied: protobuf<3.20,>=3.9.2 in /usr/local/lib/python3.7/dist-packages (from tensorboard->keras-tuner) (3.19.6)\n",
            "Requirement already satisfied: wheel>=0.26 in /usr/local/lib/python3.7/dist-packages (from tensorboard->keras-tuner) (0.38.3)\n",
            "Requirement already satisfied: google-auth<3,>=1.6.3 in /usr/local/lib/python3.7/dist-packages (from tensorboard->keras-tuner) (2.14.1)\n",
            "Requirement already satisfied: absl-py>=0.4 in /usr/local/lib/python3.7/dist-packages (from tensorboard->keras-tuner) (1.3.0)\n",
            "Requirement already satisfied: markdown>=2.6.8 in /usr/local/lib/python3.7/dist-packages (from tensorboard->keras-tuner) (3.4.1)\n",
            "Requirement already satisfied: tensorboard-data-server<0.7.0,>=0.6.0 in /usr/local/lib/python3.7/dist-packages (from tensorboard->keras-tuner) (0.6.1)\n",
            "Requirement already satisfied: grpcio>=1.24.3 in /usr/local/lib/python3.7/dist-packages (from tensorboard->keras-tuner) (1.50.0)\n",
            "Requirement already satisfied: google-auth-oauthlib<0.5,>=0.4.1 in /usr/local/lib/python3.7/dist-packages (from tensorboard->keras-tuner) (0.4.6)\n",
            "Requirement already satisfied: tensorboard-plugin-wit>=1.6.0 in /usr/local/lib/python3.7/dist-packages (from tensorboard->keras-tuner) (1.8.1)\n",
            "Requirement already satisfied: rsa<5,>=3.1.4 in /usr/local/lib/python3.7/dist-packages (from google-auth<3,>=1.6.3->tensorboard->keras-tuner) (4.9)\n",
            "Requirement already satisfied: pyasn1-modules>=0.2.1 in /usr/local/lib/python3.7/dist-packages (from google-auth<3,>=1.6.3->tensorboard->keras-tuner) (0.2.8)\n",
            "Requirement already satisfied: cachetools<6.0,>=2.0.0 in /usr/local/lib/python3.7/dist-packages (from google-auth<3,>=1.6.3->tensorboard->keras-tuner) (5.2.0)\n",
            "Requirement already satisfied: requests-oauthlib>=0.7.0 in /usr/local/lib/python3.7/dist-packages (from google-auth-oauthlib<0.5,>=0.4.1->tensorboard->keras-tuner) (1.3.1)\n",
            "Requirement already satisfied: importlib-metadata>=4.4 in /usr/local/lib/python3.7/dist-packages (from markdown>=2.6.8->tensorboard->keras-tuner) (4.13.0)\n",
            "Requirement already satisfied: typing-extensions>=3.6.4 in /usr/local/lib/python3.7/dist-packages (from importlib-metadata>=4.4->markdown>=2.6.8->tensorboard->keras-tuner) (4.1.1)\n",
            "Requirement already satisfied: zipp>=0.5 in /usr/local/lib/python3.7/dist-packages (from importlib-metadata>=4.4->markdown>=2.6.8->tensorboard->keras-tuner) (3.10.0)\n",
            "Requirement already satisfied: pyasn1<0.5.0,>=0.4.6 in /usr/local/lib/python3.7/dist-packages (from pyasn1-modules>=0.2.1->google-auth<3,>=1.6.3->tensorboard->keras-tuner) (0.4.8)\n",
            "Requirement already satisfied: oauthlib>=3.0.0 in /usr/local/lib/python3.7/dist-packages (from requests-oauthlib>=0.7.0->google-auth-oauthlib<0.5,>=0.4.1->tensorboard->keras-tuner) (3.2.2)\n",
            "2.9.2\n"
          ]
        }
      ],
      "source": [
        "import numpy as np\n",
        "import pandas as pd\n",
        "import scipy as sp\n",
        "import tensorflow as tf\n",
        "from tensorflow import keras\n",
        "from tensorflow.keras import layers\n",
        "import sqlite3\n",
        "import seaborn as sns\n",
        "from sklearn.model_selection import train_test_split\n",
        "from sklearn.preprocessing import StandardScaler\n",
        "import matplotlib.pyplot as plt\n",
        "#Tuning imports\n",
        "!pip install -U keras-tuner\n",
        "import kerastuner as kt\n",
        "\n",
        "\n",
        "from tensorflow.keras.models import Sequential\n",
        "from tensorflow.keras.layers import * \n",
        "from tensorflow.keras.callbacks import ModelCheckpoint\n",
        "from tensorflow.keras.metrics import RootMeanSquaredError\n",
        "from tensorflow.keras.optimizers import Adam\n",
        "\n",
        "print(tf.__version__)"
      ]
    },
    {
      "cell_type": "markdown",
      "source": [
        "**Import Data Set**"
      ],
      "metadata": {
        "id": "1aF7-1FeTVVJ"
      }
    },
    {
      "cell_type": "code",
      "source": [
        "Path = \"/content/17112022_Project_Data.csv\"\n",
        "df = pd.read_csv(Path)\n",
        "df.shape"
      ],
      "metadata": {
        "colab": {
          "base_uri": "https://localhost:8080/"
        },
        "id": "BtZKnAlqn_v3",
        "outputId": "08545a85-2c17-4e9c-af45-37eab2f94bac"
      },
      "execution_count": null,
      "outputs": [
        {
          "output_type": "execute_result",
          "data": {
            "text/plain": [
              "(904, 14)"
            ]
          },
          "metadata": {},
          "execution_count": 3
        }
      ]
    },
    {
      "cell_type": "markdown",
      "source": [
        "Visualize dataset"
      ],
      "metadata": {
        "id": "qRttaf5odS7W"
      }
    },
    {
      "cell_type": "code",
      "source": [
        "#Displaying the data\n",
        "df.head()"
      ],
      "metadata": {
        "colab": {
          "base_uri": "https://localhost:8080/",
          "height": 357
        },
        "id": "y6jWt2b_N9o4",
        "outputId": "273d0f6f-0771-4e1c-9879-894aa7f2f599"
      },
      "execution_count": null,
      "outputs": [
        {
          "output_type": "execute_result",
          "data": {
            "text/plain": [
              "  COMMODITY   LATITUDE   LONGITUDE            SITE  RES_QTY_MILLION_TONNES  \\\n",
              "0      Gold -20.771948  122.201825  Anketell Shelf                   108.1   \n",
              "1      Gold -21.727803  122.640676  Anketell Shelf                    92.0   \n",
              "2      Gold -21.727803  122.640676  Anketell Shelf                    92.0   \n",
              "3      Gold -20.771948  122.201825  Anketell Shelf                   108.1   \n",
              "4      Gold -20.771948  122.201825  Anketell Shelf                   108.1   \n",
              "\n",
              "   RES_QTY_GRAM_TONNE  RES_CON_KILOGRAM  RV_QTY_million_tonnes  \\\n",
              "0            0.711064          76866.00                   23.0   \n",
              "1            0.235652            216.80                   25.0   \n",
              "2            1.857609         170900.00                   25.0   \n",
              "3            0.147234            159.16                   21.0   \n",
              "4            0.538936          58259.00                   25.0   \n",
              "\n",
              "   RV_QTY_G_GRAM_TONNE  POINT_SIZE_KILOGRAM        DATE  GOLD_PRICE_USD  \\\n",
              "0                 0.44             76866.00   1/10/2022          1662.4   \n",
              "1                 0.44               326.80   8/10/2022          1700.5   \n",
              "2                 3.00            245900.00   8/10/2022          1700.5   \n",
              "3                 0.44               159.16   9/10/2022          1700.5   \n",
              "4                 3.00             58259.00  22/10/2022          1651.0   \n",
              "\n",
              "   MINERAL_LAND_VALUE_USD  COMM_CODE  \n",
              "0                 38235.2          1  \n",
              "1                 42512.5          1  \n",
              "2                 42512.5          1  \n",
              "3                 35710.5          1  \n",
              "4                 41275.0          1  "
            ],
            "text/html": [
              "\n",
              "  <div id=\"df-acbcc9ce-c6e8-4dfa-aca6-1ee9815b36e0\">\n",
              "    <div class=\"colab-df-container\">\n",
              "      <div>\n",
              "<style scoped>\n",
              "    .dataframe tbody tr th:only-of-type {\n",
              "        vertical-align: middle;\n",
              "    }\n",
              "\n",
              "    .dataframe tbody tr th {\n",
              "        vertical-align: top;\n",
              "    }\n",
              "\n",
              "    .dataframe thead th {\n",
              "        text-align: right;\n",
              "    }\n",
              "</style>\n",
              "<table border=\"1\" class=\"dataframe\">\n",
              "  <thead>\n",
              "    <tr style=\"text-align: right;\">\n",
              "      <th></th>\n",
              "      <th>COMMODITY</th>\n",
              "      <th>LATITUDE</th>\n",
              "      <th>LONGITUDE</th>\n",
              "      <th>SITE</th>\n",
              "      <th>RES_QTY_MILLION_TONNES</th>\n",
              "      <th>RES_QTY_GRAM_TONNE</th>\n",
              "      <th>RES_CON_KILOGRAM</th>\n",
              "      <th>RV_QTY_million_tonnes</th>\n",
              "      <th>RV_QTY_G_GRAM_TONNE</th>\n",
              "      <th>POINT_SIZE_KILOGRAM</th>\n",
              "      <th>DATE</th>\n",
              "      <th>GOLD_PRICE_USD</th>\n",
              "      <th>MINERAL_LAND_VALUE_USD</th>\n",
              "      <th>COMM_CODE</th>\n",
              "    </tr>\n",
              "  </thead>\n",
              "  <tbody>\n",
              "    <tr>\n",
              "      <th>0</th>\n",
              "      <td>Gold</td>\n",
              "      <td>-20.771948</td>\n",
              "      <td>122.201825</td>\n",
              "      <td>Anketell Shelf</td>\n",
              "      <td>108.1</td>\n",
              "      <td>0.711064</td>\n",
              "      <td>76866.00</td>\n",
              "      <td>23.0</td>\n",
              "      <td>0.44</td>\n",
              "      <td>76866.00</td>\n",
              "      <td>1/10/2022</td>\n",
              "      <td>1662.4</td>\n",
              "      <td>38235.2</td>\n",
              "      <td>1</td>\n",
              "    </tr>\n",
              "    <tr>\n",
              "      <th>1</th>\n",
              "      <td>Gold</td>\n",
              "      <td>-21.727803</td>\n",
              "      <td>122.640676</td>\n",
              "      <td>Anketell Shelf</td>\n",
              "      <td>92.0</td>\n",
              "      <td>0.235652</td>\n",
              "      <td>216.80</td>\n",
              "      <td>25.0</td>\n",
              "      <td>0.44</td>\n",
              "      <td>326.80</td>\n",
              "      <td>8/10/2022</td>\n",
              "      <td>1700.5</td>\n",
              "      <td>42512.5</td>\n",
              "      <td>1</td>\n",
              "    </tr>\n",
              "    <tr>\n",
              "      <th>2</th>\n",
              "      <td>Gold</td>\n",
              "      <td>-21.727803</td>\n",
              "      <td>122.640676</td>\n",
              "      <td>Anketell Shelf</td>\n",
              "      <td>92.0</td>\n",
              "      <td>1.857609</td>\n",
              "      <td>170900.00</td>\n",
              "      <td>25.0</td>\n",
              "      <td>3.00</td>\n",
              "      <td>245900.00</td>\n",
              "      <td>8/10/2022</td>\n",
              "      <td>1700.5</td>\n",
              "      <td>42512.5</td>\n",
              "      <td>1</td>\n",
              "    </tr>\n",
              "    <tr>\n",
              "      <th>3</th>\n",
              "      <td>Gold</td>\n",
              "      <td>-20.771948</td>\n",
              "      <td>122.201825</td>\n",
              "      <td>Anketell Shelf</td>\n",
              "      <td>108.1</td>\n",
              "      <td>0.147234</td>\n",
              "      <td>159.16</td>\n",
              "      <td>21.0</td>\n",
              "      <td>0.44</td>\n",
              "      <td>159.16</td>\n",
              "      <td>9/10/2022</td>\n",
              "      <td>1700.5</td>\n",
              "      <td>35710.5</td>\n",
              "      <td>1</td>\n",
              "    </tr>\n",
              "    <tr>\n",
              "      <th>4</th>\n",
              "      <td>Gold</td>\n",
              "      <td>-20.771948</td>\n",
              "      <td>122.201825</td>\n",
              "      <td>Anketell Shelf</td>\n",
              "      <td>108.1</td>\n",
              "      <td>0.538936</td>\n",
              "      <td>58259.00</td>\n",
              "      <td>25.0</td>\n",
              "      <td>3.00</td>\n",
              "      <td>58259.00</td>\n",
              "      <td>22/10/2022</td>\n",
              "      <td>1651.0</td>\n",
              "      <td>41275.0</td>\n",
              "      <td>1</td>\n",
              "    </tr>\n",
              "  </tbody>\n",
              "</table>\n",
              "</div>\n",
              "      <button class=\"colab-df-convert\" onclick=\"convertToInteractive('df-acbcc9ce-c6e8-4dfa-aca6-1ee9815b36e0')\"\n",
              "              title=\"Convert this dataframe to an interactive table.\"\n",
              "              style=\"display:none;\">\n",
              "        \n",
              "  <svg xmlns=\"http://www.w3.org/2000/svg\" height=\"24px\"viewBox=\"0 0 24 24\"\n",
              "       width=\"24px\">\n",
              "    <path d=\"M0 0h24v24H0V0z\" fill=\"none\"/>\n",
              "    <path d=\"M18.56 5.44l.94 2.06.94-2.06 2.06-.94-2.06-.94-.94-2.06-.94 2.06-2.06.94zm-11 1L8.5 8.5l.94-2.06 2.06-.94-2.06-.94L8.5 2.5l-.94 2.06-2.06.94zm10 10l.94 2.06.94-2.06 2.06-.94-2.06-.94-.94-2.06-.94 2.06-2.06.94z\"/><path d=\"M17.41 7.96l-1.37-1.37c-.4-.4-.92-.59-1.43-.59-.52 0-1.04.2-1.43.59L10.3 9.45l-7.72 7.72c-.78.78-.78 2.05 0 2.83L4 21.41c.39.39.9.59 1.41.59.51 0 1.02-.2 1.41-.59l7.78-7.78 2.81-2.81c.8-.78.8-2.07 0-2.86zM5.41 20L4 18.59l7.72-7.72 1.47 1.35L5.41 20z\"/>\n",
              "  </svg>\n",
              "      </button>\n",
              "      \n",
              "  <style>\n",
              "    .colab-df-container {\n",
              "      display:flex;\n",
              "      flex-wrap:wrap;\n",
              "      gap: 12px;\n",
              "    }\n",
              "\n",
              "    .colab-df-convert {\n",
              "      background-color: #E8F0FE;\n",
              "      border: none;\n",
              "      border-radius: 50%;\n",
              "      cursor: pointer;\n",
              "      display: none;\n",
              "      fill: #1967D2;\n",
              "      height: 32px;\n",
              "      padding: 0 0 0 0;\n",
              "      width: 32px;\n",
              "    }\n",
              "\n",
              "    .colab-df-convert:hover {\n",
              "      background-color: #E2EBFA;\n",
              "      box-shadow: 0px 1px 2px rgba(60, 64, 67, 0.3), 0px 1px 3px 1px rgba(60, 64, 67, 0.15);\n",
              "      fill: #174EA6;\n",
              "    }\n",
              "\n",
              "    [theme=dark] .colab-df-convert {\n",
              "      background-color: #3B4455;\n",
              "      fill: #D2E3FC;\n",
              "    }\n",
              "\n",
              "    [theme=dark] .colab-df-convert:hover {\n",
              "      background-color: #434B5C;\n",
              "      box-shadow: 0px 1px 3px 1px rgba(0, 0, 0, 0.15);\n",
              "      filter: drop-shadow(0px 1px 2px rgba(0, 0, 0, 0.3));\n",
              "      fill: #FFFFFF;\n",
              "    }\n",
              "  </style>\n",
              "\n",
              "      <script>\n",
              "        const buttonEl =\n",
              "          document.querySelector('#df-acbcc9ce-c6e8-4dfa-aca6-1ee9815b36e0 button.colab-df-convert');\n",
              "        buttonEl.style.display =\n",
              "          google.colab.kernel.accessAllowed ? 'block' : 'none';\n",
              "\n",
              "        async function convertToInteractive(key) {\n",
              "          const element = document.querySelector('#df-acbcc9ce-c6e8-4dfa-aca6-1ee9815b36e0');\n",
              "          const dataTable =\n",
              "            await google.colab.kernel.invokeFunction('convertToInteractive',\n",
              "                                                     [key], {});\n",
              "          if (!dataTable) return;\n",
              "\n",
              "          const docLinkHtml = 'Like what you see? Visit the ' +\n",
              "            '<a target=\"_blank\" href=https://colab.research.google.com/notebooks/data_table.ipynb>data table notebook</a>'\n",
              "            + ' to learn more about interactive tables.';\n",
              "          element.innerHTML = '';\n",
              "          dataTable['output_type'] = 'display_data';\n",
              "          await google.colab.output.renderOutput(dataTable, element);\n",
              "          const docLink = document.createElement('div');\n",
              "          docLink.innerHTML = docLinkHtml;\n",
              "          element.appendChild(docLink);\n",
              "        }\n",
              "      </script>\n",
              "    </div>\n",
              "  </div>\n",
              "  "
            ]
          },
          "metadata": {},
          "execution_count": 4
        }
      ]
    },
    {
      "cell_type": "markdown",
      "source": [
        "Visualize Ore reserve locations "
      ],
      "metadata": {
        "id": "C4qknnFfdZi9"
      }
    },
    {
      "cell_type": "code",
      "source": [
        "df.plot(kind=\"scatter\", x=\"LONGITUDE\", y=\"LATITUDE\")"
      ],
      "metadata": {
        "id": "2eSz9x1RNA8U",
        "outputId": "98245196-da72-4c9c-bb97-3fefb83fe68d",
        "colab": {
          "base_uri": "https://localhost:8080/",
          "height": 297
        }
      },
      "execution_count": null,
      "outputs": [
        {
          "output_type": "execute_result",
          "data": {
            "text/plain": [
              "<matplotlib.axes._subplots.AxesSubplot at 0x7f81a6ef5c10>"
            ]
          },
          "metadata": {},
          "execution_count": 5
        },
        {
          "output_type": "display_data",
          "data": {
            "text/plain": [
              "<Figure size 432x288 with 1 Axes>"
            ],
            "image/png": "[encoded data removed]"
          },
          "metadata": {
            "needs_background": "light"
          }
        }
      ]
    },
    {
      "cell_type": "markdown",
      "source": [
        "**Check for Missing Data**"
      ],
      "metadata": {
        "id": "HtmDto3kPZJm"
      }
    },
    {
      "cell_type": "code",
      "source": [
        "# Checking the null values\n",
        "\n",
        "df.isna().any()"
      ],
      "metadata": {
        "id": "UNxsAJeXPhLb",
        "outputId": "030d1e33-8e62-4957-bba2-b560e2c2257e",
        "colab": {
          "base_uri": "https://localhost:8080/"
        }
      },
      "execution_count": null,
      "outputs": [
        {
          "output_type": "execute_result",
          "data": {
            "text/plain": [
              "COMMODITY                 False\n",
              "LATITUDE                  False\n",
              "LONGITUDE                 False\n",
              "SITE                      False\n",
              "RES_QTY_MILLION_TONNES    False\n",
              "RES_QTY_GRAM_TONNE        False\n",
              "RES_CON_KILOGRAM          False\n",
              "RV_QTY_million_tonnes     False\n",
              "RV_QTY_G_GRAM_TONNE       False\n",
              "POINT_SIZE_KILOGRAM       False\n",
              "DATE                      False\n",
              "GOLD_PRICE_USD            False\n",
              "MINERAL_LAND_VALUE_USD    False\n",
              "COMM_CODE                 False\n",
              "dtype: bool"
            ]
          },
          "metadata": {},
          "execution_count": 6
        }
      ]
    },
    {
      "cell_type": "markdown",
      "source": [
        "Count the number of Null Values in Each Column"
      ],
      "metadata": {
        "id": "6jIvBdXiPrIE"
      }
    },
    {
      "cell_type": "code",
      "source": [
        "# Count number of null values in each columns\n",
        "\n",
        "df.isna().sum()"
      ],
      "metadata": {
        "id": "LTF1IjtGPx-Y",
        "outputId": "d8fe3e39-13f1-4d96-bdcb-92b42351e52b",
        "colab": {
          "base_uri": "https://localhost:8080/"
        }
      },
      "execution_count": null,
      "outputs": [
        {
          "output_type": "execute_result",
          "data": {
            "text/plain": [
              "COMMODITY                 0\n",
              "LATITUDE                  0\n",
              "LONGITUDE                 0\n",
              "SITE                      0\n",
              "RES_QTY_MILLION_TONNES    0\n",
              "RES_QTY_GRAM_TONNE        0\n",
              "RES_CON_KILOGRAM          0\n",
              "RV_QTY_million_tonnes     0\n",
              "RV_QTY_G_GRAM_TONNE       0\n",
              "POINT_SIZE_KILOGRAM       0\n",
              "DATE                      0\n",
              "GOLD_PRICE_USD            0\n",
              "MINERAL_LAND_VALUE_USD    0\n",
              "COMM_CODE                 0\n",
              "dtype: int64"
            ]
          },
          "metadata": {},
          "execution_count": 7
        }
      ]
    },
    {
      "cell_type": "markdown",
      "source": [
        "Drop NA Values if count is less than 5%"
      ],
      "metadata": {
        "id": "QlwLDoQdQEZS"
      }
    },
    {
      "cell_type": "code",
      "source": [
        "# We can drop the null value as their count is less than 5%\n",
        "\n",
        "df.dropna(inplace=True)"
      ],
      "metadata": {
        "id": "I_kiLVqPQKBt"
      },
      "execution_count": null,
      "outputs": []
    },
    {
      "cell_type": "markdown",
      "source": [
        "**Shuffle data**"
      ],
      "metadata": {
        "id": "vOuZ_XVFec4S"
      }
    },
    {
      "cell_type": "code",
      "source": [
        "df = df.sample(n=len(df),random_state =1)\n",
        "df"
      ],
      "metadata": {
        "colab": {
          "base_uri": "https://localhost:8080/",
          "height": 765
        },
        "id": "mgFqteq2ej6y",
        "outputId": "5ae5b38f-76f5-41e3-e26f-236b482cb496"
      },
      "execution_count": null,
      "outputs": [
        {
          "output_type": "execute_result",
          "data": {
            "text/plain": [
              "    COMMODITY   LATITUDE   LONGITUDE                              SITE  \\\n",
              "874    Nickel -26.107107  127.696907                 Musgrave Province   \n",
              "884    Nickel -26.039626  128.939310  Warakurna Large Igneous Province   \n",
              "878    Nickel -26.107107  127.696907                 Musgrave Province   \n",
              "784    Nickel -29.173211  122.253947   Eastern Goldfields Superterrane   \n",
              "525      Iron -21.766987  116.777930                   Hamersley Basin   \n",
              "..        ...        ...         ...                               ...   \n",
              "715      Iron -30.044223  120.007463                   Youanmi Terrane   \n",
              "767    Nickel -29.053396  122.151539   Eastern Goldfields Superterrane   \n",
              "72       Gold -29.153011  121.675721   Eastern Goldfields Superterrane   \n",
              "235      Gold -30.566178  121.112010                    Yilgarn Craton   \n",
              "37       Gold -27.514745  120.940913   Eastern Goldfields Superterrane   \n",
              "\n",
              "     RES_QTY_MILLION_TONNES  RES_QTY_GRAM_TONNE  RES_CON_KILOGRAM  \\\n",
              "874              389.100000            0.011643      45304.000000   \n",
              "884              215.837898           44.284417      95582.555410   \n",
              "878              545.100000            0.066735      36377.000000   \n",
              "784                4.650000           18.500000          0.860250   \n",
              "525               84.300000           57.188250         48.209695   \n",
              "..                      ...                 ...               ...   \n",
              "715             1445.760000           29.301637        423.631350   \n",
              "767               10.500000            0.988000        103.740000   \n",
              "72                76.230000            0.597740      45565.700000   \n",
              "235                0.330000            1.054545        348.000000   \n",
              "37                 2.225000            1.922652       4277.900000   \n",
              "\n",
              "     RV_QTY_million_tonnes  RV_QTY_G_GRAM_TONNE  POINT_SIZE_KILOGRAM  \\\n",
              "874             253.000000             0.012391         76654.000000   \n",
              "884             168.422406            45.640000        172450.541500   \n",
              "878             253.000000             0.100000         61677.000000   \n",
              "784               7.490000             1.881497             0.860250   \n",
              "525            1294.000000             2.988779            48.209695   \n",
              "..                     ...                  ...                  ...   \n",
              "715             236.600000            28.193153           490.336350   \n",
              "767               6.900000             1.537423           103.740000   \n",
              "72               30.000000             1.798119         45565.700000   \n",
              "235              30.700000             6.133579           348.000000   \n",
              "37                1.900000             0.020000          4277.900000   \n",
              "\n",
              "           DATE  GOLD_PRICE_USD  MINERAL_LAND_VALUE_USD  COMM_CODE  \n",
              "874  30/10/2022          1641.8            4.153754e+05          3  \n",
              "884  30/10/2022          1641.8            2.765159e+05          3  \n",
              "878  30/10/2022          1641.8            4.153754e+05          3  \n",
              "784  18/10/2022          1649.0            1.235101e+04          3  \n",
              "525   9/10/2022          1700.5            2.200447e+06          2  \n",
              "..          ...             ...                     ...        ...  \n",
              "715  13/10/2022          1670.0            3.951220e+05          2  \n",
              "767   9/10/2022          1700.5            1.173345e+04          3  \n",
              "72    8/10/2022          1700.5            5.101500e+04          1  \n",
              "235   8/10/2022          1700.5            5.220535e+04          1  \n",
              "37    1/10/2022          1662.4            3.158560e+03          1  \n",
              "\n",
              "[904 rows x 14 columns]"
            ],
            "text/html": [
              "\n",
              "  <div id=\"df-46b786dd-cc59-4f72-a524-e78709599ea9\">\n",
              "    <div class=\"colab-df-container\">\n",
              "      <div>\n",
              "<style scoped>\n",
              "    .dataframe tbody tr th:only-of-type {\n",
              "        vertical-align: middle;\n",
              "    }\n",
              "\n",
              "    .dataframe tbody tr th {\n",
              "        vertical-align: top;\n",
              "    }\n",
              "\n",
              "    .dataframe thead th {\n",
              "        text-align: right;\n",
              "    }\n",
              "</style>\n",
              "<table border=\"1\" class=\"dataframe\">\n",
              "  <thead>\n",
              "    <tr style=\"text-align: right;\">\n",
              "      <th></th>\n",
              "      <th>COMMODITY</th>\n",
              "      <th>LATITUDE</th>\n",
              "      <th>LONGITUDE</th>\n",
              "      <th>SITE</th>\n",
              "      <th>RES_QTY_MILLION_TONNES</th>\n",
              "      <th>RES_QTY_GRAM_TONNE</th>\n",
              "      <th>RES_CON_KILOGRAM</th>\n",
              "      <th>RV_QTY_million_tonnes</th>\n",
              "      <th>RV_QTY_G_GRAM_TONNE</th>\n",
              "      <th>POINT_SIZE_KILOGRAM</th>\n",
              "      <th>DATE</th>\n",
              "      <th>GOLD_PRICE_USD</th>\n",
              "      <th>MINERAL_LAND_VALUE_USD</th>\n",
              "      <th>COMM_CODE</th>\n",
              "    </tr>\n",
              "  </thead>\n",
              "  <tbody>\n",
              "    <tr>\n",
              "      <th>874</th>\n",
              "      <td>Nickel</td>\n",
              "      <td>-26.107107</td>\n",
              "      <td>127.696907</td>\n",
              "      <td>Musgrave Province</td>\n",
              "      <td>389.100000</td>\n",
              "      <td>0.011643</td>\n",
              "      <td>45304.000000</td>\n",
              "      <td>253.000000</td>\n",
              "      <td>0.012391</td>\n",
              "      <td>76654.000000</td>\n",
              "      <td>30/10/2022</td>\n",
              "      <td>1641.8</td>\n",
              "      <td>4.153754e+05</td>\n",
              "      <td>3</td>\n",
              "    </tr>\n",
              "    <tr>\n",
              "      <th>884</th>\n",
              "      <td>Nickel</td>\n",
              "      <td>-26.039626</td>\n",
              "      <td>128.939310</td>\n",
              "      <td>Warakurna Large Igneous Province</td>\n",
              "      <td>215.837898</td>\n",
              "      <td>44.284417</td>\n",
              "      <td>95582.555410</td>\n",
              "      <td>168.422406</td>\n",
              "      <td>45.640000</td>\n",
              "      <td>172450.541500</td>\n",
              "      <td>30/10/2022</td>\n",
              "      <td>1641.8</td>\n",
              "      <td>2.765159e+05</td>\n",
              "      <td>3</td>\n",
              "    </tr>\n",
              "    <tr>\n",
              "      <th>878</th>\n",
              "      <td>Nickel</td>\n",
              "      <td>-26.107107</td>\n",
              "      <td>127.696907</td>\n",
              "      <td>Musgrave Province</td>\n",
              "      <td>545.100000</td>\n",
              "      <td>0.066735</td>\n",
              "      <td>36377.000000</td>\n",
              "      <td>253.000000</td>\n",
              "      <td>0.100000</td>\n",
              "      <td>61677.000000</td>\n",
              "      <td>30/10/2022</td>\n",
              "      <td>1641.8</td>\n",
              "      <td>4.153754e+05</td>\n",
              "      <td>3</td>\n",
              "    </tr>\n",
              "    <tr>\n",
              "      <th>784</th>\n",
              "      <td>Nickel</td>\n",
              "      <td>-29.173211</td>\n",
              "      <td>122.253947</td>\n",
              "      <td>Eastern Goldfields Superterrane</td>\n",
              "      <td>4.650000</td>\n",
              "      <td>18.500000</td>\n",
              "      <td>0.860250</td>\n",
              "      <td>7.490000</td>\n",
              "      <td>1.881497</td>\n",
              "      <td>0.860250</td>\n",
              "      <td>18/10/2022</td>\n",
              "      <td>1649.0</td>\n",
              "      <td>1.235101e+04</td>\n",
              "      <td>3</td>\n",
              "    </tr>\n",
              "    <tr>\n",
              "      <th>525</th>\n",
              "      <td>Iron</td>\n",
              "      <td>-21.766987</td>\n",
              "      <td>116.777930</td>\n",
              "      <td>Hamersley Basin</td>\n",
              "      <td>84.300000</td>\n",
              "      <td>57.188250</td>\n",
              "      <td>48.209695</td>\n",
              "      <td>1294.000000</td>\n",
              "      <td>2.988779</td>\n",
              "      <td>48.209695</td>\n",
              "      <td>9/10/2022</td>\n",
              "      <td>1700.5</td>\n",
              "      <td>2.200447e+06</td>\n",
              "      <td>2</td>\n",
              "    </tr>\n",
              "    <tr>\n",
              "      <th>...</th>\n",
              "      <td>...</td>\n",
              "      <td>...</td>\n",
              "      <td>...</td>\n",
              "      <td>...</td>\n",
              "      <td>...</td>\n",
              "      <td>...</td>\n",
              "      <td>...</td>\n",
              "      <td>...</td>\n",
              "      <td>...</td>\n",
              "      <td>...</td>\n",
              "      <td>...</td>\n",
              "      <td>...</td>\n",
              "      <td>...</td>\n",
              "      <td>...</td>\n",
              "    </tr>\n",
              "    <tr>\n",
              "      <th>715</th>\n",
              "      <td>Iron</td>\n",
              "      <td>-30.044223</td>\n",
              "      <td>120.007463</td>\n",
              "      <td>Youanmi Terrane</td>\n",
              "      <td>1445.760000</td>\n",
              "      <td>29.301637</td>\n",
              "      <td>423.631350</td>\n",
              "      <td>236.600000</td>\n",
              "      <td>28.193153</td>\n",
              "      <td>490.336350</td>\n",
              "      <td>13/10/2022</td>\n",
              "      <td>1670.0</td>\n",
              "      <td>3.951220e+05</td>\n",
              "      <td>2</td>\n",
              "    </tr>\n",
              "    <tr>\n",
              "      <th>767</th>\n",
              "      <td>Nickel</td>\n",
              "      <td>-29.053396</td>\n",
              "      <td>122.151539</td>\n",
              "      <td>Eastern Goldfields Superterrane</td>\n",
              "      <td>10.500000</td>\n",
              "      <td>0.988000</td>\n",
              "      <td>103.740000</td>\n",
              "      <td>6.900000</td>\n",
              "      <td>1.537423</td>\n",
              "      <td>103.740000</td>\n",
              "      <td>9/10/2022</td>\n",
              "      <td>1700.5</td>\n",
              "      <td>1.173345e+04</td>\n",
              "      <td>3</td>\n",
              "    </tr>\n",
              "    <tr>\n",
              "      <th>72</th>\n",
              "      <td>Gold</td>\n",
              "      <td>-29.153011</td>\n",
              "      <td>121.675721</td>\n",
              "      <td>Eastern Goldfields Superterrane</td>\n",
              "      <td>76.230000</td>\n",
              "      <td>0.597740</td>\n",
              "      <td>45565.700000</td>\n",
              "      <td>30.000000</td>\n",
              "      <td>1.798119</td>\n",
              "      <td>45565.700000</td>\n",
              "      <td>8/10/2022</td>\n",
              "      <td>1700.5</td>\n",
              "      <td>5.101500e+04</td>\n",
              "      <td>1</td>\n",
              "    </tr>\n",
              "    <tr>\n",
              "      <th>235</th>\n",
              "      <td>Gold</td>\n",
              "      <td>-30.566178</td>\n",
              "      <td>121.112010</td>\n",
              "      <td>Yilgarn Craton</td>\n",
              "      <td>0.330000</td>\n",
              "      <td>1.054545</td>\n",
              "      <td>348.000000</td>\n",
              "      <td>30.700000</td>\n",
              "      <td>6.133579</td>\n",
              "      <td>348.000000</td>\n",
              "      <td>8/10/2022</td>\n",
              "      <td>1700.5</td>\n",
              "      <td>5.220535e+04</td>\n",
              "      <td>1</td>\n",
              "    </tr>\n",
              "    <tr>\n",
              "      <th>37</th>\n",
              "      <td>Gold</td>\n",
              "      <td>-27.514745</td>\n",
              "      <td>120.940913</td>\n",
              "      <td>Eastern Goldfields Superterrane</td>\n",
              "      <td>2.225000</td>\n",
              "      <td>1.922652</td>\n",
              "      <td>4277.900000</td>\n",
              "      <td>1.900000</td>\n",
              "      <td>0.020000</td>\n",
              "      <td>4277.900000</td>\n",
              "      <td>1/10/2022</td>\n",
              "      <td>1662.4</td>\n",
              "      <td>3.158560e+03</td>\n",
              "      <td>1</td>\n",
              "    </tr>\n",
              "  </tbody>\n",
              "</table>\n",
              "<p>904 rows × 14 columns</p>\n",
              "</div>\n",
              "      <button class=\"colab-df-convert\" onclick=\"convertToInteractive('df-46b786dd-cc59-4f72-a524-e78709599ea9')\"\n",
              "              title=\"Convert this dataframe to an interactive table.\"\n",
              "              style=\"display:none;\">\n",
              "        \n",
              "  <svg xmlns=\"http://www.w3.org/2000/svg\" height=\"24px\"viewBox=\"0 0 24 24\"\n",
              "       width=\"24px\">\n",
              "    <path d=\"M0 0h24v24H0V0z\" fill=\"none\"/>\n",
              "    <path d=\"M18.56 5.44l.94 2.06.94-2.06 2.06-.94-2.06-.94-.94-2.06-.94 2.06-2.06.94zm-11 1L8.5 8.5l.94-2.06 2.06-.94-2.06-.94L8.5 2.5l-.94 2.06-2.06.94zm10 10l.94 2.06.94-2.06 2.06-.94-2.06-.94-.94-2.06-.94 2.06-2.06.94z\"/><path d=\"M17.41 7.96l-1.37-1.37c-.4-.4-.92-.59-1.43-.59-.52 0-1.04.2-1.43.59L10.3 9.45l-7.72 7.72c-.78.78-.78 2.05 0 2.83L4 21.41c.39.39.9.59 1.41.59.51 0 1.02-.2 1.41-.59l7.78-7.78 2.81-2.81c.8-.78.8-2.07 0-2.86zM5.41 20L4 18.59l7.72-7.72 1.47 1.35L5.41 20z\"/>\n",
              "  </svg>\n",
              "      </button>\n",
              "      \n",
              "  <style>\n",
              "    .colab-df-container {\n",
              "      display:flex;\n",
              "      flex-wrap:wrap;\n",
              "      gap: 12px;\n",
              "    }\n",
              "\n",
              "    .colab-df-convert {\n",
              "      background-color: #E8F0FE;\n",
              "      border: none;\n",
              "      border-radius: 50%;\n",
              "      cursor: pointer;\n",
              "      display: none;\n",
              "      fill: #1967D2;\n",
              "      height: 32px;\n",
              "      padding: 0 0 0 0;\n",
              "      width: 32px;\n",
              "    }\n",
              "\n",
              "    .colab-df-convert:hover {\n",
              "      background-color: #E2EBFA;\n",
              "      box-shadow: 0px 1px 2px rgba(60, 64, 67, 0.3), 0px 1px 3px 1px rgba(60, 64, 67, 0.15);\n",
              "      fill: #174EA6;\n",
              "    }\n",
              "\n",
              "    [theme=dark] .colab-df-convert {\n",
              "      background-color: #3B4455;\n",
              "      fill: #D2E3FC;\n",
              "    }\n",
              "\n",
              "    [theme=dark] .colab-df-convert:hover {\n",
              "      background-color: #434B5C;\n",
              "      box-shadow: 0px 1px 3px 1px rgba(0, 0, 0, 0.15);\n",
              "      filter: drop-shadow(0px 1px 2px rgba(0, 0, 0, 0.3));\n",
              "      fill: #FFFFFF;\n",
              "    }\n",
              "  </style>\n",
              "\n",
              "      <script>\n",
              "        const buttonEl =\n",
              "          document.querySelector('#df-46b786dd-cc59-4f72-a524-e78709599ea9 button.colab-df-convert');\n",
              "        buttonEl.style.display =\n",
              "          google.colab.kernel.accessAllowed ? 'block' : 'none';\n",
              "\n",
              "        async function convertToInteractive(key) {\n",
              "          const element = document.querySelector('#df-46b786dd-cc59-4f72-a524-e78709599ea9');\n",
              "          const dataTable =\n",
              "            await google.colab.kernel.invokeFunction('convertToInteractive',\n",
              "                                                     [key], {});\n",
              "          if (!dataTable) return;\n",
              "\n",
              "          const docLinkHtml = 'Like what you see? Visit the ' +\n",
              "            '<a target=\"_blank\" href=https://colab.research.google.com/notebooks/data_table.ipynb>data table notebook</a>'\n",
              "            + ' to learn more about interactive tables.';\n",
              "          element.innerHTML = '';\n",
              "          dataTable['output_type'] = 'display_data';\n",
              "          await google.colab.output.renderOutput(dataTable, element);\n",
              "          const docLink = document.createElement('div');\n",
              "          docLink.innerHTML = docLinkHtml;\n",
              "          element.appendChild(docLink);\n",
              "        }\n",
              "      </script>\n",
              "    </div>\n",
              "  </div>\n",
              "  "
            ]
          },
          "metadata": {},
          "execution_count": 8
        }
      ]
    },
    {
      "cell_type": "markdown",
      "source": [
        "**Convert Categorical variable to numeric. For Gold, Iron Nickel. Into three columns. 1 if it is that commodity or 0 if it isn't**"
      ],
      "metadata": {
        "id": "I22gNIs6eA6Q"
      }
    },
    {
      "cell_type": "code",
      "source": [
        "df1 = pd.get_dummies(df['COMMODITY'])\n",
        " \n",
        "# using pd.concat to concatenate the dataframes\n",
        "# df and df1 and storing the concatenated\n",
        "# dataFrame in df.\n",
        "df = pd.concat([df, df1], axis=1).reindex(df.index)\n",
        " \n",
        "# removing the column 'Purchased' from df\n",
        "# as it is of no use now.\n",
        "df.drop('COMMODITY', axis=1, inplace=True)\n",
        " \n",
        "# printing df\n",
        "df"
      ],
      "metadata": {
        "colab": {
          "base_uri": "https://localhost:8080/",
          "height": 765
        },
        "id": "ulQWwtkWeIhv",
        "outputId": "fc30fed6-46b4-47a0-a8e5-d9ba3d2b8af9"
      },
      "execution_count": null,
      "outputs": [
        {
          "output_type": "execute_result",
          "data": {
            "text/plain": [
              "      LATITUDE   LONGITUDE                              SITE  \\\n",
              "874 -26.107107  127.696907                 Musgrave Province   \n",
              "884 -26.039626  128.939310  Warakurna Large Igneous Province   \n",
              "878 -26.107107  127.696907                 Musgrave Province   \n",
              "784 -29.173211  122.253947   Eastern Goldfields Superterrane   \n",
              "525 -21.766987  116.777930                   Hamersley Basin   \n",
              "..         ...         ...                               ...   \n",
              "715 -30.044223  120.007463                   Youanmi Terrane   \n",
              "767 -29.053396  122.151539   Eastern Goldfields Superterrane   \n",
              "72  -29.153011  121.675721   Eastern Goldfields Superterrane   \n",
              "235 -30.566178  121.112010                    Yilgarn Craton   \n",
              "37  -27.514745  120.940913   Eastern Goldfields Superterrane   \n",
              "\n",
              "     RES_QTY_MILLION_TONNES  RES_QTY_GRAM_TONNE  RES_CON_KILOGRAM  \\\n",
              "874              389.100000            0.011643      45304.000000   \n",
              "884              215.837898           44.284417      95582.555410   \n",
              "878              545.100000            0.066735      36377.000000   \n",
              "784                4.650000           18.500000          0.860250   \n",
              "525               84.300000           57.188250         48.209695   \n",
              "..                      ...                 ...               ...   \n",
              "715             1445.760000           29.301637        423.631350   \n",
              "767               10.500000            0.988000        103.740000   \n",
              "72                76.230000            0.597740      45565.700000   \n",
              "235                0.330000            1.054545        348.000000   \n",
              "37                 2.225000            1.922652       4277.900000   \n",
              "\n",
              "     RV_QTY_million_tonnes  RV_QTY_G_GRAM_TONNE  POINT_SIZE_KILOGRAM  \\\n",
              "874             253.000000             0.012391         76654.000000   \n",
              "884             168.422406            45.640000        172450.541500   \n",
              "878             253.000000             0.100000         61677.000000   \n",
              "784               7.490000             1.881497             0.860250   \n",
              "525            1294.000000             2.988779            48.209695   \n",
              "..                     ...                  ...                  ...   \n",
              "715             236.600000            28.193153           490.336350   \n",
              "767               6.900000             1.537423           103.740000   \n",
              "72               30.000000             1.798119         45565.700000   \n",
              "235              30.700000             6.133579           348.000000   \n",
              "37                1.900000             0.020000          4277.900000   \n",
              "\n",
              "           DATE  GOLD_PRICE_USD  MINERAL_LAND_VALUE_USD  COMM_CODE  Gold  \\\n",
              "874  30/10/2022          1641.8            4.153754e+05          3     0   \n",
              "884  30/10/2022          1641.8            2.765159e+05          3     0   \n",
              "878  30/10/2022          1641.8            4.153754e+05          3     0   \n",
              "784  18/10/2022          1649.0            1.235101e+04          3     0   \n",
              "525   9/10/2022          1700.5            2.200447e+06          2     0   \n",
              "..          ...             ...                     ...        ...   ...   \n",
              "715  13/10/2022          1670.0            3.951220e+05          2     0   \n",
              "767   9/10/2022          1700.5            1.173345e+04          3     0   \n",
              "72    8/10/2022          1700.5            5.101500e+04          1     1   \n",
              "235   8/10/2022          1700.5            5.220535e+04          1     1   \n",
              "37    1/10/2022          1662.4            3.158560e+03          1     1   \n",
              "\n",
              "     Iron  Nickel  \n",
              "874     0       1  \n",
              "884     0       1  \n",
              "878     0       1  \n",
              "784     0       1  \n",
              "525     1       0  \n",
              "..    ...     ...  \n",
              "715     1       0  \n",
              "767     0       1  \n",
              "72      0       0  \n",
              "235     0       0  \n",
              "37      0       0  \n",
              "\n",
              "[904 rows x 16 columns]"
            ],
            "text/html": [
              "\n",
              "  <div id=\"df-2cfe5849-ab1a-4001-9e44-72d70858cc98\">\n",
              "    <div class=\"colab-df-container\">\n",
              "      <div>\n",
              "<style scoped>\n",
              "    .dataframe tbody tr th:only-of-type {\n",
              "        vertical-align: middle;\n",
              "    }\n",
              "\n",
              "    .dataframe tbody tr th {\n",
              "        vertical-align: top;\n",
              "    }\n",
              "\n",
              "    .dataframe thead th {\n",
              "        text-align: right;\n",
              "    }\n",
              "</style>\n",
              "<table border=\"1\" class=\"dataframe\">\n",
              "  <thead>\n",
              "    <tr style=\"text-align: right;\">\n",
              "      <th></th>\n",
              "      <th>LATITUDE</th>\n",
              "      <th>LONGITUDE</th>\n",
              "      <th>SITE</th>\n",
              "      <th>RES_QTY_MILLION_TONNES</th>\n",
              "      <th>RES_QTY_GRAM_TONNE</th>\n",
              "      <th>RES_CON_KILOGRAM</th>\n",
              "      <th>RV_QTY_million_tonnes</th>\n",
              "      <th>RV_QTY_G_GRAM_TONNE</th>\n",
              "      <th>POINT_SIZE_KILOGRAM</th>\n",
              "      <th>DATE</th>\n",
              "      <th>GOLD_PRICE_USD</th>\n",
              "      <th>MINERAL_LAND_VALUE_USD</th>\n",
              "      <th>COMM_CODE</th>\n",
              "      <th>Gold</th>\n",
              "      <th>Iron</th>\n",
              "      <th>Nickel</th>\n",
              "    </tr>\n",
              "  </thead>\n",
              "  <tbody>\n",
              "    <tr>\n",
              "      <th>874</th>\n",
              "      <td>-26.107107</td>\n",
              "      <td>127.696907</td>\n",
              "      <td>Musgrave Province</td>\n",
              "      <td>389.100000</td>\n",
              "      <td>0.011643</td>\n",
              "      <td>45304.000000</td>\n",
              "      <td>253.000000</td>\n",
              "      <td>0.012391</td>\n",
              "      <td>76654.000000</td>\n",
              "      <td>30/10/2022</td>\n",
              "      <td>1641.8</td>\n",
              "      <td>4.153754e+05</td>\n",
              "      <td>3</td>\n",
              "      <td>0</td>\n",
              "      <td>0</td>\n",
              "      <td>1</td>\n",
              "    </tr>\n",
              "    <tr>\n",
              "      <th>884</th>\n",
              "      <td>-26.039626</td>\n",
              "      <td>128.939310</td>\n",
              "      <td>Warakurna Large Igneous Province</td>\n",
              "      <td>215.837898</td>\n",
              "      <td>44.284417</td>\n",
              "      <td>95582.555410</td>\n",
              "      <td>168.422406</td>\n",
              "      <td>45.640000</td>\n",
              "      <td>172450.541500</td>\n",
              "      <td>30/10/2022</td>\n",
              "      <td>1641.8</td>\n",
              "      <td>2.765159e+05</td>\n",
              "      <td>3</td>\n",
              "      <td>0</td>\n",
              "      <td>0</td>\n",
              "      <td>1</td>\n",
              "    </tr>\n",
              "    <tr>\n",
              "      <th>878</th>\n",
              "      <td>-26.107107</td>\n",
              "      <td>127.696907</td>\n",
              "      <td>Musgrave Province</td>\n",
              "      <td>545.100000</td>\n",
              "      <td>0.066735</td>\n",
              "      <td>36377.000000</td>\n",
              "      <td>253.000000</td>\n",
              "      <td>0.100000</td>\n",
              "      <td>61677.000000</td>\n",
              "      <td>30/10/2022</td>\n",
              "      <td>1641.8</td>\n",
              "      <td>4.153754e+05</td>\n",
              "      <td>3</td>\n",
              "      <td>0</td>\n",
              "      <td>0</td>\n",
              "      <td>1</td>\n",
              "    </tr>\n",
              "    <tr>\n",
              "      <th>784</th>\n",
              "      <td>-29.173211</td>\n",
              "      <td>122.253947</td>\n",
              "      <td>Eastern Goldfields Superterrane</td>\n",
              "      <td>4.650000</td>\n",
              "      <td>18.500000</td>\n",
              "      <td>0.860250</td>\n",
              "      <td>7.490000</td>\n",
              "      <td>1.881497</td>\n",
              "      <td>0.860250</td>\n",
              "      <td>18/10/2022</td>\n",
              "      <td>1649.0</td>\n",
              "      <td>1.235101e+04</td>\n",
              "      <td>3</td>\n",
              "      <td>0</td>\n",
              "      <td>0</td>\n",
              "      <td>1</td>\n",
              "    </tr>\n",
              "    <tr>\n",
              "      <th>525</th>\n",
              "      <td>-21.766987</td>\n",
              "      <td>116.777930</td>\n",
              "      <td>Hamersley Basin</td>\n",
              "      <td>84.300000</td>\n",
              "      <td>57.188250</td>\n",
              "      <td>48.209695</td>\n",
              "      <td>1294.000000</td>\n",
              "      <td>2.988779</td>\n",
              "      <td>48.209695</td>\n",
              "      <td>9/10/2022</td>\n",
              "      <td>1700.5</td>\n",
              "      <td>2.200447e+06</td>\n",
              "      <td>2</td>\n",
              "      <td>0</td>\n",
              "      <td>1</td>\n",
              "      <td>0</td>\n",
              "    </tr>\n",
              "    <tr>\n",
              "      <th>...</th>\n",
              "      <td>...</td>\n",
              "      <td>...</td>\n",
              "      <td>...</td>\n",
              "      <td>...</td>\n",
              "      <td>...</td>\n",
              "      <td>...</td>\n",
              "      <td>...</td>\n",
              "      <td>...</td>\n",
              "      <td>...</td>\n",
              "      <td>...</td>\n",
              "      <td>...</td>\n",
              "      <td>...</td>\n",
              "      <td>...</td>\n",
              "      <td>...</td>\n",
              "      <td>...</td>\n",
              "      <td>...</td>\n",
              "    </tr>\n",
              "    <tr>\n",
              "      <th>715</th>\n",
              "      <td>-30.044223</td>\n",
              "      <td>120.007463</td>\n",
              "      <td>Youanmi Terrane</td>\n",
              "      <td>1445.760000</td>\n",
              "      <td>29.301637</td>\n",
              "      <td>423.631350</td>\n",
              "      <td>236.600000</td>\n",
              "      <td>28.193153</td>\n",
              "      <td>490.336350</td>\n",
              "      <td>13/10/2022</td>\n",
              "      <td>1670.0</td>\n",
              "      <td>3.951220e+05</td>\n",
              "      <td>2</td>\n",
              "      <td>0</td>\n",
              "      <td>1</td>\n",
              "      <td>0</td>\n",
              "    </tr>\n",
              "    <tr>\n",
              "      <th>767</th>\n",
              "      <td>-29.053396</td>\n",
              "      <td>122.151539</td>\n",
              "      <td>Eastern Goldfields Superterrane</td>\n",
              "      <td>10.500000</td>\n",
              "      <td>0.988000</td>\n",
              "      <td>103.740000</td>\n",
              "      <td>6.900000</td>\n",
              "      <td>1.537423</td>\n",
              "      <td>103.740000</td>\n",
              "      <td>9/10/2022</td>\n",
              "      <td>1700.5</td>\n",
              "      <td>1.173345e+04</td>\n",
              "      <td>3</td>\n",
              "      <td>0</td>\n",
              "      <td>0</td>\n",
              "      <td>1</td>\n",
              "    </tr>\n",
              "    <tr>\n",
              "      <th>72</th>\n",
              "      <td>-29.153011</td>\n",
              "      <td>121.675721</td>\n",
              "      <td>Eastern Goldfields Superterrane</td>\n",
              "      <td>76.230000</td>\n",
              "      <td>0.597740</td>\n",
              "      <td>45565.700000</td>\n",
              "      <td>30.000000</td>\n",
              "      <td>1.798119</td>\n",
              "      <td>45565.700000</td>\n",
              "      <td>8/10/2022</td>\n",
              "      <td>1700.5</td>\n",
              "      <td>5.101500e+04</td>\n",
              "      <td>1</td>\n",
              "      <td>1</td>\n",
              "      <td>0</td>\n",
              "      <td>0</td>\n",
              "    </tr>\n",
              "    <tr>\n",
              "      <th>235</th>\n",
              "      <td>-30.566178</td>\n",
              "      <td>121.112010</td>\n",
              "      <td>Yilgarn Craton</td>\n",
              "      <td>0.330000</td>\n",
              "      <td>1.054545</td>\n",
              "      <td>348.000000</td>\n",
              "      <td>30.700000</td>\n",
              "      <td>6.133579</td>\n",
              "      <td>348.000000</td>\n",
              "      <td>8/10/2022</td>\n",
              "      <td>1700.5</td>\n",
              "      <td>5.220535e+04</td>\n",
              "      <td>1</td>\n",
              "      <td>1</td>\n",
              "      <td>0</td>\n",
              "      <td>0</td>\n",
              "    </tr>\n",
              "    <tr>\n",
              "      <th>37</th>\n",
              "      <td>-27.514745</td>\n",
              "      <td>120.940913</td>\n",
              "      <td>Eastern Goldfields Superterrane</td>\n",
              "      <td>2.225000</td>\n",
              "      <td>1.922652</td>\n",
              "      <td>4277.900000</td>\n",
              "      <td>1.900000</td>\n",
              "      <td>0.020000</td>\n",
              "      <td>4277.900000</td>\n",
              "      <td>1/10/2022</td>\n",
              "      <td>1662.4</td>\n",
              "      <td>3.158560e+03</td>\n",
              "      <td>1</td>\n",
              "      <td>1</td>\n",
              "      <td>0</td>\n",
              "      <td>0</td>\n",
              "    </tr>\n",
              "  </tbody>\n",
              "</table>\n",
              "<p>904 rows × 16 columns</p>\n",
              "</div>\n",
              "      <button class=\"colab-df-convert\" onclick=\"convertToInteractive('df-2cfe5849-ab1a-4001-9e44-72d70858cc98')\"\n",
              "              title=\"Convert this dataframe to an interactive table.\"\n",
              "              style=\"display:none;\">\n",
              "        \n",
              "  <svg xmlns=\"http://www.w3.org/2000/svg\" height=\"24px\"viewBox=\"0 0 24 24\"\n",
              "       width=\"24px\">\n",
              "    <path d=\"M0 0h24v24H0V0z\" fill=\"none\"/>\n",
              "    <path d=\"M18.56 5.44l.94 2.06.94-2.06 2.06-.94-2.06-.94-.94-2.06-.94 2.06-2.06.94zm-11 1L8.5 8.5l.94-2.06 2.06-.94-2.06-.94L8.5 2.5l-.94 2.06-2.06.94zm10 10l.94 2.06.94-2.06 2.06-.94-2.06-.94-.94-2.06-.94 2.06-2.06.94z\"/><path d=\"M17.41 7.96l-1.37-1.37c-.4-.4-.92-.59-1.43-.59-.52 0-1.04.2-1.43.59L10.3 9.45l-7.72 7.72c-.78.78-.78 2.05 0 2.83L4 21.41c.39.39.9.59 1.41.59.51 0 1.02-.2 1.41-.59l7.78-7.78 2.81-2.81c.8-.78.8-2.07 0-2.86zM5.41 20L4 18.59l7.72-7.72 1.47 1.35L5.41 20z\"/>\n",
              "  </svg>\n",
              "      </button>\n",
              "      \n",
              "  <style>\n",
              "    .colab-df-container {\n",
              "      display:flex;\n",
              "      flex-wrap:wrap;\n",
              "      gap: 12px;\n",
              "    }\n",
              "\n",
              "    .colab-df-convert {\n",
              "      background-color: #E8F0FE;\n",
              "      border: none;\n",
              "      border-radius: 50%;\n",
              "      cursor: pointer;\n",
              "      display: none;\n",
              "      fill: #1967D2;\n",
              "      height: 32px;\n",
              "      padding: 0 0 0 0;\n",
              "      width: 32px;\n",
              "    }\n",
              "\n",
              "    .colab-df-convert:hover {\n",
              "      background-color: #E2EBFA;\n",
              "      box-shadow: 0px 1px 2px rgba(60, 64, 67, 0.3), 0px 1px 3px 1px rgba(60, 64, 67, 0.15);\n",
              "      fill: #174EA6;\n",
              "    }\n",
              "\n",
              "    [theme=dark] .colab-df-convert {\n",
              "      background-color: #3B4455;\n",
              "      fill: #D2E3FC;\n",
              "    }\n",
              "\n",
              "    [theme=dark] .colab-df-convert:hover {\n",
              "      background-color: #434B5C;\n",
              "      box-shadow: 0px 1px 3px 1px rgba(0, 0, 0, 0.15);\n",
              "      filter: drop-shadow(0px 1px 2px rgba(0, 0, 0, 0.3));\n",
              "      fill: #FFFFFF;\n",
              "    }\n",
              "  </style>\n",
              "\n",
              "      <script>\n",
              "        const buttonEl =\n",
              "          document.querySelector('#df-2cfe5849-ab1a-4001-9e44-72d70858cc98 button.colab-df-convert');\n",
              "        buttonEl.style.display =\n",
              "          google.colab.kernel.accessAllowed ? 'block' : 'none';\n",
              "\n",
              "        async function convertToInteractive(key) {\n",
              "          const element = document.querySelector('#df-2cfe5849-ab1a-4001-9e44-72d70858cc98');\n",
              "          const dataTable =\n",
              "            await google.colab.kernel.invokeFunction('convertToInteractive',\n",
              "                                                     [key], {});\n",
              "          if (!dataTable) return;\n",
              "\n",
              "          const docLinkHtml = 'Like what you see? Visit the ' +\n",
              "            '<a target=\"_blank\" href=https://colab.research.google.com/notebooks/data_table.ipynb>data table notebook</a>'\n",
              "            + ' to learn more about interactive tables.';\n",
              "          element.innerHTML = '';\n",
              "          dataTable['output_type'] = 'display_data';\n",
              "          await google.colab.output.renderOutput(dataTable, element);\n",
              "          const docLink = document.createElement('div');\n",
              "          docLink.innerHTML = docLinkHtml;\n",
              "          element.appendChild(docLink);\n",
              "        }\n",
              "      </script>\n",
              "    </div>\n",
              "  </div>\n",
              "  "
            ]
          },
          "metadata": {},
          "execution_count": 9
        }
      ]
    },
    {
      "cell_type": "markdown",
      "source": [
        "**Remove variables not used for prediction**"
      ],
      "metadata": {
        "id": "UnhyxbyAtWP9"
      }
    },
    {
      "cell_type": "code",
      "source": [
        "df.drop('SITE', axis=1, inplace=True) \n",
        "df.drop('DATE', axis=1, inplace=True) \n",
        "df.drop('COMM_CODE', axis=1, inplace=True) "
      ],
      "metadata": {
        "id": "K8XuCcCapRKb"
      },
      "execution_count": null,
      "outputs": []
    },
    {
      "cell_type": "code",
      "source": [
        "df"
      ],
      "metadata": {
        "id": "kNILhM8Rsq9L",
        "outputId": "988daab0-0d87-4658-94d2-57ec52f67597",
        "colab": {
          "base_uri": "https://localhost:8080/",
          "height": 488
        }
      },
      "execution_count": null,
      "outputs": [
        {
          "output_type": "execute_result",
          "data": {
            "text/plain": [
              "      LATITUDE   LONGITUDE  RES_QTY_MILLION_TONNES  RES_QTY_GRAM_TONNE  \\\n",
              "874 -26.107107  127.696907              389.100000            0.011643   \n",
              "884 -26.039626  128.939310              215.837898           44.284417   \n",
              "878 -26.107107  127.696907              545.100000            0.066735   \n",
              "784 -29.173211  122.253947                4.650000           18.500000   \n",
              "525 -21.766987  116.777930               84.300000           57.188250   \n",
              "..         ...         ...                     ...                 ...   \n",
              "715 -30.044223  120.007463             1445.760000           29.301637   \n",
              "767 -29.053396  122.151539               10.500000            0.988000   \n",
              "72  -29.153011  121.675721               76.230000            0.597740   \n",
              "235 -30.566178  121.112010                0.330000            1.054545   \n",
              "37  -27.514745  120.940913                2.225000            1.922652   \n",
              "\n",
              "     RES_CON_KILOGRAM  RV_QTY_million_tonnes  RV_QTY_G_GRAM_TONNE  \\\n",
              "874      45304.000000             253.000000             0.012391   \n",
              "884      95582.555410             168.422406            45.640000   \n",
              "878      36377.000000             253.000000             0.100000   \n",
              "784          0.860250               7.490000             1.881497   \n",
              "525         48.209695            1294.000000             2.988779   \n",
              "..                ...                    ...                  ...   \n",
              "715        423.631350             236.600000            28.193153   \n",
              "767        103.740000               6.900000             1.537423   \n",
              "72       45565.700000              30.000000             1.798119   \n",
              "235        348.000000              30.700000             6.133579   \n",
              "37        4277.900000               1.900000             0.020000   \n",
              "\n",
              "     POINT_SIZE_KILOGRAM  GOLD_PRICE_USD  MINERAL_LAND_VALUE_USD  Gold  Iron  \\\n",
              "874         76654.000000          1641.8            4.153754e+05     0     0   \n",
              "884        172450.541500          1641.8            2.765159e+05     0     0   \n",
              "878         61677.000000          1641.8            4.153754e+05     0     0   \n",
              "784             0.860250          1649.0            1.235101e+04     0     0   \n",
              "525            48.209695          1700.5            2.200447e+06     0     1   \n",
              "..                   ...             ...                     ...   ...   ...   \n",
              "715           490.336350          1670.0            3.951220e+05     0     1   \n",
              "767           103.740000          1700.5            1.173345e+04     0     0   \n",
              "72          45565.700000          1700.5            5.101500e+04     1     0   \n",
              "235           348.000000          1700.5            5.220535e+04     1     0   \n",
              "37           4277.900000          1662.4            3.158560e+03     1     0   \n",
              "\n",
              "     Nickel  \n",
              "874       1  \n",
              "884       1  \n",
              "878       1  \n",
              "784       1  \n",
              "525       0  \n",
              "..      ...  \n",
              "715       0  \n",
              "767       1  \n",
              "72        0  \n",
              "235       0  \n",
              "37        0  \n",
              "\n",
              "[904 rows x 13 columns]"
            ],
            "text/html": [
              "\n",
              "  <div id=\"df-a61a9cc9-4094-4a02-9220-278fb6493aee\">\n",
              "    <div class=\"colab-df-container\">\n",
              "      <div>\n",
              "<style scoped>\n",
              "    .dataframe tbody tr th:only-of-type {\n",
              "        vertical-align: middle;\n",
              "    }\n",
              "\n",
              "    .dataframe tbody tr th {\n",
              "        vertical-align: top;\n",
              "    }\n",
              "\n",
              "    .dataframe thead th {\n",
              "        text-align: right;\n",
              "    }\n",
              "</style>\n",
              "<table border=\"1\" class=\"dataframe\">\n",
              "  <thead>\n",
              "    <tr style=\"text-align: right;\">\n",
              "      <th></th>\n",
              "      <th>LATITUDE</th>\n",
              "      <th>LONGITUDE</th>\n",
              "      <th>RES_QTY_MILLION_TONNES</th>\n",
              "      <th>RES_QTY_GRAM_TONNE</th>\n",
              "      <th>RES_CON_KILOGRAM</th>\n",
              "      <th>RV_QTY_million_tonnes</th>\n",
              "      <th>RV_QTY_G_GRAM_TONNE</th>\n",
              "      <th>POINT_SIZE_KILOGRAM</th>\n",
              "      <th>GOLD_PRICE_USD</th>\n",
              "      <th>MINERAL_LAND_VALUE_USD</th>\n",
              "      <th>Gold</th>\n",
              "      <th>Iron</th>\n",
              "      <th>Nickel</th>\n",
              "    </tr>\n",
              "  </thead>\n",
              "  <tbody>\n",
              "    <tr>\n",
              "      <th>874</th>\n",
              "      <td>-26.107107</td>\n",
              "      <td>127.696907</td>\n",
              "      <td>389.100000</td>\n",
              "      <td>0.011643</td>\n",
              "      <td>45304.000000</td>\n",
              "      <td>253.000000</td>\n",
              "      <td>0.012391</td>\n",
              "      <td>76654.000000</td>\n",
              "      <td>1641.8</td>\n",
              "      <td>4.153754e+05</td>\n",
              "      <td>0</td>\n",
              "      <td>0</td>\n",
              "      <td>1</td>\n",
              "    </tr>\n",
              "    <tr>\n",
              "      <th>884</th>\n",
              "      <td>-26.039626</td>\n",
              "      <td>128.939310</td>\n",
              "      <td>215.837898</td>\n",
              "      <td>44.284417</td>\n",
              "      <td>95582.555410</td>\n",
              "      <td>168.422406</td>\n",
              "      <td>45.640000</td>\n",
              "      <td>172450.541500</td>\n",
              "      <td>1641.8</td>\n",
              "      <td>2.765159e+05</td>\n",
              "      <td>0</td>\n",
              "      <td>0</td>\n",
              "      <td>1</td>\n",
              "    </tr>\n",
              "    <tr>\n",
              "      <th>878</th>\n",
              "      <td>-26.107107</td>\n",
              "      <td>127.696907</td>\n",
              "      <td>545.100000</td>\n",
              "      <td>0.066735</td>\n",
              "      <td>36377.000000</td>\n",
              "      <td>253.000000</td>\n",
              "      <td>0.100000</td>\n",
              "      <td>61677.000000</td>\n",
              "      <td>1641.8</td>\n",
              "      <td>4.153754e+05</td>\n",
              "      <td>0</td>\n",
              "      <td>0</td>\n",
              "      <td>1</td>\n",
              "    </tr>\n",
              "    <tr>\n",
              "      <th>784</th>\n",
              "      <td>-29.173211</td>\n",
              "      <td>122.253947</td>\n",
              "      <td>4.650000</td>\n",
              "      <td>18.500000</td>\n",
              "      <td>0.860250</td>\n",
              "      <td>7.490000</td>\n",
              "      <td>1.881497</td>\n",
              "      <td>0.860250</td>\n",
              "      <td>1649.0</td>\n",
              "      <td>1.235101e+04</td>\n",
              "      <td>0</td>\n",
              "      <td>0</td>\n",
              "      <td>1</td>\n",
              "    </tr>\n",
              "    <tr>\n",
              "      <th>525</th>\n",
              "      <td>-21.766987</td>\n",
              "      <td>116.777930</td>\n",
              "      <td>84.300000</td>\n",
              "      <td>57.188250</td>\n",
              "      <td>48.209695</td>\n",
              "      <td>1294.000000</td>\n",
              "      <td>2.988779</td>\n",
              "      <td>48.209695</td>\n",
              "      <td>1700.5</td>\n",
              "      <td>2.200447e+06</td>\n",
              "      <td>0</td>\n",
              "      <td>1</td>\n",
              "      <td>0</td>\n",
              "    </tr>\n",
              "    <tr>\n",
              "      <th>...</th>\n",
              "      <td>...</td>\n",
              "      <td>...</td>\n",
              "      <td>...</td>\n",
              "      <td>...</td>\n",
              "      <td>...</td>\n",
              "      <td>...</td>\n",
              "      <td>...</td>\n",
              "      <td>...</td>\n",
              "      <td>...</td>\n",
              "      <td>...</td>\n",
              "      <td>...</td>\n",
              "      <td>...</td>\n",
              "      <td>...</td>\n",
              "    </tr>\n",
              "    <tr>\n",
              "      <th>715</th>\n",
              "      <td>-30.044223</td>\n",
              "      <td>120.007463</td>\n",
              "      <td>1445.760000</td>\n",
              "      <td>29.301637</td>\n",
              "      <td>423.631350</td>\n",
              "      <td>236.600000</td>\n",
              "      <td>28.193153</td>\n",
              "      <td>490.336350</td>\n",
              "      <td>1670.0</td>\n",
              "      <td>3.951220e+05</td>\n",
              "      <td>0</td>\n",
              "      <td>1</td>\n",
              "      <td>0</td>\n",
              "    </tr>\n",
              "    <tr>\n",
              "      <th>767</th>\n",
              "      <td>-29.053396</td>\n",
              "      <td>122.151539</td>\n",
              "      <td>10.500000</td>\n",
              "      <td>0.988000</td>\n",
              "      <td>103.740000</td>\n",
              "      <td>6.900000</td>\n",
              "      <td>1.537423</td>\n",
              "      <td>103.740000</td>\n",
              "      <td>1700.5</td>\n",
              "      <td>1.173345e+04</td>\n",
              "      <td>0</td>\n",
              "      <td>0</td>\n",
              "      <td>1</td>\n",
              "    </tr>\n",
              "    <tr>\n",
              "      <th>72</th>\n",
              "      <td>-29.153011</td>\n",
              "      <td>121.675721</td>\n",
              "      <td>76.230000</td>\n",
              "      <td>0.597740</td>\n",
              "      <td>45565.700000</td>\n",
              "      <td>30.000000</td>\n",
              "      <td>1.798119</td>\n",
              "      <td>45565.700000</td>\n",
              "      <td>1700.5</td>\n",
              "      <td>5.101500e+04</td>\n",
              "      <td>1</td>\n",
              "      <td>0</td>\n",
              "      <td>0</td>\n",
              "    </tr>\n",
              "    <tr>\n",
              "      <th>235</th>\n",
              "      <td>-30.566178</td>\n",
              "      <td>121.112010</td>\n",
              "      <td>0.330000</td>\n",
              "      <td>1.054545</td>\n",
              "      <td>348.000000</td>\n",
              "      <td>30.700000</td>\n",
              "      <td>6.133579</td>\n",
              "      <td>348.000000</td>\n",
              "      <td>1700.5</td>\n",
              "      <td>5.220535e+04</td>\n",
              "      <td>1</td>\n",
              "      <td>0</td>\n",
              "      <td>0</td>\n",
              "    </tr>\n",
              "    <tr>\n",
              "      <th>37</th>\n",
              "      <td>-27.514745</td>\n",
              "      <td>120.940913</td>\n",
              "      <td>2.225000</td>\n",
              "      <td>1.922652</td>\n",
              "      <td>4277.900000</td>\n",
              "      <td>1.900000</td>\n",
              "      <td>0.020000</td>\n",
              "      <td>4277.900000</td>\n",
              "      <td>1662.4</td>\n",
              "      <td>3.158560e+03</td>\n",
              "      <td>1</td>\n",
              "      <td>0</td>\n",
              "      <td>0</td>\n",
              "    </tr>\n",
              "  </tbody>\n",
              "</table>\n",
              "<p>904 rows × 13 columns</p>\n",
              "</div>\n",
              "      <button class=\"colab-df-convert\" onclick=\"convertToInteractive('df-a61a9cc9-4094-4a02-9220-278fb6493aee')\"\n",
              "              title=\"Convert this dataframe to an interactive table.\"\n",
              "              style=\"display:none;\">\n",
              "        \n",
              "  <svg xmlns=\"http://www.w3.org/2000/svg\" height=\"24px\"viewBox=\"0 0 24 24\"\n",
              "       width=\"24px\">\n",
              "    <path d=\"M0 0h24v24H0V0z\" fill=\"none\"/>\n",
              "    <path d=\"M18.56 5.44l.94 2.06.94-2.06 2.06-.94-2.06-.94-.94-2.06-.94 2.06-2.06.94zm-11 1L8.5 8.5l.94-2.06 2.06-.94-2.06-.94L8.5 2.5l-.94 2.06-2.06.94zm10 10l.94 2.06.94-2.06 2.06-.94-2.06-.94-.94-2.06-.94 2.06-2.06.94z\"/><path d=\"M17.41 7.96l-1.37-1.37c-.4-.4-.92-.59-1.43-.59-.52 0-1.04.2-1.43.59L10.3 9.45l-7.72 7.72c-.78.78-.78 2.05 0 2.83L4 21.41c.39.39.9.59 1.41.59.51 0 1.02-.2 1.41-.59l7.78-7.78 2.81-2.81c.8-.78.8-2.07 0-2.86zM5.41 20L4 18.59l7.72-7.72 1.47 1.35L5.41 20z\"/>\n",
              "  </svg>\n",
              "      </button>\n",
              "      \n",
              "  <style>\n",
              "    .colab-df-container {\n",
              "      display:flex;\n",
              "      flex-wrap:wrap;\n",
              "      gap: 12px;\n",
              "    }\n",
              "\n",
              "    .colab-df-convert {\n",
              "      background-color: #E8F0FE;\n",
              "      border: none;\n",
              "      border-radius: 50%;\n",
              "      cursor: pointer;\n",
              "      display: none;\n",
              "      fill: #1967D2;\n",
              "      height: 32px;\n",
              "      padding: 0 0 0 0;\n",
              "      width: 32px;\n",
              "    }\n",
              "\n",
              "    .colab-df-convert:hover {\n",
              "      background-color: #E2EBFA;\n",
              "      box-shadow: 0px 1px 2px rgba(60, 64, 67, 0.3), 0px 1px 3px 1px rgba(60, 64, 67, 0.15);\n",
              "      fill: #174EA6;\n",
              "    }\n",
              "\n",
              "    [theme=dark] .colab-df-convert {\n",
              "      background-color: #3B4455;\n",
              "      fill: #D2E3FC;\n",
              "    }\n",
              "\n",
              "    [theme=dark] .colab-df-convert:hover {\n",
              "      background-color: #434B5C;\n",
              "      box-shadow: 0px 1px 3px 1px rgba(0, 0, 0, 0.15);\n",
              "      filter: drop-shadow(0px 1px 2px rgba(0, 0, 0, 0.3));\n",
              "      fill: #FFFFFF;\n",
              "    }\n",
              "  </style>\n",
              "\n",
              "      <script>\n",
              "        const buttonEl =\n",
              "          document.querySelector('#df-a61a9cc9-4094-4a02-9220-278fb6493aee button.colab-df-convert');\n",
              "        buttonEl.style.display =\n",
              "          google.colab.kernel.accessAllowed ? 'block' : 'none';\n",
              "\n",
              "        async function convertToInteractive(key) {\n",
              "          const element = document.querySelector('#df-a61a9cc9-4094-4a02-9220-278fb6493aee');\n",
              "          const dataTable =\n",
              "            await google.colab.kernel.invokeFunction('convertToInteractive',\n",
              "                                                     [key], {});\n",
              "          if (!dataTable) return;\n",
              "\n",
              "          const docLinkHtml = 'Like what you see? Visit the ' +\n",
              "            '<a target=\"_blank\" href=https://colab.research.google.com/notebooks/data_table.ipynb>data table notebook</a>'\n",
              "            + ' to learn more about interactive tables.';\n",
              "          element.innerHTML = '';\n",
              "          dataTable['output_type'] = 'display_data';\n",
              "          await google.colab.output.renderOutput(dataTable, element);\n",
              "          const docLink = document.createElement('div');\n",
              "          docLink.innerHTML = docLinkHtml;\n",
              "          element.appendChild(docLink);\n",
              "        }\n",
              "      </script>\n",
              "    </div>\n",
              "  </div>\n",
              "  "
            ]
          },
          "metadata": {},
          "execution_count": 11
        }
      ]
    },
    {
      "cell_type": "code",
      "source": [
        "df = df[['LATITUDE',\t'LONGITUDE',\t'RES_QTY_MILLION_TONNES',\t'RES_QTY_GRAM_TONNE',\t'RES_CON_KILOGRAM',\n",
        "         'RV_QTY_million_tonnes',\t'RV_QTY_G_GRAM_TONNE',\t'POINT_SIZE_KILOGRAM',\n",
        "         'GOLD_PRICE_USD','Gold','Iron','Nickel','MINERAL_LAND_VALUE_USD']]\n",
        "\n",
        "df"
      ],
      "metadata": {
        "colab": {
          "base_uri": "https://localhost:8080/",
          "height": 488
        },
        "id": "FCQlKHN0o379",
        "outputId": "2f2ca3c6-d3d6-4c31-8925-c1646f01dad1"
      },
      "execution_count": null,
      "outputs": [
        {
          "output_type": "execute_result",
          "data": {
            "text/plain": [
              "      LATITUDE   LONGITUDE  RES_QTY_MILLION_TONNES  RES_QTY_GRAM_TONNE  \\\n",
              "874 -26.107107  127.696907              389.100000            0.011643   \n",
              "884 -26.039626  128.939310              215.837898           44.284417   \n",
              "878 -26.107107  127.696907              545.100000            0.066735   \n",
              "784 -29.173211  122.253947                4.650000           18.500000   \n",
              "525 -21.766987  116.777930               84.300000           57.188250   \n",
              "..         ...         ...                     ...                 ...   \n",
              "715 -30.044223  120.007463             1445.760000           29.301637   \n",
              "767 -29.053396  122.151539               10.500000            0.988000   \n",
              "72  -29.153011  121.675721               76.230000            0.597740   \n",
              "235 -30.566178  121.112010                0.330000            1.054545   \n",
              "37  -27.514745  120.940913                2.225000            1.922652   \n",
              "\n",
              "     RES_CON_KILOGRAM  RV_QTY_million_tonnes  RV_QTY_G_GRAM_TONNE  \\\n",
              "874      45304.000000             253.000000             0.012391   \n",
              "884      95582.555410             168.422406            45.640000   \n",
              "878      36377.000000             253.000000             0.100000   \n",
              "784          0.860250               7.490000             1.881497   \n",
              "525         48.209695            1294.000000             2.988779   \n",
              "..                ...                    ...                  ...   \n",
              "715        423.631350             236.600000            28.193153   \n",
              "767        103.740000               6.900000             1.537423   \n",
              "72       45565.700000              30.000000             1.798119   \n",
              "235        348.000000              30.700000             6.133579   \n",
              "37        4277.900000               1.900000             0.020000   \n",
              "\n",
              "     POINT_SIZE_KILOGRAM  GOLD_PRICE_USD  Gold  Iron  Nickel  \\\n",
              "874         76654.000000          1641.8     0     0       1   \n",
              "884        172450.541500          1641.8     0     0       1   \n",
              "878         61677.000000          1641.8     0     0       1   \n",
              "784             0.860250          1649.0     0     0       1   \n",
              "525            48.209695          1700.5     0     1       0   \n",
              "..                   ...             ...   ...   ...     ...   \n",
              "715           490.336350          1670.0     0     1       0   \n",
              "767           103.740000          1700.5     0     0       1   \n",
              "72          45565.700000          1700.5     1     0       0   \n",
              "235           348.000000          1700.5     1     0       0   \n",
              "37           4277.900000          1662.4     1     0       0   \n",
              "\n",
              "     MINERAL_LAND_VALUE_USD  \n",
              "874            4.153754e+05  \n",
              "884            2.765159e+05  \n",
              "878            4.153754e+05  \n",
              "784            1.235101e+04  \n",
              "525            2.200447e+06  \n",
              "..                      ...  \n",
              "715            3.951220e+05  \n",
              "767            1.173345e+04  \n",
              "72             5.101500e+04  \n",
              "235            5.220535e+04  \n",
              "37             3.158560e+03  \n",
              "\n",
              "[904 rows x 13 columns]"
            ],
            "text/html": [
              "\n",
              "  <div id=\"df-eeaab8bc-6549-42c2-9d48-839f1c52c543\">\n",
              "    <div class=\"colab-df-container\">\n",
              "      <div>\n",
              "<style scoped>\n",
              "    .dataframe tbody tr th:only-of-type {\n",
              "        vertical-align: middle;\n",
              "    }\n",
              "\n",
              "    .dataframe tbody tr th {\n",
              "        vertical-align: top;\n",
              "    }\n",
              "\n",
              "    .dataframe thead th {\n",
              "        text-align: right;\n",
              "    }\n",
              "</style>\n",
              "<table border=\"1\" class=\"dataframe\">\n",
              "  <thead>\n",
              "    <tr style=\"text-align: right;\">\n",
              "      <th></th>\n",
              "      <th>LATITUDE</th>\n",
              "      <th>LONGITUDE</th>\n",
              "      <th>RES_QTY_MILLION_TONNES</th>\n",
              "      <th>RES_QTY_GRAM_TONNE</th>\n",
              "      <th>RES_CON_KILOGRAM</th>\n",
              "      <th>RV_QTY_million_tonnes</th>\n",
              "      <th>RV_QTY_G_GRAM_TONNE</th>\n",
              "      <th>POINT_SIZE_KILOGRAM</th>\n",
              "      <th>GOLD_PRICE_USD</th>\n",
              "      <th>Gold</th>\n",
              "      <th>Iron</th>\n",
              "      <th>Nickel</th>\n",
              "      <th>MINERAL_LAND_VALUE_USD</th>\n",
              "    </tr>\n",
              "  </thead>\n",
              "  <tbody>\n",
              "    <tr>\n",
              "      <th>874</th>\n",
              "      <td>-26.107107</td>\n",
              "      <td>127.696907</td>\n",
              "      <td>389.100000</td>\n",
              "      <td>0.011643</td>\n",
              "      <td>45304.000000</td>\n",
              "      <td>253.000000</td>\n",
              "      <td>0.012391</td>\n",
              "      <td>76654.000000</td>\n",
              "      <td>1641.8</td>\n",
              "      <td>0</td>\n",
              "      <td>0</td>\n",
              "      <td>1</td>\n",
              "      <td>4.153754e+05</td>\n",
              "    </tr>\n",
              "    <tr>\n",
              "      <th>884</th>\n",
              "      <td>-26.039626</td>\n",
              "      <td>128.939310</td>\n",
              "      <td>215.837898</td>\n",
              "      <td>44.284417</td>\n",
              "      <td>95582.555410</td>\n",
              "      <td>168.422406</td>\n",
              "      <td>45.640000</td>\n",
              "      <td>172450.541500</td>\n",
              "      <td>1641.8</td>\n",
              "      <td>0</td>\n",
              "      <td>0</td>\n",
              "      <td>1</td>\n",
              "      <td>2.765159e+05</td>\n",
              "    </tr>\n",
              "    <tr>\n",
              "      <th>878</th>\n",
              "      <td>-26.107107</td>\n",
              "      <td>127.696907</td>\n",
              "      <td>545.100000</td>\n",
              "      <td>0.066735</td>\n",
              "      <td>36377.000000</td>\n",
              "      <td>253.000000</td>\n",
              "      <td>0.100000</td>\n",
              "      <td>61677.000000</td>\n",
              "      <td>1641.8</td>\n",
              "      <td>0</td>\n",
              "      <td>0</td>\n",
              "      <td>1</td>\n",
              "      <td>4.153754e+05</td>\n",
              "    </tr>\n",
              "    <tr>\n",
              "      <th>784</th>\n",
              "      <td>-29.173211</td>\n",
              "      <td>122.253947</td>\n",
              "      <td>4.650000</td>\n",
              "      <td>18.500000</td>\n",
              "      <td>0.860250</td>\n",
              "      <td>7.490000</td>\n",
              "      <td>1.881497</td>\n",
              "      <td>0.860250</td>\n",
              "      <td>1649.0</td>\n",
              "      <td>0</td>\n",
              "      <td>0</td>\n",
              "      <td>1</td>\n",
              "      <td>1.235101e+04</td>\n",
              "    </tr>\n",
              "    <tr>\n",
              "      <th>525</th>\n",
              "      <td>-21.766987</td>\n",
              "      <td>116.777930</td>\n",
              "      <td>84.300000</td>\n",
              "      <td>57.188250</td>\n",
              "      <td>48.209695</td>\n",
              "      <td>1294.000000</td>\n",
              "      <td>2.988779</td>\n",
              "      <td>48.209695</td>\n",
              "      <td>1700.5</td>\n",
              "      <td>0</td>\n",
              "      <td>1</td>\n",
              "      <td>0</td>\n",
              "      <td>2.200447e+06</td>\n",
              "    </tr>\n",
              "    <tr>\n",
              "      <th>...</th>\n",
              "      <td>...</td>\n",
              "      <td>...</td>\n",
              "      <td>...</td>\n",
              "      <td>...</td>\n",
              "      <td>...</td>\n",
              "      <td>...</td>\n",
              "      <td>...</td>\n",
              "      <td>...</td>\n",
              "      <td>...</td>\n",
              "      <td>...</td>\n",
              "      <td>...</td>\n",
              "      <td>...</td>\n",
              "      <td>...</td>\n",
              "    </tr>\n",
              "    <tr>\n",
              "      <th>715</th>\n",
              "      <td>-30.044223</td>\n",
              "      <td>120.007463</td>\n",
              "      <td>1445.760000</td>\n",
              "      <td>29.301637</td>\n",
              "      <td>423.631350</td>\n",
              "      <td>236.600000</td>\n",
              "      <td>28.193153</td>\n",
              "      <td>490.336350</td>\n",
              "      <td>1670.0</td>\n",
              "      <td>0</td>\n",
              "      <td>1</td>\n",
              "      <td>0</td>\n",
              "      <td>3.951220e+05</td>\n",
              "    </tr>\n",
              "    <tr>\n",
              "      <th>767</th>\n",
              "      <td>-29.053396</td>\n",
              "      <td>122.151539</td>\n",
              "      <td>10.500000</td>\n",
              "      <td>0.988000</td>\n",
              "      <td>103.740000</td>\n",
              "      <td>6.900000</td>\n",
              "      <td>1.537423</td>\n",
              "      <td>103.740000</td>\n",
              "      <td>1700.5</td>\n",
              "      <td>0</td>\n",
              "      <td>0</td>\n",
              "      <td>1</td>\n",
              "      <td>1.173345e+04</td>\n",
              "    </tr>\n",
              "    <tr>\n",
              "      <th>72</th>\n",
              "      <td>-29.153011</td>\n",
              "      <td>121.675721</td>\n",
              "      <td>76.230000</td>\n",
              "      <td>0.597740</td>\n",
              "      <td>45565.700000</td>\n",
              "      <td>30.000000</td>\n",
              "      <td>1.798119</td>\n",
              "      <td>45565.700000</td>\n",
              "      <td>1700.5</td>\n",
              "      <td>1</td>\n",
              "      <td>0</td>\n",
              "      <td>0</td>\n",
              "      <td>5.101500e+04</td>\n",
              "    </tr>\n",
              "    <tr>\n",
              "      <th>235</th>\n",
              "      <td>-30.566178</td>\n",
              "      <td>121.112010</td>\n",
              "      <td>0.330000</td>\n",
              "      <td>1.054545</td>\n",
              "      <td>348.000000</td>\n",
              "      <td>30.700000</td>\n",
              "      <td>6.133579</td>\n",
              "      <td>348.000000</td>\n",
              "      <td>1700.5</td>\n",
              "      <td>1</td>\n",
              "      <td>0</td>\n",
              "      <td>0</td>\n",
              "      <td>5.220535e+04</td>\n",
              "    </tr>\n",
              "    <tr>\n",
              "      <th>37</th>\n",
              "      <td>-27.514745</td>\n",
              "      <td>120.940913</td>\n",
              "      <td>2.225000</td>\n",
              "      <td>1.922652</td>\n",
              "      <td>4277.900000</td>\n",
              "      <td>1.900000</td>\n",
              "      <td>0.020000</td>\n",
              "      <td>4277.900000</td>\n",
              "      <td>1662.4</td>\n",
              "      <td>1</td>\n",
              "      <td>0</td>\n",
              "      <td>0</td>\n",
              "      <td>3.158560e+03</td>\n",
              "    </tr>\n",
              "  </tbody>\n",
              "</table>\n",
              "<p>904 rows × 13 columns</p>\n",
              "</div>\n",
              "      <button class=\"colab-df-convert\" onclick=\"convertToInteractive('df-eeaab8bc-6549-42c2-9d48-839f1c52c543')\"\n",
              "              title=\"Convert this dataframe to an interactive table.\"\n",
              "              style=\"display:none;\">\n",
              "        \n",
              "  <svg xmlns=\"http://www.w3.org/2000/svg\" height=\"24px\"viewBox=\"0 0 24 24\"\n",
              "       width=\"24px\">\n",
              "    <path d=\"M0 0h24v24H0V0z\" fill=\"none\"/>\n",
              "    <path d=\"M18.56 5.44l.94 2.06.94-2.06 2.06-.94-2.06-.94-.94-2.06-.94 2.06-2.06.94zm-11 1L8.5 8.5l.94-2.06 2.06-.94-2.06-.94L8.5 2.5l-.94 2.06-2.06.94zm10 10l.94 2.06.94-2.06 2.06-.94-2.06-.94-.94-2.06-.94 2.06-2.06.94z\"/><path d=\"M17.41 7.96l-1.37-1.37c-.4-.4-.92-.59-1.43-.59-.52 0-1.04.2-1.43.59L10.3 9.45l-7.72 7.72c-.78.78-.78 2.05 0 2.83L4 21.41c.39.39.9.59 1.41.59.51 0 1.02-.2 1.41-.59l7.78-7.78 2.81-2.81c.8-.78.8-2.07 0-2.86zM5.41 20L4 18.59l7.72-7.72 1.47 1.35L5.41 20z\"/>\n",
              "  </svg>\n",
              "      </button>\n",
              "      \n",
              "  <style>\n",
              "    .colab-df-container {\n",
              "      display:flex;\n",
              "      flex-wrap:wrap;\n",
              "      gap: 12px;\n",
              "    }\n",
              "\n",
              "    .colab-df-convert {\n",
              "      background-color: #E8F0FE;\n",
              "      border: none;\n",
              "      border-radius: 50%;\n",
              "      cursor: pointer;\n",
              "      display: none;\n",
              "      fill: #1967D2;\n",
              "      height: 32px;\n",
              "      padding: 0 0 0 0;\n",
              "      width: 32px;\n",
              "    }\n",
              "\n",
              "    .colab-df-convert:hover {\n",
              "      background-color: #E2EBFA;\n",
              "      box-shadow: 0px 1px 2px rgba(60, 64, 67, 0.3), 0px 1px 3px 1px rgba(60, 64, 67, 0.15);\n",
              "      fill: #174EA6;\n",
              "    }\n",
              "\n",
              "    [theme=dark] .colab-df-convert {\n",
              "      background-color: #3B4455;\n",
              "      fill: #D2E3FC;\n",
              "    }\n",
              "\n",
              "    [theme=dark] .colab-df-convert:hover {\n",
              "      background-color: #434B5C;\n",
              "      box-shadow: 0px 1px 3px 1px rgba(0, 0, 0, 0.15);\n",
              "      filter: drop-shadow(0px 1px 2px rgba(0, 0, 0, 0.3));\n",
              "      fill: #FFFFFF;\n",
              "    }\n",
              "  </style>\n",
              "\n",
              "      <script>\n",
              "        const buttonEl =\n",
              "          document.querySelector('#df-eeaab8bc-6549-42c2-9d48-839f1c52c543 button.colab-df-convert');\n",
              "        buttonEl.style.display =\n",
              "          google.colab.kernel.accessAllowed ? 'block' : 'none';\n",
              "\n",
              "        async function convertToInteractive(key) {\n",
              "          const element = document.querySelector('#df-eeaab8bc-6549-42c2-9d48-839f1c52c543');\n",
              "          const dataTable =\n",
              "            await google.colab.kernel.invokeFunction('convertToInteractive',\n",
              "                                                     [key], {});\n",
              "          if (!dataTable) return;\n",
              "\n",
              "          const docLinkHtml = 'Like what you see? Visit the ' +\n",
              "            '<a target=\"_blank\" href=https://colab.research.google.com/notebooks/data_table.ipynb>data table notebook</a>'\n",
              "            + ' to learn more about interactive tables.';\n",
              "          element.innerHTML = '';\n",
              "          dataTable['output_type'] = 'display_data';\n",
              "          await google.colab.output.renderOutput(dataTable, element);\n",
              "          const docLink = document.createElement('div');\n",
              "          docLink.innerHTML = docLinkHtml;\n",
              "          element.appendChild(docLink);\n",
              "        }\n",
              "      </script>\n",
              "    </div>\n",
              "  </div>\n",
              "  "
            ]
          },
          "metadata": {},
          "execution_count": 8
        }
      ]
    },
    {
      "cell_type": "markdown",
      "source": [
        "Create Train, Test and Validation sets"
      ],
      "metadata": {
        "id": "Hp9nFyLGx5U2"
      }
    },
    {
      "cell_type": "code",
      "source": [
        "X = df.drop(columns='MINERAL_LAND_VALUE_USD')\n",
        "X.head() # Creating Features for input"
      ],
      "metadata": {
        "colab": {
          "base_uri": "https://localhost:8080/",
          "height": 206
        },
        "id": "CJVselKhyCNO",
        "outputId": "ca9c5c19-8594-40bb-eebc-75b638f49030"
      },
      "execution_count": null,
      "outputs": [
        {
          "output_type": "execute_result",
          "data": {
            "text/plain": [
              "      LATITUDE   LONGITUDE  RES_QTY_MILLION_TONNES  RES_QTY_GRAM_TONNE  \\\n",
              "874 -26.107107  127.696907              389.100000            0.011643   \n",
              "884 -26.039626  128.939310              215.837898           44.284417   \n",
              "878 -26.107107  127.696907              545.100000            0.066735   \n",
              "784 -29.173211  122.253947                4.650000           18.500000   \n",
              "525 -21.766987  116.777930               84.300000           57.188250   \n",
              "\n",
              "     RES_CON_KILOGRAM  RV_QTY_million_tonnes  RV_QTY_G_GRAM_TONNE  \\\n",
              "874      45304.000000             253.000000             0.012391   \n",
              "884      95582.555410             168.422406            45.640000   \n",
              "878      36377.000000             253.000000             0.100000   \n",
              "784          0.860250               7.490000             1.881497   \n",
              "525         48.209695            1294.000000             2.988779   \n",
              "\n",
              "     POINT_SIZE_KILOGRAM  GOLD_PRICE_USD  Gold  Iron  Nickel  \n",
              "874         76654.000000          1641.8     0     0       1  \n",
              "884        172450.541500          1641.8     0     0       1  \n",
              "878         61677.000000          1641.8     0     0       1  \n",
              "784             0.860250          1649.0     0     0       1  \n",
              "525            48.209695          1700.5     0     1       0  "
            ],
            "text/html": [
              "\n",
              "  <div id=\"df-808a977e-0aea-4e37-9a07-e1922d39bd6e\">\n",
              "    <div class=\"colab-df-container\">\n",
              "      <div>\n",
              "<style scoped>\n",
              "    .dataframe tbody tr th:only-of-type {\n",
              "        vertical-align: middle;\n",
              "    }\n",
              "\n",
              "    .dataframe tbody tr th {\n",
              "        vertical-align: top;\n",
              "    }\n",
              "\n",
              "    .dataframe thead th {\n",
              "        text-align: right;\n",
              "    }\n",
              "</style>\n",
              "<table border=\"1\" class=\"dataframe\">\n",
              "  <thead>\n",
              "    <tr style=\"text-align: right;\">\n",
              "      <th></th>\n",
              "      <th>LATITUDE</th>\n",
              "      <th>LONGITUDE</th>\n",
              "      <th>RES_QTY_MILLION_TONNES</th>\n",
              "      <th>RES_QTY_GRAM_TONNE</th>\n",
              "      <th>RES_CON_KILOGRAM</th>\n",
              "      <th>RV_QTY_million_tonnes</th>\n",
              "      <th>RV_QTY_G_GRAM_TONNE</th>\n",
              "      <th>POINT_SIZE_KILOGRAM</th>\n",
              "      <th>GOLD_PRICE_USD</th>\n",
              "      <th>Gold</th>\n",
              "      <th>Iron</th>\n",
              "      <th>Nickel</th>\n",
              "    </tr>\n",
              "  </thead>\n",
              "  <tbody>\n",
              "    <tr>\n",
              "      <th>874</th>\n",
              "      <td>-26.107107</td>\n",
              "      <td>127.696907</td>\n",
              "      <td>389.100000</td>\n",
              "      <td>0.011643</td>\n",
              "      <td>45304.000000</td>\n",
              "      <td>253.000000</td>\n",
              "      <td>0.012391</td>\n",
              "      <td>76654.000000</td>\n",
              "      <td>1641.8</td>\n",
              "      <td>0</td>\n",
              "      <td>0</td>\n",
              "      <td>1</td>\n",
              "    </tr>\n",
              "    <tr>\n",
              "      <th>884</th>\n",
              "      <td>-26.039626</td>\n",
              "      <td>128.939310</td>\n",
              "      <td>215.837898</td>\n",
              "      <td>44.284417</td>\n",
              "      <td>95582.555410</td>\n",
              "      <td>168.422406</td>\n",
              "      <td>45.640000</td>\n",
              "      <td>172450.541500</td>\n",
              "      <td>1641.8</td>\n",
              "      <td>0</td>\n",
              "      <td>0</td>\n",
              "      <td>1</td>\n",
              "    </tr>\n",
              "    <tr>\n",
              "      <th>878</th>\n",
              "      <td>-26.107107</td>\n",
              "      <td>127.696907</td>\n",
              "      <td>545.100000</td>\n",
              "      <td>0.066735</td>\n",
              "      <td>36377.000000</td>\n",
              "      <td>253.000000</td>\n",
              "      <td>0.100000</td>\n",
              "      <td>61677.000000</td>\n",
              "      <td>1641.8</td>\n",
              "      <td>0</td>\n",
              "      <td>0</td>\n",
              "      <td>1</td>\n",
              "    </tr>\n",
              "    <tr>\n",
              "      <th>784</th>\n",
              "      <td>-29.173211</td>\n",
              "      <td>122.253947</td>\n",
              "      <td>4.650000</td>\n",
              "      <td>18.500000</td>\n",
              "      <td>0.860250</td>\n",
              "      <td>7.490000</td>\n",
              "      <td>1.881497</td>\n",
              "      <td>0.860250</td>\n",
              "      <td>1649.0</td>\n",
              "      <td>0</td>\n",
              "      <td>0</td>\n",
              "      <td>1</td>\n",
              "    </tr>\n",
              "    <tr>\n",
              "      <th>525</th>\n",
              "      <td>-21.766987</td>\n",
              "      <td>116.777930</td>\n",
              "      <td>84.300000</td>\n",
              "      <td>57.188250</td>\n",
              "      <td>48.209695</td>\n",
              "      <td>1294.000000</td>\n",
              "      <td>2.988779</td>\n",
              "      <td>48.209695</td>\n",
              "      <td>1700.5</td>\n",
              "      <td>0</td>\n",
              "      <td>1</td>\n",
              "      <td>0</td>\n",
              "    </tr>\n",
              "  </tbody>\n",
              "</table>\n",
              "</div>\n",
              "      <button class=\"colab-df-convert\" onclick=\"convertToInteractive('df-808a977e-0aea-4e37-9a07-e1922d39bd6e')\"\n",
              "              title=\"Convert this dataframe to an interactive table.\"\n",
              "              style=\"display:none;\">\n",
              "        \n",
              "  <svg xmlns=\"http://www.w3.org/2000/svg\" height=\"24px\"viewBox=\"0 0 24 24\"\n",
              "       width=\"24px\">\n",
              "    <path d=\"M0 0h24v24H0V0z\" fill=\"none\"/>\n",
              "    <path d=\"M18.56 5.44l.94 2.06.94-2.06 2.06-.94-2.06-.94-.94-2.06-.94 2.06-2.06.94zm-11 1L8.5 8.5l.94-2.06 2.06-.94-2.06-.94L8.5 2.5l-.94 2.06-2.06.94zm10 10l.94 2.06.94-2.06 2.06-.94-2.06-.94-.94-2.06-.94 2.06-2.06.94z\"/><path d=\"M17.41 7.96l-1.37-1.37c-.4-.4-.92-.59-1.43-.59-.52 0-1.04.2-1.43.59L10.3 9.45l-7.72 7.72c-.78.78-.78 2.05 0 2.83L4 21.41c.39.39.9.59 1.41.59.51 0 1.02-.2 1.41-.59l7.78-7.78 2.81-2.81c.8-.78.8-2.07 0-2.86zM5.41 20L4 18.59l7.72-7.72 1.47 1.35L5.41 20z\"/>\n",
              "  </svg>\n",
              "      </button>\n",
              "      \n",
              "  <style>\n",
              "    .colab-df-container {\n",
              "      display:flex;\n",
              "      flex-wrap:wrap;\n",
              "      gap: 12px;\n",
              "    }\n",
              "\n",
              "    .colab-df-convert {\n",
              "      background-color: #E8F0FE;\n",
              "      border: none;\n",
              "      border-radius: 50%;\n",
              "      cursor: pointer;\n",
              "      display: none;\n",
              "      fill: #1967D2;\n",
              "      height: 32px;\n",
              "      padding: 0 0 0 0;\n",
              "      width: 32px;\n",
              "    }\n",
              "\n",
              "    .colab-df-convert:hover {\n",
              "      background-color: #E2EBFA;\n",
              "      box-shadow: 0px 1px 2px rgba(60, 64, 67, 0.3), 0px 1px 3px 1px rgba(60, 64, 67, 0.15);\n",
              "      fill: #174EA6;\n",
              "    }\n",
              "\n",
              "    [theme=dark] .colab-df-convert {\n",
              "      background-color: #3B4455;\n",
              "      fill: #D2E3FC;\n",
              "    }\n",
              "\n",
              "    [theme=dark] .colab-df-convert:hover {\n",
              "      background-color: #434B5C;\n",
              "      box-shadow: 0px 1px 3px 1px rgba(0, 0, 0, 0.15);\n",
              "      filter: drop-shadow(0px 1px 2px rgba(0, 0, 0, 0.3));\n",
              "      fill: #FFFFFF;\n",
              "    }\n",
              "  </style>\n",
              "\n",
              "      <script>\n",
              "        const buttonEl =\n",
              "          document.querySelector('#df-808a977e-0aea-4e37-9a07-e1922d39bd6e button.colab-df-convert');\n",
              "        buttonEl.style.display =\n",
              "          google.colab.kernel.accessAllowed ? 'block' : 'none';\n",
              "\n",
              "        async function convertToInteractive(key) {\n",
              "          const element = document.querySelector('#df-808a977e-0aea-4e37-9a07-e1922d39bd6e');\n",
              "          const dataTable =\n",
              "            await google.colab.kernel.invokeFunction('convertToInteractive',\n",
              "                                                     [key], {});\n",
              "          if (!dataTable) return;\n",
              "\n",
              "          const docLinkHtml = 'Like what you see? Visit the ' +\n",
              "            '<a target=\"_blank\" href=https://colab.research.google.com/notebooks/data_table.ipynb>data table notebook</a>'\n",
              "            + ' to learn more about interactive tables.';\n",
              "          element.innerHTML = '';\n",
              "          dataTable['output_type'] = 'display_data';\n",
              "          await google.colab.output.renderOutput(dataTable, element);\n",
              "          const docLink = document.createElement('div');\n",
              "          docLink.innerHTML = docLinkHtml;\n",
              "          element.appendChild(docLink);\n",
              "        }\n",
              "      </script>\n",
              "    </div>\n",
              "  </div>\n",
              "  "
            ]
          },
          "metadata": {},
          "execution_count": 12
        }
      ]
    },
    {
      "cell_type": "code",
      "source": [
        "Y = df[['MINERAL_LAND_VALUE_USD']] # This is our predicting feature \n",
        "Y.head()"
      ],
      "metadata": {
        "colab": {
          "base_uri": "https://localhost:8080/",
          "height": 206
        },
        "id": "IKBN9cTQyGlX",
        "outputId": "285d1978-20a6-40aa-adc3-5255bab3b329"
      },
      "execution_count": null,
      "outputs": [
        {
          "output_type": "execute_result",
          "data": {
            "text/plain": [
              "     MINERAL_LAND_VALUE_USD\n",
              "874            4.153754e+05\n",
              "884            2.765159e+05\n",
              "878            4.153754e+05\n",
              "784            1.235101e+04\n",
              "525            2.200447e+06"
            ],
            "text/html": [
              "\n",
              "  <div id=\"df-86a121bf-56cd-4af9-9f26-942757180a41\">\n",
              "    <div class=\"colab-df-container\">\n",
              "      <div>\n",
              "<style scoped>\n",
              "    .dataframe tbody tr th:only-of-type {\n",
              "        vertical-align: middle;\n",
              "    }\n",
              "\n",
              "    .dataframe tbody tr th {\n",
              "        vertical-align: top;\n",
              "    }\n",
              "\n",
              "    .dataframe thead th {\n",
              "        text-align: right;\n",
              "    }\n",
              "</style>\n",
              "<table border=\"1\" class=\"dataframe\">\n",
              "  <thead>\n",
              "    <tr style=\"text-align: right;\">\n",
              "      <th></th>\n",
              "      <th>MINERAL_LAND_VALUE_USD</th>\n",
              "    </tr>\n",
              "  </thead>\n",
              "  <tbody>\n",
              "    <tr>\n",
              "      <th>874</th>\n",
              "      <td>4.153754e+05</td>\n",
              "    </tr>\n",
              "    <tr>\n",
              "      <th>884</th>\n",
              "      <td>2.765159e+05</td>\n",
              "    </tr>\n",
              "    <tr>\n",
              "      <th>878</th>\n",
              "      <td>4.153754e+05</td>\n",
              "    </tr>\n",
              "    <tr>\n",
              "      <th>784</th>\n",
              "      <td>1.235101e+04</td>\n",
              "    </tr>\n",
              "    <tr>\n",
              "      <th>525</th>\n",
              "      <td>2.200447e+06</td>\n",
              "    </tr>\n",
              "  </tbody>\n",
              "</table>\n",
              "</div>\n",
              "      <button class=\"colab-df-convert\" onclick=\"convertToInteractive('df-86a121bf-56cd-4af9-9f26-942757180a41')\"\n",
              "              title=\"Convert this dataframe to an interactive table.\"\n",
              "              style=\"display:none;\">\n",
              "        \n",
              "  <svg xmlns=\"http://www.w3.org/2000/svg\" height=\"24px\"viewBox=\"0 0 24 24\"\n",
              "       width=\"24px\">\n",
              "    <path d=\"M0 0h24v24H0V0z\" fill=\"none\"/>\n",
              "    <path d=\"M18.56 5.44l.94 2.06.94-2.06 2.06-.94-2.06-.94-.94-2.06-.94 2.06-2.06.94zm-11 1L8.5 8.5l.94-2.06 2.06-.94-2.06-.94L8.5 2.5l-.94 2.06-2.06.94zm10 10l.94 2.06.94-2.06 2.06-.94-2.06-.94-.94-2.06-.94 2.06-2.06.94z\"/><path d=\"M17.41 7.96l-1.37-1.37c-.4-.4-.92-.59-1.43-.59-.52 0-1.04.2-1.43.59L10.3 9.45l-7.72 7.72c-.78.78-.78 2.05 0 2.83L4 21.41c.39.39.9.59 1.41.59.51 0 1.02-.2 1.41-.59l7.78-7.78 2.81-2.81c.8-.78.8-2.07 0-2.86zM5.41 20L4 18.59l7.72-7.72 1.47 1.35L5.41 20z\"/>\n",
              "  </svg>\n",
              "      </button>\n",
              "      \n",
              "  <style>\n",
              "    .colab-df-container {\n",
              "      display:flex;\n",
              "      flex-wrap:wrap;\n",
              "      gap: 12px;\n",
              "    }\n",
              "\n",
              "    .colab-df-convert {\n",
              "      background-color: #E8F0FE;\n",
              "      border: none;\n",
              "      border-radius: 50%;\n",
              "      cursor: pointer;\n",
              "      display: none;\n",
              "      fill: #1967D2;\n",
              "      height: 32px;\n",
              "      padding: 0 0 0 0;\n",
              "      width: 32px;\n",
              "    }\n",
              "\n",
              "    .colab-df-convert:hover {\n",
              "      background-color: #E2EBFA;\n",
              "      box-shadow: 0px 1px 2px rgba(60, 64, 67, 0.3), 0px 1px 3px 1px rgba(60, 64, 67, 0.15);\n",
              "      fill: #174EA6;\n",
              "    }\n",
              "\n",
              "    [theme=dark] .colab-df-convert {\n",
              "      background-color: #3B4455;\n",
              "      fill: #D2E3FC;\n",
              "    }\n",
              "\n",
              "    [theme=dark] .colab-df-convert:hover {\n",
              "      background-color: #434B5C;\n",
              "      box-shadow: 0px 1px 3px 1px rgba(0, 0, 0, 0.15);\n",
              "      filter: drop-shadow(0px 1px 2px rgba(0, 0, 0, 0.3));\n",
              "      fill: #FFFFFF;\n",
              "    }\n",
              "  </style>\n",
              "\n",
              "      <script>\n",
              "        const buttonEl =\n",
              "          document.querySelector('#df-86a121bf-56cd-4af9-9f26-942757180a41 button.colab-df-convert');\n",
              "        buttonEl.style.display =\n",
              "          google.colab.kernel.accessAllowed ? 'block' : 'none';\n",
              "\n",
              "        async function convertToInteractive(key) {\n",
              "          const element = document.querySelector('#df-86a121bf-56cd-4af9-9f26-942757180a41');\n",
              "          const dataTable =\n",
              "            await google.colab.kernel.invokeFunction('convertToInteractive',\n",
              "                                                     [key], {});\n",
              "          if (!dataTable) return;\n",
              "\n",
              "          const docLinkHtml = 'Like what you see? Visit the ' +\n",
              "            '<a target=\"_blank\" href=https://colab.research.google.com/notebooks/data_table.ipynb>data table notebook</a>'\n",
              "            + ' to learn more about interactive tables.';\n",
              "          element.innerHTML = '';\n",
              "          dataTable['output_type'] = 'display_data';\n",
              "          await google.colab.output.renderOutput(dataTable, element);\n",
              "          const docLink = document.createElement('div');\n",
              "          docLink.innerHTML = docLinkHtml;\n",
              "          element.appendChild(docLink);\n",
              "        }\n",
              "      </script>\n",
              "    </div>\n",
              "  </div>\n",
              "  "
            ]
          },
          "metadata": {},
          "execution_count": 13
        }
      ]
    },
    {
      "cell_type": "code",
      "source": [
        "# set aside 20% of train and test data for evaluation\n",
        "X_train, X_test, y_train, y_test = train_test_split(X, Y,\n",
        "    test_size=0.2, shuffle = True, random_state = 8)\n",
        "\n",
        "# Use the same function above for the validation set\n",
        "X_train, X_val, y_train, y_val = train_test_split(X_train, y_train, \n",
        "    test_size=0.25, random_state= 8)\n",
        "\n",
        "print(\"X_train shape: {}\".format(X_train.shape))\n",
        "print(\"y_train shape: {}\".format(y_train.shape))\n",
        "print(\"X_test shape: {}\".format(X_test.shape))\n",
        "print(\"y_test shape: {}\".format(y_test.shape))\n",
        "print(\"X_val shape: {}\".format(X_val.shape))\n",
        "print(\"y val shape: {}\".format(y_val.shape))\n"
      ],
      "metadata": {
        "colab": {
          "base_uri": "https://localhost:8080/"
        },
        "id": "JzzEBUPQx9Fv",
        "outputId": "175bbbcc-211d-4bf3-9537-0d70ed13a073"
      },
      "execution_count": null,
      "outputs": [
        {
          "output_type": "stream",
          "name": "stdout",
          "text": [
            "X_train shape: (542, 12)\n",
            "y_train shape: (542, 1)\n",
            "X_test shape: (181, 12)\n",
            "y_test shape: (181, 1)\n",
            "X_val shape: (181, 12)\n",
            "y val shape: (181, 1)\n"
          ]
        }
      ]
    },
    {
      "cell_type": "markdown",
      "source": [
        "**Data Standardization by using StandardScaler function**"
      ],
      "metadata": {
        "id": "eJf92-tEC82T"
      }
    },
    {
      "cell_type": "code",
      "source": [
        "from sklearn.preprocessing import StandardScaler\n",
        "\n",
        "scaler = StandardScaler().fit(df.iloc[:, :9])\n",
        "\n",
        "def preprocessor(X):\n",
        "  A = np.copy(X)\n",
        "  A[:, :9] = scaler.transform(A[:, :9])\n",
        "  return A\n",
        "\n",
        "\n",
        "X_train, X_val,X_test = preprocessor(X_train), preprocessor(X_val),preprocessor(X_test)\n",
        "\n",
        "\n",
        "\n",
        "\n"
      ],
      "metadata": {
        "colab": {
          "base_uri": "https://localhost:8080/"
        },
        "id": "8kfMAjUzrDCj",
        "outputId": "9e094f61-76ef-42c3-c723-48cb26a4bec4"
      },
      "execution_count": null,
      "outputs": [
        {
          "output_type": "stream",
          "name": "stderr",
          "text": [
            "/usr/local/lib/python3.7/dist-packages/sklearn/base.py:451: UserWarning: X does not have valid feature names, but StandardScaler was fitted with feature names\n",
            "  \"X does not have valid feature names, but\"\n",
            "/usr/local/lib/python3.7/dist-packages/sklearn/base.py:451: UserWarning: X does not have valid feature names, but StandardScaler was fitted with feature names\n",
            "  \"X does not have valid feature names, but\"\n",
            "/usr/local/lib/python3.7/dist-packages/sklearn/base.py:451: UserWarning: X does not have valid feature names, but StandardScaler was fitted with feature names\n",
            "  \"X does not have valid feature names, but\"\n"
          ]
        }
      ]
    },
    {
      "cell_type": "code",
      "source": [
        "X_train.shape,X_test.shape,X_val.shape"
      ],
      "metadata": {
        "colab": {
          "base_uri": "https://localhost:8080/"
        },
        "id": "v24QgH9w2wCD",
        "outputId": "eca54b20-8816-4a54-a767-097974d49b82"
      },
      "execution_count": null,
      "outputs": [
        {
          "output_type": "execute_result",
          "data": {
            "text/plain": [
              "((542, 12), (181, 12), (181, 12))"
            ]
          },
          "metadata": {},
          "execution_count": 16
        }
      ]
    },
    {
      "cell_type": "code",
      "source": [
        "pd.DataFrame(X_train).hist()\n",
        "pd.DataFrame(X_test).hist()\n",
        "pd.DataFrame(X_val).hist()"
      ],
      "metadata": {
        "colab": {
          "base_uri": "https://localhost:8080/",
          "height": 1000
        },
        "id": "OW1Yes8st6_T",
        "outputId": "b9dc77ba-5847-44c8-f0ca-0a0bbb357627"
      },
      "execution_count": null,
      "outputs": [
        {
          "output_type": "execute_result",
          "data": {
            "text/plain": [
              "array([[<matplotlib.axes._subplots.AxesSubplot object at 0x7f81a6df2950>,\n",
              "        <matplotlib.axes._subplots.AxesSubplot object at 0x7f81a6086490>,\n",
              "        <matplotlib.axes._subplots.AxesSubplot object at 0x7f81a603ca90>],\n",
              "       [<matplotlib.axes._subplots.AxesSubplot object at 0x7f81a5ffe0d0>,\n",
              "        <matplotlib.axes._subplots.AxesSubplot object at 0x7f81a5fb76d0>,\n",
              "        <matplotlib.axes._subplots.AxesSubplot object at 0x7f81a5f6ecd0>],\n",
              "       [<matplotlib.axes._subplots.AxesSubplot object at 0x7f81a5f31310>,\n",
              "        <matplotlib.axes._subplots.AxesSubplot object at 0x7f81a5f68910>,\n",
              "        <matplotlib.axes._subplots.AxesSubplot object at 0x7f81a5ef29d0>],\n",
              "       [<matplotlib.axes._subplots.AxesSubplot object at 0x7f81a5eb7150>,\n",
              "        <matplotlib.axes._subplots.AxesSubplot object at 0x7f81a5e9bb50>,\n",
              "        <matplotlib.axes._subplots.AxesSubplot object at 0x7f81a5e5d190>]],\n",
              "      dtype=object)"
            ]
          },
          "metadata": {},
          "execution_count": 17
        },
        {
          "output_type": "display_data",
          "data": {
            "text/plain": [
              "<Figure size 432x288 with 12 Axes>"
            ],
            "image/png": "[encoded data removed]"
          },
          "metadata": {
            "needs_background": "light"
          }
        },
        {
          "output_type": "display_data",
          "data": {
            "text/plain": [
              "<Figure size 432x288 with 12 Axes>"
            ],
            "image/png": "[encoded data removed]"
          },
          "metadata": {
            "needs_background": "light"
          }
        },
        {
          "output_type": "display_data",
          "data": {
            "text/plain": [
              "<Figure size 432x288 with 12 Axes>"
            ],
            "image/png": "[encoded data removed]"
          },
          "metadata": {
            "needs_background": "light"
          }
        }
      ]
    },
    {
      "cell_type": "markdown",
      "source": [
        "**Linear Regresssion** \n"
      ],
      "metadata": {
        "id": "ikExiNcE5JXD"
      }
    },
    {
      "cell_type": "code",
      "source": [
        "from sklearn.metrics import mean_squared_error as mse \n",
        "from sklearn.linear_model import LinearRegression\n",
        "\n",
        "lm = LinearRegression().fit(X_train, y_train)                                                   # Trying to observe the training and validation error for linear regresssion  \n",
        "mse(lm.predict(X_train), (y_train), squared = False) ,mse(lm.predict(X_val), (y_val), squared = False) # By observing the results, there is chances we are slightly underfitting as the training loss is lower than validation loss"
      ],
      "metadata": {
        "colab": {
          "base_uri": "https://localhost:8080/"
        },
        "id": "Rwj4ao5u5PLi",
        "outputId": "bffe2642-be59-45f9-bc8a-9bd9165c388b"
      },
      "execution_count": null,
      "outputs": [
        {
          "output_type": "execute_result",
          "data": {
            "text/plain": [
              "(10194.391301836056, 6128.63394246127)"
            ]
          },
          "metadata": {},
          "execution_count": 15
        }
      ]
    },
    {
      "cell_type": "markdown",
      "source": [
        "**KK Neighbours model** "
      ],
      "metadata": {
        "id": "mrinQNdk64PV"
      }
    },
    {
      "cell_type": "code",
      "source": [
        "from sklearn.neighbors import KNeighborsRegressor\n",
        "knn = KNeighborsRegressor(n_neighbors=3).fit(X_train, y_train)           #Noted that when the n_neighbor number was increased the errors for both increased dramatically. Hence 3 was the best.\n",
        "mse(knn.predict(X_train), (y_train), squared = False) ,mse(knn.predict(X_val), (y_val), squared = False)"
      ],
      "metadata": {
        "colab": {
          "base_uri": "https://localhost:8080/"
        },
        "id": "MMjD-7Bn68E0",
        "outputId": "f3c3f279-7bb3-4555-88e7-9cb38188b629"
      },
      "execution_count": null,
      "outputs": [
        {
          "output_type": "execute_result",
          "data": {
            "text/plain": [
              "(146432.0018282124, 104887.76047565517)"
            ]
          },
          "metadata": {},
          "execution_count": 16
        }
      ]
    },
    {
      "cell_type": "markdown",
      "source": [
        "**Random Forest model** "
      ],
      "metadata": {
        "id": "1MKDS0e-8f_6"
      }
    },
    {
      "cell_type": "code",
      "source": [
        "from sklearn.ensemble import RandomForestRegressor\n",
        "\n",
        "rfr = RandomForestRegressor(max_depth = 13).fit(X_train, y_train)  # Noted that as the depth layer went up, the model increasing started underfitting although validation loss was decreasing. Based on manual trial and error the best depth number was 13 \n",
        "mse(rfr.predict(X_train), (y_train), squared = False) ,mse(rfr.predict(X_val), (y_val), squared = False)"
      ],
      "metadata": {
        "colab": {
          "base_uri": "https://localhost:8080/"
        },
        "id": "vnoKbPh58jko",
        "outputId": "c44d30e5-b9fb-40d9-de73-fab61c2c0675"
      },
      "execution_count": null,
      "outputs": [
        {
          "output_type": "stream",
          "name": "stderr",
          "text": [
            "/usr/local/lib/python3.7/dist-packages/ipykernel_launcher.py:3: DataConversionWarning: A column-vector y was passed when a 1d array was expected. Please change the shape of y to (n_samples,), for example using ravel().\n",
            "  This is separate from the ipykernel package so we can avoid doing imports until\n"
          ]
        },
        {
          "output_type": "execute_result",
          "data": {
            "text/plain": [
              "(12280.370199763514, 10007.47416097357)"
            ]
          },
          "metadata": {},
          "execution_count": 22
        }
      ]
    },
    {
      "cell_type": "markdown",
      "source": [
        "Gradient boosting model"
      ],
      "metadata": {
        "id": "G-ynah-o-3El"
      }
    },
    {
      "cell_type": "code",
      "source": [
        "from sklearn.ensemble import GradientBoostingRegressor\n",
        "\n",
        "\n",
        "gbr = GradientBoostingRegressor(n_estimators= 52).fit(X_train, y_train)  # Noted that arond 50 is when train and val loss are similar and low. So less signs of over/underfitting. Leave at 52. Best so far\n",
        "mse(gbr.predict(X_train), (y_train), squared = False) ,mse(gbr.predict(X_val), (y_val), squared = False)"
      ],
      "metadata": {
        "id": "SXWqSN_w-99d",
        "outputId": "96cfdcc2-793b-4253-c376-4400e77885c9",
        "colab": {
          "base_uri": "https://localhost:8080/"
        }
      },
      "execution_count": null,
      "outputs": [
        {
          "output_type": "stream",
          "name": "stderr",
          "text": [
            "/usr/local/lib/python3.7/dist-packages/sklearn/ensemble/_gb.py:494: DataConversionWarning: A column-vector y was passed when a 1d array was expected. Please change the shape of y to (n_samples, ), for example using ravel().\n",
            "  y = column_or_1d(y, warn=True)\n"
          ]
        },
        {
          "output_type": "execute_result",
          "data": {
            "text/plain": [
              "(5352.316927620679, 6119.357213054674)"
            ]
          },
          "metadata": {},
          "execution_count": 23
        }
      ]
    },
    {
      "cell_type": "markdown",
      "source": [
        "DNN libraries"
      ],
      "metadata": {
        "id": "vHzfJkWzAkeq"
      }
    },
    {
      "cell_type": "code",
      "source": [
        "from tensorflow.keras.models import Sequential\n",
        "from tensorflow.keras.layers import * \n",
        "from tensorflow.keras.callbacks import ModelCheckpoint\n",
        "from tensorflow.keras.metrics import RootMeanSquaredError\n",
        "from tensorflow.keras.optimizers import Adam"
      ],
      "metadata": {
        "id": "71qVSJLYAnVp"
      },
      "execution_count": null,
      "outputs": []
    },
    {
      "cell_type": "markdown",
      "source": [
        "Simple Neural Network"
      ],
      "metadata": {
        "id": "n1vguUWqBahb"
      }
    },
    {
      "cell_type": "code",
      "source": [
        "#from sklearn.utils import optimize\n",
        "#simple_nn = Sequential()\n",
        "#simple_nn.add(InputLayer((12,)))\n",
        "#simple_nn.add(Dense(2, 'relu'))\n",
        "#simple_nn.add(Dense(1, 'linear'))\n",
        "\n",
        "#opt = Adam(learning_rate = 0.10)\n",
        "#cp = ModelCheckpoint('models/simple_nn', save_best_only=True)\n",
        "#simple_nn.compile(optimizer = opt, loss = 'mse', metrics = [RootMeanSquaredError()])\n",
        "\n",
        "#simple_nn.fit(x = X_train, y=y_train, validation_data = (X_val, y_val), callbacks=[cp], epochs = 100)"
      ],
      "metadata": {
        "id": "MmTjZYZLBfED",
        "outputId": "dbf6af1c-1573-47b4-c081-64091c20a265",
        "colab": {
          "base_uri": "https://localhost:8080/"
        }
      },
      "execution_count": null,
      "outputs": [
        {
          "output_type": "stream",
          "name": "stdout",
          "text": [
            "Epoch 1/100\n",
            "17/17 [==============================] - 1s 43ms/step - loss: 693271920640.0000 - root_mean_squared_error: 832629.5000 - val_loss: 96299728896.0000 - val_root_mean_squared_error: 310321.9688\n",
            "Epoch 2/100\n",
            "17/17 [==============================] - 1s 42ms/step - loss: 693259337728.0000 - root_mean_squared_error: 832621.9375 - val_loss: 96291897344.0000 - val_root_mean_squared_error: 310309.3438\n",
            "Epoch 3/100\n",
            "17/17 [==============================] - 1s 33ms/step - loss: 693212479488.0000 - root_mean_squared_error: 832593.8125 - val_loss: 96276553728.0000 - val_root_mean_squared_error: 310284.6250\n",
            "Epoch 4/100\n",
            "17/17 [==============================] - 1s 33ms/step - loss: 693132853248.0000 - root_mean_squared_error: 832546.0000 - val_loss: 96250445824.0000 - val_root_mean_squared_error: 310242.5625\n",
            "Epoch 5/100\n",
            "17/17 [==============================] - 1s 46ms/step - loss: 692998569984.0000 - root_mean_squared_error: 832465.3750 - val_loss: 96210649088.0000 - val_root_mean_squared_error: 310178.4062\n",
            "Epoch 6/100\n",
            "17/17 [==============================] - 1s 58ms/step - loss: 692809433088.0000 - root_mean_squared_error: 832351.7500 - val_loss: 96151437312.0000 - val_root_mean_squared_error: 310082.9375\n",
            "Epoch 7/100\n",
            "17/17 [==============================] - 1s 75ms/step - loss: 692463665152.0000 - root_mean_squared_error: 832144.0000 - val_loss: 96069181440.0000 - val_root_mean_squared_error: 309950.2812\n",
            "Epoch 8/100\n",
            "17/17 [==============================] - 1s 72ms/step - loss: 692024311808.0000 - root_mean_squared_error: 831880.0000 - val_loss: 95946178560.0000 - val_root_mean_squared_error: 309751.8125\n",
            "Epoch 9/100\n",
            "17/17 [==============================] - 1s 70ms/step - loss: 691364233216.0000 - root_mean_squared_error: 831483.1250 - val_loss: 95797469184.0000 - val_root_mean_squared_error: 309511.6562\n",
            "Epoch 10/100\n",
            "17/17 [==============================] - 1s 90ms/step - loss: 690608340992.0000 - root_mean_squared_error: 831028.5000 - val_loss: 95619612672.0000 - val_root_mean_squared_error: 309224.2188\n",
            "Epoch 11/100\n",
            "17/17 [==============================] - 1s 66ms/step - loss: 689717903360.0000 - root_mean_squared_error: 830492.5625 - val_loss: 95422226432.0000 - val_root_mean_squared_error: 308904.8750\n",
            "Epoch 12/100\n",
            "17/17 [==============================] - 1s 92ms/step - loss: 688723918848.0000 - root_mean_squared_error: 829893.9375 - val_loss: 95203786752.0000 - val_root_mean_squared_error: 308551.0938\n",
            "Epoch 13/100\n",
            "17/17 [==============================] - 2s 117ms/step - loss: 687693627392.0000 - root_mean_squared_error: 829272.9375 - val_loss: 94967103488.0000 - val_root_mean_squared_error: 308167.3438\n",
            "Epoch 14/100\n",
            "17/17 [==============================] - 1s 72ms/step - loss: 686610710528.0000 - root_mean_squared_error: 828619.7500 - val_loss: 94704369664.0000 - val_root_mean_squared_error: 307740.7500\n",
            "Epoch 15/100\n",
            "17/17 [==============================] - 1s 72ms/step - loss: 685288587264.0000 - root_mean_squared_error: 827821.5625 - val_loss: 94432288768.0000 - val_root_mean_squared_error: 307298.3750\n",
            "Epoch 16/100\n",
            "17/17 [==============================] - 1s 77ms/step - loss: 684035276800.0000 - root_mean_squared_error: 827064.2500 - val_loss: 94115741696.0000 - val_root_mean_squared_error: 306782.8750\n",
            "Epoch 17/100\n",
            "17/17 [==============================] - 1s 79ms/step - loss: 682451730432.0000 - root_mean_squared_error: 826106.3750 - val_loss: 93827260416.0000 - val_root_mean_squared_error: 306312.3438\n",
            "Epoch 18/100\n",
            "17/17 [==============================] - 2s 95ms/step - loss: 681008103424.0000 - root_mean_squared_error: 825232.1250 - val_loss: 93497171968.0000 - val_root_mean_squared_error: 305773.0625\n",
            "Epoch 19/100\n",
            "17/17 [==============================] - 2s 124ms/step - loss: 679549534208.0000 - root_mean_squared_error: 824347.9375 - val_loss: 93134757888.0000 - val_root_mean_squared_error: 305179.8750\n",
            "Epoch 20/100\n",
            "17/17 [==============================] - 1s 76ms/step - loss: 677756403712.0000 - root_mean_squared_error: 823259.6250 - val_loss: 92796706816.0000 - val_root_mean_squared_error: 304625.5312\n",
            "Epoch 21/100\n",
            "17/17 [==============================] - 2s 101ms/step - loss: 676162633728.0000 - root_mean_squared_error: 822291.0625 - val_loss: 92412895232.0000 - val_root_mean_squared_error: 303994.9062\n",
            "Epoch 22/100\n",
            "17/17 [==============================] - 1s 33ms/step - loss: 674374418432.0000 - root_mean_squared_error: 821203.0000 - val_loss: 92031803392.0000 - val_root_mean_squared_error: 303367.4375\n",
            "Epoch 23/100\n",
            "17/17 [==============================] - 1s 34ms/step - loss: 672412467200.0000 - root_mean_squared_error: 820007.6250 - val_loss: 91668840448.0000 - val_root_mean_squared_error: 302768.6250\n",
            "Epoch 24/100\n",
            "17/17 [==============================] - 1s 34ms/step - loss: 670811815936.0000 - root_mean_squared_error: 819031.0000 - val_loss: 91230355456.0000 - val_root_mean_squared_error: 302043.6250\n",
            "Epoch 25/100\n",
            "17/17 [==============================] - 1s 35ms/step - loss: 668688777216.0000 - root_mean_squared_error: 817733.9375 - val_loss: 90837114880.0000 - val_root_mean_squared_error: 301391.9688\n",
            "Epoch 26/100\n",
            "17/17 [==============================] - 1s 32ms/step - loss: 666760511488.0000 - root_mean_squared_error: 816554.0625 - val_loss: 90429054976.0000 - val_root_mean_squared_error: 300714.2188\n",
            "Epoch 27/100\n",
            "17/17 [==============================] - 1s 33ms/step - loss: 664595660800.0000 - root_mean_squared_error: 815227.3750 - val_loss: 90076569600.0000 - val_root_mean_squared_error: 300127.5938\n",
            "Epoch 28/100\n",
            "17/17 [==============================] - 1s 35ms/step - loss: 662893887488.0000 - root_mean_squared_error: 814182.9375 - val_loss: 89587261440.0000 - val_root_mean_squared_error: 299311.3125\n",
            "Epoch 29/100\n",
            "17/17 [==============================] - 1s 32ms/step - loss: 660491665408.0000 - root_mean_squared_error: 812706.3750 - val_loss: 89156591616.0000 - val_root_mean_squared_error: 298591.0000\n",
            "Epoch 30/100\n",
            "17/17 [==============================] - 1s 34ms/step - loss: 658259705856.0000 - root_mean_squared_error: 811332.0625 - val_loss: 88718991360.0000 - val_root_mean_squared_error: 297857.3438\n",
            "Epoch 31/100\n",
            "17/17 [==============================] - 1s 32ms/step - loss: 656076898304.0000 - root_mean_squared_error: 809985.7500 - val_loss: 88245477376.0000 - val_root_mean_squared_error: 297061.4062\n",
            "Epoch 32/100\n",
            "17/17 [==============================] - 1s 34ms/step - loss: 653726056448.0000 - root_mean_squared_error: 808533.2500 - val_loss: 87773749248.0000 - val_root_mean_squared_error: 296266.3438\n",
            "Epoch 33/100\n",
            "17/17 [==============================] - 1s 32ms/step - loss: 651295916032.0000 - root_mean_squared_error: 807029.0625 - val_loss: 87306207232.0000 - val_root_mean_squared_error: 295476.2500\n",
            "Epoch 34/100\n",
            "17/17 [==============================] - 1s 33ms/step - loss: 648863481856.0000 - root_mean_squared_error: 805520.6250 - val_loss: 86824501248.0000 - val_root_mean_squared_error: 294659.9688\n",
            "Epoch 35/100\n",
            "17/17 [==============================] - 1s 33ms/step - loss: 646388973568.0000 - root_mean_squared_error: 803983.1875 - val_loss: 86326329344.0000 - val_root_mean_squared_error: 293813.4375\n",
            "Epoch 36/100\n",
            "17/17 [==============================] - 1s 33ms/step - loss: 643813015552.0000 - root_mean_squared_error: 802379.6250 - val_loss: 85820252160.0000 - val_root_mean_squared_error: 292950.9375\n",
            "Epoch 37/100\n",
            "17/17 [==============================] - 1s 38ms/step - loss: 641087438848.0000 - root_mean_squared_error: 800679.3750 - val_loss: 85337710592.0000 - val_root_mean_squared_error: 292126.1875\n",
            "Epoch 38/100\n",
            "17/17 [==============================] - 1s 68ms/step - loss: 638365925376.0000 - root_mean_squared_error: 798978.0625 - val_loss: 84863647744.0000 - val_root_mean_squared_error: 291313.6562\n",
            "Epoch 39/100\n",
            "17/17 [==============================] - 1s 65ms/step - loss: 635776532480.0000 - root_mean_squared_error: 797355.9375 - val_loss: 84335616000.0000 - val_root_mean_squared_error: 290405.9375\n",
            "Epoch 40/100\n",
            "17/17 [==============================] - 1s 70ms/step - loss: 632876630016.0000 - root_mean_squared_error: 795535.4375 - val_loss: 83846889472.0000 - val_root_mean_squared_error: 289563.2812\n",
            "Epoch 41/100\n",
            "17/17 [==============================] - 1s 88ms/step - loss: 630377676800.0000 - root_mean_squared_error: 793963.2500 - val_loss: 83295526912.0000 - val_root_mean_squared_error: 288609.6562\n",
            "Epoch 42/100\n",
            "17/17 [==============================] - 2s 105ms/step - loss: 627323371520.0000 - root_mean_squared_error: 792037.5000 - val_loss: 82786287616.0000 - val_root_mean_squared_error: 287726.0625\n",
            "Epoch 43/100\n",
            "17/17 [==============================] - 1s 71ms/step - loss: 624675454976.0000 - root_mean_squared_error: 790364.1250 - val_loss: 82240577536.0000 - val_root_mean_squared_error: 286776.1875\n",
            "Epoch 44/100\n",
            "17/17 [==============================] - 1s 66ms/step - loss: 621514588160.0000 - root_mean_squared_error: 788361.9375 - val_loss: 81758150656.0000 - val_root_mean_squared_error: 285933.8125\n",
            "Epoch 45/100\n",
            "17/17 [==============================] - 1s 83ms/step - loss: 618535976960.0000 - root_mean_squared_error: 786470.5625 - val_loss: 81290887168.0000 - val_root_mean_squared_error: 285115.5625\n",
            "Epoch 46/100\n",
            "17/17 [==============================] - 1s 72ms/step - loss: 615808303104.0000 - root_mean_squared_error: 784734.5625 - val_loss: 80759660544.0000 - val_root_mean_squared_error: 284182.4375\n",
            "Epoch 47/100\n",
            "17/17 [==============================] - 1s 73ms/step - loss: 612692197376.0000 - root_mean_squared_error: 782746.5625 - val_loss: 80252772352.0000 - val_root_mean_squared_error: 283289.1875\n",
            "Epoch 48/100\n",
            "17/17 [==============================] - 1s 33ms/step - loss: 609579040768.0000 - root_mean_squared_error: 780755.4375 - val_loss: 79773081600.0000 - val_root_mean_squared_error: 282441.2812\n",
            "Epoch 49/100\n",
            "17/17 [==============================] - 1s 34ms/step - loss: 606794940416.0000 - root_mean_squared_error: 778970.4375 - val_loss: 79233417216.0000 - val_root_mean_squared_error: 281484.3125\n",
            "Epoch 50/100\n",
            "17/17 [==============================] - 1s 34ms/step - loss: 603409022976.0000 - root_mean_squared_error: 776794.0625 - val_loss: 78790336512.0000 - val_root_mean_squared_error: 280696.1562\n",
            "Epoch 51/100\n",
            "17/17 [==============================] - 1s 35ms/step - loss: 600462131200.0000 - root_mean_squared_error: 774894.9375 - val_loss: 78287724544.0000 - val_root_mean_squared_error: 279799.4375\n",
            "Epoch 52/100\n",
            "17/17 [==============================] - 1s 32ms/step - loss: 597310898176.0000 - root_mean_squared_error: 772858.9375 - val_loss: 77806346240.0000 - val_root_mean_squared_error: 278937.8750\n",
            "Epoch 53/100\n",
            "17/17 [==============================] - 1s 34ms/step - loss: 594162614272.0000 - root_mean_squared_error: 770819.4375 - val_loss: 77327097856.0000 - val_root_mean_squared_error: 278077.5000\n",
            "Epoch 54/100\n",
            "17/17 [==============================] - 1s 33ms/step - loss: 591089893376.0000 - root_mean_squared_error: 768823.6875 - val_loss: 76839288832.0000 - val_root_mean_squared_error: 277199.0000\n",
            "Epoch 55/100\n",
            "17/17 [==============================] - 1s 34ms/step - loss: 587648270336.0000 - root_mean_squared_error: 766582.1875 - val_loss: 76430426112.0000 - val_root_mean_squared_error: 276460.5312\n",
            "Epoch 56/100\n",
            "17/17 [==============================] - 1s 35ms/step - loss: 584948776960.0000 - root_mean_squared_error: 764819.4375 - val_loss: 75899125760.0000 - val_root_mean_squared_error: 275497.9688\n",
            "Epoch 57/100\n",
            "17/17 [==============================] - 1s 35ms/step - loss: 581239963648.0000 - root_mean_squared_error: 762390.9375 - val_loss: 75481415680.0000 - val_root_mean_squared_error: 274738.8125\n",
            "Epoch 58/100\n",
            "17/17 [==============================] - 1s 34ms/step - loss: 578281406464.0000 - root_mean_squared_error: 760448.1875 - val_loss: 75010285568.0000 - val_root_mean_squared_error: 273880.0625\n",
            "Epoch 59/100\n",
            "17/17 [==============================] - 1s 33ms/step - loss: 574936055808.0000 - root_mean_squared_error: 758245.3750 - val_loss: 74560536576.0000 - val_root_mean_squared_error: 273057.7500\n",
            "Epoch 60/100\n",
            "17/17 [==============================] - 1s 34ms/step - loss: 571648245760.0000 - root_mean_squared_error: 756074.2500 - val_loss: 74124345344.0000 - val_root_mean_squared_error: 272257.8750\n",
            "Epoch 61/100\n",
            "17/17 [==============================] - 1s 34ms/step - loss: 568189714432.0000 - root_mean_squared_error: 753783.6250 - val_loss: 73739100160.0000 - val_root_mean_squared_error: 271549.4375\n",
            "Epoch 62/100\n",
            "17/17 [==============================] - 1s 32ms/step - loss: 565172436992.0000 - root_mean_squared_error: 751779.5000 - val_loss: 73298640896.0000 - val_root_mean_squared_error: 270737.2188\n",
            "Epoch 63/100\n",
            "17/17 [==============================] - 1s 32ms/step - loss: 561786322944.0000 - root_mean_squared_error: 749524.0625 - val_loss: 72876507136.0000 - val_root_mean_squared_error: 269956.5000\n",
            "Epoch 64/100\n",
            "17/17 [==============================] - 1s 33ms/step - loss: 558491107328.0000 - root_mean_squared_error: 747322.6250 - val_loss: 72473812992.0000 - val_root_mean_squared_error: 269209.5938\n",
            "Epoch 65/100\n",
            "17/17 [==============================] - 1s 33ms/step - loss: 555113119744.0000 - root_mean_squared_error: 745059.1250 - val_loss: 72088305664.0000 - val_root_mean_squared_error: 268492.6562\n",
            "Epoch 66/100\n",
            "17/17 [==============================] - 1s 57ms/step - loss: 551698169856.0000 - root_mean_squared_error: 742763.8750 - val_loss: 71718739968.0000 - val_root_mean_squared_error: 267803.5625\n",
            "Epoch 67/100\n",
            "17/17 [==============================] - 1s 34ms/step - loss: 548311433216.0000 - root_mean_squared_error: 740480.5625 - val_loss: 71378452480.0000 - val_root_mean_squared_error: 267167.4688\n",
            "Epoch 68/100\n",
            "17/17 [==============================] - 1s 33ms/step - loss: 545093550080.0000 - root_mean_squared_error: 738304.5000 - val_loss: 71011205120.0000 - val_root_mean_squared_error: 266479.2812\n",
            "Epoch 69/100\n",
            "17/17 [==============================] - 1s 35ms/step - loss: 542074929152.0000 - root_mean_squared_error: 736257.3750 - val_loss: 70627794944.0000 - val_root_mean_squared_error: 265758.9062\n",
            "Epoch 70/100\n",
            "17/17 [==============================] - 1s 33ms/step - loss: 538396327936.0000 - root_mean_squared_error: 733754.9375 - val_loss: 70300958720.0000 - val_root_mean_squared_error: 265143.2812\n",
            "Epoch 71/100\n",
            "17/17 [==============================] - 1s 33ms/step - loss: 534838214656.0000 - root_mean_squared_error: 731326.3125 - val_loss: 70039764992.0000 - val_root_mean_squared_error: 264650.2812\n",
            "Epoch 72/100\n",
            "17/17 [==============================] - 1s 33ms/step - loss: 531816808448.0000 - root_mean_squared_error: 729257.6875 - val_loss: 69709758464.0000 - val_root_mean_squared_error: 264026.0625\n",
            "Epoch 73/100\n",
            "17/17 [==============================] - 1s 33ms/step - loss: 528545316864.0000 - root_mean_squared_error: 727011.2500 - val_loss: 69386190848.0000 - val_root_mean_squared_error: 263412.5938\n",
            "Epoch 74/100\n",
            "17/17 [==============================] - 1s 33ms/step - loss: 525297909760.0000 - root_mean_squared_error: 724774.3750 - val_loss: 69074944000.0000 - val_root_mean_squared_error: 262821.1250\n",
            "Epoch 75/100\n",
            "17/17 [==============================] - 1s 35ms/step - loss: 521591881728.0000 - root_mean_squared_error: 722213.1875 - val_loss: 68829265920.0000 - val_root_mean_squared_error: 262353.3125\n",
            "Epoch 76/100\n",
            "17/17 [==============================] - 1s 34ms/step - loss: 518425870336.0000 - root_mean_squared_error: 720017.9375 - val_loss: 68568190976.0000 - val_root_mean_squared_error: 261855.2812\n",
            "Epoch 77/100\n",
            "17/17 [==============================] - 1s 34ms/step - loss: 515318054912.0000 - root_mean_squared_error: 717856.5625 - val_loss: 68296065024.0000 - val_root_mean_squared_error: 261335.1562\n",
            "Epoch 78/100\n",
            "17/17 [==============================] - 1s 34ms/step - loss: 511771279360.0000 - root_mean_squared_error: 715381.9375 - val_loss: 68062064640.0000 - val_root_mean_squared_error: 260887.0781\n",
            "Epoch 79/100\n",
            "17/17 [==============================] - 1s 33ms/step - loss: 508702654464.0000 - root_mean_squared_error: 713233.9375 - val_loss: 67818344448.0000 - val_root_mean_squared_error: 260419.5469\n",
            "Epoch 80/100\n",
            "17/17 [==============================] - 1s 33ms/step - loss: 504976441344.0000 - root_mean_squared_error: 710616.9375 - val_loss: 67627786240.0000 - val_root_mean_squared_error: 260053.4219\n",
            "Epoch 81/100\n",
            "17/17 [==============================] - 1s 32ms/step - loss: 502112518144.0000 - root_mean_squared_error: 708599.0000 - val_loss: 67410649088.0000 - val_root_mean_squared_error: 259635.6094\n",
            "Epoch 82/100\n",
            "17/17 [==============================] - 1s 33ms/step - loss: 498516852736.0000 - root_mean_squared_error: 706057.2500 - val_loss: 67232333824.0000 - val_root_mean_squared_error: 259291.9844\n",
            "Epoch 83/100\n",
            "17/17 [==============================] - 1s 32ms/step - loss: 495500132352.0000 - root_mean_squared_error: 703917.6875 - val_loss: 67046871040.0000 - val_root_mean_squared_error: 258934.1094\n",
            "Epoch 84/100\n",
            "17/17 [==============================] - 1s 33ms/step - loss: 491899912192.0000 - root_mean_squared_error: 701355.7500 - val_loss: 66913636352.0000 - val_root_mean_squared_error: 258676.7031\n",
            "Epoch 85/100\n",
            "17/17 [==============================] - 1s 33ms/step - loss: 488989884416.0000 - root_mean_squared_error: 699278.1250 - val_loss: 66762362880.0000 - val_root_mean_squared_error: 258384.1406\n",
            "Epoch 86/100\n",
            "17/17 [==============================] - 1s 33ms/step - loss: 485680578560.0000 - root_mean_squared_error: 696907.8750 - val_loss: 66625622016.0000 - val_root_mean_squared_error: 258119.3906\n",
            "Epoch 87/100\n",
            "17/17 [==============================] - 1s 56ms/step - loss: 482589835264.0000 - root_mean_squared_error: 694686.8750 - val_loss: 66502316032.0000 - val_root_mean_squared_error: 257880.4375\n",
            "Epoch 88/100\n",
            "17/17 [==============================] - 1s 33ms/step - loss: 479408128000.0000 - root_mean_squared_error: 692393.0625 - val_loss: 66392424448.0000 - val_root_mean_squared_error: 257667.2812\n",
            "Epoch 89/100\n",
            "17/17 [==============================] - 1s 35ms/step - loss: 476130672640.0000 - root_mean_squared_error: 690022.2500 - val_loss: 66303811584.0000 - val_root_mean_squared_error: 257495.2656\n",
            "Epoch 90/100\n",
            "17/17 [==============================] - 1s 33ms/step - loss: 473056182272.0000 - root_mean_squared_error: 687790.8125 - val_loss: 66224439296.0000 - val_root_mean_squared_error: 257341.0938\n",
            "Epoch 91/100\n",
            "17/17 [==============================] - 1s 36ms/step - loss: 470601531392.0000 - root_mean_squared_error: 686004.0625 - val_loss: 66140413952.0000 - val_root_mean_squared_error: 257177.7812\n",
            "Epoch 92/100\n",
            "17/17 [==============================] - 1s 44ms/step - loss: 466852216832.0000 - root_mean_squared_error: 683265.8750 - val_loss: 66087030784.0000 - val_root_mean_squared_error: 257073.9844\n",
            "Epoch 93/100\n",
            "17/17 [==============================] - 1s 51ms/step - loss: 463926460416.0000 - root_mean_squared_error: 681121.5000 - val_loss: 66044493824.0000 - val_root_mean_squared_error: 256991.2344\n",
            "Epoch 94/100\n",
            "17/17 [==============================] - 1s 49ms/step - loss: 460991201280.0000 - root_mean_squared_error: 678963.3125 - val_loss: 66002604032.0000 - val_root_mean_squared_error: 256909.7188\n",
            "Epoch 95/100\n",
            "17/17 [==============================] - 1s 45ms/step - loss: 457824436224.0000 - root_mean_squared_error: 676627.2500 - val_loss: 65980305408.0000 - val_root_mean_squared_error: 256866.3125\n",
            "Epoch 96/100\n",
            "17/17 [==============================] - 1s 33ms/step - loss: 455187234816.0000 - root_mean_squared_error: 674675.6250 - val_loss: 65965219840.0000 - val_root_mean_squared_error: 256836.9531\n",
            "Epoch 97/100\n",
            "17/17 [==============================] - 1s 34ms/step - loss: 451783491584.0000 - root_mean_squared_error: 672148.4375 - val_loss: 65964052480.0000 - val_root_mean_squared_error: 256834.6719\n",
            "Epoch 98/100\n",
            "17/17 [==============================] - 0s 4ms/step - loss: 449065517056.0000 - root_mean_squared_error: 670123.5000 - val_loss: 65980493824.0000 - val_root_mean_squared_error: 256866.6875\n",
            "Epoch 99/100\n",
            "17/17 [==============================] - 0s 4ms/step - loss: 446445322240.0000 - root_mean_squared_error: 668165.6250 - val_loss: 66000760832.0000 - val_root_mean_squared_error: 256906.1250\n",
            "Epoch 100/100\n",
            "17/17 [==============================] - 0s 4ms/step - loss: 443450163200.0000 - root_mean_squared_error: 665920.5625 - val_loss: 66027184128.0000 - val_root_mean_squared_error: 256957.5469\n"
          ]
        },
        {
          "output_type": "execute_result",
          "data": {
            "text/plain": [
              "<keras.callbacks.History at 0x7f743ce2d210>"
            ]
          },
          "metadata": {},
          "execution_count": 89
        }
      ]
    },
    {
      "cell_type": "markdown",
      "source": [
        "Evaluate Simple model"
      ],
      "metadata": {
        "id": "ecsFXjooFTKb"
      }
    },
    {
      "cell_type": "code",
      "source": [
        "#from tensorflow.keras.models import load_model\n",
        "#simple_nn = load_model('models/simple_nn')\n",
        "#mse(simple_nn.predict(X_train), y_train, squared = False), mse(simple_nn.predict(X_val),y_val,squared = False)"
      ],
      "metadata": {
        "id": "wxuzeh-fFSrx",
        "outputId": "6d3311d3-b7e7-4fb6-a564-7d018dc8c8a7",
        "colab": {
          "base_uri": "https://localhost:8080/"
        }
      },
      "execution_count": null,
      "outputs": [
        {
          "output_type": "stream",
          "name": "stdout",
          "text": [
            "17/17 [==============================] - 0s 1ms/step\n",
            "6/6 [==============================] - 0s 2ms/step\n"
          ]
        },
        {
          "output_type": "execute_result",
          "data": {
            "text/plain": [
              "(671407.0591292151, 256834.67017091336)"
            ]
          },
          "metadata": {},
          "execution_count": 90
        }
      ]
    },
    {
      "cell_type": "markdown",
      "source": [
        "Create Medium DNN Model "
      ],
      "metadata": {
        "id": "4h8KxGWqE4Zi"
      }
    },
    {
      "cell_type": "code",
      "source": [
        "#from sklearn.utils import optimize\n",
        "#medium_nn = Sequential()\n",
        "#medium_nn.add(InputLayer((12,)))\n",
        "#medium_nn.add(Dense(32, 'relu'))\n",
        "#medium_nn.add(Dense(16, 'relu'))\n",
        "#medium_nn.add(Dense(1, 'linear'))\n",
        "\n",
        "#opt = Adam(learning_rate = 0.10)\n",
        "#cp = ModelCheckpoint('models/medium_nn', save_best_only=True)\n",
        "#medium_nn.compile(optimizer = opt, loss = 'mse', metrics = [RootMeanSquaredError()])\n",
        "\n",
        "#medium_nn.fit(x = X_train, y=y_train, validation_data = (X_val, y_val), callbacks=[cp], epochs = 100)\n",
        "\n",
        "\n",
        "\n",
        "\n",
        "\n"
      ],
      "metadata": {
        "id": "wqAfqD4wE6ak",
        "outputId": "2307c669-6d0b-4490-f929-eeee3e4b099e",
        "colab": {
          "base_uri": "https://localhost:8080/"
        }
      },
      "execution_count": null,
      "outputs": [
        {
          "output_type": "stream",
          "name": "stdout",
          "text": [
            "Epoch 1/100\n",
            "17/17 [==============================] - 1s 49ms/step - loss: 692242677760.0000 - root_mean_squared_error: 832011.2500 - val_loss: 95461179392.0000 - val_root_mean_squared_error: 308967.9375\n",
            "Epoch 2/100\n",
            "17/17 [==============================] - 1s 41ms/step - loss: 673968947200.0000 - root_mean_squared_error: 820956.1250 - val_loss: 87310737408.0000 - val_root_mean_squared_error: 295483.9062\n",
            "Epoch 3/100\n",
            "17/17 [==============================] - 1s 42ms/step - loss: 604454846464.0000 - root_mean_squared_error: 777466.9375 - val_loss: 69403631616.0000 - val_root_mean_squared_error: 263445.6875\n",
            "Epoch 4/100\n",
            "17/17 [==============================] - 0s 4ms/step - loss: 444692758528.0000 - root_mean_squared_error: 666852.8750 - val_loss: 78267105280.0000 - val_root_mean_squared_error: 279762.5938\n",
            "Epoch 5/100\n",
            "17/17 [==============================] - 0s 3ms/step - loss: 306815860736.0000 - root_mean_squared_error: 553909.6250 - val_loss: 118321291264.0000 - val_root_mean_squared_error: 343978.6250\n",
            "Epoch 6/100\n",
            "17/17 [==============================] - 0s 5ms/step - loss: 189604151296.0000 - root_mean_squared_error: 435435.5938 - val_loss: 71733755904.0000 - val_root_mean_squared_error: 267831.5938\n",
            "Epoch 7/100\n",
            "17/17 [==============================] - 1s 40ms/step - loss: 110670471168.0000 - root_mean_squared_error: 332671.7188 - val_loss: 52876845056.0000 - val_root_mean_squared_error: 229949.6562\n",
            "Epoch 8/100\n",
            "17/17 [==============================] - 1s 41ms/step - loss: 48963260416.0000 - root_mean_squared_error: 221276.4375 - val_loss: 29782978560.0000 - val_root_mean_squared_error: 172577.4531\n",
            "Epoch 9/100\n",
            "17/17 [==============================] - 1s 65ms/step - loss: 34012815360.0000 - root_mean_squared_error: 184425.6406 - val_loss: 23303051264.0000 - val_root_mean_squared_error: 152653.3750\n",
            "Epoch 10/100\n",
            "17/17 [==============================] - 1s 42ms/step - loss: 31314898944.0000 - root_mean_squared_error: 176960.1562 - val_loss: 21350965248.0000 - val_root_mean_squared_error: 146119.6875\n",
            "Epoch 11/100\n",
            "17/17 [==============================] - 1s 41ms/step - loss: 27808137216.0000 - root_mean_squared_error: 166757.7188 - val_loss: 18925864960.0000 - val_root_mean_squared_error: 137571.3125\n",
            "Epoch 12/100\n",
            "17/17 [==============================] - 1s 42ms/step - loss: 24622522368.0000 - root_mean_squared_error: 156915.6562 - val_loss: 17673895936.0000 - val_root_mean_squared_error: 132943.2031\n",
            "Epoch 13/100\n",
            "17/17 [==============================] - 1s 41ms/step - loss: 22411251712.0000 - root_mean_squared_error: 149703.8750 - val_loss: 14620797952.0000 - val_root_mean_squared_error: 120916.4922\n",
            "Epoch 14/100\n",
            "17/17 [==============================] - 1s 40ms/step - loss: 20630022144.0000 - root_mean_squared_error: 143631.5469 - val_loss: 12441718784.0000 - val_root_mean_squared_error: 111542.4531\n",
            "Epoch 15/100\n",
            "17/17 [==============================] - 1s 41ms/step - loss: 18976186368.0000 - root_mean_squared_error: 137754.0781 - val_loss: 11557697536.0000 - val_root_mean_squared_error: 107506.7344\n",
            "Epoch 16/100\n",
            "17/17 [==============================] - 1s 42ms/step - loss: 17459001344.0000 - root_mean_squared_error: 132132.5156 - val_loss: 10184102912.0000 - val_root_mean_squared_error: 100916.3125\n",
            "Epoch 17/100\n",
            "17/17 [==============================] - 1s 41ms/step - loss: 15686457344.0000 - root_mean_squared_error: 125245.5859 - val_loss: 9198873600.0000 - val_root_mean_squared_error: 95910.7578\n",
            "Epoch 18/100\n",
            "17/17 [==============================] - 1s 41ms/step - loss: 14551407616.0000 - root_mean_squared_error: 120629.2188 - val_loss: 8219942400.0000 - val_root_mean_squared_error: 90663.8984\n",
            "Epoch 19/100\n",
            "17/17 [==============================] - 1s 42ms/step - loss: 13048444928.0000 - root_mean_squared_error: 114229.7891 - val_loss: 7542475264.0000 - val_root_mean_squared_error: 86847.4219\n",
            "Epoch 20/100\n",
            "17/17 [==============================] - 1s 41ms/step - loss: 11952547840.0000 - root_mean_squared_error: 109327.7109 - val_loss: 6448256000.0000 - val_root_mean_squared_error: 80301.0312\n",
            "Epoch 21/100\n",
            "17/17 [==============================] - 1s 40ms/step - loss: 10698446848.0000 - root_mean_squared_error: 103433.2969 - val_loss: 5862198272.0000 - val_root_mean_squared_error: 76564.9922\n",
            "Epoch 22/100\n",
            "17/17 [==============================] - 1s 41ms/step - loss: 9762715648.0000 - root_mean_squared_error: 98806.4531 - val_loss: 5232130048.0000 - val_root_mean_squared_error: 72333.4609\n",
            "Epoch 23/100\n",
            "17/17 [==============================] - 1s 40ms/step - loss: 8525586432.0000 - root_mean_squared_error: 92334.1016 - val_loss: 4443276800.0000 - val_root_mean_squared_error: 66657.9062\n",
            "Epoch 24/100\n",
            "17/17 [==============================] - 1s 71ms/step - loss: 7734858752.0000 - root_mean_squared_error: 87948.0469 - val_loss: 3991331328.0000 - val_root_mean_squared_error: 63176.9844\n",
            "Epoch 25/100\n",
            "17/17 [==============================] - 2s 116ms/step - loss: 7019534848.0000 - root_mean_squared_error: 83782.6641 - val_loss: 3592474880.0000 - val_root_mean_squared_error: 59937.2578\n",
            "Epoch 26/100\n",
            "17/17 [==============================] - 1s 46ms/step - loss: 5951136768.0000 - root_mean_squared_error: 77143.6094 - val_loss: 2833773824.0000 - val_root_mean_squared_error: 53233.2031\n",
            "Epoch 27/100\n",
            "17/17 [==============================] - 1s 42ms/step - loss: 5088808448.0000 - root_mean_squared_error: 71335.8828 - val_loss: 2469180672.0000 - val_root_mean_squared_error: 49690.8516\n",
            "Epoch 28/100\n",
            "17/17 [==============================] - 1s 41ms/step - loss: 4332541952.0000 - root_mean_squared_error: 65822.0469 - val_loss: 2252276992.0000 - val_root_mean_squared_error: 47458.1602\n",
            "Epoch 29/100\n",
            "17/17 [==============================] - 1s 42ms/step - loss: 3831689472.0000 - root_mean_squared_error: 61900.6406 - val_loss: 1768148608.0000 - val_root_mean_squared_error: 42049.3594\n",
            "Epoch 30/100\n",
            "17/17 [==============================] - 1s 41ms/step - loss: 3137861888.0000 - root_mean_squared_error: 56016.6211 - val_loss: 1523193344.0000 - val_root_mean_squared_error: 39028.1094\n",
            "Epoch 31/100\n",
            "17/17 [==============================] - 1s 40ms/step - loss: 2707339776.0000 - root_mean_squared_error: 52032.1016 - val_loss: 1278990464.0000 - val_root_mean_squared_error: 35762.9766\n",
            "Epoch 32/100\n",
            "17/17 [==============================] - 1s 40ms/step - loss: 2220247296.0000 - root_mean_squared_error: 47119.5000 - val_loss: 1039685312.0000 - val_root_mean_squared_error: 32244.1523\n",
            "Epoch 33/100\n",
            "17/17 [==============================] - 1s 41ms/step - loss: 1859268992.0000 - root_mean_squared_error: 43119.2422 - val_loss: 767851648.0000 - val_root_mean_squared_error: 27710.1367\n",
            "Epoch 34/100\n",
            "17/17 [==============================] - 1s 41ms/step - loss: 1521825664.0000 - root_mean_squared_error: 39010.5859 - val_loss: 723791424.0000 - val_root_mean_squared_error: 26903.3711\n",
            "Epoch 35/100\n",
            "17/17 [==============================] - 1s 40ms/step - loss: 1229253760.0000 - root_mean_squared_error: 35060.7148 - val_loss: 501754112.0000 - val_root_mean_squared_error: 22399.8691\n",
            "Epoch 36/100\n",
            "17/17 [==============================] - 1s 42ms/step - loss: 1012617408.0000 - root_mean_squared_error: 31821.6504 - val_loss: 424504096.0000 - val_root_mean_squared_error: 20603.4980\n",
            "Epoch 37/100\n",
            "17/17 [==============================] - 1s 42ms/step - loss: 786185728.0000 - root_mean_squared_error: 28039.0039 - val_loss: 311020000.0000 - val_root_mean_squared_error: 17635.7598\n",
            "Epoch 38/100\n",
            "17/17 [==============================] - 1s 40ms/step - loss: 636346560.0000 - root_mean_squared_error: 25225.9102 - val_loss: 218144448.0000 - val_root_mean_squared_error: 14769.7139\n",
            "Epoch 39/100\n",
            "17/17 [==============================] - 1s 41ms/step - loss: 518829824.0000 - root_mean_squared_error: 22777.8359 - val_loss: 204535872.0000 - val_root_mean_squared_error: 14301.6035\n",
            "Epoch 40/100\n",
            "17/17 [==============================] - 1s 66ms/step - loss: 469314912.0000 - root_mean_squared_error: 21663.6777 - val_loss: 182205008.0000 - val_root_mean_squared_error: 13498.3340\n",
            "Epoch 41/100\n",
            "17/17 [==============================] - 1s 42ms/step - loss: 369684864.0000 - root_mean_squared_error: 19227.1914 - val_loss: 96770616.0000 - val_root_mean_squared_error: 9837.2061\n",
            "Epoch 42/100\n",
            "17/17 [==============================] - 1s 41ms/step - loss: 290007584.0000 - root_mean_squared_error: 17029.6094 - val_loss: 73639112.0000 - val_root_mean_squared_error: 8581.3232\n",
            "Epoch 43/100\n",
            "17/17 [==============================] - 0s 5ms/step - loss: 245477760.0000 - root_mean_squared_error: 15667.7295 - val_loss: 84373512.0000 - val_root_mean_squared_error: 9185.5059\n",
            "Epoch 44/100\n",
            "17/17 [==============================] - 1s 41ms/step - loss: 211670592.0000 - root_mean_squared_error: 14548.9033 - val_loss: 48045620.0000 - val_root_mean_squared_error: 6931.4946\n",
            "Epoch 45/100\n",
            "17/17 [==============================] - 0s 3ms/step - loss: 187253408.0000 - root_mean_squared_error: 13684.0566 - val_loss: 63493556.0000 - val_root_mean_squared_error: 7968.2842\n",
            "Epoch 46/100\n",
            "17/17 [==============================] - 1s 41ms/step - loss: 171564096.0000 - root_mean_squared_error: 13098.2480 - val_loss: 40421264.0000 - val_root_mean_squared_error: 6357.7720\n",
            "Epoch 47/100\n",
            "17/17 [==============================] - 0s 4ms/step - loss: 169869072.0000 - root_mean_squared_error: 13033.3828 - val_loss: 62681480.0000 - val_root_mean_squared_error: 7917.1636\n",
            "Epoch 48/100\n",
            "17/17 [==============================] - 1s 42ms/step - loss: 147702528.0000 - root_mean_squared_error: 12153.2930 - val_loss: 29762432.0000 - val_root_mean_squared_error: 5455.4956\n",
            "Epoch 49/100\n",
            "17/17 [==============================] - 0s 4ms/step - loss: 130672904.0000 - root_mean_squared_error: 11431.2246 - val_loss: 47735012.0000 - val_root_mean_squared_error: 6909.0527\n",
            "Epoch 50/100\n",
            "17/17 [==============================] - 0s 4ms/step - loss: 117376616.0000 - root_mean_squared_error: 10834.0488 - val_loss: 29863090.0000 - val_root_mean_squared_error: 5464.7134\n",
            "Epoch 51/100\n",
            "17/17 [==============================] - 0s 4ms/step - loss: 136888480.0000 - root_mean_squared_error: 11699.9346 - val_loss: 52939068.0000 - val_root_mean_squared_error: 7275.9238\n",
            "Epoch 52/100\n",
            "17/17 [==============================] - 1s 42ms/step - loss: 119296144.0000 - root_mean_squared_error: 10922.2773 - val_loss: 27393208.0000 - val_root_mean_squared_error: 5233.8521\n",
            "Epoch 53/100\n",
            "17/17 [==============================] - 0s 4ms/step - loss: 137669616.0000 - root_mean_squared_error: 11733.2695 - val_loss: 35027496.0000 - val_root_mean_squared_error: 5918.4033\n",
            "Epoch 54/100\n",
            "17/17 [==============================] - 0s 4ms/step - loss: 156207568.0000 - root_mean_squared_error: 12498.3027 - val_loss: 66029948.0000 - val_root_mean_squared_error: 8125.8813\n",
            "Epoch 55/100\n",
            "17/17 [==============================] - 0s 4ms/step - loss: 155201104.0000 - root_mean_squared_error: 12457.9736 - val_loss: 31717076.0000 - val_root_mean_squared_error: 5631.7915\n",
            "Epoch 56/100\n",
            "17/17 [==============================] - 0s 4ms/step - loss: 97622128.0000 - root_mean_squared_error: 9880.3906 - val_loss: 28011166.0000 - val_root_mean_squared_error: 5292.5576\n",
            "Epoch 57/100\n",
            "17/17 [==============================] - 0s 4ms/step - loss: 108936128.0000 - root_mean_squared_error: 10437.2471 - val_loss: 30360992.0000 - val_root_mean_squared_error: 5510.0811\n",
            "Epoch 58/100\n",
            "17/17 [==============================] - 0s 5ms/step - loss: 157920272.0000 - root_mean_squared_error: 12566.6328 - val_loss: 36727824.0000 - val_root_mean_squared_error: 6060.3486\n",
            "Epoch 59/100\n",
            "17/17 [==============================] - 0s 4ms/step - loss: 169736192.0000 - root_mean_squared_error: 13028.2842 - val_loss: 35462712.0000 - val_root_mean_squared_error: 5955.0576\n",
            "Epoch 60/100\n",
            "17/17 [==============================] - 0s 4ms/step - loss: 148945152.0000 - root_mean_squared_error: 12204.3086 - val_loss: 40520476.0000 - val_root_mean_squared_error: 6365.5693\n",
            "Epoch 61/100\n",
            "17/17 [==============================] - 1s 41ms/step - loss: 136595936.0000 - root_mean_squared_error: 11687.4268 - val_loss: 27053514.0000 - val_root_mean_squared_error: 5201.2993\n",
            "Epoch 62/100\n",
            "17/17 [==============================] - 0s 5ms/step - loss: 143866976.0000 - root_mean_squared_error: 11994.4561 - val_loss: 32679466.0000 - val_root_mean_squared_error: 5716.5957\n",
            "Epoch 63/100\n",
            "17/17 [==============================] - 0s 3ms/step - loss: 174897920.0000 - root_mean_squared_error: 13224.8975 - val_loss: 39604072.0000 - val_root_mean_squared_error: 6293.1768\n",
            "Epoch 64/100\n",
            "17/17 [==============================] - 0s 4ms/step - loss: 273148736.0000 - root_mean_squared_error: 16527.2129 - val_loss: 40625996.0000 - val_root_mean_squared_error: 6373.8525\n",
            "Epoch 65/100\n",
            "17/17 [==============================] - 0s 4ms/step - loss: 239538832.0000 - root_mean_squared_error: 15477.0420 - val_loss: 85318960.0000 - val_root_mean_squared_error: 9236.8262\n",
            "Epoch 66/100\n",
            "17/17 [==============================] - 0s 3ms/step - loss: 200944112.0000 - root_mean_squared_error: 14175.4756 - val_loss: 39322328.0000 - val_root_mean_squared_error: 6270.7520\n",
            "Epoch 67/100\n",
            "17/17 [==============================] - 0s 4ms/step - loss: 150404352.0000 - root_mean_squared_error: 12263.9453 - val_loss: 39634860.0000 - val_root_mean_squared_error: 6295.6221\n",
            "Epoch 68/100\n",
            "17/17 [==============================] - 0s 4ms/step - loss: 136651584.0000 - root_mean_squared_error: 11689.8066 - val_loss: 52471056.0000 - val_root_mean_squared_error: 7243.6909\n",
            "Epoch 69/100\n",
            "17/17 [==============================] - 0s 4ms/step - loss: 114427304.0000 - root_mean_squared_error: 10697.0703 - val_loss: 30511062.0000 - val_root_mean_squared_error: 5523.6821\n",
            "Epoch 70/100\n",
            "17/17 [==============================] - 0s 4ms/step - loss: 112456704.0000 - root_mean_squared_error: 10604.5605 - val_loss: 41292060.0000 - val_root_mean_squared_error: 6425.8896\n",
            "Epoch 71/100\n",
            "17/17 [==============================] - 0s 4ms/step - loss: 111491280.0000 - root_mean_squared_error: 10558.9434 - val_loss: 34215436.0000 - val_root_mean_squared_error: 5849.3960\n",
            "Epoch 72/100\n",
            "17/17 [==============================] - 0s 4ms/step - loss: 107992736.0000 - root_mean_squared_error: 10391.9551 - val_loss: 40828372.0000 - val_root_mean_squared_error: 6389.7085\n",
            "Epoch 73/100\n",
            "17/17 [==============================] - 0s 4ms/step - loss: 153807792.0000 - root_mean_squared_error: 12401.9268 - val_loss: 43662592.0000 - val_root_mean_squared_error: 6607.7676\n",
            "Epoch 74/100\n",
            "17/17 [==============================] - 0s 5ms/step - loss: 138647248.0000 - root_mean_squared_error: 11774.8564 - val_loss: 50663188.0000 - val_root_mean_squared_error: 7117.8076\n",
            "Epoch 75/100\n",
            "17/17 [==============================] - 0s 5ms/step - loss: 281517600.0000 - root_mean_squared_error: 16778.4863 - val_loss: 76304936.0000 - val_root_mean_squared_error: 8735.2695\n",
            "Epoch 76/100\n",
            "17/17 [==============================] - 1s 42ms/step - loss: 133440304.0000 - root_mean_squared_error: 11551.6367 - val_loss: 27043396.0000 - val_root_mean_squared_error: 5200.3267\n",
            "Epoch 77/100\n",
            "17/17 [==============================] - 1s 41ms/step - loss: 108182120.0000 - root_mean_squared_error: 10401.0635 - val_loss: 26137558.0000 - val_root_mean_squared_error: 5112.4902\n",
            "Epoch 78/100\n",
            "17/17 [==============================] - 0s 4ms/step - loss: 134267360.0000 - root_mean_squared_error: 11587.3789 - val_loss: 32685698.0000 - val_root_mean_squared_error: 5717.1406\n",
            "Epoch 79/100\n",
            "17/17 [==============================] - 0s 5ms/step - loss: 172539984.0000 - root_mean_squared_error: 13135.4473 - val_loss: 45194872.0000 - val_root_mean_squared_error: 6722.7134\n",
            "Epoch 80/100\n",
            "17/17 [==============================] - 0s 5ms/step - loss: 269512384.0000 - root_mean_squared_error: 16416.8320 - val_loss: 67154440.0000 - val_root_mean_squared_error: 8194.7812\n",
            "Epoch 81/100\n",
            "17/17 [==============================] - 0s 4ms/step - loss: 291050304.0000 - root_mean_squared_error: 17060.1973 - val_loss: 87925808.0000 - val_root_mean_squared_error: 9376.8760\n",
            "Epoch 82/100\n",
            "17/17 [==============================] - 0s 4ms/step - loss: 287678560.0000 - root_mean_squared_error: 16961.0898 - val_loss: 88066768.0000 - val_root_mean_squared_error: 9384.3896\n",
            "Epoch 83/100\n",
            "17/17 [==============================] - 0s 4ms/step - loss: 203355520.0000 - root_mean_squared_error: 14260.2773 - val_loss: 37218368.0000 - val_root_mean_squared_error: 6100.6860\n",
            "Epoch 84/100\n",
            "17/17 [==============================] - 0s 4ms/step - loss: 167855472.0000 - root_mean_squared_error: 12955.9053 - val_loss: 35455156.0000 - val_root_mean_squared_error: 5954.4233\n",
            "Epoch 85/100\n",
            "17/17 [==============================] - 0s 4ms/step - loss: 298019648.0000 - root_mean_squared_error: 17263.2461 - val_loss: 73031856.0000 - val_root_mean_squared_error: 8545.8682\n",
            "Epoch 86/100\n",
            "17/17 [==============================] - 0s 4ms/step - loss: 232922560.0000 - root_mean_squared_error: 15261.8008 - val_loss: 55421020.0000 - val_root_mean_squared_error: 7444.5293\n",
            "Epoch 87/100\n",
            "17/17 [==============================] - 0s 3ms/step - loss: 111197968.0000 - root_mean_squared_error: 10545.0449 - val_loss: 31856796.0000 - val_root_mean_squared_error: 5644.1826\n",
            "Epoch 88/100\n",
            "17/17 [==============================] - 0s 4ms/step - loss: 138023216.0000 - root_mean_squared_error: 11748.3281 - val_loss: 37099352.0000 - val_root_mean_squared_error: 6090.9238\n",
            "Epoch 89/100\n",
            "17/17 [==============================] - 0s 4ms/step - loss: 300869600.0000 - root_mean_squared_error: 17345.5938 - val_loss: 54035376.0000 - val_root_mean_squared_error: 7350.8760\n",
            "Epoch 90/100\n",
            "17/17 [==============================] - 0s 4ms/step - loss: 238676240.0000 - root_mean_squared_error: 15449.1504 - val_loss: 39670808.0000 - val_root_mean_squared_error: 6298.4766\n",
            "Epoch 91/100\n",
            "17/17 [==============================] - 0s 4ms/step - loss: 235183728.0000 - root_mean_squared_error: 15335.7012 - val_loss: 52497608.0000 - val_root_mean_squared_error: 7245.5234\n",
            "Epoch 92/100\n",
            "17/17 [==============================] - 0s 4ms/step - loss: 207451008.0000 - root_mean_squared_error: 14403.1592 - val_loss: 66531332.0000 - val_root_mean_squared_error: 8156.6748\n",
            "Epoch 93/100\n",
            "17/17 [==============================] - 0s 4ms/step - loss: 408222240.0000 - root_mean_squared_error: 20204.5098 - val_loss: 89652120.0000 - val_root_mean_squared_error: 9468.4805\n",
            "Epoch 94/100\n",
            "17/17 [==============================] - 0s 4ms/step - loss: 195605520.0000 - root_mean_squared_error: 13985.9043 - val_loss: 31002312.0000 - val_root_mean_squared_error: 5567.9722\n",
            "Epoch 95/100\n",
            "17/17 [==============================] - 0s 4ms/step - loss: 157518624.0000 - root_mean_squared_error: 12550.6426 - val_loss: 46784572.0000 - val_root_mean_squared_error: 6839.9248\n",
            "Epoch 96/100\n",
            "17/17 [==============================] - 0s 4ms/step - loss: 140553552.0000 - root_mean_squared_error: 11855.5283 - val_loss: 82468368.0000 - val_root_mean_squared_error: 9081.2100\n",
            "Epoch 97/100\n",
            "17/17 [==============================] - 0s 4ms/step - loss: 179592000.0000 - root_mean_squared_error: 13401.1943 - val_loss: 70311136.0000 - val_root_mean_squared_error: 8385.1738\n",
            "Epoch 98/100\n",
            "17/17 [==============================] - 0s 4ms/step - loss: 137594928.0000 - root_mean_squared_error: 11730.0869 - val_loss: 53033680.0000 - val_root_mean_squared_error: 7282.4229\n",
            "Epoch 99/100\n",
            "17/17 [==============================] - 0s 5ms/step - loss: 213565792.0000 - root_mean_squared_error: 14613.8906 - val_loss: 76961264.0000 - val_root_mean_squared_error: 8772.7568\n",
            "Epoch 100/100\n",
            "17/17 [==============================] - 0s 4ms/step - loss: 163410912.0000 - root_mean_squared_error: 12783.2275 - val_loss: 38896628.0000 - val_root_mean_squared_error: 6236.7163\n"
          ]
        },
        {
          "output_type": "execute_result",
          "data": {
            "text/plain": [
              "<keras.callbacks.History at 0x7f74325663d0>"
            ]
          },
          "metadata": {},
          "execution_count": 91
        }
      ]
    },
    {
      "cell_type": "markdown",
      "source": [
        "Evaluate Medium model"
      ],
      "metadata": {
        "id": "doHPBzSjGqOd"
      }
    },
    {
      "cell_type": "code",
      "source": [
        "#from tensorflow.keras.models import load_model\n",
        "#medium_nn = load_model('models/medium_nn')\n",
        "#mse(medium_nn.predict(X_train), y_train, squared = False), mse(medium_nn.predict(X_val),y_val,squared = False)"
      ],
      "metadata": {
        "id": "waECRemQGtUs",
        "outputId": "a1709802-eae3-45e8-be25-514e818af4b8",
        "colab": {
          "base_uri": "https://localhost:8080/"
        }
      },
      "execution_count": null,
      "outputs": [
        {
          "output_type": "stream",
          "name": "stdout",
          "text": [
            "17/17 [==============================] - 0s 1ms/step\n",
            "6/6 [==============================] - 0s 2ms/step\n"
          ]
        },
        {
          "output_type": "execute_result",
          "data": {
            "text/plain": [
              "(9002.712128712541, 5112.4895708462955)"
            ]
          },
          "metadata": {},
          "execution_count": 92
        }
      ]
    },
    {
      "cell_type": "markdown",
      "source": [
        "Large Neural Network"
      ],
      "metadata": {
        "id": "N9vj8ia7I4Sp"
      }
    },
    {
      "cell_type": "code",
      "source": [
        "#from sklearn.utils import optimize\n",
        "#large_nn = Sequential()\n",
        "#large_nn.add(InputLayer((12,)))\n",
        "#large_nn.add(Dense(256, 'relu'))\n",
        "#large_nn.add(Dense(128, 'relu'))\n",
        "#large_nn.add(Dense(64, 'relu'))\n",
        "#large_nn.add(Dense(32, 'relu'))\n",
        "#large_nn.add(Dense(1, 'linear'))\n",
        "\n",
        "#opt = Adam(learning_rate = 0.10)\n",
        "#cp = ModelCheckpoint('models/large_nn', save_best_only=True)\n",
        "#large_nn.compile(optimizer = opt, loss = 'mse', metrics = [RootMeanSquaredError()])\n",
        "\n",
        "#large_nn.fit(x = X_train, y=y_train, validation_data = (X_val, y_val), callbacks=[cp], epochs = 100)\n",
        "\n",
        "\n",
        "\n"
      ],
      "metadata": {
        "id": "ifxU6NL1I7No",
        "outputId": "38d84d7d-badb-4867-fe04-41e063297e44",
        "colab": {
          "base_uri": "https://localhost:8080/"
        }
      },
      "execution_count": null,
      "outputs": [
        {
          "output_type": "stream",
          "name": "stdout",
          "text": [
            "Epoch 1/100\n",
            "17/17 [==============================] - 2s 67ms/step - loss: 432155262976.0000 - root_mean_squared_error: 657385.1875 - val_loss: 64991203328.0000 - val_root_mean_squared_error: 254933.7188\n",
            "Epoch 2/100\n",
            "17/17 [==============================] - 1s 57ms/step - loss: 169070821376.0000 - root_mean_squared_error: 411182.2188 - val_loss: 31201359872.0000 - val_root_mean_squared_error: 176639.0625\n",
            "Epoch 3/100\n",
            "17/17 [==============================] - 1s 83ms/step - loss: 63305097216.0000 - root_mean_squared_error: 251605.0469 - val_loss: 25099835392.0000 - val_root_mean_squared_error: 158429.2812\n",
            "Epoch 4/100\n",
            "17/17 [==============================] - 1s 57ms/step - loss: 32888999936.0000 - root_mean_squared_error: 181353.2500 - val_loss: 15314434048.0000 - val_root_mean_squared_error: 123751.5000\n",
            "Epoch 5/100\n",
            "17/17 [==============================] - 1s 58ms/step - loss: 26124886016.0000 - root_mean_squared_error: 161631.9531 - val_loss: 6742446592.0000 - val_root_mean_squared_error: 82112.3984\n",
            "Epoch 6/100\n",
            "17/17 [==============================] - 0s 5ms/step - loss: 142150680576.0000 - root_mean_squared_error: 377028.7500 - val_loss: 16892708864.0000 - val_root_mean_squared_error: 129971.9531\n",
            "Epoch 7/100\n",
            "17/17 [==============================] - 0s 17ms/step - loss: 132626104320.0000 - root_mean_squared_error: 364178.6562 - val_loss: 23213348864.0000 - val_root_mean_squared_error: 152359.2812\n",
            "Epoch 8/100\n",
            "17/17 [==============================] - 1s 85ms/step - loss: 41712947200.0000 - root_mean_squared_error: 204237.4844 - val_loss: 5233297920.0000 - val_root_mean_squared_error: 72341.5391\n",
            "Epoch 9/100\n",
            "17/17 [==============================] - 1s 85ms/step - loss: 6507588608.0000 - root_mean_squared_error: 80669.6250 - val_loss: 3743802624.0000 - val_root_mean_squared_error: 61186.6211\n",
            "Epoch 10/100\n",
            "17/17 [==============================] - 0s 8ms/step - loss: 8727424000.0000 - root_mean_squared_error: 93420.6797 - val_loss: 5337948672.0000 - val_root_mean_squared_error: 73061.2656\n",
            "Epoch 11/100\n",
            "17/17 [==============================] - 0s 7ms/step - loss: 71581138944.0000 - root_mean_squared_error: 267546.5312 - val_loss: 20385933312.0000 - val_root_mean_squared_error: 142779.3125\n",
            "Epoch 12/100\n",
            "17/17 [==============================] - 0s 7ms/step - loss: 177286037504.0000 - root_mean_squared_error: 421053.5000 - val_loss: 14734297088.0000 - val_root_mean_squared_error: 121384.9141\n",
            "Epoch 13/100\n",
            "17/17 [==============================] - 0s 8ms/step - loss: 129264222208.0000 - root_mean_squared_error: 359533.3438 - val_loss: 76360458240.0000 - val_root_mean_squared_error: 276333.9688\n",
            "Epoch 14/100\n",
            "17/17 [==============================] - 0s 8ms/step - loss: 395360141312.0000 - root_mean_squared_error: 628776.6875 - val_loss: 39626252288.0000 - val_root_mean_squared_error: 199063.4375\n",
            "Epoch 15/100\n",
            "17/17 [==============================] - 0s 8ms/step - loss: 379503050752.0000 - root_mean_squared_error: 616038.1875 - val_loss: 14760417280.0000 - val_root_mean_squared_error: 121492.4609\n",
            "Epoch 16/100\n",
            "17/17 [==============================] - 0s 8ms/step - loss: 318076911616.0000 - root_mean_squared_error: 563983.0625 - val_loss: 94798462976.0000 - val_root_mean_squared_error: 307893.5938\n",
            "Epoch 17/100\n",
            "17/17 [==============================] - 0s 8ms/step - loss: 690479628288.0000 - root_mean_squared_error: 830951.0625 - val_loss: 95868157952.0000 - val_root_mean_squared_error: 309625.8438\n",
            "Epoch 18/100\n",
            "17/17 [==============================] - 0s 8ms/step - loss: 666421952512.0000 - root_mean_squared_error: 816346.6875 - val_loss: 81467727872.0000 - val_root_mean_squared_error: 285425.5312\n",
            "Epoch 19/100\n",
            "17/17 [==============================] - 0s 8ms/step - loss: 416565231616.0000 - root_mean_squared_error: 645418.6250 - val_loss: 45991796736.0000 - val_root_mean_squared_error: 214456.9844\n",
            "Epoch 20/100\n",
            "17/17 [==============================] - 0s 7ms/step - loss: 61715722240.0000 - root_mean_squared_error: 248426.5000 - val_loss: 23992686592.0000 - val_root_mean_squared_error: 154895.7344\n",
            "Epoch 21/100\n",
            "17/17 [==============================] - 0s 7ms/step - loss: 51757625344.0000 - root_mean_squared_error: 227503.0156 - val_loss: 18639712256.0000 - val_root_mean_squared_error: 136527.3281\n",
            "Epoch 22/100\n",
            "17/17 [==============================] - 0s 8ms/step - loss: 24756070400.0000 - root_mean_squared_error: 157340.6250 - val_loss: 12011544576.0000 - val_root_mean_squared_error: 109597.1953\n",
            "Epoch 23/100\n",
            "17/17 [==============================] - 0s 8ms/step - loss: 34708385792.0000 - root_mean_squared_error: 186301.8750 - val_loss: 23541469184.0000 - val_root_mean_squared_error: 153432.2969\n",
            "Epoch 24/100\n",
            "17/17 [==============================] - 0s 8ms/step - loss: 43463557120.0000 - root_mean_squared_error: 208479.1562 - val_loss: 15638490112.0000 - val_root_mean_squared_error: 125053.9453\n",
            "Epoch 25/100\n",
            "17/17 [==============================] - 0s 8ms/step - loss: 22271469568.0000 - root_mean_squared_error: 149236.2812 - val_loss: 4368728064.0000 - val_root_mean_squared_error: 66096.3516\n",
            "Epoch 26/100\n",
            "17/17 [==============================] - 1s 68ms/step - loss: 4571360768.0000 - root_mean_squared_error: 67611.8359 - val_loss: 3688668160.0000 - val_root_mean_squared_error: 60734.4062\n",
            "Epoch 27/100\n",
            "17/17 [==============================] - 0s 5ms/step - loss: 3255485952.0000 - root_mean_squared_error: 57056.8672 - val_loss: 3775756800.0000 - val_root_mean_squared_error: 61447.1875\n",
            "Epoch 28/100\n",
            "17/17 [==============================] - 0s 6ms/step - loss: 3581685248.0000 - root_mean_squared_error: 59847.1836 - val_loss: 3708630784.0000 - val_root_mean_squared_error: 60898.5273\n",
            "Epoch 29/100\n",
            "17/17 [==============================] - 1s 60ms/step - loss: 2939068160.0000 - root_mean_squared_error: 54213.1719 - val_loss: 2044656256.0000 - val_root_mean_squared_error: 45217.8750\n",
            "Epoch 30/100\n",
            "17/17 [==============================] - 1s 58ms/step - loss: 1698663552.0000 - root_mean_squared_error: 41214.8477 - val_loss: 1902400384.0000 - val_root_mean_squared_error: 43616.5156\n",
            "Epoch 31/100\n",
            "17/17 [==============================] - 1s 57ms/step - loss: 1351216512.0000 - root_mean_squared_error: 36758.8984 - val_loss: 1765246720.0000 - val_root_mean_squared_error: 42014.8398\n",
            "Epoch 32/100\n",
            "17/17 [==============================] - 1s 81ms/step - loss: 1667671168.0000 - root_mean_squared_error: 40837.1289 - val_loss: 1609465728.0000 - val_root_mean_squared_error: 40118.1484\n",
            "Epoch 33/100\n",
            "17/17 [==============================] - 1s 58ms/step - loss: 840960384.0000 - root_mean_squared_error: 28999.3164 - val_loss: 1412680704.0000 - val_root_mean_squared_error: 37585.6445\n",
            "Epoch 34/100\n",
            "17/17 [==============================] - 1s 58ms/step - loss: 816268736.0000 - root_mean_squared_error: 28570.4180 - val_loss: 1075656064.0000 - val_root_mean_squared_error: 32797.1953\n",
            "Epoch 35/100\n",
            "17/17 [==============================] - 1s 59ms/step - loss: 627960384.0000 - root_mean_squared_error: 25059.1387 - val_loss: 928409024.0000 - val_root_mean_squared_error: 30469.8047\n",
            "Epoch 36/100\n",
            "17/17 [==============================] - 1s 59ms/step - loss: 566389184.0000 - root_mean_squared_error: 23798.9316 - val_loss: 920819968.0000 - val_root_mean_squared_error: 30345.0156\n",
            "Epoch 37/100\n",
            "17/17 [==============================] - 1s 57ms/step - loss: 602986560.0000 - root_mean_squared_error: 24555.7852 - val_loss: 799141824.0000 - val_root_mean_squared_error: 28269.0957\n",
            "Epoch 38/100\n",
            "17/17 [==============================] - 0s 4ms/step - loss: 536339968.0000 - root_mean_squared_error: 23159.0156 - val_loss: 855697600.0000 - val_root_mean_squared_error: 29252.3086\n",
            "Epoch 39/100\n",
            "17/17 [==============================] - 1s 58ms/step - loss: 514205312.0000 - root_mean_squared_error: 22676.0957 - val_loss: 771123520.0000 - val_root_mean_squared_error: 27769.1113\n",
            "Epoch 40/100\n",
            "17/17 [==============================] - 0s 5ms/step - loss: 588530112.0000 - root_mean_squared_error: 24259.6387 - val_loss: 1024940864.0000 - val_root_mean_squared_error: 32014.6973\n",
            "Epoch 41/100\n",
            "17/17 [==============================] - 0s 4ms/step - loss: 565050112.0000 - root_mean_squared_error: 23770.7832 - val_loss: 824058112.0000 - val_root_mean_squared_error: 28706.4121\n",
            "Epoch 42/100\n",
            "17/17 [==============================] - 0s 4ms/step - loss: 415649984.0000 - root_mean_squared_error: 20387.4961 - val_loss: 784363392.0000 - val_root_mean_squared_error: 28006.4883\n",
            "Epoch 43/100\n",
            "17/17 [==============================] - 1s 58ms/step - loss: 411392672.0000 - root_mean_squared_error: 20282.8164 - val_loss: 663131904.0000 - val_root_mean_squared_error: 25751.3477\n",
            "Epoch 44/100\n",
            "17/17 [==============================] - 1s 59ms/step - loss: 386263328.0000 - root_mean_squared_error: 19653.5840 - val_loss: 534282560.0000 - val_root_mean_squared_error: 23114.5527\n",
            "Epoch 45/100\n",
            "17/17 [==============================] - 0s 4ms/step - loss: 374949920.0000 - root_mean_squared_error: 19363.6230 - val_loss: 597400576.0000 - val_root_mean_squared_error: 24441.7793\n",
            "Epoch 46/100\n",
            "17/17 [==============================] - 0s 4ms/step - loss: 444360736.0000 - root_mean_squared_error: 21079.8652 - val_loss: 642526528.0000 - val_root_mean_squared_error: 25348.1074\n",
            "Epoch 47/100\n",
            "17/17 [==============================] - 0s 5ms/step - loss: 388767360.0000 - root_mean_squared_error: 19717.1836 - val_loss: 541057856.0000 - val_root_mean_squared_error: 23260.6504\n",
            "Epoch 48/100\n",
            "17/17 [==============================] - 0s 5ms/step - loss: 302144128.0000 - root_mean_squared_error: 17382.2930 - val_loss: 535963136.0000 - val_root_mean_squared_error: 23150.8770\n",
            "Epoch 49/100\n",
            "17/17 [==============================] - 1s 81ms/step - loss: 273124192.0000 - root_mean_squared_error: 16526.4688 - val_loss: 485653024.0000 - val_root_mean_squared_error: 22037.5371\n",
            "Epoch 50/100\n",
            "17/17 [==============================] - 1s 57ms/step - loss: 243252736.0000 - root_mean_squared_error: 15596.5615 - val_loss: 440644192.0000 - val_root_mean_squared_error: 20991.5273\n",
            "Epoch 51/100\n",
            "17/17 [==============================] - 1s 58ms/step - loss: 300992672.0000 - root_mean_squared_error: 17349.1406 - val_loss: 396009792.0000 - val_root_mean_squared_error: 19899.9941\n",
            "Epoch 52/100\n",
            "17/17 [==============================] - 0s 5ms/step - loss: 280121664.0000 - root_mean_squared_error: 16736.8359 - val_loss: 460537728.0000 - val_root_mean_squared_error: 21460.1426\n",
            "Epoch 53/100\n",
            "17/17 [==============================] - 0s 6ms/step - loss: 264627840.0000 - root_mean_squared_error: 16267.3857 - val_loss: 434902016.0000 - val_root_mean_squared_error: 20854.3047\n",
            "Epoch 54/100\n",
            "17/17 [==============================] - 0s 5ms/step - loss: 247090576.0000 - root_mean_squared_error: 15719.1152 - val_loss: 437404160.0000 - val_root_mean_squared_error: 20914.2090\n",
            "Epoch 55/100\n",
            "17/17 [==============================] - 1s 58ms/step - loss: 179835856.0000 - root_mean_squared_error: 13410.2891 - val_loss: 385357984.0000 - val_root_mean_squared_error: 19630.5371\n",
            "Epoch 56/100\n",
            "17/17 [==============================] - 1s 58ms/step - loss: 215935728.0000 - root_mean_squared_error: 14694.7520 - val_loss: 380188736.0000 - val_root_mean_squared_error: 19498.4297\n",
            "Epoch 57/100\n",
            "17/17 [==============================] - 0s 4ms/step - loss: 367920480.0000 - root_mean_squared_error: 19181.2539 - val_loss: 554506368.0000 - val_root_mean_squared_error: 23547.9590\n",
            "Epoch 58/100\n",
            "17/17 [==============================] - 1s 61ms/step - loss: 254682000.0000 - root_mean_squared_error: 15958.7598 - val_loss: 375419136.0000 - val_root_mean_squared_error: 19375.7363\n",
            "Epoch 59/100\n",
            "17/17 [==============================] - 0s 5ms/step - loss: 188328736.0000 - root_mean_squared_error: 13723.2920 - val_loss: 384446656.0000 - val_root_mean_squared_error: 19607.3105\n",
            "Epoch 60/100\n",
            "17/17 [==============================] - 0s 5ms/step - loss: 225615728.0000 - root_mean_squared_error: 15020.5098 - val_loss: 458867808.0000 - val_root_mean_squared_error: 21421.1992\n",
            "Epoch 61/100\n",
            "17/17 [==============================] - 0s 4ms/step - loss: 290759104.0000 - root_mean_squared_error: 17051.6602 - val_loss: 569189056.0000 - val_root_mean_squared_error: 23857.6836\n",
            "Epoch 62/100\n",
            "17/17 [==============================] - 0s 5ms/step - loss: 558778112.0000 - root_mean_squared_error: 23638.4883 - val_loss: 618030656.0000 - val_root_mean_squared_error: 24860.2227\n",
            "Epoch 63/100\n",
            "17/17 [==============================] - 0s 5ms/step - loss: 514402464.0000 - root_mean_squared_error: 22680.4414 - val_loss: 739106368.0000 - val_root_mean_squared_error: 27186.5117\n",
            "Epoch 64/100\n",
            "17/17 [==============================] - 0s 5ms/step - loss: 281635744.0000 - root_mean_squared_error: 16782.0059 - val_loss: 493288736.0000 - val_root_mean_squared_error: 22210.1035\n",
            "Epoch 65/100\n",
            "17/17 [==============================] - 0s 6ms/step - loss: 187480688.0000 - root_mean_squared_error: 13692.3584 - val_loss: 383101536.0000 - val_root_mean_squared_error: 19572.9805\n",
            "Epoch 66/100\n",
            "17/17 [==============================] - 0s 5ms/step - loss: 168377680.0000 - root_mean_squared_error: 12976.0430 - val_loss: 456511232.0000 - val_root_mean_squared_error: 21366.1230\n",
            "Epoch 67/100\n",
            "17/17 [==============================] - 1s 58ms/step - loss: 176296896.0000 - root_mean_squared_error: 13277.6846 - val_loss: 316360704.0000 - val_root_mean_squared_error: 17786.5312\n",
            "Epoch 68/100\n",
            "17/17 [==============================] - 0s 4ms/step - loss: 143371312.0000 - root_mean_squared_error: 11973.7764 - val_loss: 380408320.0000 - val_root_mean_squared_error: 19504.0586\n",
            "Epoch 69/100\n",
            "17/17 [==============================] - 1s 58ms/step - loss: 160141232.0000 - root_mean_squared_error: 12654.6924 - val_loss: 289628256.0000 - val_root_mean_squared_error: 17018.4688\n",
            "Epoch 70/100\n",
            "17/17 [==============================] - 0s 5ms/step - loss: 331760288.0000 - root_mean_squared_error: 18214.2871 - val_loss: 552996032.0000 - val_root_mean_squared_error: 23515.8672\n",
            "Epoch 71/100\n",
            "17/17 [==============================] - 0s 5ms/step - loss: 267743648.0000 - root_mean_squared_error: 16362.8740 - val_loss: 473151584.0000 - val_root_mean_squared_error: 21752.0469\n",
            "Epoch 72/100\n",
            "17/17 [==============================] - 0s 4ms/step - loss: 207336768.0000 - root_mean_squared_error: 14399.1934 - val_loss: 334259424.0000 - val_root_mean_squared_error: 18282.7637\n",
            "Epoch 73/100\n",
            "17/17 [==============================] - 0s 5ms/step - loss: 138954704.0000 - root_mean_squared_error: 11787.9053 - val_loss: 315095200.0000 - val_root_mean_squared_error: 17750.9219\n",
            "Epoch 74/100\n",
            "17/17 [==============================] - 0s 4ms/step - loss: 158300048.0000 - root_mean_squared_error: 12581.7344 - val_loss: 359125632.0000 - val_root_mean_squared_error: 18950.6094\n",
            "Epoch 75/100\n",
            "17/17 [==============================] - 0s 6ms/step - loss: 144745952.0000 - root_mean_squared_error: 12031.0410 - val_loss: 363205600.0000 - val_root_mean_squared_error: 19057.9531\n",
            "Epoch 76/100\n",
            "17/17 [==============================] - 0s 5ms/step - loss: 122990264.0000 - root_mean_squared_error: 11090.0977 - val_loss: 307429888.0000 - val_root_mean_squared_error: 17533.6777\n",
            "Epoch 77/100\n",
            "17/17 [==============================] - 0s 4ms/step - loss: 193093664.0000 - root_mean_squared_error: 13895.8145 - val_loss: 317115744.0000 - val_root_mean_squared_error: 17807.7441\n",
            "Epoch 78/100\n",
            "17/17 [==============================] - 0s 5ms/step - loss: 1028068544.0000 - root_mean_squared_error: 32063.5078 - val_loss: 900856768.0000 - val_root_mean_squared_error: 30014.2754\n",
            "Epoch 79/100\n",
            "17/17 [==============================] - 0s 5ms/step - loss: 1655370624.0000 - root_mean_squared_error: 40686.2461 - val_loss: 598492608.0000 - val_root_mean_squared_error: 24464.1094\n",
            "Epoch 80/100\n",
            "17/17 [==============================] - 0s 4ms/step - loss: 806047424.0000 - root_mean_squared_error: 28390.9746 - val_loss: 464318336.0000 - val_root_mean_squared_error: 21548.0469\n",
            "Epoch 81/100\n",
            "17/17 [==============================] - 0s 4ms/step - loss: 824059264.0000 - root_mean_squared_error: 28706.4316 - val_loss: 703152448.0000 - val_root_mean_squared_error: 26517.0215\n",
            "Epoch 82/100\n",
            "17/17 [==============================] - 0s 5ms/step - loss: 2233747712.0000 - root_mean_squared_error: 47262.5391 - val_loss: 1092941056.0000 - val_root_mean_squared_error: 33059.6602\n",
            "Epoch 83/100\n",
            "17/17 [==============================] - 0s 5ms/step - loss: 2775151104.0000 - root_mean_squared_error: 52679.7031 - val_loss: 1300325248.0000 - val_root_mean_squared_error: 36060.0234\n",
            "Epoch 84/100\n",
            "17/17 [==============================] - 0s 5ms/step - loss: 2396618752.0000 - root_mean_squared_error: 48955.2734 - val_loss: 813610048.0000 - val_root_mean_squared_error: 28523.8496\n",
            "Epoch 85/100\n",
            "17/17 [==============================] - 0s 5ms/step - loss: 1805782272.0000 - root_mean_squared_error: 42494.4961 - val_loss: 959001216.0000 - val_root_mean_squared_error: 30967.7441\n",
            "Epoch 86/100\n",
            "17/17 [==============================] - 0s 6ms/step - loss: 721246464.0000 - root_mean_squared_error: 26856.0312 - val_loss: 618272384.0000 - val_root_mean_squared_error: 24865.0840\n",
            "Epoch 87/100\n",
            "17/17 [==============================] - 0s 5ms/step - loss: 1109373440.0000 - root_mean_squared_error: 33307.2578 - val_loss: 458288256.0000 - val_root_mean_squared_error: 21407.6680\n",
            "Epoch 88/100\n",
            "17/17 [==============================] - 0s 4ms/step - loss: 1110469120.0000 - root_mean_squared_error: 33323.7031 - val_loss: 555346368.0000 - val_root_mean_squared_error: 23565.7871\n",
            "Epoch 89/100\n",
            "17/17 [==============================] - 0s 5ms/step - loss: 1463063296.0000 - root_mean_squared_error: 38250.0117 - val_loss: 421215488.0000 - val_root_mean_squared_error: 20523.5352\n",
            "Epoch 90/100\n",
            "17/17 [==============================] - 0s 4ms/step - loss: 615971520.0000 - root_mean_squared_error: 24818.7734 - val_loss: 615974208.0000 - val_root_mean_squared_error: 24818.8281\n",
            "Epoch 91/100\n",
            "17/17 [==============================] - 0s 5ms/step - loss: 748879040.0000 - root_mean_squared_error: 27365.6543 - val_loss: 469090560.0000 - val_root_mean_squared_error: 21658.4980\n",
            "Epoch 92/100\n",
            "17/17 [==============================] - 0s 5ms/step - loss: 503030592.0000 - root_mean_squared_error: 22428.3438 - val_loss: 337185728.0000 - val_root_mean_squared_error: 18362.6172\n",
            "Epoch 93/100\n",
            "17/17 [==============================] - 0s 5ms/step - loss: 279611488.0000 - root_mean_squared_error: 16721.5879 - val_loss: 300405632.0000 - val_root_mean_squared_error: 17332.2129\n",
            "Epoch 94/100\n",
            "17/17 [==============================] - 1s 58ms/step - loss: 130793272.0000 - root_mean_squared_error: 11436.4883 - val_loss: 271867808.0000 - val_root_mean_squared_error: 16488.4141\n",
            "Epoch 95/100\n",
            "17/17 [==============================] - 1s 80ms/step - loss: 209636768.0000 - root_mean_squared_error: 14478.8389 - val_loss: 233629824.0000 - val_root_mean_squared_error: 15284.9541\n",
            "Epoch 96/100\n",
            "17/17 [==============================] - 0s 5ms/step - loss: 363943552.0000 - root_mean_squared_error: 19077.3047 - val_loss: 605154944.0000 - val_root_mean_squared_error: 24599.8965\n",
            "Epoch 97/100\n",
            "17/17 [==============================] - 0s 6ms/step - loss: 11113388032.0000 - root_mean_squared_error: 105420.0547 - val_loss: 6024407552.0000 - val_root_mean_squared_error: 77617.0547\n",
            "Epoch 98/100\n",
            "17/17 [==============================] - 0s 5ms/step - loss: 18134249472.0000 - root_mean_squared_error: 134663.4688 - val_loss: 1217667584.0000 - val_root_mean_squared_error: 34895.0938\n",
            "Epoch 99/100\n",
            "17/17 [==============================] - 0s 4ms/step - loss: 3704072448.0000 - root_mean_squared_error: 60861.0898 - val_loss: 2481196032.0000 - val_root_mean_squared_error: 49811.6055\n",
            "Epoch 100/100\n",
            "17/17 [==============================] - 0s 6ms/step - loss: 1870355328.0000 - root_mean_squared_error: 43247.6055 - val_loss: 669490368.0000 - val_root_mean_squared_error: 25874.5117\n"
          ]
        },
        {
          "output_type": "execute_result",
          "data": {
            "text/plain": [
              "<keras.callbacks.History at 0x7f7434a92bd0>"
            ]
          },
          "metadata": {},
          "execution_count": 93
        }
      ]
    },
    {
      "cell_type": "markdown",
      "source": [
        "Large DNN evaluation "
      ],
      "metadata": {
        "id": "Ysg9zbvBJY3i"
      }
    },
    {
      "cell_type": "code",
      "source": [
        "#from tensorflow.keras.models import load_model\n",
        "#large_nn = load_model('models/large_nn')\n",
        "#mse(large_nn.predict(X_train), y_train, squared = False), mse(large_nn.predict(X_val),y_val,squared = False)"
      ],
      "metadata": {
        "id": "mGniJy05JbzM",
        "outputId": "11af01f0-0625-4d70-cec5-fc7c3e037f74",
        "colab": {
          "base_uri": "https://localhost:8080/"
        }
      },
      "execution_count": null,
      "outputs": [
        {
          "output_type": "stream",
          "name": "stdout",
          "text": [
            "17/17 [==============================] - 0s 2ms/step\n",
            "6/6 [==============================] - 0s 2ms/step\n"
          ]
        },
        {
          "output_type": "execute_result",
          "data": {
            "text/plain": [
              "(26593.048950280932, 15284.953585588128)"
            ]
          },
          "metadata": {},
          "execution_count": 94
        }
      ]
    },
    {
      "cell_type": "markdown",
      "source": [
        "**Tune DNN model to give best result**"
      ],
      "metadata": {
        "id": "g65cErDNKQim"
      }
    },
    {
      "cell_type": "markdown",
      "source": [
        "The hyperamters are the following: \n",
        "\n",
        "1. How many number of hidden layers should we have? \n",
        "2. How many number of neurons we should have in each hidden layer? \n",
        "3. What should the learning rate be from optimizer Adam"
      ],
      "metadata": {
        "id": "Q-N3C4cOPD48"
      }
    },
    {
      "cell_type": "code",
      "source": [
        "# Import tuning function\n",
        "\n",
        "from kerastuner.tuners import RandomSearch "
      ],
      "metadata": {
        "id": "EOeN9YElKTi1"
      },
      "execution_count": null,
      "outputs": []
    },
    {
      "cell_type": "code",
      "source": [
        "opt = tf.keras.optimizers.RMSprop()"
      ],
      "metadata": {
        "id": "2cj-zsmpSFzK"
      },
      "execution_count": null,
      "outputs": []
    },
    {
      "cell_type": "code",
      "source": [
        "\n",
        "\n",
        "def build_model (hp):\n",
        "  tuned_model = keras.Sequential()\n",
        "  for i in range(hp.Int('num_layers',3,14)):\n",
        "    tuned_model.add(layers.Dense(units = hp.Int('units_' + str(i),\n",
        "                                          min_value = 32,\n",
        "                                          max_value = 448,\n",
        "                                          step =32),\n",
        "                           activation = 'relu'))\n",
        "    tuned_model.add(layers.Dense(1,activation = 'linear'))\n",
        "    tuned_model.compile(optimizer = keras.optimizers.Adam(hp.Choice('learning_rate', [15e-2,1e-1,2e-1,075e-3])),\n",
        "                  loss = 'mean_absolute_error', metrics = ['mean_absolute_error'])\n",
        "    return tuned_model "
      ],
      "metadata": {
        "id": "PYqavA5GMiXQ"
      },
      "execution_count": null,
      "outputs": []
    },
    {
      "cell_type": "code",
      "source": [
        "tuner = RandomSearch(\n",
        "    build_model, \n",
        "    objective = 'val_mean_absolute_error',\n",
        "    max_trials = 10,\n",
        "    executions_per_trial=3,\n",
        "    directory = 'tuning18',\n",
        "    project_name = 'trial18')\n"
      ],
      "metadata": {
        "id": "ojh51a5nOrml"
      },
      "execution_count": null,
      "outputs": []
    },
    {
      "cell_type": "code",
      "source": [
        "tuner.search_space_summary()"
      ],
      "metadata": {
        "id": "hAwraUW8QJWe",
        "outputId": "bf3445be-3f00-4abe-a710-41eff31ad8ed",
        "colab": {
          "base_uri": "https://localhost:8080/"
        }
      },
      "execution_count": null,
      "outputs": [
        {
          "output_type": "stream",
          "name": "stdout",
          "text": [
            "Search space summary\n",
            "Default search space size: 3\n",
            "num_layers (Int)\n",
            "{'default': None, 'conditions': [], 'min_value': 3, 'max_value': 14, 'step': 1, 'sampling': None}\n",
            "units_0 (Int)\n",
            "{'default': None, 'conditions': [], 'min_value': 32, 'max_value': 448, 'step': 32, 'sampling': None}\n",
            "learning_rate (Choice)\n",
            "{'default': 0.15, 'conditions': [], 'values': [0.15, 0.1, 0.2, 0.075], 'ordered': True}\n"
          ]
        }
      ]
    },
    {
      "cell_type": "markdown",
      "source": [
        "Run the tuning function"
      ],
      "metadata": {
        "id": "IG_8luQvTlcN"
      }
    },
    {
      "cell_type": "code",
      "source": [
        "tuner.search(X_train, y_train,\n",
        "             epochs=100,\n",
        "             validation_data =(X_val, y_val))\n"
      ],
      "metadata": {
        "id": "Imz8yoXdTI0T",
        "outputId": "2f90efb0-ab16-4c53-a856-1dbd75a5a0a1",
        "colab": {
          "base_uri": "https://localhost:8080/"
        }
      },
      "execution_count": null,
      "outputs": [
        {
          "output_type": "stream",
          "name": "stdout",
          "text": [
            "Trial 10 Complete [00h 00m 26s]\n",
            "val_mean_absolute_error: 2317.6553548177085\n",
            "\n",
            "Best val_mean_absolute_error So Far: 1977.1907145182292\n",
            "Total elapsed time: 00h 04m 59s\n"
          ]
        }
      ]
    },
    {
      "cell_type": "code",
      "source": [
        "tuner.get_best_hyperparameters()[0].values"
      ],
      "metadata": {
        "id": "qREoB5vaF9GU",
        "outputId": "c9a62e1f-1b9e-4862-97fe-e0c562a61012",
        "colab": {
          "base_uri": "https://localhost:8080/"
        }
      },
      "execution_count": null,
      "outputs": [
        {
          "output_type": "execute_result",
          "data": {
            "text/plain": [
              "{'num_layers': 5, 'units_0': 160, 'learning_rate': 0.15}"
            ]
          },
          "metadata": {},
          "execution_count": 79
        }
      ]
    },
    {
      "cell_type": "code",
      "source": [
        "tuner.get_best_hyperparameters"
      ],
      "metadata": {
        "id": "7uwll0AGdaTV",
        "outputId": "bab0d61e-1e60-4907-dcd9-86a533abb1cc",
        "colab": {
          "base_uri": "https://localhost:8080/"
        }
      },
      "execution_count": null,
      "outputs": [
        {
          "output_type": "execute_result",
          "data": {
            "text/plain": [
              "<keras.engine.sequential.Sequential at 0x7f1910c4a150>"
            ]
          },
          "metadata": {},
          "execution_count": 26
        }
      ]
    },
    {
      "cell_type": "code",
      "source": [],
      "metadata": {
        "id": "TFv8zOB9GiIb"
      },
      "execution_count": null,
      "outputs": []
    },
    {
      "cell_type": "code",
      "source": [
        "!pip install -U keras-tuner\n",
        "import kerastuner as kt\n"
      ],
      "metadata": {
        "id": "G0VnVT9R6QCc"
      },
      "execution_count": null,
      "outputs": []
    },
    {
      "cell_type": "markdown",
      "source": [
        "**OLD STUFF**"
      ],
      "metadata": {
        "id": "5OM8CLyyaP-X"
      }
    },
    {
      "cell_type": "code",
      "source": [
        "#model = tf.keras.models.Sequential([\n",
        "#        tf.keras.layers.Dense(8,input_shape = (8,), activation = 'relu'),\n",
        "#        tf.keras.layers.Dense(8,activation = 'relu'),\n",
        "#        tf.keras.layers.Dense(10,activation = 'relu'),\n",
        "#        tf.keras.layers.Dense(1)])\n",
        "#model.compile(loss = 'mse', optimizer = 'adam')\n",
        "    \n",
        "\n",
        "   \n",
        "\n",
        "    \n"
      ],
      "metadata": {
        "id": "FeLH0IeFKHGm"
      },
      "execution_count": null,
      "outputs": []
    },
    {
      "cell_type": "code",
      "source": [
        "tuned.fit(x_train,y_train, validation_data=(x_test, y_test), epochs = 100)"
      ],
      "metadata": {
        "id": "uyW9j_trSJMT"
      },
      "execution_count": null,
      "outputs": []
    },
    {
      "cell_type": "code",
      "source": [
        "#model.summary()"
      ],
      "metadata": {
        "id": "J_vM5HQDLA3K"
      },
      "execution_count": null,
      "outputs": []
    },
    {
      "cell_type": "markdown",
      "source": [
        "**Train DNN Model**\n"
      ],
      "metadata": {
        "id": "vkHOA1DxP8D7"
      }
    },
    {
      "cell_type": "code",
      "source": [
        "#cb = tf.keras.callbacks.EarlyStopping(monitor='val_loss', patience = 5)\n",
        "#model = model\n",
        "#predict_on_untrained = model.predict(x_test)\n",
        "#history = model.fit(x_train,y_train, validation_data=(x_test, y_test), epochs = 100, callbacks=[cb])"
      ],
      "metadata": {
        "id": "ot1_3ewBQAKd"
      },
      "execution_count": null,
      "outputs": []
    },
    {
      "cell_type": "markdown",
      "source": [
        "Plot Training and Validation Loss"
      ],
      "metadata": {
        "id": "NVmmOLQGRfCI"
      }
    },
    {
      "cell_type": "code",
      "source": [
        "#def plot_loss(history):\n",
        "#  plt.plot(history.history['loss'], label='loss')\n",
        "#  plt.plot(history.history['val_loss'], label='val_loss')\n",
        "#  plt.ylim([0, 10])\n",
        "#  plt.xlabel('Epoch')\n",
        "#  plt.ylabel('Error [Mineral Land Value]')\n",
        "#  plt.legend()\n",
        "#  plt.grid(True)\n",
        "#plot_loss(history)"
      ],
      "metadata": {
        "id": "uhTGDcSqRjE0"
      },
      "execution_count": null,
      "outputs": []
    },
    {
      "cell_type": "markdown",
      "source": [
        "**Predictions**"
      ],
      "metadata": {
        "id": "0uwPV4BsTqwd"
      }
    },
    {
      "cell_type": "code",
      "source": [
        "#Preds_on_trained = model.predict(x_test)\n",
        "#Preds_on_trained.shape\n",
        "#Preds_on_trained\n",
        "   "
      ],
      "metadata": {
        "id": "RSGzNhWig5Ep"
      },
      "execution_count": null,
      "outputs": []
    },
    {
      "cell_type": "markdown",
      "source": [
        "Test on orignal dataset values"
      ],
      "metadata": {
        "id": "Sxy0PeAZzxUp"
      }
    },
    {
      "cell_type": "code",
      "source": [
        "#test_data = np.array([-0.178029, -0.518005,\t0.198306,\t-0.267079,\t-0.492902,\t0.167098,\t-0.150257,\t-1.239117])\n",
        "\n",
        "#test_data.reshape(1,8)"
      ],
      "metadata": {
        "id": "UhQRAg0tuyaW"
      },
      "execution_count": null,
      "outputs": []
    },
    {
      "cell_type": "code",
      "source": [
        "#print(model.predict(test_data.reshape(1,8),batch_size=1))"
      ],
      "metadata": {
        "id": "tJtI6nXEwYyL"
      },
      "execution_count": null,
      "outputs": []
    },
    {
      "cell_type": "code",
      "source": [
        "#print('This is the value predicted mineral land value from input parameters',convert_label_value(-0.7161517),\"Million USD dollars\")"
      ],
      "metadata": {
        "id": "CsnmDgOqyhY4"
      },
      "execution_count": null,
      "outputs": []
    },
    {
      "cell_type": "markdown",
      "source": [
        "**Creat User Interface**\n",
        "\n",
        "This is when the customer enters in the parameters then they receive a predicted mineral price "
      ],
      "metadata": {
        "id": "tmzq86d7z4m1"
      }
    },
    {
      "cell_type": "code",
      "source": [
        "#print(' Welcome to our mineral land prediction software!!!','\\n','If you would like to make a prediction, please enter the following values')\n",
        "#print('Input Parameters')\n",
        "#a= float(input('RES_QTY_MILLION_TONNES: '))\n",
        "#b = float(input('RES_QTY_GRAM_TONNE: '))\n",
        "#c = float(input('RES_CON_KILOGRAM: '))\n",
        "#d = float(input('RV_QTY_million_tonnes: '))\n",
        "#e = float(input('RV_QTY_AVG_GRAM_TONNE: '))\n",
        "#f = float(input('POINT_SIZE_KILOGRAM: '))\n",
        "#g = float(input('GOLD_PRICE_USD: '))\n",
        "#h = float(input('COMM_CODE: '))\n",
        "\n",
        "#testdata = np.array([a,b,c,d,e,f,g,h])\n",
        "#print('Mineral Land Value in USD Millions =>',model.predict(testdata.reshape(1,8),batch_size=1))\n",
        "\n",
        "\n",
        "#print('This is the value predicted mineral land value from input parameters',convert_label_value(-0.7161517),\"Million USD dollars\")"
      ],
      "metadata": {
        "id": "MDqBb4-oz68y"
      },
      "execution_count": null,
      "outputs": []
    }
  ]
}