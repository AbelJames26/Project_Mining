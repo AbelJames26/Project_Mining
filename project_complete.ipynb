{
  "nbformat": 4,
  "nbformat_minor": 0,
  "metadata": {
    "colab": {
      "provenance": [],
      "collapsed_sections": [],
      "authorship_tag": "ABX9TyM4mAKP7FZ5BlO2HfTDoElg",
      "include_colab_link": true
    },
    "kernelspec": {
      "name": "python3",
      "display_name": "Python 3"
    },
    "language_info": {
      "name": "python"
    }
  },
  "cells": [
    {
      "cell_type": "markdown",
      "metadata": {
        "id": "view-in-github",
        "colab_type": "text"
      },
      "source": [
        "<a href=\"https://colab.research.google.com/github/AbelJames26/Project_Mining/blob/main/project_complete.ipynb\" target=\"_parent\"><img src=\"https://colab.research.google.com/assets/colab-badge.svg\" alt=\"Open In Colab\"/></a>"
      ]
    },
    {
      "cell_type": "markdown",
      "source": [
        "**Import Libraries**"
      ],
      "metadata": {
        "id": "Ghl5pyYuTYct"
      }
    },
    {
      "cell_type": "code",
      "execution_count": 218,
      "metadata": {
        "id": "PKPJWzO803eL",
        "outputId": "9faa7745-bc02-4fce-8101-01197ca7fd83",
        "colab": {
          "base_uri": "https://localhost:8080/"
        }
      },
      "outputs": [
        {
          "output_type": "stream",
          "name": "stdout",
          "text": [
            "Looking in indexes: https://pypi.org/simple, https://us-python.pkg.dev/colab-wheels/public/simple/\n",
            "Requirement already satisfied: utils in /usr/local/lib/python3.7/dist-packages (1.0.1)\n",
            "2.9.2\n"
          ]
        }
      ],
      "source": [
        "import numpy as np\n",
        "import pandas as pd\n",
        "import scipy as sp\n",
        "import tensorflow as tf\n",
        "from tensorflow import keras\n",
        "from tensorflow.keras import layers\n",
        "import sqlite3\n",
        "import seaborn as sns\n",
        "from sklearn.model_selection import train_test_split\n",
        "from sklearn.preprocessing import StandardScaler\n",
        "import matplotlib.pyplot as plt\n",
        "!pip install utils\n",
        "from utils import *\n",
        "\n",
        "\n",
        "print(tf.__version__)"
      ]
    },
    {
      "cell_type": "markdown",
      "source": [
        "**Import Data Set**"
      ],
      "metadata": {
        "id": "1aF7-1FeTVVJ"
      }
    },
    {
      "cell_type": "code",
      "source": [
        "Path = \"/content/Project_Data.csv\"\n",
        "df = pd.read_csv(Path)\n",
        "df.shape"
      ],
      "metadata": {
        "colab": {
          "base_uri": "https://localhost:8080/"
        },
        "id": "BtZKnAlqn_v3",
        "outputId": "01159bbe-ffd5-4478-cb00-b12c78162109"
      },
      "execution_count": 101,
      "outputs": [
        {
          "output_type": "execute_result",
          "data": {
            "text/plain": [
              "(264, 21)"
            ]
          },
          "metadata": {},
          "execution_count": 101
        }
      ]
    },
    {
      "cell_type": "markdown",
      "source": [
        "Visualize dataset"
      ],
      "metadata": {
        "id": "qRttaf5odS7W"
      }
    },
    {
      "cell_type": "code",
      "source": [
        "#Displaying the data\n",
        "df.head()"
      ],
      "metadata": {
        "colab": {
          "base_uri": "https://localhost:8080/",
          "height": 490
        },
        "id": "y6jWt2b_N9o4",
        "outputId": "b54dc432-e7a7-4de2-bffa-6ad64c0f4101"
      },
      "execution_count": 102,
      "outputs": [
        {
          "output_type": "execute_result",
          "data": {
            "text/plain": [
              "  PROJECT_CODE              PROJECT_NAME             PROJECT_SHORT  \\\n",
              "0       J05288                8 Mile Dam                8 Mile Dam   \n",
              "1       J02707      Goodenough / Kairiki                Goodenough   \n",
              "2       J04664        Ora Banda / Norton                 Ora Banda   \n",
              "3       J00292  Paddington - Mt Pleasant  Paddington - Mt Pleasant   \n",
              "4       J01022             Abednego West             Abednego West   \n",
              "\n",
              "  PRIMARY COMMODITY SITE_CODE   LATITUDE   LONGITUDE  \\\n",
              "0              Gold  S0236141 -30.645288  121.462217   \n",
              "1              Gold  S0020062 -29.676897  121.077914   \n",
              "2              Gold  S0000642 -30.372109  121.088425   \n",
              "3              Gold  S0000566 -30.556269  121.227040   \n",
              "4              Gold  S0002219 -28.833347  121.773913   \n",
              "\n",
              "                     SITE_LOCATION ESTIMATING COMMODITY EST_COM_AB  ...  \\\n",
              "0  Eastern Goldfields Superterrane                 Gold         Au  ...   \n",
              "1  Eastern Goldfields Superterrane                 Gold         Au  ...   \n",
              "2  Eastern Goldfields Superterrane                 Gold         Au  ...   \n",
              "3  Eastern Goldfields Superterrane                 Gold         Au  ...   \n",
              "4  Eastern Goldfields Superterrane                 Gold         Au  ...   \n",
              "\n",
              "  TOTAL_MINERAL_RESOURCES (Mt)  TOTAL_MINERAL_RESOURCES_AVG_GRADE_(g/t)  \\\n",
              "0                     7.014346                                 1.392000   \n",
              "1                     0.715700                                 1.971598   \n",
              "2                    17.790000                                 1.859798   \n",
              "3                    59.980000                                 2.251367   \n",
              "4                     0.070000                                 2.100000   \n",
              "\n",
              "    RES_CON_(Kg)  RV_QTY_G_(g/t)  RV_CON_(Kg)  POINT_SIZE (Kg)       Date  \\\n",
              "0    9763.969632        2.099000    558.00000      9763.969632  1/10/2022   \n",
              "1    1411.073000        3.365000  20642.21000      1411.073000  1/10/2022   \n",
              "2   33085.800000        2.276660  14718.87760     47804.677600  1/10/2022   \n",
              "3  135037.000000        1.798119  15923.12736    150960.127400  1/10/2022   \n",
              "4     147.000000        1.864000      2.88800       147.000000  2/10/2022   \n",
              "\n",
              "  Gold_Value  RV_QTY_(Mt)  Mineral_Land_Value_USD_Millions  \n",
              "0     1662.4     1.670000                       2776.20800  \n",
              "1     1662.4     1.354000                       2250.88960  \n",
              "2     1662.4    34.057692                      56617.50738  \n",
              "3     1662.4    34.251312                      56939.38188  \n",
              "4     1662.4     2.230000                       3707.15200  \n",
              "\n",
              "[5 rows x 21 columns]"
            ],
            "text/html": [
              "\n",
              "  <div id=\"df-cd4c4389-6520-432a-9653-4de948624767\">\n",
              "    <div class=\"colab-df-container\">\n",
              "      <div>\n",
              "<style scoped>\n",
              "    .dataframe tbody tr th:only-of-type {\n",
              "        vertical-align: middle;\n",
              "    }\n",
              "\n",
              "    .dataframe tbody tr th {\n",
              "        vertical-align: top;\n",
              "    }\n",
              "\n",
              "    .dataframe thead th {\n",
              "        text-align: right;\n",
              "    }\n",
              "</style>\n",
              "<table border=\"1\" class=\"dataframe\">\n",
              "  <thead>\n",
              "    <tr style=\"text-align: right;\">\n",
              "      <th></th>\n",
              "      <th>PROJECT_CODE</th>\n",
              "      <th>PROJECT_NAME</th>\n",
              "      <th>PROJECT_SHORT</th>\n",
              "      <th>PRIMARY COMMODITY</th>\n",
              "      <th>SITE_CODE</th>\n",
              "      <th>LATITUDE</th>\n",
              "      <th>LONGITUDE</th>\n",
              "      <th>SITE_LOCATION</th>\n",
              "      <th>ESTIMATING COMMODITY</th>\n",
              "      <th>EST_COM_AB</th>\n",
              "      <th>...</th>\n",
              "      <th>TOTAL_MINERAL_RESOURCES (Mt)</th>\n",
              "      <th>TOTAL_MINERAL_RESOURCES_AVG_GRADE_(g/t)</th>\n",
              "      <th>RES_CON_(Kg)</th>\n",
              "      <th>RV_QTY_G_(g/t)</th>\n",
              "      <th>RV_CON_(Kg)</th>\n",
              "      <th>POINT_SIZE (Kg)</th>\n",
              "      <th>Date</th>\n",
              "      <th>Gold_Value</th>\n",
              "      <th>RV_QTY_(Mt)</th>\n",
              "      <th>Mineral_Land_Value_USD_Millions</th>\n",
              "    </tr>\n",
              "  </thead>\n",
              "  <tbody>\n",
              "    <tr>\n",
              "      <th>0</th>\n",
              "      <td>J05288</td>\n",
              "      <td>8 Mile Dam</td>\n",
              "      <td>8 Mile Dam</td>\n",
              "      <td>Gold</td>\n",
              "      <td>S0236141</td>\n",
              "      <td>-30.645288</td>\n",
              "      <td>121.462217</td>\n",
              "      <td>Eastern Goldfields Superterrane</td>\n",
              "      <td>Gold</td>\n",
              "      <td>Au</td>\n",
              "      <td>...</td>\n",
              "      <td>7.014346</td>\n",
              "      <td>1.392000</td>\n",
              "      <td>9763.969632</td>\n",
              "      <td>2.099000</td>\n",
              "      <td>558.00000</td>\n",
              "      <td>9763.969632</td>\n",
              "      <td>1/10/2022</td>\n",
              "      <td>1662.4</td>\n",
              "      <td>1.670000</td>\n",
              "      <td>2776.20800</td>\n",
              "    </tr>\n",
              "    <tr>\n",
              "      <th>1</th>\n",
              "      <td>J02707</td>\n",
              "      <td>Goodenough / Kairiki</td>\n",
              "      <td>Goodenough</td>\n",
              "      <td>Gold</td>\n",
              "      <td>S0020062</td>\n",
              "      <td>-29.676897</td>\n",
              "      <td>121.077914</td>\n",
              "      <td>Eastern Goldfields Superterrane</td>\n",
              "      <td>Gold</td>\n",
              "      <td>Au</td>\n",
              "      <td>...</td>\n",
              "      <td>0.715700</td>\n",
              "      <td>1.971598</td>\n",
              "      <td>1411.073000</td>\n",
              "      <td>3.365000</td>\n",
              "      <td>20642.21000</td>\n",
              "      <td>1411.073000</td>\n",
              "      <td>1/10/2022</td>\n",
              "      <td>1662.4</td>\n",
              "      <td>1.354000</td>\n",
              "      <td>2250.88960</td>\n",
              "    </tr>\n",
              "    <tr>\n",
              "      <th>2</th>\n",
              "      <td>J04664</td>\n",
              "      <td>Ora Banda / Norton</td>\n",
              "      <td>Ora Banda</td>\n",
              "      <td>Gold</td>\n",
              "      <td>S0000642</td>\n",
              "      <td>-30.372109</td>\n",
              "      <td>121.088425</td>\n",
              "      <td>Eastern Goldfields Superterrane</td>\n",
              "      <td>Gold</td>\n",
              "      <td>Au</td>\n",
              "      <td>...</td>\n",
              "      <td>17.790000</td>\n",
              "      <td>1.859798</td>\n",
              "      <td>33085.800000</td>\n",
              "      <td>2.276660</td>\n",
              "      <td>14718.87760</td>\n",
              "      <td>47804.677600</td>\n",
              "      <td>1/10/2022</td>\n",
              "      <td>1662.4</td>\n",
              "      <td>34.057692</td>\n",
              "      <td>56617.50738</td>\n",
              "    </tr>\n",
              "    <tr>\n",
              "      <th>3</th>\n",
              "      <td>J00292</td>\n",
              "      <td>Paddington - Mt Pleasant</td>\n",
              "      <td>Paddington - Mt Pleasant</td>\n",
              "      <td>Gold</td>\n",
              "      <td>S0000566</td>\n",
              "      <td>-30.556269</td>\n",
              "      <td>121.227040</td>\n",
              "      <td>Eastern Goldfields Superterrane</td>\n",
              "      <td>Gold</td>\n",
              "      <td>Au</td>\n",
              "      <td>...</td>\n",
              "      <td>59.980000</td>\n",
              "      <td>2.251367</td>\n",
              "      <td>135037.000000</td>\n",
              "      <td>1.798119</td>\n",
              "      <td>15923.12736</td>\n",
              "      <td>150960.127400</td>\n",
              "      <td>1/10/2022</td>\n",
              "      <td>1662.4</td>\n",
              "      <td>34.251312</td>\n",
              "      <td>56939.38188</td>\n",
              "    </tr>\n",
              "    <tr>\n",
              "      <th>4</th>\n",
              "      <td>J01022</td>\n",
              "      <td>Abednego West</td>\n",
              "      <td>Abednego West</td>\n",
              "      <td>Gold</td>\n",
              "      <td>S0002219</td>\n",
              "      <td>-28.833347</td>\n",
              "      <td>121.773913</td>\n",
              "      <td>Eastern Goldfields Superterrane</td>\n",
              "      <td>Gold</td>\n",
              "      <td>Au</td>\n",
              "      <td>...</td>\n",
              "      <td>0.070000</td>\n",
              "      <td>2.100000</td>\n",
              "      <td>147.000000</td>\n",
              "      <td>1.864000</td>\n",
              "      <td>2.88800</td>\n",
              "      <td>147.000000</td>\n",
              "      <td>2/10/2022</td>\n",
              "      <td>1662.4</td>\n",
              "      <td>2.230000</td>\n",
              "      <td>3707.15200</td>\n",
              "    </tr>\n",
              "  </tbody>\n",
              "</table>\n",
              "<p>5 rows × 21 columns</p>\n",
              "</div>\n",
              "      <button class=\"colab-df-convert\" onclick=\"convertToInteractive('df-cd4c4389-6520-432a-9653-4de948624767')\"\n",
              "              title=\"Convert this dataframe to an interactive table.\"\n",
              "              style=\"display:none;\">\n",
              "        \n",
              "  <svg xmlns=\"http://www.w3.org/2000/svg\" height=\"24px\"viewBox=\"0 0 24 24\"\n",
              "       width=\"24px\">\n",
              "    <path d=\"M0 0h24v24H0V0z\" fill=\"none\"/>\n",
              "    <path d=\"M18.56 5.44l.94 2.06.94-2.06 2.06-.94-2.06-.94-.94-2.06-.94 2.06-2.06.94zm-11 1L8.5 8.5l.94-2.06 2.06-.94-2.06-.94L8.5 2.5l-.94 2.06-2.06.94zm10 10l.94 2.06.94-2.06 2.06-.94-2.06-.94-.94-2.06-.94 2.06-2.06.94z\"/><path d=\"M17.41 7.96l-1.37-1.37c-.4-.4-.92-.59-1.43-.59-.52 0-1.04.2-1.43.59L10.3 9.45l-7.72 7.72c-.78.78-.78 2.05 0 2.83L4 21.41c.39.39.9.59 1.41.59.51 0 1.02-.2 1.41-.59l7.78-7.78 2.81-2.81c.8-.78.8-2.07 0-2.86zM5.41 20L4 18.59l7.72-7.72 1.47 1.35L5.41 20z\"/>\n",
              "  </svg>\n",
              "      </button>\n",
              "      \n",
              "  <style>\n",
              "    .colab-df-container {\n",
              "      display:flex;\n",
              "      flex-wrap:wrap;\n",
              "      gap: 12px;\n",
              "    }\n",
              "\n",
              "    .colab-df-convert {\n",
              "      background-color: #E8F0FE;\n",
              "      border: none;\n",
              "      border-radius: 50%;\n",
              "      cursor: pointer;\n",
              "      display: none;\n",
              "      fill: #1967D2;\n",
              "      height: 32px;\n",
              "      padding: 0 0 0 0;\n",
              "      width: 32px;\n",
              "    }\n",
              "\n",
              "    .colab-df-convert:hover {\n",
              "      background-color: #E2EBFA;\n",
              "      box-shadow: 0px 1px 2px rgba(60, 64, 67, 0.3), 0px 1px 3px 1px rgba(60, 64, 67, 0.15);\n",
              "      fill: #174EA6;\n",
              "    }\n",
              "\n",
              "    [theme=dark] .colab-df-convert {\n",
              "      background-color: #3B4455;\n",
              "      fill: #D2E3FC;\n",
              "    }\n",
              "\n",
              "    [theme=dark] .colab-df-convert:hover {\n",
              "      background-color: #434B5C;\n",
              "      box-shadow: 0px 1px 3px 1px rgba(0, 0, 0, 0.15);\n",
              "      filter: drop-shadow(0px 1px 2px rgba(0, 0, 0, 0.3));\n",
              "      fill: #FFFFFF;\n",
              "    }\n",
              "  </style>\n",
              "\n",
              "      <script>\n",
              "        const buttonEl =\n",
              "          document.querySelector('#df-cd4c4389-6520-432a-9653-4de948624767 button.colab-df-convert');\n",
              "        buttonEl.style.display =\n",
              "          google.colab.kernel.accessAllowed ? 'block' : 'none';\n",
              "\n",
              "        async function convertToInteractive(key) {\n",
              "          const element = document.querySelector('#df-cd4c4389-6520-432a-9653-4de948624767');\n",
              "          const dataTable =\n",
              "            await google.colab.kernel.invokeFunction('convertToInteractive',\n",
              "                                                     [key], {});\n",
              "          if (!dataTable) return;\n",
              "\n",
              "          const docLinkHtml = 'Like what you see? Visit the ' +\n",
              "            '<a target=\"_blank\" href=https://colab.research.google.com/notebooks/data_table.ipynb>data table notebook</a>'\n",
              "            + ' to learn more about interactive tables.';\n",
              "          element.innerHTML = '';\n",
              "          dataTable['output_type'] = 'display_data';\n",
              "          await google.colab.output.renderOutput(dataTable, element);\n",
              "          const docLink = document.createElement('div');\n",
              "          docLink.innerHTML = docLinkHtml;\n",
              "          element.appendChild(docLink);\n",
              "        }\n",
              "      </script>\n",
              "    </div>\n",
              "  </div>\n",
              "  "
            ]
          },
          "metadata": {},
          "execution_count": 102
        }
      ]
    },
    {
      "cell_type": "markdown",
      "source": [
        "Visualize Ore reserve locations "
      ],
      "metadata": {
        "id": "C4qknnFfdZi9"
      }
    },
    {
      "cell_type": "code",
      "source": [
        "df.plot(kind=\"scatter\", x=\"LONGITUDE\", y=\"LATITUDE\")"
      ],
      "metadata": {
        "id": "2eSz9x1RNA8U",
        "outputId": "1bd3ce5d-4b9e-4da0-bb9e-cd6b428e8f99",
        "colab": {
          "base_uri": "https://localhost:8080/",
          "height": 297
        }
      },
      "execution_count": 103,
      "outputs": [
        {
          "output_type": "execute_result",
          "data": {
            "text/plain": [
              "<matplotlib.axes._subplots.AxesSubplot at 0x7f8b07ba8910>"
            ]
          },
          "metadata": {},
          "execution_count": 103
        },
        {
          "output_type": "display_data",
          "data": {
            "text/plain": [
              "<Figure size 432x288 with 1 Axes>"
            ],
            "image/png": "[encoded data removed]"
          },
          "metadata": {
            "needs_background": "light"
          }
        }
      ]
    },
    {
      "cell_type": "markdown",
      "source": [
        "**Check for Missing Data**"
      ],
      "metadata": {
        "id": "HtmDto3kPZJm"
      }
    },
    {
      "cell_type": "code",
      "source": [
        "# Checking the null values\n",
        "\n",
        "df.isna().any()"
      ],
      "metadata": {
        "id": "UNxsAJeXPhLb",
        "outputId": "16aafbd4-8f4f-4a63-cc65-3daa0b875a84",
        "colab": {
          "base_uri": "https://localhost:8080/"
        }
      },
      "execution_count": 105,
      "outputs": [
        {
          "output_type": "execute_result",
          "data": {
            "text/plain": [
              "PROJECT_CODE                               False\n",
              "PROJECT_NAME                               False\n",
              "PROJECT_SHORT                              False\n",
              "PRIMARY COMMODITY                          False\n",
              "SITE_CODE                                  False\n",
              "LATITUDE                                   False\n",
              "LONGITUDE                                  False\n",
              "SITE_LOCATION                              False\n",
              "ESTIMATING COMMODITY                       False\n",
              "EST_COM_AB                                 False\n",
              "EST_COM_P                                  False\n",
              "TOTAL_MINERAL_RESOURCES (Mt)               False\n",
              "TOTAL_MINERAL_RESOURCES_AVG_GRADE_(g/t)    False\n",
              "RES_CON_(Kg)                               False\n",
              "RV_QTY_G_(g/t)                             False\n",
              "RV_CON_(Kg)                                False\n",
              "POINT_SIZE (Kg)                            False\n",
              "Date                                       False\n",
              "Gold_Value                                 False\n",
              "RV_QTY_(Mt)                                False\n",
              "Mineral_Land_Value_USD_Millions            False\n",
              "dtype: bool"
            ]
          },
          "metadata": {},
          "execution_count": 105
        }
      ]
    },
    {
      "cell_type": "markdown",
      "source": [
        "Count the number of Null Values in Each Column"
      ],
      "metadata": {
        "id": "6jIvBdXiPrIE"
      }
    },
    {
      "cell_type": "code",
      "source": [
        "# Count number of null values in each columns\n",
        "\n",
        "df.isna().sum()"
      ],
      "metadata": {
        "id": "LTF1IjtGPx-Y",
        "outputId": "148e38fd-f1d3-467f-ec17-7f67483fe483",
        "colab": {
          "base_uri": "https://localhost:8080/"
        }
      },
      "execution_count": 106,
      "outputs": [
        {
          "output_type": "execute_result",
          "data": {
            "text/plain": [
              "PROJECT_CODE                               0\n",
              "PROJECT_NAME                               0\n",
              "PROJECT_SHORT                              0\n",
              "PRIMARY COMMODITY                          0\n",
              "SITE_CODE                                  0\n",
              "LATITUDE                                   0\n",
              "LONGITUDE                                  0\n",
              "SITE_LOCATION                              0\n",
              "ESTIMATING COMMODITY                       0\n",
              "EST_COM_AB                                 0\n",
              "EST_COM_P                                  0\n",
              "TOTAL_MINERAL_RESOURCES (Mt)               0\n",
              "TOTAL_MINERAL_RESOURCES_AVG_GRADE_(g/t)    0\n",
              "RES_CON_(Kg)                               0\n",
              "RV_QTY_G_(g/t)                             0\n",
              "RV_CON_(Kg)                                0\n",
              "POINT_SIZE (Kg)                            0\n",
              "Date                                       0\n",
              "Gold_Value                                 0\n",
              "RV_QTY_(Mt)                                0\n",
              "Mineral_Land_Value_USD_Millions            0\n",
              "dtype: int64"
            ]
          },
          "metadata": {},
          "execution_count": 106
        }
      ]
    },
    {
      "cell_type": "markdown",
      "source": [
        "Drop NA Values if count is less than 5%"
      ],
      "metadata": {
        "id": "QlwLDoQdQEZS"
      }
    },
    {
      "cell_type": "code",
      "source": [
        "# We can drop the null value as their count is less than 5%\n",
        "\n",
        "df.dropna(inplace=True)"
      ],
      "metadata": {
        "id": "I_kiLVqPQKBt"
      },
      "execution_count": 107,
      "outputs": []
    },
    {
      "cell_type": "markdown",
      "source": [
        "**Remove variables not used for prediction**"
      ],
      "metadata": {
        "id": "UnhyxbyAtWP9"
      }
    },
    {
      "cell_type": "code",
      "source": [
        "df = df.drop([ \"PROJECT_NAME\", \"PROJECT_CODE\",\"PROJECT_SHORT\",\"PRIMARY COMMODITY\",\"SITE_CODE\", \"SITE_LOCATION\", \"ESTIMATING COMMODITY\", \"EST_COM_AB\",\"EST_COM_P\",\"Date\" ,\"LATITUDE\", \"LONGITUDE\"], axis =1)"
      ],
      "metadata": {
        "id": "K8XuCcCapRKb"
      },
      "execution_count": 108,
      "outputs": []
    },
    {
      "cell_type": "code",
      "source": [
        "df"
      ],
      "metadata": {
        "id": "kNILhM8Rsq9L",
        "outputId": "b7ea656b-f847-46ce-d9b6-973d25d15594",
        "colab": {
          "base_uri": "https://localhost:8080/",
          "height": 505
        }
      },
      "execution_count": 109,
      "outputs": [
        {
          "output_type": "execute_result",
          "data": {
            "text/plain": [
              "     TOTAL_MINERAL_RESOURCES (Mt)  TOTAL_MINERAL_RESOURCES_AVG_GRADE_(g/t)  \\\n",
              "0                        7.014346                                 1.392000   \n",
              "1                        0.715700                                 1.971598   \n",
              "2                       17.790000                                 1.859798   \n",
              "3                       59.980000                                 2.251367   \n",
              "4                        0.070000                                 2.100000   \n",
              "..                            ...                                      ...   \n",
              "259                      0.169000                                 2.554438   \n",
              "260                     10.073000                                 1.643145   \n",
              "261                      0.092000                                 1.978043   \n",
              "262                      0.915000                                 4.681311   \n",
              "263                      1.100000                                 2.100000   \n",
              "\n",
              "      RES_CON_(Kg)  RV_QTY_G_(g/t)  RV_CON_(Kg)  POINT_SIZE (Kg)  Gold_Value  \\\n",
              "0      9763.969632        2.099000    558.00000      9763.969632      1662.4   \n",
              "1      1411.073000        3.365000  20642.21000      1411.073000      1662.4   \n",
              "2     33085.800000        2.276660  14718.87760     47804.677600      1662.4   \n",
              "3    135037.000000        1.798119  15923.12736    150960.127400      1662.4   \n",
              "4       147.000000        1.864000      2.88800       147.000000      1662.4   \n",
              "..             ...             ...          ...              ...         ...   \n",
              "259     431.700000        2.648000  46174.44000       431.700000      1639.6   \n",
              "260   16551.400000        2.183200    414.55000     16551.400000      1639.6   \n",
              "261     181.980000        2.470000   3445.55000       181.980000      1639.6   \n",
              "262    4283.400000        4.650000  31855.00000      4283.400000      1635.9   \n",
              "263    2310.000000        1.011100   1644.00000      2310.000000      1635.9   \n",
              "\n",
              "     RV_QTY_(Mt)  Mineral_Land_Value_USD_Millions  \n",
              "0       1.670000                       2776.20800  \n",
              "1       1.354000                       2250.88960  \n",
              "2      34.057692                      56617.50738  \n",
              "3      34.251312                      56939.38188  \n",
              "4       2.230000                       3707.15200  \n",
              "..           ...                              ...  \n",
              "259    32.368000                      53070.57280  \n",
              "260    37.086300                      60806.69748  \n",
              "261    25.288000                      41462.20480  \n",
              "262     4.598000                       7521.86820  \n",
              "263    37.542859                      61416.36256  \n",
              "\n",
              "[264 rows x 9 columns]"
            ],
            "text/html": [
              "\n",
              "  <div id=\"df-37c26de2-3aef-4b12-a412-abaf82a308f0\">\n",
              "    <div class=\"colab-df-container\">\n",
              "      <div>\n",
              "<style scoped>\n",
              "    .dataframe tbody tr th:only-of-type {\n",
              "        vertical-align: middle;\n",
              "    }\n",
              "\n",
              "    .dataframe tbody tr th {\n",
              "        vertical-align: top;\n",
              "    }\n",
              "\n",
              "    .dataframe thead th {\n",
              "        text-align: right;\n",
              "    }\n",
              "</style>\n",
              "<table border=\"1\" class=\"dataframe\">\n",
              "  <thead>\n",
              "    <tr style=\"text-align: right;\">\n",
              "      <th></th>\n",
              "      <th>TOTAL_MINERAL_RESOURCES (Mt)</th>\n",
              "      <th>TOTAL_MINERAL_RESOURCES_AVG_GRADE_(g/t)</th>\n",
              "      <th>RES_CON_(Kg)</th>\n",
              "      <th>RV_QTY_G_(g/t)</th>\n",
              "      <th>RV_CON_(Kg)</th>\n",
              "      <th>POINT_SIZE (Kg)</th>\n",
              "      <th>Gold_Value</th>\n",
              "      <th>RV_QTY_(Mt)</th>\n",
              "      <th>Mineral_Land_Value_USD_Millions</th>\n",
              "    </tr>\n",
              "  </thead>\n",
              "  <tbody>\n",
              "    <tr>\n",
              "      <th>0</th>\n",
              "      <td>7.014346</td>\n",
              "      <td>1.392000</td>\n",
              "      <td>9763.969632</td>\n",
              "      <td>2.099000</td>\n",
              "      <td>558.00000</td>\n",
              "      <td>9763.969632</td>\n",
              "      <td>1662.4</td>\n",
              "      <td>1.670000</td>\n",
              "      <td>2776.20800</td>\n",
              "    </tr>\n",
              "    <tr>\n",
              "      <th>1</th>\n",
              "      <td>0.715700</td>\n",
              "      <td>1.971598</td>\n",
              "      <td>1411.073000</td>\n",
              "      <td>3.365000</td>\n",
              "      <td>20642.21000</td>\n",
              "      <td>1411.073000</td>\n",
              "      <td>1662.4</td>\n",
              "      <td>1.354000</td>\n",
              "      <td>2250.88960</td>\n",
              "    </tr>\n",
              "    <tr>\n",
              "      <th>2</th>\n",
              "      <td>17.790000</td>\n",
              "      <td>1.859798</td>\n",
              "      <td>33085.800000</td>\n",
              "      <td>2.276660</td>\n",
              "      <td>14718.87760</td>\n",
              "      <td>47804.677600</td>\n",
              "      <td>1662.4</td>\n",
              "      <td>34.057692</td>\n",
              "      <td>56617.50738</td>\n",
              "    </tr>\n",
              "    <tr>\n",
              "      <th>3</th>\n",
              "      <td>59.980000</td>\n",
              "      <td>2.251367</td>\n",
              "      <td>135037.000000</td>\n",
              "      <td>1.798119</td>\n",
              "      <td>15923.12736</td>\n",
              "      <td>150960.127400</td>\n",
              "      <td>1662.4</td>\n",
              "      <td>34.251312</td>\n",
              "      <td>56939.38188</td>\n",
              "    </tr>\n",
              "    <tr>\n",
              "      <th>4</th>\n",
              "      <td>0.070000</td>\n",
              "      <td>2.100000</td>\n",
              "      <td>147.000000</td>\n",
              "      <td>1.864000</td>\n",
              "      <td>2.88800</td>\n",
              "      <td>147.000000</td>\n",
              "      <td>1662.4</td>\n",
              "      <td>2.230000</td>\n",
              "      <td>3707.15200</td>\n",
              "    </tr>\n",
              "    <tr>\n",
              "      <th>...</th>\n",
              "      <td>...</td>\n",
              "      <td>...</td>\n",
              "      <td>...</td>\n",
              "      <td>...</td>\n",
              "      <td>...</td>\n",
              "      <td>...</td>\n",
              "      <td>...</td>\n",
              "      <td>...</td>\n",
              "      <td>...</td>\n",
              "    </tr>\n",
              "    <tr>\n",
              "      <th>259</th>\n",
              "      <td>0.169000</td>\n",
              "      <td>2.554438</td>\n",
              "      <td>431.700000</td>\n",
              "      <td>2.648000</td>\n",
              "      <td>46174.44000</td>\n",
              "      <td>431.700000</td>\n",
              "      <td>1639.6</td>\n",
              "      <td>32.368000</td>\n",
              "      <td>53070.57280</td>\n",
              "    </tr>\n",
              "    <tr>\n",
              "      <th>260</th>\n",
              "      <td>10.073000</td>\n",
              "      <td>1.643145</td>\n",
              "      <td>16551.400000</td>\n",
              "      <td>2.183200</td>\n",
              "      <td>414.55000</td>\n",
              "      <td>16551.400000</td>\n",
              "      <td>1639.6</td>\n",
              "      <td>37.086300</td>\n",
              "      <td>60806.69748</td>\n",
              "    </tr>\n",
              "    <tr>\n",
              "      <th>261</th>\n",
              "      <td>0.092000</td>\n",
              "      <td>1.978043</td>\n",
              "      <td>181.980000</td>\n",
              "      <td>2.470000</td>\n",
              "      <td>3445.55000</td>\n",
              "      <td>181.980000</td>\n",
              "      <td>1639.6</td>\n",
              "      <td>25.288000</td>\n",
              "      <td>41462.20480</td>\n",
              "    </tr>\n",
              "    <tr>\n",
              "      <th>262</th>\n",
              "      <td>0.915000</td>\n",
              "      <td>4.681311</td>\n",
              "      <td>4283.400000</td>\n",
              "      <td>4.650000</td>\n",
              "      <td>31855.00000</td>\n",
              "      <td>4283.400000</td>\n",
              "      <td>1635.9</td>\n",
              "      <td>4.598000</td>\n",
              "      <td>7521.86820</td>\n",
              "    </tr>\n",
              "    <tr>\n",
              "      <th>263</th>\n",
              "      <td>1.100000</td>\n",
              "      <td>2.100000</td>\n",
              "      <td>2310.000000</td>\n",
              "      <td>1.011100</td>\n",
              "      <td>1644.00000</td>\n",
              "      <td>2310.000000</td>\n",
              "      <td>1635.9</td>\n",
              "      <td>37.542859</td>\n",
              "      <td>61416.36256</td>\n",
              "    </tr>\n",
              "  </tbody>\n",
              "</table>\n",
              "<p>264 rows × 9 columns</p>\n",
              "</div>\n",
              "      <button class=\"colab-df-convert\" onclick=\"convertToInteractive('df-37c26de2-3aef-4b12-a412-abaf82a308f0')\"\n",
              "              title=\"Convert this dataframe to an interactive table.\"\n",
              "              style=\"display:none;\">\n",
              "        \n",
              "  <svg xmlns=\"http://www.w3.org/2000/svg\" height=\"24px\"viewBox=\"0 0 24 24\"\n",
              "       width=\"24px\">\n",
              "    <path d=\"M0 0h24v24H0V0z\" fill=\"none\"/>\n",
              "    <path d=\"M18.56 5.44l.94 2.06.94-2.06 2.06-.94-2.06-.94-.94-2.06-.94 2.06-2.06.94zm-11 1L8.5 8.5l.94-2.06 2.06-.94-2.06-.94L8.5 2.5l-.94 2.06-2.06.94zm10 10l.94 2.06.94-2.06 2.06-.94-2.06-.94-.94-2.06-.94 2.06-2.06.94z\"/><path d=\"M17.41 7.96l-1.37-1.37c-.4-.4-.92-.59-1.43-.59-.52 0-1.04.2-1.43.59L10.3 9.45l-7.72 7.72c-.78.78-.78 2.05 0 2.83L4 21.41c.39.39.9.59 1.41.59.51 0 1.02-.2 1.41-.59l7.78-7.78 2.81-2.81c.8-.78.8-2.07 0-2.86zM5.41 20L4 18.59l7.72-7.72 1.47 1.35L5.41 20z\"/>\n",
              "  </svg>\n",
              "      </button>\n",
              "      \n",
              "  <style>\n",
              "    .colab-df-container {\n",
              "      display:flex;\n",
              "      flex-wrap:wrap;\n",
              "      gap: 12px;\n",
              "    }\n",
              "\n",
              "    .colab-df-convert {\n",
              "      background-color: #E8F0FE;\n",
              "      border: none;\n",
              "      border-radius: 50%;\n",
              "      cursor: pointer;\n",
              "      display: none;\n",
              "      fill: #1967D2;\n",
              "      height: 32px;\n",
              "      padding: 0 0 0 0;\n",
              "      width: 32px;\n",
              "    }\n",
              "\n",
              "    .colab-df-convert:hover {\n",
              "      background-color: #E2EBFA;\n",
              "      box-shadow: 0px 1px 2px rgba(60, 64, 67, 0.3), 0px 1px 3px 1px rgba(60, 64, 67, 0.15);\n",
              "      fill: #174EA6;\n",
              "    }\n",
              "\n",
              "    [theme=dark] .colab-df-convert {\n",
              "      background-color: #3B4455;\n",
              "      fill: #D2E3FC;\n",
              "    }\n",
              "\n",
              "    [theme=dark] .colab-df-convert:hover {\n",
              "      background-color: #434B5C;\n",
              "      box-shadow: 0px 1px 3px 1px rgba(0, 0, 0, 0.15);\n",
              "      filter: drop-shadow(0px 1px 2px rgba(0, 0, 0, 0.3));\n",
              "      fill: #FFFFFF;\n",
              "    }\n",
              "  </style>\n",
              "\n",
              "      <script>\n",
              "        const buttonEl =\n",
              "          document.querySelector('#df-37c26de2-3aef-4b12-a412-abaf82a308f0 button.colab-df-convert');\n",
              "        buttonEl.style.display =\n",
              "          google.colab.kernel.accessAllowed ? 'block' : 'none';\n",
              "\n",
              "        async function convertToInteractive(key) {\n",
              "          const element = document.querySelector('#df-37c26de2-3aef-4b12-a412-abaf82a308f0');\n",
              "          const dataTable =\n",
              "            await google.colab.kernel.invokeFunction('convertToInteractive',\n",
              "                                                     [key], {});\n",
              "          if (!dataTable) return;\n",
              "\n",
              "          const docLinkHtml = 'Like what you see? Visit the ' +\n",
              "            '<a target=\"_blank\" href=https://colab.research.google.com/notebooks/data_table.ipynb>data table notebook</a>'\n",
              "            + ' to learn more about interactive tables.';\n",
              "          element.innerHTML = '';\n",
              "          dataTable['output_type'] = 'display_data';\n",
              "          await google.colab.output.renderOutput(dataTable, element);\n",
              "          const docLink = document.createElement('div');\n",
              "          docLink.innerHTML = docLinkHtml;\n",
              "          element.appendChild(docLink);\n",
              "        }\n",
              "      </script>\n",
              "    </div>\n",
              "  </div>\n",
              "  "
            ]
          },
          "metadata": {},
          "execution_count": 109
        }
      ]
    },
    {
      "cell_type": "markdown",
      "source": [
        "**Data Normalization**"
      ],
      "metadata": {
        "id": "eJf92-tEC82T"
      }
    },
    {
      "cell_type": "code",
      "source": [
        "df = df.iloc[:,1:]\n",
        "df_norm=(df-df.mean())/df.std()\n",
        "df_norm.head()"
      ],
      "metadata": {
        "colab": {
          "base_uri": "https://localhost:8080/",
          "height": 287
        },
        "id": "ZGkW2OnNDIxh",
        "outputId": "c91a93be-69a2-4242-fff2-983b1c83c8e5"
      },
      "execution_count": 112,
      "outputs": [
        {
          "output_type": "execute_result",
          "data": {
            "text/plain": [
              "   TOTAL_MINERAL_RESOURCES_AVG_GRADE_(g/t)  RES_CON_(Kg)  RV_QTY_G_(g/t)  \\\n",
              "0                                -0.477403     -0.175929       -0.362381   \n",
              "1                                -0.330159     -0.307362        0.189010   \n",
              "2                                -0.358562      0.191040       -0.285004   \n",
              "3                                -0.259086      1.795241       -0.493427   \n",
              "4                                -0.297540     -0.327252       -0.464733   \n",
              "\n",
              "   RV_CON_(Kg)  POINT_SIZE (Kg)  Gold_Value  RV_QTY_(Mt)  \\\n",
              "0    -0.387147        -0.182937   -0.130125    -0.795782   \n",
              "1     0.361965        -0.277723   -0.130125    -0.809883   \n",
              "2     0.141033         0.248734   -0.130125     0.649502   \n",
              "3     0.185950         1.419303   -0.130125     0.658143   \n",
              "4    -0.407852        -0.292067   -0.130125    -0.770792   \n",
              "\n",
              "   Mineral_Land_Value_USD_Millions  \n",
              "0                        -0.800929  \n",
              "1                        -0.815155  \n",
              "2                         0.657134  \n",
              "3                         0.665850  \n",
              "4                        -0.775718  "
            ],
            "text/html": [
              "\n",
              "  <div id=\"df-e0e948a5-4113-456a-aa87-79aef6149081\">\n",
              "    <div class=\"colab-df-container\">\n",
              "      <div>\n",
              "<style scoped>\n",
              "    .dataframe tbody tr th:only-of-type {\n",
              "        vertical-align: middle;\n",
              "    }\n",
              "\n",
              "    .dataframe tbody tr th {\n",
              "        vertical-align: top;\n",
              "    }\n",
              "\n",
              "    .dataframe thead th {\n",
              "        text-align: right;\n",
              "    }\n",
              "</style>\n",
              "<table border=\"1\" class=\"dataframe\">\n",
              "  <thead>\n",
              "    <tr style=\"text-align: right;\">\n",
              "      <th></th>\n",
              "      <th>TOTAL_MINERAL_RESOURCES_AVG_GRADE_(g/t)</th>\n",
              "      <th>RES_CON_(Kg)</th>\n",
              "      <th>RV_QTY_G_(g/t)</th>\n",
              "      <th>RV_CON_(Kg)</th>\n",
              "      <th>POINT_SIZE (Kg)</th>\n",
              "      <th>Gold_Value</th>\n",
              "      <th>RV_QTY_(Mt)</th>\n",
              "      <th>Mineral_Land_Value_USD_Millions</th>\n",
              "    </tr>\n",
              "  </thead>\n",
              "  <tbody>\n",
              "    <tr>\n",
              "      <th>0</th>\n",
              "      <td>-0.477403</td>\n",
              "      <td>-0.175929</td>\n",
              "      <td>-0.362381</td>\n",
              "      <td>-0.387147</td>\n",
              "      <td>-0.182937</td>\n",
              "      <td>-0.130125</td>\n",
              "      <td>-0.795782</td>\n",
              "      <td>-0.800929</td>\n",
              "    </tr>\n",
              "    <tr>\n",
              "      <th>1</th>\n",
              "      <td>-0.330159</td>\n",
              "      <td>-0.307362</td>\n",
              "      <td>0.189010</td>\n",
              "      <td>0.361965</td>\n",
              "      <td>-0.277723</td>\n",
              "      <td>-0.130125</td>\n",
              "      <td>-0.809883</td>\n",
              "      <td>-0.815155</td>\n",
              "    </tr>\n",
              "    <tr>\n",
              "      <th>2</th>\n",
              "      <td>-0.358562</td>\n",
              "      <td>0.191040</td>\n",
              "      <td>-0.285004</td>\n",
              "      <td>0.141033</td>\n",
              "      <td>0.248734</td>\n",
              "      <td>-0.130125</td>\n",
              "      <td>0.649502</td>\n",
              "      <td>0.657134</td>\n",
              "    </tr>\n",
              "    <tr>\n",
              "      <th>3</th>\n",
              "      <td>-0.259086</td>\n",
              "      <td>1.795241</td>\n",
              "      <td>-0.493427</td>\n",
              "      <td>0.185950</td>\n",
              "      <td>1.419303</td>\n",
              "      <td>-0.130125</td>\n",
              "      <td>0.658143</td>\n",
              "      <td>0.665850</td>\n",
              "    </tr>\n",
              "    <tr>\n",
              "      <th>4</th>\n",
              "      <td>-0.297540</td>\n",
              "      <td>-0.327252</td>\n",
              "      <td>-0.464733</td>\n",
              "      <td>-0.407852</td>\n",
              "      <td>-0.292067</td>\n",
              "      <td>-0.130125</td>\n",
              "      <td>-0.770792</td>\n",
              "      <td>-0.775718</td>\n",
              "    </tr>\n",
              "  </tbody>\n",
              "</table>\n",
              "</div>\n",
              "      <button class=\"colab-df-convert\" onclick=\"convertToInteractive('df-e0e948a5-4113-456a-aa87-79aef6149081')\"\n",
              "              title=\"Convert this dataframe to an interactive table.\"\n",
              "              style=\"display:none;\">\n",
              "        \n",
              "  <svg xmlns=\"http://www.w3.org/2000/svg\" height=\"24px\"viewBox=\"0 0 24 24\"\n",
              "       width=\"24px\">\n",
              "    <path d=\"M0 0h24v24H0V0z\" fill=\"none\"/>\n",
              "    <path d=\"M18.56 5.44l.94 2.06.94-2.06 2.06-.94-2.06-.94-.94-2.06-.94 2.06-2.06.94zm-11 1L8.5 8.5l.94-2.06 2.06-.94-2.06-.94L8.5 2.5l-.94 2.06-2.06.94zm10 10l.94 2.06.94-2.06 2.06-.94-2.06-.94-.94-2.06-.94 2.06-2.06.94z\"/><path d=\"M17.41 7.96l-1.37-1.37c-.4-.4-.92-.59-1.43-.59-.52 0-1.04.2-1.43.59L10.3 9.45l-7.72 7.72c-.78.78-.78 2.05 0 2.83L4 21.41c.39.39.9.59 1.41.59.51 0 1.02-.2 1.41-.59l7.78-7.78 2.81-2.81c.8-.78.8-2.07 0-2.86zM5.41 20L4 18.59l7.72-7.72 1.47 1.35L5.41 20z\"/>\n",
              "  </svg>\n",
              "      </button>\n",
              "      \n",
              "  <style>\n",
              "    .colab-df-container {\n",
              "      display:flex;\n",
              "      flex-wrap:wrap;\n",
              "      gap: 12px;\n",
              "    }\n",
              "\n",
              "    .colab-df-convert {\n",
              "      background-color: #E8F0FE;\n",
              "      border: none;\n",
              "      border-radius: 50%;\n",
              "      cursor: pointer;\n",
              "      display: none;\n",
              "      fill: #1967D2;\n",
              "      height: 32px;\n",
              "      padding: 0 0 0 0;\n",
              "      width: 32px;\n",
              "    }\n",
              "\n",
              "    .colab-df-convert:hover {\n",
              "      background-color: #E2EBFA;\n",
              "      box-shadow: 0px 1px 2px rgba(60, 64, 67, 0.3), 0px 1px 3px 1px rgba(60, 64, 67, 0.15);\n",
              "      fill: #174EA6;\n",
              "    }\n",
              "\n",
              "    [theme=dark] .colab-df-convert {\n",
              "      background-color: #3B4455;\n",
              "      fill: #D2E3FC;\n",
              "    }\n",
              "\n",
              "    [theme=dark] .colab-df-convert:hover {\n",
              "      background-color: #434B5C;\n",
              "      box-shadow: 0px 1px 3px 1px rgba(0, 0, 0, 0.15);\n",
              "      filter: drop-shadow(0px 1px 2px rgba(0, 0, 0, 0.3));\n",
              "      fill: #FFFFFF;\n",
              "    }\n",
              "  </style>\n",
              "\n",
              "      <script>\n",
              "        const buttonEl =\n",
              "          document.querySelector('#df-e0e948a5-4113-456a-aa87-79aef6149081 button.colab-df-convert');\n",
              "        buttonEl.style.display =\n",
              "          google.colab.kernel.accessAllowed ? 'block' : 'none';\n",
              "\n",
              "        async function convertToInteractive(key) {\n",
              "          const element = document.querySelector('#df-e0e948a5-4113-456a-aa87-79aef6149081');\n",
              "          const dataTable =\n",
              "            await google.colab.kernel.invokeFunction('convertToInteractive',\n",
              "                                                     [key], {});\n",
              "          if (!dataTable) return;\n",
              "\n",
              "          const docLinkHtml = 'Like what you see? Visit the ' +\n",
              "            '<a target=\"_blank\" href=https://colab.research.google.com/notebooks/data_table.ipynb>data table notebook</a>'\n",
              "            + ' to learn more about interactive tables.';\n",
              "          element.innerHTML = '';\n",
              "          dataTable['output_type'] = 'display_data';\n",
              "          await google.colab.output.renderOutput(dataTable, element);\n",
              "          const docLink = document.createElement('div');\n",
              "          docLink.innerHTML = docLinkHtml;\n",
              "          element.appendChild(docLink);\n",
              "        }\n",
              "      </script>\n",
              "    </div>\n",
              "  </div>\n",
              "  "
            ]
          },
          "metadata": {},
          "execution_count": 112
        }
      ]
    },
    {
      "cell_type": "markdown",
      "source": [
        "**Code to convert predictiving value (Mineral_Land_Value_USD_Millions) back into price value from normalization**"
      ],
      "metadata": {
        "id": "WKFY9oHhEYtA"
      }
    },
    {
      "cell_type": "code",
      "source": [
        "y_mean = df['Mineral_Land_Value_USD_Millions'].mean()\n",
        "y_std = df['Mineral_Land_Value_USD_Millions'].std()\n",
        "\n",
        "def convert_label_value(pred): \n",
        "  return int(pred*y_std+y_mean)\n",
        "print(convert_label_value (-0.800929)) # Validating function"
      ],
      "metadata": {
        "colab": {
          "base_uri": "https://localhost:8080/"
        },
        "id": "bSidI8p3EX78",
        "outputId": "ce30a083-5f7f-4634-cf1b-6797c9fde0ce"
      },
      "execution_count": 118,
      "outputs": [
        {
          "output_type": "stream",
          "name": "stdout",
          "text": [
            "2776\n"
          ]
        }
      ]
    },
    {
      "cell_type": "markdown",
      "source": [
        "**Select Features**"
      ],
      "metadata": {
        "id": "gDdzRseTF9vB"
      }
    },
    {
      "cell_type": "code",
      "source": [
        "X = df_norm.drop(columns='Mineral_Land_Value_USD_Millions')\n",
        "X.head()"
      ],
      "metadata": {
        "colab": {
          "base_uri": "https://localhost:8080/",
          "height": 287
        },
        "id": "VnYJ65QAF8Gz",
        "outputId": "27a86f21-3907-415a-da6a-28ef769e7dbc"
      },
      "execution_count": 121,
      "outputs": [
        {
          "output_type": "execute_result",
          "data": {
            "text/plain": [
              "   TOTAL_MINERAL_RESOURCES_AVG_GRADE_(g/t)  RES_CON_(Kg)  RV_QTY_G_(g/t)  \\\n",
              "0                                -0.477403     -0.175929       -0.362381   \n",
              "1                                -0.330159     -0.307362        0.189010   \n",
              "2                                -0.358562      0.191040       -0.285004   \n",
              "3                                -0.259086      1.795241       -0.493427   \n",
              "4                                -0.297540     -0.327252       -0.464733   \n",
              "\n",
              "   RV_CON_(Kg)  POINT_SIZE (Kg)  Gold_Value  RV_QTY_(Mt)  \n",
              "0    -0.387147        -0.182937   -0.130125    -0.795782  \n",
              "1     0.361965        -0.277723   -0.130125    -0.809883  \n",
              "2     0.141033         0.248734   -0.130125     0.649502  \n",
              "3     0.185950         1.419303   -0.130125     0.658143  \n",
              "4    -0.407852        -0.292067   -0.130125    -0.770792  "
            ],
            "text/html": [
              "\n",
              "  <div id=\"df-804e59ec-fc2e-45f4-a27e-9134f8015cde\">\n",
              "    <div class=\"colab-df-container\">\n",
              "      <div>\n",
              "<style scoped>\n",
              "    .dataframe tbody tr th:only-of-type {\n",
              "        vertical-align: middle;\n",
              "    }\n",
              "\n",
              "    .dataframe tbody tr th {\n",
              "        vertical-align: top;\n",
              "    }\n",
              "\n",
              "    .dataframe thead th {\n",
              "        text-align: right;\n",
              "    }\n",
              "</style>\n",
              "<table border=\"1\" class=\"dataframe\">\n",
              "  <thead>\n",
              "    <tr style=\"text-align: right;\">\n",
              "      <th></th>\n",
              "      <th>TOTAL_MINERAL_RESOURCES_AVG_GRADE_(g/t)</th>\n",
              "      <th>RES_CON_(Kg)</th>\n",
              "      <th>RV_QTY_G_(g/t)</th>\n",
              "      <th>RV_CON_(Kg)</th>\n",
              "      <th>POINT_SIZE (Kg)</th>\n",
              "      <th>Gold_Value</th>\n",
              "      <th>RV_QTY_(Mt)</th>\n",
              "    </tr>\n",
              "  </thead>\n",
              "  <tbody>\n",
              "    <tr>\n",
              "      <th>0</th>\n",
              "      <td>-0.477403</td>\n",
              "      <td>-0.175929</td>\n",
              "      <td>-0.362381</td>\n",
              "      <td>-0.387147</td>\n",
              "      <td>-0.182937</td>\n",
              "      <td>-0.130125</td>\n",
              "      <td>-0.795782</td>\n",
              "    </tr>\n",
              "    <tr>\n",
              "      <th>1</th>\n",
              "      <td>-0.330159</td>\n",
              "      <td>-0.307362</td>\n",
              "      <td>0.189010</td>\n",
              "      <td>0.361965</td>\n",
              "      <td>-0.277723</td>\n",
              "      <td>-0.130125</td>\n",
              "      <td>-0.809883</td>\n",
              "    </tr>\n",
              "    <tr>\n",
              "      <th>2</th>\n",
              "      <td>-0.358562</td>\n",
              "      <td>0.191040</td>\n",
              "      <td>-0.285004</td>\n",
              "      <td>0.141033</td>\n",
              "      <td>0.248734</td>\n",
              "      <td>-0.130125</td>\n",
              "      <td>0.649502</td>\n",
              "    </tr>\n",
              "    <tr>\n",
              "      <th>3</th>\n",
              "      <td>-0.259086</td>\n",
              "      <td>1.795241</td>\n",
              "      <td>-0.493427</td>\n",
              "      <td>0.185950</td>\n",
              "      <td>1.419303</td>\n",
              "      <td>-0.130125</td>\n",
              "      <td>0.658143</td>\n",
              "    </tr>\n",
              "    <tr>\n",
              "      <th>4</th>\n",
              "      <td>-0.297540</td>\n",
              "      <td>-0.327252</td>\n",
              "      <td>-0.464733</td>\n",
              "      <td>-0.407852</td>\n",
              "      <td>-0.292067</td>\n",
              "      <td>-0.130125</td>\n",
              "      <td>-0.770792</td>\n",
              "    </tr>\n",
              "  </tbody>\n",
              "</table>\n",
              "</div>\n",
              "      <button class=\"colab-df-convert\" onclick=\"convertToInteractive('df-804e59ec-fc2e-45f4-a27e-9134f8015cde')\"\n",
              "              title=\"Convert this dataframe to an interactive table.\"\n",
              "              style=\"display:none;\">\n",
              "        \n",
              "  <svg xmlns=\"http://www.w3.org/2000/svg\" height=\"24px\"viewBox=\"0 0 24 24\"\n",
              "       width=\"24px\">\n",
              "    <path d=\"M0 0h24v24H0V0z\" fill=\"none\"/>\n",
              "    <path d=\"M18.56 5.44l.94 2.06.94-2.06 2.06-.94-2.06-.94-.94-2.06-.94 2.06-2.06.94zm-11 1L8.5 8.5l.94-2.06 2.06-.94-2.06-.94L8.5 2.5l-.94 2.06-2.06.94zm10 10l.94 2.06.94-2.06 2.06-.94-2.06-.94-.94-2.06-.94 2.06-2.06.94z\"/><path d=\"M17.41 7.96l-1.37-1.37c-.4-.4-.92-.59-1.43-.59-.52 0-1.04.2-1.43.59L10.3 9.45l-7.72 7.72c-.78.78-.78 2.05 0 2.83L4 21.41c.39.39.9.59 1.41.59.51 0 1.02-.2 1.41-.59l7.78-7.78 2.81-2.81c.8-.78.8-2.07 0-2.86zM5.41 20L4 18.59l7.72-7.72 1.47 1.35L5.41 20z\"/>\n",
              "  </svg>\n",
              "      </button>\n",
              "      \n",
              "  <style>\n",
              "    .colab-df-container {\n",
              "      display:flex;\n",
              "      flex-wrap:wrap;\n",
              "      gap: 12px;\n",
              "    }\n",
              "\n",
              "    .colab-df-convert {\n",
              "      background-color: #E8F0FE;\n",
              "      border: none;\n",
              "      border-radius: 50%;\n",
              "      cursor: pointer;\n",
              "      display: none;\n",
              "      fill: #1967D2;\n",
              "      height: 32px;\n",
              "      padding: 0 0 0 0;\n",
              "      width: 32px;\n",
              "    }\n",
              "\n",
              "    .colab-df-convert:hover {\n",
              "      background-color: #E2EBFA;\n",
              "      box-shadow: 0px 1px 2px rgba(60, 64, 67, 0.3), 0px 1px 3px 1px rgba(60, 64, 67, 0.15);\n",
              "      fill: #174EA6;\n",
              "    }\n",
              "\n",
              "    [theme=dark] .colab-df-convert {\n",
              "      background-color: #3B4455;\n",
              "      fill: #D2E3FC;\n",
              "    }\n",
              "\n",
              "    [theme=dark] .colab-df-convert:hover {\n",
              "      background-color: #434B5C;\n",
              "      box-shadow: 0px 1px 3px 1px rgba(0, 0, 0, 0.15);\n",
              "      filter: drop-shadow(0px 1px 2px rgba(0, 0, 0, 0.3));\n",
              "      fill: #FFFFFF;\n",
              "    }\n",
              "  </style>\n",
              "\n",
              "      <script>\n",
              "        const buttonEl =\n",
              "          document.querySelector('#df-804e59ec-fc2e-45f4-a27e-9134f8015cde button.colab-df-convert');\n",
              "        buttonEl.style.display =\n",
              "          google.colab.kernel.accessAllowed ? 'block' : 'none';\n",
              "\n",
              "        async function convertToInteractive(key) {\n",
              "          const element = document.querySelector('#df-804e59ec-fc2e-45f4-a27e-9134f8015cde');\n",
              "          const dataTable =\n",
              "            await google.colab.kernel.invokeFunction('convertToInteractive',\n",
              "                                                     [key], {});\n",
              "          if (!dataTable) return;\n",
              "\n",
              "          const docLinkHtml = 'Like what you see? Visit the ' +\n",
              "            '<a target=\"_blank\" href=https://colab.research.google.com/notebooks/data_table.ipynb>data table notebook</a>'\n",
              "            + ' to learn more about interactive tables.';\n",
              "          element.innerHTML = '';\n",
              "          dataTable['output_type'] = 'display_data';\n",
              "          await google.colab.output.renderOutput(dataTable, element);\n",
              "          const docLink = document.createElement('div');\n",
              "          docLink.innerHTML = docLinkHtml;\n",
              "          element.appendChild(docLink);\n",
              "        }\n",
              "      </script>\n",
              "    </div>\n",
              "  </div>\n",
              "  "
            ]
          },
          "metadata": {},
          "execution_count": 121
        }
      ]
    },
    {
      "cell_type": "markdown",
      "source": [
        "**Select Labels**"
      ],
      "metadata": {
        "id": "bOcJrTIlGhvF"
      }
    },
    {
      "cell_type": "code",
      "source": [
        "Y = df_norm[['Mineral_Land_Value_USD_Millions']]\n",
        "Y.head()"
      ],
      "metadata": {
        "colab": {
          "base_uri": "https://localhost:8080/",
          "height": 206
        },
        "id": "T3T3cutHGlAn",
        "outputId": "58ff2069-2ff8-4ff2-f56d-10d84402f139"
      },
      "execution_count": 123,
      "outputs": [
        {
          "output_type": "execute_result",
          "data": {
            "text/plain": [
              "   Mineral_Land_Value_USD_Millions\n",
              "0                        -0.800929\n",
              "1                        -0.815155\n",
              "2                         0.657134\n",
              "3                         0.665850\n",
              "4                        -0.775718"
            ],
            "text/html": [
              "\n",
              "  <div id=\"df-cabf47e0-1795-4439-ae36-637dea7fb6ab\">\n",
              "    <div class=\"colab-df-container\">\n",
              "      <div>\n",
              "<style scoped>\n",
              "    .dataframe tbody tr th:only-of-type {\n",
              "        vertical-align: middle;\n",
              "    }\n",
              "\n",
              "    .dataframe tbody tr th {\n",
              "        vertical-align: top;\n",
              "    }\n",
              "\n",
              "    .dataframe thead th {\n",
              "        text-align: right;\n",
              "    }\n",
              "</style>\n",
              "<table border=\"1\" class=\"dataframe\">\n",
              "  <thead>\n",
              "    <tr style=\"text-align: right;\">\n",
              "      <th></th>\n",
              "      <th>Mineral_Land_Value_USD_Millions</th>\n",
              "    </tr>\n",
              "  </thead>\n",
              "  <tbody>\n",
              "    <tr>\n",
              "      <th>0</th>\n",
              "      <td>-0.800929</td>\n",
              "    </tr>\n",
              "    <tr>\n",
              "      <th>1</th>\n",
              "      <td>-0.815155</td>\n",
              "    </tr>\n",
              "    <tr>\n",
              "      <th>2</th>\n",
              "      <td>0.657134</td>\n",
              "    </tr>\n",
              "    <tr>\n",
              "      <th>3</th>\n",
              "      <td>0.665850</td>\n",
              "    </tr>\n",
              "    <tr>\n",
              "      <th>4</th>\n",
              "      <td>-0.775718</td>\n",
              "    </tr>\n",
              "  </tbody>\n",
              "</table>\n",
              "</div>\n",
              "      <button class=\"colab-df-convert\" onclick=\"convertToInteractive('df-cabf47e0-1795-4439-ae36-637dea7fb6ab')\"\n",
              "              title=\"Convert this dataframe to an interactive table.\"\n",
              "              style=\"display:none;\">\n",
              "        \n",
              "  <svg xmlns=\"http://www.w3.org/2000/svg\" height=\"24px\"viewBox=\"0 0 24 24\"\n",
              "       width=\"24px\">\n",
              "    <path d=\"M0 0h24v24H0V0z\" fill=\"none\"/>\n",
              "    <path d=\"M18.56 5.44l.94 2.06.94-2.06 2.06-.94-2.06-.94-.94-2.06-.94 2.06-2.06.94zm-11 1L8.5 8.5l.94-2.06 2.06-.94-2.06-.94L8.5 2.5l-.94 2.06-2.06.94zm10 10l.94 2.06.94-2.06 2.06-.94-2.06-.94-.94-2.06-.94 2.06-2.06.94z\"/><path d=\"M17.41 7.96l-1.37-1.37c-.4-.4-.92-.59-1.43-.59-.52 0-1.04.2-1.43.59L10.3 9.45l-7.72 7.72c-.78.78-.78 2.05 0 2.83L4 21.41c.39.39.9.59 1.41.59.51 0 1.02-.2 1.41-.59l7.78-7.78 2.81-2.81c.8-.78.8-2.07 0-2.86zM5.41 20L4 18.59l7.72-7.72 1.47 1.35L5.41 20z\"/>\n",
              "  </svg>\n",
              "      </button>\n",
              "      \n",
              "  <style>\n",
              "    .colab-df-container {\n",
              "      display:flex;\n",
              "      flex-wrap:wrap;\n",
              "      gap: 12px;\n",
              "    }\n",
              "\n",
              "    .colab-df-convert {\n",
              "      background-color: #E8F0FE;\n",
              "      border: none;\n",
              "      border-radius: 50%;\n",
              "      cursor: pointer;\n",
              "      display: none;\n",
              "      fill: #1967D2;\n",
              "      height: 32px;\n",
              "      padding: 0 0 0 0;\n",
              "      width: 32px;\n",
              "    }\n",
              "\n",
              "    .colab-df-convert:hover {\n",
              "      background-color: #E2EBFA;\n",
              "      box-shadow: 0px 1px 2px rgba(60, 64, 67, 0.3), 0px 1px 3px 1px rgba(60, 64, 67, 0.15);\n",
              "      fill: #174EA6;\n",
              "    }\n",
              "\n",
              "    [theme=dark] .colab-df-convert {\n",
              "      background-color: #3B4455;\n",
              "      fill: #D2E3FC;\n",
              "    }\n",
              "\n",
              "    [theme=dark] .colab-df-convert:hover {\n",
              "      background-color: #434B5C;\n",
              "      box-shadow: 0px 1px 3px 1px rgba(0, 0, 0, 0.15);\n",
              "      filter: drop-shadow(0px 1px 2px rgba(0, 0, 0, 0.3));\n",
              "      fill: #FFFFFF;\n",
              "    }\n",
              "  </style>\n",
              "\n",
              "      <script>\n",
              "        const buttonEl =\n",
              "          document.querySelector('#df-cabf47e0-1795-4439-ae36-637dea7fb6ab button.colab-df-convert');\n",
              "        buttonEl.style.display =\n",
              "          google.colab.kernel.accessAllowed ? 'block' : 'none';\n",
              "\n",
              "        async function convertToInteractive(key) {\n",
              "          const element = document.querySelector('#df-cabf47e0-1795-4439-ae36-637dea7fb6ab');\n",
              "          const dataTable =\n",
              "            await google.colab.kernel.invokeFunction('convertToInteractive',\n",
              "                                                     [key], {});\n",
              "          if (!dataTable) return;\n",
              "\n",
              "          const docLinkHtml = 'Like what you see? Visit the ' +\n",
              "            '<a target=\"_blank\" href=https://colab.research.google.com/notebooks/data_table.ipynb>data table notebook</a>'\n",
              "            + ' to learn more about interactive tables.';\n",
              "          element.innerHTML = '';\n",
              "          dataTable['output_type'] = 'display_data';\n",
              "          await google.colab.output.renderOutput(dataTable, element);\n",
              "          const docLink = document.createElement('div');\n",
              "          docLink.innerHTML = docLinkHtml;\n",
              "          element.appendChild(docLink);\n",
              "        }\n",
              "      </script>\n",
              "    </div>\n",
              "  </div>\n",
              "  "
            ]
          },
          "metadata": {},
          "execution_count": 123
        }
      ]
    },
    {
      "cell_type": "markdown",
      "source": [
        "**Data Partitioning**\n",
        "\n",
        "Split Data into Training and Test set. 80& and 20% respectively.\n",
        "\n"
      ],
      "metadata": {
        "id": "o41Bp0esTjiO"
      }
    },
    {
      "cell_type": "code",
      "source": [
        "x_train,x_test,y_train,y_test=train_test_split(X,Y, test_size=0.2, random_state=0)\n",
        "print(x_train.shape,y_train.shape)\n",
        "print(x_test.shape,y_test.shape)"
      ],
      "metadata": {
        "id": "IkuDo0V2ouIR",
        "colab": {
          "base_uri": "https://localhost:8080/"
        },
        "outputId": "f56d44a0-1683-40e9-aefe-e12e9505d599"
      },
      "execution_count": 132,
      "outputs": [
        {
          "output_type": "stream",
          "name": "stdout",
          "text": [
            "(211, 7) (211, 1)\n",
            "(53, 7) (53, 1)\n"
          ]
        }
      ]
    },
    {
      "cell_type": "markdown",
      "source": [
        "**Create DNN Model**"
      ],
      "metadata": {
        "id": "-ljP3_EEKDFq"
      }
    },
    {
      "cell_type": "code",
      "source": [
        "\n",
        "    model = tf.keras.models.Sequential([\n",
        "        tf.keras.layers.Dense(7,input_shape = (7,), activation = 'relu'),\n",
        "        tf.keras.layers.Dense(7,activation = 'relu'),\n",
        "      tf.keras.layers.Dense(5,activation = 'relu'),\n",
        "        tf.keras.layers.Dense(1)])\n",
        "    model.compile(loss = 'mse', optimizer = 'adam')\n",
        "    \n",
        "\n",
        "   \n",
        "\n",
        "    \n"
      ],
      "metadata": {
        "id": "FeLH0IeFKHGm"
      },
      "execution_count": 209,
      "outputs": []
    },
    {
      "cell_type": "code",
      "source": [
        "model.summary()"
      ],
      "metadata": {
        "colab": {
          "base_uri": "https://localhost:8080/"
        },
        "id": "J_vM5HQDLA3K",
        "outputId": "18f569e3-fe91-413d-8329-711d9db99aae"
      },
      "execution_count": 210,
      "outputs": [
        {
          "output_type": "stream",
          "name": "stdout",
          "text": [
            "Model: \"sequential_11\"\n",
            "_________________________________________________________________\n",
            " Layer (type)                Output Shape              Param #   \n",
            "=================================================================\n",
            " dense_43 (Dense)            (None, 7)                 56        \n",
            "                                                                 \n",
            " dense_44 (Dense)            (None, 7)                 56        \n",
            "                                                                 \n",
            " dense_45 (Dense)            (None, 5)                 40        \n",
            "                                                                 \n",
            " dense_46 (Dense)            (None, 1)                 6         \n",
            "                                                                 \n",
            "=================================================================\n",
            "Total params: 158\n",
            "Trainable params: 158\n",
            "Non-trainable params: 0\n",
            "_________________________________________________________________\n"
          ]
        }
      ]
    },
    {
      "cell_type": "markdown",
      "source": [
        "**Train DNN Model**\n"
      ],
      "metadata": {
        "id": "vkHOA1DxP8D7"
      }
    },
    {
      "cell_type": "code",
      "source": [
        "cb = tf.keras.callbacks.EarlyStopping(monitor='val_loss', patience = 5)\n",
        "model = model\n",
        "predict_on_untrained = model.predict(x_test)\n",
        "history = model.fit(x_train,y_train, validation_data=(x_test, y_test), epochs = 100, callbacks=[cb])"
      ],
      "metadata": {
        "colab": {
          "base_uri": "https://localhost:8080/"
        },
        "id": "ot1_3ewBQAKd",
        "outputId": "fdaf3d00-196e-478a-ecf6-801b67c468b2"
      },
      "execution_count": 211,
      "outputs": [
        {
          "output_type": "stream",
          "name": "stdout",
          "text": [
            "2/2 [==============================] - 0s 5ms/step\n",
            "Epoch 1/100\n",
            "7/7 [==============================] - 0s 21ms/step - loss: 1.9951 - val_loss: 0.7635\n",
            "Epoch 2/100\n",
            "7/7 [==============================] - 0s 5ms/step - loss: 1.8675 - val_loss: 0.7309\n",
            "Epoch 3/100\n",
            "7/7 [==============================] - 0s 8ms/step - loss: 1.7501 - val_loss: 0.7012\n",
            "Epoch 4/100\n",
            "7/7 [==============================] - 0s 4ms/step - loss: 1.6795 - val_loss: 0.6767\n",
            "Epoch 5/100\n",
            "7/7 [==============================] - 0s 8ms/step - loss: 1.5861 - val_loss: 0.6555\n",
            "Epoch 6/100\n",
            "7/7 [==============================] - 0s 4ms/step - loss: 1.5352 - val_loss: 0.6383\n",
            "Epoch 7/100\n",
            "7/7 [==============================] - 0s 4ms/step - loss: 1.4126 - val_loss: 0.6227\n",
            "Epoch 8/100\n",
            "7/7 [==============================] - 0s 6ms/step - loss: 1.3395 - val_loss: 0.6076\n",
            "Epoch 9/100\n",
            "7/7 [==============================] - 0s 5ms/step - loss: 1.2256 - val_loss: 0.5921\n",
            "Epoch 10/100\n",
            "7/7 [==============================] - 0s 5ms/step - loss: 1.1509 - val_loss: 0.5778\n",
            "Epoch 11/100\n",
            "7/7 [==============================] - 0s 5ms/step - loss: 1.1181 - val_loss: 0.5666\n",
            "Epoch 12/100\n",
            "7/7 [==============================] - 0s 5ms/step - loss: 1.0263 - val_loss: 0.5559\n",
            "Epoch 13/100\n",
            "7/7 [==============================] - 0s 5ms/step - loss: 0.9765 - val_loss: 0.5475\n",
            "Epoch 14/100\n",
            "7/7 [==============================] - 0s 5ms/step - loss: 0.9034 - val_loss: 0.5344\n",
            "Epoch 15/100\n",
            "7/7 [==============================] - 0s 5ms/step - loss: 0.8458 - val_loss: 0.5230\n",
            "Epoch 16/100\n",
            "7/7 [==============================] - 0s 4ms/step - loss: 0.8174 - val_loss: 0.5139\n",
            "Epoch 17/100\n",
            "7/7 [==============================] - 0s 6ms/step - loss: 0.7756 - val_loss: 0.5049\n",
            "Epoch 18/100\n",
            "7/7 [==============================] - 0s 8ms/step - loss: 0.7406 - val_loss: 0.5007\n",
            "Epoch 19/100\n",
            "7/7 [==============================] - 0s 5ms/step - loss: 0.6698 - val_loss: 0.4933\n",
            "Epoch 20/100\n",
            "7/7 [==============================] - 0s 5ms/step - loss: 0.6298 - val_loss: 0.4854\n",
            "Epoch 21/100\n",
            "7/7 [==============================] - 0s 5ms/step - loss: 0.6131 - val_loss: 0.4827\n",
            "Epoch 22/100\n",
            "7/7 [==============================] - 0s 6ms/step - loss: 0.5602 - val_loss: 0.4757\n",
            "Epoch 23/100\n",
            "7/7 [==============================] - 0s 6ms/step - loss: 0.5230 - val_loss: 0.4664\n",
            "Epoch 24/100\n",
            "7/7 [==============================] - 0s 5ms/step - loss: 0.5035 - val_loss: 0.4589\n",
            "Epoch 25/100\n",
            "7/7 [==============================] - 0s 5ms/step - loss: 0.4768 - val_loss: 0.4499\n",
            "Epoch 26/100\n",
            "7/7 [==============================] - 0s 4ms/step - loss: 0.4451 - val_loss: 0.4332\n",
            "Epoch 27/100\n",
            "7/7 [==============================] - 0s 5ms/step - loss: 0.4278 - val_loss: 0.4228\n",
            "Epoch 28/100\n",
            "7/7 [==============================] - 0s 8ms/step - loss: 0.4105 - val_loss: 0.4128\n",
            "Epoch 29/100\n",
            "7/7 [==============================] - 0s 5ms/step - loss: 0.3900 - val_loss: 0.3986\n",
            "Epoch 30/100\n",
            "7/7 [==============================] - 0s 5ms/step - loss: 0.3799 - val_loss: 0.3925\n",
            "Epoch 31/100\n",
            "7/7 [==============================] - 0s 5ms/step - loss: 0.3636 - val_loss: 0.3838\n",
            "Epoch 32/100\n",
            "7/7 [==============================] - 0s 4ms/step - loss: 0.3489 - val_loss: 0.3735\n",
            "Epoch 33/100\n",
            "7/7 [==============================] - 0s 4ms/step - loss: 0.3386 - val_loss: 0.3633\n",
            "Epoch 34/100\n",
            "7/7 [==============================] - 0s 8ms/step - loss: 0.3286 - val_loss: 0.3528\n",
            "Epoch 35/100\n",
            "7/7 [==============================] - 0s 4ms/step - loss: 0.3193 - val_loss: 0.3406\n",
            "Epoch 36/100\n",
            "7/7 [==============================] - 0s 6ms/step - loss: 0.3107 - val_loss: 0.3294\n",
            "Epoch 37/100\n",
            "7/7 [==============================] - 0s 5ms/step - loss: 0.3034 - val_loss: 0.3203\n",
            "Epoch 38/100\n",
            "7/7 [==============================] - 0s 5ms/step - loss: 0.2951 - val_loss: 0.3094\n",
            "Epoch 39/100\n",
            "7/7 [==============================] - 0s 4ms/step - loss: 0.2893 - val_loss: 0.3004\n",
            "Epoch 40/100\n",
            "7/7 [==============================] - 0s 5ms/step - loss: 0.2809 - val_loss: 0.2900\n",
            "Epoch 41/100\n",
            "7/7 [==============================] - 0s 5ms/step - loss: 0.2753 - val_loss: 0.2826\n",
            "Epoch 42/100\n",
            "7/7 [==============================] - 0s 5ms/step - loss: 0.2670 - val_loss: 0.2732\n",
            "Epoch 43/100\n",
            "7/7 [==============================] - 0s 6ms/step - loss: 0.2602 - val_loss: 0.2656\n",
            "Epoch 44/100\n",
            "7/7 [==============================] - 0s 8ms/step - loss: 0.2529 - val_loss: 0.2575\n",
            "Epoch 45/100\n",
            "7/7 [==============================] - 0s 5ms/step - loss: 0.2464 - val_loss: 0.2506\n",
            "Epoch 46/100\n",
            "7/7 [==============================] - 0s 4ms/step - loss: 0.2399 - val_loss: 0.2408\n",
            "Epoch 47/100\n",
            "7/7 [==============================] - 0s 5ms/step - loss: 0.2340 - val_loss: 0.2296\n",
            "Epoch 48/100\n",
            "7/7 [==============================] - 0s 5ms/step - loss: 0.2277 - val_loss: 0.2208\n",
            "Epoch 49/100\n",
            "7/7 [==============================] - 0s 5ms/step - loss: 0.2219 - val_loss: 0.2123\n",
            "Epoch 50/100\n",
            "7/7 [==============================] - 0s 5ms/step - loss: 0.2172 - val_loss: 0.2031\n",
            "Epoch 51/100\n",
            "7/7 [==============================] - 0s 6ms/step - loss: 0.2115 - val_loss: 0.1958\n",
            "Epoch 52/100\n",
            "7/7 [==============================] - 0s 5ms/step - loss: 0.2066 - val_loss: 0.1890\n",
            "Epoch 53/100\n",
            "7/7 [==============================] - 0s 5ms/step - loss: 0.2022 - val_loss: 0.1811\n",
            "Epoch 54/100\n",
            "7/7 [==============================] - 0s 5ms/step - loss: 0.1975 - val_loss: 0.1754\n",
            "Epoch 55/100\n",
            "7/7 [==============================] - 0s 5ms/step - loss: 0.1934 - val_loss: 0.1694\n",
            "Epoch 56/100\n",
            "7/7 [==============================] - 0s 5ms/step - loss: 0.1892 - val_loss: 0.1644\n",
            "Epoch 57/100\n",
            "7/7 [==============================] - 0s 6ms/step - loss: 0.1855 - val_loss: 0.1584\n",
            "Epoch 58/100\n",
            "7/7 [==============================] - 0s 5ms/step - loss: 0.1812 - val_loss: 0.1539\n",
            "Epoch 59/100\n",
            "7/7 [==============================] - 0s 6ms/step - loss: 0.1778 - val_loss: 0.1482\n",
            "Epoch 60/100\n",
            "7/7 [==============================] - 0s 6ms/step - loss: 0.1740 - val_loss: 0.1440\n",
            "Epoch 61/100\n",
            "7/7 [==============================] - 0s 5ms/step - loss: 0.1703 - val_loss: 0.1396\n",
            "Epoch 62/100\n",
            "7/7 [==============================] - 0s 5ms/step - loss: 0.1669 - val_loss: 0.1347\n",
            "Epoch 63/100\n",
            "7/7 [==============================] - 0s 8ms/step - loss: 0.1632 - val_loss: 0.1317\n",
            "Epoch 64/100\n",
            "7/7 [==============================] - 0s 4ms/step - loss: 0.1598 - val_loss: 0.1287\n",
            "Epoch 65/100\n",
            "7/7 [==============================] - 0s 4ms/step - loss: 0.1561 - val_loss: 0.1257\n",
            "Epoch 66/100\n",
            "7/7 [==============================] - 0s 4ms/step - loss: 0.1526 - val_loss: 0.1213\n",
            "Epoch 67/100\n",
            "7/7 [==============================] - 0s 5ms/step - loss: 0.1489 - val_loss: 0.1172\n",
            "Epoch 68/100\n",
            "7/7 [==============================] - 0s 4ms/step - loss: 0.1456 - val_loss: 0.1144\n",
            "Epoch 69/100\n",
            "7/7 [==============================] - 0s 4ms/step - loss: 0.1423 - val_loss: 0.1106\n",
            "Epoch 70/100\n",
            "7/7 [==============================] - 0s 5ms/step - loss: 0.1394 - val_loss: 0.1069\n",
            "Epoch 71/100\n",
            "7/7 [==============================] - 0s 6ms/step - loss: 0.1367 - val_loss: 0.1034\n",
            "Epoch 72/100\n",
            "7/7 [==============================] - 0s 5ms/step - loss: 0.1341 - val_loss: 0.1026\n",
            "Epoch 73/100\n",
            "7/7 [==============================] - 0s 5ms/step - loss: 0.1310 - val_loss: 0.0995\n",
            "Epoch 74/100\n",
            "7/7 [==============================] - 0s 6ms/step - loss: 0.1285 - val_loss: 0.0970\n",
            "Epoch 75/100\n",
            "7/7 [==============================] - 0s 5ms/step - loss: 0.1256 - val_loss: 0.0952\n",
            "Epoch 76/100\n",
            "7/7 [==============================] - 0s 5ms/step - loss: 0.1226 - val_loss: 0.0921\n",
            "Epoch 77/100\n",
            "7/7 [==============================] - 0s 5ms/step - loss: 0.1202 - val_loss: 0.0899\n",
            "Epoch 78/100\n",
            "7/7 [==============================] - 0s 5ms/step - loss: 0.1175 - val_loss: 0.0888\n",
            "Epoch 79/100\n",
            "7/7 [==============================] - 0s 5ms/step - loss: 0.1149 - val_loss: 0.0869\n",
            "Epoch 80/100\n",
            "7/7 [==============================] - 0s 4ms/step - loss: 0.1125 - val_loss: 0.0849\n",
            "Epoch 81/100\n",
            "7/7 [==============================] - 0s 5ms/step - loss: 0.1103 - val_loss: 0.0831\n",
            "Epoch 82/100\n",
            "7/7 [==============================] - 0s 5ms/step - loss: 0.1083 - val_loss: 0.0819\n",
            "Epoch 83/100\n",
            "7/7 [==============================] - 0s 5ms/step - loss: 0.1065 - val_loss: 0.0792\n",
            "Epoch 84/100\n",
            "7/7 [==============================] - 0s 4ms/step - loss: 0.1046 - val_loss: 0.0793\n",
            "Epoch 85/100\n",
            "7/7 [==============================] - 0s 5ms/step - loss: 0.1028 - val_loss: 0.0782\n",
            "Epoch 86/100\n",
            "7/7 [==============================] - 0s 5ms/step - loss: 0.1010 - val_loss: 0.0772\n",
            "Epoch 87/100\n",
            "7/7 [==============================] - 0s 4ms/step - loss: 0.0993 - val_loss: 0.0747\n",
            "Epoch 88/100\n",
            "7/7 [==============================] - 0s 4ms/step - loss: 0.0977 - val_loss: 0.0738\n",
            "Epoch 89/100\n",
            "7/7 [==============================] - 0s 5ms/step - loss: 0.0960 - val_loss: 0.0723\n",
            "Epoch 90/100\n",
            "7/7 [==============================] - 0s 6ms/step - loss: 0.0943 - val_loss: 0.0714\n",
            "Epoch 91/100\n",
            "7/7 [==============================] - 0s 5ms/step - loss: 0.0928 - val_loss: 0.0694\n",
            "Epoch 92/100\n",
            "7/7 [==============================] - 0s 4ms/step - loss: 0.0911 - val_loss: 0.0682\n",
            "Epoch 93/100\n",
            "7/7 [==============================] - 0s 8ms/step - loss: 0.0896 - val_loss: 0.0673\n",
            "Epoch 94/100\n",
            "7/7 [==============================] - 0s 8ms/step - loss: 0.0879 - val_loss: 0.0655\n",
            "Epoch 95/100\n",
            "7/7 [==============================] - 0s 8ms/step - loss: 0.0863 - val_loss: 0.0643\n",
            "Epoch 96/100\n",
            "7/7 [==============================] - 0s 5ms/step - loss: 0.0850 - val_loss: 0.0627\n",
            "Epoch 97/100\n",
            "7/7 [==============================] - 0s 5ms/step - loss: 0.0836 - val_loss: 0.0618\n",
            "Epoch 98/100\n",
            "7/7 [==============================] - 0s 8ms/step - loss: 0.0822 - val_loss: 0.0613\n",
            "Epoch 99/100\n",
            "7/7 [==============================] - 0s 5ms/step - loss: 0.0811 - val_loss: 0.0586\n",
            "Epoch 100/100\n",
            "7/7 [==============================] - 0s 8ms/step - loss: 0.0799 - val_loss: 0.0583\n"
          ]
        }
      ]
    },
    {
      "cell_type": "markdown",
      "source": [
        "Plot Training and Validation Loss"
      ],
      "metadata": {
        "id": "NVmmOLQGRfCI"
      }
    },
    {
      "cell_type": "code",
      "source": [
        "plot_loss(history)"
      ],
      "metadata": {
        "colab": {
          "base_uri": "https://localhost:8080/",
          "height": 283
        },
        "id": "uhTGDcSqRjE0",
        "outputId": "9e27cb4a-be9c-4d4a-ae08-78c370959ef4"
      },
      "execution_count": 212,
      "outputs": [
        {
          "output_type": "display_data",
          "data": {
            "text/plain": [
              "<Figure size 432x288 with 1 Axes>"
            ],
            "image/png": "[encoded data removed]"
          },
          "metadata": {
            "needs_background": "light"
          }
        }
      ]
    },
    {
      "cell_type": "markdown",
      "source": [
        "**Predictions**"
      ],
      "metadata": {
        "id": "0uwPV4BsTqwd"
      }
    },
    {
      "cell_type": "markdown",
      "source": [
        "Plotting raw predictions"
      ],
      "metadata": {
        "id": "xlhY08GKTwdt"
      }
    },
    {
      "cell_type": "code",
      "source": [
        "Preds_on_trained = model.predict(x_test)\n",
        "Preds_on_trained.shape\n",
        "Preds_on_trained\n",
        "   "
      ],
      "metadata": {
        "colab": {
          "base_uri": "https://localhost:8080/"
        },
        "id": "RSGzNhWig5Ep",
        "outputId": "3130ad59-9771-4231-99e0-e3bc9d706fff"
      },
      "execution_count": 303,
      "outputs": [
        {
          "output_type": "stream",
          "name": "stdout",
          "text": [
            "2/2 [==============================] - 0s 4ms/step\n"
          ]
        },
        {
          "output_type": "execute_result",
          "data": {
            "text/plain": [
              "array([[ 0.4386409 ],\n",
              "       [-0.818625  ],\n",
              "       [ 0.83999616],\n",
              "       [ 0.6047638 ],\n",
              "       [-0.73426   ],\n",
              "       [-0.54105914],\n",
              "       [-0.63649815],\n",
              "       [-0.7234762 ],\n",
              "       [ 0.7751327 ],\n",
              "       [ 1.2014972 ],\n",
              "       [ 0.3820557 ],\n",
              "       [ 0.75324833],\n",
              "       [-0.34180462],\n",
              "       [ 0.0027822 ],\n",
              "       [ 1.2646767 ],\n",
              "       [-0.71823835],\n",
              "       [-0.73420006],\n",
              "       [ 0.8305189 ],\n",
              "       [-0.6627217 ],\n",
              "       [-0.03302483],\n",
              "       [-0.61808425],\n",
              "       [ 0.08349587],\n",
              "       [-0.58533955],\n",
              "       [-0.62485844],\n",
              "       [-0.50703627],\n",
              "       [ 0.64765996],\n",
              "       [-0.73574805],\n",
              "       [-0.4186561 ],\n",
              "       [ 0.6834713 ],\n",
              "       [-0.77949256],\n",
              "       [ 0.86350185],\n",
              "       [-0.711825  ],\n",
              "       [ 0.77895045],\n",
              "       [-0.67706466],\n",
              "       [-0.4253022 ],\n",
              "       [ 0.32048732],\n",
              "       [ 1.0109773 ],\n",
              "       [ 0.13056807],\n",
              "       [-0.567127  ],\n",
              "       [ 1.1874729 ],\n",
              "       [-0.7554802 ],\n",
              "       [ 0.69940144],\n",
              "       [-0.6975547 ],\n",
              "       [-0.5161113 ],\n",
              "       [-0.56524754],\n",
              "       [-0.5544903 ],\n",
              "       [ 1.2961808 ],\n",
              "       [ 0.6327713 ],\n",
              "       [-0.7995082 ],\n",
              "       [ 0.65239733],\n",
              "       [-0.60047436],\n",
              "       [ 0.27502626],\n",
              "       [-0.6906411 ]], dtype=float32)"
            ]
          },
          "metadata": {},
          "execution_count": 303
        }
      ]
    },
    {
      "cell_type": "markdown",
      "source": [
        "Test on orignal dataset values"
      ],
      "metadata": {
        "id": "Sxy0PeAZzxUp"
      }
    },
    {
      "cell_type": "code",
      "source": [
        "test_data = np.array([-0.477403,\t-0.175929,\t-0.362381,\t-0.387147,\t-0.182937,\t-0.130125,\t-0.795782])\n",
        "\n",
        "test_data.reshape(1,7)"
      ],
      "metadata": {
        "colab": {
          "base_uri": "https://localhost:8080/"
        },
        "id": "UhQRAg0tuyaW",
        "outputId": "fa67b598-f0ef-443d-8875-338f554b015b"
      },
      "execution_count": 304,
      "outputs": [
        {
          "output_type": "execute_result",
          "data": {
            "text/plain": [
              "array([-0.477403, -0.175929, -0.362381, -0.387147, -0.182937, -0.130125,\n",
              "       -0.795782])"
            ]
          },
          "metadata": {},
          "execution_count": 304
        }
      ]
    },
    {
      "cell_type": "code",
      "source": [
        "print(model.predict(test_data.reshape(1,7),batch_size=1))"
      ],
      "metadata": {
        "colab": {
          "base_uri": "https://localhost:8080/"
        },
        "id": "tJtI6nXEwYyL",
        "outputId": "49a79c89-cba7-4d9f-e1ca-f93251abfc52"
      },
      "execution_count": 268,
      "outputs": [
        {
          "output_type": "stream",
          "name": "stdout",
          "text": [
            "1/1 [==============================] - 0s 15ms/step\n",
            "[[-0.7161517]]\n"
          ]
        }
      ]
    },
    {
      "cell_type": "code",
      "source": [
        "print('This is the value predicted mineral land value from input parameters',convert_label_value(-0.7161517),\"Million USD dollars\")"
      ],
      "metadata": {
        "colab": {
          "base_uri": "https://localhost:8080/"
        },
        "id": "CsnmDgOqyhY4",
        "outputId": "796a67b0-e93f-4f4e-874c-0754846c50b3"
      },
      "execution_count": 276,
      "outputs": [
        {
          "output_type": "stream",
          "name": "stdout",
          "text": [
            "This is the value predicted mineral land value from input parameters 5906 Million USD dollars\n"
          ]
        }
      ]
    },
    {
      "cell_type": "markdown",
      "source": [
        "**Creat User Interface**\n",
        "\n",
        "This is when the customer enters in the parameters then they receive a predicted mineral price "
      ],
      "metadata": {
        "id": "tmzq86d7z4m1"
      }
    },
    {
      "cell_type": "code",
      "source": [
        "print(' Welcome to our mineral land prediction software!!!','\\n','If you would like to make a prediction, please enter the following values')\n",
        "print('Input Parameters')\n",
        "a = float(input('TOTAL_MINERAL_RESOURCES_AVG_GRADE_(g/t): '))\n",
        "b = float(input('RES_CON_(Kg): '))\n",
        "c = float(input('RV_QTY_G_(g/t): '))\n",
        "d = float(input('RV_CON_(Kg): '))\n",
        "e = float(input('POINT_SIZE(Kg): '))\n",
        "f = float(input('Gold_Value: '))\n",
        "g = float(input('RV_QTY_(Mt): '))\n",
        "testdata = np.array([a,b,c,d,e,f,g])\n",
        "\n",
        "print('Mineral Land Value in USD Millions',model.predict(testdata.reshape(1,7),batch_size=1))\n",
        "\n",
        "#print('This is the value predicted mineral land value from input parameters',convert_label_value(-0.7161517),\"Million USD dollars\")"
      ],
      "metadata": {
        "id": "MDqBb4-oz68y"
      },
      "execution_count": null,
      "outputs": []
    }
  ]
}