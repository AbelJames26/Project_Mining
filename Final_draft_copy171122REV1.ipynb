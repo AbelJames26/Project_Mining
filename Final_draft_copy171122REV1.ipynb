{
  "nbformat": 4,
  "nbformat_minor": 0,
  "metadata": {
    "colab": {
      "provenance": [],
      "authorship_tag": "ABX9TyMiekTBRSbq9WM7OLhd+ZZ8",
      "include_colab_link": true
    },
    "kernelspec": {
      "name": "python3",
      "display_name": "Python 3"
    },
    "language_info": {
      "name": "python"
    }
  },
  "cells": [
    {
      "cell_type": "markdown",
      "metadata": {
        "id": "view-in-github",
        "colab_type": "text"
      },
      "source": [
        "<a href=\"https://colab.research.google.com/github/AbelJames26/Project_Mining/blob/main/Final_draft_copy171122REV1.ipynb\" target=\"_parent\"><img src=\"https://colab.research.google.com/assets/colab-badge.svg\" alt=\"Open In Colab\"/></a>"
      ]
    },
    {
      "cell_type": "markdown",
      "source": [
        "**Import Libraries**"
      ],
      "metadata": {
        "id": "Ghl5pyYuTYct"
      }
    },
    {
      "cell_type": "code",
      "execution_count": 74,
      "metadata": {
        "id": "PKPJWzO803eL",
        "outputId": "79458fb4-1fdc-4921-817d-77b5aa795bc5",
        "colab": {
          "base_uri": "https://localhost:8080/"
        }
      },
      "outputs": [
        {
          "output_type": "stream",
          "name": "stdout",
          "text": [
            "2.9.2\n"
          ]
        }
      ],
      "source": [
        "import numpy as np\n",
        "import pandas as pd\n",
        "import scipy as sp\n",
        "import tensorflow as tf\n",
        "from tensorflow import keras\n",
        "from tensorflow.keras import layers\n",
        "import sqlite3\n",
        "import seaborn as sns\n",
        "from sklearn.model_selection import train_test_split\n",
        "from sklearn.preprocessing import StandardScaler\n",
        "import matplotlib.pyplot as plt\n",
        "\n",
        "\n",
        "\n",
        "print(tf.__version__)"
      ]
    },
    {
      "cell_type": "markdown",
      "source": [
        "**Import Data Set**"
      ],
      "metadata": {
        "id": "1aF7-1FeTVVJ"
      }
    },
    {
      "cell_type": "code",
      "source": [
        "Path = \"/content/17112022_Project_Data.csv\"\n",
        "df = pd.read_csv(Path)\n",
        "df.shape"
      ],
      "metadata": {
        "colab": {
          "base_uri": "https://localhost:8080/"
        },
        "id": "BtZKnAlqn_v3",
        "outputId": "47382afe-1ae9-4ae6-938e-bf4b39dd3f64"
      },
      "execution_count": 75,
      "outputs": [
        {
          "output_type": "execute_result",
          "data": {
            "text/plain": [
              "(904, 14)"
            ]
          },
          "metadata": {},
          "execution_count": 75
        }
      ]
    },
    {
      "cell_type": "markdown",
      "source": [
        "Visualize dataset"
      ],
      "metadata": {
        "id": "qRttaf5odS7W"
      }
    },
    {
      "cell_type": "code",
      "source": [
        "#Displaying the data\n",
        "df.head()"
      ],
      "metadata": {
        "colab": {
          "base_uri": "https://localhost:8080/",
          "height": 206
        },
        "id": "y6jWt2b_N9o4",
        "outputId": "f827e739-1cba-4bc2-899d-a55ee441255b"
      },
      "execution_count": 76,
      "outputs": [
        {
          "output_type": "execute_result",
          "data": {
            "text/plain": [
              "  COMMODITY   LATITUDE   LONGITUDE            SITE  RES_QTY_MILLION_TONNES  \\\n",
              "0      Gold -20.771948  122.201825  Anketell Shelf                   108.1   \n",
              "1      Gold -21.727803  122.640676  Anketell Shelf                    92.0   \n",
              "2      Gold -21.727803  122.640676  Anketell Shelf                    92.0   \n",
              "3      Gold -20.771948  122.201825  Anketell Shelf                   108.1   \n",
              "4      Gold -20.771948  122.201825  Anketell Shelf                   108.1   \n",
              "\n",
              "   RES_QTY_GRAM_TONNE  RES_CON_KILOGRAM  RV_QTY_million_tonnes  \\\n",
              "0            0.711064          76866.00                   23.0   \n",
              "1            0.235652            216.80                   25.0   \n",
              "2            1.857609         170900.00                   25.0   \n",
              "3            0.147234            159.16                   21.0   \n",
              "4            0.538936          58259.00                   25.0   \n",
              "\n",
              "   RV_QTY_G_GRAM_TONNE  POINT_SIZE_KILOGRAM        DATE  GOLD_PRICE_USD  \\\n",
              "0                 0.44             76866.00   1/10/2022          1662.4   \n",
              "1                 0.44               326.80   8/10/2022          1700.5   \n",
              "2                 3.00            245900.00   8/10/2022          1700.5   \n",
              "3                 0.44               159.16   9/10/2022          1700.5   \n",
              "4                 3.00             58259.00  22/10/2022          1651.0   \n",
              "\n",
              "   MINERAL_LAND_VALUE_USD  COMM_CODE  \n",
              "0                 38235.2          1  \n",
              "1                 42512.5          1  \n",
              "2                 42512.5          1  \n",
              "3                 35710.5          1  \n",
              "4                 41275.0          1  "
            ],
            "text/html": [
              "\n",
              "  <div id=\"df-bd1aac45-4d02-4e86-9601-672d4b4c780b\">\n",
              "    <div class=\"colab-df-container\">\n",
              "      <div>\n",
              "<style scoped>\n",
              "    .dataframe tbody tr th:only-of-type {\n",
              "        vertical-align: middle;\n",
              "    }\n",
              "\n",
              "    .dataframe tbody tr th {\n",
              "        vertical-align: top;\n",
              "    }\n",
              "\n",
              "    .dataframe thead th {\n",
              "        text-align: right;\n",
              "    }\n",
              "</style>\n",
              "<table border=\"1\" class=\"dataframe\">\n",
              "  <thead>\n",
              "    <tr style=\"text-align: right;\">\n",
              "      <th></th>\n",
              "      <th>COMMODITY</th>\n",
              "      <th>LATITUDE</th>\n",
              "      <th>LONGITUDE</th>\n",
              "      <th>SITE</th>\n",
              "      <th>RES_QTY_MILLION_TONNES</th>\n",
              "      <th>RES_QTY_GRAM_TONNE</th>\n",
              "      <th>RES_CON_KILOGRAM</th>\n",
              "      <th>RV_QTY_million_tonnes</th>\n",
              "      <th>RV_QTY_G_GRAM_TONNE</th>\n",
              "      <th>POINT_SIZE_KILOGRAM</th>\n",
              "      <th>DATE</th>\n",
              "      <th>GOLD_PRICE_USD</th>\n",
              "      <th>MINERAL_LAND_VALUE_USD</th>\n",
              "      <th>COMM_CODE</th>\n",
              "    </tr>\n",
              "  </thead>\n",
              "  <tbody>\n",
              "    <tr>\n",
              "      <th>0</th>\n",
              "      <td>Gold</td>\n",
              "      <td>-20.771948</td>\n",
              "      <td>122.201825</td>\n",
              "      <td>Anketell Shelf</td>\n",
              "      <td>108.1</td>\n",
              "      <td>0.711064</td>\n",
              "      <td>76866.00</td>\n",
              "      <td>23.0</td>\n",
              "      <td>0.44</td>\n",
              "      <td>76866.00</td>\n",
              "      <td>1/10/2022</td>\n",
              "      <td>1662.4</td>\n",
              "      <td>38235.2</td>\n",
              "      <td>1</td>\n",
              "    </tr>\n",
              "    <tr>\n",
              "      <th>1</th>\n",
              "      <td>Gold</td>\n",
              "      <td>-21.727803</td>\n",
              "      <td>122.640676</td>\n",
              "      <td>Anketell Shelf</td>\n",
              "      <td>92.0</td>\n",
              "      <td>0.235652</td>\n",
              "      <td>216.80</td>\n",
              "      <td>25.0</td>\n",
              "      <td>0.44</td>\n",
              "      <td>326.80</td>\n",
              "      <td>8/10/2022</td>\n",
              "      <td>1700.5</td>\n",
              "      <td>42512.5</td>\n",
              "      <td>1</td>\n",
              "    </tr>\n",
              "    <tr>\n",
              "      <th>2</th>\n",
              "      <td>Gold</td>\n",
              "      <td>-21.727803</td>\n",
              "      <td>122.640676</td>\n",
              "      <td>Anketell Shelf</td>\n",
              "      <td>92.0</td>\n",
              "      <td>1.857609</td>\n",
              "      <td>170900.00</td>\n",
              "      <td>25.0</td>\n",
              "      <td>3.00</td>\n",
              "      <td>245900.00</td>\n",
              "      <td>8/10/2022</td>\n",
              "      <td>1700.5</td>\n",
              "      <td>42512.5</td>\n",
              "      <td>1</td>\n",
              "    </tr>\n",
              "    <tr>\n",
              "      <th>3</th>\n",
              "      <td>Gold</td>\n",
              "      <td>-20.771948</td>\n",
              "      <td>122.201825</td>\n",
              "      <td>Anketell Shelf</td>\n",
              "      <td>108.1</td>\n",
              "      <td>0.147234</td>\n",
              "      <td>159.16</td>\n",
              "      <td>21.0</td>\n",
              "      <td>0.44</td>\n",
              "      <td>159.16</td>\n",
              "      <td>9/10/2022</td>\n",
              "      <td>1700.5</td>\n",
              "      <td>35710.5</td>\n",
              "      <td>1</td>\n",
              "    </tr>\n",
              "    <tr>\n",
              "      <th>4</th>\n",
              "      <td>Gold</td>\n",
              "      <td>-20.771948</td>\n",
              "      <td>122.201825</td>\n",
              "      <td>Anketell Shelf</td>\n",
              "      <td>108.1</td>\n",
              "      <td>0.538936</td>\n",
              "      <td>58259.00</td>\n",
              "      <td>25.0</td>\n",
              "      <td>3.00</td>\n",
              "      <td>58259.00</td>\n",
              "      <td>22/10/2022</td>\n",
              "      <td>1651.0</td>\n",
              "      <td>41275.0</td>\n",
              "      <td>1</td>\n",
              "    </tr>\n",
              "  </tbody>\n",
              "</table>\n",
              "</div>\n",
              "      <button class=\"colab-df-convert\" onclick=\"convertToInteractive('df-bd1aac45-4d02-4e86-9601-672d4b4c780b')\"\n",
              "              title=\"Convert this dataframe to an interactive table.\"\n",
              "              style=\"display:none;\">\n",
              "        \n",
              "  <svg xmlns=\"http://www.w3.org/2000/svg\" height=\"24px\"viewBox=\"0 0 24 24\"\n",
              "       width=\"24px\">\n",
              "    <path d=\"M0 0h24v24H0V0z\" fill=\"none\"/>\n",
              "    <path d=\"M18.56 5.44l.94 2.06.94-2.06 2.06-.94-2.06-.94-.94-2.06-.94 2.06-2.06.94zm-11 1L8.5 8.5l.94-2.06 2.06-.94-2.06-.94L8.5 2.5l-.94 2.06-2.06.94zm10 10l.94 2.06.94-2.06 2.06-.94-2.06-.94-.94-2.06-.94 2.06-2.06.94z\"/><path d=\"M17.41 7.96l-1.37-1.37c-.4-.4-.92-.59-1.43-.59-.52 0-1.04.2-1.43.59L10.3 9.45l-7.72 7.72c-.78.78-.78 2.05 0 2.83L4 21.41c.39.39.9.59 1.41.59.51 0 1.02-.2 1.41-.59l7.78-7.78 2.81-2.81c.8-.78.8-2.07 0-2.86zM5.41 20L4 18.59l7.72-7.72 1.47 1.35L5.41 20z\"/>\n",
              "  </svg>\n",
              "      </button>\n",
              "      \n",
              "  <style>\n",
              "    .colab-df-container {\n",
              "      display:flex;\n",
              "      flex-wrap:wrap;\n",
              "      gap: 12px;\n",
              "    }\n",
              "\n",
              "    .colab-df-convert {\n",
              "      background-color: #E8F0FE;\n",
              "      border: none;\n",
              "      border-radius: 50%;\n",
              "      cursor: pointer;\n",
              "      display: none;\n",
              "      fill: #1967D2;\n",
              "      height: 32px;\n",
              "      padding: 0 0 0 0;\n",
              "      width: 32px;\n",
              "    }\n",
              "\n",
              "    .colab-df-convert:hover {\n",
              "      background-color: #E2EBFA;\n",
              "      box-shadow: 0px 1px 2px rgba(60, 64, 67, 0.3), 0px 1px 3px 1px rgba(60, 64, 67, 0.15);\n",
              "      fill: #174EA6;\n",
              "    }\n",
              "\n",
              "    [theme=dark] .colab-df-convert {\n",
              "      background-color: #3B4455;\n",
              "      fill: #D2E3FC;\n",
              "    }\n",
              "\n",
              "    [theme=dark] .colab-df-convert:hover {\n",
              "      background-color: #434B5C;\n",
              "      box-shadow: 0px 1px 3px 1px rgba(0, 0, 0, 0.15);\n",
              "      filter: drop-shadow(0px 1px 2px rgba(0, 0, 0, 0.3));\n",
              "      fill: #FFFFFF;\n",
              "    }\n",
              "  </style>\n",
              "\n",
              "      <script>\n",
              "        const buttonEl =\n",
              "          document.querySelector('#df-bd1aac45-4d02-4e86-9601-672d4b4c780b button.colab-df-convert');\n",
              "        buttonEl.style.display =\n",
              "          google.colab.kernel.accessAllowed ? 'block' : 'none';\n",
              "\n",
              "        async function convertToInteractive(key) {\n",
              "          const element = document.querySelector('#df-bd1aac45-4d02-4e86-9601-672d4b4c780b');\n",
              "          const dataTable =\n",
              "            await google.colab.kernel.invokeFunction('convertToInteractive',\n",
              "                                                     [key], {});\n",
              "          if (!dataTable) return;\n",
              "\n",
              "          const docLinkHtml = 'Like what you see? Visit the ' +\n",
              "            '<a target=\"_blank\" href=https://colab.research.google.com/notebooks/data_table.ipynb>data table notebook</a>'\n",
              "            + ' to learn more about interactive tables.';\n",
              "          element.innerHTML = '';\n",
              "          dataTable['output_type'] = 'display_data';\n",
              "          await google.colab.output.renderOutput(dataTable, element);\n",
              "          const docLink = document.createElement('div');\n",
              "          docLink.innerHTML = docLinkHtml;\n",
              "          element.appendChild(docLink);\n",
              "        }\n",
              "      </script>\n",
              "    </div>\n",
              "  </div>\n",
              "  "
            ]
          },
          "metadata": {},
          "execution_count": 76
        }
      ]
    },
    {
      "cell_type": "markdown",
      "source": [
        "Visualize Ore reserve locations "
      ],
      "metadata": {
        "id": "C4qknnFfdZi9"
      }
    },
    {
      "cell_type": "code",
      "source": [
        "df.plot(kind=\"scatter\", x=\"LONGITUDE\", y=\"LATITUDE\")"
      ],
      "metadata": {
        "id": "2eSz9x1RNA8U",
        "outputId": "03ac27e3-5fd7-4ba3-8c96-16dd8b83a577",
        "colab": {
          "base_uri": "https://localhost:8080/",
          "height": 296
        }
      },
      "execution_count": 77,
      "outputs": [
        {
          "output_type": "execute_result",
          "data": {
            "text/plain": [
              "<matplotlib.axes._subplots.AxesSubplot at 0x7f886cecf4d0>"
            ]
          },
          "metadata": {},
          "execution_count": 77
        },
        {
          "output_type": "display_data",
          "data": {
            "text/plain": [
              "<Figure size 432x288 with 1 Axes>"
            ],
            "image/png": "[encoded data removed]"
          },
          "metadata": {
            "needs_background": "light"
          }
        }
      ]
    },
    {
      "cell_type": "markdown",
      "source": [
        "**Check for Missing Data**"
      ],
      "metadata": {
        "id": "HtmDto3kPZJm"
      }
    },
    {
      "cell_type": "code",
      "source": [
        "# Checking the null values\n",
        "\n",
        "df.isna().any()"
      ],
      "metadata": {
        "id": "UNxsAJeXPhLb",
        "outputId": "0fd1570d-52cb-4b70-b7f4-7cc5ca69e3e9",
        "colab": {
          "base_uri": "https://localhost:8080/"
        }
      },
      "execution_count": 78,
      "outputs": [
        {
          "output_type": "execute_result",
          "data": {
            "text/plain": [
              "COMMODITY                 False\n",
              "LATITUDE                  False\n",
              "LONGITUDE                 False\n",
              "SITE                      False\n",
              "RES_QTY_MILLION_TONNES    False\n",
              "RES_QTY_GRAM_TONNE        False\n",
              "RES_CON_KILOGRAM          False\n",
              "RV_QTY_million_tonnes     False\n",
              "RV_QTY_G_GRAM_TONNE       False\n",
              "POINT_SIZE_KILOGRAM       False\n",
              "DATE                      False\n",
              "GOLD_PRICE_USD            False\n",
              "MINERAL_LAND_VALUE_USD    False\n",
              "COMM_CODE                 False\n",
              "dtype: bool"
            ]
          },
          "metadata": {},
          "execution_count": 78
        }
      ]
    },
    {
      "cell_type": "markdown",
      "source": [
        "Count the number of Null Values in Each Column"
      ],
      "metadata": {
        "id": "6jIvBdXiPrIE"
      }
    },
    {
      "cell_type": "code",
      "source": [
        "# Count number of null values in each columns\n",
        "\n",
        "df.isna().sum()"
      ],
      "metadata": {
        "id": "LTF1IjtGPx-Y",
        "outputId": "3c460291-d78e-437c-b99a-9db65a62746d",
        "colab": {
          "base_uri": "https://localhost:8080/"
        }
      },
      "execution_count": 79,
      "outputs": [
        {
          "output_type": "execute_result",
          "data": {
            "text/plain": [
              "COMMODITY                 0\n",
              "LATITUDE                  0\n",
              "LONGITUDE                 0\n",
              "SITE                      0\n",
              "RES_QTY_MILLION_TONNES    0\n",
              "RES_QTY_GRAM_TONNE        0\n",
              "RES_CON_KILOGRAM          0\n",
              "RV_QTY_million_tonnes     0\n",
              "RV_QTY_G_GRAM_TONNE       0\n",
              "POINT_SIZE_KILOGRAM       0\n",
              "DATE                      0\n",
              "GOLD_PRICE_USD            0\n",
              "MINERAL_LAND_VALUE_USD    0\n",
              "COMM_CODE                 0\n",
              "dtype: int64"
            ]
          },
          "metadata": {},
          "execution_count": 79
        }
      ]
    },
    {
      "cell_type": "markdown",
      "source": [
        "Drop NA Values if count is less than 5%"
      ],
      "metadata": {
        "id": "QlwLDoQdQEZS"
      }
    },
    {
      "cell_type": "code",
      "source": [
        "# We can drop the null value as their count is less than 5%\n",
        "\n",
        "df.dropna(inplace=True)"
      ],
      "metadata": {
        "id": "I_kiLVqPQKBt"
      },
      "execution_count": 80,
      "outputs": []
    },
    {
      "cell_type": "markdown",
      "source": [
        "**Remove variables not used for prediction**"
      ],
      "metadata": {
        "id": "UnhyxbyAtWP9"
      }
    },
    {
      "cell_type": "code",
      "source": [
        "df = df.drop([ \"SITE\",\"DATE\",\"LATITUDE\", \"LONGITUDE\",\"COMMODITY\"], axis =1)"
      ],
      "metadata": {
        "id": "K8XuCcCapRKb"
      },
      "execution_count": 81,
      "outputs": []
    },
    {
      "cell_type": "code",
      "source": [
        "df"
      ],
      "metadata": {
        "id": "kNILhM8Rsq9L",
        "outputId": "fe9f87b4-3a10-4983-bc44-ad1b57e80f4c",
        "colab": {
          "base_uri": "https://localhost:8080/",
          "height": 424
        }
      },
      "execution_count": 82,
      "outputs": [
        {
          "output_type": "execute_result",
          "data": {
            "text/plain": [
              "     RES_QTY_MILLION_TONNES  RES_QTY_GRAM_TONNE  RES_CON_KILOGRAM  \\\n",
              "0                     108.1            0.711064          76866.00   \n",
              "1                      92.0            0.235652            216.80   \n",
              "2                      92.0            1.857609         170900.00   \n",
              "3                     108.1            0.147234            159.16   \n",
              "4                     108.1            0.538936          58259.00   \n",
              "..                      ...                 ...               ...   \n",
              "899                   353.0            1.301275           4593.50   \n",
              "900                   353.0            0.041215         145490.00   \n",
              "901                   353.0            3.613626          12756.10   \n",
              "902                   353.0            0.181076            639.20   \n",
              "903                   353.0            0.652153           2302.10   \n",
              "\n",
              "     RV_QTY_million_tonnes  RV_QTY_G_GRAM_TONNE  POINT_SIZE_KILOGRAM  \\\n",
              "0                     23.0              0.44000             76866.00   \n",
              "1                     25.0              0.44000               326.80   \n",
              "2                     25.0              3.00000            245900.00   \n",
              "3                     21.0              0.44000               159.16   \n",
              "4                     25.0              3.00000             58259.00   \n",
              "..                     ...                  ...                  ...   \n",
              "899                  201.6              1.64821              4593.50   \n",
              "900                  201.6              1.64821            145490.00   \n",
              "901                  201.6              1.64821             12756.10   \n",
              "902                  201.6              1.64821               639.20   \n",
              "903                  201.6              1.64821              2302.10   \n",
              "\n",
              "     GOLD_PRICE_USD  MINERAL_LAND_VALUE_USD  COMM_CODE  \n",
              "0            1662.4                38235.20          1  \n",
              "1            1700.5                42512.50          1  \n",
              "2            1700.5                42512.50          1  \n",
              "3            1700.5                35710.50          1  \n",
              "4            1651.0                41275.00          1  \n",
              "..              ...                     ...        ...  \n",
              "899          1641.8               330986.88          3  \n",
              "900          1641.8               330986.88          3  \n",
              "901          1641.8               330986.88          3  \n",
              "902          1635.9               329797.44          3  \n",
              "903          1635.9               329797.44          3  \n",
              "\n",
              "[904 rows x 9 columns]"
            ],
            "text/html": [
              "\n",
              "  <div id=\"df-ca36d5c6-643a-402b-b204-45a9560d1a78\">\n",
              "    <div class=\"colab-df-container\">\n",
              "      <div>\n",
              "<style scoped>\n",
              "    .dataframe tbody tr th:only-of-type {\n",
              "        vertical-align: middle;\n",
              "    }\n",
              "\n",
              "    .dataframe tbody tr th {\n",
              "        vertical-align: top;\n",
              "    }\n",
              "\n",
              "    .dataframe thead th {\n",
              "        text-align: right;\n",
              "    }\n",
              "</style>\n",
              "<table border=\"1\" class=\"dataframe\">\n",
              "  <thead>\n",
              "    <tr style=\"text-align: right;\">\n",
              "      <th></th>\n",
              "      <th>RES_QTY_MILLION_TONNES</th>\n",
              "      <th>RES_QTY_GRAM_TONNE</th>\n",
              "      <th>RES_CON_KILOGRAM</th>\n",
              "      <th>RV_QTY_million_tonnes</th>\n",
              "      <th>RV_QTY_G_GRAM_TONNE</th>\n",
              "      <th>POINT_SIZE_KILOGRAM</th>\n",
              "      <th>GOLD_PRICE_USD</th>\n",
              "      <th>MINERAL_LAND_VALUE_USD</th>\n",
              "      <th>COMM_CODE</th>\n",
              "    </tr>\n",
              "  </thead>\n",
              "  <tbody>\n",
              "    <tr>\n",
              "      <th>0</th>\n",
              "      <td>108.1</td>\n",
              "      <td>0.711064</td>\n",
              "      <td>76866.00</td>\n",
              "      <td>23.0</td>\n",
              "      <td>0.44000</td>\n",
              "      <td>76866.00</td>\n",
              "      <td>1662.4</td>\n",
              "      <td>38235.20</td>\n",
              "      <td>1</td>\n",
              "    </tr>\n",
              "    <tr>\n",
              "      <th>1</th>\n",
              "      <td>92.0</td>\n",
              "      <td>0.235652</td>\n",
              "      <td>216.80</td>\n",
              "      <td>25.0</td>\n",
              "      <td>0.44000</td>\n",
              "      <td>326.80</td>\n",
              "      <td>1700.5</td>\n",
              "      <td>42512.50</td>\n",
              "      <td>1</td>\n",
              "    </tr>\n",
              "    <tr>\n",
              "      <th>2</th>\n",
              "      <td>92.0</td>\n",
              "      <td>1.857609</td>\n",
              "      <td>170900.00</td>\n",
              "      <td>25.0</td>\n",
              "      <td>3.00000</td>\n",
              "      <td>245900.00</td>\n",
              "      <td>1700.5</td>\n",
              "      <td>42512.50</td>\n",
              "      <td>1</td>\n",
              "    </tr>\n",
              "    <tr>\n",
              "      <th>3</th>\n",
              "      <td>108.1</td>\n",
              "      <td>0.147234</td>\n",
              "      <td>159.16</td>\n",
              "      <td>21.0</td>\n",
              "      <td>0.44000</td>\n",
              "      <td>159.16</td>\n",
              "      <td>1700.5</td>\n",
              "      <td>35710.50</td>\n",
              "      <td>1</td>\n",
              "    </tr>\n",
              "    <tr>\n",
              "      <th>4</th>\n",
              "      <td>108.1</td>\n",
              "      <td>0.538936</td>\n",
              "      <td>58259.00</td>\n",
              "      <td>25.0</td>\n",
              "      <td>3.00000</td>\n",
              "      <td>58259.00</td>\n",
              "      <td>1651.0</td>\n",
              "      <td>41275.00</td>\n",
              "      <td>1</td>\n",
              "    </tr>\n",
              "    <tr>\n",
              "      <th>...</th>\n",
              "      <td>...</td>\n",
              "      <td>...</td>\n",
              "      <td>...</td>\n",
              "      <td>...</td>\n",
              "      <td>...</td>\n",
              "      <td>...</td>\n",
              "      <td>...</td>\n",
              "      <td>...</td>\n",
              "      <td>...</td>\n",
              "    </tr>\n",
              "    <tr>\n",
              "      <th>899</th>\n",
              "      <td>353.0</td>\n",
              "      <td>1.301275</td>\n",
              "      <td>4593.50</td>\n",
              "      <td>201.6</td>\n",
              "      <td>1.64821</td>\n",
              "      <td>4593.50</td>\n",
              "      <td>1641.8</td>\n",
              "      <td>330986.88</td>\n",
              "      <td>3</td>\n",
              "    </tr>\n",
              "    <tr>\n",
              "      <th>900</th>\n",
              "      <td>353.0</td>\n",
              "      <td>0.041215</td>\n",
              "      <td>145490.00</td>\n",
              "      <td>201.6</td>\n",
              "      <td>1.64821</td>\n",
              "      <td>145490.00</td>\n",
              "      <td>1641.8</td>\n",
              "      <td>330986.88</td>\n",
              "      <td>3</td>\n",
              "    </tr>\n",
              "    <tr>\n",
              "      <th>901</th>\n",
              "      <td>353.0</td>\n",
              "      <td>3.613626</td>\n",
              "      <td>12756.10</td>\n",
              "      <td>201.6</td>\n",
              "      <td>1.64821</td>\n",
              "      <td>12756.10</td>\n",
              "      <td>1641.8</td>\n",
              "      <td>330986.88</td>\n",
              "      <td>3</td>\n",
              "    </tr>\n",
              "    <tr>\n",
              "      <th>902</th>\n",
              "      <td>353.0</td>\n",
              "      <td>0.181076</td>\n",
              "      <td>639.20</td>\n",
              "      <td>201.6</td>\n",
              "      <td>1.64821</td>\n",
              "      <td>639.20</td>\n",
              "      <td>1635.9</td>\n",
              "      <td>329797.44</td>\n",
              "      <td>3</td>\n",
              "    </tr>\n",
              "    <tr>\n",
              "      <th>903</th>\n",
              "      <td>353.0</td>\n",
              "      <td>0.652153</td>\n",
              "      <td>2302.10</td>\n",
              "      <td>201.6</td>\n",
              "      <td>1.64821</td>\n",
              "      <td>2302.10</td>\n",
              "      <td>1635.9</td>\n",
              "      <td>329797.44</td>\n",
              "      <td>3</td>\n",
              "    </tr>\n",
              "  </tbody>\n",
              "</table>\n",
              "<p>904 rows × 9 columns</p>\n",
              "</div>\n",
              "      <button class=\"colab-df-convert\" onclick=\"convertToInteractive('df-ca36d5c6-643a-402b-b204-45a9560d1a78')\"\n",
              "              title=\"Convert this dataframe to an interactive table.\"\n",
              "              style=\"display:none;\">\n",
              "        \n",
              "  <svg xmlns=\"http://www.w3.org/2000/svg\" height=\"24px\"viewBox=\"0 0 24 24\"\n",
              "       width=\"24px\">\n",
              "    <path d=\"M0 0h24v24H0V0z\" fill=\"none\"/>\n",
              "    <path d=\"M18.56 5.44l.94 2.06.94-2.06 2.06-.94-2.06-.94-.94-2.06-.94 2.06-2.06.94zm-11 1L8.5 8.5l.94-2.06 2.06-.94-2.06-.94L8.5 2.5l-.94 2.06-2.06.94zm10 10l.94 2.06.94-2.06 2.06-.94-2.06-.94-.94-2.06-.94 2.06-2.06.94z\"/><path d=\"M17.41 7.96l-1.37-1.37c-.4-.4-.92-.59-1.43-.59-.52 0-1.04.2-1.43.59L10.3 9.45l-7.72 7.72c-.78.78-.78 2.05 0 2.83L4 21.41c.39.39.9.59 1.41.59.51 0 1.02-.2 1.41-.59l7.78-7.78 2.81-2.81c.8-.78.8-2.07 0-2.86zM5.41 20L4 18.59l7.72-7.72 1.47 1.35L5.41 20z\"/>\n",
              "  </svg>\n",
              "      </button>\n",
              "      \n",
              "  <style>\n",
              "    .colab-df-container {\n",
              "      display:flex;\n",
              "      flex-wrap:wrap;\n",
              "      gap: 12px;\n",
              "    }\n",
              "\n",
              "    .colab-df-convert {\n",
              "      background-color: #E8F0FE;\n",
              "      border: none;\n",
              "      border-radius: 50%;\n",
              "      cursor: pointer;\n",
              "      display: none;\n",
              "      fill: #1967D2;\n",
              "      height: 32px;\n",
              "      padding: 0 0 0 0;\n",
              "      width: 32px;\n",
              "    }\n",
              "\n",
              "    .colab-df-convert:hover {\n",
              "      background-color: #E2EBFA;\n",
              "      box-shadow: 0px 1px 2px rgba(60, 64, 67, 0.3), 0px 1px 3px 1px rgba(60, 64, 67, 0.15);\n",
              "      fill: #174EA6;\n",
              "    }\n",
              "\n",
              "    [theme=dark] .colab-df-convert {\n",
              "      background-color: #3B4455;\n",
              "      fill: #D2E3FC;\n",
              "    }\n",
              "\n",
              "    [theme=dark] .colab-df-convert:hover {\n",
              "      background-color: #434B5C;\n",
              "      box-shadow: 0px 1px 3px 1px rgba(0, 0, 0, 0.15);\n",
              "      filter: drop-shadow(0px 1px 2px rgba(0, 0, 0, 0.3));\n",
              "      fill: #FFFFFF;\n",
              "    }\n",
              "  </style>\n",
              "\n",
              "      <script>\n",
              "        const buttonEl =\n",
              "          document.querySelector('#df-ca36d5c6-643a-402b-b204-45a9560d1a78 button.colab-df-convert');\n",
              "        buttonEl.style.display =\n",
              "          google.colab.kernel.accessAllowed ? 'block' : 'none';\n",
              "\n",
              "        async function convertToInteractive(key) {\n",
              "          const element = document.querySelector('#df-ca36d5c6-643a-402b-b204-45a9560d1a78');\n",
              "          const dataTable =\n",
              "            await google.colab.kernel.invokeFunction('convertToInteractive',\n",
              "                                                     [key], {});\n",
              "          if (!dataTable) return;\n",
              "\n",
              "          const docLinkHtml = 'Like what you see? Visit the ' +\n",
              "            '<a target=\"_blank\" href=https://colab.research.google.com/notebooks/data_table.ipynb>data table notebook</a>'\n",
              "            + ' to learn more about interactive tables.';\n",
              "          element.innerHTML = '';\n",
              "          dataTable['output_type'] = 'display_data';\n",
              "          await google.colab.output.renderOutput(dataTable, element);\n",
              "          const docLink = document.createElement('div');\n",
              "          docLink.innerHTML = docLinkHtml;\n",
              "          element.appendChild(docLink);\n",
              "        }\n",
              "      </script>\n",
              "    </div>\n",
              "  </div>\n",
              "  "
            ]
          },
          "metadata": {},
          "execution_count": 82
        }
      ]
    },
    {
      "cell_type": "markdown",
      "source": [
        "**Data Normalization**"
      ],
      "metadata": {
        "id": "eJf92-tEC82T"
      }
    },
    {
      "cell_type": "code",
      "source": [
        "#df = df.iloc[:,1:]\n",
        "df_norm=(df-df.mean())/df.std()\n",
        "df_norm.head()"
      ],
      "metadata": {
        "colab": {
          "base_uri": "https://localhost:8080/",
          "height": 206
        },
        "id": "ZGkW2OnNDIxh",
        "outputId": "b017e7a5-9011-4ad0-871d-e2bdac3b7b21"
      },
      "execution_count": 83,
      "outputs": [
        {
          "output_type": "execute_result",
          "data": {
            "text/plain": [
              "   RES_QTY_MILLION_TONNES  RES_QTY_GRAM_TONNE  RES_CON_KILOGRAM  \\\n",
              "0               -0.178029           -0.518005          0.198306   \n",
              "1               -0.183591           -0.545184         -0.159650   \n",
              "2               -0.183591           -0.452459          0.637451   \n",
              "3               -0.178029           -0.550239         -0.159919   \n",
              "4               -0.178029           -0.527846          0.111410   \n",
              "\n",
              "   RV_QTY_million_tonnes  RV_QTY_G_GRAM_TONNE  POINT_SIZE_KILOGRAM  \\\n",
              "0              -0.267079            -0.492902             0.167098   \n",
              "1              -0.262374            -0.492902            -0.175473   \n",
              "2              -0.262374            -0.345910             0.923653   \n",
              "3              -0.271783            -0.492902            -0.176224   \n",
              "4              -0.262374            -0.345910             0.083817   \n",
              "\n",
              "   GOLD_PRICE_USD  MINERAL_LAND_VALUE_USD  COMM_CODE  \n",
              "0       -0.150257               -0.266831  -1.239117  \n",
              "1        0.593618               -0.260856  -1.239117  \n",
              "2        0.593618               -0.260856  -1.239117  \n",
              "3        0.593618               -0.270357  -1.239117  \n",
              "4       -0.372834               -0.262585  -1.239117  "
            ],
            "text/html": [
              "\n",
              "  <div id=\"df-ed5bfe1e-f23b-4f23-9273-d603e8ce1e84\">\n",
              "    <div class=\"colab-df-container\">\n",
              "      <div>\n",
              "<style scoped>\n",
              "    .dataframe tbody tr th:only-of-type {\n",
              "        vertical-align: middle;\n",
              "    }\n",
              "\n",
              "    .dataframe tbody tr th {\n",
              "        vertical-align: top;\n",
              "    }\n",
              "\n",
              "    .dataframe thead th {\n",
              "        text-align: right;\n",
              "    }\n",
              "</style>\n",
              "<table border=\"1\" class=\"dataframe\">\n",
              "  <thead>\n",
              "    <tr style=\"text-align: right;\">\n",
              "      <th></th>\n",
              "      <th>RES_QTY_MILLION_TONNES</th>\n",
              "      <th>RES_QTY_GRAM_TONNE</th>\n",
              "      <th>RES_CON_KILOGRAM</th>\n",
              "      <th>RV_QTY_million_tonnes</th>\n",
              "      <th>RV_QTY_G_GRAM_TONNE</th>\n",
              "      <th>POINT_SIZE_KILOGRAM</th>\n",
              "      <th>GOLD_PRICE_USD</th>\n",
              "      <th>MINERAL_LAND_VALUE_USD</th>\n",
              "      <th>COMM_CODE</th>\n",
              "    </tr>\n",
              "  </thead>\n",
              "  <tbody>\n",
              "    <tr>\n",
              "      <th>0</th>\n",
              "      <td>-0.178029</td>\n",
              "      <td>-0.518005</td>\n",
              "      <td>0.198306</td>\n",
              "      <td>-0.267079</td>\n",
              "      <td>-0.492902</td>\n",
              "      <td>0.167098</td>\n",
              "      <td>-0.150257</td>\n",
              "      <td>-0.266831</td>\n",
              "      <td>-1.239117</td>\n",
              "    </tr>\n",
              "    <tr>\n",
              "      <th>1</th>\n",
              "      <td>-0.183591</td>\n",
              "      <td>-0.545184</td>\n",
              "      <td>-0.159650</td>\n",
              "      <td>-0.262374</td>\n",
              "      <td>-0.492902</td>\n",
              "      <td>-0.175473</td>\n",
              "      <td>0.593618</td>\n",
              "      <td>-0.260856</td>\n",
              "      <td>-1.239117</td>\n",
              "    </tr>\n",
              "    <tr>\n",
              "      <th>2</th>\n",
              "      <td>-0.183591</td>\n",
              "      <td>-0.452459</td>\n",
              "      <td>0.637451</td>\n",
              "      <td>-0.262374</td>\n",
              "      <td>-0.345910</td>\n",
              "      <td>0.923653</td>\n",
              "      <td>0.593618</td>\n",
              "      <td>-0.260856</td>\n",
              "      <td>-1.239117</td>\n",
              "    </tr>\n",
              "    <tr>\n",
              "      <th>3</th>\n",
              "      <td>-0.178029</td>\n",
              "      <td>-0.550239</td>\n",
              "      <td>-0.159919</td>\n",
              "      <td>-0.271783</td>\n",
              "      <td>-0.492902</td>\n",
              "      <td>-0.176224</td>\n",
              "      <td>0.593618</td>\n",
              "      <td>-0.270357</td>\n",
              "      <td>-1.239117</td>\n",
              "    </tr>\n",
              "    <tr>\n",
              "      <th>4</th>\n",
              "      <td>-0.178029</td>\n",
              "      <td>-0.527846</td>\n",
              "      <td>0.111410</td>\n",
              "      <td>-0.262374</td>\n",
              "      <td>-0.345910</td>\n",
              "      <td>0.083817</td>\n",
              "      <td>-0.372834</td>\n",
              "      <td>-0.262585</td>\n",
              "      <td>-1.239117</td>\n",
              "    </tr>\n",
              "  </tbody>\n",
              "</table>\n",
              "</div>\n",
              "      <button class=\"colab-df-convert\" onclick=\"convertToInteractive('df-ed5bfe1e-f23b-4f23-9273-d603e8ce1e84')\"\n",
              "              title=\"Convert this dataframe to an interactive table.\"\n",
              "              style=\"display:none;\">\n",
              "        \n",
              "  <svg xmlns=\"http://www.w3.org/2000/svg\" height=\"24px\"viewBox=\"0 0 24 24\"\n",
              "       width=\"24px\">\n",
              "    <path d=\"M0 0h24v24H0V0z\" fill=\"none\"/>\n",
              "    <path d=\"M18.56 5.44l.94 2.06.94-2.06 2.06-.94-2.06-.94-.94-2.06-.94 2.06-2.06.94zm-11 1L8.5 8.5l.94-2.06 2.06-.94-2.06-.94L8.5 2.5l-.94 2.06-2.06.94zm10 10l.94 2.06.94-2.06 2.06-.94-2.06-.94-.94-2.06-.94 2.06-2.06.94z\"/><path d=\"M17.41 7.96l-1.37-1.37c-.4-.4-.92-.59-1.43-.59-.52 0-1.04.2-1.43.59L10.3 9.45l-7.72 7.72c-.78.78-.78 2.05 0 2.83L4 21.41c.39.39.9.59 1.41.59.51 0 1.02-.2 1.41-.59l7.78-7.78 2.81-2.81c.8-.78.8-2.07 0-2.86zM5.41 20L4 18.59l7.72-7.72 1.47 1.35L5.41 20z\"/>\n",
              "  </svg>\n",
              "      </button>\n",
              "      \n",
              "  <style>\n",
              "    .colab-df-container {\n",
              "      display:flex;\n",
              "      flex-wrap:wrap;\n",
              "      gap: 12px;\n",
              "    }\n",
              "\n",
              "    .colab-df-convert {\n",
              "      background-color: #E8F0FE;\n",
              "      border: none;\n",
              "      border-radius: 50%;\n",
              "      cursor: pointer;\n",
              "      display: none;\n",
              "      fill: #1967D2;\n",
              "      height: 32px;\n",
              "      padding: 0 0 0 0;\n",
              "      width: 32px;\n",
              "    }\n",
              "\n",
              "    .colab-df-convert:hover {\n",
              "      background-color: #E2EBFA;\n",
              "      box-shadow: 0px 1px 2px rgba(60, 64, 67, 0.3), 0px 1px 3px 1px rgba(60, 64, 67, 0.15);\n",
              "      fill: #174EA6;\n",
              "    }\n",
              "\n",
              "    [theme=dark] .colab-df-convert {\n",
              "      background-color: #3B4455;\n",
              "      fill: #D2E3FC;\n",
              "    }\n",
              "\n",
              "    [theme=dark] .colab-df-convert:hover {\n",
              "      background-color: #434B5C;\n",
              "      box-shadow: 0px 1px 3px 1px rgba(0, 0, 0, 0.15);\n",
              "      filter: drop-shadow(0px 1px 2px rgba(0, 0, 0, 0.3));\n",
              "      fill: #FFFFFF;\n",
              "    }\n",
              "  </style>\n",
              "\n",
              "      <script>\n",
              "        const buttonEl =\n",
              "          document.querySelector('#df-ed5bfe1e-f23b-4f23-9273-d603e8ce1e84 button.colab-df-convert');\n",
              "        buttonEl.style.display =\n",
              "          google.colab.kernel.accessAllowed ? 'block' : 'none';\n",
              "\n",
              "        async function convertToInteractive(key) {\n",
              "          const element = document.querySelector('#df-ed5bfe1e-f23b-4f23-9273-d603e8ce1e84');\n",
              "          const dataTable =\n",
              "            await google.colab.kernel.invokeFunction('convertToInteractive',\n",
              "                                                     [key], {});\n",
              "          if (!dataTable) return;\n",
              "\n",
              "          const docLinkHtml = 'Like what you see? Visit the ' +\n",
              "            '<a target=\"_blank\" href=https://colab.research.google.com/notebooks/data_table.ipynb>data table notebook</a>'\n",
              "            + ' to learn more about interactive tables.';\n",
              "          element.innerHTML = '';\n",
              "          dataTable['output_type'] = 'display_data';\n",
              "          await google.colab.output.renderOutput(dataTable, element);\n",
              "          const docLink = document.createElement('div');\n",
              "          docLink.innerHTML = docLinkHtml;\n",
              "          element.appendChild(docLink);\n",
              "        }\n",
              "      </script>\n",
              "    </div>\n",
              "  </div>\n",
              "  "
            ]
          },
          "metadata": {},
          "execution_count": 83
        }
      ]
    },
    {
      "cell_type": "markdown",
      "source": [
        "**Code to convert predictiving value (Mineral_Land_Value_USD_Millions) back into price value from normalization**"
      ],
      "metadata": {
        "id": "WKFY9oHhEYtA"
      }
    },
    {
      "cell_type": "code",
      "source": [
        "y_mean = df['MINERAL_LAND_VALUE_USD'].mean()\n",
        "y_std = df['MINERAL_LAND_VALUE_USD'].std()\n",
        "\n",
        "def convert_label_value(pred): \n",
        "  return int(pred*y_std+y_mean)\n",
        "print(convert_label_value (-0.266831)) # Validating function"
      ],
      "metadata": {
        "colab": {
          "base_uri": "https://localhost:8080/"
        },
        "id": "bSidI8p3EX78",
        "outputId": "88cf6304-974f-4259-ca8c-bd7ff499ed39"
      },
      "execution_count": 84,
      "outputs": [
        {
          "output_type": "stream",
          "name": "stdout",
          "text": [
            "38234\n"
          ]
        }
      ]
    },
    {
      "cell_type": "markdown",
      "source": [
        "**Select Features**"
      ],
      "metadata": {
        "id": "gDdzRseTF9vB"
      }
    },
    {
      "cell_type": "code",
      "source": [
        "X = df_norm.drop(columns='MINERAL_LAND_VALUE_USD')\n",
        "X.head()"
      ],
      "metadata": {
        "colab": {
          "base_uri": "https://localhost:8080/",
          "height": 206
        },
        "id": "VnYJ65QAF8Gz",
        "outputId": "1fe41203-5a46-47ae-d234-ca0b25a865af"
      },
      "execution_count": 85,
      "outputs": [
        {
          "output_type": "execute_result",
          "data": {
            "text/plain": [
              "   RES_QTY_MILLION_TONNES  RES_QTY_GRAM_TONNE  RES_CON_KILOGRAM  \\\n",
              "0               -0.178029           -0.518005          0.198306   \n",
              "1               -0.183591           -0.545184         -0.159650   \n",
              "2               -0.183591           -0.452459          0.637451   \n",
              "3               -0.178029           -0.550239         -0.159919   \n",
              "4               -0.178029           -0.527846          0.111410   \n",
              "\n",
              "   RV_QTY_million_tonnes  RV_QTY_G_GRAM_TONNE  POINT_SIZE_KILOGRAM  \\\n",
              "0              -0.267079            -0.492902             0.167098   \n",
              "1              -0.262374            -0.492902            -0.175473   \n",
              "2              -0.262374            -0.345910             0.923653   \n",
              "3              -0.271783            -0.492902            -0.176224   \n",
              "4              -0.262374            -0.345910             0.083817   \n",
              "\n",
              "   GOLD_PRICE_USD  COMM_CODE  \n",
              "0       -0.150257  -1.239117  \n",
              "1        0.593618  -1.239117  \n",
              "2        0.593618  -1.239117  \n",
              "3        0.593618  -1.239117  \n",
              "4       -0.372834  -1.239117  "
            ],
            "text/html": [
              "\n",
              "  <div id=\"df-7dfaa0e9-1731-4f61-bc7a-7f777c9c3559\">\n",
              "    <div class=\"colab-df-container\">\n",
              "      <div>\n",
              "<style scoped>\n",
              "    .dataframe tbody tr th:only-of-type {\n",
              "        vertical-align: middle;\n",
              "    }\n",
              "\n",
              "    .dataframe tbody tr th {\n",
              "        vertical-align: top;\n",
              "    }\n",
              "\n",
              "    .dataframe thead th {\n",
              "        text-align: right;\n",
              "    }\n",
              "</style>\n",
              "<table border=\"1\" class=\"dataframe\">\n",
              "  <thead>\n",
              "    <tr style=\"text-align: right;\">\n",
              "      <th></th>\n",
              "      <th>RES_QTY_MILLION_TONNES</th>\n",
              "      <th>RES_QTY_GRAM_TONNE</th>\n",
              "      <th>RES_CON_KILOGRAM</th>\n",
              "      <th>RV_QTY_million_tonnes</th>\n",
              "      <th>RV_QTY_G_GRAM_TONNE</th>\n",
              "      <th>POINT_SIZE_KILOGRAM</th>\n",
              "      <th>GOLD_PRICE_USD</th>\n",
              "      <th>COMM_CODE</th>\n",
              "    </tr>\n",
              "  </thead>\n",
              "  <tbody>\n",
              "    <tr>\n",
              "      <th>0</th>\n",
              "      <td>-0.178029</td>\n",
              "      <td>-0.518005</td>\n",
              "      <td>0.198306</td>\n",
              "      <td>-0.267079</td>\n",
              "      <td>-0.492902</td>\n",
              "      <td>0.167098</td>\n",
              "      <td>-0.150257</td>\n",
              "      <td>-1.239117</td>\n",
              "    </tr>\n",
              "    <tr>\n",
              "      <th>1</th>\n",
              "      <td>-0.183591</td>\n",
              "      <td>-0.545184</td>\n",
              "      <td>-0.159650</td>\n",
              "      <td>-0.262374</td>\n",
              "      <td>-0.492902</td>\n",
              "      <td>-0.175473</td>\n",
              "      <td>0.593618</td>\n",
              "      <td>-1.239117</td>\n",
              "    </tr>\n",
              "    <tr>\n",
              "      <th>2</th>\n",
              "      <td>-0.183591</td>\n",
              "      <td>-0.452459</td>\n",
              "      <td>0.637451</td>\n",
              "      <td>-0.262374</td>\n",
              "      <td>-0.345910</td>\n",
              "      <td>0.923653</td>\n",
              "      <td>0.593618</td>\n",
              "      <td>-1.239117</td>\n",
              "    </tr>\n",
              "    <tr>\n",
              "      <th>3</th>\n",
              "      <td>-0.178029</td>\n",
              "      <td>-0.550239</td>\n",
              "      <td>-0.159919</td>\n",
              "      <td>-0.271783</td>\n",
              "      <td>-0.492902</td>\n",
              "      <td>-0.176224</td>\n",
              "      <td>0.593618</td>\n",
              "      <td>-1.239117</td>\n",
              "    </tr>\n",
              "    <tr>\n",
              "      <th>4</th>\n",
              "      <td>-0.178029</td>\n",
              "      <td>-0.527846</td>\n",
              "      <td>0.111410</td>\n",
              "      <td>-0.262374</td>\n",
              "      <td>-0.345910</td>\n",
              "      <td>0.083817</td>\n",
              "      <td>-0.372834</td>\n",
              "      <td>-1.239117</td>\n",
              "    </tr>\n",
              "  </tbody>\n",
              "</table>\n",
              "</div>\n",
              "      <button class=\"colab-df-convert\" onclick=\"convertToInteractive('df-7dfaa0e9-1731-4f61-bc7a-7f777c9c3559')\"\n",
              "              title=\"Convert this dataframe to an interactive table.\"\n",
              "              style=\"display:none;\">\n",
              "        \n",
              "  <svg xmlns=\"http://www.w3.org/2000/svg\" height=\"24px\"viewBox=\"0 0 24 24\"\n",
              "       width=\"24px\">\n",
              "    <path d=\"M0 0h24v24H0V0z\" fill=\"none\"/>\n",
              "    <path d=\"M18.56 5.44l.94 2.06.94-2.06 2.06-.94-2.06-.94-.94-2.06-.94 2.06-2.06.94zm-11 1L8.5 8.5l.94-2.06 2.06-.94-2.06-.94L8.5 2.5l-.94 2.06-2.06.94zm10 10l.94 2.06.94-2.06 2.06-.94-2.06-.94-.94-2.06-.94 2.06-2.06.94z\"/><path d=\"M17.41 7.96l-1.37-1.37c-.4-.4-.92-.59-1.43-.59-.52 0-1.04.2-1.43.59L10.3 9.45l-7.72 7.72c-.78.78-.78 2.05 0 2.83L4 21.41c.39.39.9.59 1.41.59.51 0 1.02-.2 1.41-.59l7.78-7.78 2.81-2.81c.8-.78.8-2.07 0-2.86zM5.41 20L4 18.59l7.72-7.72 1.47 1.35L5.41 20z\"/>\n",
              "  </svg>\n",
              "      </button>\n",
              "      \n",
              "  <style>\n",
              "    .colab-df-container {\n",
              "      display:flex;\n",
              "      flex-wrap:wrap;\n",
              "      gap: 12px;\n",
              "    }\n",
              "\n",
              "    .colab-df-convert {\n",
              "      background-color: #E8F0FE;\n",
              "      border: none;\n",
              "      border-radius: 50%;\n",
              "      cursor: pointer;\n",
              "      display: none;\n",
              "      fill: #1967D2;\n",
              "      height: 32px;\n",
              "      padding: 0 0 0 0;\n",
              "      width: 32px;\n",
              "    }\n",
              "\n",
              "    .colab-df-convert:hover {\n",
              "      background-color: #E2EBFA;\n",
              "      box-shadow: 0px 1px 2px rgba(60, 64, 67, 0.3), 0px 1px 3px 1px rgba(60, 64, 67, 0.15);\n",
              "      fill: #174EA6;\n",
              "    }\n",
              "\n",
              "    [theme=dark] .colab-df-convert {\n",
              "      background-color: #3B4455;\n",
              "      fill: #D2E3FC;\n",
              "    }\n",
              "\n",
              "    [theme=dark] .colab-df-convert:hover {\n",
              "      background-color: #434B5C;\n",
              "      box-shadow: 0px 1px 3px 1px rgba(0, 0, 0, 0.15);\n",
              "      filter: drop-shadow(0px 1px 2px rgba(0, 0, 0, 0.3));\n",
              "      fill: #FFFFFF;\n",
              "    }\n",
              "  </style>\n",
              "\n",
              "      <script>\n",
              "        const buttonEl =\n",
              "          document.querySelector('#df-7dfaa0e9-1731-4f61-bc7a-7f777c9c3559 button.colab-df-convert');\n",
              "        buttonEl.style.display =\n",
              "          google.colab.kernel.accessAllowed ? 'block' : 'none';\n",
              "\n",
              "        async function convertToInteractive(key) {\n",
              "          const element = document.querySelector('#df-7dfaa0e9-1731-4f61-bc7a-7f777c9c3559');\n",
              "          const dataTable =\n",
              "            await google.colab.kernel.invokeFunction('convertToInteractive',\n",
              "                                                     [key], {});\n",
              "          if (!dataTable) return;\n",
              "\n",
              "          const docLinkHtml = 'Like what you see? Visit the ' +\n",
              "            '<a target=\"_blank\" href=https://colab.research.google.com/notebooks/data_table.ipynb>data table notebook</a>'\n",
              "            + ' to learn more about interactive tables.';\n",
              "          element.innerHTML = '';\n",
              "          dataTable['output_type'] = 'display_data';\n",
              "          await google.colab.output.renderOutput(dataTable, element);\n",
              "          const docLink = document.createElement('div');\n",
              "          docLink.innerHTML = docLinkHtml;\n",
              "          element.appendChild(docLink);\n",
              "        }\n",
              "      </script>\n",
              "    </div>\n",
              "  </div>\n",
              "  "
            ]
          },
          "metadata": {},
          "execution_count": 85
        }
      ]
    },
    {
      "cell_type": "markdown",
      "source": [
        "**Select Labels**"
      ],
      "metadata": {
        "id": "bOcJrTIlGhvF"
      }
    },
    {
      "cell_type": "code",
      "source": [
        "Y = df_norm[['MINERAL_LAND_VALUE_USD']]\n",
        "Y.head()"
      ],
      "metadata": {
        "colab": {
          "base_uri": "https://localhost:8080/",
          "height": 206
        },
        "id": "T3T3cutHGlAn",
        "outputId": "7527f600-744c-45ee-f23d-e5ccc0891f4c"
      },
      "execution_count": 86,
      "outputs": [
        {
          "output_type": "execute_result",
          "data": {
            "text/plain": [
              "   MINERAL_LAND_VALUE_USD\n",
              "0               -0.266831\n",
              "1               -0.260856\n",
              "2               -0.260856\n",
              "3               -0.270357\n",
              "4               -0.262585"
            ],
            "text/html": [
              "\n",
              "  <div id=\"df-6b7ac748-53a0-47eb-8ea3-848feb9f67cc\">\n",
              "    <div class=\"colab-df-container\">\n",
              "      <div>\n",
              "<style scoped>\n",
              "    .dataframe tbody tr th:only-of-type {\n",
              "        vertical-align: middle;\n",
              "    }\n",
              "\n",
              "    .dataframe tbody tr th {\n",
              "        vertical-align: top;\n",
              "    }\n",
              "\n",
              "    .dataframe thead th {\n",
              "        text-align: right;\n",
              "    }\n",
              "</style>\n",
              "<table border=\"1\" class=\"dataframe\">\n",
              "  <thead>\n",
              "    <tr style=\"text-align: right;\">\n",
              "      <th></th>\n",
              "      <th>MINERAL_LAND_VALUE_USD</th>\n",
              "    </tr>\n",
              "  </thead>\n",
              "  <tbody>\n",
              "    <tr>\n",
              "      <th>0</th>\n",
              "      <td>-0.266831</td>\n",
              "    </tr>\n",
              "    <tr>\n",
              "      <th>1</th>\n",
              "      <td>-0.260856</td>\n",
              "    </tr>\n",
              "    <tr>\n",
              "      <th>2</th>\n",
              "      <td>-0.260856</td>\n",
              "    </tr>\n",
              "    <tr>\n",
              "      <th>3</th>\n",
              "      <td>-0.270357</td>\n",
              "    </tr>\n",
              "    <tr>\n",
              "      <th>4</th>\n",
              "      <td>-0.262585</td>\n",
              "    </tr>\n",
              "  </tbody>\n",
              "</table>\n",
              "</div>\n",
              "      <button class=\"colab-df-convert\" onclick=\"convertToInteractive('df-6b7ac748-53a0-47eb-8ea3-848feb9f67cc')\"\n",
              "              title=\"Convert this dataframe to an interactive table.\"\n",
              "              style=\"display:none;\">\n",
              "        \n",
              "  <svg xmlns=\"http://www.w3.org/2000/svg\" height=\"24px\"viewBox=\"0 0 24 24\"\n",
              "       width=\"24px\">\n",
              "    <path d=\"M0 0h24v24H0V0z\" fill=\"none\"/>\n",
              "    <path d=\"M18.56 5.44l.94 2.06.94-2.06 2.06-.94-2.06-.94-.94-2.06-.94 2.06-2.06.94zm-11 1L8.5 8.5l.94-2.06 2.06-.94-2.06-.94L8.5 2.5l-.94 2.06-2.06.94zm10 10l.94 2.06.94-2.06 2.06-.94-2.06-.94-.94-2.06-.94 2.06-2.06.94z\"/><path d=\"M17.41 7.96l-1.37-1.37c-.4-.4-.92-.59-1.43-.59-.52 0-1.04.2-1.43.59L10.3 9.45l-7.72 7.72c-.78.78-.78 2.05 0 2.83L4 21.41c.39.39.9.59 1.41.59.51 0 1.02-.2 1.41-.59l7.78-7.78 2.81-2.81c.8-.78.8-2.07 0-2.86zM5.41 20L4 18.59l7.72-7.72 1.47 1.35L5.41 20z\"/>\n",
              "  </svg>\n",
              "      </button>\n",
              "      \n",
              "  <style>\n",
              "    .colab-df-container {\n",
              "      display:flex;\n",
              "      flex-wrap:wrap;\n",
              "      gap: 12px;\n",
              "    }\n",
              "\n",
              "    .colab-df-convert {\n",
              "      background-color: #E8F0FE;\n",
              "      border: none;\n",
              "      border-radius: 50%;\n",
              "      cursor: pointer;\n",
              "      display: none;\n",
              "      fill: #1967D2;\n",
              "      height: 32px;\n",
              "      padding: 0 0 0 0;\n",
              "      width: 32px;\n",
              "    }\n",
              "\n",
              "    .colab-df-convert:hover {\n",
              "      background-color: #E2EBFA;\n",
              "      box-shadow: 0px 1px 2px rgba(60, 64, 67, 0.3), 0px 1px 3px 1px rgba(60, 64, 67, 0.15);\n",
              "      fill: #174EA6;\n",
              "    }\n",
              "\n",
              "    [theme=dark] .colab-df-convert {\n",
              "      background-color: #3B4455;\n",
              "      fill: #D2E3FC;\n",
              "    }\n",
              "\n",
              "    [theme=dark] .colab-df-convert:hover {\n",
              "      background-color: #434B5C;\n",
              "      box-shadow: 0px 1px 3px 1px rgba(0, 0, 0, 0.15);\n",
              "      filter: drop-shadow(0px 1px 2px rgba(0, 0, 0, 0.3));\n",
              "      fill: #FFFFFF;\n",
              "    }\n",
              "  </style>\n",
              "\n",
              "      <script>\n",
              "        const buttonEl =\n",
              "          document.querySelector('#df-6b7ac748-53a0-47eb-8ea3-848feb9f67cc button.colab-df-convert');\n",
              "        buttonEl.style.display =\n",
              "          google.colab.kernel.accessAllowed ? 'block' : 'none';\n",
              "\n",
              "        async function convertToInteractive(key) {\n",
              "          const element = document.querySelector('#df-6b7ac748-53a0-47eb-8ea3-848feb9f67cc');\n",
              "          const dataTable =\n",
              "            await google.colab.kernel.invokeFunction('convertToInteractive',\n",
              "                                                     [key], {});\n",
              "          if (!dataTable) return;\n",
              "\n",
              "          const docLinkHtml = 'Like what you see? Visit the ' +\n",
              "            '<a target=\"_blank\" href=https://colab.research.google.com/notebooks/data_table.ipynb>data table notebook</a>'\n",
              "            + ' to learn more about interactive tables.';\n",
              "          element.innerHTML = '';\n",
              "          dataTable['output_type'] = 'display_data';\n",
              "          await google.colab.output.renderOutput(dataTable, element);\n",
              "          const docLink = document.createElement('div');\n",
              "          docLink.innerHTML = docLinkHtml;\n",
              "          element.appendChild(docLink);\n",
              "        }\n",
              "      </script>\n",
              "    </div>\n",
              "  </div>\n",
              "  "
            ]
          },
          "metadata": {},
          "execution_count": 86
        }
      ]
    },
    {
      "cell_type": "markdown",
      "source": [
        "**Data Partitioning**\n",
        "\n",
        "Split Data into Training and Test set. 80& and 20% respectively.\n",
        "\n"
      ],
      "metadata": {
        "id": "o41Bp0esTjiO"
      }
    },
    {
      "cell_type": "code",
      "source": [
        "x_train,x_test,y_train,y_test=train_test_split(X,Y, test_size=0.2, random_state=0)\n",
        "print(x_train.shape,y_train.shape)\n",
        "print(x_test.shape,y_test.shape)"
      ],
      "metadata": {
        "id": "IkuDo0V2ouIR",
        "colab": {
          "base_uri": "https://localhost:8080/"
        },
        "outputId": "751aac81-8c5f-4c29-b753-4b874c5889bd"
      },
      "execution_count": 87,
      "outputs": [
        {
          "output_type": "stream",
          "name": "stdout",
          "text": [
            "(723, 8) (723, 1)\n",
            "(181, 8) (181, 1)\n"
          ]
        }
      ]
    },
    {
      "cell_type": "markdown",
      "source": [
        "**Create DNN Model**"
      ],
      "metadata": {
        "id": "-ljP3_EEKDFq"
      }
    },
    {
      "cell_type": "code",
      "source": [
        "\n",
        "    model = tf.keras.models.Sequential([\n",
        "        tf.keras.layers.Dense(8,input_shape = (8,), activation = 'relu'),\n",
        "        tf.keras.layers.Dense(8,activation = 'relu'),\n",
        "      tf.keras.layers.Dense(5,activation = 'relu'),\n",
        "        tf.keras.layers.Dense(1)])\n",
        "    model.compile(loss = 'mse', optimizer = 'adam')\n",
        "    \n",
        "\n",
        "   \n",
        "\n",
        "    \n"
      ],
      "metadata": {
        "id": "FeLH0IeFKHGm"
      },
      "execution_count": 91,
      "outputs": []
    },
    {
      "cell_type": "code",
      "source": [
        "model.summary()"
      ],
      "metadata": {
        "colab": {
          "base_uri": "https://localhost:8080/"
        },
        "id": "J_vM5HQDLA3K",
        "outputId": "7643b770-2f49-4b5f-d52b-7820fce88586"
      },
      "execution_count": 92,
      "outputs": [
        {
          "output_type": "stream",
          "name": "stdout",
          "text": [
            "Model: \"sequential_4\"\n",
            "_________________________________________________________________\n",
            " Layer (type)                Output Shape              Param #   \n",
            "=================================================================\n",
            " dense_16 (Dense)            (None, 8)                 72        \n",
            "                                                                 \n",
            " dense_17 (Dense)            (None, 8)                 72        \n",
            "                                                                 \n",
            " dense_18 (Dense)            (None, 5)                 45        \n",
            "                                                                 \n",
            " dense_19 (Dense)            (None, 1)                 6         \n",
            "                                                                 \n",
            "=================================================================\n",
            "Total params: 195\n",
            "Trainable params: 195\n",
            "Non-trainable params: 0\n",
            "_________________________________________________________________\n"
          ]
        }
      ]
    },
    {
      "cell_type": "markdown",
      "source": [
        "**Train DNN Model**\n"
      ],
      "metadata": {
        "id": "vkHOA1DxP8D7"
      }
    },
    {
      "cell_type": "code",
      "source": [
        "cb = tf.keras.callbacks.EarlyStopping(monitor='val_loss', patience = 5)\n",
        "model = model\n",
        "predict_on_untrained = model.predict(x_test)\n",
        "history = model.fit(x_train,y_train, validation_data=(x_test, y_test), epochs = 100, callbacks=[cb])"
      ],
      "metadata": {
        "colab": {
          "base_uri": "https://localhost:8080/"
        },
        "id": "ot1_3ewBQAKd",
        "outputId": "4d1ba70f-0fd6-4c47-84d6-6949a67a9c2c"
      },
      "execution_count": 93,
      "outputs": [
        {
          "output_type": "stream",
          "name": "stdout",
          "text": [
            "6/6 [==============================] - 0s 3ms/step\n",
            "Epoch 1/100\n",
            "23/23 [==============================] - 1s 11ms/step - loss: 1.0668 - val_loss: 1.7787\n",
            "Epoch 2/100\n",
            "23/23 [==============================] - 0s 4ms/step - loss: 0.8469 - val_loss: 1.4571\n",
            "Epoch 3/100\n",
            "23/23 [==============================] - 0s 4ms/step - loss: 0.7106 - val_loss: 1.2656\n",
            "Epoch 4/100\n",
            "23/23 [==============================] - 0s 4ms/step - loss: 0.6310 - val_loss: 1.1858\n",
            "Epoch 5/100\n",
            "23/23 [==============================] - 0s 3ms/step - loss: 0.5803 - val_loss: 1.1092\n",
            "Epoch 6/100\n",
            "23/23 [==============================] - 0s 4ms/step - loss: 0.5342 - val_loss: 1.0093\n",
            "Epoch 7/100\n",
            "23/23 [==============================] - 0s 4ms/step - loss: 0.4919 - val_loss: 0.9016\n",
            "Epoch 8/100\n",
            "23/23 [==============================] - 0s 4ms/step - loss: 0.4433 - val_loss: 0.8306\n",
            "Epoch 9/100\n",
            "23/23 [==============================] - 0s 4ms/step - loss: 0.4055 - val_loss: 0.7260\n",
            "Epoch 10/100\n",
            "23/23 [==============================] - 0s 4ms/step - loss: 0.3587 - val_loss: 0.6428\n",
            "Epoch 11/100\n",
            "23/23 [==============================] - 0s 4ms/step - loss: 0.3155 - val_loss: 0.5533\n",
            "Epoch 12/100\n",
            "23/23 [==============================] - 0s 3ms/step - loss: 0.2768 - val_loss: 0.4657\n",
            "Epoch 13/100\n",
            "23/23 [==============================] - 0s 5ms/step - loss: 0.2377 - val_loss: 0.3823\n",
            "Epoch 14/100\n",
            "23/23 [==============================] - 0s 4ms/step - loss: 0.2018 - val_loss: 0.3087\n",
            "Epoch 15/100\n",
            "23/23 [==============================] - 0s 4ms/step - loss: 0.1673 - val_loss: 0.2513\n",
            "Epoch 16/100\n",
            "23/23 [==============================] - 0s 4ms/step - loss: 0.1384 - val_loss: 0.1938\n",
            "Epoch 17/100\n",
            "23/23 [==============================] - 0s 5ms/step - loss: 0.1123 - val_loss: 0.1524\n",
            "Epoch 18/100\n",
            "23/23 [==============================] - 0s 4ms/step - loss: 0.0918 - val_loss: 0.1195\n",
            "Epoch 19/100\n",
            "23/23 [==============================] - 0s 4ms/step - loss: 0.0753 - val_loss: 0.0866\n",
            "Epoch 20/100\n",
            "23/23 [==============================] - 0s 4ms/step - loss: 0.0627 - val_loss: 0.0674\n",
            "Epoch 21/100\n",
            "23/23 [==============================] - 0s 5ms/step - loss: 0.0534 - val_loss: 0.0550\n",
            "Epoch 22/100\n",
            "23/23 [==============================] - 0s 4ms/step - loss: 0.0475 - val_loss: 0.0462\n",
            "Epoch 23/100\n",
            "23/23 [==============================] - 0s 4ms/step - loss: 0.0427 - val_loss: 0.0423\n",
            "Epoch 24/100\n",
            "23/23 [==============================] - 0s 5ms/step - loss: 0.0397 - val_loss: 0.0382\n",
            "Epoch 25/100\n",
            "23/23 [==============================] - 0s 4ms/step - loss: 0.0373 - val_loss: 0.0363\n",
            "Epoch 26/100\n",
            "23/23 [==============================] - 0s 5ms/step - loss: 0.0355 - val_loss: 0.0346\n",
            "Epoch 27/100\n",
            "23/23 [==============================] - 0s 4ms/step - loss: 0.0334 - val_loss: 0.0330\n",
            "Epoch 28/100\n",
            "23/23 [==============================] - 0s 5ms/step - loss: 0.0319 - val_loss: 0.0319\n",
            "Epoch 29/100\n",
            "23/23 [==============================] - 0s 4ms/step - loss: 0.0306 - val_loss: 0.0309\n",
            "Epoch 30/100\n",
            "23/23 [==============================] - 0s 5ms/step - loss: 0.0293 - val_loss: 0.0301\n",
            "Epoch 31/100\n",
            "23/23 [==============================] - 0s 5ms/step - loss: 0.0279 - val_loss: 0.0291\n",
            "Epoch 32/100\n",
            "23/23 [==============================] - 0s 5ms/step - loss: 0.0269 - val_loss: 0.0284\n",
            "Epoch 33/100\n",
            "23/23 [==============================] - 0s 4ms/step - loss: 0.0257 - val_loss: 0.0273\n",
            "Epoch 34/100\n",
            "23/23 [==============================] - 0s 6ms/step - loss: 0.0247 - val_loss: 0.0267\n",
            "Epoch 35/100\n",
            "23/23 [==============================] - 0s 4ms/step - loss: 0.0237 - val_loss: 0.0261\n",
            "Epoch 36/100\n",
            "23/23 [==============================] - 0s 4ms/step - loss: 0.0229 - val_loss: 0.0250\n",
            "Epoch 37/100\n",
            "23/23 [==============================] - 0s 5ms/step - loss: 0.0221 - val_loss: 0.0245\n",
            "Epoch 38/100\n",
            "23/23 [==============================] - 0s 4ms/step - loss: 0.0212 - val_loss: 0.0238\n",
            "Epoch 39/100\n",
            "23/23 [==============================] - 0s 4ms/step - loss: 0.0205 - val_loss: 0.0233\n",
            "Epoch 40/100\n",
            "23/23 [==============================] - 0s 3ms/step - loss: 0.0200 - val_loss: 0.0229\n",
            "Epoch 41/100\n",
            "23/23 [==============================] - 0s 3ms/step - loss: 0.0193 - val_loss: 0.0218\n",
            "Epoch 42/100\n",
            "23/23 [==============================] - 0s 4ms/step - loss: 0.0185 - val_loss: 0.0217\n",
            "Epoch 43/100\n",
            "23/23 [==============================] - 0s 4ms/step - loss: 0.0178 - val_loss: 0.0206\n",
            "Epoch 44/100\n",
            "23/23 [==============================] - 0s 3ms/step - loss: 0.0173 - val_loss: 0.0202\n",
            "Epoch 45/100\n",
            "23/23 [==============================] - 0s 5ms/step - loss: 0.0169 - val_loss: 0.0195\n",
            "Epoch 46/100\n",
            "23/23 [==============================] - 0s 9ms/step - loss: 0.0162 - val_loss: 0.0189\n",
            "Epoch 47/100\n",
            "23/23 [==============================] - 0s 6ms/step - loss: 0.0157 - val_loss: 0.0187\n",
            "Epoch 48/100\n",
            "23/23 [==============================] - 0s 8ms/step - loss: 0.0153 - val_loss: 0.0178\n",
            "Epoch 49/100\n",
            "23/23 [==============================] - 0s 14ms/step - loss: 0.0149 - val_loss: 0.0171\n",
            "Epoch 50/100\n",
            "23/23 [==============================] - 0s 7ms/step - loss: 0.0146 - val_loss: 0.0168\n",
            "Epoch 51/100\n",
            "23/23 [==============================] - 0s 11ms/step - loss: 0.0142 - val_loss: 0.0164\n",
            "Epoch 52/100\n",
            "23/23 [==============================] - 0s 13ms/step - loss: 0.0138 - val_loss: 0.0161\n",
            "Epoch 53/100\n",
            "23/23 [==============================] - 0s 9ms/step - loss: 0.0136 - val_loss: 0.0154\n",
            "Epoch 54/100\n",
            "23/23 [==============================] - 0s 11ms/step - loss: 0.0132 - val_loss: 0.0151\n",
            "Epoch 55/100\n",
            "23/23 [==============================] - 0s 7ms/step - loss: 0.0128 - val_loss: 0.0146\n",
            "Epoch 56/100\n",
            "23/23 [==============================] - 0s 8ms/step - loss: 0.0124 - val_loss: 0.0143\n",
            "Epoch 57/100\n",
            "23/23 [==============================] - 0s 16ms/step - loss: 0.0121 - val_loss: 0.0139\n",
            "Epoch 58/100\n",
            "23/23 [==============================] - 0s 16ms/step - loss: 0.0117 - val_loss: 0.0134\n",
            "Epoch 59/100\n",
            "23/23 [==============================] - 0s 17ms/step - loss: 0.0118 - val_loss: 0.0129\n",
            "Epoch 60/100\n",
            "23/23 [==============================] - 0s 14ms/step - loss: 0.0112 - val_loss: 0.0128\n",
            "Epoch 61/100\n",
            "23/23 [==============================] - 0s 5ms/step - loss: 0.0108 - val_loss: 0.0122\n",
            "Epoch 62/100\n",
            "23/23 [==============================] - 0s 4ms/step - loss: 0.0105 - val_loss: 0.0118\n",
            "Epoch 63/100\n",
            "23/23 [==============================] - 0s 5ms/step - loss: 0.0102 - val_loss: 0.0115\n",
            "Epoch 64/100\n",
            "23/23 [==============================] - 0s 4ms/step - loss: 0.0100 - val_loss: 0.0112\n",
            "Epoch 65/100\n",
            "23/23 [==============================] - 0s 4ms/step - loss: 0.0097 - val_loss: 0.0109\n",
            "Epoch 66/100\n",
            "23/23 [==============================] - 0s 4ms/step - loss: 0.0097 - val_loss: 0.0108\n",
            "Epoch 67/100\n",
            "23/23 [==============================] - 0s 3ms/step - loss: 0.0090 - val_loss: 0.0107\n",
            "Epoch 68/100\n",
            "23/23 [==============================] - 0s 4ms/step - loss: 0.0086 - val_loss: 0.0091\n",
            "Epoch 69/100\n",
            "23/23 [==============================] - 0s 3ms/step - loss: 0.0074 - val_loss: 0.0058\n",
            "Epoch 70/100\n",
            "23/23 [==============================] - 0s 4ms/step - loss: 0.0067 - val_loss: 0.0053\n",
            "Epoch 71/100\n",
            "23/23 [==============================] - 0s 4ms/step - loss: 0.0063 - val_loss: 0.0052\n",
            "Epoch 72/100\n",
            "23/23 [==============================] - 0s 4ms/step - loss: 0.0061 - val_loss: 0.0049\n",
            "Epoch 73/100\n",
            "23/23 [==============================] - 0s 3ms/step - loss: 0.0057 - val_loss: 0.0048\n",
            "Epoch 74/100\n",
            "23/23 [==============================] - 0s 4ms/step - loss: 0.0056 - val_loss: 0.0047\n",
            "Epoch 75/100\n",
            "23/23 [==============================] - 0s 4ms/step - loss: 0.0055 - val_loss: 0.0046\n",
            "Epoch 76/100\n",
            "23/23 [==============================] - 0s 5ms/step - loss: 0.0053 - val_loss: 0.0046\n",
            "Epoch 77/100\n",
            "23/23 [==============================] - 0s 4ms/step - loss: 0.0053 - val_loss: 0.0045\n",
            "Epoch 78/100\n",
            "23/23 [==============================] - 0s 4ms/step - loss: 0.0052 - val_loss: 0.0045\n",
            "Epoch 79/100\n",
            "23/23 [==============================] - 0s 4ms/step - loss: 0.0050 - val_loss: 0.0044\n",
            "Epoch 80/100\n",
            "23/23 [==============================] - 0s 4ms/step - loss: 0.0049 - val_loss: 0.0046\n",
            "Epoch 81/100\n",
            "23/23 [==============================] - 0s 4ms/step - loss: 0.0051 - val_loss: 0.0047\n",
            "Epoch 82/100\n",
            "23/23 [==============================] - 0s 4ms/step - loss: 0.0049 - val_loss: 0.0045\n",
            "Epoch 83/100\n",
            "23/23 [==============================] - 0s 3ms/step - loss: 0.0047 - val_loss: 0.0045\n",
            "Epoch 84/100\n",
            "23/23 [==============================] - 0s 4ms/step - loss: 0.0047 - val_loss: 0.0044\n",
            "Epoch 85/100\n",
            "23/23 [==============================] - 0s 5ms/step - loss: 0.0046 - val_loss: 0.0044\n",
            "Epoch 86/100\n",
            "23/23 [==============================] - 0s 5ms/step - loss: 0.0045 - val_loss: 0.0045\n",
            "Epoch 87/100\n",
            "23/23 [==============================] - 0s 3ms/step - loss: 0.0045 - val_loss: 0.0046\n",
            "Epoch 88/100\n",
            "23/23 [==============================] - 0s 4ms/step - loss: 0.0043 - val_loss: 0.0044\n",
            "Epoch 89/100\n",
            "23/23 [==============================] - 0s 5ms/step - loss: 0.0043 - val_loss: 0.0046\n"
          ]
        }
      ]
    },
    {
      "cell_type": "markdown",
      "source": [
        "Plot Training and Validation Loss"
      ],
      "metadata": {
        "id": "NVmmOLQGRfCI"
      }
    },
    {
      "cell_type": "code",
      "source": [
        "def plot_loss(history):\n",
        "  plt.plot(history.history['loss'], label='loss')\n",
        "  plt.plot(history.history['val_loss'], label='val_loss')\n",
        "  plt.ylim([0, 10])\n",
        "  plt.xlabel('Epoch')\n",
        "  plt.ylabel('Error [Mineral Land Value]')\n",
        "  plt.legend()\n",
        "  plt.grid(True)\n",
        "plot_loss(history)"
      ],
      "metadata": {
        "colab": {
          "base_uri": "https://localhost:8080/",
          "height": 283
        },
        "id": "uhTGDcSqRjE0",
        "outputId": "fed321f7-3c3f-49df-fb01-64df1011f61b"
      },
      "execution_count": 94,
      "outputs": [
        {
          "output_type": "display_data",
          "data": {
            "text/plain": [
              "<Figure size 432x288 with 1 Axes>"
            ],
            "image/png": "[encoded data removed]"
          },
          "metadata": {
            "needs_background": "light"
          }
        }
      ]
    },
    {
      "cell_type": "markdown",
      "source": [
        "**Predictions**"
      ],
      "metadata": {
        "id": "0uwPV4BsTqwd"
      }
    },
    {
      "cell_type": "code",
      "source": [
        "Preds_on_trained = model.predict(x_test)\n",
        "Preds_on_trained.shape\n",
        "Preds_on_trained\n",
        "   "
      ],
      "metadata": {
        "colab": {
          "base_uri": "https://localhost:8080/"
        },
        "id": "RSGzNhWig5Ep",
        "outputId": "34cd6973-96d0-4775-c182-da5c0c7d4e40"
      },
      "execution_count": 95,
      "outputs": [
        {
          "output_type": "stream",
          "name": "stdout",
          "text": [
            "6/6 [==============================] - 0s 3ms/step\n"
          ]
        },
        {
          "output_type": "execute_result",
          "data": {
            "text/plain": [
              "array([[-3.15620363e-01],\n",
              "       [ 1.01424038e+00],\n",
              "       [-1.72611758e-01],\n",
              "       [ 6.95794702e-01],\n",
              "       [-3.09123039e-01],\n",
              "       [-2.96863496e-01],\n",
              "       [-3.28375757e-01],\n",
              "       [-1.96275041e-01],\n",
              "       [-2.82008231e-01],\n",
              "       [-3.16143811e-01],\n",
              "       [-3.26369107e-01],\n",
              "       [-3.51194590e-02],\n",
              "       [-2.85189390e-01],\n",
              "       [ 4.06794846e-02],\n",
              "       [-2.96109378e-01],\n",
              "       [-3.17819476e-01],\n",
              "       [-2.42395982e-01],\n",
              "       [ 2.50328588e+00],\n",
              "       [-1.19134024e-01],\n",
              "       [-2.94635177e-01],\n",
              "       [-3.25071573e-01],\n",
              "       [-2.16287121e-01],\n",
              "       [-2.74111032e-01],\n",
              "       [-3.31967235e-01],\n",
              "       [-2.76898921e-01],\n",
              "       [-3.10762167e-01],\n",
              "       [-3.19685459e-01],\n",
              "       [-2.62842655e-01],\n",
              "       [-3.26261938e-01],\n",
              "       [-3.15845788e-01],\n",
              "       [ 1.46150768e-01],\n",
              "       [-3.21018696e-01],\n",
              "       [ 7.75825083e-02],\n",
              "       [-1.85061738e-01],\n",
              "       [-1.72123417e-01],\n",
              "       [-2.71476686e-01],\n",
              "       [ 7.29683578e-01],\n",
              "       [-2.91637242e-01],\n",
              "       [-3.21046054e-01],\n",
              "       [-3.04645777e-01],\n",
              "       [-3.13291907e-01],\n",
              "       [ 2.76194155e-01],\n",
              "       [-2.78795540e-01],\n",
              "       [-2.55402148e-01],\n",
              "       [ 2.76154935e-01],\n",
              "       [-3.28828394e-01],\n",
              "       [-2.37562433e-01],\n",
              "       [-2.98231900e-01],\n",
              "       [-3.02901089e-01],\n",
              "       [-2.64216065e-01],\n",
              "       [ 1.95387936e+00],\n",
              "       [-2.35841647e-01],\n",
              "       [ 3.00953090e-01],\n",
              "       [-3.12335551e-01],\n",
              "       [ 1.20368266e+00],\n",
              "       [-9.04485434e-02],\n",
              "       [ 2.66745996e+00],\n",
              "       [ 5.96141624e+00],\n",
              "       [-3.10631692e-01],\n",
              "       [-3.14006746e-01],\n",
              "       [-3.14185560e-01],\n",
              "       [-3.39693904e-01],\n",
              "       [-3.22324097e-01],\n",
              "       [ 2.61395931e-01],\n",
              "       [-2.94198275e-01],\n",
              "       [-2.21431240e-01],\n",
              "       [-3.21472228e-01],\n",
              "       [-2.96110988e-01],\n",
              "       [-3.32903445e-01],\n",
              "       [-3.01511288e-01],\n",
              "       [ 5.50251722e-01],\n",
              "       [-9.96585190e-03],\n",
              "       [-2.88485765e-01],\n",
              "       [-3.32947493e-01],\n",
              "       [-2.98078597e-01],\n",
              "       [-2.78456867e-01],\n",
              "       [ 1.54646143e-01],\n",
              "       [ 5.73784858e-02],\n",
              "       [-2.79721975e-01],\n",
              "       [-3.20340335e-01],\n",
              "       [ 9.05087590e-03],\n",
              "       [ 9.90529156e+00],\n",
              "       [-2.46211782e-01],\n",
              "       [ 8.84740725e-02],\n",
              "       [-1.72067329e-01],\n",
              "       [ 4.80213240e-02],\n",
              "       [-3.16462338e-01],\n",
              "       [ 3.59783918e-02],\n",
              "       [-2.97584951e-01],\n",
              "       [-2.91638553e-01],\n",
              "       [-3.11757445e-01],\n",
              "       [-2.43533537e-01],\n",
              "       [-3.08836162e-01],\n",
              "       [-3.28159988e-01],\n",
              "       [-3.21016133e-01],\n",
              "       [-3.05409491e-01],\n",
              "       [-1.02978155e-01],\n",
              "       [-3.15609336e-01],\n",
              "       [-2.99443245e-01],\n",
              "       [-3.10507119e-01],\n",
              "       [-7.55322576e-02],\n",
              "       [-3.01222384e-01],\n",
              "       [ 5.87189913e+00],\n",
              "       [-2.63789177e-01],\n",
              "       [-3.16979825e-01],\n",
              "       [-1.00154772e-01],\n",
              "       [-3.10144186e-01],\n",
              "       [-1.54053792e-01],\n",
              "       [-2.68018067e-01],\n",
              "       [-7.22586364e-02],\n",
              "       [-1.85723111e-01],\n",
              "       [-1.38593838e-01],\n",
              "       [ 1.05731177e+00],\n",
              "       [-2.88631678e-01],\n",
              "       [-3.14112365e-01],\n",
              "       [ 4.73115861e-01],\n",
              "       [-2.82418787e-01],\n",
              "       [-1.49311587e-01],\n",
              "       [-3.02854776e-01],\n",
              "       [ 5.93141764e-02],\n",
              "       [-3.30851257e-01],\n",
              "       [ 9.82404709e+00],\n",
              "       [ 4.51184630e-01],\n",
              "       [ 2.30801329e-01],\n",
              "       [-2.95002460e-01],\n",
              "       [-3.23733330e-01],\n",
              "       [-3.13806951e-01],\n",
              "       [-3.30269754e-01],\n",
              "       [-3.11219931e-01],\n",
              "       [-3.07863772e-01],\n",
              "       [ 5.93747675e-01],\n",
              "       [-1.90766439e-01],\n",
              "       [-2.38486633e-01],\n",
              "       [-3.12242210e-01],\n",
              "       [-3.15759957e-01],\n",
              "       [-2.66856074e-01],\n",
              "       [-2.99703062e-01],\n",
              "       [-3.15976083e-01],\n",
              "       [-3.14904094e-01],\n",
              "       [-3.04637551e-01],\n",
              "       [-3.72260034e-01],\n",
              "       [-2.59532511e-01],\n",
              "       [-3.21524203e-01],\n",
              "       [-2.91637659e-01],\n",
              "       [-1.78861603e-01],\n",
              "       [ 5.59415579e-01],\n",
              "       [-2.62329340e-01],\n",
              "       [-3.11850309e-01],\n",
              "       [-3.04983109e-02],\n",
              "       [-3.04291844e-01],\n",
              "       [-2.09841684e-01],\n",
              "       [-2.56079853e-01],\n",
              "       [-3.04813385e-01],\n",
              "       [-3.16084802e-01],\n",
              "       [-3.12484264e-01],\n",
              "       [-2.82886565e-01],\n",
              "       [-3.09629083e-01],\n",
              "       [-3.12825501e-01],\n",
              "       [-2.05937400e-01],\n",
              "       [-3.24316859e-01],\n",
              "       [-3.61304581e-02],\n",
              "       [-3.11340749e-01],\n",
              "       [-3.21142852e-01],\n",
              "       [ 1.88709900e-01],\n",
              "       [-3.10247540e-01],\n",
              "       [ 2.71904528e-01],\n",
              "       [-3.60869467e-01],\n",
              "       [ 2.33481213e-01],\n",
              "       [-1.42156318e-01],\n",
              "       [-2.30914786e-01],\n",
              "       [ 4.96927649e-02],\n",
              "       [-3.15679967e-01],\n",
              "       [-3.05448651e-01],\n",
              "       [-3.05452287e-01],\n",
              "       [-3.23793292e-01],\n",
              "       [-3.25137734e-01],\n",
              "       [-3.07076097e-01],\n",
              "       [ 2.11404413e-01],\n",
              "       [-2.63290048e-01],\n",
              "       [-3.54455650e-01],\n",
              "       [-3.04529309e-01]], dtype=float32)"
            ]
          },
          "metadata": {},
          "execution_count": 95
        }
      ]
    },
    {
      "cell_type": "markdown",
      "source": [
        "Test on orignal dataset values"
      ],
      "metadata": {
        "id": "Sxy0PeAZzxUp"
      }
    },
    {
      "cell_type": "code",
      "source": [
        "test_data = np.array([-0.178029, -0.518005,\t0.198306,\t-0.267079,\t-0.492902,\t0.167098,\t-0.150257,\t-1.239117])\n",
        "\n",
        "test_data.reshape(1,8)"
      ],
      "metadata": {
        "colab": {
          "base_uri": "https://localhost:8080/"
        },
        "id": "UhQRAg0tuyaW",
        "outputId": "b8ffa76b-fc77-479d-a000-bcb57f3cf7ac"
      },
      "execution_count": 100,
      "outputs": [
        {
          "output_type": "execute_result",
          "data": {
            "text/plain": [
              "array([[-0.178029, -0.518005,  0.198306, -0.267079, -0.492902,  0.167098,\n",
              "        -0.150257, -1.239117]])"
            ]
          },
          "metadata": {},
          "execution_count": 100
        }
      ]
    },
    {
      "cell_type": "code",
      "source": [
        "print(model.predict(test_data.reshape(1,8),batch_size=1))"
      ],
      "metadata": {
        "colab": {
          "base_uri": "https://localhost:8080/"
        },
        "id": "tJtI6nXEwYyL",
        "outputId": "6b4e7914-c86c-415c-ff53-e23f3addce9a"
      },
      "execution_count": 101,
      "outputs": [
        {
          "output_type": "stream",
          "name": "stdout",
          "text": [
            "1/1 [==============================] - 0s 21ms/step\n",
            "[[-0.29597604]]\n"
          ]
        }
      ]
    },
    {
      "cell_type": "code",
      "source": [
        "print('This is the value predicted mineral land value from input parameters',convert_label_value(-0.7161517),\"Million USD dollars\")"
      ],
      "metadata": {
        "colab": {
          "base_uri": "https://localhost:8080/"
        },
        "id": "CsnmDgOqyhY4",
        "outputId": "99453bd2-86d8-4799-e09d-a876720adbe2"
      },
      "execution_count": 102,
      "outputs": [
        {
          "output_type": "stream",
          "name": "stdout",
          "text": [
            "This is the value predicted mineral land value from input parameters -283459 Million USD dollars\n"
          ]
        }
      ]
    },
    {
      "cell_type": "markdown",
      "source": [
        "**Creat User Interface**\n",
        "\n",
        "This is when the customer enters in the parameters then they receive a predicted mineral price "
      ],
      "metadata": {
        "id": "tmzq86d7z4m1"
      }
    },
    {
      "cell_type": "code",
      "source": [
        "print(' Welcome to our mineral land prediction software!!!','\\n','If you would like to make a prediction, please enter the following values')\n",
        "print('Input Parameters')\n",
        "a= float(input('RES_QTY_MILLION_TONNES: '))\n",
        "b = float(input('RES_QTY_GRAM_TONNE: '))\n",
        "c = float(input('RES_CON_KILOGRAM: '))\n",
        "d = float(input('RV_QTY_million_tonnes: '))\n",
        "e = float(input('RV_QTY_AVG_GRAM_TONNE: '))\n",
        "f = float(input('POINT_SIZE_KILOGRAM: '))\n",
        "g = float(input('GOLD_PRICE_USD: '))\n",
        "h = float(input('COMM_CODE: '))\n",
        "\n",
        "testdata = np.array([a,b,c,d,e,f,g,h])\n",
        "print('Mineral Land Value in USD Millions =>',model.predict(testdata.reshape(1,8),batch_size=1))\n",
        "\n",
        "\n",
        "#print('This is the value predicted mineral land value from input parameters',convert_label_value(-0.7161517),\"Million USD dollars\")"
      ],
      "metadata": {
        "colab": {
          "base_uri": "https://localhost:8080/"
        },
        "id": "MDqBb4-oz68y",
        "outputId": "077d91ed-dda9-4075-bf0a-120eb2101b57"
      },
      "execution_count": 104,
      "outputs": [
        {
          "output_type": "stream",
          "name": "stdout",
          "text": [
            " Welcome to our mineral land prediction software!!! \n",
            " If you would like to make a prediction, please enter the following values\n",
            "Input Parameters\n",
            "RES_QTY_MILLION_TONNES: 123\n",
            "RES_QTY_GRAM_TONNE: 3445\n",
            "RES_CON_KILOGRAM: 644\n",
            "RV_QTY_million_tonnes: 51561\n",
            "RV_QTY_G_GRAM_TONNE: 15\n",
            "POINT_SIZE_KILOGRAM): 51565\n",
            "GOLD_PRICE_USD: 515151\n",
            "COMM_CODE: 111\n",
            "1/1 [==============================] - 0s 19ms/step\n",
            "1/1 [==============================] - 0s 17ms/step\n",
            "Mineral Land Value in USD Millions => [[18912.076]]\n"
          ]
        },
        {
          "output_type": "execute_result",
          "data": {
            "text/plain": [
              "array([[18912.076]], dtype=float32)"
            ]
          },
          "metadata": {},
          "execution_count": 104
        }
      ]
    }
  ]
}